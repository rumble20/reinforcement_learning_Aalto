{
 "cells": [
  {
   "cell_type": "markdown",
   "id": "8323a86e",
   "metadata": {
    "deletable": false,
    "editable": false,
    "nbgrader": {
     "cell_type": "markdown",
     "checksum": "968ecb4cb3b8623792cd5938edc4ea1b",
     "grade": false,
     "grade_id": "cell-47bfc0ea1447f571",
     "locked": true,
     "schema_version": 3,
     "solution": false,
     "task": false
    }
   },
   "source": [
    "\n",
    "<div class=\"alert alert-block alert-info\">\n",
    "   <h2 align=\"center\"> <center><b> Reinforcement Learning Assignment 6 - Actor Critic part 1 </b></center></h2>\n",
    "\n",
    "<br>\n",
    "<center><font size=\"3\">This notebook is part of the teaching material for ELEC-E8125</font></center>\n",
    "<center><font size=\"3\">Aalto University</font></center>\n",
    "</div>\n",
    "\n",
    "\n",
    "<a id='TOC'></a>\n",
    "\n",
    "<div class=\"alert alert-block alert-success\">\n",
    "    \n",
    "# Table of contents\n",
    "* <a href='#1.'> 1. Introduction </a>\n",
    "* <a href='#1.1'> 1.1 Learning Objectives </a>\n",
    "* <a href='#1.2'> 1.2 Code Structure & Files </a>\n",
    "* <a href='#2.'> 2. Policy Gradient with a Critic </a>\n",
    "* <a href='#3.'> 3. Submitting </a>\n",
    "* <a href='#3.1'> 3.1 Feedback </a>\n",
    "* <a href='#4.'> References</a>\n",
    "\n",
    "<a href='#T1'><b>Student Task 1.</b> Implementing PG with critic (20 points)</a>\\\n",
    "<a href='#Q1'><b>Student Question 1.1</b> Relationship between actor-critic and REINFORCE with baseline (10 points)</a>\\\n",
    "<a href='#Q2'><b>Student Question 1.2</b> Advantage (5 points)  </a>\\\n",
    "<a href='#Q3'><b>Student Question 1.3</b> Bias and Variance Analysis (10 points) </a>\\\n",
    "<a href='#Q4'><b>Student Question 1.4</b> Controlling bias-variance tradeoff (10 points)</a>\n",
    "    \n",
    "**Total Points:** 55\n",
    "\n",
    "**Estimated runtime of all the cells:** 1 hour"
   ]
  },
  {
   "cell_type": "markdown",
   "id": "ab53631b",
   "metadata": {
    "deletable": false,
    "editable": false,
    "nbgrader": {
     "cell_type": "markdown",
     "checksum": "a4ce01f58b207f5715f395b180619b9e",
     "grade": false,
     "grade_id": "cell-6ef87fd4c2d2cc44",
     "locked": true,
     "schema_version": 3,
     "solution": false,
     "task": false
    }
   },
   "source": [
    "# 1. Introduction <a id='1.'></a>\n",
    "\n",
    "In this assignment, we will implement an actor-critic reinforcement learning algorithm which combines elements of both value-based methods (critic) and policy-based methods (actor) to improve learning and stability in the **InvertedPendulum-v4**  environment.\n",
    "\n",
    "## 1.1 Task environments: <a id='1.1'></a>\n",
    "\n",
    "In this exercise, we will focus on InvertedPendulum-v4 tasks:\n",
    "- InvertedPendulum-v4(https://gymnasium.farama.org/environments/mujoco/inverted_pendulum/): This environment is similar to the cartpole environment but now powered by the Mujoco physics simulator - allowing for more complex experiments (such as varying the effects of gravity). This environment involves a cart that moves horizontally, with a pole fixed on the cart at one end and the other end of the pole moving freely. The cart can be pushed left or right. The goal is to move the pole such that it is vertically above the cart pointing straight up by applying horizontal forces on the cart.\n",
    "<figure style=\"text-align: center\">\n",
    "    <img src=\"imgs/InvertedPendulum.png\" width=\"300\"/>\n",
    "    <figcaption style=\"text-align: center\">  Figure 1: The InvertedPendulum-v4 environment. </figcaption>\n",
    "</figure>\n",
    "\n",
    "## 1.2 Learning Objectives: <a id='1.1'></a>\n",
    "\n",
    "- Understand the idea of actor-critic algorithms\n",
    "- Understand the limits and use cases of actor-critics\n",
    "\n",
    "## 1.3 Code Structure & Files <a id='1.2'></a>\n",
    "\n",
    "```ex6_PG_AC.ipynb``` is the file needed to be modified for this part of the assignment.  \n",
    "\n",
    "<span style=\"color:red\"> **# IMPORTANT: DO NOT FORGET ANOTHER PART IN ```ex6_DDPG.ipynb```** </span>\n",
    "\n",
    "```\n",
    "├───cfg                            # Config files for environments\n",
    "├───imgs                           # Images used in notebook\n",
    "├───results\n",
    "│   └───HalfCheetah-v4\n",
    "│   │   ├───logging                \n",
    "│   │   │    └───logging.pkl        # Contains logged data\n",
    "│   │   ├───model              \n",
    "│   │   │    └───*HalfCheetah-v4_params.pt    # Contains trained model\n",
    "│   │   └───video                   # Videos saved\n",
    "│   │   └───*ddpg.png               # Contains training performance plot\n",
    "│   └───InvertedPendulum-v4\n",
    "│   │   ├───logging                \n",
    "│   │   │    └───logging.pkl        # Contains logged data\n",
    "│   │   ├───model              \n",
    "│   │   │    └───*InvertedPendulum-v4_params.pt      # Contains trained model\n",
    "│   │   └───video                   # Videos saved\n",
    "│   │   └───*pg_ac.png              # Contains training performance plot\n",
    "│   ex6_DDPG.ipynb                  # 2nd assignment file containing tasks <---------\n",
    "│   ex6_PG_AC.ipynb                 # 1st assignment file containing tasks <---------This task\n",
    "│   train.py                        # Contains train and test functions \n",
    "│   utils.py                        # Contains useful functions \n",
    "└───buffer.py                       # Contains buffer functions\n",
    "```\n",
    "\n",
    "## 1.4 Execution time <a id='1.4'></a>\n",
    "\n",
    "The training of Actor-Critic may take more than 30 mins depending on the server load. If you have problems with the training time, you can train locally."
   ]
  },
  {
   "cell_type": "markdown",
   "id": "36ef1c90",
   "metadata": {
    "deletable": false,
    "editable": false,
    "nbgrader": {
     "cell_type": "markdown",
     "checksum": "e2a4fdb4406c82cbf0924a4ae9fd56ca",
     "grade": false,
     "grade_id": "cell-76eb1e3dcf217198",
     "locked": true,
     "schema_version": 3,
     "solution": false,
     "task": false
    }
   },
   "source": [
    "## Warnings:\n",
    "\n",
    "- Don’t copy and paste cells within a notebook. This will mess up the tracking metadata and prevent autograding from working.\n",
    "- Only add new cells using the '+' button in the upper toolbar and do not split cells.\n",
    "- Be cautious about things such as copying the whole notebook to Colab to work on it. This has sometimes resulted in removing all notebook metadata, making autograding impossible."
   ]
  },
  {
   "cell_type": "markdown",
   "id": "eb79df48",
   "metadata": {
    "deletable": false,
    "editable": false,
    "nbgrader": {
     "cell_type": "markdown",
     "checksum": "dd4a8717cd49c894ce9a4aa3a1895148",
     "grade": false,
     "grade_id": "cell-78fdf22a73920722",
     "locked": true,
     "schema_version": 3,
     "solution": false,
     "task": false
    }
   },
   "source": [
    "\n",
    "# 2. Policy Gradient with a Critic <a id='2.'></a>"
   ]
  },
  {
   "cell_type": "markdown",
   "id": "c584d11d",
   "metadata": {
    "deletable": false,
    "editable": false,
    "nbgrader": {
     "cell_type": "markdown",
     "checksum": "0439bebaa3d0d286f254868ab55e9939",
     "grade": false,
     "grade_id": "cell-61899a5dd880417b",
     "locked": true,
     "schema_version": 3,
     "solution": false,
     "task": false
    }
   },
   "source": [
    "<a id='T1'></a>\n",
    "<div class=\" alert alert-warning\">\n",
    "    <h3><b>Student Task 1.</b> Implement policy gradient (PG) with critic (20 points) </h3> \n",
    "\n",
    "Revisit the policy gradient solution for the InvertedPendulum from Exercise 5 with learned sigma if needed. Implement the actor-critic algorithm below. Perform TD(0) updates at the end of each episode. You can check the training performance plot in the result folder after running the plot cell. Take Figure 2 as a reference training plot. \n",
    "    \n",
    "**Hint:** Check out the PyTorch tutorial from [here](https://pytorch.org/tutorials/beginner/basics/autogradqs_tutorial.html) to see how to calculate the $A_\\theta \\Delta_\\theta \\log \\pi_\\theta(a_i|s_i)$ term using the ```detach()``` function. \n",
    "\n",
    "<figure style=\"text-align: center\">\n",
    "<img src=\"imgs/pg_ac.png\" width=\"400px\">\n",
    "<figcaption style=\"text-align: center\"> Figure 2: Training plot of the policy gradient with a critic.\n",
    "</figcaption>\n",
    "</figure>\n",
    "     \n",
    "**Complete the all the unfinished implementation in `PG` class (marked with ```TODOs```)**. \n",
    "    \n",
    "1. **Policy Network**: Finish the `__init__(self, state_dim, action_dim)` function and `forward(self, state)` function within the `Policy` class\n",
    "2. **Agent Update Function**: Finish the `update(self, )` function within the `PG` class\n",
    "3. **Get Action Method**: Finish the `get_action(self, observation, evaluation=False)` function within the `PG` class.\n",
    "    \n",
    "🔝\t<a href='#TOC'><b>Table of Contents</b></a>\n",
    "</div>\n"
   ]
  },
  {
   "cell_type": "code",
   "execution_count": 46,
   "id": "9dc0d42e",
   "metadata": {
    "tags": []
   },
   "outputs": [],
   "source": [
    "skip_training = True  # Set this flag to True before validation and submission"
   ]
  },
  {
   "cell_type": "code",
   "execution_count": null,
   "id": "489df71f",
   "metadata": {
    "deletable": false,
    "editable": false,
    "nbgrader": {
     "cell_type": "code",
     "checksum": "e4a46183e22c508d922baebfefbe6a0a",
     "grade": true,
     "grade_id": "cell-f54b5f40d174d5b2",
     "locked": true,
     "points": 0,
     "schema_version": 3,
     "solution": false,
     "task": false
    }
   },
   "outputs": [],
   "source": []
  },
  {
   "cell_type": "code",
   "execution_count": 5,
   "id": "fad4384f",
   "metadata": {
    "tags": []
   },
   "outputs": [],
   "source": [
    "import sys, os\n",
    "sys.path.insert(0, os.path.abspath(\"..\"))\n",
    "\n",
    "import numpy as np\n",
    "from pathlib import Path\n",
    "from IPython.display import Video\n",
    "\n",
    "import torch, yaml\n",
    "from torch import nn\n",
    "import torch.nn.functional as F\n",
    "from torch.distributions import Normal\n",
    "\n",
    "import train as t\n",
    "import utils as u\n",
    "\n",
    "device = 'cpu'"
   ]
  },
  {
   "cell_type": "code",
   "execution_count": 32,
   "id": "a6634d41",
   "metadata": {
    "tags": []
   },
   "outputs": [],
   "source": [
    "# Actor-critic agent\n",
    "def layer_init(layer, std=np.sqrt(2), bias_const=0.0):\n",
    "    torch.nn.init.orthogonal_(layer.weight, std)\n",
    "    torch.nn.init.constant_(layer.bias, bias_const)\n",
    "    return layer\n",
    "\n",
    "\n",
    "class Policy(nn.Module):\n",
    "    def __init__(self, state_dim, action_dim):\n",
    "        super().__init__()\n",
    "        # Create a neural network and use it for the mean of the policy.\n",
    "        # The size of the neural network here has been chosen such that \n",
    "        # it is not too big but should perform well in the tasks we want to look at.\n",
    "        self.actor_mean = nn.Sequential(\n",
    "            layer_init(nn.Linear(state_dim, 64)), nn.Tanh(),\n",
    "            layer_init(nn.Linear(64, 64)), nn.Tanh(),\n",
    "            layer_init(nn.Linear(64, action_dim), std=0.01),\n",
    "        )\n",
    "        \n",
    "        \"\"\"\n",
    "        # TODO: Implement actor_logstd as a learnable parameter\n",
    "        # Use log of std to make sure std (standard deviation) of the policy\n",
    "        # doesn't become negative during training\n",
    "        \"\"\"\n",
    "        self.actor_logstd = nn.Parameter(torch.zeros(action_dim))\n",
    "        \n",
    "    def forward(self, state):\n",
    "        # Get mean of a Normal distribution (the output of the neural network)\n",
    "        action_mean = self.actor_mean(state)\n",
    "\n",
    "        # Make sure action_logstd matches dimensions of action_mean\n",
    "        action_logstd = self.actor_logstd.expand_as(action_mean)\n",
    "\n",
    "        # Exponentiate the log std to get actual std\n",
    "        action_std = torch.exp(action_logstd)\n",
    "        \n",
    "        \"\"\"\n",
    "        # TODO: Create a Normal distribution with mean of 'action_mean' & standard deviation of 'action_logstd' \n",
    "        # and return the distribution. You should be using the torch.distributions.Normal class to create the distribution.\n",
    "        \"\"\"\n",
    "        probs = Normal(action_mean, action_std)\n",
    "        return probs\n",
    "\n",
    "    \n",
    "class Value(nn.Module):\n",
    "    def __init__(self, state_dim):\n",
    "        super().__init__()\n",
    "        self.value = nn.Sequential(\n",
    "            layer_init(nn.Linear(state_dim, 64)), nn.Tanh(),\n",
    "            layer_init(nn.Linear(64, 64)), nn.Tanh(),\n",
    "            layer_init(nn.Linear(64, 1)))\n",
    "    \n",
    "    def forward(self, x):\n",
    "        return self.value(x).squeeze(1) # output shape [batch,]\n",
    "\n",
    "\n",
    "class PG(object):\n",
    "    def __init__(self, state_dim, action_dim, lr, gamma):\n",
    "        self.name = 'pg'\n",
    "        self.policy = Policy(state_dim, action_dim).to(device)\n",
    "        self.value = Value(state_dim).to(device)\n",
    "        self.optimizer = torch.optim.Adam(list(self.policy.parameters()) + list(self.value.parameters()), \n",
    "                                         lr=float(lr),)\n",
    "\n",
    "        self.gamma = gamma\n",
    "\n",
    "        # a simple buffer\n",
    "        self.states = []\n",
    "        self.action_probs = []\n",
    "        self.rewards = []\n",
    "        self.dones = []\n",
    "        self.next_states = []\n",
    "\n",
    "    '''\n",
    "    TODO: Task 1\n",
    "    # Complete the following 4 functions\n",
    "    # Hints: 1. calculate the target values as well as the MSE loss between the predicted value and the target values\n",
    "    #        2. calculate the policy loss (similar to ex5) with advantage calculated from the value function. Normalise\n",
    "    #           the advantage to zero mean and unit variance.\n",
    "    #        3. Use mean to calculate the actor (policy) loss ;)\n",
    "    #           - https://discuss.pytorch.org/t/loss-reduction-sum-vs-mean-when-to-use-each/115641/2\n",
    "    '''\n",
    "    \n",
    "    # 1. Calculate the target values, you should not modify the gradient of the variables\n",
    "    def calculate_target_values(self, rewards, next_states, dones):\n",
    "        ########## Your code starts here. ##########\n",
    "        with torch.no_grad():\n",
    "            next_values = self.value(next_states)\n",
    "            target_values = rewards + self.gamma * next_values * (1 - dones)\n",
    "        ########## Your code ends here. ##########\n",
    "        return target_values\n",
    "\n",
    "    # 2. Calculate the critic loss\n",
    "    def calculate_critic_loss(self, values, target_values):\n",
    "        ########## Your code starts here. ##########\n",
    "        critic_loss = F.mse_loss(values, target_values)\n",
    "        ########## Your code ends here. ##########\n",
    "        return critic_loss\n",
    "    \n",
    "    # 3. Advantage estimation, you should not modify the gradient of the variables\n",
    "    def calculate_advantage(self, values, target_values):\n",
    "        ########## Your code starts here. ##########\n",
    "        with torch.no_grad():\n",
    "            advantage = target_values - values\n",
    "            advantage = (advantage - advantage.mean()) / (advantage.std() + 1e-8)\n",
    "        ########## Your code ends here. ##########\n",
    "        return advantage\n",
    "    \n",
    "    # 4. Calculate the actor (policy) loss \n",
    "    def calculate_actor_loss(self, action_probs, advantage):\n",
    "        ########## Your code starts here. ##########\n",
    "        weighted_probs = action_probs * advantage\n",
    "        actor_loss = -weighted_probs.mean()\n",
    "        ########## Your code ends here. ##########\n",
    "        return actor_loss\n",
    "\n",
    "    def update(self,):\n",
    "        action_probs = torch.stack(self.action_probs, dim=0) \\\n",
    "                .to(device).squeeze(-1)\n",
    "        rewards = torch.stack(self.rewards, dim=0).to(device).squeeze(-1)\n",
    "        states = torch.stack(self.states, dim=0).to(device).squeeze(-1)\n",
    "        next_states = torch.stack(self.next_states, dim=0).to(device).squeeze(-1)\n",
    "        dones = torch.stack(self.dones, dim=0).to(device).squeeze(-1)\n",
    "        # clear buffer\n",
    "        self.states, self.action_probs, self.rewards, self.dones, self.next_states = [], [], [], [], []\n",
    "\n",
    "        \"\"\"\n",
    "        # TODO: Compute the current state value estimates using the value function network\n",
    "        \"\"\"\n",
    "        values = self.value(states)\n",
    "        \n",
    "        target_values = self.calculate_target_values(rewards, next_states, dones)        \n",
    "        critic_loss = self.calculate_critic_loss(values, target_values)        \n",
    "        advantage = self.calculate_advantage(values, target_values)\n",
    "        actor_loss = self.calculate_actor_loss(action_probs, advantage)\n",
    "\n",
    "        \"\"\"\n",
    "        # TODO: Compute the gradients of the joint loss w.r.t network parameters\n",
    "        \"\"\"\n",
    "        loss = actor_loss + critic_loss\n",
    "        loss.backward()\n",
    "\n",
    "        # Update network parameters using self.optimizer and zero gradients\n",
    "        self.optimizer.step()\n",
    "        nn.utils.clip_grad_norm_(list(self.policy.parameters()) + list(self.value.parameters()), 1.0)\n",
    "        self.optimizer.zero_grad() \n",
    "\n",
    "        return {}\n",
    "\n",
    "    def get_action(self, observation, evaluation=False):\n",
    "        \"\"\"Return action (np.ndarray) and logprob (torch.Tensor) of this action.\"\"\"\n",
    "        if observation.ndim == 1: observation = observation[None] # add the batch dimension\n",
    "        x = torch.from_numpy(observation).float().to(device)\n",
    "        \n",
    "        '''\n",
    "        # TODO: Task 1\n",
    "        # Hints: 1. the self.policy returns a normal distribution, check the PyTorch documentation to see \n",
    "        #           how to calculate the log_prob of an action and how to sample.\n",
    "        #        2. if evaluating the policy, return policy mean, otherwise, return a sample\n",
    "        #        3. the returned action and the act_logprob should be torch.Tensors.\n",
    "        #           Please always make sure the shape of variables is as you expected.\n",
    "        '''\n",
    "        ########## Your code starts here. ##########\n",
    "        dist = self.policy(x)\n",
    "        if evaluation:\n",
    "            action = dist.mean.squeeze(0)\n",
    "        else:\n",
    "            action = dist.sample().squeeze(0)\n",
    "\n",
    "        # compute the log probability of the action\n",
    "        act_logprob = dist.log_prob(action).sum(axis=-1).squeeze(0)\n",
    "        ########## Your code ends here. ###########\n",
    "\n",
    "        return action, act_logprob\n",
    "\n",
    "    def record(self, observation, action_prob, next_observation, reward, done):\n",
    "        self.states.append(torch.tensor(observation, dtype=torch.float32))\n",
    "        self.action_probs.append(action_prob)\n",
    "        self.rewards.append(torch.tensor([reward], dtype=torch.float32))\n",
    "        self.dones.append(torch.tensor([done], dtype=torch.float32))\n",
    "        self.next_states.append(torch.tensor(next_observation, dtype=torch.float32))\n",
    "\n",
    "    def load(self, filepath):\n",
    "        d = torch.load(filepath)\n",
    "        self.policy.load_state_dict(d['policy'])\n",
    "        self.value.load_state_dict(d['value'])\n",
    "    \n",
    "    def save(self, filepath):\n",
    "        torch.save({\n",
    "            'policy': self.policy.state_dict(),\n",
    "            'value': self.value.state_dict(),\n",
    "        }, filepath)"
   ]
  },
  {
   "cell_type": "code",
   "execution_count": 33,
   "id": "c970385d",
   "metadata": {
    "deletable": false,
    "editable": false,
    "nbgrader": {
     "cell_type": "code",
     "checksum": "5af7194a025f5c6a09d1e4bd68084daa",
     "grade": true,
     "grade_id": "cell-9122872aaa786a57",
     "locked": true,
     "points": 2,
     "schema_version": 3,
     "solution": false,
     "task": false
    }
   },
   "outputs": [],
   "source": [
    "# Test Policy\n",
    "def test_policy_class():\n",
    "    policy = Policy(4, 1)\n",
    "    x = torch.Tensor((1.,2.,3.,4.)).reshape((1,4))\n",
    "    assert isinstance( policy.forward(x),Normal)\n",
    "    assert policy.actor_logstd.requires_grad\n",
    "\n",
    "test_policy_class()"
   ]
  },
  {
   "cell_type": "code",
   "execution_count": 34,
   "id": "1267fbc6",
   "metadata": {
    "deletable": false,
    "editable": false,
    "nbgrader": {
     "cell_type": "code",
     "checksum": "8bd467e6ef4d0bce56458aa52ec2b321",
     "grade": true,
     "grade_id": "cell-43cbda8b39fe293e",
     "locked": true,
     "points": 2,
     "schema_version": 3,
     "solution": false,
     "task": false
    }
   },
   "outputs": [
    {
     "name": "stdout",
     "output_type": "stream",
     "text": [
      "Numpy/Torch/Random Seed:  43\n"
     ]
    }
   ],
   "source": [
    "%%capture --no-stdout\n",
    "#Test get_action method\n",
    "def test_get_action_1():\n",
    "    cfg_path=Path().cwd()/'cfg'/'pg_ac.yaml'\n",
    "    cfg_args=dict(save_video=False,testing=False,seed=43)\n",
    "    env, cfg = t.setup(cfg_path, cfg_args=cfg_args)\n",
    "    agent = PG(cfg.state_shape[0], cfg.action_dim, cfg.lr, cfg.gamma)\n",
    "    obs = np.array([ 0.00978977, -0.00972236, -0.00706408,  0.00517535])\n",
    "    action = -2.0871510059805587e-05\n",
    "    assert np.allclose(agent.get_action(obs,True)[0].item(),action,atol=1e-03)\n",
    "\n",
    "    agent2 = PG(cfg.state_shape[0], cfg.action_dim, cfg.lr, cfg.gamma)\n",
    "    assert tuple(agent2.get_action(obs,True)[1].shape) == ()\n",
    "\n",
    "test_get_action_1()"
   ]
  },
  {
   "cell_type": "code",
   "execution_count": 35,
   "id": "f1baa5e6",
   "metadata": {
    "deletable": false,
    "editable": false,
    "nbgrader": {
     "cell_type": "code",
     "checksum": "70ac43e68631b7ae6e31f11b62e2eece",
     "grade": true,
     "grade_id": "cell-5bfa2cf43da8fc00",
     "locked": true,
     "points": 2,
     "schema_version": 3,
     "solution": false,
     "task": false
    }
   },
   "outputs": [
    {
     "name": "stdout",
     "output_type": "stream",
     "text": [
      "Numpy/Torch/Random Seed:  43\n"
     ]
    }
   ],
   "source": [
    "def test_update_function_1():\n",
    "    cfg_path=Path().cwd()/'cfg'/'pg_ac.yaml'\n",
    "    cfg_args=dict(save_video=False,testing=False,seed=43)\n",
    "    env, cfg = t.setup(cfg_path, cfg_args=cfg_args)\n",
    "    agent = PG(4, cfg.action_dim, cfg.lr, cfg.gamma)\n",
    "\n",
    "    rewards = torch.tensor([1., 1., 1., 1.])\n",
    "    action_probs = torch.tensor([-0.9286, -1.1687, -1.2360, -1.7127])\n",
    "    next_states = torch.tensor([[-0.0079,  0.0071, -0.1703,  0.4061],\n",
    "                                [-0.0274,  0.0524, -0.8029,  1.8464],\n",
    "                                [-0.0633,  0.1342, -0.9942,  2.2525],\n",
    "                                [-0.0931,  0.2017, -0.4978,  1.1568]])\n",
    "    dones = torch.tensor([0., 0., 0., 1.])\n",
    "    states = torch.tensor([[-4.6008e-03, -1.0801e-03,  7.1437e-03, -1.4543e-03],\n",
    "                           [-7.8743e-03,  7.0946e-03, -1.7034e-01,  4.0608e-01],\n",
    "                           [-2.7371e-02,  5.2385e-02, -8.0292e-01,  1.8464e+00],\n",
    "                           [-6.3307e-02,  1.3419e-01, -9.9422e-01,  2.2525e+00]])\n",
    "    values = torch.tensor([-0.0013, -0.0137, -0.0187, -0.0289])\n",
    "\n",
    "    target_values = agent.calculate_target_values(rewards, next_states, dones)        \n",
    "    critic_loss = agent.calculate_critic_loss(values, target_values)        \n",
    "    adv = agent.calculate_advantage(values, target_values)\n",
    "    actor_loss = agent.calculate_actor_loss(action_probs, adv)\n",
    "\n",
    "    assert torch.allclose(target_values, torch.tensor([0.9864, 0.9815, 0.9714, 1.0000]), atol = 0.001)\n",
    "    assert torch.allclose(critic_loss, torch.tensor(1.0012), atol = 0.001)\n",
    "    assert torch.allclose(adv, torch.tensor([-0.6645, -0.2767, -0.5391,  1.4803]), atol = 0.001)\n",
    "    assert torch.allclose(actor_loss, torch.tensor(0.2321), atol = 0.001)\n",
    "\n",
    "test_update_function_1()"
   ]
  },
  {
   "cell_type": "code",
   "execution_count": 36,
   "id": "04b263dd",
   "metadata": {
    "deletable": false,
    "editable": false,
    "nbgrader": {
     "cell_type": "code",
     "checksum": "47065bb40c58f45827cb38b377996854",
     "grade": true,
     "grade_id": "cell-dcf55b2136722f26",
     "locked": true,
     "points": 5,
     "schema_version": 3,
     "solution": false,
     "task": false
    }
   },
   "outputs": [],
   "source": [
    "%%capture --no-stdout\n",
    "\"TEST\""
   ]
  },
  {
   "cell_type": "code",
   "execution_count": 37,
   "id": "d39c60f7",
   "metadata": {
    "deletable": false,
    "editable": false,
    "nbgrader": {
     "cell_type": "code",
     "checksum": "c35464679797db9e10ee0bb6646ff6e0",
     "grade": true,
     "grade_id": "cell-289c24f5539ad5d3",
     "locked": true,
     "points": 7,
     "schema_version": 3,
     "solution": false,
     "task": false
    }
   },
   "outputs": [],
   "source": [
    "%%capture --no-stdout\n",
    "\"TEST\""
   ]
  },
  {
   "cell_type": "code",
   "execution_count": 38,
   "id": "8c6b02f2-891d-40c1-b01a-9bd370009a3a",
   "metadata": {
    "tags": []
   },
   "outputs": [],
   "source": [
    "# init agent\n",
    "with open(Path().cwd()/'cfg'/'pg_ac.yaml', 'r') as f:\n",
    "    cfg = u.Struct(**yaml.safe_load(f))\n",
    "    \n",
    "agent = PG(cfg.state_shape[0], cfg.action_dim, cfg.lr, cfg.gamma)"
   ]
  },
  {
   "cell_type": "code",
   "execution_count": 39,
   "id": "5fad7389",
   "metadata": {
    "tags": []
   },
   "outputs": [
    {
     "name": "stdout",
     "output_type": "stream",
     "text": [
      "Numpy/Torch/Random Seed:  837\n",
      "{'episode': 0, 'timesteps': 5, 'ep_reward': 5.0}\n",
      "{'episode': 50, 'timesteps': 6, 'ep_reward': 6.0}\n",
      "{'episode': 100, 'timesteps': 5, 'ep_reward': 5.0}\n",
      "{'episode': 150, 'timesteps': 5, 'ep_reward': 5.0}\n",
      "{'episode': 200, 'timesteps': 13, 'ep_reward': 13.0}\n",
      "{'episode': 250, 'timesteps': 40, 'ep_reward': 40.0}\n",
      "{'episode': 300, 'timesteps': 50, 'ep_reward': 50.0}\n",
      "{'episode': 350, 'timesteps': 64, 'ep_reward': 64.0}\n",
      "{'episode': 400, 'timesteps': 41, 'ep_reward': 41.0}\n",
      "{'episode': 450, 'timesteps': 24, 'ep_reward': 24.0}\n",
      "{'episode': 500, 'timesteps': 39, 'ep_reward': 39.0}\n",
      "{'episode': 550, 'timesteps': 171, 'ep_reward': 171.0}\n",
      "{'episode': 600, 'timesteps': 219, 'ep_reward': 219.0}\n",
      "{'episode': 650, 'timesteps': 121, 'ep_reward': 121.0}\n",
      "{'episode': 700, 'timesteps': 98, 'ep_reward': 98.0}\n",
      "{'episode': 750, 'timesteps': 328, 'ep_reward': 328.0}\n",
      "{'episode': 800, 'timesteps': 233, 'ep_reward': 233.0}\n",
      "{'episode': 850, 'timesteps': 226, 'ep_reward': 226.0}\n",
      "{'episode': 900, 'timesteps': 255, 'ep_reward': 255.0}\n",
      "{'episode': 950, 'timesteps': 75, 'ep_reward': 75.0}\n",
      "{'episode': 1000, 'timesteps': 134, 'ep_reward': 134.0}\n",
      "{'episode': 1050, 'timesteps': 178, 'ep_reward': 178.0}\n",
      "{'episode': 1100, 'timesteps': 1000, 'ep_reward': 1000.0}\n",
      "{'episode': 1150, 'timesteps': 45, 'ep_reward': 45.0}\n",
      "{'episode': 1200, 'timesteps': 65, 'ep_reward': 65.0}\n",
      "{'episode': 1250, 'timesteps': 19, 'ep_reward': 19.0}\n",
      "{'episode': 1300, 'timesteps': 13, 'ep_reward': 13.0}\n",
      "{'episode': 1350, 'timesteps': 10, 'ep_reward': 10.0}\n",
      "{'episode': 1400, 'timesteps': 6, 'ep_reward': 6.0}\n",
      "{'episode': 1450, 'timesteps': 16, 'ep_reward': 16.0}\n",
      "{'episode': 1500, 'timesteps': 10, 'ep_reward': 10.0}\n",
      "{'episode': 1550, 'timesteps': 30, 'ep_reward': 30.0}\n",
      "{'episode': 1600, 'timesteps': 20, 'ep_reward': 20.0}\n",
      "{'episode': 1650, 'timesteps': 18, 'ep_reward': 18.0}\n",
      "{'episode': 1700, 'timesteps': 25, 'ep_reward': 25.0}\n",
      "{'episode': 1750, 'timesteps': 41, 'ep_reward': 41.0}\n",
      "{'episode': 1800, 'timesteps': 29, 'ep_reward': 29.0}\n",
      "{'episode': 1850, 'timesteps': 23, 'ep_reward': 23.0}\n",
      "{'episode': 1900, 'timesteps': 40, 'ep_reward': 40.0}\n",
      "{'episode': 1950, 'timesteps': 48, 'ep_reward': 48.0}\n",
      "{'episode': 2000, 'timesteps': 364, 'ep_reward': 364.0}\n",
      "Saving model to /notebooks/rl2025/ex6/results/InvertedPendulum-v4/model/InvertedPendulum-v4_params.pt\n",
      "------ Training Finished ------\n",
      "Total traning time is 2.2621949433504294mins\n"
     ]
    }
   ],
   "source": [
    "if not skip_training:\n",
    "    t.train(agent, cfg_path=Path().cwd()/'cfg'/'pg_ac.yaml', cfg_args={})"
   ]
  },
  {
   "cell_type": "code",
   "execution_count": 40,
   "id": "f8041f0c-73f8-4f23-bbd2-4a976a8b842a",
   "metadata": {
    "tags": []
   },
   "outputs": [
    {
     "name": "stdout",
     "output_type": "stream",
     "text": [
      "Numpy/Torch/Random Seed:  625\n"
     ]
    },
    {
     "data": {
      "image/png": "[encoded data removed]",
      "text/plain": [
       "<Figure size 640x480 with 1 Axes>"
      ]
     },
     "metadata": {},
     "output_type": "display_data"
    }
   ],
   "source": [
    "if not skip_training:\n",
    "    t.plot(cfg_path=Path().cwd()/'cfg'/'pg_ac.yaml',)"
   ]
  },
  {
   "cell_type": "code",
   "execution_count": 41,
   "id": "91d4922b",
   "metadata": {
    "tags": []
   },
   "outputs": [
    {
     "name": "stdout",
     "output_type": "stream",
     "text": [
      "Numpy/Torch/Random Seed:  820\n",
      "Loading model from /notebooks/rl2025/ex6/results/InvertedPendulum-v4/model/InvertedPendulum-v4_params.pt ...\n",
      "Testing ...\n",
      "Moviepy - Building video /notebooks/rl2025/ex6/results/InvertedPendulum-v4/video/test/ex6-episode-0.mp4.\n",
      "Moviepy - Writing video /notebooks/rl2025/ex6/results/InvertedPendulum-v4/video/test/ex6-episode-0.mp4\n",
      "\n"
     ]
    },
    {
     "name": "stderr",
     "output_type": "stream",
     "text": [
      "                                                                \r"
     ]
    },
    {
     "name": "stdout",
     "output_type": "stream",
     "text": [
      "Moviepy - Done !\n",
      "Moviepy - video ready /notebooks/rl2025/ex6/results/InvertedPendulum-v4/video/test/ex6-episode-0.mp4\n",
      "Ep0: Test ep_reward is 1000.0\n",
      "Ep1: Test ep_reward is 1000.0\n",
      "Ep2: Test ep_reward is 1000.0\n",
      "Ep3: Test ep_reward is 1000.0\n",
      "Ep4: Test ep_reward is 1000.0\n",
      "Ep5: Test ep_reward is 1000.0\n",
      "Ep6: Test ep_reward is 1000.0\n",
      "Ep7: Test ep_reward is 1000.0\n",
      "Ep8: Test ep_reward is 1000.0\n",
      "Moviepy - Building video /notebooks/rl2025/ex6/results/InvertedPendulum-v4/video/test/ex6-episode-9.mp4.\n",
      "Moviepy - Writing video /notebooks/rl2025/ex6/results/InvertedPendulum-v4/video/test/ex6-episode-9.mp4\n",
      "\n"
     ]
    },
    {
     "name": "stderr",
     "output_type": "stream",
     "text": [
      "                                                                "
     ]
    },
    {
     "name": "stdout",
     "output_type": "stream",
     "text": [
      "Moviepy - Done !\n",
      "Moviepy - video ready /notebooks/rl2025/ex6/results/InvertedPendulum-v4/video/test/ex6-episode-9.mp4\n",
      "Ep9: Test ep_reward is 1000.0\n",
      "Average test reward: 1000.0\n"
     ]
    },
    {
     "name": "stderr",
     "output_type": "stream",
     "text": [
      "\r"
     ]
    }
   ],
   "source": [
    "if not skip_training:\n",
    "    t.test(agent, cfg_path=Path().cwd()/'cfg'/'pg_ac.yaml', cfg_args=dict(save_video=True,testing=True))"
   ]
  },
  {
   "cell_type": "code",
   "execution_count": 42,
   "id": "2edb556b-187c-4662-a1df-60dc87917930",
   "metadata": {
    "tags": []
   },
   "outputs": [
    {
     "data": {
      "text/html": [
       "<video loop autoplay  >\n",
       " <source src=\"data:video/mp4;base64,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\" type=\"video/mp4\">\n",
       " Your browser does not support the video tag.\n",
       " </video>"
      ],
      "text/plain": [
       "<IPython.core.display.Video object>"
      ]
     },
     "metadata": {},
     "output_type": "display_data"
    }
   ],
   "source": [
    "if not skip_training:\n",
    "    video = Video(Path().cwd()/'results'/'InvertedPendulum-v4'/'video'/'test'/'ex6-episode-0.mp4',\n",
    "    embed=True, html_attributes=\"loop autoplay\") # Set html_attributes=\"controls\" for video control\n",
    "    display(video)"
   ]
  },
  {
   "cell_type": "code",
   "execution_count": 43,
   "id": "54640b32",
   "metadata": {
    "deletable": false,
    "editable": false,
    "nbgrader": {
     "cell_type": "code",
     "checksum": "f83948189f99f90b4085c2d303b547ad",
     "grade": true,
     "grade_id": "cell-09564874b32375cf",
     "locked": true,
     "points": 2,
     "schema_version": 3,
     "solution": false,
     "task": false
    }
   },
   "outputs": [],
   "source": [
    "%%capture --no-stdout\n",
    "\"TEST\""
   ]
  },
  {
   "cell_type": "markdown",
   "id": "7d432792",
   "metadata": {
    "deletable": false,
    "editable": false,
    "nbgrader": {
     "cell_type": "markdown",
     "checksum": "13b4216c279dd80ba4512330ce718bdd",
     "grade": false,
     "grade_id": "cell-5db97bc9fe1b8e96",
     "locked": true,
     "schema_version": 3,
     "solution": false,
     "task": false
    }
   },
   "source": [
    "<a id='Q1'></a>\n",
    "<div class=\" alert alert-warning\">\n",
    "    <h3><b>Student Question 1.1</b> Relationship between actor-critic and REINFORCE with baseline (10 points) </h3> \n",
    "\n",
    "What is the relationship between actor-critic and REINFORCE with baseline?\n",
    "            \n",
    "🔝\t<a href='#TOC'><b>Table of Contents</b></a>\n",
    "</div>"
   ]
  },
  {
   "cell_type": "markdown",
   "id": "a7662c12-4b22-48ca-85cc-d389b77dde79",
   "metadata": {
    "deletable": false,
    "editable": false,
    "nbgrader": {
     "cell_type": "markdown",
     "checksum": "9e350ecacc72df859b8ea1279bba8b20",
     "grade": false,
     "grade_id": "cell-af3dccf8c7e41349",
     "locked": true,
     "schema_version": 3,
     "solution": false,
     "task": false
    },
    "tags": []
   },
   "source": [
    "<h5><b>Options</b></h5>\n",
    "\n",
    "1. Both actor-critic and REINFORCE use boostrapping to update their parameters. \n",
    "2. Both methods use Monte-Carlo estimates for updating their parameters.\n",
    "3. The baseline in REINFORCE is the state value function for actor-critic.\n",
    "4. Both methods require full-trajectories before they can update their parameters.\n",
    "5. Both methods can update their parameters during each timestep.\n",
    "6. Actor-critic uses bootstrapping to update its parameters while REINFORCE does not.\n",
    "\n",
    "Select the **two** most appropriate answers. Selecting more than 2 answers results in zero points from this task."
   ]
  },
  {
   "cell_type": "code",
   "execution_count": 44,
   "id": "4875db20-b21d-4c28-b2ca-c7f2e46fffe2",
   "metadata": {
    "tags": []
   },
   "outputs": [],
   "source": [
    "sq1_1 = [3, 6] # Select the most approapriate answers"
   ]
  },
  {
   "cell_type": "markdown",
   "id": "6f4810fe-a2b7-44cd-93b1-a1b2d082c2ad",
   "metadata": {
    "deletable": false,
    "editable": false,
    "nbgrader": {
     "cell_type": "markdown",
     "checksum": "3beea4b65c1e4d7a95ab8a1ae1600bb9",
     "grade": false,
     "grade_id": "cell-d838cdbf4808c6ff",
     "locked": true,
     "schema_version": 3,
     "solution": false,
     "task": false
    },
    "tags": []
   },
   "source": [
    "The cells below are used for autograding."
   ]
  },
  {
   "cell_type": "code",
   "execution_count": 45,
   "id": "1a6b3310-7e16-4408-9d74-6555c1fc7ed3",
   "metadata": {
    "deletable": false,
    "editable": false,
    "nbgrader": {
     "cell_type": "code",
     "checksum": "1de4c11b92c17597e4ac9050802b3eaa",
     "grade": true,
     "grade_id": "cell-0e00f76e0960536d",
     "locked": true,
     "points": 0,
     "schema_version": 3,
     "solution": false,
     "task": false
    },
    "tags": []
   },
   "outputs": [],
   "source": [
    "assert 1 <= len(sq1_1) <= 2\n",
    "assert set(sq1_1) < set(range(1, 7))"
   ]
  },
  {
   "cell_type": "code",
   "execution_count": null,
   "id": "950514e5-56e9-488d-a9b6-b231e7d5262e",
   "metadata": {
    "deletable": false,
    "editable": false,
    "nbgrader": {
     "cell_type": "code",
     "checksum": "1702e61d7c49da20be80181b5c9d064e",
     "grade": true,
     "grade_id": "cell-26b1c613a6f06ff9",
     "locked": true,
     "points": 5,
     "schema_version": 3,
     "solution": false,
     "task": false
    },
    "tags": []
   },
   "outputs": [],
   "source": []
  },
  {
   "cell_type": "code",
   "execution_count": null,
   "id": "3a5dfa77-0d04-4384-84df-88f14550d8b4",
   "metadata": {
    "deletable": false,
    "editable": false,
    "nbgrader": {
     "cell_type": "code",
     "checksum": "e76afee0618f7073f2ebef8e947b465b",
     "grade": true,
     "grade_id": "cell-9aa5fe70a03ab88f",
     "locked": true,
     "points": 5,
     "schema_version": 3,
     "solution": false,
     "task": false
    },
    "tags": []
   },
   "outputs": [],
   "source": []
  },
  {
   "cell_type": "markdown",
   "id": "8b88b08e",
   "metadata": {
    "deletable": false,
    "editable": false,
    "nbgrader": {
     "cell_type": "markdown",
     "checksum": "a57b56668c6aed15c3d1dcaa0c5e0be7",
     "grade": false,
     "grade_id": "cell-05a96ed4b54d0a0c",
     "locked": true,
     "schema_version": 3,
     "solution": false,
     "task": false
    },
    "tags": []
   },
   "source": [
    "<a id='Q2'></a>\n",
    "<div class=\" alert alert-warning\">\n",
    "    <h3><b>Student Question 1.2</b> Advantage (5 points) </h3> \n",
    "\n",
    "How can the value of advantage be intuitively interpreted? (Your answer should not be longer than 10 sentences).\n",
    "    \n",
    "🔝\t<a href='#TOC'><b>Table of Contents</b></a>\n",
    "</div>"
   ]
  },
  {
   "cell_type": "markdown",
   "id": "aa3bac64",
   "metadata": {
    "deletable": false,
    "nbgrader": {
     "cell_type": "markdown",
     "checksum": "c97f49161088ab47f866a42e9dd909a4",
     "grade": true,
     "grade_id": "cell-7ea462e5360ad185",
     "locked": false,
     "points": 5,
     "schema_version": 3,
     "solution": true,
     "task": false
    }
   },
   "source": [
    "Formally, it’s the difference between the actual return (or target value) and the estimated baseline value of the state.\n",
    "If the advantage is positive, the action performed better than expected, so the policy should increase its probability. If it’s negative, the action was worse than expected, so its probability should be reduced.\n",
    "By centering around zero, it reduces variance in policy gradient updates and stabilizes learning.\n",
    "In essence, it tells the agent how advantageous each action was relative to the norm for that situation.\n",
    "It helps the policy focus on relative improvements, not absolute rewards.\n",
    "Without the advantage term, the agent might overreact to raw rewards and learn inefficiently.\n",
    "Thus, the advantage acts as a directional signal, acting as a guide towards our policy improvement.\n"
   ]
  },
  {
   "cell_type": "markdown",
   "id": "a4db6c52",
   "metadata": {
    "deletable": false,
    "editable": false,
    "nbgrader": {
     "cell_type": "markdown",
     "checksum": "c98268593ad7780ce49ad86a1e8f987c",
     "grade": false,
     "grade_id": "cell-9a3f2bca9650b8b5",
     "locked": true,
     "schema_version": 3,
     "solution": false,
     "task": false
    }
   },
   "source": [
    "<a id='Q3'></a>\n",
    "<div class=\" alert alert-warning\">\n",
    "    <h3><b>Student Question 1.3</b> Bias and Variance Analysis (10 points) </h3> \n",
    "\n",
    "How does the implemented actor-critic method compare to REINFORCE in terms of bias and variance of the policy gradient estimation? Explain your answer. (Your answer should not be longer than 10 sentences).\n",
    "    \n",
    "🔝\t<a href='#TOC'><b>Table of Contents</b></a>\n",
    "</div>"
   ]
  },
  {
   "cell_type": "markdown",
   "id": "106d5916",
   "metadata": {
    "deletable": false,
    "nbgrader": {
     "cell_type": "markdown",
     "checksum": "22175d03d3f4b28b443696bddd162af1",
     "grade": true,
     "grade_id": "cell-74f7530fd7c8fef3",
     "locked": false,
     "points": 10,
     "schema_version": 3,
     "solution": true,
     "task": false
    }
   },
   "source": [
    "The actor-critic method reduces the variance of the policy gradient estimate compared to REINFORCE by using a learned value function (critic) as a baseline. In REINFORCE, the policy is updated using the full return from each episode, which can vary greatly and cause noisy updates.\n",
    "By contrast, actor-critic replaces this high-variance return with an estimate of the expected return from the critic, stabilizing learning.\n",
    "But this introduces bias, since the critic’s value estimate is not exact and may be inaccurate early in training. REINFORCE instead is unbiased but suffers from high variance, often requiring many samples to converge.\n",
    "So the actor-critic trades some bias for much lower variance, typically leading to faster and more stable learning and this trade-off is a central advantage of actor-critic methods in practice.\n"
   ]
  },
  {
   "cell_type": "markdown",
   "id": "c0ddf4e7",
   "metadata": {
    "deletable": false,
    "editable": false,
    "nbgrader": {
     "cell_type": "markdown",
     "checksum": "600033db53328bf2d16d465b3aff68b2",
     "grade": false,
     "grade_id": "cell-57372114b7deef34",
     "locked": true,
     "schema_version": 3,
     "solution": false,
     "task": false
    }
   },
   "source": [
    "<a id='Q4'></a>\n",
    "<div class=\" alert alert-warning\">\n",
    "    <h3><b>Student Question 1.4</b> Controlling bias-variance tradeoff (10 points) </h3> \n",
    "\n",
    "How could the bias-variance tradeoff in actor-critic be controlled? (Your answer should not be longer than 10 sentences).\n",
    "    \n",
    "🔝\t<a href='#TOC'><b>Table of Contents</b></a>\n",
    "</div>"
   ]
  },
  {
   "cell_type": "markdown",
   "id": "03501249",
   "metadata": {
    "deletable": false,
    "nbgrader": {
     "cell_type": "markdown",
     "checksum": "719a83ac1efc28a51317240ab20e3168",
     "grade": true,
     "grade_id": "cell-bd37bcc37ef9fff6",
     "locked": false,
     "points": 10,
     "schema_version": 3,
     "solution": true,
     "task": false
    }
   },
   "source": [
    "The bias–variance tradeoff in actor-critic can be controlled mainly through how the critic is trained and used. Using a more accurate value function reduces bias but may increase variance.\n",
    "On the other hand, using stronger regularization or smoothing in the critic reduces variance but increases bias. Adjusting the learning rates of actor and critic helps balance their interaction. Too fast a critic introduces noise (high variance), too slow adds bias.\n",
    "Using n-step returns or λ-returns allows smooth interpolation between low bias–high variance and high bias–low variance. A smaller λ emphasizes short-term estimates (more bias, less variance), while larger λ relies more on full returns (less bias, more variance).\n",
    "Experience replay and target networks can further stabilize the critic to reduce variance.\n"
   ]
  },
  {
   "cell_type": "markdown",
   "id": "edc1e91e-5715-45b9-a2c2-4e8f0fd2fff2",
   "metadata": {
    "deletable": false,
    "editable": false,
    "nbgrader": {
     "cell_type": "markdown",
     "checksum": "2b1c367010d08ca7088a8580a920eb7d",
     "grade": false,
     "grade_id": "cell-5f74898cf5b2c817",
     "locked": true,
     "schema_version": 3,
     "solution": false,
     "task": false
    },
    "tags": []
   },
   "source": [
    "\n",
    "# 3. Submitting <a id='3.'></a>\n",
    "Ensure all tasks and questions (in ```ex6_DDPG.ipynb``` and ```ex6_PG_AC.ipynb```) are answered and the necessary plots are saved in the appropriate locations. The relevant plots and files needed to be submitted for this assignment are:\n",
    "\n",
    "\n",
    "- Training performance plots:\n",
    "  - `pg_ac.png`: Training performance plots in terms of episode and episodic reward\n",
    "<br>\n",
    "\n",
    "  \n",
    "- Model files:\n",
    "  - `InvertedPendulum-v4_params.pt`: Trained model\n",
    "\n",
    "\n",
    "Ensure the model files and plots are saved in correct paths:\n",
    "- ```results/InvertedPendulum-v4/pg_ac.png``` Training result\n",
    "- ```results/InvertedPendulum-v4/model/InvertedPendulum-v4_params.pt``` Training Model\n",
    "\n",
    "\n",
    "<span style=\"color:red\"> **# IMPORTANT: DO NOT FORGET ANOTHER TASK IN ```ex6_DDPG.ipynb```** </span>"
   ]
  },
  {
   "cell_type": "code",
   "execution_count": null,
   "id": "e9269a2b",
   "metadata": {},
   "outputs": [],
   "source": [
    "# Make sure that skip training is set to True before submission\n",
    "assert skip_training == True"
   ]
  },
  {
   "cell_type": "markdown",
   "id": "88b0c6d7-563a-4037-9d4c-ef1422d7b657",
   "metadata": {
    "deletable": false,
    "editable": false,
    "nbgrader": {
     "cell_type": "markdown",
     "checksum": "89e8fd20b8a0b3230d25dc0d69962803",
     "grade": false,
     "grade_id": "cell-99c320f0e224a0c8",
     "locked": true,
     "schema_version": 3,
     "solution": false,
     "task": false
    },
    "tags": []
   },
   "source": [
    "## 3.1 Feedback <a id='3.1'></a>\n",
    "\n",
    "In order to help the staff of the course as well as the forthcoming students, it would be great if you could answer to the following questions in your submission:"
   ]
  },
  {
   "cell_type": "markdown",
   "id": "de2e7c42-211b-419b-a3c9-daeab45597f1",
   "metadata": {
    "deletable": false,
    "editable": false,
    "nbgrader": {
     "cell_type": "markdown",
     "checksum": "016e22b96662eff6447f48f25857a230",
     "grade": false,
     "grade_id": "cell-09e6cdb34c71b984",
     "locked": true,
     "schema_version": 3,
     "solution": false,
     "task": false
    },
    "tags": []
   },
   "source": [
    "1) How much time did you spend solving this exercise? (change the ```hrs``` variable below to a floating point number representing the number of hours taken e.g. 5.43)"
   ]
  },
  {
   "cell_type": "code",
   "execution_count": null,
   "id": "3cfa3e0a-f247-43f4-92cc-5b6e99c79049",
   "metadata": {
    "tags": []
   },
   "outputs": [],
   "source": [
    "hrs = None"
   ]
  },
  {
   "cell_type": "markdown",
   "id": "83e49e4f-0803-4d11-9ac4-9f77bedfa52f",
   "metadata": {
    "deletable": false,
    "editable": false,
    "nbgrader": {
     "cell_type": "markdown",
     "checksum": "7c96fba064ac1fc2b00810fc1dc378a0",
     "grade": false,
     "grade_id": "cell-fa64dd33a8c904ef",
     "locked": true,
     "schema_version": 3,
     "solution": false,
     "task": false
    },
    "tags": []
   },
   "source": [
    "2) Difficulty of each task/question from 1-5 (int or float)"
   ]
  },
  {
   "cell_type": "code",
   "execution_count": null,
   "id": "f8fc5ed4-1957-4c5c-97fb-de2dc7c4362e",
   "metadata": {
    "tags": []
   },
   "outputs": [],
   "source": [
    "T1 = None   # Implementing DDPG (20 points)\n",
    "Q1 = None   # Question 1.1 Relationship between actor-critic and REINFORCE with baseline (10 points)\n",
    "Q2 = None   # Question 1.2 Advantage (5 points)\n",
    "Q3 = None   # Question 1.3 Bias and Variance Analysis (10 points)\n",
    "Q4 = None   # Question 1.4 Controlling bias-variance tradeoff (10 points)"
   ]
  },
  {
   "cell_type": "markdown",
   "id": "a8f6cdd1-ea58-4a06-a81b-1d7cc36f14a2",
   "metadata": {
    "deletable": false,
    "editable": false,
    "nbgrader": {
     "cell_type": "markdown",
     "checksum": "4dab816afcbe55502451543d8a576129",
     "grade": false,
     "grade_id": "cell-69fa22cf9bfa78b8",
     "locked": true,
     "schema_version": 3,
     "solution": false,
     "task": false
    },
    "tags": []
   },
   "source": [
    "3) How well did you understand the content of the task/question from 1-5? (int or float)"
   ]
  },
  {
   "cell_type": "code",
   "execution_count": null,
   "id": "27706e2f-2a35-4a6e-ad07-9af944b96dfe",
   "metadata": {
    "tags": []
   },
   "outputs": [],
   "source": [
    "T1 = None   # Implementing DDPG (20 points)\n",
    "Q1 = None   # Question 1.1 Relationship between actor-critic and REINFORCE with baseline (10 points)\n",
    "Q2 = None   # Question 1.2 Advantage (5 points)\n",
    "Q3 = None   # Question 1.3 Bias and Variance Analysis (10 points)\n",
    "Q4 = None   # Question 1.4 Controlling bias-variance tradeoff (10 points)"
   ]
  },
  {
   "cell_type": "markdown",
   "id": "bc810cc9-ba38-480d-a95e-178f875bc744",
   "metadata": {
    "deletable": false,
    "editable": false,
    "nbgrader": {
     "cell_type": "markdown",
     "checksum": "e0204b1b962a537ae2e40333c7dfdbcb",
     "grade": false,
     "grade_id": "cell-2e02694ca4fcfa78",
     "locked": true,
     "schema_version": 3,
     "solution": false,
     "task": false
    },
    "tags": []
   },
   "source": [
    "4) General feedback. Consider questions like:\n",
    "\n",
    "    - Did the content of the lecture relate well with the assignment?\n",
    "    - To what extent did you find the material to be potentially useful for your research and studies?\n",
    "    \n",
    "Please share any additional feedback, suggestions, or comments you have about the lecture, assignment, or course content. Your input is valuable in helping us improve the learning experience."
   ]
  },
  {
   "cell_type": "markdown",
   "id": "ce6d30ad-8d44-4fe5-a642-121200f920d1",
   "metadata": {
    "tags": []
   },
   "source": [
    "DOUBLE CLICK HERE TO EDIT, CLEAR THIS TEXT AND ANSWER HERE"
   ]
  },
  {
   "cell_type": "markdown",
   "id": "785254f3-48b6-44a6-ace6-0eae136d6396",
   "metadata": {
    "deletable": false,
    "editable": false,
    "nbgrader": {
     "cell_type": "markdown",
     "checksum": "c456a1da33caaefda4a4a4c165be11d6",
     "grade": false,
     "grade_id": "cell-5086c1c7c783ad08",
     "locked": true,
     "schema_version": 3,
     "solution": false,
     "task": false
    },
    "tags": []
   },
   "source": [
    "# References <a id='4.'></a>\n",
    "Please use the following section to record references."
   ]
  },
  {
   "cell_type": "code",
   "execution_count": null,
   "id": "1be24169-8a32-4c87-9e15-3f6eee2364a9",
   "metadata": {},
   "outputs": [],
   "source": []
  }
 ],
 "metadata": {
  "kernelspec": {
   "display_name": "Python 3",
   "language": "python",
   "name": "python3"
  },
  "language_info": {
   "codemirror_mode": {
    "name": "ipython",
    "version": 3
   },
   "file_extension": ".py",
   "mimetype": "text/x-python",
   "name": "python",
   "nbconvert_exporter": "python",
   "pygments_lexer": "ipython3",
   "version": "3.10.12"
  }
 },
 "nbformat": 4,
 "nbformat_minor": 5
}
