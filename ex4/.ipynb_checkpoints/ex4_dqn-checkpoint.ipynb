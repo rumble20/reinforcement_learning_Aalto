{
 "cells": [
  {
   "cell_type": "markdown",
   "id": "53274fb5",
   "metadata": {
    "deletable": false,
    "editable": false,
    "nbgrader": {
     "cell_type": "markdown",
     "checksum": "5bba742b91375ed640d206a3c9f351e5",
     "grade": false,
     "grade_id": "cell-7dd133571740e15f",
     "locked": true,
     "schema_version": 3,
     "solution": false,
     "task": false
    }
   },
   "source": [
    "\n",
    "<div class=\"alert alert-block alert-info\">\n",
    "   <h2 align=\"center\"> <center><b> Reinforcement Learning Assignment 4 - Function Approximators Part 2: Deep Q Network </b></center></h2>\n",
    "\n",
    "<br>\n",
    "<center><font size=\"3\">This notebook is a part of teaching material for ELEC-E8125</font></center>\n",
    "<center><font size=\"3\">Aalto University</font></center>\n",
    "</div>\n",
    "\n",
    "\n",
    "<a id='TOC'></a>\n",
    "\n",
    "<div class=\"alert alert-block alert-success\">\n",
    "    \n",
    "# Table of contents\n",
    "* <a href='#1.'> 1. Introduction </a>\n",
    "* <a href='#1.1'> 1.1 Task environments </a>\n",
    "* <a href='#1.2'> 1.2 Learning Objectives </a>\n",
    "* <a href='#1.3'> 1.3 Code Structure & Files </a>\n",
    "* <a href='#1.4'> 1.4 Execution time </a>\n",
    "* <a href='#2.'> 2. A (not-so-)deep Q-network</a>\n",
    "* <a href='#3.'> 3. Submitting </a>\n",
    "* <a href='#3.1'> 3.1 Feedback </a>\n",
    "\n",
    "<a href='#T1'><b>Student Task 1.</b> Implementing DQN (10 points) </a>\\\n",
    "<a href='#Q1'><b>Student Question 1.1</b> Considering Continuous Action Spaces (5 points) </a>\\\n",
    "<a href='#Q2'><b>Student Question 1.2</b> Continuous Action Spaces Part 1 (15 points) </a>\\\n",
    "<a href='#Q3'><b>Student Question 1.3</b> The Target Network (10 points) </a>\n",
    " \n",
    "\n",
    "**Total Points:** 40\n",
    "\n",
    "**Estimated runtime of all the cells:** 2 hours"
   ]
  },
  {
   "cell_type": "markdown",
   "id": "9fb3bd96",
   "metadata": {
    "deletable": false,
    "editable": false,
    "nbgrader": {
     "cell_type": "markdown",
     "checksum": "2ccf0d452335e813bfc82782639cf8f7",
     "grade": false,
     "grade_id": "cell-ebc6fa2d1ab8fcf9",
     "locked": true,
     "schema_version": 3,
     "solution": false,
     "task": false
    }
   },
   "source": [
    "# 1. Introduction <a id='1.'></a>\n",
    "\n",
    "In various real-world scenarios, dealing with high-dimensional state spaces makes it impractical to compute and store Q-values for every possible state-action pair in a Q-table. To address this challenge, we turn to function approximators. In this assignment, you will progress creating a basic Deep Q-Network (DQN) in the **Cartpole** and **LunarLander** environment.\n",
    "\n",
    "**Please start working on this assignment early since the DQN will take some time to train.**\n",
    "\n",
    "\n",
    "<div style=\"display:flex\">\n",
    "     <div style=\"flex:1;padding-left:100px;\">\n",
    "          <img src=\"imgs/cartpole.png\" width=\"300\"/>\n",
    "         <figcaption style=\"flex:1;padding-left:20px;\">  Figure 1: The Cartpole environment. </figcaption>\n",
    "     </div>\n",
    "     <div style=\"flex:1;padding-left:70px;\">\n",
    "          <img src=\"imgs/lunar_lander.png\" width=\"300\"/>\n",
    "         <figcaption style=\"flex:1;padding-left:20px;\">  Figure 2: The Lunarlander environment. </figcaption>\n",
    "     </div>\n",
    "\n",
    "</div>\n",
    "\n",
    "Useful Sources:\n",
    "\n",
    "- Mnih, Volodymyr, et al. \"Playing atari with deep reinforcement learning.\" arXiv preprint arXiv:1312.5602 (2013). https://arxiv.org/pdf/1312.5602.pdf\n",
    "\n",
    "\n",
    "## 1.1 Task environments: <a id='1.1'></a>\n",
    "In this excercise, we will mainly use DQN for two tasks:\n",
    "- Cartpole(https://gymnasium.farama.org/environments/classic_control/cart_pole/): This environment corresponds to the version of the cart-pole problem described by Barto, Sutton, and Anderson in “Neuronlike Adaptive Elements That Can Solve Difficult Learning Control Problem”. A pole is attached by an un-actuated joint to a cart, which moves along a frictionless track. The pendulum is placed upright on the cart and the goal is to balance the pole by applying forces in the left and right direction on the cart.\n",
    "\n",
    "- Lunar Lander (https://gymnasium.farama.org/environments/box2d/lunar_lander/): This environment is a classic rocket trajectory optimization problem. According to Pontryagin’s maximum principle, it is optimal to fire the engine at full throttle or turn it off. This is the reason why this environment has discrete actions: engine on or off.\n",
    "\n",
    "## 1.2 Learning Objectives: <a id='1.1'></a>\n",
    "- Understand why and how function approximators can be used for Q-learning\n",
    "- Understand the Deep Q-Network RL algorithm\n",
    "\n",
    "## 1.3 Code Structure & Files <a id='1.2'></a>\n",
    "\n",
    "```ex4_dqn.ipynb``` is the file needed to be modified for this part of the assignment.  \n",
    "\n",
    "<span style=\"color:red\"> **# IMPORTANT: DO NOT FORGET ANOTHER TASK IN ```ex4_rbf.ipynb```** </span>\n",
    "\n",
    "```\n",
    "├───cfg                            # Config files for environments\n",
    "├───imgs                           # Images used in notebook\n",
    "├───results\n",
    "│   └───CartPole-v1\n",
    "│   │   ├───logging                \n",
    "│   │   │    └───logging.pkl        # Contains logged data\n",
    "│   │   ├───model              \n",
    "│   │   │    └───*dqn.pt            # Contains trained model\n",
    "│   │   └───video                   # Videos saved\n",
    "│   │   └───*cartpole_dqn.png       # Contains training performance plot\n",
    "│   └───LunarLander-v2\n",
    "│   │   ├───logging                \n",
    "│   │   │    └───logging.pkl        # Contains logged data\n",
    "│   │   ├───model              \n",
    "│   │   │    └───*dqn.pt            # Contains trained model\n",
    "│   │   └───video                   # Videos saved\n",
    "│   │   └───*lunarlander_dqn.png    # Contains training performance plot\n",
    "│   ex4_dqn.ipynb                   # 2nd assignment file containing tasks <---------This task\n",
    "│   ex4_rbf.ipynb                   # 1st assignment file containing tasks <---------\n",
    "│   train.py                        # Contains train and test functions \n",
    "│   utils.py                        # Contains useful functions \n",
    "└───buffer.py                       # Contains buffer functions\n",
    "```\n",
    "\n",
    "## 1.4 Execution time <a id='1.4'></a>\n",
    "\n",
    "The training of these methods might take more than 40 mins depends on the server. If you have problem of experiment running takes too much time, you can download the jupyter notebook and test it locally."
   ]
  },
  {
   "cell_type": "markdown",
   "id": "c6968238",
   "metadata": {
    "deletable": false,
    "editable": false,
    "nbgrader": {
     "cell_type": "markdown",
     "checksum": "47530e48db6901812adae6ba0239bc2d",
     "grade": false,
     "grade_id": "cell-fdd24e05653d4a99",
     "locked": true,
     "schema_version": 3,
     "solution": false,
     "task": false
    }
   },
   "source": [
    "## Warnings:\n",
    "\n",
    "- Don’t copy and paste cells within a notebook. This will mess up the tracking metadata and prevent autograding from working.\n",
    "- Only add new cells using the '+' button in the upper toolbar and do not split cells.\n",
    "- Be cautious about things such as copying the whole notebook to Colab to work on it. This has sometimes resulted in removing all notebook metadata, making autograding impossible."
   ]
  },
  {
   "cell_type": "markdown",
   "id": "2cba7612-914b-4860-b019-7dc32b075b6b",
   "metadata": {
    "deletable": false,
    "editable": false,
    "nbgrader": {
     "cell_type": "markdown",
     "checksum": "8ead3054091bb4a4807d085110e4ebc7",
     "grade": false,
     "grade_id": "cell-3c7108bbf5fe22bf",
     "locked": true,
     "schema_version": 3,
     "solution": false,
     "task": false
    },
    "tags": []
   },
   "source": [
    "# 2. A (not-so-)deep Q-network <a id='2.'></a>"
   ]
  },
  {
   "cell_type": "markdown",
   "id": "00b2f2ea",
   "metadata": {
    "deletable": false,
    "editable": false,
    "nbgrader": {
     "cell_type": "markdown",
     "checksum": "a84e8c7719f42c54880e4a2a07f85574",
     "grade": false,
     "grade_id": "cell-af25de8f4a4da8d9",
     "locked": true,
     "schema_version": 3,
     "solution": false,
     "task": false
    }
   },
   "source": [
    "<a id='T1'></a>\n",
    "<div class=\" alert alert-warning\">\n",
    "    <h3><b>Student Task 1.</b> Implementing DQN (10 points) </h3> \n",
    "\n",
    "Finish the incomplete code in DQNAgent (functions ```update``` and ```get_action```, marked with ```TODO```) to implement a DQN agent.\n",
    "\n",
    "**See Figure 3 for an example training performance plot for cartpole. Save the training performance plots, and check if they are in the right place (the paths please refer to <a href='#3.'>Submitting<a>).**\n",
    "\n",
    "<figure style=\"text-align: center\">\n",
    "<img src=\"imgs/dqn.png\" width=\"300px\">\n",
    "<figcaption style=\"text-align: center\"> Figure 3: The training performance plot for cartpole-dqn might look something like this. </figcaption>\n",
    "</figure>\n",
    "    \n",
    "🔝\t<a href='#TOC'><b>Table of Contents</b></a>\n",
    "</div>\n"
   ]
  },
  {
   "cell_type": "code",
   "execution_count": 17,
   "id": "4284bfc0",
   "metadata": {
    "tags": []
   },
   "outputs": [],
   "source": [
    "skip_training = True  # Set this flag to True before validation and submission"
   ]
  },
  {
   "cell_type": "code",
   "execution_count": null,
   "id": "6c9a2760",
   "metadata": {
    "deletable": false,
    "editable": false,
    "nbgrader": {
     "cell_type": "code",
     "checksum": "578a265f70c27c97dcec1ac8b16d4362",
     "grade": true,
     "grade_id": "cell-6421cfde6887e896",
     "locked": true,
     "points": 0,
     "schema_version": 3,
     "solution": false,
     "task": false
    }
   },
   "outputs": [],
   "source": []
  },
  {
   "cell_type": "code",
   "execution_count": 2,
   "id": "ec1d14d1",
   "metadata": {
    "tags": []
   },
   "outputs": [],
   "source": [
    "import sys, os\n",
    "sys.path.insert(0, os.path.abspath(\"..\"))\n",
    "from typing import List\n",
    "import numpy as np\n",
    "import torch, random, copy, yaml, time\n",
    "import torch.nn as nn\n",
    "import torch.optim as optim\n",
    "import torch.nn.functional as F\n",
    "from pathlib import Path\n",
    "\n",
    "import utils as u\n",
    "import train as t\n",
    "\n",
    "from IPython.display import Video # to display videos\n",
    "\n",
    "device = 'cpu'"
   ]
  },
  {
   "cell_type": "code",
   "execution_count": 3,
   "id": "b2c93182",
   "metadata": {
    "tags": []
   },
   "outputs": [],
   "source": [
    "def mlp(in_dim, mlp_dims: List[int], out_dim, act_fn=nn.ReLU, out_act=nn.Identity):\n",
    "    \"\"\"Returns an MLP.\"\"\"\n",
    "    if isinstance(mlp_dims, int): raise ValueError(\"mlp dimensions should be list, but got int.\")\n",
    "\n",
    "    layers = [nn.Linear(in_dim, mlp_dims[0]), act_fn()]\n",
    "    for i in range(len(mlp_dims)-1):\n",
    "        layers += [nn.Linear(mlp_dims[i], mlp_dims[i+1]), act_fn()]\n",
    "    # the output layer\n",
    "    layers += [nn.Linear(mlp_dims[-1], out_dim), out_act()]\n",
    "    return nn.Sequential(*layers)"
   ]
  },
  {
   "cell_type": "code",
   "execution_count": 4,
   "id": "6c01a546",
   "metadata": {
    "tags": []
   },
   "outputs": [],
   "source": [
    "class DQNAgent(object):\n",
    "    def __init__(self, state_shape, n_actions,\n",
    "                 batch_size=32, hidden_dims=[12], gamma=0.98, lr=1e-3, grad_clip_norm=1000, tau=0.001):\n",
    "        self.n_actions = n_actions\n",
    "        self.state_dim = state_shape[0]\n",
    "        self.policy_net = mlp(self.state_dim, hidden_dims, n_actions).to(device)\n",
    "        self.target_net = copy.deepcopy(self.policy_net)\n",
    "        self.target_net.eval()\n",
    "        self.optimizer = optim.Adam(self.policy_net.parameters(), lr=float(lr))\n",
    "\n",
    "        self.batch_size = batch_size\n",
    "        self.gamma = gamma\n",
    "        self.grad_clip_norm = grad_clip_norm\n",
    "        self.tau = tau\n",
    "        \n",
    "        self.counter = 0\n",
    "\n",
    "    def update(self, buffer):\n",
    "        \"\"\" One gradient step, update the policy net.\"\"\"\n",
    "        start = time.perf_counter()\n",
    "        self.counter += 1\n",
    "        # Do one step gradient update\n",
    "        batch = buffer.sample(self.batch_size, device=device)\n",
    "        # Hint:\n",
    "        #    state = batch.state\n",
    "        #    action = batch.action \n",
    "        #    next_state = batch.next_state\n",
    "        #    reward = batch.reward \n",
    "        #    not_done = batch.not_done \n",
    "        \n",
    "        # TODO: Task 3: Finish the DQN implementation.\n",
    "        # Hints: 1. You can use torch.gather() to gather values along an axis specified by dim. \n",
    "        #        2. torch.max returns a namedtuple (values, indices) where values is the maximum \n",
    "        #           value of each row of the input tensor in the given dimension dim.\n",
    "        #           And indices is the index location of each maximum value found (argmax).\n",
    "        #        3.  batch is a namedtuple, which has state, action, next_state, not_done, reward\n",
    "        #           you can access the value be batch.<name>, e.g, batch.state\n",
    "        #        4. check torch.nn.utils.clip_grad_norm_() to know how to clip grad norm\n",
    "        #        5. You can go throught the PyTorch Tutorial given on MyCourses if you are not familiar with it. \n",
    "        # calculate the q(s,a)\n",
    "        ########## You code starts here #########\n",
    "        state      = batch.state        \n",
    "        action     = batch.action       \n",
    "        next_state = batch.next_state\n",
    "        reward     = batch.reward       \n",
    "        not_done   = batch.not_done     \n",
    "        \n",
    "        action = action.squeeze(-1).long()      \n",
    "        reward = reward.squeeze(-1)\n",
    "        not_done = not_done.squeeze(-1)\n",
    "        q_values_all = self.policy_net(state)               \n",
    "        qs = q_values_all.gather(1, action.unsqueeze(1)).squeeze(1)\n",
    "\n",
    "        with torch.no_grad():\n",
    "            next_q_all = self.target_net(next_state)           \n",
    "            next_max_q = next_q_all.max(dim=1)[0]              \n",
    "            target = reward + self.gamma * not_done * next_max_q\n",
    "\n",
    "        loss = F.mse_loss(qs, target)\n",
    "        self.optimizer.zero_grad()\n",
    "        loss.backward()\n",
    "        torch.nn.utils.clip_grad_norm_(self.policy_net.parameters(), self.grad_clip_norm)\n",
    "        self.optimizer.step()\n",
    "    \n",
    "\n",
    "        ########## You code ends here #########\n",
    "\n",
    "        # update the target network\n",
    "        u.soft_update_params(self.policy_net, self.target_net, self.tau)\n",
    "        \n",
    "        end = time.perf_counter()\n",
    "        update_time = end - start\n",
    "        return {'loss': loss.item(), \n",
    "                'q_mean': qs.mean().item(),\n",
    "                'num_update': self.counter,\n",
    "                'update_time': update_time}\n",
    "\n",
    "\n",
    "    @torch.no_grad()\n",
    "    def get_action(self, state, epsilon=0.05):\n",
    "        # TODO:  Task 3: implement epsilon-greedy action selection\n",
    "        ########## You code starts here #########\n",
    "        p = np.random.uniform(0, 1)\n",
    "        s = torch.as_tensor(state, dtype=torch.float32, device=device).unsqueeze(0)\n",
    "        q_values = self.policy_net(s).squeeze(0).cpu().numpy()\n",
    "        if p < epsilon:\n",
    "             action = np.random.randint(self.n_actions)\n",
    "        else:\n",
    "            action = np.argmax(q_values)      \n",
    "        ########## You code ends here #########\n",
    "        return action\n",
    "\n",
    "\n",
    "    def save(self, fp):\n",
    "        path = fp/'dqn.pt'\n",
    "        torch.save({\n",
    "            'policy': self.policy_net.state_dict(),\n",
    "            'policy_target': self.target_net.state_dict()\n",
    "        }, path)\n",
    "\n",
    "    def load(self, fp):\n",
    "        path = fp/'dqn.pt'\n",
    "        d = torch.load(path)\n",
    "        self.policy_net.load_state_dict(d['policy'])\n",
    "        self.target_net.load_state_dict(d['policy_target'])"
   ]
  },
  {
   "cell_type": "code",
   "execution_count": 5,
   "id": "d1d97e7d",
   "metadata": {
    "tags": []
   },
   "outputs": [],
   "source": [
    "# init agent\n",
    "with open(Path().cwd()/'cfg'/'cartpole_dqn.yaml', 'r') as f:\n",
    "    cfg = t.Struct(**yaml.safe_load(f))\n",
    "    \n",
    "agent = DQNAgent(state_shape=cfg.state_shape, n_actions=cfg.n_actions, batch_size=cfg.batch_size, hidden_dims=cfg.hidden_dims,\n",
    "                 gamma=cfg.gamma, lr=cfg.lr, tau=cfg.tau)"
   ]
  },
  {
   "cell_type": "code",
   "execution_count": 6,
   "id": "35fc3169",
   "metadata": {
    "tags": []
   },
   "outputs": [
    {
     "name": "stdout",
     "output_type": "stream",
     "text": [
      "Numpy/Torch/Random Seed:  436\n",
      "{'ep_reward': 17.0, 'episode': 0, 'epsilon': 1.0, 'ep_avr': 0.0015612860006513074, 'ts_avr': 7.285323569222408e-05}\n",
      "{'ep_reward': 30.0, 'episode': 100, 'epsilon': 0.6666666666666666, 'ep_avr': 0.020464077600627205, 'ts_avr': 0.0010583417575944075, 'loss': 0.2019188106060028, 'q_mean': 1.0894994735717773, 'num_update': 1672, 'update_time': 0.0009624439990147948}\n",
      "{'ep_reward': 13.0, 'episode': 200, 'epsilon': 0.5, 'ep_avr': 0.019048592469625873, 'ts_avr': 0.001197648037206534, 'loss': 0.2013116329908371, 'q_mean': 2.3174784183502197, 'num_update': 3260, 'update_time': 0.000992954010143876}\n",
      "{'ep_reward': 11.0, 'episode': 300, 'epsilon': 0.4, 'ep_avr': 0.01660370858939132, 'ts_avr': 0.001234400468366238, 'loss': 0.3462071716785431, 'q_mean': 3.3129968643188477, 'num_update': 4603, 'update_time': 0.0009669940045569092}\n",
      "{'ep_reward': 12.0, 'episode': 400, 'epsilon': 0.3333333333333333, 'ep_avr': 0.013741596479958389, 'ts_avr': 0.001179465093569444, 'loss': 0.5106436014175415, 'q_mean': 4.056519985198975, 'num_update': 5766, 'update_time': 0.0012543649936560541}\n",
      "{'ep_reward': 11.0, 'episode': 500, 'epsilon': 0.2857142857142857, 'ep_avr': 0.015559580000699498, 'ts_avr': 0.0012328922894777774, 'loss': 0.8191583752632141, 'q_mean': 4.806356430053711, 'num_update': 7026, 'update_time': 0.0009778840030776337}\n",
      "{'ep_reward': 25.0, 'episode': 600, 'epsilon': 0.25, 'ep_avr': 0.015354214301187313, 'ts_avr': 0.0011882992156974379, 'loss': 0.9175302386283875, 'q_mean': 5.581897735595703, 'num_update': 8316, 'update_time': 0.0009832139912759885}\n",
      "{'ep_reward': 70.0, 'episode': 700, 'epsilon': 0.2222222222222222, 'ep_avr': 0.09008492177003063, 'ts_avr': 0.001206219323448028, 'loss': 1.040422797203064, 'q_mean': 10.83056354522705, 'num_update': 15780, 'update_time': 0.0009747250005602837}\n",
      "{'ep_reward': 72.0, 'episode': 800, 'epsilon': 0.2, 'ep_avr': 0.12555992834008067, 'ts_avr': 0.0012022976084207077, 'loss': 2.379932403564453, 'q_mean': 17.77669334411621, 'num_update': 26218, 'update_time': 0.0009808239992707968}\n",
      "{'ep_reward': 200.0, 'episode': 900, 'epsilon': 0.18181818181818182, 'ep_avr': 0.19360860042026615, 'ts_avr': 0.0011858895858582533, 'loss': 4.833054542541504, 'q_mean': 27.711429595947266, 'num_update': 42537, 'update_time': 0.0009889140055747703}\n",
      "{'ep_reward': 200.0, 'episode': 1000, 'epsilon': 0.16666666666666666, 'ep_avr': 0.23702640870134928, 'ts_avr': 0.0011949219922889275, 'loss': 0.1801786869764328, 'q_mean': 42.17170333862305, 'num_update': 62365, 'update_time': 0.0009948139922926202}\n",
      "{'ep_reward': 200.0, 'episode': 1100, 'epsilon': 0.15384615384615385, 'ep_avr': 0.2382944624594529, 'ts_avr': 0.0011909921831655082, 'loss': 0.04120119661092758, 'q_mean': 55.04839324951172, 'num_update': 82365, 'update_time': 0.0009931039967341349}\n",
      "{'ep_reward': 200.0, 'episode': 1200, 'epsilon': 0.14285714285714285, 'ep_avr': 0.23488647131962354, 'ts_avr': 0.0011962675602248335, 'loss': 0.006433463655412197, 'q_mean': 64.58329010009766, 'num_update': 101992, 'update_time': 0.0009893039969028905}\n",
      "{'ep_reward': 200.0, 'episode': 1300, 'epsilon': 0.13333333333333333, 'ep_avr': 0.2396584333908686, 'ts_avr': 0.0011978117286576889, 'loss': 0.011454718187451363, 'q_mean': 71.34526062011719, 'num_update': 121992, 'update_time': 0.001005794998491183}\n",
      "{'ep_reward': 200.0, 'episode': 1400, 'epsilon': 0.125, 'ep_avr': 0.2392669627700525, 'ts_avr': 0.0011958459025190678, 'loss': 0.016446266323328018, 'q_mean': 76.36050415039062, 'num_update': 141992, 'update_time': 0.0009984350035665557}\n",
      "{'ep_reward': 200.0, 'episode': 1500, 'epsilon': 0.11764705882352941, 'ep_avr': 0.2391957815195201, 'ts_avr': 0.0011955449335024203, 'loss': 0.005376731511205435, 'q_mean': 80.66912841796875, 'num_update': 161991, 'update_time': 0.0010057640029117465}\n",
      "{'ep_reward': 200.0, 'episode': 1600, 'epsilon': 0.1111111111111111, 'ep_avr': 0.23867605390041718, 'ts_avr': 0.001194140453897827, 'loss': 0.009581850841641426, 'q_mean': 84.07776641845703, 'num_update': 181970, 'update_time': 0.0009931649983627722}\n",
      "{'ep_reward': 170.0, 'episode': 1700, 'epsilon': 0.10526315789473684, 'ep_avr': 0.21847172234978643, 'ts_avr': 0.0011936011324712179, 'loss': 18.0820255279541, 'q_mean': 85.46398162841797, 'num_update': 200266, 'update_time': 0.0010059939959319308}\n",
      "{'ep_reward': 200.0, 'episode': 1800, 'epsilon': 0.1, 'ep_avr': 0.22006808946942327, 'ts_avr': 0.001192088743873131, 'loss': 10.122949600219727, 'q_mean': 86.29486083984375, 'num_update': 218719, 'update_time': 0.0009900739969452843}\n",
      "{'ep_reward': 200.0, 'episode': 1900, 'epsilon': 0.09523809523809523, 'ep_avr': 0.23842126101008035, 'ts_avr': 0.0011956827724108282, 'loss': 3.3539350032806396, 'q_mean': 85.71146392822266, 'num_update': 238651, 'update_time': 0.001014064997434616}\n",
      "{'ep_reward': 200.0, 'episode': 2000, 'epsilon': 0.09090909090909091, 'ep_avr': 0.2352406222501304, 'ts_avr': 0.001201241138765272, 'loss': 0.022922910749912262, 'q_mean': 84.02031707763672, 'num_update': 258226, 'update_time': 0.0009872950031422079}\n",
      "{'ep_reward': 200.0, 'episode': 2100, 'epsilon': 0.08695652173913043, 'ep_avr': 0.2392042515600042, 'ts_avr': 0.001198408301744183, 'loss': 0.013060217723250389, 'q_mean': 79.81900787353516, 'num_update': 278178, 'update_time': 0.0010231639898847789}\n",
      "{'ep_reward': 187.0, 'episode': 2200, 'epsilon': 0.08333333333333333, 'ep_avr': 0.23865817908066675, 'ts_avr': 0.0012039966433873186, 'loss': 0.030159544199705124, 'q_mean': 74.50928497314453, 'num_update': 297992, 'update_time': 0.0009976040018955246}\n",
      "{'ep_reward': 200.0, 'episode': 2300, 'epsilon': 0.08, 'ep_avr': 0.23681337830857957, 'ts_avr': 0.0011900068888858212, 'loss': 0.08929047733545303, 'q_mean': 75.49254608154297, 'num_update': 317884, 'update_time': 0.0009900040022330359}\n",
      "{'ep_reward': 200.0, 'episode': 2400, 'epsilon': 0.07692307692307693, 'ep_avr': 0.23841721141987363, 'ts_avr': 0.0011929145151130256, 'loss': 0.04151960834860802, 'q_mean': 81.35072326660156, 'num_update': 337862, 'update_time': 0.0009935540001606569}\n",
      "{'ep_reward': 200.0, 'episode': 2500, 'epsilon': 0.07407407407407407, 'ep_avr': 0.23756545254029335, 'ts_avr': 0.0011979953326662898, 'loss': 0.014272141270339489, 'q_mean': 89.73241424560547, 'num_update': 357684, 'update_time': 0.0010062939982162789}\n",
      "{'ep_reward': 200.0, 'episode': 2600, 'epsilon': 0.07142857142857142, 'ep_avr': 0.2368308739105123, 'ts_avr': 0.0012021245519748818, 'loss': 0.03496227040886879, 'q_mean': 94.15775299072266, 'num_update': 377377, 'update_time': 0.0010018739994848147}\n",
      "{'ep_reward': 200.0, 'episode': 2700, 'epsilon': 0.06896551724137931, 'ep_avr': 0.23852791171040735, 'ts_avr': 0.00119215200115068, 'loss': 0.02064068429172039, 'q_mean': 95.7986068725586, 'num_update': 397377, 'update_time': 0.000999153999146074}\n",
      "{'ep_reward': 200.0, 'episode': 2800, 'epsilon': 0.06666666666666667, 'ep_avr': 0.23841845765011385, 'ts_avr': 0.0011916039286828891, 'loss': 0.016371918842196465, 'q_mean': 97.86018371582031, 'num_update': 417377, 'update_time': 0.0010082640073960647}\n",
      "{'ep_reward': 200.0, 'episode': 2900, 'epsilon': 0.06451612903225806, 'ep_avr': 0.23739077016041846, 'ts_avr': 0.0011959781401291562, 'loss': 0.011938763782382011, 'q_mean': 100.07684326171875, 'num_update': 437218, 'update_time': 0.0010034550068667158}\n",
      "{'ep_reward': 200.0, 'episode': 3000, 'epsilon': 0.0625, 'ep_avr': 0.239344738949585, 'ts_avr': 0.0011962306024346618, 'loss': 0.02667730115354061, 'q_mean': 100.9832992553711, 'num_update': 457218, 'update_time': 0.0009765439899638295}\n",
      "{'ep_reward': 200.0, 'episode': 3100, 'epsilon': 0.06060606060606061, 'ep_avr': 0.23893539558077465, 'ts_avr': 0.0011941890252332088, 'loss': 0.02801183983683586, 'q_mean': 101.37063598632812, 'num_update': 477218, 'update_time': 0.0009722539980430156}\n",
      "{'ep_reward': 200.0, 'episode': 3200, 'epsilon': 0.058823529411764705, 'ep_avr': 0.23929627487028482, 'ts_avr': 0.0011959891391052225, 'loss': 0.002780495909973979, 'q_mean': 101.51176452636719, 'num_update': 497218, 'update_time': 0.0010025939991464838}\n",
      "{'ep_reward': 200.0, 'episode': 3300, 'epsilon': 0.05714285714285714, 'ep_avr': 0.23809916801023065, 'ts_avr': 0.0011929897844412407, 'loss': 0.04207855835556984, 'q_mean': 101.55154418945312, 'num_update': 517168, 'update_time': 0.0010120249935425818}\n",
      "{'ep_reward': 200.0, 'episode': 3400, 'epsilon': 0.05555555555555555, 'ep_avr': 0.23829023787009646, 'ts_avr': 0.001191639378289553, 'loss': 0.036403555423021317, 'q_mean': 101.68611145019531, 'num_update': 537156, 'update_time': 0.000994504996924661}\n",
      "{'ep_reward': 200.0, 'episode': 3500, 'epsilon': 0.05405405405405406, 'ep_avr': 0.2393809603594127, 'ts_avr': 0.001198333353709102, 'loss': 0.032205983996391296, 'q_mean': 101.0928955078125, 'num_update': 557124, 'update_time': 0.0009858840057859197}\n",
      "{'ep_reward': 200.0, 'episode': 3600, 'epsilon': 0.05263157894736842, 'ep_avr': 0.23816735627988236, 'ts_avr': 0.0011911238652848636, 'loss': 0.028527773916721344, 'q_mean': 98.72089385986328, 'num_update': 577111, 'update_time': 0.001002853998215869}\n",
      "{'ep_reward': 175.0, 'episode': 3700, 'epsilon': 0.05128205128205128, 'ep_avr': 0.23846550561996993, 'ts_avr': 0.0012033891919376804, 'loss': 0.031474336981773376, 'q_mean': 98.50125122070312, 'num_update': 596919, 'update_time': 0.0009974940039683133}\n",
      "{'ep_reward': 195.0, 'episode': 3800, 'epsilon': 0.05, 'ep_avr': 0.24506461549084635, 'ts_avr': 0.0012743937712347306, 'loss': 0.07590232044458389, 'q_mean': 92.66021728515625, 'num_update': 616141, 'update_time': 0.0009896539995679632}\n",
      "{'ep_reward': 200.0, 'episode': 3900, 'epsilon': 0.05, 'ep_avr': 0.24534870028030129, 'ts_avr': 0.0012298111058745632, 'loss': 0.7638000249862671, 'q_mean': 90.74568939208984, 'num_update': 636083, 'update_time': 0.0010013340070145205}\n",
      "------ Training Finished ------\n"
     ]
    }
   ],
   "source": [
    "# Trainig takes approximately 40 mins,depends on server\n",
    "if not skip_training:\n",
    "    t.train(agent,  cfg_path=Path().cwd()/'cfg'/'cartpole_dqn.yaml',) "
   ]
  },
  {
   "cell_type": "code",
   "execution_count": 7,
   "id": "9a9a1164-6330-4e45-ba52-1a84d8a91001",
   "metadata": {
    "tags": []
   },
   "outputs": [
    {
     "name": "stdout",
     "output_type": "stream",
     "text": [
      "Numpy/Torch/Random Seed:  436\n"
     ]
    },
    {
     "data": {
      "image/png": "[encoded data removed]",
      "text/plain": [
       "<Figure size 640x480 with 1 Axes>"
      ]
     },
     "metadata": {},
     "output_type": "display_data"
    }
   ],
   "source": [
    "# Visualize the DQN training plots for the cartpole \n",
    "if not skip_training:\n",
    "    t.plot(save_name='cartpole_dqn.png', cfg_path=Path().cwd()/'cfg'/'cartpole_dqn.yaml',)"
   ]
  },
  {
   "cell_type": "markdown",
   "id": "adf80e71",
   "metadata": {},
   "source": [
    "In order to get full points from the task make sure most of the test episodes give a reward of 200, given the seeds below (at least 50% of episodes)."
   ]
  },
  {
   "cell_type": "code",
   "execution_count": 8,
   "id": "09736f3b",
   "metadata": {
    "tags": []
   },
   "outputs": [
    {
     "name": "stdout",
     "output_type": "stream",
     "text": [
      "Numpy/Torch/Random Seed:  436\n",
      "{'episode': 0, 'ep_reward': 200.0}\n",
      "{'episode': 1, 'ep_reward': 200.0}\n",
      "{'episode': 2, 'ep_reward': 200.0}\n",
      "{'episode': 3, 'ep_reward': 200.0}\n",
      "{'episode': 4, 'ep_reward': 200.0}\n",
      "{'episode': 5, 'ep_reward': 200.0}\n",
      "{'episode': 6, 'ep_reward': 200.0}\n",
      "{'episode': 7, 'ep_reward': 200.0}\n",
      "{'episode': 8, 'ep_reward': 200.0}\n",
      "{'episode': 9, 'ep_reward': 200.0}\n"
     ]
    }
   ],
   "source": [
    "if not skip_training:\n",
    "    t.test(agent, cfg_path=Path().cwd()/'cfg'/'cartpole_dqn.yaml', cfg_args=dict(save_video=True), seeds=[67, 23, 89, 12, 45, 78, 34, 90, 21, 56])"
   ]
  },
  {
   "cell_type": "code",
   "execution_count": 9,
   "id": "e3658eb5",
   "metadata": {
    "deletable": false,
    "editable": false,
    "nbgrader": {
     "cell_type": "code",
     "checksum": "38a43041b8d9d7219c1c55d322617d12",
     "grade": true,
     "grade_id": "cell-3ef5a6f870ccd026",
     "locked": true,
     "points": 5,
     "schema_version": 3,
     "solution": false,
     "task": false
    },
    "tags": []
   },
   "outputs": [],
   "source": [
    "%%capture --no-stdout\n",
    "\"TEST\""
   ]
  },
  {
   "cell_type": "code",
   "execution_count": 10,
   "id": "6c63b5ce",
   "metadata": {
    "tags": []
   },
   "outputs": [
    {
     "data": {
      "text/html": [
       "<video loop autoplay  >\n",
       " <source src=\"data:video/mp4;base64,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\" type=\"video/mp4\">\n",
       " Your browser does not support the video tag.\n",
       " </video>"
      ],
      "text/plain": [
       "<IPython.core.display.Video object>"
      ]
     },
     "metadata": {},
     "output_type": "display_data"
    }
   ],
   "source": [
    "if not skip_training:\n",
    "      video = Video(Path().cwd()/'results'/'CartPole-v1'/'video'/'test'/'ex4_dqn-episode-0.mp4',\n",
    "      embed=True, html_attributes=\"loop autoplay\") # Set html_attributes=\"controls\" for video control\n",
    "      display(video)"
   ]
  },
  {
   "cell_type": "code",
   "execution_count": 11,
   "id": "004fa76f",
   "metadata": {
    "tags": []
   },
   "outputs": [],
   "source": [
    "# init agent\n",
    "with open(Path().cwd()/'cfg'/'lunarlander_dqn.yaml', 'r') as f:\n",
    "    cfg = t.Struct(**yaml.safe_load(f))\n",
    "    \n",
    "agent = DQNAgent(state_shape=cfg.state_shape, n_actions=cfg.n_actions, batch_size=cfg.batch_size, hidden_dims=cfg.hidden_dims,\n",
    "                 gamma=cfg.gamma, lr=cfg.lr, tau=cfg.tau)"
   ]
  },
  {
   "cell_type": "code",
   "execution_count": 12,
   "id": "d3775e17",
   "metadata": {
    "tags": []
   },
   "outputs": [
    {
     "name": "stdout",
     "output_type": "stream",
     "text": [
      "Numpy/Torch/Random Seed:  436\n",
      "{'ep_reward': -163.82833290613456, 'episode': 0, 'epsilon': 1.0, 'ep_avr': 0.006821597999078222, 'ts_avr': 8.288770914077759e-05}\n",
      "{'ep_reward': -86.28663717787771, 'episode': 100, 'epsilon': 0.6666666666666666, 'ep_avr': 0.22705684639935497, 'ts_avr': 0.0020402254842452117, 'loss': 37.38297653198242, 'q_mean': -5.417896270751953, 'num_update': 10288, 'update_time': 0.002341009007068351}\n",
      "{'ep_reward': -57.316438904949706, 'episode': 200, 'epsilon': 0.5, 'ep_avr': 0.3219150094001088, 'ts_avr': 0.002108271769630427, 'loss': 7.4988627433776855, 'q_mean': -3.1395115852355957, 'num_update': 25537, 'update_time': 0.001884387995232828}\n",
      "{'ep_reward': 87.69409794859281, 'episode': 300, 'epsilon': 0.4, 'ep_avr': 0.6051804140595778, 'ts_avr': 0.0021143193625399502, 'loss': 14.109511375427246, 'q_mean': 8.132709503173828, 'num_update': 54137, 'update_time': 0.001757327001541853}\n",
      "{'ep_reward': 136.97005263079637, 'episode': 400, 'epsilon': 0.3333333333333333, 'ep_avr': 0.9042905585208791, 'ts_avr': 0.002099173392257509, 'loss': 6.104452133178711, 'q_mean': 21.347753524780273, 'num_update': 97190, 'update_time': 0.002273259000503458}\n",
      "{'ep_reward': 105.86815837916978, 'episode': 500, 'epsilon': 0.2857142857142857, 'ep_avr': 1.0060599898603686, 'ts_avr': 0.002117028793481109, 'loss': 13.102872848510742, 'q_mean': 29.035743713378906, 'num_update': 144686, 'update_time': 0.0018900580034824088}\n",
      "{'ep_reward': 155.59259475103073, 'episode': 600, 'epsilon': 0.25, 'ep_avr': 0.9890850696298003, 'ts_avr': 0.0021114492330161568, 'loss': 3.192187786102295, 'q_mean': 38.47913360595703, 'num_update': 191504, 'update_time': 0.0017624269967200235}\n",
      "{'ep_reward': 107.40167295590739, 'episode': 700, 'epsilon': 0.2222222222222222, 'ep_avr': 1.033485775559093, 'ts_avr': 0.0021476387374890727, 'loss': 17.12608528137207, 'q_mean': 43.546512603759766, 'num_update': 239600, 'update_time': 0.002431709988741204}\n",
      "{'ep_reward': 90.48896205030208, 'episode': 800, 'epsilon': 0.2, 'ep_avr': 1.279792377849808, 'ts_avr': 0.002584442231910255, 'loss': 4.498351573944092, 'q_mean': 45.201297760009766, 'num_update': 289094, 'update_time': 0.0024432299978798255}\n",
      "{'ep_reward': 105.94311042183887, 'episode': 900, 'epsilon': 0.18181818181818182, 'ep_avr': 1.198525248159276, 'ts_avr': 0.00243184092849272, 'loss': 4.431154251098633, 'q_mean': 44.0305290222168, 'num_update': 338353, 'update_time': 0.001745647008647211}\n",
      "{'ep_reward': 111.44747853853764, 'episode': 1000, 'epsilon': 0.16666666666666666, 'ep_avr': 1.0258255836596073, 'ts_avr': 0.002129780676364163, 'loss': 10.01602554321289, 'q_mean': 42.148284912109375, 'num_update': 386493, 'update_time': 0.0018012479995377362}\n",
      "{'ep_reward': 169.23302626085697, 'episode': 1100, 'epsilon': 0.15384615384615385, 'ep_avr': 0.9628322610796022, 'ts_avr': 0.0021009818912432546, 'loss': 1.7758822441101074, 'q_mean': 45.196563720703125, 'num_update': 432295, 'update_time': 0.0018047579942503944}\n",
      "{'ep_reward': 150.33466240077422, 'episode': 1200, 'epsilon': 0.14285714285714285, 'ep_avr': 0.8933688045598683, 'ts_avr': 0.0021298780745212732, 'loss': 1.53964102268219, 'q_mean': 43.22133255004883, 'num_update': 474215, 'update_time': 0.0018383980059297755}\n",
      "{'ep_reward': 266.7909530194056, 'episode': 1300, 'epsilon': 0.13333333333333333, 'ep_avr': 0.9582192126791051, 'ts_avr': 0.0022683961797399367, 'loss': 1.9743515253067017, 'q_mean': 48.15069580078125, 'num_update': 516434, 'update_time': 0.0018925280019175261}\n",
      "{'ep_reward': 278.5394742874739, 'episode': 1400, 'epsilon': 0.125, 'ep_avr': 0.9150995650992263, 'ts_avr': 0.0022605994978105314, 'loss': 21.561861038208008, 'q_mean': 47.65673828125, 'num_update': 556891, 'update_time': 0.001962477996130474}\n",
      "{'ep_reward': 175.5336341643967, 'episode': 1500, 'epsilon': 0.11764705882352941, 'ep_avr': 0.825550398749765, 'ts_avr': 0.00221749494815774, 'loss': 10.772385597229004, 'q_mean': 49.791831970214844, 'num_update': 594097, 'update_time': 0.0017721370095387101}\n",
      "{'ep_reward': 288.8022895253349, 'episode': 1600, 'epsilon': 0.1111111111111111, 'ep_avr': 0.7084266218893753, 'ts_avr': 0.0021100807208613835, 'loss': 17.200963973999023, 'q_mean': 51.52269744873047, 'num_update': 627647, 'update_time': 0.0017970070039154962}\n",
      "{'ep_reward': 248.7851664275209, 'episode': 1700, 'epsilon': 0.10526315789473684, 'ep_avr': 0.700156081860041, 'ts_avr': 0.0021703480012377984, 'loss': 8.248226165771484, 'q_mean': 55.940914154052734, 'num_update': 659884, 'update_time': 0.0022994099999777973}\n",
      "{'ep_reward': 115.47694060918022, 'episode': 1800, 'epsilon': 0.1, 'ep_avr': 0.7510257726295094, 'ts_avr': 0.002249131672506335, 'loss': 1.4568705558776855, 'q_mean': 59.12185287475586, 'num_update': 693253, 'update_time': 0.002279369000461884}\n",
      "{'ep_reward': 284.35584709102966, 'episode': 1900, 'epsilon': 0.09523809523809523, 'ep_avr': 0.7771984505587898, 'ts_avr': 0.002597326111380922, 'loss': 1.0011836290359497, 'q_mean': 60.801414489746094, 'num_update': 723154, 'update_time': 0.0022535989992320538}\n",
      "------ Training Finished ------\n"
     ]
    }
   ],
   "source": [
    "# Trainig takes approximately 60 mins,depends on server\n",
    "if not skip_training:\n",
    "    t.train(agent, cfg_path=Path().cwd()/'cfg'/'lunarlander_dqn.yaml', cfg_args=dict()) "
   ]
  },
  {
   "cell_type": "code",
   "execution_count": 13,
   "id": "3e2a7511-d1aa-4691-be76-406dbccdc739",
   "metadata": {
    "tags": []
   },
   "outputs": [
    {
     "name": "stdout",
     "output_type": "stream",
     "text": [
      "Numpy/Torch/Random Seed:  436\n"
     ]
    },
    {
     "data": {
      "image/png": "[encoded data removed]",
      "text/plain": [
       "<Figure size 640x480 with 1 Axes>"
      ]
     },
     "metadata": {},
     "output_type": "display_data"
    }
   ],
   "source": [
    "# Visualize the DQN training plots for the lunarlander task\n",
    "if not skip_training:\n",
    "    t.plot(save_name='lunarlander_dqn.png', cfg_path=Path().cwd()/'cfg'/'lunarlander_dqn.yaml', cfg_args=dict())"
   ]
  },
  {
   "cell_type": "markdown",
   "id": "74030fd2",
   "metadata": {},
   "source": [
    "In order to get full points from the task make sure most of the test episodes give a reward of 200, given the seeds below (at least 50% of episodes)."
   ]
  },
  {
   "cell_type": "code",
   "execution_count": 14,
   "id": "ba2808d4",
   "metadata": {
    "tags": []
   },
   "outputs": [
    {
     "name": "stdout",
     "output_type": "stream",
     "text": [
      "Numpy/Torch/Random Seed:  436\n",
      "{'episode': 0, 'ep_reward': 289.87777405221595}\n",
      "{'episode': 1, 'ep_reward': 304.7334871553543}\n",
      "{'episode': 2, 'ep_reward': 294.59875664633086}\n",
      "{'episode': 3, 'ep_reward': 165.82146333256432}\n",
      "{'episode': 4, 'ep_reward': 259.37842018450306}\n",
      "{'episode': 5, 'ep_reward': 261.7753849970198}\n",
      "{'episode': 6, 'ep_reward': 273.38310977309}\n",
      "{'episode': 7, 'ep_reward': 235.82000416726862}\n",
      "{'episode': 8, 'ep_reward': 307.1327174321549}\n",
      "{'episode': 9, 'ep_reward': 298.09016060549504}\n"
     ]
    }
   ],
   "source": [
    "if not skip_training:\n",
    "    t.test(agent, cfg_path=Path().cwd()/'cfg'/'lunarlander_dqn.yaml', cfg_args=dict(save_video=True),seeds=[67, 23, 89, 12, 45, 78, 34, 90, 21, 56])"
   ]
  },
  {
   "cell_type": "code",
   "execution_count": 15,
   "id": "85204079",
   "metadata": {
    "deletable": false,
    "editable": false,
    "nbgrader": {
     "cell_type": "code",
     "checksum": "5b145c58866764ca02e0b5c4729621a0",
     "grade": true,
     "grade_id": "cell-7c41d50955488cf2",
     "locked": true,
     "points": 5,
     "schema_version": 3,
     "solution": false,
     "task": false
    },
    "tags": []
   },
   "outputs": [],
   "source": [
    "%%capture --no-stdout\n",
    "\"TEST\""
   ]
  },
  {
   "cell_type": "code",
   "execution_count": 16,
   "id": "e34889d9",
   "metadata": {
    "tags": []
   },
   "outputs": [
    {
     "data": {
      "text/html": [
       "<video loop autoplay  >\n",
       " <source src=\"data:video/mp4;base64,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\" type=\"video/mp4\">\n",
       " Your browser does not support the video tag.\n",
       " </video>"
      ],
      "text/plain": [
       "<IPython.core.display.Video object>"
      ]
     },
     "metadata": {},
     "output_type": "display_data"
    }
   ],
   "source": [
    "if not skip_training:\n",
    "  video = Video(Path().cwd()/'results'/'LunarLander-v2'/'video'/'test'/'ex4_dqn-episode-8.mp4',\n",
    "  embed=True, html_attributes=\"loop autoplay\") # Set html_attributes=\"controls\" for video control\n",
    "  display(video)"
   ]
  },
  {
   "cell_type": "markdown",
   "id": "55896461",
   "metadata": {
    "deletable": false,
    "editable": false,
    "nbgrader": {
     "cell_type": "markdown",
     "checksum": "7672a364f357aec8cb5210d0f941fe63",
     "grade": false,
     "grade_id": "cell-c5606712f2bd514a",
     "locked": true,
     "schema_version": 3,
     "solution": false,
     "task": false
    },
    "tags": []
   },
   "source": [
    "<a id='Q1'></a>\n",
    "<div class=\" alert alert-warning\">\n",
    "    <h3><b>Student Question 1.1</b> Considering Continuous Action Spaces (5 points) </h3> \n",
    "    \n",
    "🔝\t<a href='#TOC'><b>Table of Contents</b></a>\n",
    "</div>\n"
   ]
  },
  {
   "cell_type": "markdown",
   "id": "9b95154b-026f-4e95-9492-20782e8aa24d",
   "metadata": {
    "deletable": false,
    "editable": false,
    "nbgrader": {
     "cell_type": "markdown",
     "checksum": "5f6c4dc6645b2c94d0cbd2e55e2ebe45",
     "grade": false,
     "grade_id": "cell-d77b9f2562ab2797",
     "locked": true,
     "schema_version": 3,
     "solution": false,
     "task": false
    },
    "tags": []
   },
   "source": [
    "### 1.1.1 Question (5 points):\n",
    "Can Q-learning be used directly in environments with continuous action spaces?\n",
    "\n",
    "**Select one:**\n",
    "\n",
    "1. Yes, Q-learning can be used directly without any modifications.\n",
    "2. No, Q-learning cannot be used directly because it only works with a discrete set of actions.\n",
    "3. No, Q-learning cannot be used directly in continuous action spaces, but it can be adapted with certain modifications.\n",
    "4. Yes, Q-learning can be used directly, but it is less efficient than in discrete action spaces."
   ]
  },
  {
   "cell_type": "code",
   "execution_count": 23,
   "id": "22025c94-158f-4ee7-834a-1248eb189d1a",
   "metadata": {
    "tags": []
   },
   "outputs": [],
   "source": [
    "sq_1_1_1 = 3 # Replace with the appropriate answer number"
   ]
  },
  {
   "cell_type": "markdown",
   "id": "29c2290f-67a7-4fe8-9a55-7db7bb6c88f6",
   "metadata": {},
   "source": [
    "The following cells are used for grading"
   ]
  },
  {
   "cell_type": "code",
   "execution_count": 24,
   "id": "abdf5784-303d-4aa9-b036-75219830d49d",
   "metadata": {
    "deletable": false,
    "editable": false,
    "nbgrader": {
     "cell_type": "code",
     "checksum": "85bc371a65d530f9fc963804e483295d",
     "grade": true,
     "grade_id": "cell-9b579c6ba03d991a",
     "locked": true,
     "points": 0,
     "schema_version": 3,
     "solution": false,
     "task": false
    },
    "tags": []
   },
   "outputs": [],
   "source": [
    "assert sq_1_1_1 in range(1, 5)"
   ]
  },
  {
   "cell_type": "code",
   "execution_count": null,
   "id": "42005b40-9ed9-4977-bcbf-8420c8d177b4",
   "metadata": {
    "deletable": false,
    "editable": false,
    "nbgrader": {
     "cell_type": "code",
     "checksum": "0cca2254b439447f716776ca19336a27",
     "grade": true,
     "grade_id": "cell-254ea90497e5d82c",
     "locked": true,
     "points": 5,
     "schema_version": 3,
     "solution": false,
     "task": false
    },
    "tags": []
   },
   "outputs": [],
   "source": []
  },
  {
   "cell_type": "markdown",
   "id": "1395f3d1",
   "metadata": {
    "deletable": false,
    "editable": false,
    "nbgrader": {
     "cell_type": "markdown",
     "checksum": "294b5606dc64ab643d5b5cb9823f7068",
     "grade": false,
     "grade_id": "cell-ca3df96c77733d4f",
     "locked": true,
     "schema_version": 3,
     "solution": false,
     "task": false
    },
    "tags": []
   },
   "source": [
    "<a id='Q2'></a>\n",
    "<div class=\" alert alert-warning\">\n",
    "    <h3><b>Student Question 1.2</b> Continuous Action Spaces Part 1 (15 points) </h3> \n",
    "    \n",
    "🔝\t<a href='#TOC'><b>Table of Contents</b></a>\n",
    "</div>\n"
   ]
  },
  {
   "cell_type": "markdown",
   "id": "f5ee6c44-ca32-4620-85c5-204a4ef2646d",
   "metadata": {
    "deletable": false,
    "editable": false,
    "nbgrader": {
     "cell_type": "markdown",
     "checksum": "368c9ec46e655d5206fd92a3afd6452c",
     "grade": false,
     "grade_id": "cell-19c97802050ed143",
     "locked": true,
     "schema_version": 3,
     "solution": false,
     "task": false
    },
    "tags": []
   },
   "source": [
    "### 1.2.1 Question (5 points):\n",
    "\n",
    "What is the primary challenge when applying DQN to a continuous action space? Hint: select the one that describes the main issue.\n",
    "\n",
    "**Select one:**\n",
    "\n",
    "1. Updating the Q values\n",
    "2. Storing the Q values\n",
    "3. Performing the maximization (argmax) operation\n",
    "4. Calculating the loss function\n",
    "5. Calculating the reward"
   ]
  },
  {
   "cell_type": "code",
   "execution_count": 25,
   "id": "4e8f0ef2-5e19-41d8-bf49-3c8f38ffe645",
   "metadata": {
    "tags": []
   },
   "outputs": [],
   "source": [
    "sq_1_2_1 = 3 # Replace with the appropriate answer number"
   ]
  },
  {
   "cell_type": "markdown",
   "id": "88c67c7f-cabd-40df-97a6-8ddbcfa9a8d6",
   "metadata": {
    "deletable": false,
    "editable": false,
    "nbgrader": {
     "cell_type": "markdown",
     "checksum": "ed192a4eb4250673f4af98c6e743ef23",
     "grade": false,
     "grade_id": "cell-97197487f8ceeb64",
     "locked": true,
     "schema_version": 3,
     "solution": false,
     "task": false
    },
    "tags": []
   },
   "source": [
    "### 1.2.2 Question (5 points):\n",
    "\n",
    "Which one of the following methods does NOT address the continuous action space problem in DQN?\n",
    "\n",
    "**Select one:**\n",
    "\n",
    "1. Learn a function approximation for the maximum of the Q-function\n",
    "2. Use a policy to draw samples of Q(s,a) and select the action with the highest Q-value (e.g., MPO)\n",
    "3. Approximate the Q-function as a convex function\n",
    "4. Use a Deep Deterministic Policy Gradient (DDPG) approach to learn a policy and Q-function simultaneously\n",
    "5. Use a Double DQN approach with two separate networks to estimate Q-values for continuous actions\n",
    "6. Discretize the action space with fine-grained intervals"
   ]
  },
  {
   "cell_type": "code",
   "execution_count": 26,
   "id": "9f1ae7de-289e-44ab-bfed-437273e38cf4",
   "metadata": {
    "tags": []
   },
   "outputs": [],
   "source": [
    "sq_1_2_2 = 5 # Replace with the appropriate answer number"
   ]
  },
  {
   "cell_type": "markdown",
   "id": "dbbf50e1-f1d0-4735-a614-adffd7574619",
   "metadata": {
    "deletable": false,
    "editable": false,
    "nbgrader": {
     "cell_type": "markdown",
     "checksum": "ccae140251592e9baae2e607b9db5a96",
     "grade": false,
     "grade_id": "cell-f42263c476c89d1f",
     "locked": true,
     "schema_version": 3,
     "solution": false,
     "task": false
    },
    "tags": []
   },
   "source": [
    "### 1.2.3 Question (5 points):\n",
    "\n",
    "Discretization is one approach to address the continuous action space problem. What is a **significant** limitation of discretizing the action space to address the continuous action space problem in DQN?\n",
    "\n",
    "**Select one:**\n",
    "\n",
    "1. It may not generalize well to actions outside the discrete set\n",
    "2. It increases the size of the state space exponentially\n",
    "3. It requires modifying the neural network architecture\n",
    "4. It can lead to unstable learning in the early stages of training\n",
    "5. It makes the reward function non-differentiable"
   ]
  },
  {
   "cell_type": "code",
   "execution_count": 27,
   "id": "134ba924-6705-4982-8477-93f27336b475",
   "metadata": {
    "tags": []
   },
   "outputs": [],
   "source": [
    "sq_1_2_3 = 1 # Replace with the appropriate answer number"
   ]
  },
  {
   "cell_type": "markdown",
   "id": "3695dc82-6d20-4051-9e8e-1e256a5bf8fb",
   "metadata": {
    "deletable": false,
    "editable": false,
    "nbgrader": {
     "cell_type": "markdown",
     "checksum": "ea9c2ff3ff7fa62ff869bc2e92a32207",
     "grade": false,
     "grade_id": "cell-6d65dca0030ecedc",
     "locked": true,
     "schema_version": 3,
     "solution": false,
     "task": false
    },
    "tags": []
   },
   "source": [
    "The following cells are used for grading"
   ]
  },
  {
   "cell_type": "code",
   "execution_count": 28,
   "id": "7edf9407-26e1-4b81-910f-a877ebd3d68e",
   "metadata": {
    "deletable": false,
    "editable": false,
    "nbgrader": {
     "cell_type": "code",
     "checksum": "4e70d5f938adbf449599993ed8984ee7",
     "grade": true,
     "grade_id": "cell-b7c78664ec74ec2a",
     "locked": true,
     "points": 0,
     "schema_version": 3,
     "solution": false,
     "task": false
    },
    "tags": []
   },
   "outputs": [],
   "source": [
    "assert sq_1_2_1 in range(1, 6)\n",
    "assert sq_1_2_2 in range(1, 7)\n",
    "assert sq_1_2_3 in range(1, 6)"
   ]
  },
  {
   "cell_type": "code",
   "execution_count": null,
   "id": "d1c89084-b34b-4b3b-bb23-6d84d3b17180",
   "metadata": {
    "deletable": false,
    "editable": false,
    "nbgrader": {
     "cell_type": "code",
     "checksum": "261ad454b4494ded2716bb3ea7da00f4",
     "grade": true,
     "grade_id": "cell-cee299bf0c9ac8e4",
     "locked": true,
     "points": 5,
     "schema_version": 3,
     "solution": false,
     "task": false
    },
    "tags": []
   },
   "outputs": [],
   "source": []
  },
  {
   "cell_type": "code",
   "execution_count": null,
   "id": "9c4eeeb7-aa75-49f5-b69a-3a157060ef58",
   "metadata": {
    "deletable": false,
    "editable": false,
    "nbgrader": {
     "cell_type": "code",
     "checksum": "a0166d8f9297188b4711c3a925bf6006",
     "grade": true,
     "grade_id": "cell-bd84024a26ba389c",
     "locked": true,
     "points": 5,
     "schema_version": 3,
     "solution": false,
     "task": false
    },
    "tags": []
   },
   "outputs": [],
   "source": []
  },
  {
   "cell_type": "code",
   "execution_count": null,
   "id": "11daf090-e4f1-4ca7-bd2a-9e786c3d794b",
   "metadata": {
    "deletable": false,
    "editable": false,
    "nbgrader": {
     "cell_type": "code",
     "checksum": "b14e5eefe2c878d41a5c63ece44a2ab4",
     "grade": true,
     "grade_id": "cell-42e6f022fdf27684",
     "locked": true,
     "points": 5,
     "schema_version": 3,
     "solution": false,
     "task": false
    },
    "tags": []
   },
   "outputs": [],
   "source": []
  },
  {
   "cell_type": "markdown",
   "id": "f10e680f",
   "metadata": {
    "deletable": false,
    "editable": false,
    "nbgrader": {
     "cell_type": "markdown",
     "checksum": "84e1103ca1d0b41cb9afb1cceed72204",
     "grade": false,
     "grade_id": "cell-640e21ebd354971a",
     "locked": true,
     "schema_version": 3,
     "solution": false,
     "task": false
    },
    "tags": []
   },
   "source": [
    "<a id='Q3'></a>\n",
    "<div class=\" alert alert-warning\">\n",
    "    <h3><b>Student Question 1.3</b> The Target Network (10 points) </h3> \n",
    "    \n",
    "🔝\t<a href='#TOC'><b>Table of Contents</b></a>\n",
    "</div>\n"
   ]
  },
  {
   "cell_type": "markdown",
   "id": "11f15fdf-5b08-469f-a0d5-f63f6a969aff",
   "metadata": {
    "deletable": false,
    "editable": false,
    "nbgrader": {
     "cell_type": "markdown",
     "checksum": "61cefb26ece3864427822aed99841924",
     "grade": false,
     "grade_id": "cell-a748a52ab72e0273",
     "locked": true,
     "schema_version": 3,
     "solution": false,
     "task": false
    },
    "tags": []
   },
   "source": [
    "### 1.3.1 Question (5 points):\n",
    "\n",
    "Why do we use a separate target network in DQN instead of using the same network for both Q(s,a) and max_a(Q(s', ·))?\n",
    "\n",
    "**Select one:**\n",
    "\n",
    "1. To prevent the network from overfitting to the most recent transitions\n",
    "2. To ensure that the Q-values are always within a specific range\n",
    "3. To stabilize the training process by preventing frequent changes in target values\n",
    "4. To enable the network to learn from both on-policy and off-policy data"
   ]
  },
  {
   "cell_type": "code",
   "execution_count": 29,
   "id": "559704b6-23fd-4973-92ba-6492923011e2",
   "metadata": {
    "tags": []
   },
   "outputs": [],
   "source": [
    "sq_1_3_1 = 3 # Replace with the appropriate answer number"
   ]
  },
  {
   "cell_type": "markdown",
   "id": "aa24ade0-0094-401f-820d-956a237e2247",
   "metadata": {
    "deletable": false,
    "editable": false,
    "nbgrader": {
     "cell_type": "markdown",
     "checksum": "e10a194b9212ed25ee1f1a223182e825",
     "grade": false,
     "grade_id": "cell-e43b228069f05456",
     "locked": true,
     "schema_version": 3,
     "solution": false,
     "task": false
    },
    "tags": []
   },
   "source": [
    "### 1.3.2 Question (5 points):\n",
    "\n",
    "What would happen if we don't stop the gradient of the target Q-value in DQN?\n",
    "\n",
    "**Select one:**\n",
    "\n",
    "1. The optimization process would become more stable due to the joint updates\n",
    "2. The target network updates would be synchronized with the main network updates\n",
    "3. Both the current Q-values and the target Q-values would be updated during optimization\n",
    "4. The algorithm would effectively switch to an on-policy learning method"
   ]
  },
  {
   "cell_type": "code",
   "execution_count": 30,
   "id": "e7714624-1df2-4e67-aa6a-0b248f69981e",
   "metadata": {
    "tags": []
   },
   "outputs": [],
   "source": [
    "sq_1_3_2 = 3 # Replace with the appropriate answer number"
   ]
  },
  {
   "cell_type": "markdown",
   "id": "de0dd848-e39f-4fa8-bd6c-4b4c38396412",
   "metadata": {
    "deletable": false,
    "editable": false,
    "nbgrader": {
     "cell_type": "markdown",
     "checksum": "87ced07276419b634e8b7d852523bc90",
     "grade": false,
     "grade_id": "cell-2f5dabf7c2e0b401",
     "locked": true,
     "schema_version": 3,
     "solution": false,
     "task": false
    },
    "tags": []
   },
   "source": [
    "The following cells are used for grading"
   ]
  },
  {
   "cell_type": "code",
   "execution_count": 31,
   "id": "92b45bf0-c052-4b1c-b19c-750b371a6cf4",
   "metadata": {
    "deletable": false,
    "editable": false,
    "nbgrader": {
     "cell_type": "code",
     "checksum": "738fa24b9d702b770e751fa6df17c2a3",
     "grade": true,
     "grade_id": "cell-7427871eee3676e5",
     "locked": true,
     "points": 0,
     "schema_version": 3,
     "solution": false,
     "task": false
    },
    "tags": []
   },
   "outputs": [],
   "source": [
    "assert sq_1_3_1 in range(1, 5)\n",
    "assert sq_1_3_2 in range(1, 5)"
   ]
  },
  {
   "cell_type": "code",
   "execution_count": null,
   "id": "08be39cf-a443-4ce7-b709-4701b5b9d187",
   "metadata": {
    "deletable": false,
    "editable": false,
    "nbgrader": {
     "cell_type": "code",
     "checksum": "1f7a58a67e676406e37624e5050e1132",
     "grade": true,
     "grade_id": "cell-06da3985fcfd8e51",
     "locked": true,
     "points": 5,
     "schema_version": 3,
     "solution": false,
     "task": false
    },
    "tags": []
   },
   "outputs": [],
   "source": []
  },
  {
   "cell_type": "code",
   "execution_count": null,
   "id": "5b6fd766-1305-43dd-8a4f-756ad0457882",
   "metadata": {
    "deletable": false,
    "editable": false,
    "nbgrader": {
     "cell_type": "code",
     "checksum": "6a767e7d006960d5cd4bf0181c632ea3",
     "grade": true,
     "grade_id": "cell-a8c5938cdf0dfd2c",
     "locked": true,
     "points": 5,
     "schema_version": 3,
     "solution": false,
     "task": false
    },
    "tags": []
   },
   "outputs": [],
   "source": []
  },
  {
   "cell_type": "markdown",
   "id": "4266d794-008d-4d2c-9a9e-0e18d9b6e354",
   "metadata": {
    "tags": []
   },
   "source": [
    "# 3. Submitting <a id='3.'></a>\n",
    "Ensure all tasks and questions (in ```ex4_dpn.ipynb``` and ```ex4_rbf.ipynb```) are answered and and that the necessary plots are saved in the appropriate locations. The relevant plots and files needed to be submitted for this assignment are:\n",
    "\n",
    "\n",
    "- Training performance plots:\n",
    "  - `cartpole_dqn.png`: Cartpole, training performance plots in terms of episode and episodic reward\n",
    "  - `lunarlander_dqn.png`: Lunarlander, training performance plots in terms of episode and episodic reward \n",
    "<br>\n",
    "<br>\n",
    "\n",
    "  \n",
    "\n",
    "- Model files:\n",
    "  - `dqn.pt`: Trained model\n",
    "\n",
    "\n",
    "Ensure the model files and plots are saved in correct paths:\n",
    "- ```results/CartPole-v1/cartpole_dqn``` Training result for Cartpole environment\n",
    "- ```results/CartPole-v1/model/dqn.pt``` Model for Cartpole environment\n",
    "- ```results/LunarLander-v2/lunarlander_dqn.png``` Training result for LunarLander environment\n",
    "- ```results/LunarLander-v2/model/dqn.pt``` Model for LunarLander environment\n",
    "\n",
    "\n",
    "<span style=\"color:red\"> **# IMPORTANT: DO NOT FORGET ANOTHER TASK IN ```ex4_rbf.ipynb```** </span>"
   ]
  },
  {
   "cell_type": "code",
   "execution_count": 18,
   "id": "40c8536b",
   "metadata": {
    "deletable": false,
    "editable": false,
    "nbgrader": {
     "cell_type": "code",
     "checksum": "cc73e5f68adbc298f70feabf9026032d",
     "grade": true,
     "grade_id": "cell-c97f1e23824070fc",
     "locked": true,
     "points": 0,
     "schema_version": 3,
     "solution": false,
     "task": false
    },
    "tags": []
   },
   "outputs": [],
   "source": [
    "# Make sure that skip training is set to True before submission\n",
    "assert skip_training == True"
   ]
  },
  {
   "cell_type": "markdown",
   "id": "2ec40b02-69c6-401a-ad79-2f67a8a660e9",
   "metadata": {
    "tags": []
   },
   "source": [
    "## 3.1 Feedback <a id='3.1'></a>\n",
    "\n",
    "In order to help the staff of the course as well as the forthcoming students, it would be great if you could answer to the following questions in your submission:"
   ]
  },
  {
   "cell_type": "markdown",
   "id": "d0a8baf6-b860-4338-b655-b28ec4fac282",
   "metadata": {},
   "source": [
    "1) How much time did you spend solving this exercise? (change the ```hrs``` variable below to a floating point number representing the number of hours taken e.g. 5.43)"
   ]
  },
  {
   "cell_type": "code",
   "execution_count": 33,
   "id": "ed94026d-ad80-4148-8e02-5bcfd4b33e98",
   "metadata": {
    "tags": []
   },
   "outputs": [],
   "source": [
    "hrs = 2.2"
   ]
  },
  {
   "cell_type": "markdown",
   "id": "732e1e56-4c4f-4bdf-95b3-f4efcc4c053a",
   "metadata": {},
   "source": [
    "2) Difficulty of each task/question from 1-5 (int or float)"
   ]
  },
  {
   "cell_type": "code",
   "execution_count": 34,
   "id": "161f647d-4cf5-4cf8-abbf-1c0d285c5f40",
   "metadata": {
    "tags": []
   },
   "outputs": [],
   "source": [
    "T1 = 5   # Implementing DQN (10 points)\n",
    "Q1_1 = 1 # Question 1.1 Considering Continuous Action Spaces (5 points)\n",
    "Q1_2 = 2 # Question 1.2 Continuous Action Spaces Part 1 (15 points)\n",
    "Q1_3 = 3 # Question 1.3 The Target Network (10 points)"
   ]
  },
  {
   "cell_type": "markdown",
   "id": "4fb4a6d0-4ff1-4705-93af-493eed829e4e",
   "metadata": {},
   "source": [
    "3) How well did you understand the content of the task/question from 1-5? (int or float)"
   ]
  },
  {
   "cell_type": "code",
   "execution_count": 35,
   "id": "eb003431-4a23-4350-86ec-34444a64ee9d",
   "metadata": {
    "tags": []
   },
   "outputs": [],
   "source": [
    "T1 = 2   # Implementing DQN (10 points)\n",
    "Q1_1 = 5 # Question 1.1 Considering Continuous Action Spaces (5 points)\n",
    "Q1_2 = 4 # Question 1.2 Continuous Action Spaces Part 1 (15 points)\n",
    "Q1_3 = 4 # Question 1.3 The Target Network (10 points)"
   ]
  },
  {
   "cell_type": "markdown",
   "id": "c2fa9a62-dcf9-41fe-8d56-a852b2582efa",
   "metadata": {},
   "source": [
    "4) General feedback. Consider questions like:\n",
    "\n",
    "    - Did the content of the lecture relate well with the assignment?\n",
    "    - To what extent did you find the material to be potentially useful for your research and studies?\n",
    "    \n",
    "Please share any additional feedback, suggestions, or comments you have about the lecture, assignment, or course content. Your input is valuable in helping us improve the learning experience."
   ]
  },
  {
   "cell_type": "markdown",
   "id": "77edf97b-6cd9-48a9-bbc9-a075e6c15abb",
   "metadata": {
    "tags": []
   },
   "source": [
    "DOUBLE CLICK HERE TO EDIT, CLEAR THIS TEXT AND ANSWER HERE"
   ]
  }
 ],
 "metadata": {
  "kernelspec": {
   "display_name": "Python 3",
   "language": "python",
   "name": "python3"
  },
  "language_info": {
   "codemirror_mode": {
    "name": "ipython",
    "version": 3
   },
   "file_extension": ".py",
   "mimetype": "text/x-python",
   "name": "python",
   "nbconvert_exporter": "python",
   "pygments_lexer": "ipython3",
   "version": "3.12.10"
  }
 },
 "nbformat": 4,
 "nbformat_minor": 5
}
