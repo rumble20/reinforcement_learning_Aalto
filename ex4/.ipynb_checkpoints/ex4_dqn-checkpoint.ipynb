{
 "cells": [
  {
   "cell_type": "markdown",
   "id": "53274fb5",
   "metadata": {
    "deletable": false,
    "editable": false,
    "nbgrader": {
     "cell_type": "markdown",
     "checksum": "5bba742b91375ed640d206a3c9f351e5",
     "grade": false,
     "grade_id": "cell-7dd133571740e15f",
     "locked": true,
     "schema_version": 3,
     "solution": false,
     "task": false
    }
   },
   "source": [
    "\n",
    "<div class=\"alert alert-block alert-info\">\n",
    "   <h2 align=\"center\"> <center><b> Reinforcement Learning Assignment 4 - Function Approximators Part 2: Deep Q Network </b></center></h2>\n",
    "\n",
    "<br>\n",
    "<center><font size=\"3\">This notebook is a part of teaching material for ELEC-E8125</font></center>\n",
    "<center><font size=\"3\">Aalto University</font></center>\n",
    "</div>\n",
    "\n",
    "\n",
    "<a id='TOC'></a>\n",
    "\n",
    "<div class=\"alert alert-block alert-success\">\n",
    "    \n",
    "# Table of contents\n",
    "* <a href='#1.'> 1. Introduction </a>\n",
    "* <a href='#1.1'> 1.1 Task environments </a>\n",
    "* <a href='#1.2'> 1.2 Learning Objectives </a>\n",
    "* <a href='#1.3'> 1.3 Code Structure & Files </a>\n",
    "* <a href='#1.4'> 1.4 Execution time </a>\n",
    "* <a href='#2.'> 2. A (not-so-)deep Q-network</a>\n",
    "* <a href='#3.'> 3. Submitting </a>\n",
    "* <a href='#3.1'> 3.1 Feedback </a>\n",
    "\n",
    "<a href='#T1'><b>Student Task 1.</b> Implementing DQN (10 points) </a>\\\n",
    "<a href='#Q1'><b>Student Question 1.1</b> Considering Continuous Action Spaces (5 points) </a>\\\n",
    "<a href='#Q2'><b>Student Question 1.2</b> Continuous Action Spaces Part 1 (15 points) </a>\\\n",
    "<a href='#Q3'><b>Student Question 1.3</b> The Target Network (10 points) </a>\n",
    " \n",
    "\n",
    "**Total Points:** 40\n",
    "\n",
    "**Estimated runtime of all the cells:** 2 hours"
   ]
  },
  {
   "cell_type": "markdown",
   "id": "9fb3bd96",
   "metadata": {
    "deletable": false,
    "editable": false,
    "nbgrader": {
     "cell_type": "markdown",
     "checksum": "2ccf0d452335e813bfc82782639cf8f7",
     "grade": false,
     "grade_id": "cell-ebc6fa2d1ab8fcf9",
     "locked": true,
     "schema_version": 3,
     "solution": false,
     "task": false
    }
   },
   "source": [
    "# 1. Introduction <a id='1.'></a>\n",
    "\n",
    "In various real-world scenarios, dealing with high-dimensional state spaces makes it impractical to compute and store Q-values for every possible state-action pair in a Q-table. To address this challenge, we turn to function approximators. In this assignment, you will progress creating a basic Deep Q-Network (DQN) in the **Cartpole** and **LunarLander** environment.\n",
    "\n",
    "**Please start working on this assignment early since the DQN will take some time to train.**\n",
    "\n",
    "\n",
    "<div style=\"display:flex\">\n",
    "     <div style=\"flex:1;padding-left:100px;\">\n",
    "          <img src=\"imgs/cartpole.png\" width=\"300\"/>\n",
    "         <figcaption style=\"flex:1;padding-left:20px;\">  Figure 1: The Cartpole environment. </figcaption>\n",
    "     </div>\n",
    "     <div style=\"flex:1;padding-left:70px;\">\n",
    "          <img src=\"imgs/lunar_lander.png\" width=\"300\"/>\n",
    "         <figcaption style=\"flex:1;padding-left:20px;\">  Figure 2: The Lunarlander environment. </figcaption>\n",
    "     </div>\n",
    "\n",
    "</div>\n",
    "\n",
    "Useful Sources:\n",
    "\n",
    "- Mnih, Volodymyr, et al. \"Playing atari with deep reinforcement learning.\" arXiv preprint arXiv:1312.5602 (2013). https://arxiv.org/pdf/1312.5602.pdf\n",
    "\n",
    "\n",
    "## 1.1 Task environments: <a id='1.1'></a>\n",
    "In this excercise, we will mainly use DQN for two tasks:\n",
    "- Cartpole(https://gymnasium.farama.org/environments/classic_control/cart_pole/): This environment corresponds to the version of the cart-pole problem described by Barto, Sutton, and Anderson in “Neuronlike Adaptive Elements That Can Solve Difficult Learning Control Problem”. A pole is attached by an un-actuated joint to a cart, which moves along a frictionless track. The pendulum is placed upright on the cart and the goal is to balance the pole by applying forces in the left and right direction on the cart.\n",
    "\n",
    "- Lunar Lander (https://gymnasium.farama.org/environments/box2d/lunar_lander/): This environment is a classic rocket trajectory optimization problem. According to Pontryagin’s maximum principle, it is optimal to fire the engine at full throttle or turn it off. This is the reason why this environment has discrete actions: engine on or off.\n",
    "\n",
    "## 1.2 Learning Objectives: <a id='1.1'></a>\n",
    "- Understand why and how function approximators can be used for Q-learning\n",
    "- Understand the Deep Q-Network RL algorithm\n",
    "\n",
    "## 1.3 Code Structure & Files <a id='1.2'></a>\n",
    "\n",
    "```ex4_dqn.ipynb``` is the file needed to be modified for this part of the assignment.  \n",
    "\n",
    "<span style=\"color:red\"> **# IMPORTANT: DO NOT FORGET ANOTHER TASK IN ```ex4_rbf.ipynb```** </span>\n",
    "\n",
    "```\n",
    "├───cfg                            # Config files for environments\n",
    "├───imgs                           # Images used in notebook\n",
    "├───results\n",
    "│   └───CartPole-v1\n",
    "│   │   ├───logging                \n",
    "│   │   │    └───logging.pkl        # Contains logged data\n",
    "│   │   ├───model              \n",
    "│   │   │    └───*dqn.pt            # Contains trained model\n",
    "│   │   └───video                   # Videos saved\n",
    "│   │   └───*cartpole_dqn.png       # Contains training performance plot\n",
    "│   └───LunarLander-v2\n",
    "│   │   ├───logging                \n",
    "│   │   │    └───logging.pkl        # Contains logged data\n",
    "│   │   ├───model              \n",
    "│   │   │    └───*dqn.pt            # Contains trained model\n",
    "│   │   └───video                   # Videos saved\n",
    "│   │   └───*lunarlander_dqn.png    # Contains training performance plot\n",
    "│   ex4_dqn.ipynb                   # 2nd assignment file containing tasks <---------This task\n",
    "│   ex4_rbf.ipynb                   # 1st assignment file containing tasks <---------\n",
    "│   train.py                        # Contains train and test functions \n",
    "│   utils.py                        # Contains useful functions \n",
    "└───buffer.py                       # Contains buffer functions\n",
    "```\n",
    "\n",
    "## 1.4 Execution time <a id='1.4'></a>\n",
    "\n",
    "The training of these methods might take more than 40 mins depends on the server. If you have problem of experiment running takes too much time, you can download the jupyter notebook and test it locally."
   ]
  },
  {
   "cell_type": "markdown",
   "id": "c6968238",
   "metadata": {
    "deletable": false,
    "editable": false,
    "nbgrader": {
     "cell_type": "markdown",
     "checksum": "47530e48db6901812adae6ba0239bc2d",
     "grade": false,
     "grade_id": "cell-fdd24e05653d4a99",
     "locked": true,
     "schema_version": 3,
     "solution": false,
     "task": false
    }
   },
   "source": [
    "## Warnings:\n",
    "\n",
    "- Don’t copy and paste cells within a notebook. This will mess up the tracking metadata and prevent autograding from working.\n",
    "- Only add new cells using the '+' button in the upper toolbar and do not split cells.\n",
    "- Be cautious about things such as copying the whole notebook to Colab to work on it. This has sometimes resulted in removing all notebook metadata, making autograding impossible."
   ]
  },
  {
   "cell_type": "markdown",
   "id": "2cba7612-914b-4860-b019-7dc32b075b6b",
   "metadata": {
    "deletable": false,
    "editable": false,
    "nbgrader": {
     "cell_type": "markdown",
     "checksum": "8ead3054091bb4a4807d085110e4ebc7",
     "grade": false,
     "grade_id": "cell-3c7108bbf5fe22bf",
     "locked": true,
     "schema_version": 3,
     "solution": false,
     "task": false
    },
    "tags": []
   },
   "source": [
    "# 2. A (not-so-)deep Q-network <a id='2.'></a>"
   ]
  },
  {
   "cell_type": "markdown",
   "id": "00b2f2ea",
   "metadata": {
    "deletable": false,
    "editable": false,
    "nbgrader": {
     "cell_type": "markdown",
     "checksum": "a84e8c7719f42c54880e4a2a07f85574",
     "grade": false,
     "grade_id": "cell-af25de8f4a4da8d9",
     "locked": true,
     "schema_version": 3,
     "solution": false,
     "task": false
    }
   },
   "source": [
    "<a id='T1'></a>\n",
    "<div class=\" alert alert-warning\">\n",
    "    <h3><b>Student Task 1.</b> Implementing DQN (10 points) </h3> \n",
    "\n",
    "Finish the incomplete code in DQNAgent (functions ```update``` and ```get_action```, marked with ```TODO```) to implement a DQN agent.\n",
    "\n",
    "**See Figure 3 for an example training performance plot for cartpole. Save the training performance plots, and check if they are in the right place (the paths please refer to <a href='#3.'>Submitting<a>).**\n",
    "\n",
    "<figure style=\"text-align: center\">\n",
    "<img src=\"imgs/dqn.png\" width=\"300px\">\n",
    "<figcaption style=\"text-align: center\"> Figure 3: The training performance plot for cartpole-dqn might look something like this. </figcaption>\n",
    "</figure>\n",
    "    \n",
    "🔝\t<a href='#TOC'><b>Table of Contents</b></a>\n",
    "</div>\n"
   ]
  },
  {
   "cell_type": "code",
   "execution_count": 18,
   "id": "4284bfc0",
   "metadata": {
    "tags": []
   },
   "outputs": [],
   "source": [
    "skip_training = True  # Set this flag to True before validation and submission"
   ]
  },
  {
   "cell_type": "code",
   "execution_count": null,
   "id": "6c9a2760",
   "metadata": {
    "deletable": false,
    "editable": false,
    "nbgrader": {
     "cell_type": "code",
     "checksum": "578a265f70c27c97dcec1ac8b16d4362",
     "grade": true,
     "grade_id": "cell-6421cfde6887e896",
     "locked": true,
     "points": 0,
     "schema_version": 3,
     "solution": false,
     "task": false
    }
   },
   "outputs": [],
   "source": []
  },
  {
   "cell_type": "code",
   "execution_count": 5,
   "id": "ec1d14d1",
   "metadata": {
    "tags": []
   },
   "outputs": [],
   "source": [
    "import sys, os\n",
    "sys.path.insert(0, os.path.abspath(\"..\"))\n",
    "from typing import List\n",
    "import numpy as np\n",
    "import torch, random, copy, yaml, time\n",
    "import torch.nn as nn\n",
    "import torch.optim as optim\n",
    "import torch.nn.functional as F\n",
    "from pathlib import Path\n",
    "\n",
    "import utils as u\n",
    "import train as t\n",
    "\n",
    "from IPython.display import Video # to display videos\n",
    "\n",
    "device = 'cpu'"
   ]
  },
  {
   "cell_type": "code",
   "execution_count": 3,
   "id": "b2c93182",
   "metadata": {
    "tags": []
   },
   "outputs": [],
   "source": [
    "def mlp(in_dim, mlp_dims: List[int], out_dim, act_fn=nn.ReLU, out_act=nn.Identity):\n",
    "    \"\"\"Returns an MLP.\"\"\"\n",
    "    if isinstance(mlp_dims, int): raise ValueError(\"mlp dimensions should be list, but got int.\")\n",
    "\n",
    "    layers = [nn.Linear(in_dim, mlp_dims[0]), act_fn()]\n",
    "    for i in range(len(mlp_dims)-1):\n",
    "        layers += [nn.Linear(mlp_dims[i], mlp_dims[i+1]), act_fn()]\n",
    "    # the output layer\n",
    "    layers += [nn.Linear(mlp_dims[-1], out_dim), out_act()]\n",
    "    return nn.Sequential(*layers)"
   ]
  },
  {
   "cell_type": "code",
   "execution_count": 4,
   "id": "6c01a546",
   "metadata": {
    "tags": []
   },
   "outputs": [],
   "source": [
    "class DQNAgent(object):\n",
    "    def __init__(self, state_shape, n_actions,\n",
    "                 batch_size=32, hidden_dims=[12], gamma=0.98, lr=1e-3, grad_clip_norm=1000, tau=0.001):\n",
    "        self.n_actions = n_actions\n",
    "        self.state_dim = state_shape[0]\n",
    "        self.policy_net = mlp(self.state_dim, hidden_dims, n_actions).to(device)\n",
    "        self.target_net = copy.deepcopy(self.policy_net)\n",
    "        self.target_net.eval()\n",
    "        self.optimizer = optim.Adam(self.policy_net.parameters(), lr=float(lr))\n",
    "\n",
    "        self.batch_size = batch_size\n",
    "        self.gamma = gamma\n",
    "        self.grad_clip_norm = grad_clip_norm\n",
    "        self.tau = tau\n",
    "        \n",
    "        self.counter = 0\n",
    "\n",
    "    def update(self, buffer):\n",
    "        \"\"\" One gradient step, update the policy net.\"\"\"\n",
    "        start = time.perf_counter()\n",
    "        self.counter += 1\n",
    "        # Do one step gradient update\n",
    "        batch = buffer.sample(self.batch_size, device=device)\n",
    "        # Hint:\n",
    "        #    state = batch.state\n",
    "        #    action = batch.action \n",
    "        #    next_state = batch.next_state\n",
    "        #    reward = batch.reward \n",
    "        #    not_done = batch.not_done \n",
    "        \n",
    "        # TODO: Task 3: Finish the DQN implementation.\n",
    "        # Hints: 1. You can use torch.gather() to gather values along an axis specified by dim. \n",
    "        #        2. torch.max returns a namedtuple (values, indices) where values is the maximum \n",
    "        #           value of each row of the input tensor in the given dimension dim.\n",
    "        #           And indices is the index location of each maximum value found (argmax).\n",
    "        #        3.  batch is a namedtuple, which has state, action, next_state, not_done, reward\n",
    "        #           you can access the value be batch.<name>, e.g, batch.state\n",
    "        #        4. check torch.nn.utils.clip_grad_norm_() to know how to clip grad norm\n",
    "        #        5. You can go throught the PyTorch Tutorial given on MyCourses if you are not familiar with it. \n",
    "        # calculate the q(s,a)\n",
    "        ########## You code starts here #########\n",
    "        state      = batch.state        \n",
    "        action     = batch.action       \n",
    "        next_state = batch.next_state\n",
    "        reward     = batch.reward       \n",
    "        not_done   = batch.not_done     \n",
    "        \n",
    "        action = action.squeeze(-1).long()      \n",
    "        reward = reward.squeeze(-1)\n",
    "        not_done = not_done.squeeze(-1)\n",
    "        q_values_all = self.policy_net(state)               \n",
    "        qs = q_values_all.gather(1, action.unsqueeze(1)).squeeze(1)\n",
    "\n",
    "        with torch.no_grad():\n",
    "            next_q_all = self.target_net(next_state)           \n",
    "            next_max_q = next_q_all.max(dim=1)[0]              \n",
    "            target = reward + self.gamma * not_done * next_max_q\n",
    "\n",
    "        loss = F.mse_loss(qs, target)\n",
    "        self.optimizer.zero_grad()\n",
    "        loss.backward()\n",
    "        torch.nn.utils.clip_grad_norm_(self.policy_net.parameters(), self.grad_clip_norm)\n",
    "        self.optimizer.step()\n",
    "    \n",
    "\n",
    "        ########## You code ends here #########\n",
    "\n",
    "        # update the target network\n",
    "        u.soft_update_params(self.policy_net, self.target_net, self.tau)\n",
    "        \n",
    "        end = time.perf_counter()\n",
    "        update_time = end - start\n",
    "        return {'loss': loss.item(), \n",
    "                'q_mean': qs.mean().item(),\n",
    "                'num_update': self.counter,\n",
    "                'update_time': update_time}\n",
    "\n",
    "\n",
    "    @torch.no_grad()\n",
    "    def get_action(self, state, epsilon=0.05):\n",
    "        # TODO:  Task 3: implement epsilon-greedy action selection\n",
    "        ########## You code starts here #########\n",
    "        p = np.random.uniform(0, 1)\n",
    "        s = torch.as_tensor(state, dtype=torch.float32, device=device).unsqueeze(0)\n",
    "        q_values = self.policy_net(s).squeeze(0).cpu().numpy()\n",
    "        if p < epsilon:\n",
    "             action = np.random.randint(self.n_actions)\n",
    "        else:\n",
    "            action = np.argmax(q_values)      \n",
    "        ########## You code ends here #########\n",
    "        return action\n",
    "\n",
    "\n",
    "    def save(self, fp):\n",
    "        path = fp/'dqn.pt'\n",
    "        torch.save({\n",
    "            'policy': self.policy_net.state_dict(),\n",
    "            'policy_target': self.target_net.state_dict()\n",
    "        }, path)\n",
    "\n",
    "    def load(self, fp):\n",
    "        path = fp/'dqn.pt'\n",
    "        d = torch.load(path)\n",
    "        self.policy_net.load_state_dict(d['policy'])\n",
    "        self.target_net.load_state_dict(d['policy_target'])"
   ]
  },
  {
   "cell_type": "code",
   "execution_count": 5,
   "id": "d1d97e7d",
   "metadata": {
    "tags": []
   },
   "outputs": [],
   "source": [
    "# init agent\n",
    "with open(Path().cwd()/'cfg'/'cartpole_dqn.yaml', 'r') as f:\n",
    "    cfg = t.Struct(**yaml.safe_load(f))\n",
    "    \n",
    "agent = DQNAgent(state_shape=cfg.state_shape, n_actions=cfg.n_actions, batch_size=cfg.batch_size, hidden_dims=cfg.hidden_dims,\n",
    "                 gamma=cfg.gamma, lr=cfg.lr, tau=cfg.tau)"
   ]
  },
  {
   "cell_type": "code",
   "execution_count": 6,
   "id": "35fc3169",
   "metadata": {
    "tags": []
   },
   "outputs": [
    {
     "name": "stdout",
     "output_type": "stream",
     "text": [
      "Numpy/Torch/Random Seed:  436\n",
      "{'ep_reward': 13.0, 'episode': 0, 'epsilon': 1.0, 'ep_avr': 0.0012382250279188156, 'ts_avr': 7.482181983784988e-05}\n",
      "{'ep_reward': 11.0, 'episode': 100, 'epsilon': 0.6666666666666666, 'ep_avr': 0.026165689799236135, 'ts_avr': 0.0011299198073702608, 'loss': 0.1947423368692398, 'q_mean': 1.4068742990493774, 'num_update': 2092, 'update_time': 0.001024525030516088}\n",
      "{'ep_reward': 13.0, 'episode': 200, 'epsilon': 0.5, 'ep_avr': 0.01699210759368725, 'ts_avr': 0.001237478451110439, 'loss': 0.25429168343544006, 'q_mean': 2.3923871517181396, 'num_update': 3463, 'update_time': 0.001014285022392869}\n",
      "{'ep_reward': 10.0, 'episode': 300, 'epsilon': 0.4, 'ep_avr': 0.015739145639818163, 'ts_avr': 0.0012266390741919803, 'loss': 0.3085574209690094, 'q_mean': 3.3740103244781494, 'num_update': 4744, 'update_time': 0.0010100749786943197}\n",
      "{'ep_reward': 11.0, 'episode': 400, 'epsilon': 0.3333333333333333, 'ep_avr': 0.015663329140516, 'ts_avr': 0.001276494720570591, 'loss': 0.7188074588775635, 'q_mean': 4.174045562744141, 'num_update': 5969, 'update_time': 0.0010577539214864373}\n",
      "{'ep_reward': 14.0, 'episode': 500, 'epsilon': 0.2857142857142857, 'ep_avr': 0.014768420624313876, 'ts_avr': 0.0012286644460012515, 'loss': 0.6356995701789856, 'q_mean': 4.966928005218506, 'num_update': 7169, 'update_time': 0.0010591549798846245}\n",
      "{'ep_reward': 11.0, 'episode': 600, 'epsilon': 0.25, 'ep_avr': 0.018549021051730962, 'ts_avr': 0.0012668337328639774, 'loss': 0.9538804292678833, 'q_mean': 5.8019866943359375, 'num_update': 8631, 'update_time': 0.0010299140121787786}\n",
      "{'ep_reward': 27.0, 'episode': 700, 'epsilon': 0.2222222222222222, 'ep_avr': 0.02293367650359869, 'ts_avr': 0.0012475198793198614, 'loss': 1.311140775680542, 'q_mean': 6.789853572845459, 'num_update': 10467, 'update_time': 0.001035763998515904}\n",
      "{'ep_reward': 65.0, 'episode': 800, 'epsilon': 0.2, 'ep_avr': 0.07891074633575045, 'ts_avr': 0.001244572886097365, 'loss': 1.1378686428070068, 'q_mean': 10.689326286315918, 'num_update': 16803, 'update_time': 0.0010080940555781126}\n",
      "{'ep_reward': 102.0, 'episode': 900, 'epsilon': 0.18181818181818182, 'ep_avr': 0.13862300736596808, 'ts_avr': 0.001258640145446999, 'loss': 2.324183940887451, 'q_mean': 17.873329162597656, 'num_update': 27811, 'update_time': 0.001292134984396398}\n",
      "{'ep_reward': 71.0, 'episode': 1000, 'epsilon': 0.16666666666666666, 'ep_avr': 0.1405803762911819, 'ts_avr': 0.001256354378763012, 'loss': 1.772996187210083, 'q_mean': 26.00905990600586, 'num_update': 38995, 'update_time': 0.001045305049046874}\n",
      "{'ep_reward': 97.0, 'episode': 1100, 'epsilon': 0.15384615384615385, 'ep_avr': 0.14487394321593455, 'ts_avr': 0.0012553319705978817, 'loss': 1.152997374534607, 'q_mean': 34.108612060546875, 'num_update': 50530, 'update_time': 0.0010675940429791808}\n",
      "{'ep_reward': 87.0, 'episode': 1200, 'epsilon': 0.14285714285714285, 'ep_avr': 0.14312963367090561, 'ts_avr': 0.001267699760572195, 'loss': 0.28964412212371826, 'q_mean': 37.14371109008789, 'num_update': 61815, 'update_time': 0.0010584150440990925}\n",
      "{'ep_reward': 111.0, 'episode': 1300, 'epsilon': 0.13333333333333333, 'ep_avr': 0.14165367869776674, 'ts_avr': 0.0012635766072755631, 'loss': 0.3989228308200836, 'q_mean': 38.308963775634766, 'num_update': 73020, 'update_time': 0.0010340050794184208}\n",
      "{'ep_reward': 138.0, 'episode': 1400, 'epsilon': 0.125, 'ep_avr': 0.13720705044805073, 'ts_avr': 0.0012632563508008644, 'loss': 1.4975770711898804, 'q_mean': 39.524227142333984, 'num_update': 83876, 'update_time': 0.0010411739349365234}\n",
      "{'ep_reward': 176.0, 'episode': 1500, 'epsilon': 0.11764705882352941, 'ep_avr': 0.20470892115612516, 'ts_avr': 0.0012771394730237155, 'loss': 0.19242225587368011, 'q_mean': 37.47249984741211, 'num_update': 99898, 'update_time': 0.0010519149946048856}\n",
      "{'ep_reward': 200.0, 'episode': 1600, 'epsilon': 0.1111111111111111, 'ep_avr': 0.23486282894620672, 'ts_avr': 0.0012641625694530764, 'loss': 0.5917038917541504, 'q_mean': 42.404300689697266, 'num_update': 118469, 'update_time': 0.001084015006199479}\n",
      "{'ep_reward': 200.0, 'episode': 1700, 'epsilon': 0.10526315789473684, 'ep_avr': 0.2504523085593246, 'ts_avr': 0.0012596382026753897, 'loss': 0.26464566588401794, 'q_mean': 61.8612060546875, 'num_update': 138344, 'update_time': 0.00104151398409158}\n",
      "{'ep_reward': 200.0, 'episode': 1800, 'epsilon': 0.1, 'ep_avr': 0.25146054520620964, 'ts_avr': 0.0012570474599071229, 'loss': 0.07913870364427567, 'q_mean': 79.15145874023438, 'num_update': 158340, 'update_time': 0.0010591649916023016}\n",
      "{'ep_reward': 200.0, 'episode': 1900, 'epsilon': 0.09523809523809523, 'ep_avr': 0.2528787869377993, 'ts_avr': 0.0012638879060512408, 'loss': 0.06652666628360748, 'q_mean': 89.49901580810547, 'num_update': 178340, 'update_time': 0.0010633140336722136}\n",
      "{'ep_reward': 200.0, 'episode': 2000, 'epsilon': 0.09090909090909091, 'ep_avr': 0.253054209734546, 'ts_avr': 0.00126476926584146, 'loss': 0.001727931434288621, 'q_mean': 92.11380004882812, 'num_update': 198340, 'update_time': 0.0010733240051195025}\n",
      "{'ep_reward': 183.0, 'episode': 2100, 'epsilon': 0.08695652173913043, 'ep_avr': 0.2276479361206293, 'ts_avr': 0.001266939034712456, 'loss': 50.40830612182617, 'q_mean': 95.08399963378906, 'num_update': 216301, 'update_time': 0.0010532740270718932}\n",
      "{'ep_reward': 200.0, 'episode': 2200, 'epsilon': 0.08333333333333333, 'ep_avr': 0.2353225572197698, 'ts_avr': 0.0012695740091805737, 'loss': 21.15275764465332, 'q_mean': 93.4200439453125, 'num_update': 234829, 'update_time': 0.0010525049874559045}\n",
      "{'ep_reward': 200.0, 'episode': 2300, 'epsilon': 0.08, 'ep_avr': 0.23619872507755646, 'ts_avr': 0.001268336319616262, 'loss': 5.044888973236084, 'q_mean': 89.80462646484375, 'num_update': 253444, 'update_time': 0.001049485057592392}\n",
      "{'ep_reward': 200.0, 'episode': 2400, 'epsilon': 0.07692307692307693, 'ep_avr': 0.2512660135445185, 'ts_avr': 0.0012674884321223993, 'loss': 0.08541885018348694, 'q_mean': 98.29521942138672, 'num_update': 273260, 'update_time': 0.0013338360004127026}\n",
      "{'ep_reward': 200.0, 'episode': 2500, 'epsilon': 0.07407407407407407, 'ep_avr': 0.25128628393053076, 'ts_avr': 0.0012675912514729195, 'loss': 0.030601128935813904, 'q_mean': 103.96441650390625, 'num_update': 293076, 'update_time': 0.0010465140221640468}\n",
      "{'ep_reward': 200.0, 'episode': 2600, 'epsilon': 0.07142857142857142, 'ep_avr': 0.2520826521911658, 'ts_avr': 0.0012715463150342826, 'loss': 0.018552472814917564, 'q_mean': 107.62743377685547, 'num_update': 312893, 'update_time': 0.0010632149642333388}\n",
      "{'ep_reward': 200.0, 'episode': 2700, 'epsilon': 0.06896551724137931, 'ep_avr': 0.2520854334998876, 'ts_avr': 0.0012599145108135416, 'loss': 0.004638102371245623, 'q_mean': 106.60252380371094, 'num_update': 332893, 'update_time': 0.0010285740718245506}\n",
      "{'ep_reward': 200.0, 'episode': 2800, 'epsilon': 0.06666666666666667, 'ep_avr': 0.2521487184567377, 'ts_avr': 0.0012602432548243087, 'loss': 0.0005782971857115626, 'q_mean': 105.4753646850586, 'num_update': 352893, 'update_time': 0.0010437050368636847}\n",
      "{'ep_reward': 200.0, 'episode': 2900, 'epsilon': 0.06451612903225806, 'ep_avr': 0.25413845507544464, 'ts_avr': 0.0012727293123541033, 'loss': 0.06217304989695549, 'q_mean': 104.4699935913086, 'num_update': 372853, 'update_time': 0.0010396039579063654}\n",
      "{'ep_reward': 200.0, 'episode': 3000, 'epsilon': 0.0625, 'ep_avr': 0.2547918912163004, 'ts_avr': 0.001273454504343681, 'loss': 0.07546187192201614, 'q_mean': 104.19804382324219, 'num_update': 392853, 'update_time': 0.0010271549690514803}\n",
      "{'ep_reward': 200.0, 'episode': 3100, 'epsilon': 0.06060606060606061, 'ep_avr': 0.25261622771969994, 'ts_avr': 0.0012625701246142852, 'loss': 0.12590205669403076, 'q_mean': 103.51631927490234, 'num_update': 412853, 'update_time': 0.0010403050109744072}\n",
      "{'ep_reward': 200.0, 'episode': 3200, 'epsilon': 0.058823529411764705, 'ep_avr': 0.2505021733371541, 'ts_avr': 0.0012638275543820439, 'loss': 0.02149123325943947, 'q_mean': 105.04438781738281, 'num_update': 432666, 'update_time': 0.001044964068569243}\n",
      "{'ep_reward': 200.0, 'episode': 3300, 'epsilon': 0.05714285714285714, 'ep_avr': 0.2519925044570118, 'ts_avr': 0.0012673175100956474, 'loss': 0.04973331466317177, 'q_mean': 105.91297912597656, 'num_update': 452542, 'update_time': 0.0010514749446883798}\n",
      "{'ep_reward': 200.0, 'episode': 3400, 'epsilon': 0.05555555555555555, 'ep_avr': 0.2541873680113349, 'ts_avr': 0.0012704201125307009, 'loss': 0.056423284113407135, 'q_mean': 105.29144287109375, 'num_update': 472542, 'update_time': 0.0010529339779168367}\n",
      "{'ep_reward': 200.0, 'episode': 3500, 'epsilon': 0.05405405405405406, 'ep_avr': 0.25473431321210227, 'ts_avr': 0.001273159689240856, 'loss': 0.025321131572127342, 'q_mean': 105.48944091796875, 'num_update': 492542, 'update_time': 0.0010449750116094947}\n",
      "{'ep_reward': 200.0, 'episode': 3600, 'epsilon': 0.05263157894736842, 'ep_avr': 0.2532487113715615, 'ts_avr': 0.0012657354543043767, 'loss': 0.0008020225795917213, 'q_mean': 104.88736724853516, 'num_update': 512542, 'update_time': 0.001044335076585412}\n",
      "{'ep_reward': 200.0, 'episode': 3700, 'epsilon': 0.05128205128205128, 'ep_avr': 0.25274795371806247, 'ts_avr': 0.0012632329420070164, 'loss': 0.000262685411144048, 'q_mean': 104.16997528076172, 'num_update': 532542, 'update_time': 0.0010611350880935788}\n",
      "{'ep_reward': 200.0, 'episode': 3800, 'epsilon': 0.05, 'ep_avr': 0.2467397643008735, 'ts_avr': 0.0012679433023940858, 'loss': 0.0002819990331772715, 'q_mean': 104.18653869628906, 'num_update': 551994, 'update_time': 0.0010462449863553047}\n",
      "{'ep_reward': 200.0, 'episode': 3900, 'epsilon': 0.05, 'ep_avr': 0.21561076271580532, 'ts_avr': 0.0012668052404869977, 'loss': 0.6634393930435181, 'q_mean': 106.37059020996094, 'num_update': 569007, 'update_time': 0.001249956083483994}\n",
      "------ Training Finished ------\n"
     ]
    }
   ],
   "source": [
    "# Trainig takes approximately 40 mins,depends on server\n",
    "if not skip_training:\n",
    "    t.train(agent,  cfg_path=Path().cwd()/'cfg'/'cartpole_dqn.yaml',) "
   ]
  },
  {
   "cell_type": "code",
   "execution_count": 7,
   "id": "9a9a1164-6330-4e45-ba52-1a84d8a91001",
   "metadata": {
    "tags": []
   },
   "outputs": [
    {
     "name": "stdout",
     "output_type": "stream",
     "text": [
      "Numpy/Torch/Random Seed:  436\n"
     ]
    },
    {
     "data": {
      "image/png": "[encoded data removed]",
      "text/plain": [
       "<Figure size 640x480 with 1 Axes>"
      ]
     },
     "metadata": {},
     "output_type": "display_data"
    }
   ],
   "source": [
    "# Visualize the DQN training plots for the cartpole \n",
    "if not skip_training:\n",
    "    t.plot(save_name='cartpole_dqn.png', cfg_path=Path().cwd()/'cfg'/'cartpole_dqn.yaml',)"
   ]
  },
  {
   "cell_type": "markdown",
   "id": "adf80e71",
   "metadata": {},
   "source": [
    "In order to get full points from the task make sure most of the test episodes give a reward of 200, given the seeds below (at least 50% of episodes)."
   ]
  },
  {
   "cell_type": "code",
   "execution_count": 8,
   "id": "09736f3b",
   "metadata": {
    "tags": []
   },
   "outputs": [
    {
     "name": "stdout",
     "output_type": "stream",
     "text": [
      "Numpy/Torch/Random Seed:  436\n",
      "{'episode': 0, 'ep_reward': 200.0}\n",
      "{'episode': 1, 'ep_reward': 200.0}\n",
      "{'episode': 2, 'ep_reward': 200.0}\n",
      "{'episode': 3, 'ep_reward': 200.0}\n",
      "{'episode': 4, 'ep_reward': 200.0}\n",
      "{'episode': 5, 'ep_reward': 200.0}\n",
      "{'episode': 6, 'ep_reward': 200.0}\n",
      "{'episode': 7, 'ep_reward': 200.0}\n",
      "{'episode': 8, 'ep_reward': 200.0}\n",
      "{'episode': 9, 'ep_reward': 200.0}\n"
     ]
    }
   ],
   "source": [
    "if not skip_training:\n",
    "    t.test(agent, cfg_path=Path().cwd()/'cfg'/'cartpole_dqn.yaml', cfg_args=dict(save_video=True), seeds=[67, 23, 89, 12, 45, 78, 34, 90, 21, 56])"
   ]
  },
  {
   "cell_type": "code",
   "execution_count": 9,
   "id": "e3658eb5",
   "metadata": {
    "deletable": false,
    "editable": false,
    "nbgrader": {
     "cell_type": "code",
     "checksum": "38a43041b8d9d7219c1c55d322617d12",
     "grade": true,
     "grade_id": "cell-3ef5a6f870ccd026",
     "locked": true,
     "points": 5,
     "schema_version": 3,
     "solution": false,
     "task": false
    }
   },
   "outputs": [],
   "source": [
    "%%capture --no-stdout\n",
    "\"TEST\""
   ]
  },
  {
   "cell_type": "code",
   "execution_count": 6,
   "id": "6c63b5ce",
   "metadata": {
    "tags": []
   },
   "outputs": [
    {
     "data": {
      "text/html": [
       "<video loop autoplay  >\n",
       " <source src=\"data:video/mp4;base64,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\" type=\"video/mp4\">\n",
       " Your browser does not support the video tag.\n",
       " </video>"
      ],
      "text/plain": [
       "<IPython.core.display.Video object>"
      ]
     },
     "metadata": {},
     "output_type": "display_data"
    }
   ],
   "source": [
    "if not skip_training:\n",
    "      video = Video(Path().cwd()/'results'/'CartPole-v1'/'video'/'test'/'ex4_dqn-episode-0.mp4',\n",
    "      embed=True, html_attributes=\"loop autoplay\") # Set html_attributes=\"controls\" for video control\n",
    "      display(video)"
   ]
  },
  {
   "cell_type": "code",
   "execution_count": 11,
   "id": "004fa76f",
   "metadata": {
    "tags": []
   },
   "outputs": [],
   "source": [
    "# init agent\n",
    "with open(Path().cwd()/'cfg'/'lunarlander_dqn.yaml', 'r') as f:\n",
    "    cfg = t.Struct(**yaml.safe_load(f))\n",
    "    \n",
    "agent = DQNAgent(state_shape=cfg.state_shape, n_actions=cfg.n_actions, batch_size=cfg.batch_size, hidden_dims=cfg.hidden_dims,\n",
    "                 gamma=cfg.gamma, lr=cfg.lr, tau=cfg.tau)"
   ]
  },
  {
   "cell_type": "code",
   "execution_count": 12,
   "id": "d3775e17",
   "metadata": {
    "tags": []
   },
   "outputs": [
    {
     "name": "stdout",
     "output_type": "stream",
     "text": [
      "Numpy/Torch/Random Seed:  436\n",
      "{'ep_reward': -434.1778790196546, 'episode': 0, 'epsilon': 1.0, 'ep_avr': 0.00859684799797833, 'ts_avr': 7.834648114103492e-05}\n",
      "{'ep_reward': -107.70828929109061, 'episode': 100, 'epsilon': 0.6666666666666666, 'ep_avr': 0.26213694784557445, 'ts_avr': 0.0023472738729355515, 'loss': 30.196144104003906, 'q_mean': -9.02302360534668, 'num_update': 10286, 'update_time': 0.0023786210222169757}\n",
      "{'ep_reward': -78.22873757293152, 'episode': 200, 'epsilon': 0.5, 'ep_avr': 0.4199242213787511, 'ts_avr': 0.0025419884453897405, 'loss': 36.93985366821289, 'q_mean': -2.898098945617676, 'num_update': 26788, 'update_time': 0.0024056200636550784}\n",
      "{'ep_reward': 31.648764474221537, 'episode': 300, 'epsilon': 0.4, 'ep_avr': 0.7048798216960859, 'ts_avr': 0.0025756476408870695, 'loss': 7.9384765625, 'q_mean': 9.990365982055664, 'num_update': 54136, 'update_time': 0.0022416699212044477}\n",
      "{'ep_reward': 108.05637263567831, 'episode': 400, 'epsilon': 0.3333333333333333, 'ep_avr': 1.0166100106702651, 'ts_avr': 0.0025440348886998708, 'loss': 5.895902633666992, 'q_mean': 15.19979190826416, 'num_update': 94075, 'update_time': 0.0021679000928997993}\n",
      "{'ep_reward': 79.69284303814516, 'episode': 500, 'epsilon': 0.2857142857142857, 'ep_avr': 1.2117280260636472, 'ts_avr': 0.0025421179104489645, 'loss': 5.5444841384887695, 'q_mean': 26.28142547607422, 'num_update': 141718, 'update_time': 0.00297268305439502}\n",
      "{'ep_reward': 106.16416817169186, 'episode': 600, 'epsilon': 0.25, 'ep_avr': 1.2161407226871233, 'ts_avr': 0.0025671173759172876, 'loss': 6.861719131469727, 'q_mean': 32.664581298828125, 'num_update': 189069, 'update_time': 0.003033292945474386}\n",
      "{'ep_reward': 64.31044230756945, 'episode': 700, 'epsilon': 0.2222222222222222, 'ep_avr': 1.26786294067977, 'ts_avr': 0.002573234124911991, 'loss': 5.3228607177734375, 'q_mean': 36.93124008178711, 'num_update': 238317, 'update_time': 0.002273170044645667}\n",
      "{'ep_reward': 79.03507987562055, 'episode': 800, 'epsilon': 0.2, 'ep_avr': 1.289853415307589, 'ts_avr': 0.0025838895316544594, 'loss': 18.433380126953125, 'q_mean': 37.75935363769531, 'num_update': 288213, 'update_time': 0.002099438919685781}\n",
      "{'ep_reward': 127.23775650034196, 'episode': 900, 'epsilon': 0.18181818181818182, 'ep_avr': 1.2753218397032469, 'ts_avr': 0.0025494366259896195, 'loss': 4.1340742111206055, 'q_mean': 36.7318115234375, 'num_update': 338213, 'update_time': 0.0019515890162438154}\n",
      "{'ep_reward': 101.19192642486914, 'episode': 1000, 'epsilon': 0.16666666666666666, 'ep_avr': 1.0989333042537328, 'ts_avr': 0.0022071934206280646, 'loss': 1.8844621181488037, 'q_mean': 34.99538803100586, 'num_update': 387975, 'update_time': 0.0017488780431449413}\n",
      "{'ep_reward': 95.04577810308471, 'episode': 1100, 'epsilon': 0.15384615384615385, 'ep_avr': 1.1092461958993227, 'ts_avr': 0.002220409933255488, 'loss': 1.8962657451629639, 'q_mean': 35.25322341918945, 'num_update': 437905, 'update_time': 0.0018100079614669085}\n",
      "{'ep_reward': 159.9326082289671, 'episode': 1200, 'epsilon': 0.14285714285714285, 'ep_avr': 1.114243546955986, 'ts_avr': 0.002242715765141738, 'loss': 1.6075584888458252, 'q_mean': 35.374671936035156, 'num_update': 487562, 'update_time': 0.0018642779905349016}\n",
      "{'ep_reward': 161.41500236049134, 'episode': 1300, 'epsilon': 0.13333333333333333, 'ep_avr': 1.1090427645423915, 'ts_avr': 0.002223540048973922, 'loss': 21.03900909423828, 'q_mean': 34.512454986572266, 'num_update': 537413, 'update_time': 0.001907128025777638}\n",
      "{'ep_reward': 200.97692932000456, 'episode': 1400, 'epsilon': 0.125, 'ep_avr': 1.0058987285103649, 'ts_avr': 0.00218597308589651, 'loss': 1.144375205039978, 'q_mean': 34.073020935058594, 'num_update': 583403, 'update_time': 0.0019162589451298118}\n",
      "{'ep_reward': 287.429209742448, 'episode': 1500, 'epsilon': 0.11764705882352941, 'ep_avr': 0.9706523154524621, 'ts_avr': 0.002191888138617779, 'loss': 32.43657684326172, 'q_mean': 39.57737731933594, 'num_update': 627661, 'update_time': 0.0017700979951769114}\n",
      "{'ep_reward': -11.858821684372314, 'episode': 1600, 'epsilon': 0.1111111111111111, 'ep_avr': 0.9243542250455357, 'ts_avr': 0.0021935064191243915, 'loss': 2.118912935256958, 'q_mean': 45.58243179321289, 'num_update': 669776, 'update_time': 0.0018157879821956158}\n",
      "{'ep_reward': 257.8412578741529, 'episode': 1700, 'epsilon': 0.10526315789473684, 'ep_avr': 0.7764378000015859, 'ts_avr': 0.0021943872755928804, 'loss': 1.3355321884155273, 'q_mean': 52.848243713378906, 'num_update': 705135, 'update_time': 0.002629461931064725}\n",
      "{'ep_reward': 247.22106777870405, 'episode': 1800, 'epsilon': 0.1, 'ep_avr': 0.8409481538785621, 'ts_avr': 0.0022035924559830515, 'loss': 1.3799188137054443, 'q_mean': 58.53575897216797, 'num_update': 743273, 'update_time': 0.001890848041512072}\n",
      "{'ep_reward': 294.6425984945048, 'episode': 1900, 'epsilon': 0.09523809523809523, 'ep_avr': 0.8340276307507883, 'ts_avr': 0.002211432391953694, 'loss': 1.8487359285354614, 'q_mean': 65.92072296142578, 'num_update': 780963, 'update_time': 0.0018833390204235911}\n",
      "------ Training Finished ------\n"
     ]
    }
   ],
   "source": [
    "# Trainig takes approximately 60 mins,depends on server\n",
    "if not skip_training:\n",
    "    t.train(agent, cfg_path=Path().cwd()/'cfg'/'lunarlander_dqn.yaml', cfg_args=dict()) "
   ]
  },
  {
   "cell_type": "code",
   "execution_count": 13,
   "id": "3e2a7511-d1aa-4691-be76-406dbccdc739",
   "metadata": {
    "tags": []
   },
   "outputs": [
    {
     "name": "stdout",
     "output_type": "stream",
     "text": [
      "Numpy/Torch/Random Seed:  436\n"
     ]
    },
    {
     "data": {
      "image/png": "[encoded data removed]",
      "text/plain": [
       "<Figure size 640x480 with 1 Axes>"
      ]
     },
     "metadata": {},
     "output_type": "display_data"
    }
   ],
   "source": [
    "# Visualize the DQN training plots for the lunarlander task\n",
    "if not skip_training:\n",
    "    t.plot(save_name='lunarlander_dqn.png', cfg_path=Path().cwd()/'cfg'/'lunarlander_dqn.yaml', cfg_args=dict())"
   ]
  },
  {
   "cell_type": "markdown",
   "id": "74030fd2",
   "metadata": {},
   "source": [
    "In order to get full points from the task make sure most of the test episodes give a reward of 200, given the seeds below (at least 50% of episodes)."
   ]
  },
  {
   "cell_type": "code",
   "execution_count": 14,
   "id": "ba2808d4",
   "metadata": {
    "tags": []
   },
   "outputs": [
    {
     "name": "stdout",
     "output_type": "stream",
     "text": [
      "Numpy/Torch/Random Seed:  436\n",
      "{'episode': 0, 'ep_reward': 283.9441114586026}\n",
      "{'episode': 1, 'ep_reward': 285.9164104690602}\n",
      "{'episode': 2, 'ep_reward': 298.1588299219973}\n",
      "{'episode': 3, 'ep_reward': 158.66332199767606}\n",
      "{'episode': 4, 'ep_reward': 243.09004227386976}\n",
      "{'episode': 5, 'ep_reward': 243.18063106554283}\n",
      "{'episode': 6, 'ep_reward': 274.0462310581165}\n",
      "{'episode': 7, 'ep_reward': 237.66886923067088}\n",
      "{'episode': 8, 'ep_reward': 311.39349427503396}\n",
      "{'episode': 9, 'ep_reward': 291.368483845122}\n"
     ]
    }
   ],
   "source": [
    "if not skip_training:\n",
    "    t.test(agent, cfg_path=Path().cwd()/'cfg'/'lunarlander_dqn.yaml', cfg_args=dict(save_video=True),seeds=[67, 23, 89, 12, 45, 78, 34, 90, 21, 56])"
   ]
  },
  {
   "cell_type": "code",
   "execution_count": 7,
   "id": "85204079",
   "metadata": {
    "deletable": false,
    "editable": false,
    "nbgrader": {
     "cell_type": "code",
     "checksum": "5b145c58866764ca02e0b5c4729621a0",
     "grade": true,
     "grade_id": "cell-7c41d50955488cf2",
     "locked": true,
     "points": 5,
     "schema_version": 3,
     "solution": false,
     "task": false
    },
    "tags": []
   },
   "outputs": [],
   "source": [
    "%%capture --no-stdout\n",
    "\"TEST\""
   ]
  },
  {
   "cell_type": "code",
   "execution_count": 8,
   "id": "e34889d9",
   "metadata": {
    "tags": []
   },
   "outputs": [
    {
     "data": {
      "text/html": [
       "<video loop autoplay  >\n",
       " <source src=\"data:video/mp4;base64,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\" type=\"video/mp4\">\n",
       " Your browser does not support the video tag.\n",
       " </video>"
      ],
      "text/plain": [
       "<IPython.core.display.Video object>"
      ]
     },
     "metadata": {},
     "output_type": "display_data"
    }
   ],
   "source": [
    "if not skip_training:\n",
    "  video = Video(Path().cwd()/'results'/'LunarLander-v2'/'video'/'test'/'ex4_dqn-episode-8.mp4',\n",
    "  embed=True, html_attributes=\"loop autoplay\") # Set html_attributes=\"controls\" for video control\n",
    "  display(video)"
   ]
  },
  {
   "cell_type": "markdown",
   "id": "55896461",
   "metadata": {
    "deletable": false,
    "editable": false,
    "nbgrader": {
     "cell_type": "markdown",
     "checksum": "7672a364f357aec8cb5210d0f941fe63",
     "grade": false,
     "grade_id": "cell-c5606712f2bd514a",
     "locked": true,
     "schema_version": 3,
     "solution": false,
     "task": false
    },
    "tags": []
   },
   "source": [
    "<a id='Q1'></a>\n",
    "<div class=\" alert alert-warning\">\n",
    "    <h3><b>Student Question 1.1</b> Considering Continuous Action Spaces (5 points) </h3> \n",
    "    \n",
    "🔝\t<a href='#TOC'><b>Table of Contents</b></a>\n",
    "</div>\n"
   ]
  },
  {
   "cell_type": "markdown",
   "id": "9b95154b-026f-4e95-9492-20782e8aa24d",
   "metadata": {
    "deletable": false,
    "editable": false,
    "nbgrader": {
     "cell_type": "markdown",
     "checksum": "5f6c4dc6645b2c94d0cbd2e55e2ebe45",
     "grade": false,
     "grade_id": "cell-d77b9f2562ab2797",
     "locked": true,
     "schema_version": 3,
     "solution": false,
     "task": false
    },
    "tags": []
   },
   "source": [
    "### 1.1.1 Question (5 points):\n",
    "Can Q-learning be used directly in environments with continuous action spaces?\n",
    "\n",
    "**Select one:**\n",
    "\n",
    "1. Yes, Q-learning can be used directly without any modifications.\n",
    "2. No, Q-learning cannot be used directly because it only works with a discrete set of actions.\n",
    "3. No, Q-learning cannot be used directly in continuous action spaces, but it can be adapted with certain modifications.\n",
    "4. Yes, Q-learning can be used directly, but it is less efficient than in discrete action spaces."
   ]
  },
  {
   "cell_type": "code",
   "execution_count": 23,
   "id": "22025c94-158f-4ee7-834a-1248eb189d1a",
   "metadata": {
    "tags": []
   },
   "outputs": [],
   "source": [
    "sq_1_1_1 = 3 # Replace with the appropriate answer number"
   ]
  },
  {
   "cell_type": "markdown",
   "id": "29c2290f-67a7-4fe8-9a55-7db7bb6c88f6",
   "metadata": {},
   "source": [
    "The following cells are used for grading"
   ]
  },
  {
   "cell_type": "code",
   "execution_count": 24,
   "id": "abdf5784-303d-4aa9-b036-75219830d49d",
   "metadata": {
    "deletable": false,
    "editable": false,
    "nbgrader": {
     "cell_type": "code",
     "checksum": "85bc371a65d530f9fc963804e483295d",
     "grade": true,
     "grade_id": "cell-9b579c6ba03d991a",
     "locked": true,
     "points": 0,
     "schema_version": 3,
     "solution": false,
     "task": false
    },
    "tags": []
   },
   "outputs": [],
   "source": [
    "assert sq_1_1_1 in range(1, 5)"
   ]
  },
  {
   "cell_type": "code",
   "execution_count": null,
   "id": "42005b40-9ed9-4977-bcbf-8420c8d177b4",
   "metadata": {
    "deletable": false,
    "editable": false,
    "nbgrader": {
     "cell_type": "code",
     "checksum": "0cca2254b439447f716776ca19336a27",
     "grade": true,
     "grade_id": "cell-254ea90497e5d82c",
     "locked": true,
     "points": 5,
     "schema_version": 3,
     "solution": false,
     "task": false
    },
    "tags": []
   },
   "outputs": [],
   "source": []
  },
  {
   "cell_type": "markdown",
   "id": "1395f3d1",
   "metadata": {
    "deletable": false,
    "editable": false,
    "nbgrader": {
     "cell_type": "markdown",
     "checksum": "294b5606dc64ab643d5b5cb9823f7068",
     "grade": false,
     "grade_id": "cell-ca3df96c77733d4f",
     "locked": true,
     "schema_version": 3,
     "solution": false,
     "task": false
    },
    "tags": []
   },
   "source": [
    "<a id='Q2'></a>\n",
    "<div class=\" alert alert-warning\">\n",
    "    <h3><b>Student Question 1.2</b> Continuous Action Spaces Part 1 (15 points) </h3> \n",
    "    \n",
    "🔝\t<a href='#TOC'><b>Table of Contents</b></a>\n",
    "</div>\n"
   ]
  },
  {
   "cell_type": "markdown",
   "id": "f5ee6c44-ca32-4620-85c5-204a4ef2646d",
   "metadata": {
    "deletable": false,
    "editable": false,
    "nbgrader": {
     "cell_type": "markdown",
     "checksum": "368c9ec46e655d5206fd92a3afd6452c",
     "grade": false,
     "grade_id": "cell-19c97802050ed143",
     "locked": true,
     "schema_version": 3,
     "solution": false,
     "task": false
    },
    "tags": []
   },
   "source": [
    "### 1.2.1 Question (5 points):\n",
    "\n",
    "What is the primary challenge when applying DQN to a continuous action space? Hint: select the one that describes the main issue.\n",
    "\n",
    "**Select one:**\n",
    "\n",
    "1. Updating the Q values\n",
    "2. Storing the Q values\n",
    "3. Performing the maximization (argmax) operation\n",
    "4. Calculating the loss function\n",
    "5. Calculating the reward"
   ]
  },
  {
   "cell_type": "code",
   "execution_count": 25,
   "id": "4e8f0ef2-5e19-41d8-bf49-3c8f38ffe645",
   "metadata": {
    "tags": []
   },
   "outputs": [],
   "source": [
    "sq_1_2_1 = 3 # Replace with the appropriate answer number"
   ]
  },
  {
   "cell_type": "markdown",
   "id": "88c67c7f-cabd-40df-97a6-8ddbcfa9a8d6",
   "metadata": {
    "deletable": false,
    "editable": false,
    "nbgrader": {
     "cell_type": "markdown",
     "checksum": "ed192a4eb4250673f4af98c6e743ef23",
     "grade": false,
     "grade_id": "cell-97197487f8ceeb64",
     "locked": true,
     "schema_version": 3,
     "solution": false,
     "task": false
    },
    "tags": []
   },
   "source": [
    "### 1.2.2 Question (5 points):\n",
    "\n",
    "Which one of the following methods does NOT address the continuous action space problem in DQN?\n",
    "\n",
    "**Select one:**\n",
    "\n",
    "1. Learn a function approximation for the maximum of the Q-function\n",
    "2. Use a policy to draw samples of Q(s,a) and select the action with the highest Q-value (e.g., MPO)\n",
    "3. Approximate the Q-function as a convex function\n",
    "4. Use a Deep Deterministic Policy Gradient (DDPG) approach to learn a policy and Q-function simultaneously\n",
    "5. Use a Double DQN approach with two separate networks to estimate Q-values for continuous actions\n",
    "6. Discretize the action space with fine-grained intervals"
   ]
  },
  {
   "cell_type": "code",
   "execution_count": 26,
   "id": "9f1ae7de-289e-44ab-bfed-437273e38cf4",
   "metadata": {
    "tags": []
   },
   "outputs": [],
   "source": [
    "sq_1_2_2 = 5 # Replace with the appropriate answer number"
   ]
  },
  {
   "cell_type": "markdown",
   "id": "dbbf50e1-f1d0-4735-a614-adffd7574619",
   "metadata": {
    "deletable": false,
    "editable": false,
    "nbgrader": {
     "cell_type": "markdown",
     "checksum": "ccae140251592e9baae2e607b9db5a96",
     "grade": false,
     "grade_id": "cell-f42263c476c89d1f",
     "locked": true,
     "schema_version": 3,
     "solution": false,
     "task": false
    },
    "tags": []
   },
   "source": [
    "### 1.2.3 Question (5 points):\n",
    "\n",
    "Discretization is one approach to address the continuous action space problem. What is a **significant** limitation of discretizing the action space to address the continuous action space problem in DQN?\n",
    "\n",
    "**Select one:**\n",
    "\n",
    "1. It may not generalize well to actions outside the discrete set\n",
    "2. It increases the size of the state space exponentially\n",
    "3. It requires modifying the neural network architecture\n",
    "4. It can lead to unstable learning in the early stages of training\n",
    "5. It makes the reward function non-differentiable"
   ]
  },
  {
   "cell_type": "code",
   "execution_count": 27,
   "id": "134ba924-6705-4982-8477-93f27336b475",
   "metadata": {
    "tags": []
   },
   "outputs": [],
   "source": [
    "sq_1_2_3 = 1 # Replace with the appropriate answer number"
   ]
  },
  {
   "cell_type": "markdown",
   "id": "3695dc82-6d20-4051-9e8e-1e256a5bf8fb",
   "metadata": {
    "deletable": false,
    "editable": false,
    "nbgrader": {
     "cell_type": "markdown",
     "checksum": "ea9c2ff3ff7fa62ff869bc2e92a32207",
     "grade": false,
     "grade_id": "cell-6d65dca0030ecedc",
     "locked": true,
     "schema_version": 3,
     "solution": false,
     "task": false
    },
    "tags": []
   },
   "source": [
    "The following cells are used for grading"
   ]
  },
  {
   "cell_type": "code",
   "execution_count": 28,
   "id": "7edf9407-26e1-4b81-910f-a877ebd3d68e",
   "metadata": {
    "deletable": false,
    "editable": false,
    "nbgrader": {
     "cell_type": "code",
     "checksum": "4e70d5f938adbf449599993ed8984ee7",
     "grade": true,
     "grade_id": "cell-b7c78664ec74ec2a",
     "locked": true,
     "points": 0,
     "schema_version": 3,
     "solution": false,
     "task": false
    },
    "tags": []
   },
   "outputs": [],
   "source": [
    "assert sq_1_2_1 in range(1, 6)\n",
    "assert sq_1_2_2 in range(1, 7)\n",
    "assert sq_1_2_3 in range(1, 6)"
   ]
  },
  {
   "cell_type": "code",
   "execution_count": null,
   "id": "d1c89084-b34b-4b3b-bb23-6d84d3b17180",
   "metadata": {
    "deletable": false,
    "editable": false,
    "nbgrader": {
     "cell_type": "code",
     "checksum": "261ad454b4494ded2716bb3ea7da00f4",
     "grade": true,
     "grade_id": "cell-cee299bf0c9ac8e4",
     "locked": true,
     "points": 5,
     "schema_version": 3,
     "solution": false,
     "task": false
    },
    "tags": []
   },
   "outputs": [],
   "source": []
  },
  {
   "cell_type": "code",
   "execution_count": null,
   "id": "9c4eeeb7-aa75-49f5-b69a-3a157060ef58",
   "metadata": {
    "deletable": false,
    "editable": false,
    "nbgrader": {
     "cell_type": "code",
     "checksum": "a0166d8f9297188b4711c3a925bf6006",
     "grade": true,
     "grade_id": "cell-bd84024a26ba389c",
     "locked": true,
     "points": 5,
     "schema_version": 3,
     "solution": false,
     "task": false
    },
    "tags": []
   },
   "outputs": [],
   "source": []
  },
  {
   "cell_type": "code",
   "execution_count": null,
   "id": "11daf090-e4f1-4ca7-bd2a-9e786c3d794b",
   "metadata": {
    "deletable": false,
    "editable": false,
    "nbgrader": {
     "cell_type": "code",
     "checksum": "b14e5eefe2c878d41a5c63ece44a2ab4",
     "grade": true,
     "grade_id": "cell-42e6f022fdf27684",
     "locked": true,
     "points": 5,
     "schema_version": 3,
     "solution": false,
     "task": false
    },
    "tags": []
   },
   "outputs": [],
   "source": []
  },
  {
   "cell_type": "markdown",
   "id": "f10e680f",
   "metadata": {
    "deletable": false,
    "editable": false,
    "nbgrader": {
     "cell_type": "markdown",
     "checksum": "84e1103ca1d0b41cb9afb1cceed72204",
     "grade": false,
     "grade_id": "cell-640e21ebd354971a",
     "locked": true,
     "schema_version": 3,
     "solution": false,
     "task": false
    },
    "tags": []
   },
   "source": [
    "<a id='Q3'></a>\n",
    "<div class=\" alert alert-warning\">\n",
    "    <h3><b>Student Question 1.3</b> The Target Network (10 points) </h3> \n",
    "    \n",
    "🔝\t<a href='#TOC'><b>Table of Contents</b></a>\n",
    "</div>\n"
   ]
  },
  {
   "cell_type": "markdown",
   "id": "11f15fdf-5b08-469f-a0d5-f63f6a969aff",
   "metadata": {
    "deletable": false,
    "editable": false,
    "nbgrader": {
     "cell_type": "markdown",
     "checksum": "61cefb26ece3864427822aed99841924",
     "grade": false,
     "grade_id": "cell-a748a52ab72e0273",
     "locked": true,
     "schema_version": 3,
     "solution": false,
     "task": false
    },
    "tags": []
   },
   "source": [
    "### 1.3.1 Question (5 points):\n",
    "\n",
    "Why do we use a separate target network in DQN instead of using the same network for both Q(s,a) and max_a(Q(s', ·))?\n",
    "\n",
    "**Select one:**\n",
    "\n",
    "1. To prevent the network from overfitting to the most recent transitions\n",
    "2. To ensure that the Q-values are always within a specific range\n",
    "3. To stabilize the training process by preventing frequent changes in target values\n",
    "4. To enable the network to learn from both on-policy and off-policy data"
   ]
  },
  {
   "cell_type": "code",
   "execution_count": 29,
   "id": "559704b6-23fd-4973-92ba-6492923011e2",
   "metadata": {
    "tags": []
   },
   "outputs": [],
   "source": [
    "sq_1_3_1 = 3 # Replace with the appropriate answer number"
   ]
  },
  {
   "cell_type": "markdown",
   "id": "aa24ade0-0094-401f-820d-956a237e2247",
   "metadata": {
    "deletable": false,
    "editable": false,
    "nbgrader": {
     "cell_type": "markdown",
     "checksum": "e10a194b9212ed25ee1f1a223182e825",
     "grade": false,
     "grade_id": "cell-e43b228069f05456",
     "locked": true,
     "schema_version": 3,
     "solution": false,
     "task": false
    },
    "tags": []
   },
   "source": [
    "### 1.3.2 Question (5 points):\n",
    "\n",
    "What would happen if we don't stop the gradient of the target Q-value in DQN?\n",
    "\n",
    "**Select one:**\n",
    "\n",
    "1. The optimization process would become more stable due to the joint updates\n",
    "2. The target network updates would be synchronized with the main network updates\n",
    "3. Both the current Q-values and the target Q-values would be updated during optimization\n",
    "4. The algorithm would effectively switch to an on-policy learning method"
   ]
  },
  {
   "cell_type": "code",
   "execution_count": 30,
   "id": "e7714624-1df2-4e67-aa6a-0b248f69981e",
   "metadata": {
    "tags": []
   },
   "outputs": [],
   "source": [
    "sq_1_3_2 = 3 # Replace with the appropriate answer number"
   ]
  },
  {
   "cell_type": "markdown",
   "id": "de0dd848-e39f-4fa8-bd6c-4b4c38396412",
   "metadata": {
    "deletable": false,
    "editable": false,
    "nbgrader": {
     "cell_type": "markdown",
     "checksum": "87ced07276419b634e8b7d852523bc90",
     "grade": false,
     "grade_id": "cell-2f5dabf7c2e0b401",
     "locked": true,
     "schema_version": 3,
     "solution": false,
     "task": false
    },
    "tags": []
   },
   "source": [
    "The following cells are used for grading"
   ]
  },
  {
   "cell_type": "code",
   "execution_count": 31,
   "id": "92b45bf0-c052-4b1c-b19c-750b371a6cf4",
   "metadata": {
    "deletable": false,
    "editable": false,
    "nbgrader": {
     "cell_type": "code",
     "checksum": "738fa24b9d702b770e751fa6df17c2a3",
     "grade": true,
     "grade_id": "cell-7427871eee3676e5",
     "locked": true,
     "points": 0,
     "schema_version": 3,
     "solution": false,
     "task": false
    },
    "tags": []
   },
   "outputs": [],
   "source": [
    "assert sq_1_3_1 in range(1, 5)\n",
    "assert sq_1_3_2 in range(1, 5)"
   ]
  },
  {
   "cell_type": "code",
   "execution_count": null,
   "id": "08be39cf-a443-4ce7-b709-4701b5b9d187",
   "metadata": {
    "deletable": false,
    "editable": false,
    "nbgrader": {
     "cell_type": "code",
     "checksum": "1f7a58a67e676406e37624e5050e1132",
     "grade": true,
     "grade_id": "cell-06da3985fcfd8e51",
     "locked": true,
     "points": 5,
     "schema_version": 3,
     "solution": false,
     "task": false
    },
    "tags": []
   },
   "outputs": [],
   "source": []
  },
  {
   "cell_type": "code",
   "execution_count": null,
   "id": "5b6fd766-1305-43dd-8a4f-756ad0457882",
   "metadata": {
    "deletable": false,
    "editable": false,
    "nbgrader": {
     "cell_type": "code",
     "checksum": "6a767e7d006960d5cd4bf0181c632ea3",
     "grade": true,
     "grade_id": "cell-a8c5938cdf0dfd2c",
     "locked": true,
     "points": 5,
     "schema_version": 3,
     "solution": false,
     "task": false
    },
    "tags": []
   },
   "outputs": [],
   "source": []
  },
  {
   "cell_type": "markdown",
   "id": "4266d794-008d-4d2c-9a9e-0e18d9b6e354",
   "metadata": {
    "tags": []
   },
   "source": [
    "# 3. Submitting <a id='3.'></a>\n",
    "Ensure all tasks and questions (in ```ex4_dpn.ipynb``` and ```ex4_rbf.ipynb```) are answered and and that the necessary plots are saved in the appropriate locations. The relevant plots and files needed to be submitted for this assignment are:\n",
    "\n",
    "\n",
    "- Training performance plots:\n",
    "  - `cartpole_dqn.png`: Cartpole, training performance plots in terms of episode and episodic reward\n",
    "  - `lunarlander_dqn.png`: Lunarlander, training performance plots in terms of episode and episodic reward \n",
    "<br>\n",
    "<br>\n",
    "\n",
    "  \n",
    "\n",
    "- Model files:\n",
    "  - `dqn.pt`: Trained model\n",
    "\n",
    "\n",
    "Ensure the model files and plots are saved in correct paths:\n",
    "- ```results/CartPole-v1/cartpole_dqn``` Training result for Cartpole environment\n",
    "- ```results/CartPole-v1/model/dqn.pt``` Model for Cartpole environment\n",
    "- ```results/LunarLander-v2/lunarlander_dqn.png``` Training result for LunarLander environment\n",
    "- ```results/LunarLander-v2/model/dqn.pt``` Model for LunarLander environment\n",
    "\n",
    "\n",
    "<span style=\"color:red\"> **# IMPORTANT: DO NOT FORGET ANOTHER TASK IN ```ex4_rbf.ipynb```** </span>"
   ]
  },
  {
   "cell_type": "code",
   "execution_count": 32,
   "id": "40c8536b",
   "metadata": {
    "deletable": false,
    "editable": false,
    "nbgrader": {
     "cell_type": "code",
     "checksum": "cc73e5f68adbc298f70feabf9026032d",
     "grade": true,
     "grade_id": "cell-c97f1e23824070fc",
     "locked": true,
     "points": 0,
     "schema_version": 3,
     "solution": false,
     "task": false
    },
    "tags": []
   },
   "outputs": [],
   "source": [
    "# Make sure that skip training is set to True before submission\n",
    "assert skip_training == True"
   ]
  },
  {
   "cell_type": "markdown",
   "id": "2ec40b02-69c6-401a-ad79-2f67a8a660e9",
   "metadata": {
    "tags": []
   },
   "source": [
    "## 3.1 Feedback <a id='3.1'></a>\n",
    "\n",
    "In order to help the staff of the course as well as the forthcoming students, it would be great if you could answer to the following questions in your submission:"
   ]
  },
  {
   "cell_type": "markdown",
   "id": "d0a8baf6-b860-4338-b655-b28ec4fac282",
   "metadata": {},
   "source": [
    "1) How much time did you spend solving this exercise? (change the ```hrs``` variable below to a floating point number representing the number of hours taken e.g. 5.43)"
   ]
  },
  {
   "cell_type": "code",
   "execution_count": 33,
   "id": "ed94026d-ad80-4148-8e02-5bcfd4b33e98",
   "metadata": {
    "tags": []
   },
   "outputs": [],
   "source": [
    "hrs = 2"
   ]
  },
  {
   "cell_type": "markdown",
   "id": "732e1e56-4c4f-4bdf-95b3-f4efcc4c053a",
   "metadata": {},
   "source": [
    "2) Difficulty of each task/question from 1-5 (int or float)"
   ]
  },
  {
   "cell_type": "code",
   "execution_count": 34,
   "id": "161f647d-4cf5-4cf8-abbf-1c0d285c5f40",
   "metadata": {
    "tags": []
   },
   "outputs": [],
   "source": [
    "T1 = 5   # Implementing DQN (10 points)\n",
    "Q1_1 = 2 # Question 1.1 Considering Continuous Action Spaces (5 points)\n",
    "Q1_2 = 2 # Question 1.2 Continuous Action Spaces Part 1 (15 points)\n",
    "Q1_3 = 3 # Question 1.3 The Target Network (10 points)"
   ]
  },
  {
   "cell_type": "markdown",
   "id": "4fb4a6d0-4ff1-4705-93af-493eed829e4e",
   "metadata": {},
   "source": [
    "3) How well did you understand the content of the task/question from 1-5? (int or float)"
   ]
  },
  {
   "cell_type": "code",
   "execution_count": 35,
   "id": "eb003431-4a23-4350-86ec-34444a64ee9d",
   "metadata": {
    "tags": []
   },
   "outputs": [],
   "source": [
    "T1 = 2   # Implementing DQN (10 points)\n",
    "Q1_1 = 4 # Question 1.1 Considering Continuous Action Spaces (5 points)\n",
    "Q1_2 = 4 # Question 1.2 Continuous Action Spaces Part 1 (15 points)\n",
    "Q1_3 = 4 # Question 1.3 The Target Network (10 points)"
   ]
  },
  {
   "cell_type": "markdown",
   "id": "c2fa9a62-dcf9-41fe-8d56-a852b2582efa",
   "metadata": {},
   "source": [
    "4) General feedback. Consider questions like:\n",
    "\n",
    "    - Did the content of the lecture relate well with the assignment?\n",
    "    - To what extent did you find the material to be potentially useful for your research and studies?\n",
    "    \n",
    "Please share any additional feedback, suggestions, or comments you have about the lecture, assignment, or course content. Your input is valuable in helping us improve the learning experience."
   ]
  },
  {
   "cell_type": "markdown",
   "id": "77edf97b-6cd9-48a9-bbc9-a075e6c15abb",
   "metadata": {
    "tags": []
   },
   "source": [
    "DOUBLE CLICK HERE TO EDIT, CLEAR THIS TEXT AND ANSWER HERE"
   ]
  }
 ],
 "metadata": {
  "kernelspec": {
   "display_name": "Python 3",
   "language": "python",
   "name": "python3"
  },
  "language_info": {
   "codemirror_mode": {
    "name": "ipython",
    "version": 3
   },
   "file_extension": ".py",
   "mimetype": "text/x-python",
   "name": "python",
   "nbconvert_exporter": "python",
   "pygments_lexer": "ipython3",
   "version": "3.10.12"
  }
 },
 "nbformat": 4,
 "nbformat_minor": 5
}
