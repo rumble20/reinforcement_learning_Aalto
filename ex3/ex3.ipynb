{
 "cells": [
  {
   "cell_type": "markdown",
   "id": "53274fb5",
   "metadata": {
    "deletable": false,
    "editable": false,
    "nbgrader": {
     "cell_type": "markdown",
     "checksum": "73759704c25454df00b3738c245f7a5f",
     "grade": false,
     "grade_id": "cell-4b5bc7c2e51c6d03",
     "locked": true,
     "schema_version": 3,
     "solution": false,
     "task": false
    },
    "tags": []
   },
   "source": [
    "\n",
    "<div class=\"alert alert-block alert-info\">\n",
    "   <h2 align=\"center\"> <center><b> Reinforcement Learning Assignment 3 - Q Learning </b></center></h2>\n",
    "\n",
    "<br>\n",
    "<center><font size=\"3\">This notebook is a part of teaching material for ELEC-E8125</font></center>\n",
    "<center><font size=\"3\">Sep 1, 2025 - Dec 1, 2025</font></center>\n",
    "<center><font size=\"3\">Aalto University</font></center>\n",
    "</div>\n",
    "\n",
    "\n",
    "<a id='TOC'></a>\n",
    "\n",
    "<div class=\"alert alert-block alert-success\">\n",
    "    \n",
    "# Table of contents\n",
    "* <a href='#1.'> 1. Introduction </a>\n",
    "* <a href='#1.1'> 1.1 Learning Objectives </a>\n",
    "* <a href='#1.2'> 1.2 Code Structure & Files </a>\n",
    "* <a href='#2.'> 2. Cartpole </a>\n",
    "* <a href='#2.'> 3. Lunar Lander </a> \n",
    "* <a href='#4.'> 4. Submitting </a>\n",
    "* <a href='#4.1'> 4.1 Feedback </a>\n",
    "* <a href='#5.'> References</a>\n",
    "\n",
    "<a href='#T1'><b>Student Task 1.</b> Implementing Q-Learning  (25 points) </a>\\\n",
    "<a href='#T2'><b>Student Task 2.</b> Visualizing the Value Function (10 points) </a>\\\n",
    "<a href='#Q1'><b>Student Question 2.1</b> Analyzing the Value Function Heatmap (15 points) </a>\\\n",
    "<a href='#T3'><b>Student Task 3.</b> Investigating Initial Values (10 points) </a>\\\n",
    "<a href='#Q2'><b>Student Question 3.1</b> Analyzing Initial Values (5 points) </a>\\\n",
    "<a href='#Q3'><b>Student Question 3.2</b> Exploration (15 points) </a>\\\n",
    "<a href='#T4'><b>Student Task 4.</b> Using Q-Learning on the Lunar Lander Environment (5 points) </a>\\\n",
    "<a href='#Q4'><b>Student Question 4.1</b> Lunar Lander Performance (15 points) </a>\n",
    "\n",
    "**Total Points:** 100\n",
    "\n",
    "**Estimated runtime of all the cells:** 2 hour "
   ]
  },
  {
   "cell_type": "markdown",
   "id": "ec668e3c-ed10-4b5f-b033-7f21391dd072",
   "metadata": {
    "deletable": false,
    "editable": false,
    "nbgrader": {
     "cell_type": "markdown",
     "checksum": "b83672bf7f3be091f160f135ae78d22c",
     "grade": false,
     "grade_id": "cell-0ecccf891e2408d9",
     "locked": true,
     "schema_version": 3,
     "solution": false,
     "task": false
    },
    "tags": []
   },
   "source": [
    "# 1. Introduction <a id='1.'></a>\n",
    "\n",
    "In this exercise, you'll be applying grid-based Q-learning to the **Cartpole** and **LunarLander** environments.\n",
    "\n",
    "## 1.1 Learning Objectives: <a id='1.1'></a>\n",
    "- To understand and develop intuition about Q-learning.\n",
    "- To understand simple exploration methods like GLIE and how exploration effects learning\n",
    "\n",
    "## 1.2 Code Structure & Files <a id='1.2'></a>\n",
    "\n",
    "You don’t have to edit any other file other than ```ex3.ipynb``` to complete this exercise.\n",
    "\n",
    "```\n",
    "├───cfg                           # Config files for environments e.g. define the maximum number of steps in an episode.\n",
    "├───imgs                          # Images used in notebook\n",
    "├───results\n",
    "│   ├───CartPole-v1\n",
    "│   │   └───video                  # Videos saved\n",
    "│   │   │   logging.pkl            # Contains logged data\n",
    "│   │   │   *q_table_e.pkl         # Contains qtable data for epsilon fixed\n",
    "│   │   │   *q_table_glie.pkl      # Contains qtable data for glie\n",
    "│   │   │   *e.png                 # Contains training performance plot for epsilon fixed\n",
    "│   │   │   *glie.png              # Contains training performance plot for glie\n",
    "│   ├───LunarLander-v2\n",
    "│   │   └───video\n",
    "│   │   │   logging.pkl\n",
    "│   │   │   *q_table_e.pkl\n",
    "│   │   │   *q_table_glie.pkl\n",
    "│   │   │   *e.png                 \n",
    "│   │   │   *glie.png              \n",
    "│   ex3.ipynb                      # Main assignment file containing tasks <---------\n",
    "│   setup.py                       # Contains setup function\n",
    "│   utils.py                       # Contains useful functions \n",
    "```\n"
   ]
  },
  {
   "cell_type": "markdown",
   "id": "ff36c86f",
   "metadata": {
    "tags": []
   },
   "source": [
    "## Warnings:\n",
    "\n",
    "- Don’t copy and paste cells within a notebook. This will mess up the tracking metadata and prevent autograding from working.\n",
    "- Only add new cells using the '+' button in the upper toolbar and do not split cells.\n",
    "- Be cautious about things such as copying the whole notebook to Colab to work on it. This has sometimes resulted in removing all notebook metadata, making autograding impossible."
   ]
  },
  {
   "cell_type": "markdown",
   "id": "0c999cc7",
   "metadata": {
    "deletable": false,
    "editable": false,
    "nbgrader": {
     "cell_type": "markdown",
     "checksum": "15066d1f084603d0367d637a21c41cef",
     "grade": false,
     "grade_id": "cell-c2117ccc1c4199d3",
     "locked": true,
     "schema_version": 3,
     "solution": false,
     "task": false
    },
    "tags": []
   },
   "source": [
    "# 2. Cartpole <a id='2.'></a>\n",
    "\n",
    "Recall the Cartpole environment from Exercise 1.\n"
   ]
  },
  {
   "cell_type": "markdown",
   "id": "88cfe17b",
   "metadata": {
    "deletable": false,
    "editable": false,
    "nbgrader": {
     "cell_type": "markdown",
     "checksum": "2524f28d2ba6329fe80ca41bedc61ea5",
     "grade": false,
     "grade_id": "cell-83fe844e90e20c9e",
     "locked": true,
     "schema_version": 3,
     "solution": false,
     "task": false
    },
    "tags": []
   },
   "source": [
    "<a id='T1'></a>\n",
    "<div class=\" alert alert-warning\">\n",
    "    <h3><b>Student Task 1.</b> Implementing Q-Learning  (25 points) </h3> \n",
    "\n",
    "Implement Q-learning as presented in [Sutton and Barto, 2017, Section 6.5][1] for the Cartpole environment. Once you've successfully implemented the `get_action` and `update_q_value` functions,\n",
    "you can compare the two exploration methods:\n",
    "\n",
    "1. Use a constant value of $\\epsilon = 0.1$:\n",
    "    \n",
    "- Training:\n",
    "    ```python\n",
    "    # Training with constant epsilon 0.1\n",
    "    cfg_args = dict(epsilon=0.1, save_video=False)\n",
    "    train(cfg_path=Path().cwd()/'cfg'/'cartpole_v1.yaml', cfg_args=cfg_args)\n",
    "    ```\n",
    "- Testing:\n",
    "    ```python\n",
    "    # Testing with constant epsilon 0.1\n",
    "    cfg_args=dict(epsilon=0.1, save_video=True)\n",
    "    test(cfg_path=Path().cwd()/'cfg'/'cartpole_v1.yaml', cfg_args=cfg_args)\n",
    "    ```\n",
    "- Visualization: To record and visualize the agent's performance, you could set `save_video=True` and run the following:\n",
    "\n",
    "    ```python\n",
    "    Video(Path().cwd()/'results'/'CartPole-v1'/'video'/'test'/'ex3-episode-0.mp4', embed=True, html_attributes=\"loop autoplay\")\n",
    "    ```\n",
    "\n",
    "2. Implement **GLIE** (i.e., *Greedy in the Limit with Infinite Exploration*), which reduces the value of $\\epsilon$ over time. For details on the formula, refer to **[Lecture 3]**.\n",
    "    \n",
    "- Training (Ensure you've determined the correct value for `glie_b`):  \n",
    "    ```python\n",
    "    # Training with GLIE\n",
    "    cfg_args=dict(epsilon='glie', glie_b=<insert-correct-value>, save_video=False) # insert correct value for glie_b\n",
    "    train(cfg_path=Path().cwd()/'cfg'/'cartpole_v1.yaml', cfg_args=cfg_args) # < 30 mins\n",
    "    ```\n",
    "- Testing:\n",
    " \n",
    "    ```python\n",
    "    # Testing with GLIE\n",
    "    cfg_args=dict(epsilon='glie', save_video=True)\n",
    "    test(cfg_path=Path().cwd()/'cfg'/'cartpole_v1.yaml', cfg_args=cfg_args)\n",
    "    ```\n",
    "- Visualization: To record and visualize the agent's performance, you could set `save_video=True` and run the following:\n",
    "\n",
    "    ```python\n",
    "    Video(Path().cwd()/'results'/'CartPole-v1'/'video'/'test'/'ex3-episode-0.mp4', embed=True, html_attributes=\"loop autoplay\")\n",
    "    ```\n",
    "    \n",
    "These videos will be stored in the **results** folder.\n",
    "\n",
    "**Note:** Before you proceed with the \"Training with GLIE\" method, ensure you have completed the \"Training with a constant epsilon\" steps. Since the video save path is the same, the results will be overwritten.\n",
    "\n",
    "---\n",
    "\n",
    "**Please attach the following files to your submission:**\n",
    "\n",
    "- Training performance plots:\n",
    "  - `task1_e.png`: This file represents the episode versus the smoothed episodic reward for the constant exploration rate.\n",
    "  - `task1_glie.png`: This file represents the episode versus the smoothed episodic reward for GLIE.\n",
    "\n",
    "- Q-table files:\n",
    "  - `task1_q_table_e.pkl`: Q-table for the constant exploration rate.\n",
    "  - `task1_q_table_glie.pkl`: Q-table for GLIE.\n",
    "\n",
    "Ensure all files are correctly named and included.\n",
    "\n",
    "\n",
    "<figure style=\"text-align: center\">\n",
    "<img src=\"imgs/ep_reward.png\" width=\"600px\">\n",
    "<figcaption style=\"text-align: center\"> Figure 1: The training performance plot should look similar to the one presented here when using GLIE  </figcaption>\n",
    "</figure>\n",
    "\n",
    "### References\n",
    "[1]: http://incompleteideas.net/book/RLbook2018.pdf\n",
    "[Sutton and Barto, 2017]: Sutton, Richard S., and Andrew G. Barto. \"Reinforcement Learning: An Introduction (in progress).\" London, England (2017).\n",
    "    \n",
    "🔝\t<a href='#TOC'><b>Table of Contents</b></a>\n",
    "</div>\n",
    "\n"
   ]
  },
  {
   "cell_type": "code",
   "execution_count": 15,
   "id": "4375e55b",
   "metadata": {
    "tags": []
   },
   "outputs": [],
   "source": [
    "skip_training = True  # Set this flag to True before validation and submission"
   ]
  },
  {
   "cell_type": "code",
   "execution_count": null,
   "id": "db1eacb1",
   "metadata": {
    "deletable": false,
    "editable": false,
    "nbgrader": {
     "cell_type": "code",
     "checksum": "92d6d673e50350c2b0b437bc2a2803a9",
     "grade": true,
     "grade_id": "cell-6d789f0e8b41dcd4",
     "locked": true,
     "points": 0,
     "schema_version": 3,
     "solution": false,
     "task": false
    }
   },
   "outputs": [],
   "source": []
  },
  {
   "cell_type": "code",
   "execution_count": 5,
   "id": "47d6ce86",
   "metadata": {
    "tags": []
   },
   "outputs": [],
   "source": [
    "# --- Standard Libraries ---\n",
    "from pathlib import Path\n",
    "from collections import deque\n",
    "import warnings\n",
    "import os\n",
    "\n",
    "# --- Third-party Libraries ---\n",
    "import numpy as np  # Fundamental package for scientific computing\n",
    "from IPython.display import Video  # For displaying videos in the notebook\n",
    "import seaborn as sns\n",
    "import matplotlib.pyplot as plt\n",
    "import pandas as pd\n",
    "\n",
    "# --- Custom Modules ---\n",
    "from setup import setup  # Setup functions for training\n",
    "import utils as u  # Helper functions for the notebook\n",
    "\n",
    "# --- Configurations ---\n",
    "# Set working directory to 'results'\n",
    "work_dir = Path().cwd() / 'results'\n",
    "\n",
    "# Suppress DeprecationWarnings\n",
    "warnings.filterwarnings(\"ignore\", category=DeprecationWarning)"
   ]
  },
  {
   "cell_type": "code",
   "execution_count": 6,
   "id": "b91287ed",
   "metadata": {
    "tags": []
   },
   "outputs": [],
   "source": [
    "def init_q_table(observation_space, action_dim, discr, bool_position=None, init_q=0.):\n",
    "    \"\"\"\n",
    "    Initialize a Q-table for the given observation space and actions.\n",
    "    \n",
    "    Parameters:\n",
    "    - observation_space: The state space of the environment.\n",
    "    - action_dim: The number of possible actions.\n",
    "    - discr: The number of divisions for discretization.\n",
    "    - bool_position: Indexes where the observation space has boolean values.\n",
    "    - init_q: Initial value for the Q-table.\n",
    "    \n",
    "    Returns:\n",
    "    - axis: A list of numpy arrays representing the discrete states. \n",
    "            Each array's length corresponds to either 'discr' or 2 (for boolean values).\n",
    "    - q_table: The initialized Q-table. Its shape is determined by [*axis dimensions, action_dim].\n",
    "               For example, if the axis dimensions were [10, 10] and action_dim was 3, \n",
    "               the q_table shape would be [10, 10, 3].\n",
    "    \"\"\"\n",
    "    high_values = observation_space.high\n",
    "    low_values = observation_space.low\n",
    "    axis = []\n",
    "    for idx, (low_val, high_val) in enumerate(zip(low_values, high_values)):\n",
    "        # here to avoid inf boundary, we truncate the value to [-4, 4] \n",
    "        if low_val < -1e10: low_val = -4\n",
    "        if high_val > 1e10: high_val = 4\n",
    "        \n",
    "        if (bool_position is not None) and (idx in bool_position):\n",
    "            axis.append(np.linspace(low_val, high_val, 2, dtype=np.float32)) # for boolean, we only have two values: 1., 0.\n",
    "        else:\n",
    "            axis.append(np.linspace(low_val, high_val, discr, dtype=np.float32))\n",
    "    _shape = [ax.shape[0] for ax in axis] + [action_dim]\n",
    "    q_table = np.zeros(_shape) + init_q\n",
    "    return axis, q_table\n",
    "\n",
    "def get_table_idx(state, axis):\n",
    "    \"\"\"\n",
    "    Give a state, discretize it, and return the index in each dimension (axis). \n",
    "    With the returned index, you can access q(s,.) with q_table[idx].\n",
    "    \n",
    "    Parameters:\n",
    "    - state: The state to be discretized. \n",
    "    - axis: The discrete state space as a list of numpy arrays. \n",
    "    \n",
    "    Returns:\n",
    "    - idx: A tuple representing the index of the discretized state in the Q-table. \n",
    "           Its shape matches the dimensions of the provided 'axis'.\n",
    "    \"\"\"\n",
    "    def _get_ax_idx(ax, value):\n",
    "        return np.argmin(np.abs(ax - value))\n",
    "    return tuple([_get_ax_idx(ax, value) for ax, value in zip(axis, state)])"
   ]
  },
  {
   "cell_type": "code",
   "execution_count": 7,
   "id": "a6b139b4",
   "metadata": {
    "tags": []
   },
   "outputs": [],
   "source": [
    "def get_action(state, q_axis, q_table, epsilon=0.0):\n",
    "    \"\"\"\n",
    "    Determine the action to take based on epsilon-greedy strategy.\n",
    "    \n",
    "    Parameters:\n",
    "    - state: The current state of the agent.\n",
    "    - q_axis: The discrete state space as a list of numpy arrays.\n",
    "    - q_table: The Q-table with learned values.\n",
    "    - epsilon: The probability with which a random action is taken (exploration). \n",
    "               Default is 0 (purely greedy).\n",
    "    \n",
    "    Returns:\n",
    "    - action: The chosen action, either greedily or randomly based on epsilon.\n",
    "    \"\"\"\n",
    "    # if epsilon == 0.0, the policy will be greedy -- always choose the best action\n",
    "    '''\n",
    "    # TODO: Task 1, implement epsilon-greedy\n",
    "    # 1. Discretize the given state by using the get_table_idx(state, axis) function\n",
    "    # 2. Use the discretized state's index to access the Q-table\n",
    "    # 3. Generate a random number between 0 and 1.\n",
    "    # 4. Compare this number to `epsilon`\n",
    "    # 5. If the random number is less than `epsilon`, choose a random action.\n",
    "    # 6. Otherwise, choose the best action (greedy action)\n",
    "    '''\n",
    "    ########## Your code starts here ##########\n",
    "    \n",
    "    state_idx = get_table_idx(state, q_axis) # 1\n",
    "    \n",
    "    q_values = q_table[state_idx] # 2\n",
    "    \n",
    "    rand = np.random.rand() # 3\n",
    "    \n",
    "    if rand < epsilon:         # 4\n",
    "        action = np.random.choice(len(q_values)) # 5\n",
    "    else:\n",
    "        action = np.argmax(q_values) # 6\n",
    "    \n",
    "    ########## Your code ends here #########\n",
    "    return action\n",
    "\n",
    "\n",
    "def update_q_value(old_state, action, new_state, gamma, reward, done, alpha, q_axis, q_table):\n",
    "    \"\"\"\n",
    "    Update the Q-value for a state-action pair based on the Q-learning update rule.\n",
    "    \n",
    "    Parameters:\n",
    "    - old_state: The original state before taking the action.\n",
    "    - action: The action taken.\n",
    "    - new_state: The state after taking the action.\n",
    "    - gamma: Discount factor.\n",
    "    - reward: Immediate reward for taking the action.\n",
    "    - done: Boolean indicating if the episode is done.\n",
    "    - alpha: Learning rate.\n",
    "    - q_axis: The discrete state space as a list of numpy arrays.\n",
    "    - q_table: The Q-table with learned values.\n",
    "    \n",
    "    Returns:\n",
    "    - q_table: Updated Q-table.\n",
    "    \"\"\"\n",
    "\n",
    "    # q_table contains discretized state-action space (16, 16, 16, 16, 2) values\n",
    "    # Each observation is discritized 16 times and the last dimension are the two\n",
    "    # actions that can be taken. \n",
    "    '''\n",
    "    # TODO: Task 1, update q value\n",
    "    # 1. Retrieve Old Q-Value\n",
    "    # 2. Determine the Next Action\n",
    "    # 3. Retrieve New Q-Value\n",
    "    #     If the episode isn't done, get the Q-value for the new_state and next_action.\n",
    "    #     If the episode is done, set the new Q-value to zero.\n",
    "    # 4. Compute the Updated Q-Value\n",
    "    # 5. Update the Q-Table \n",
    "    # 6. Return the Updated Q-Table\n",
    "    '''\n",
    "    old_table_idx = get_table_idx(old_state, q_axis) # idx of q(s_old, *)\n",
    "    new_table_idx = get_table_idx(new_state, q_axis) # idx of q(s_new, *)  \n",
    "    ########## Your code starts here ########## \n",
    "     \n",
    "    old_q = q_table[old_table_idx][action] # 1\n",
    "    \n",
    "    next_action = np.argmax(q_table[new_table_idx]) # 2\n",
    "    \n",
    "    if done: # 3\n",
    "        new_q = 0\n",
    "    else:\n",
    "        new_q = q_table[new_table_idx][next_action]\n",
    "    \n",
    "    updated_q = old_q + alpha * (reward + gamma * new_q - old_q) # 4\n",
    "    \n",
    "    q_table[old_table_idx][action] = updated_q # 5\n",
    "    \n",
    "    ########### Your code ends here ########## \n",
    "    return q_table"
   ]
  },
  {
   "cell_type": "code",
   "execution_count": 8,
   "id": "7d0d958b",
   "metadata": {
    "deletable": false,
    "editable": false,
    "nbgrader": {
     "cell_type": "code",
     "checksum": "dc16991d5ec22369589192a57b098e56",
     "grade": true,
     "grade_id": "cell-b84fd8ddc27262ad",
     "locked": true,
     "points": 5,
     "schema_version": 3,
     "solution": false,
     "task": false
    },
    "tags": []
   },
   "outputs": [],
   "source": [
    "# test the get_action function \n",
    "\n",
    "def test_get_action():\n",
    "    test_state = [1,0]\n",
    "    test_qaxis = np.array([-4.,3.]), np.array([-4. ,-6. ])\n",
    "\n",
    "    test_qtable = np.array([[[0.49364422, 0.83209827],[0.987027,  0.48691833]],[[0.40560464, 0.26888288],[0.90825581, 0.88758134]]])\n",
    "    assert get_action(test_state, test_qaxis, test_qtable, epsilon=0) == 0\n",
    "    test_qtable = np.array([[[0.49364422, 0.83209827],[0.987027,  0.48691833]],[[-0.40560464, 0.26888288],[0.90825581, 0.88758134]]])\n",
    "    assert get_action(test_state, test_qaxis, test_qtable, epsilon=0) == 1\n",
    "\n",
    "\n",
    "# test update_q_value function\n",
    "def test_update_q_value():\n",
    "    test_state = [1,0]\n",
    "    test_qaxis = np.array([-4.,3.]), np.array([-4. ,-6. ])\n",
    "    test_qtable = np.array([[[0.49364422, 0.83209827],[0.987027,  0.48691833]],[[-0.40560464, 0.26888288],[0.90825581, 0.88758134]]])\n",
    "    new_test_state = [0,1]\n",
    "    reward = 1\n",
    "    gamma = 0.9\n",
    "    done = False\n",
    "    action = 0\n",
    "    alpha = 1\n",
    "    updated_q_value = update_q_value(test_state, action, new_test_state, gamma, reward, done, alpha, test_qaxis, test_qtable)\n",
    "    assert np.allclose(updated_q_value, np.array([[[0.49364422, 0.83209827],[0.987027  , 0.48691833]],[[1.24199459, 0.26888288],[0.90825581, 0.88758134]]]), 0.001)\n",
    "\n",
    "test_get_action()\n",
    "test_update_q_value()"
   ]
  },
  {
   "cell_type": "code",
   "execution_count": 9,
   "id": "62297b95-5f55-4dcc-827b-ff984ae99bd2",
   "metadata": {
    "tags": []
   },
   "outputs": [],
   "source": [
    "def plot_training_data(training_data, save_path):\n",
    "    df = pd.DataFrame(training_data)\n",
    "    plt.figure(figsize=(5, 3.5))\n",
    "    sns.lineplot(data=df, x='episode', y='ep_reward_avg')\n",
    "    plt.title('Training Performance')\n",
    "    plt.savefig(save_path)\n",
    "    plt.show()\n",
    "\n",
    "def train(cfg_path, cfg_args={}):\n",
    "    env, cfg = setup(cfg_path, cfg_args=cfg_args)\n",
    "    performance_data = []\n",
    "\n",
    "    # init q_table with zeros\n",
    "    q_axis, q_table = init_q_table(env.observation_space, \n",
    "        env.action_space.n, cfg.discr, bool_position=cfg.bool_position, init_q=cfg.initial_q)\n",
    "\n",
    "    # begin training and testing\n",
    "    ep_reward_deque = deque([], maxlen=500)  # used to calculate the smoothed (avg over recent 500 episodes) ep_reward\n",
    "    for ep in range(cfg.train_episodes + 1):\n",
    "        # set epsilon value\n",
    "        if cfg.epsilon == 'glie':\n",
    "            epsilon = cfg.glie_b / (cfg.glie_b + ep)  \n",
    "        elif isinstance(cfg.epsilon, (int, float)):\n",
    "            epsilon = cfg.epsilon\n",
    "        else: \n",
    "            raise ValueError\n",
    "        \n",
    "        (state, _), done, ep_reward, timesteps = env.reset(), False, 0, 0\n",
    "        while not done:\n",
    "            action = get_action(state, q_axis, q_table, epsilon=epsilon) \n",
    "            new_state, reward, done, _, _ = env.step(action)\n",
    "            q_table = update_q_value(state, action, new_state, cfg.gamma, reward, done, cfg.alpha,\n",
    "                                        q_axis, q_table)\n",
    "    \n",
    "            state = new_state\n",
    "            ep_reward += reward\n",
    "            timesteps += 1\n",
    "            if timesteps >= env.spec.max_episode_steps:\n",
    "                done = True\n",
    "                \n",
    "        ep_reward_deque.append(ep_reward)\n",
    "        info = {\n",
    "            'episode': ep,\n",
    "            'epsilon': epsilon,\n",
    "            'ep_reward': ep_reward,\n",
    "            'timesteps': timesteps,\n",
    "            'ep_reward_avg': np.mean(list(ep_reward_deque))\n",
    "        }\n",
    "\n",
    "        performance_data.append(info)\n",
    "        \n",
    "\n",
    "        if (not cfg.silent) and (ep % 500 == 0): print(info)\n",
    "    \n",
    "    work_dir = Path().cwd()/'results'/f'{cfg.env_name}'\n",
    "      \n",
    "    # save the q-value table and q_axis\n",
    "    file_pre = f\"{cfg.task_no}_\" if hasattr(cfg, 'task_no') else \"\"\n",
    "    file = file_pre + 'q_table_glie.pkl' if cfg.epsilon == 'glie' else file_pre + 'q_table_e.pkl'\n",
    "    u.save_object({'q_table': q_table, 'axis': q_axis},\n",
    "                        work_dir/file)\n",
    "    png_file = file_pre + '_glie.png' if cfg.epsilon == 'glie' else file_pre + '_e.png'\n",
    "    plot_training_data(performance_data, work_dir/png_file)\n",
    "    print('Training done!')\n",
    "\n",
    "    \n",
    "def test(cfg_path, cfg_args={'testing':True}):\n",
    "    \n",
    "    cfg_args.update({'testing':True})\n",
    "    env, cfg = setup(cfg_path, cfg_args=cfg_args)\n",
    "    \n",
    "    work_dir = Path().cwd()/'results'/f'{cfg.env_name}'\n",
    "    \n",
    "    # load q_table\n",
    "    file_pre = f\"{cfg.task_no}_\" if hasattr(cfg, 'task_no') else \"\"\n",
    "    file = file_pre + 'q_table_glie.pkl' if cfg.epsilon == 'glie' else file_pre + 'q_table_e.pkl'\n",
    "    data = u.load_object(work_dir/file)\n",
    "    q_axis, q_table = data['axis'], data['q_table']\n",
    "\n",
    "    # begin testing\n",
    "    for ep in range(cfg.test_episodes):\n",
    "        (state, _), done, ep_reward, timesteps = env.reset(), False, 0, 0\n",
    "        while not done:\n",
    "            action = get_action(state, q_axis, q_table, epsilon=0.0) # be greedy during testing\n",
    "            new_state, reward, done, _, _ = env.step(action)\n",
    "\n",
    "            state = new_state\n",
    "            ep_reward += reward\n",
    "            timesteps += 1\n",
    "        \n",
    "        info = {\n",
    "            'test_episode': ep,\n",
    "            'test_ep_reward': ep_reward,\n",
    "            'timesteps': timesteps,\n",
    "        }\n",
    "\n",
    "        if not cfg.silent: print(info)\n",
    "    \n",
    "    print('Testing done!')\n",
    "\n"
   ]
  },
  {
   "cell_type": "code",
   "execution_count": 42,
   "id": "dace84a6-031e-4b0d-9d99-511af93202eb",
   "metadata": {
    "tags": []
   },
   "outputs": [
    {
     "name": "stdout",
     "output_type": "stream",
     "text": [
      "Numpy/Torch/Random Seed:  408\n",
      "{'episode': 0, 'epsilon': 0.1, 'ep_reward': 9.0, 'timesteps': 9, 'ep_reward_avg': 9.0}\n",
      "{'episode': 500, 'epsilon': 0.1, 'ep_reward': 10.0, 'timesteps': 10, 'ep_reward_avg': 10.058}\n",
      "{'episode': 1000, 'epsilon': 0.1, 'ep_reward': 14.0, 'timesteps': 14, 'ep_reward_avg': 11.53}\n",
      "{'episode': 1500, 'epsilon': 0.1, 'ep_reward': 48.0, 'timesteps': 48, 'ep_reward_avg': 15.046}\n",
      "{'episode': 2000, 'epsilon': 0.1, 'ep_reward': 41.0, 'timesteps': 41, 'ep_reward_avg': 48.77}\n",
      "{'episode': 2500, 'epsilon': 0.1, 'ep_reward': 113.0, 'timesteps': 113, 'ep_reward_avg': 85.024}\n",
      "{'episode': 3000, 'epsilon': 0.1, 'ep_reward': 74.0, 'timesteps': 74, 'ep_reward_avg': 120.104}\n",
      "{'episode': 3500, 'epsilon': 0.1, 'ep_reward': 81.0, 'timesteps': 81, 'ep_reward_avg': 134.522}\n",
      "{'episode': 4000, 'epsilon': 0.1, 'ep_reward': 203.0, 'timesteps': 203, 'ep_reward_avg': 137.808}\n",
      "{'episode': 4500, 'epsilon': 0.1, 'ep_reward': 123.0, 'timesteps': 123, 'ep_reward_avg': 147.29}\n",
      "{'episode': 5000, 'epsilon': 0.1, 'ep_reward': 47.0, 'timesteps': 47, 'ep_reward_avg': 136.422}\n",
      "{'episode': 5500, 'epsilon': 0.1, 'ep_reward': 196.0, 'timesteps': 196, 'ep_reward_avg': 147.416}\n",
      "{'episode': 6000, 'epsilon': 0.1, 'ep_reward': 132.0, 'timesteps': 132, 'ep_reward_avg': 147.262}\n",
      "{'episode': 6500, 'epsilon': 0.1, 'ep_reward': 226.0, 'timesteps': 226, 'ep_reward_avg': 148.234}\n",
      "{'episode': 7000, 'epsilon': 0.1, 'ep_reward': 158.0, 'timesteps': 158, 'ep_reward_avg': 148.84}\n",
      "{'episode': 7500, 'epsilon': 0.1, 'ep_reward': 154.0, 'timesteps': 154, 'ep_reward_avg': 165.706}\n",
      "{'episode': 8000, 'epsilon': 0.1, 'ep_reward': 231.0, 'timesteps': 231, 'ep_reward_avg': 167.518}\n",
      "{'episode': 8500, 'epsilon': 0.1, 'ep_reward': 189.0, 'timesteps': 189, 'ep_reward_avg': 179.852}\n",
      "{'episode': 9000, 'epsilon': 0.1, 'ep_reward': 74.0, 'timesteps': 74, 'ep_reward_avg': 168.064}\n",
      "{'episode': 9500, 'epsilon': 0.1, 'ep_reward': 143.0, 'timesteps': 143, 'ep_reward_avg': 175.932}\n",
      "{'episode': 10000, 'epsilon': 0.1, 'ep_reward': 206.0, 'timesteps': 206, 'ep_reward_avg': 192.672}\n",
      "{'episode': 10500, 'epsilon': 0.1, 'ep_reward': 175.0, 'timesteps': 175, 'ep_reward_avg': 194.086}\n",
      "{'episode': 11000, 'epsilon': 0.1, 'ep_reward': 150.0, 'timesteps': 150, 'ep_reward_avg': 193.104}\n",
      "{'episode': 11500, 'epsilon': 0.1, 'ep_reward': 131.0, 'timesteps': 131, 'ep_reward_avg': 249.158}\n",
      "{'episode': 12000, 'epsilon': 0.1, 'ep_reward': 186.0, 'timesteps': 186, 'ep_reward_avg': 234.496}\n",
      "{'episode': 12500, 'epsilon': 0.1, 'ep_reward': 450.0, 'timesteps': 450, 'ep_reward_avg': 221.306}\n",
      "{'episode': 13000, 'epsilon': 0.1, 'ep_reward': 383.0, 'timesteps': 383, 'ep_reward_avg': 207.428}\n",
      "{'episode': 13500, 'epsilon': 0.1, 'ep_reward': 123.0, 'timesteps': 123, 'ep_reward_avg': 227.774}\n",
      "{'episode': 14000, 'epsilon': 0.1, 'ep_reward': 123.0, 'timesteps': 123, 'ep_reward_avg': 231.902}\n",
      "{'episode': 14500, 'epsilon': 0.1, 'ep_reward': 145.0, 'timesteps': 145, 'ep_reward_avg': 224.832}\n",
      "{'episode': 15000, 'epsilon': 0.1, 'ep_reward': 131.0, 'timesteps': 131, 'ep_reward_avg': 239.284}\n",
      "{'episode': 15500, 'epsilon': 0.1, 'ep_reward': 500.0, 'timesteps': 500, 'ep_reward_avg': 234.652}\n",
      "{'episode': 16000, 'epsilon': 0.1, 'ep_reward': 228.0, 'timesteps': 228, 'ep_reward_avg': 194.606}\n",
      "{'episode': 16500, 'epsilon': 0.1, 'ep_reward': 191.0, 'timesteps': 191, 'ep_reward_avg': 245.496}\n",
      "{'episode': 17000, 'epsilon': 0.1, 'ep_reward': 128.0, 'timesteps': 128, 'ep_reward_avg': 204.134}\n",
      "{'episode': 17500, 'epsilon': 0.1, 'ep_reward': 157.0, 'timesteps': 157, 'ep_reward_avg': 199.066}\n",
      "{'episode': 18000, 'epsilon': 0.1, 'ep_reward': 134.0, 'timesteps': 134, 'ep_reward_avg': 228.358}\n",
      "{'episode': 18500, 'epsilon': 0.1, 'ep_reward': 76.0, 'timesteps': 76, 'ep_reward_avg': 182.6}\n",
      "{'episode': 19000, 'epsilon': 0.1, 'ep_reward': 130.0, 'timesteps': 130, 'ep_reward_avg': 192.844}\n",
      "{'episode': 19500, 'epsilon': 0.1, 'ep_reward': 309.0, 'timesteps': 309, 'ep_reward_avg': 232.084}\n",
      "{'episode': 20000, 'epsilon': 0.1, 'ep_reward': 121.0, 'timesteps': 121, 'ep_reward_avg': 246.546}\n"
     ]
    },
    {
     "data": {
      "image/png": "[encoded data removed]",
      "text/plain": [
       "<Figure size 500x350 with 1 Axes>"
      ]
     },
     "metadata": {},
     "output_type": "display_data"
    },
    {
     "name": "stdout",
     "output_type": "stream",
     "text": [
      "Training done!\n"
     ]
    }
   ],
   "source": [
    "# Training with constant epsilon 0.1\n",
    "if not skip_training:\n",
    "    cfg_args=dict(epsilon=0.1, save_video=False)\n",
    "    train(cfg_path=Path().cwd()/'cfg'/'cartpole_v1.yaml', cfg_args=cfg_args) # < 30 mins"
   ]
  },
  {
   "cell_type": "code",
   "execution_count": 43,
   "id": "8d603c2a-5582-4a7b-a04b-7b6ba03fc89d",
   "metadata": {
    "tags": []
   },
   "outputs": [
    {
     "name": "stdout",
     "output_type": "stream",
     "text": [
      "Numpy/Torch/Random Seed:  408\n"
     ]
    },
    {
     "name": "stderr",
     "output_type": "stream",
     "text": [
      "/opt/software/lib/python3.10/site-packages/gymnasium/wrappers/record_video.py:87: UserWarning: \u001b[33mWARN: Overwriting existing videos at /notebooks/rl2025/ex3/results/CartPole-v1/video/test folder (try specifying a different `video_folder` for the `RecordVideo` wrapper if this is not desired)\u001b[0m\n",
      "  logger.warn(\n"
     ]
    },
    {
     "name": "stdout",
     "output_type": "stream",
     "text": [
      "{'test_episode': 0, 'test_ep_reward': 154.0, 'timesteps': 154}\n",
      "{'test_episode': 1, 'test_ep_reward': 156.0, 'timesteps': 156}\n",
      "{'test_episode': 2, 'test_ep_reward': 110.0, 'timesteps': 110}\n",
      "{'test_episode': 3, 'test_ep_reward': 241.0, 'timesteps': 241}\n",
      "{'test_episode': 4, 'test_ep_reward': 121.0, 'timesteps': 121}\n",
      "{'test_episode': 5, 'test_ep_reward': 112.0, 'timesteps': 112}\n",
      "{'test_episode': 6, 'test_ep_reward': 120.0, 'timesteps': 120}\n",
      "{'test_episode': 7, 'test_ep_reward': 141.0, 'timesteps': 141}\n",
      "{'test_episode': 8, 'test_ep_reward': 243.0, 'timesteps': 243}\n",
      "{'test_episode': 9, 'test_ep_reward': 117.0, 'timesteps': 117}\n",
      "Testing done!\n"
     ]
    }
   ],
   "source": [
    "# Testing with constant epsilon 0.1\n",
    "if not skip_training:\n",
    "    cfg_args=dict(epsilon=0.1, save_video=True)\n",
    "    test(cfg_path=Path().cwd()/'cfg'/'cartpole_v1.yaml', cfg_args=cfg_args)"
   ]
  },
  {
   "cell_type": "code",
   "execution_count": null,
   "id": "0c840efe",
   "metadata": {
    "deletable": false,
    "editable": false,
    "nbgrader": {
     "cell_type": "code",
     "checksum": "ad7d05103e53861c49975c1d2361488a",
     "grade": true,
     "grade_id": "cell-847ab0bf4eb63619",
     "locked": true,
     "points": 0,
     "schema_version": 3,
     "solution": false,
     "task": false
    }
   },
   "outputs": [],
   "source": []
  },
  {
   "cell_type": "code",
   "execution_count": null,
   "id": "c3ea5fd1",
   "metadata": {
    "deletable": false,
    "editable": false,
    "nbgrader": {
     "cell_type": "code",
     "checksum": "d0564f2e3a7abff5b2e4abdb8d16932e",
     "grade": true,
     "grade_id": "cell-dd274e845abca949",
     "locked": true,
     "points": 20,
     "schema_version": 3,
     "solution": false,
     "task": false
    }
   },
   "outputs": [],
   "source": []
  },
  {
   "cell_type": "markdown",
   "id": "2f6dd079-2502-4c2c-bd8e-0ac321b5826d",
   "metadata": {
    "deletable": false,
    "editable": false,
    "nbgrader": {
     "cell_type": "markdown",
     "checksum": "a6efc673501c2327e961e6c37013f0ff",
     "grade": false,
     "grade_id": "cell-fbe6a290babdf212",
     "locked": true,
     "schema_version": 3,
     "solution": false,
     "task": false
    },
    "tags": []
   },
   "source": [
    "To visualize how the agent acts within the environment, execute the cell below. **Modify the path** to select the episode you'd like to observe. Remember, by default, videos are saved every 500 episodes during training."
   ]
  },
  {
   "cell_type": "code",
   "execution_count": 45,
   "id": "356b9226-601e-4ba3-ae3b-05f5ea36d3ca",
   "metadata": {
    "tags": []
   },
   "outputs": [
    {
     "data": {
      "text/html": [
       "<video loop autoplay  >\n",
       " <source src=\"data:video/mp4;base64,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\" type=\"video/mp4\">\n",
       " Your browser does not support the video tag.\n",
       " </video>"
      ],
      "text/plain": [
       "<IPython.core.display.Video object>"
      ]
     },
     "metadata": {},
     "output_type": "display_data"
    }
   ],
   "source": [
    "# Visualizing the results with constant epsilon 0.1\n",
    "if not skip_training:\n",
    "      video = Video(Path().cwd()/'results'/'CartPole-v1'/'video'/'test'/'ex3-episode-9.mp4',\n",
    "      embed=True, html_attributes=\"loop autoplay\") # Set html_attributes=\"controls\" for video control\n",
    "      display(video)"
   ]
  },
  {
   "cell_type": "markdown",
   "id": "9f187979-feb2-4833-a11a-68cfacc62080",
   "metadata": {
    "deletable": false,
    "editable": false,
    "nbgrader": {
     "cell_type": "markdown",
     "checksum": "b906207556426401a8d6dbd61f4e4f7e",
     "grade": false,
     "grade_id": "cell-9f2ba95983a3b730",
     "locked": true,
     "schema_version": 3,
     "solution": false,
     "task": false
    },
    "tags": []
   },
   "source": [
    "\n",
    "**Important Reminder:** Before initiating the \"Training with GLIE\" process, make sure you've fully executed the steps under \"Training with a constant epsilon\". Be cautious, as the video save path remains identical; thus, any previous results will be overwritten.\n"
   ]
  },
  {
   "cell_type": "code",
   "execution_count": 46,
   "id": "4f5da29e-f3f3-4b23-b879-a7786eb25c94",
   "metadata": {
    "tags": []
   },
   "outputs": [
    {
     "name": "stdout",
     "output_type": "stream",
     "text": [
      "Numpy/Torch/Random Seed:  408\n",
      "{'episode': 0, 'epsilon': 1.0, 'ep_reward': 18.0, 'timesteps': 18, 'ep_reward_avg': 18.0}\n",
      "{'episode': 500, 'epsilon': 0.8163115356355621, 'ep_reward': 16.0, 'timesteps': 16, 'ep_reward_avg': 24.67}\n",
      "{'episode': 1000, 'epsilon': 0.6896337678460583, 'ep_reward': 116.0, 'timesteps': 116, 'ep_reward_avg': 33.16}\n",
      "{'episode': 1500, 'epsilon': 0.5969908651262762, 'ep_reward': 78.0, 'timesteps': 78, 'ep_reward_avg': 46.72}\n",
      "{'episode': 2000, 'epsilon': 0.5262908574135481, 'ep_reward': 73.0, 'timesteps': 73, 'ep_reward_avg': 64.584}\n",
      "{'episode': 2500, 'epsilon': 0.470563320626853, 'ep_reward': 105.0, 'timesteps': 105, 'ep_reward_avg': 86.682}\n",
      "{'episode': 3000, 'epsilon': 0.42550746840291076, 'ep_reward': 207.0, 'timesteps': 207, 'ep_reward_avg': 113.456}\n",
      "{'episode': 3500, 'epsilon': 0.388325760223698, 'ep_reward': 199.0, 'timesteps': 199, 'ep_reward_avg': 133.452}\n",
      "{'episode': 4000, 'epsilon': 0.3571198971391835, 'ep_reward': 252.0, 'timesteps': 252, 'ep_reward_avg': 149.306}\n",
      "{'episode': 4500, 'epsilon': 0.330556382029158, 'ep_reward': 357.0, 'timesteps': 357, 'ep_reward_avg': 157.108}\n",
      "{'episode': 5000, 'epsilon': 0.3076710052617004, 'ep_reward': 177.0, 'timesteps': 177, 'ep_reward_avg': 176.696}\n",
      "{'episode': 5500, 'epsilon': 0.28774928774928776, 'ep_reward': 194.0, 'timesteps': 194, 'ep_reward_avg': 180.86}\n",
      "{'episode': 6000, 'epsilon': 0.27025054731208953, 'ep_reward': 189.0, 'timesteps': 189, 'ep_reward_avg': 190.55}\n",
      "{'episode': 6500, 'epsilon': 0.2547580830084843, 'ep_reward': 321.0, 'timesteps': 321, 'ep_reward_avg': 203.968}\n",
      "{'episode': 7000, 'epsilon': 0.24094556495337238, 'ep_reward': 223.0, 'timesteps': 223, 'ep_reward_avg': 202.604}\n",
      "{'episode': 7500, 'epsilon': 0.22855379551532606, 'ep_reward': 183.0, 'timesteps': 183, 'ep_reward_avg': 223.628}\n",
      "{'episode': 8000, 'epsilon': 0.21737429074545098, 'ep_reward': 133.0, 'timesteps': 133, 'ep_reward_avg': 261.052}\n",
      "{'episode': 8500, 'epsilon': 0.2072374556985637, 'ep_reward': 280.0, 'timesteps': 280, 'ep_reward_avg': 258.122}\n",
      "{'episode': 9000, 'epsilon': 0.19800392086972018, 'ep_reward': 211.0, 'timesteps': 211, 'ep_reward_avg': 272.0}\n",
      "{'episode': 9500, 'epsilon': 0.1895580958880737, 'ep_reward': 270.0, 'timesteps': 270, 'ep_reward_avg': 250.366}\n",
      "{'episode': 10000, 'epsilon': 0.1818033055146457, 'ep_reward': 203.0, 'timesteps': 203, 'ep_reward_avg': 298.386}\n",
      "{'episode': 10500, 'epsilon': 0.17465807263008962, 'ep_reward': 179.0, 'timesteps': 179, 'ep_reward_avg': 280.108}\n",
      "{'episode': 11000, 'epsilon': 0.16805324459234608, 'ep_reward': 167.0, 'timesteps': 167, 'ep_reward_avg': 272.432}\n",
      "{'episode': 11500, 'epsilon': 0.16192974785016762, 'ep_reward': 332.0, 'timesteps': 332, 'ep_reward_avg': 278.896}\n",
      "{'episode': 12000, 'epsilon': 0.15623681620025312, 'ep_reward': 229.0, 'timesteps': 229, 'ep_reward_avg': 270.094}\n",
      "{'episode': 12500, 'epsilon': 0.1509305800842277, 'ep_reward': 350.0, 'timesteps': 350, 'ep_reward_avg': 280.158}\n",
      "{'episode': 13000, 'epsilon': 0.14597293391144398, 'ep_reward': 500.0, 'timesteps': 500, 'ep_reward_avg': 336.556}\n",
      "{'episode': 13500, 'epsilon': 0.14133061951405673, 'ep_reward': 45.0, 'timesteps': 45, 'ep_reward_avg': 292.574}\n",
      "{'episode': 14000, 'epsilon': 0.13697447910245344, 'ep_reward': 250.0, 'timesteps': 250, 'ep_reward_avg': 380.538}\n",
      "{'episode': 14500, 'epsilon': 0.13287884224375074, 'ep_reward': 279.0, 'timesteps': 279, 'ep_reward_avg': 363.63}\n",
      "{'episode': 15000, 'epsilon': 0.1290210196260597, 'ep_reward': 358.0, 'timesteps': 358, 'ep_reward_avg': 272.096}\n",
      "{'episode': 15500, 'epsilon': 0.12538088251890306, 'ep_reward': 336.0, 'timesteps': 336, 'ep_reward_avg': 347.806}\n",
      "{'episode': 16000, 'epsilon': 0.12194051146965207, 'ep_reward': 232.0, 'timesteps': 232, 'ep_reward_avg': 352.842}\n",
      "{'episode': 16500, 'epsilon': 0.11868390129259694, 'ep_reward': 494.0, 'timesteps': 494, 'ep_reward_avg': 292.27}\n",
      "{'episode': 17000, 'epsilon': 0.11559671210071792, 'ep_reward': 186.0, 'timesteps': 186, 'ep_reward_avg': 270.608}\n",
      "{'episode': 17500, 'epsilon': 0.11266605820910658, 'ep_reward': 212.0, 'timesteps': 212, 'ep_reward_avg': 377.842}\n",
      "{'episode': 18000, 'epsilon': 0.10988032835525666, 'ep_reward': 263.0, 'timesteps': 263, 'ep_reward_avg': 295.578}\n",
      "{'episode': 18500, 'epsilon': 0.10722903194672329, 'ep_reward': 174.0, 'timesteps': 174, 'ep_reward_avg': 282.688}\n",
      "{'episode': 19000, 'epsilon': 0.10470266704363397, 'ep_reward': 245.0, 'timesteps': 245, 'ep_reward_avg': 290.476}\n",
      "{'episode': 19500, 'epsilon': 0.1022926065739803, 'ep_reward': 238.0, 'timesteps': 238, 'ep_reward_avg': 263.766}\n",
      "{'episode': 20000, 'epsilon': 0.0999909999099991, 'ep_reward': 330.0, 'timesteps': 330, 'ep_reward_avg': 251.434}\n"
     ]
    },
    {
     "data": {
      "image/png": "[encoded data removed]",
      "text/plain": [
       "<Figure size 500x350 with 1 Axes>"
      ]
     },
     "metadata": {},
     "output_type": "display_data"
    },
    {
     "name": "stdout",
     "output_type": "stream",
     "text": [
      "Training done!\n"
     ]
    }
   ],
   "source": [
    "# Training with GLIE\n",
    "if not skip_training:\n",
    "    cfg_args=dict(epsilon='glie', glie_b=2222, save_video=False) # insert correct value for glie_b \n",
    "                                                            # it's given by (0,1*20000)/(0,1-1)\n",
    "    train(cfg_path=Path().cwd()/'cfg'/'cartpole_v1.yaml', cfg_args=cfg_args) # < 30 mins"
   ]
  },
  {
   "cell_type": "code",
   "execution_count": 47,
   "id": "a77aea8d-2c8c-4e8f-baec-a3fd68fead5b",
   "metadata": {
    "tags": []
   },
   "outputs": [
    {
     "name": "stdout",
     "output_type": "stream",
     "text": [
      "Numpy/Torch/Random Seed:  408\n"
     ]
    },
    {
     "name": "stderr",
     "output_type": "stream",
     "text": [
      "/opt/software/lib/python3.10/site-packages/gymnasium/wrappers/record_video.py:87: UserWarning: \u001b[33mWARN: Overwriting existing videos at /notebooks/rl2025/ex3/results/CartPole-v1/video/test folder (try specifying a different `video_folder` for the `RecordVideo` wrapper if this is not desired)\u001b[0m\n",
      "  logger.warn(\n"
     ]
    },
    {
     "name": "stdout",
     "output_type": "stream",
     "text": [
      "{'test_episode': 0, 'test_ep_reward': 328.0, 'timesteps': 328}\n",
      "{'test_episode': 1, 'test_ep_reward': 270.0, 'timesteps': 270}\n",
      "{'test_episode': 2, 'test_ep_reward': 345.0, 'timesteps': 345}\n",
      "{'test_episode': 3, 'test_ep_reward': 298.0, 'timesteps': 298}\n",
      "{'test_episode': 4, 'test_ep_reward': 315.0, 'timesteps': 315}\n",
      "{'test_episode': 5, 'test_ep_reward': 294.0, 'timesteps': 294}\n",
      "{'test_episode': 6, 'test_ep_reward': 306.0, 'timesteps': 306}\n",
      "{'test_episode': 7, 'test_ep_reward': 283.0, 'timesteps': 283}\n",
      "{'test_episode': 8, 'test_ep_reward': 333.0, 'timesteps': 333}\n",
      "{'test_episode': 9, 'test_ep_reward': 342.0, 'timesteps': 342}\n",
      "Testing done!\n"
     ]
    }
   ],
   "source": [
    "# Testing with GLIE\n",
    "if not skip_training:\n",
    "    cfg_args=dict(epsilon='glie', save_video=True)\n",
    "    test(cfg_path=Path().cwd()/'cfg'/'cartpole_v1.yaml', cfg_args=cfg_args)"
   ]
  },
  {
   "cell_type": "markdown",
   "id": "bdec32a0-acec-46fb-80cb-72bf8b6c5843",
   "metadata": {
    "deletable": false,
    "editable": false,
    "nbgrader": {
     "cell_type": "markdown",
     "checksum": "3032b3f39bfb870739c884f17717b974",
     "grade": false,
     "grade_id": "cell-8d0186add26c2a97",
     "locked": true,
     "schema_version": 3,
     "solution": false,
     "task": false
    },
    "tags": []
   },
   "source": [
    "Just as in the \"visualize the results with constant epsilon 0.1\" section, **modify the path** to select the episode you'd like to observe. Remember, videos are saved every 500 episodes during training."
   ]
  },
  {
   "cell_type": "code",
   "execution_count": 48,
   "id": "c6204544",
   "metadata": {
    "tags": []
   },
   "outputs": [
    {
     "data": {
      "text/html": [
       "<video loop autoplay  >\n",
       " <source src=\"data:video/mp4;base64,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\" type=\"video/mp4\">\n",
       " Your browser does not support the video tag.\n",
       " </video>"
      ],
      "text/plain": [
       "<IPython.core.display.Video object>"
      ]
     },
     "metadata": {},
     "output_type": "display_data"
    }
   ],
   "source": [
    "# Visualizing the results with GLIE\n",
    "if not skip_training:\n",
    "      video = Video(Path().cwd()/'results'/'CartPole-v1'/'video'/'test'/'ex3-episode-9.mp4',\n",
    "      embed=True, html_attributes=\"loop autoplay\") # Set html_attributes=\"controls\" for video control\n",
    "      display(video)"
   ]
  },
  {
   "cell_type": "code",
   "execution_count": null,
   "id": "13721787",
   "metadata": {
    "deletable": false,
    "editable": false,
    "nbgrader": {
     "cell_type": "code",
     "checksum": "4729db952ef44314e885465232bd3c7b",
     "grade": true,
     "grade_id": "cell-a49c5defa1c9854f",
     "locked": true,
     "points": 0,
     "schema_version": 3,
     "solution": false,
     "task": false
    }
   },
   "outputs": [],
   "source": []
  },
  {
   "cell_type": "markdown",
   "id": "c86e2e61",
   "metadata": {
    "deletable": false,
    "editable": false,
    "nbgrader": {
     "cell_type": "markdown",
     "checksum": "cb028b05a48b40ee3ffbab9745bfc939",
     "grade": false,
     "grade_id": "cell-61fe5d3f07b35b4b",
     "locked": true,
     "schema_version": 3,
     "solution": false,
     "task": false
    },
    "tags": []
   },
   "source": [
    "<a id='T2'></a>\n",
    "<div class=\" alert alert-warning\">\n",
    "    <h3><b>Student Task 2.</b> Visualizing the Value Function (10 points) </h3> \n",
    "\n",
    "Use your Q-function values estimated with GLIE to calculate the optimal value function of each state. Complete the ```display_heatmap_vf()``` function below to plot the heatmap of the value function in terms of $x$ and $\\theta$, such that $\\theta$ is on horizontal and $x$ is on vertical axis. For plotting, average the values over $\\dot{x}$ and $\\dot{\\theta}$. Attach the heatmap in your report.\n",
    "\n",
    "**Hint:** For plotting the heatmap you can use Matplotlib-pyplot: ```pyplot.imshow(values_array)``` or Seaborn: ```seaborn.heatmap(values_array)```\n",
    "    \n",
    "🔝\t<a href='#TOC'><b>Table of Contents</b></a>\n",
    "</div>\n"
   ]
  },
  {
   "cell_type": "code",
   "execution_count": 49,
   "id": "a4e7567c",
   "metadata": {
    "tags": []
   },
   "outputs": [],
   "source": [
    "# --- Standard Libraries ---\n",
    "from pathlib import Path    # For handling filesystem paths in a more intuitive way\n",
    "\n",
    "# --- Third-party Libraries ---\n",
    "import matplotlib.pyplot as plt  # For creating static, interactive, and animated visualizations\n",
    "import seaborn as sns            # A data visualization library based on matplotlib"
   ]
  },
  {
   "cell_type": "code",
   "execution_count": 50,
   "id": "d18d44fc",
   "metadata": {
    "tags": []
   },
   "outputs": [],
   "source": [
    "def display_heatmap_vf(env_name=\"CartPole-v1\", q_table_name='task1_q_table_glie.pkl'):\n",
    "    \"\"\"\n",
    "    Displays a heatmap of the value function for a given environment and Q-table.\n",
    "\n",
    "    Input:\n",
    "    - env_name (str): Name of the environment, default is \"CartPole-v1\".\n",
    "    - q_table_name (str): Name of the saved Q-table file, default is 'q_table_glie.pkl'.\n",
    "\n",
    "    Output:\n",
    "    - Visual display of the heatmap.\n",
    "\n",
    "    \"\"\"\n",
    "    \n",
    "    # load the Q-value array\n",
    "    work_dir = Path().cwd()/'results'/f'{env_name}'\n",
    "    \n",
    "    data = u.load_object(work_dir/q_table_name) # load q_table \n",
    "    q_axis, q_table = data['axis'], data['q_table'] \n",
    "    x_axis, th_axis = q_axis[0], q_axis[2]  # get the axis for x and \\theta\n",
    "\n",
    "    discr = q_table.shape[0] # get the number of discretized bins for a state variable in the Q-table\n",
    "    '''\n",
    "    # TODO: Task 2 Plot the heatmap of the value function\n",
    "    # 1. Compute the maximum Q-value for each state, which gives the value function of that state\n",
    "    # 2. Uses Seaborn and Matplotlib to display the heatmap.  \n",
    "    '''\n",
    "    \n",
    "    ########## Your code begins here. ##########\n",
    "    \n",
    "    V = np.max(q_table, axis=-1) # axis -1 is the action dimension\n",
    "    \n",
    "    V_mean = np.mean(V, axis=(1, 3))  # average over unwanted dimensions\n",
    "    plt.figure(figsize=(10, 6))\n",
    "    sns.heatmap(\n",
    "        V_mean.T,  # transpose so x-axis is position, y-axis is angle\n",
    "        xticklabels=np.round(x_axis, 2),\n",
    "        yticklabels=np.round(th_axis, 2),\n",
    "        cmap=\"viridis\"\n",
    "    )\n",
    "    plt.xlabel(\"Cart Position (x)\")\n",
    "    plt.ylabel(\"Pole Angle (θ)\")\n",
    "    plt.title(f\"Value Function Heatmap for {env_name}\")\n",
    "    plt.tight_layout()\n",
    "    plt.show()\n",
    "\n",
    "    ########## Your code ends here. ##########\n",
    "\n",
    "        \n",
    "    "
   ]
  },
  {
   "cell_type": "code",
   "execution_count": 51,
   "id": "eab4bd9c",
   "metadata": {
    "tags": []
   },
   "outputs": [
    {
     "data": {
      "image/png": "[encoded data removed]",
      "text/plain": [
       "<Figure size 1000x600 with 2 Axes>"
      ]
     },
     "metadata": {},
     "output_type": "display_data"
    }
   ],
   "source": [
    "# Visual display of the heatmap of the value function\n",
    "if not skip_training:\n",
    "    display_heatmap_vf()"
   ]
  },
  {
   "cell_type": "markdown",
   "id": "6752c4c4-f909-41e0-8eae-10f80055dbc3",
   "metadata": {
    "deletable": false,
    "editable": false,
    "nbgrader": {
     "cell_type": "markdown",
     "checksum": "f367a81d85146d63beb807550992c62b",
     "grade": false,
     "grade_id": "cell-88d5a81a7f1ca9f1",
     "locked": true,
     "points": 10,
     "schema_version": 3,
     "solution": false,
     "task": true
    },
    "tags": []
   },
   "source": [
    "Do not remove this cell as it is used for grading"
   ]
  },
  {
   "cell_type": "markdown",
   "id": "bbba1c47",
   "metadata": {
    "deletable": false,
    "editable": false,
    "nbgrader": {
     "cell_type": "markdown",
     "checksum": "41b202e122633a59ef0b2f03f5647b95",
     "grade": false,
     "grade_id": "cell-3cc55d2e2a030ea1",
     "locked": true,
     "schema_version": 3,
     "solution": false,
     "task": false
    },
    "tags": []
   },
   "source": [
    "<a id='Q1'></a>\n",
    "<div class=\" alert alert-warning\">\n",
    "    <h3><b>Student Question 2.1</b> Analyzing the Value Function Heatmap (15 points) </h3> \n",
    "\n",
    "What do you think the heatmap of the Q-values would have looked like at different stages of training? Select all accurate description for each stage.\n",
    "\n",
    "***Attaching the plots is not required.*** \n",
    "    \n",
    "🔝\t<a href='#TOC'><b>Table of Contents</b></a>\n",
    "</div>\n"
   ]
  },
  {
   "cell_type": "markdown",
   "id": "a99b696c-1c31-42a3-b783-9efd7212b516",
   "metadata": {
    "deletable": false,
    "editable": false,
    "nbgrader": {
     "cell_type": "markdown",
     "checksum": "a86e8a6f0c2eae37637dbebbc699d0c7",
     "grade": false,
     "grade_id": "cell-ffe562275575fe2a",
     "locked": true,
     "schema_version": 3,
     "solution": false,
     "task": false
    },
    "tags": []
   },
   "source": [
    "Select *all* correct options. You will get 3 points for each correct answer. Select **at most** 6 answers or you will lose **all points**\n",
    "\n",
    "Options\n",
    "\n",
    "1. Before training, the heatmap is all zeros (assuming Q-values are initialized as zeros)\n",
    "2. Before training, the heatmap has random values between -1 and 1\n",
    "3. After a single episode, the Q-values of visited states are updated with non-zero values\n",
    "4. After a single episode, there is a horizontal line in the middle of the heatmap\n",
    "5. After a single episode, the heatmap shows a vertical line in the middle of the heatmap\n",
    "6. Halfway through training, the heatmap already looks quite similar to the final optimal heatmap\n",
    "7. Halfway through training, the heatmap looks quite similar to the heatmap of after a single episode\n",
    "8. The cart's limited movement in the x direction and the pole's fall create a distinct pattern after one episode\n",
    "9. Random exploration in the first episode leads to scattered non-zero values throughout the heatmap"
   ]
  },
  {
   "cell_type": "code",
   "execution_count": 33,
   "id": "b4a6d4dd-3f07-4e69-aa6d-414b2eb02c8d",
   "metadata": {
    "tags": []
   },
   "outputs": [],
   "source": [
    "# Answer question 2.1 with appropriate option numbers\n",
    "sq2_1 = [1,3,4,6,8] "
   ]
  },
  {
   "cell_type": "code",
   "execution_count": 34,
   "id": "5dbd9c27-ff3a-4c0b-8343-40a161b90386",
   "metadata": {
    "deletable": false,
    "editable": false,
    "nbgrader": {
     "cell_type": "code",
     "checksum": "ab06d1602d12d9821e3c33db9fe9375e",
     "grade": true,
     "grade_id": "cell-df8153a4c6b9c5a0",
     "locked": true,
     "points": 0,
     "schema_version": 3,
     "solution": false,
     "task": false
    },
    "tags": []
   },
   "outputs": [],
   "source": [
    "assert 1 <= len(sq2_1) <= 6\n",
    "assert max(sq2_1) <= 9"
   ]
  },
  {
   "cell_type": "markdown",
   "id": "02200ecc",
   "metadata": {
    "deletable": false,
    "editable": false,
    "nbgrader": {
     "cell_type": "markdown",
     "checksum": "ef964f8a38b7b879b191836bcd36ce0f",
     "grade": false,
     "grade_id": "cell-dcd042d34d99d37f",
     "locked": true,
     "schema_version": 3,
     "solution": false,
     "task": false
    },
    "tags": []
   },
   "source": [
    "This and following cells are used for grading."
   ]
  },
  {
   "cell_type": "code",
   "execution_count": null,
   "id": "9a060f2e-81e6-4927-bd46-f4a2b3933407",
   "metadata": {
    "deletable": false,
    "editable": false,
    "nbgrader": {
     "cell_type": "code",
     "checksum": "21e5c990ef3565650af30d1c3072c470",
     "grade": true,
     "grade_id": "cell-04e2f6847a6ba16b",
     "locked": true,
     "points": 3,
     "schema_version": 3,
     "solution": false,
     "task": false
    },
    "tags": []
   },
   "outputs": [],
   "source": []
  },
  {
   "cell_type": "code",
   "execution_count": null,
   "id": "d3e41260-10f8-4560-9f4b-a6a3337f7908",
   "metadata": {
    "deletable": false,
    "editable": false,
    "nbgrader": {
     "cell_type": "code",
     "checksum": "68697a7d2e6f1db783faa8eca19312ad",
     "grade": true,
     "grade_id": "cell-8093e9632ac2057b",
     "locked": true,
     "points": 3,
     "schema_version": 3,
     "solution": false,
     "task": false
    },
    "tags": []
   },
   "outputs": [],
   "source": []
  },
  {
   "cell_type": "code",
   "execution_count": null,
   "id": "df401a57-7053-486a-82b3-2d4c15023496",
   "metadata": {
    "deletable": false,
    "editable": false,
    "nbgrader": {
     "cell_type": "code",
     "checksum": "0c34ef2b67238347dc3d1f0103c4c890",
     "grade": true,
     "grade_id": "cell-c34556db05295fbe",
     "locked": true,
     "points": 3,
     "schema_version": 3,
     "solution": false,
     "task": false
    },
    "tags": []
   },
   "outputs": [],
   "source": []
  },
  {
   "cell_type": "code",
   "execution_count": null,
   "id": "579da06a-03a2-451f-8d3a-cacc7c272610",
   "metadata": {
    "deletable": false,
    "editable": false,
    "nbgrader": {
     "cell_type": "code",
     "checksum": "0dab553f2291074f7154c4903b2b2785",
     "grade": true,
     "grade_id": "cell-ca0be29e85c4e9f7",
     "locked": true,
     "points": 3,
     "schema_version": 3,
     "solution": false,
     "task": false
    },
    "tags": []
   },
   "outputs": [],
   "source": []
  },
  {
   "cell_type": "code",
   "execution_count": null,
   "id": "92042bae-3dcb-4e4a-ac8e-7e2efa4781c1",
   "metadata": {
    "deletable": false,
    "editable": false,
    "nbgrader": {
     "cell_type": "code",
     "checksum": "888e365fc59ccc8ef8175932de07dc81",
     "grade": true,
     "grade_id": "cell-f8e268ebc7896dc9",
     "locked": true,
     "points": 3,
     "schema_version": 3,
     "solution": false,
     "task": false
    },
    "tags": []
   },
   "outputs": [],
   "source": []
  },
  {
   "cell_type": "markdown",
   "id": "87fb7b90",
   "metadata": {
    "deletable": false,
    "editable": false,
    "nbgrader": {
     "cell_type": "markdown",
     "checksum": "0ed6babe8fed7689fc686d2d454a949c",
     "grade": false,
     "grade_id": "cell-c779d433119d8b02",
     "locked": true,
     "schema_version": 3,
     "solution": false,
     "task": false
    },
    "tags": []
   },
   "source": [
    "<a id='T3'></a>\n",
    "<div class=\" alert alert-warning\">\n",
    "    <h3><b>Student Task 3.</b> Investigating Initial Values (10 points) </h3> \n",
    "\n",
    "Set $\\epsilon$ to zero, effectively making the policy greedy w.r.t. current Q-value estimates. Run the training again while\n",
    "1) keeping the initial estimates of the Q function at 0,\n",
    "2) setting the initial estimates of the Q function to 50 for all states and actions.\n",
    "\n",
    "You can change the initial Q value estimates by passing ```initial_q=<value>``` in the following cells. \n",
    "\n",
    "**Attach training performance plots of both initializations in your report.**\n",
    "\n",
    "🔝\t<a href='#TOC'><b>Table of Contents</b></a>\n",
    "</div>\n"
   ]
  },
  {
   "cell_type": "code",
   "execution_count": 52,
   "id": "39cf3dd6",
   "metadata": {
    "tags": []
   },
   "outputs": [
    {
     "name": "stdout",
     "output_type": "stream",
     "text": [
      "Numpy/Torch/Random Seed:  408\n",
      "{'episode': 0, 'epsilon': 0, 'ep_reward': 10.0, 'timesteps': 10, 'ep_reward_avg': 10.0}\n",
      "{'episode': 500, 'epsilon': 0, 'ep_reward': 8.0, 'timesteps': 8, 'ep_reward_avg': 9.352}\n",
      "{'episode': 1000, 'epsilon': 0, 'ep_reward': 8.0, 'timesteps': 8, 'ep_reward_avg': 9.412}\n",
      "{'episode': 1500, 'epsilon': 0, 'ep_reward': 9.0, 'timesteps': 9, 'ep_reward_avg': 9.364}\n",
      "{'episode': 2000, 'epsilon': 0, 'ep_reward': 10.0, 'timesteps': 10, 'ep_reward_avg': 9.362}\n",
      "{'episode': 2500, 'epsilon': 0, 'ep_reward': 10.0, 'timesteps': 10, 'ep_reward_avg': 9.376}\n",
      "{'episode': 3000, 'epsilon': 0, 'ep_reward': 9.0, 'timesteps': 9, 'ep_reward_avg': 9.406}\n",
      "{'episode': 3500, 'epsilon': 0, 'ep_reward': 8.0, 'timesteps': 8, 'ep_reward_avg': 9.366}\n",
      "{'episode': 4000, 'epsilon': 0, 'ep_reward': 8.0, 'timesteps': 8, 'ep_reward_avg': 9.34}\n",
      "{'episode': 4500, 'epsilon': 0, 'ep_reward': 10.0, 'timesteps': 10, 'ep_reward_avg': 9.414}\n",
      "{'episode': 5000, 'epsilon': 0, 'ep_reward': 10.0, 'timesteps': 10, 'ep_reward_avg': 9.404}\n",
      "{'episode': 5500, 'epsilon': 0, 'ep_reward': 10.0, 'timesteps': 10, 'ep_reward_avg': 9.388}\n",
      "{'episode': 6000, 'epsilon': 0, 'ep_reward': 8.0, 'timesteps': 8, 'ep_reward_avg': 9.36}\n",
      "{'episode': 6500, 'epsilon': 0, 'ep_reward': 9.0, 'timesteps': 9, 'ep_reward_avg': 9.306}\n",
      "{'episode': 7000, 'epsilon': 0, 'ep_reward': 9.0, 'timesteps': 9, 'ep_reward_avg': 9.322}\n",
      "{'episode': 7500, 'epsilon': 0, 'ep_reward': 10.0, 'timesteps': 10, 'ep_reward_avg': 9.324}\n",
      "{'episode': 8000, 'epsilon': 0, 'ep_reward': 11.0, 'timesteps': 11, 'ep_reward_avg': 9.254}\n",
      "{'episode': 8500, 'epsilon': 0, 'ep_reward': 10.0, 'timesteps': 10, 'ep_reward_avg': 9.34}\n",
      "{'episode': 9000, 'epsilon': 0, 'ep_reward': 10.0, 'timesteps': 10, 'ep_reward_avg': 9.336}\n",
      "{'episode': 9500, 'epsilon': 0, 'ep_reward': 10.0, 'timesteps': 10, 'ep_reward_avg': 9.298}\n",
      "{'episode': 10000, 'epsilon': 0, 'ep_reward': 9.0, 'timesteps': 9, 'ep_reward_avg': 9.262}\n",
      "{'episode': 10500, 'epsilon': 0, 'ep_reward': 8.0, 'timesteps': 8, 'ep_reward_avg': 9.338}\n",
      "{'episode': 11000, 'epsilon': 0, 'ep_reward': 9.0, 'timesteps': 9, 'ep_reward_avg': 9.324}\n",
      "{'episode': 11500, 'epsilon': 0, 'ep_reward': 10.0, 'timesteps': 10, 'ep_reward_avg': 9.374}\n",
      "{'episode': 12000, 'epsilon': 0, 'ep_reward': 9.0, 'timesteps': 9, 'ep_reward_avg': 9.346}\n",
      "{'episode': 12500, 'epsilon': 0, 'ep_reward': 10.0, 'timesteps': 10, 'ep_reward_avg': 9.33}\n",
      "{'episode': 13000, 'epsilon': 0, 'ep_reward': 9.0, 'timesteps': 9, 'ep_reward_avg': 9.388}\n",
      "{'episode': 13500, 'epsilon': 0, 'ep_reward': 10.0, 'timesteps': 10, 'ep_reward_avg': 9.37}\n",
      "{'episode': 14000, 'epsilon': 0, 'ep_reward': 10.0, 'timesteps': 10, 'ep_reward_avg': 9.298}\n",
      "{'episode': 14500, 'epsilon': 0, 'ep_reward': 10.0, 'timesteps': 10, 'ep_reward_avg': 9.372}\n",
      "{'episode': 15000, 'epsilon': 0, 'ep_reward': 10.0, 'timesteps': 10, 'ep_reward_avg': 9.272}\n",
      "{'episode': 15500, 'epsilon': 0, 'ep_reward': 9.0, 'timesteps': 9, 'ep_reward_avg': 9.44}\n",
      "{'episode': 16000, 'epsilon': 0, 'ep_reward': 9.0, 'timesteps': 9, 'ep_reward_avg': 9.34}\n",
      "{'episode': 16500, 'epsilon': 0, 'ep_reward': 9.0, 'timesteps': 9, 'ep_reward_avg': 9.322}\n",
      "{'episode': 17000, 'epsilon': 0, 'ep_reward': 9.0, 'timesteps': 9, 'ep_reward_avg': 9.304}\n",
      "{'episode': 17500, 'epsilon': 0, 'ep_reward': 10.0, 'timesteps': 10, 'ep_reward_avg': 9.362}\n",
      "{'episode': 18000, 'epsilon': 0, 'ep_reward': 10.0, 'timesteps': 10, 'ep_reward_avg': 9.318}\n",
      "{'episode': 18500, 'epsilon': 0, 'ep_reward': 11.0, 'timesteps': 11, 'ep_reward_avg': 9.408}\n",
      "{'episode': 19000, 'epsilon': 0, 'ep_reward': 10.0, 'timesteps': 10, 'ep_reward_avg': 9.326}\n",
      "{'episode': 19500, 'epsilon': 0, 'ep_reward': 8.0, 'timesteps': 8, 'ep_reward_avg': 9.356}\n",
      "{'episode': 20000, 'epsilon': 0, 'ep_reward': 10.0, 'timesteps': 10, 'ep_reward_avg': 9.318}\n"
     ]
    },
    {
     "data": {
      "image/png": "[encoded data removed]",
      "text/plain": [
       "<Figure size 500x350 with 1 Axes>"
      ]
     },
     "metadata": {},
     "output_type": "display_data"
    },
    {
     "name": "stdout",
     "output_type": "stream",
     "text": [
      "Training done!\n"
     ]
    }
   ],
   "source": [
    "# Initialize the Q function with a value of 0 and begin training\n",
    "if not skip_training:\n",
    "    cfg_args=dict(epsilon=0, initial_q=0, task_no='task3.1') # set the initial estimates of the Q function to 0\n",
    "    train(cfg_path=Path().cwd()/'cfg'/'cartpole_v1.yaml', cfg_args=cfg_args)"
   ]
  },
  {
   "cell_type": "code",
   "execution_count": 53,
   "id": "ee238f34",
   "metadata": {
    "tags": []
   },
   "outputs": [
    {
     "data": {
      "image/png": "[encoded data removed]",
      "text/plain": [
       "<Figure size 1000x600 with 2 Axes>"
      ]
     },
     "metadata": {},
     "output_type": "display_data"
    }
   ],
   "source": [
    "# Visual display of the heatmap of the value function\n",
    "if not skip_training:\n",
    "    display_heatmap_vf('CartPole-v1', 'task3.1_q_table_e.pkl')"
   ]
  },
  {
   "cell_type": "code",
   "execution_count": 54,
   "id": "3cc746ac",
   "metadata": {
    "tags": []
   },
   "outputs": [
    {
     "name": "stdout",
     "output_type": "stream",
     "text": [
      "Numpy/Torch/Random Seed:  408\n",
      "{'episode': 0, 'epsilon': 0, 'ep_reward': 8.0, 'timesteps': 8, 'ep_reward_avg': 8.0}\n",
      "{'episode': 500, 'epsilon': 0, 'ep_reward': 191.0, 'timesteps': 191, 'ep_reward_avg': 131.716}\n",
      "{'episode': 1000, 'epsilon': 0, 'ep_reward': 355.0, 'timesteps': 355, 'ep_reward_avg': 231.284}\n",
      "{'episode': 1500, 'epsilon': 0, 'ep_reward': 479.0, 'timesteps': 479, 'ep_reward_avg': 366.222}\n",
      "{'episode': 2000, 'epsilon': 0, 'ep_reward': 341.0, 'timesteps': 341, 'ep_reward_avg': 418.772}\n",
      "{'episode': 2500, 'epsilon': 0, 'ep_reward': 500.0, 'timesteps': 500, 'ep_reward_avg': 385.732}\n",
      "{'episode': 3000, 'epsilon': 0, 'ep_reward': 500.0, 'timesteps': 500, 'ep_reward_avg': 428.45}\n",
      "{'episode': 3500, 'epsilon': 0, 'ep_reward': 500.0, 'timesteps': 500, 'ep_reward_avg': 428.482}\n",
      "{'episode': 4000, 'epsilon': 0, 'ep_reward': 500.0, 'timesteps': 500, 'ep_reward_avg': 499.456}\n",
      "{'episode': 4500, 'epsilon': 0, 'ep_reward': 500.0, 'timesteps': 500, 'ep_reward_avg': 500.0}\n",
      "{'episode': 5000, 'epsilon': 0, 'ep_reward': 500.0, 'timesteps': 500, 'ep_reward_avg': 500.0}\n",
      "{'episode': 5500, 'epsilon': 0, 'ep_reward': 500.0, 'timesteps': 500, 'ep_reward_avg': 500.0}\n",
      "{'episode': 6000, 'epsilon': 0, 'ep_reward': 500.0, 'timesteps': 500, 'ep_reward_avg': 500.0}\n",
      "{'episode': 6500, 'epsilon': 0, 'ep_reward': 500.0, 'timesteps': 500, 'ep_reward_avg': 500.0}\n",
      "{'episode': 7000, 'epsilon': 0, 'ep_reward': 500.0, 'timesteps': 500, 'ep_reward_avg': 500.0}\n",
      "{'episode': 7500, 'epsilon': 0, 'ep_reward': 500.0, 'timesteps': 500, 'ep_reward_avg': 500.0}\n",
      "{'episode': 8000, 'epsilon': 0, 'ep_reward': 500.0, 'timesteps': 500, 'ep_reward_avg': 500.0}\n",
      "{'episode': 8500, 'epsilon': 0, 'ep_reward': 500.0, 'timesteps': 500, 'ep_reward_avg': 500.0}\n",
      "{'episode': 9000, 'epsilon': 0, 'ep_reward': 500.0, 'timesteps': 500, 'ep_reward_avg': 500.0}\n",
      "{'episode': 9500, 'epsilon': 0, 'ep_reward': 500.0, 'timesteps': 500, 'ep_reward_avg': 500.0}\n",
      "{'episode': 10000, 'epsilon': 0, 'ep_reward': 500.0, 'timesteps': 500, 'ep_reward_avg': 500.0}\n",
      "{'episode': 10500, 'epsilon': 0, 'ep_reward': 500.0, 'timesteps': 500, 'ep_reward_avg': 500.0}\n",
      "{'episode': 11000, 'epsilon': 0, 'ep_reward': 500.0, 'timesteps': 500, 'ep_reward_avg': 500.0}\n",
      "{'episode': 11500, 'epsilon': 0, 'ep_reward': 500.0, 'timesteps': 500, 'ep_reward_avg': 500.0}\n",
      "{'episode': 12000, 'epsilon': 0, 'ep_reward': 500.0, 'timesteps': 500, 'ep_reward_avg': 500.0}\n",
      "{'episode': 12500, 'epsilon': 0, 'ep_reward': 500.0, 'timesteps': 500, 'ep_reward_avg': 500.0}\n",
      "{'episode': 13000, 'epsilon': 0, 'ep_reward': 500.0, 'timesteps': 500, 'ep_reward_avg': 500.0}\n",
      "{'episode': 13500, 'epsilon': 0, 'ep_reward': 500.0, 'timesteps': 500, 'ep_reward_avg': 500.0}\n",
      "{'episode': 14000, 'epsilon': 0, 'ep_reward': 500.0, 'timesteps': 500, 'ep_reward_avg': 500.0}\n",
      "{'episode': 14500, 'epsilon': 0, 'ep_reward': 500.0, 'timesteps': 500, 'ep_reward_avg': 500.0}\n",
      "{'episode': 15000, 'epsilon': 0, 'ep_reward': 500.0, 'timesteps': 500, 'ep_reward_avg': 500.0}\n",
      "{'episode': 15500, 'epsilon': 0, 'ep_reward': 500.0, 'timesteps': 500, 'ep_reward_avg': 500.0}\n",
      "{'episode': 16000, 'epsilon': 0, 'ep_reward': 500.0, 'timesteps': 500, 'ep_reward_avg': 500.0}\n",
      "{'episode': 16500, 'epsilon': 0, 'ep_reward': 500.0, 'timesteps': 500, 'ep_reward_avg': 500.0}\n",
      "{'episode': 17000, 'epsilon': 0, 'ep_reward': 500.0, 'timesteps': 500, 'ep_reward_avg': 500.0}\n",
      "{'episode': 17500, 'epsilon': 0, 'ep_reward': 500.0, 'timesteps': 500, 'ep_reward_avg': 500.0}\n",
      "{'episode': 18000, 'epsilon': 0, 'ep_reward': 500.0, 'timesteps': 500, 'ep_reward_avg': 500.0}\n",
      "{'episode': 18500, 'epsilon': 0, 'ep_reward': 500.0, 'timesteps': 500, 'ep_reward_avg': 500.0}\n",
      "{'episode': 19000, 'epsilon': 0, 'ep_reward': 500.0, 'timesteps': 500, 'ep_reward_avg': 500.0}\n",
      "{'episode': 19500, 'epsilon': 0, 'ep_reward': 500.0, 'timesteps': 500, 'ep_reward_avg': 500.0}\n",
      "{'episode': 20000, 'epsilon': 0, 'ep_reward': 500.0, 'timesteps': 500, 'ep_reward_avg': 500.0}\n"
     ]
    },
    {
     "data": {
      "image/png": "[encoded data removed]",
      "text/plain": [
       "<Figure size 500x350 with 1 Axes>"
      ]
     },
     "metadata": {},
     "output_type": "display_data"
    },
    {
     "name": "stdout",
     "output_type": "stream",
     "text": [
      "Training done!\n"
     ]
    }
   ],
   "source": [
    "# Initialize the Q function with a value of 50 and begin training\n",
    "if not skip_training:\n",
    "    cfg_args=dict(epsilon=0, initial_q=50,task_no='task3.2') # set the initial estimates of the Q function to 50\n",
    "    train(cfg_path=Path().cwd()/'cfg'/'cartpole_v1.yaml', cfg_args=cfg_args)"
   ]
  },
  {
   "cell_type": "code",
   "execution_count": 55,
   "id": "d9ed3aaf",
   "metadata": {
    "tags": []
   },
   "outputs": [
    {
     "data": {
      "image/png": "[encoded data removed]",
      "text/plain": [
       "<Figure size 1000x600 with 2 Axes>"
      ]
     },
     "metadata": {},
     "output_type": "display_data"
    }
   ],
   "source": [
    "# Visual display of the heatmap of the value function\n",
    "display_heatmap_vf('CartPole-v1', 'task3.2_q_table_e.pkl')"
   ]
  },
  {
   "cell_type": "code",
   "execution_count": null,
   "id": "09514150",
   "metadata": {
    "deletable": false,
    "editable": false,
    "nbgrader": {
     "cell_type": "code",
     "checksum": "f9ab1fd48e4583a37a4c80bea1298d51",
     "grade": true,
     "grade_id": "cell-f3641856fbc277ec",
     "locked": true,
     "points": 5,
     "schema_version": 3,
     "solution": false,
     "task": false
    }
   },
   "outputs": [],
   "source": []
  },
  {
   "cell_type": "code",
   "execution_count": null,
   "id": "35d54874-22c9-4367-a262-10399f81c0a2",
   "metadata": {
    "deletable": false,
    "editable": false,
    "nbgrader": {
     "cell_type": "code",
     "checksum": "620e26ec411953c00ef7617e63c34d79",
     "grade": true,
     "grade_id": "cell-1f7e70d287bd137d",
     "locked": true,
     "points": 5,
     "schema_version": 3,
     "solution": false,
     "task": false
    }
   },
   "outputs": [],
   "source": []
  },
  {
   "cell_type": "markdown",
   "id": "fbea9f8b",
   "metadata": {
    "deletable": false,
    "editable": false,
    "nbgrader": {
     "cell_type": "markdown",
     "checksum": "43adf752f5f23c243131934494ef1036",
     "grade": false,
     "grade_id": "cell-fb0ef3d88859dc85",
     "locked": true,
     "schema_version": 3,
     "solution": false,
     "task": false
    },
    "tags": []
   },
   "source": [
    "Based on the results you observed in Task 3, answer the following questions:"
   ]
  },
  {
   "cell_type": "markdown",
   "id": "2f97da87",
   "metadata": {
    "deletable": false,
    "editable": false,
    "nbgrader": {
     "cell_type": "markdown",
     "checksum": "8f9822fbf1a56fd63b9d1927e845b30d",
     "grade": false,
     "grade_id": "cell-7769c407f3a50628",
     "locked": true,
     "schema_version": 3,
     "solution": false,
     "task": false
    },
    "tags": []
   },
   "source": [
    "<a id='Q2'></a>\n",
    "<div class=\" alert alert-warning\">\n",
    "    <h3><b>Student Question 3.1</b> Analyzing Initial Values (5 points) </h3> \n",
    "\n",
    "In which case does the model perform better?\n",
    "    \n",
    "🔝\t<a href='#TOC'><b>Table of Contents</b></a>\n",
    "</div>\n"
   ]
  },
  {
   "cell_type": "markdown",
   "id": "a0b4827d-c6c2-41de-a652-a5440959c144",
   "metadata": {
    "deletable": false,
    "editable": false,
    "nbgrader": {
     "cell_type": "markdown",
     "checksum": "354771ebcdb9915ff4dc70176892b1a4",
     "grade": false,
     "grade_id": "cell-519c04dfa86099ee",
     "locked": true,
     "schema_version": 3,
     "solution": false,
     "task": false
    },
    "tags": []
   },
   "source": [
    "Options: **Choose only one**\n",
    "1. The model performs better with initial Q-values of 0\n",
    "2. The model performs better with initial Q-values of 50"
   ]
  },
  {
   "cell_type": "code",
   "execution_count": 56,
   "id": "bd6d3838-9cd4-42f3-87b3-dbe8683ffcaf",
   "metadata": {
    "tags": []
   },
   "outputs": [],
   "source": [
    "# Answer question 3.1 with appropriate option number\n",
    "sq3_1 = 2"
   ]
  },
  {
   "cell_type": "markdown",
   "id": "38fcbcf9",
   "metadata": {
    "deletable": false,
    "editable": false,
    "nbgrader": {
     "cell_type": "markdown",
     "checksum": "aa28e6272b0a93cc6809b6dab8b27c55",
     "grade": false,
     "grade_id": "cell-b3ee495d57962ef2",
     "locked": true,
     "schema_version": 3,
     "solution": false,
     "task": false
    },
    "tags": []
   },
   "source": [
    "This and following cells are used for grading."
   ]
  },
  {
   "cell_type": "code",
   "execution_count": 57,
   "id": "1f2deb0c-5e00-4ff0-bd34-85958ec29603",
   "metadata": {
    "deletable": false,
    "editable": false,
    "nbgrader": {
     "cell_type": "code",
     "checksum": "1e0498d350e6b03c0f6e60feaf7ba2c6",
     "grade": true,
     "grade_id": "cell-27c0a98fb49daec6",
     "locked": true,
     "points": 0,
     "schema_version": 3,
     "solution": false,
     "task": false
    },
    "tags": []
   },
   "outputs": [],
   "source": [
    "assert sq3_1 in (1, 2)"
   ]
  },
  {
   "cell_type": "code",
   "execution_count": null,
   "id": "477baea1-305d-45bd-bec8-a7f835d161e1",
   "metadata": {
    "deletable": false,
    "editable": false,
    "nbgrader": {
     "cell_type": "code",
     "checksum": "863d7d0b3a33ad730759604d6b547520",
     "grade": true,
     "grade_id": "cell-eb14719e4d62f7a8",
     "locked": true,
     "points": 5,
     "schema_version": 3,
     "solution": false,
     "task": false
    },
    "tags": []
   },
   "outputs": [],
   "source": []
  },
  {
   "cell_type": "markdown",
   "id": "9a200626",
   "metadata": {
    "deletable": false,
    "editable": false,
    "nbgrader": {
     "cell_type": "markdown",
     "checksum": "e6aa182ce0418396cf899243220d6187",
     "grade": false,
     "grade_id": "cell-8884a770b0a05023",
     "locked": true,
     "schema_version": 3,
     "solution": false,
     "task": false
    },
    "tags": []
   },
   "source": [
    "<a id='Q3'></a>\n",
    "<div class=\" alert alert-warning\">\n",
    "    <h3><b>Student Question 3.2</b> Exploration (15 points) </h3> \n",
    "\n",
    "Why is this the case, and how does the initialization of Q values affect exploration?\n",
    "    \n",
    "🔝\t<a href='#TOC'><b>Table of Contents</b></a>\n",
    "</div>\n"
   ]
  },
  {
   "cell_type": "markdown",
   "id": "716ab4d0-19a3-40d2-a7ca-22d8fee27300",
   "metadata": {
    "deletable": false,
    "editable": false,
    "nbgrader": {
     "cell_type": "markdown",
     "checksum": "afa2b737703f6a83218da809291ec2bd",
     "grade": false,
     "grade_id": "cell-605ea63c68c5b2c9",
     "locked": true,
     "schema_version": 3,
     "solution": false,
     "task": false
    },
    "tags": []
   },
   "source": [
    "Select *all* correct options. Select **at most** 5 options, or you will lose **all** points\n",
    "\n",
    "Options\n",
    "\n",
    "1. Higher initial Q-values encourage exploration by making unexplored actions seem more attractive.\n",
    "2. Q-values of 0 make the agent indifferent to all actions initially, leading to diverse exploration.\n",
    "3. Initializing Q-values to 50 creates an \"optimistic\" prior that encourages trying new actions.\n",
    "4. Q-values of 0 promote exploration because the agent needs to try all actions to differentiate their values.\n",
    "5. Higher initial Q-values allow the agent to overcome local optima more easily.\n",
    "6. Initializing to 0 encourages exploration as the agent is more willing to try actions with unknown outcomes.\n",
    "7. Q-values of 0 cause the agent to be overly cautious, avoiding potentially risky but rewarding actions.\n",
    "8. Higher initial Q-values compensate for the lack of explicit exploration in a greedy policy.\n",
    "9. Initializing to 0 promotes a \"blank slate\" approach, allowing the agent to explore without bias.\n",
    "10. With Q-values initialized to 0, the agent tends to stick with the first action it tries due to non-negative rewards.\n",
    "\n"
   ]
  },
  {
   "cell_type": "code",
   "execution_count": 58,
   "id": "b02135a3-4830-465c-980c-b4be3e04f13d",
   "metadata": {
    "tags": []
   },
   "outputs": [],
   "source": [
    "# Answer question 3.2 with appropriate option numbers\n",
    "sq3_2 = [1,3,5,8,10]"
   ]
  },
  {
   "cell_type": "markdown",
   "id": "05b77508",
   "metadata": {
    "deletable": false,
    "editable": false,
    "nbgrader": {
     "cell_type": "markdown",
     "checksum": "21e57df34ff7d38bf6ff8b3ebef1bd6c",
     "grade": false,
     "grade_id": "cell-926f5ebbd45e13dd",
     "locked": true,
     "schema_version": 3,
     "solution": false,
     "task": false
    },
    "tags": []
   },
   "source": [
    "This and following cells are used for grading."
   ]
  },
  {
   "cell_type": "code",
   "execution_count": 59,
   "id": "9bd4f684-c278-481f-893f-bed40304e5e9",
   "metadata": {
    "deletable": false,
    "editable": false,
    "nbgrader": {
     "cell_type": "code",
     "checksum": "09aa16ffba08fcca7ff2397773e396e4",
     "grade": true,
     "grade_id": "cell-f74f34215be390f7",
     "locked": true,
     "points": 0,
     "schema_version": 3,
     "solution": false,
     "task": false
    },
    "tags": []
   },
   "outputs": [],
   "source": [
    "assert 1 <= len(sq3_2) <= 5\n",
    "assert max(sq3_2) <= 10"
   ]
  },
  {
   "cell_type": "code",
   "execution_count": null,
   "id": "70c2cfbb-5442-4500-8eb9-50a9dc498093",
   "metadata": {
    "deletable": false,
    "editable": false,
    "nbgrader": {
     "cell_type": "code",
     "checksum": "4c2ec55f6e4d6b9b5a04afff89138077",
     "grade": true,
     "grade_id": "cell-409541b588829a7d",
     "locked": true,
     "points": 4,
     "schema_version": 3,
     "solution": false,
     "task": false
    },
    "tags": []
   },
   "outputs": [],
   "source": []
  },
  {
   "cell_type": "code",
   "execution_count": null,
   "id": "634cfdb8-0b54-4e2e-9ca7-67d4e1d66ff0",
   "metadata": {
    "deletable": false,
    "editable": false,
    "nbgrader": {
     "cell_type": "code",
     "checksum": "7a05ee45b491c1c60653d6002f4b0e3d",
     "grade": true,
     "grade_id": "cell-c7dfe60e748bfaa5",
     "locked": true,
     "points": 4,
     "schema_version": 3,
     "solution": false,
     "task": false
    },
    "tags": []
   },
   "outputs": [],
   "source": []
  },
  {
   "cell_type": "code",
   "execution_count": null,
   "id": "75d303b9-5bc5-4698-a856-75c2abc50ede",
   "metadata": {
    "deletable": false,
    "editable": false,
    "nbgrader": {
     "cell_type": "code",
     "checksum": "3016ae2dc130d2b568a3248455fb562c",
     "grade": true,
     "grade_id": "cell-2f8cbb8be3f63150",
     "locked": true,
     "points": 4,
     "schema_version": 3,
     "solution": false,
     "task": false
    },
    "tags": []
   },
   "outputs": [],
   "source": []
  },
  {
   "cell_type": "code",
   "execution_count": null,
   "id": "121fb0e9-93d6-4d46-87a7-e7c4725d304d",
   "metadata": {
    "deletable": false,
    "editable": false,
    "nbgrader": {
     "cell_type": "code",
     "checksum": "4b3ad3fa4f6dd9419a479ece03fef846",
     "grade": true,
     "grade_id": "cell-598b63c886d8faf0",
     "locked": true,
     "points": 3,
     "schema_version": 3,
     "solution": false,
     "task": false
    },
    "tags": []
   },
   "outputs": [],
   "source": []
  },
  {
   "cell_type": "markdown",
   "id": "6176d62f",
   "metadata": {
    "deletable": false,
    "editable": false,
    "nbgrader": {
     "cell_type": "markdown",
     "checksum": "cebaca39f2d792d715901612cd04a3e4",
     "grade": false,
     "grade_id": "cell-b3915d3ec750dbcd",
     "locked": true,
     "schema_version": 3,
     "solution": false,
     "task": false
    },
    "tags": []
   },
   "source": [
    "# 3. Lunar lander <a id='3.'></a>"
   ]
  },
  {
   "cell_type": "markdown",
   "id": "95724c44",
   "metadata": {
    "deletable": false,
    "editable": false,
    "nbgrader": {
     "cell_type": "markdown",
     "checksum": "dd737602bb706e30df3df0d745a53fd3",
     "grade": false,
     "grade_id": "cell-5179eb4489994c45",
     "locked": true,
     "schema_version": 3,
     "solution": false,
     "task": false
    },
    "tags": []
   },
   "source": [
    "<figure style=\"text-align: center\">\n",
    "<img src=\"imgs/lunar_lander.png\" width=\"600px\">\n",
    "<figcaption style=\"text-align: center\"> Figure 2: The Lunar lander environment. </figcaption>\n",
    "</figure>\n",
    "\n",
    "The ***Lunar lander*** environment is shown in Figure 2. The goal is to make the lunar lander land on the ground between two flag poles. The agent receives a positive reward for moving towards the landing pad, landing, etc. A negative reward is given for firing the main engine (more fuel-efficient policies are better) and for crashing. Four actions are available: firing the left/right/main engines, or doing nothing (free fall). The observation vector consists of 6 continuous and 2 discrete values:\n",
    "\n",
    "$$\n",
    "o=\\left(\\begin{array}{llllllll}\n",
    "x & y & \\dot{x} & \\dot{y} & \\theta & \\dot{\\theta} & c_l & c_r\n",
    "\\end{array}\\right)^T,\n",
    "$$\n",
    "\n",
    "where $x$ and $y$ are the coordinates of the lander, $\\dot{x}$ and $\\dot{y}$ its velocities, $\\theta$ represents the rotation angle and $\\dot{\\theta}$ the angular velocity of the lander. Two discrete values $c_l$ and $c_r$  indicate whether the lander’s legs are in contact with the ground (0 or 1).\n"
   ]
  },
  {
   "cell_type": "markdown",
   "id": "3636f10e",
   "metadata": {
    "deletable": false,
    "editable": false,
    "nbgrader": {
     "cell_type": "markdown",
     "checksum": "441db32fe0877b8535c2e9a5fec31cc0",
     "grade": false,
     "grade_id": "cell-ca35aad51d60b334",
     "locked": true,
     "schema_version": 3,
     "solution": false,
     "task": false
    },
    "tags": []
   },
   "source": [
    "<a id='T4'></a>\n",
    "<div class=\" alert alert-warning\">\n",
    "    <h3><b>Student Task 4.</b> Using Q-Learning on the Lunar Lander Environment (5 points) </h3> \n",
    "\n",
    "Run the training for Lunar Lander environment by executing cell ```Training on the Lunar Lander Environment```. Run it for 20000 episodes (which was enough for the Cartpole to learn). **Attach the training performance plot in your submission.**\n",
    "\n",
    "**Heads Up:** The generated file `task4_q_table.pkl` is sizeable, approximately 2 GB. Ensure you **delete** it before submitting. But do not delete the `task4__glie.png` file.\n",
    "    \n",
    "🔝\t<a href='#TOC'><b>Table of Contents</b></a>\n",
    "</div>\n"
   ]
  },
  {
   "cell_type": "code",
   "execution_count": 10,
   "id": "ec43485e",
   "metadata": {
    "tags": []
   },
   "outputs": [
    {
     "name": "stdout",
     "output_type": "stream",
     "text": [
      "Numpy/Torch/Random Seed:  408\n",
      "{'episode': 0, 'epsilon': 1.0, 'ep_reward': -273.81254225087594, 'timesteps': 96, 'ep_reward_avg': -273.81254225087594}\n",
      "{'episode': 500, 'epsilon': 0.8163115356355621, 'ep_reward': -61.83488308787447, 'timesteps': 108, 'ep_reward_avg': -148.50162003541925}\n",
      "{'episode': 1000, 'epsilon': 0.6896337678460583, 'ep_reward': -339.7729278619336, 'timesteps': 110, 'ep_reward_avg': -110.85340961717904}\n",
      "{'episode': 1500, 'epsilon': 0.5969908651262762, 'ep_reward': -90.26503283703454, 'timesteps': 172, 'ep_reward_avg': -98.60400024137803}\n",
      "{'episode': 2000, 'epsilon': 0.5262908574135481, 'ep_reward': -163.3847990991591, 'timesteps': 161, 'ep_reward_avg': -87.28502305915518}\n",
      "{'episode': 2500, 'epsilon': 0.470563320626853, 'ep_reward': -18.84411929370893, 'timesteps': 82, 'ep_reward_avg': -78.33375466338697}\n",
      "{'episode': 3000, 'epsilon': 0.42550746840291076, 'ep_reward': 23.09193289857477, 'timesteps': 162, 'ep_reward_avg': -84.86438185861108}\n",
      "{'episode': 3500, 'epsilon': 0.388325760223698, 'ep_reward': 57.29470160424063, 'timesteps': 1000, 'ep_reward_avg': -94.64676497216138}\n",
      "{'episode': 4000, 'epsilon': 0.3571198971391835, 'ep_reward': -3.5691851233011533, 'timesteps': 116, 'ep_reward_avg': -97.79380464022722}\n",
      "{'episode': 4500, 'epsilon': 0.330556382029158, 'ep_reward': -161.98393441190478, 'timesteps': 253, 'ep_reward_avg': -106.42391091411844}\n",
      "{'episode': 5000, 'epsilon': 0.3076710052617004, 'ep_reward': -97.65040029579302, 'timesteps': 521, 'ep_reward_avg': -107.81822453764654}\n",
      "{'episode': 5500, 'epsilon': 0.28774928774928776, 'ep_reward': -76.52086291122126, 'timesteps': 191, 'ep_reward_avg': -101.6219335413214}\n",
      "{'episode': 6000, 'epsilon': 0.27025054731208953, 'ep_reward': -211.5408704528938, 'timesteps': 171, 'ep_reward_avg': -109.82577055013515}\n",
      "{'episode': 6500, 'epsilon': 0.2547580830084843, 'ep_reward': -310.1197085744609, 'timesteps': 178, 'ep_reward_avg': -115.04249752259089}\n",
      "{'episode': 7000, 'epsilon': 0.24094556495337238, 'ep_reward': 18.034476284389825, 'timesteps': 114, 'ep_reward_avg': -107.79415044991744}\n",
      "{'episode': 7500, 'epsilon': 0.22855379551532606, 'ep_reward': -57.867275291804546, 'timesteps': 142, 'ep_reward_avg': -109.57071307754295}\n",
      "{'episode': 8000, 'epsilon': 0.21737429074545098, 'ep_reward': -105.72580192280088, 'timesteps': 162, 'ep_reward_avg': -109.06545001580123}\n",
      "{'episode': 8500, 'epsilon': 0.2072374556985637, 'ep_reward': -45.479914181431184, 'timesteps': 126, 'ep_reward_avg': -103.31419484280246}\n",
      "{'episode': 9000, 'epsilon': 0.19800392086972018, 'ep_reward': -52.64591509899072, 'timesteps': 131, 'ep_reward_avg': -117.72481901918177}\n",
      "{'episode': 9500, 'epsilon': 0.1895580958880737, 'ep_reward': -46.82695698834946, 'timesteps': 107, 'ep_reward_avg': -109.63182453013484}\n",
      "{'episode': 10000, 'epsilon': 0.1818033055146457, 'ep_reward': -33.882086354061784, 'timesteps': 323, 'ep_reward_avg': -107.42849057856674}\n",
      "{'episode': 10500, 'epsilon': 0.17465807263008962, 'ep_reward': -184.7700322138516, 'timesteps': 184, 'ep_reward_avg': -109.68746524240159}\n",
      "{'episode': 11000, 'epsilon': 0.16805324459234608, 'ep_reward': -104.19717639903934, 'timesteps': 124, 'ep_reward_avg': -107.88006328696653}\n",
      "{'episode': 11500, 'epsilon': 0.16192974785016762, 'ep_reward': -52.152656925288625, 'timesteps': 246, 'ep_reward_avg': -105.7142997708933}\n",
      "{'episode': 12000, 'epsilon': 0.15623681620025312, 'ep_reward': -60.75826570738524, 'timesteps': 125, 'ep_reward_avg': -111.4904704478705}\n",
      "{'episode': 12500, 'epsilon': 0.1509305800842277, 'ep_reward': -137.6279054689825, 'timesteps': 277, 'ep_reward_avg': -106.88321145133179}\n",
      "{'episode': 13000, 'epsilon': 0.14597293391144398, 'ep_reward': -335.2697223415154, 'timesteps': 273, 'ep_reward_avg': -109.50247999842631}\n",
      "{'episode': 13500, 'epsilon': 0.14133061951405673, 'ep_reward': 10.385593592292693, 'timesteps': 147, 'ep_reward_avg': -110.95317950853266}\n",
      "{'episode': 14000, 'epsilon': 0.13697447910245344, 'ep_reward': -235.78988146585507, 'timesteps': 290, 'ep_reward_avg': -116.48978383475729}\n",
      "{'episode': 14500, 'epsilon': 0.13287884224375074, 'ep_reward': -256.7100271071208, 'timesteps': 170, 'ep_reward_avg': -96.48025316405945}\n",
      "{'episode': 15000, 'epsilon': 0.1290210196260597, 'ep_reward': 14.24978565033183, 'timesteps': 144, 'ep_reward_avg': -104.51780633174128}\n",
      "{'episode': 15500, 'epsilon': 0.12538088251890306, 'ep_reward': -107.44590572967721, 'timesteps': 136, 'ep_reward_avg': -106.45289381599606}\n",
      "{'episode': 16000, 'epsilon': 0.12194051146965207, 'ep_reward': -42.25262250525625, 'timesteps': 388, 'ep_reward_avg': -112.92335830688396}\n",
      "{'episode': 16500, 'epsilon': 0.11868390129259694, 'ep_reward': -115.6201552937503, 'timesteps': 159, 'ep_reward_avg': -110.62936607821408}\n",
      "{'episode': 17000, 'epsilon': 0.11559671210071792, 'ep_reward': -239.11261515611946, 'timesteps': 160, 'ep_reward_avg': -103.26636544045314}\n",
      "{'episode': 17500, 'epsilon': 0.11266605820910658, 'ep_reward': -280.2465797635675, 'timesteps': 173, 'ep_reward_avg': -115.85321134970442}\n",
      "{'episode': 18000, 'epsilon': 0.10988032835525666, 'ep_reward': -27.662615778775603, 'timesteps': 148, 'ep_reward_avg': -95.35239787477232}\n",
      "{'episode': 18500, 'epsilon': 0.10722903194672329, 'ep_reward': -85.78467906497063, 'timesteps': 100, 'ep_reward_avg': -95.06881105990638}\n",
      "{'episode': 19000, 'epsilon': 0.10470266704363397, 'ep_reward': -77.35128159137915, 'timesteps': 143, 'ep_reward_avg': -106.2156389258628}\n",
      "{'episode': 19500, 'epsilon': 0.1022926065739803, 'ep_reward': -174.455822412598, 'timesteps': 139, 'ep_reward_avg': -106.20254869802552}\n",
      "{'episode': 20000, 'epsilon': 0.0999909999099991, 'ep_reward': -144.89385032296292, 'timesteps': 156, 'ep_reward_avg': -106.13306615692461}\n"
     ]
    },
    {
     "data": {
      "image/png": "[encoded data removed]",
      "text/plain": [
       "<Figure size 500x350 with 1 Axes>"
      ]
     },
     "metadata": {},
     "output_type": "display_data"
    },
    {
     "name": "stdout",
     "output_type": "stream",
     "text": [
      "Training done!\n"
     ]
    }
   ],
   "source": [
    "# Training on the Lunar Lander Environment\n",
    "if not skip_training:\n",
    "    cfg_args=dict(epsilon='glie', glie_b=2222, save_video=False, discr=12) # insert correct value for glie_b\n",
    "    train(cfg_path=Path().cwd()/'cfg'/'lunarlander_v2.yaml', cfg_args=cfg_args) # "
   ]
  },
  {
   "cell_type": "code",
   "execution_count": 11,
   "id": "d7d4481f",
   "metadata": {
    "tags": []
   },
   "outputs": [
    {
     "name": "stdout",
     "output_type": "stream",
     "text": [
      "Numpy/Torch/Random Seed:  408\n",
      "{'test_episode': 0, 'test_ep_reward': -50.44334862219711, 'timesteps': 84}\n",
      "{'test_episode': 1, 'test_ep_reward': -13.08560134403875, 'timesteps': 133}\n",
      "{'test_episode': 2, 'test_ep_reward': -68.58914414610209, 'timesteps': 76}\n",
      "{'test_episode': 3, 'test_ep_reward': -50.92816452404975, 'timesteps': 159}\n",
      "{'test_episode': 4, 'test_ep_reward': -29.96212747439519, 'timesteps': 95}\n",
      "Testing done!\n"
     ]
    }
   ],
   "source": [
    "if not skip_training:\n",
    "    cfg_args=dict(epsilon='glie', save_video=True, test_episodes=5)\n",
    "    test(cfg_path=Path().cwd()/'cfg'/'lunarlander_v2.yaml', cfg_args=cfg_args)"
   ]
  },
  {
   "cell_type": "code",
   "execution_count": 12,
   "id": "b2f33113",
   "metadata": {
    "tags": []
   },
   "outputs": [
    {
     "data": {
      "text/html": [
       "<video loop autoplay  >\n",
       " <source src=\"data:video/mp4;base64,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\" type=\"video/mp4\">\n",
       " Your browser does not support the video tag.\n",
       " </video>"
      ],
      "text/plain": [
       "<IPython.core.display.Video object>"
      ]
     },
     "metadata": {},
     "output_type": "display_data"
    }
   ],
   "source": [
    "if not skip_training:\n",
    "      video = Video(Path().cwd()/'results'/'LunarLander-v2'/'video'/'test'/'ex3-episode-4.mp4',\n",
    "      embed=True, html_attributes=\"loop autoplay\") # Set html_attributes=\"controls\" for video control\n",
    "      display(video)"
   ]
  },
  {
   "cell_type": "code",
   "execution_count": null,
   "id": "9ff0a252",
   "metadata": {
    "deletable": false,
    "editable": false,
    "nbgrader": {
     "cell_type": "code",
     "checksum": "650c9f3243d0a1d2956190dcf3759aa0",
     "grade": true,
     "grade_id": "cell-d29073ccaa4d44b2",
     "locked": true,
     "points": 5,
     "schema_version": 3,
     "solution": false,
     "task": false
    }
   },
   "outputs": [],
   "source": []
  },
  {
   "cell_type": "markdown",
   "id": "39cd6a58",
   "metadata": {
    "deletable": false,
    "editable": false,
    "nbgrader": {
     "cell_type": "markdown",
     "checksum": "bf42e8ba417ce7ecdcd983c97abc34ea",
     "grade": false,
     "grade_id": "cell-e9ca0c916324acc2",
     "locked": true,
     "schema_version": 3,
     "solution": false,
     "task": false
    },
    "tags": []
   },
   "source": [
    "<a id='Q4'></a>\n",
    "<div class=\" alert alert-warning\">\n",
    "    <h3><b>Student Question 4.1</b> Lunar Lander Performance (15 points) </h3> \n",
    "\n",
    "Why doesn't the Lunar Lander learn to land consistently between the flag poles after 20,000 episodes? Select all that apply.\n",
    "    \n",
    "🔝\t<a href='#TOC'><b>Table of Contents</b></a>\n",
    "</div>\n"
   ]
  },
  {
   "cell_type": "markdown",
   "id": "341674d8-05f1-45fd-86f1-58e6fe053bcb",
   "metadata": {
    "deletable": false,
    "editable": false,
    "nbgrader": {
     "cell_type": "markdown",
     "checksum": "b3ced91cf860f74bd25377b2f0b1c4b8",
     "grade": false,
     "grade_id": "cell-241b3bf1f2c6e6fe",
     "locked": true,
     "schema_version": 3,
     "solution": false,
     "task": false
    },
    "tags": []
   },
   "source": [
    "Choose *all* correct options. Select **at most** 5 answers, or you will lose **all points**\n",
    "\n",
    "Options: \n",
    "\n",
    "1. The lunar lander's dynamics are too complex for a simple Q-learning approach\n",
    "2. The discretization of continuous states causes loss of crucial information\n",
    "3. The Q-learning algorithm struggles with high-dimensional state spaces\n",
    "4. The reward function may not provide enough guidance for precise landing\n",
    "5. The epsilon-greedy strategy may not provide sufficient exploration for Q-learning\n",
    "6. 20,000 episodes is insufficient for the Q-learning algorithm to converge in lunar lander\n",
    "7. The state space is too large for efficient exploration\n"
   ]
  },
  {
   "cell_type": "markdown",
   "id": "94efbd2d",
   "metadata": {
    "deletable": false,
    "editable": false,
    "nbgrader": {
     "cell_type": "markdown",
     "checksum": "5b97732431e585ba137a784a6e6e227f",
     "grade": false,
     "grade_id": "cell-686f2227c30c23bc",
     "locked": true,
     "schema_version": 3,
     "solution": false,
     "task": false
    },
    "tags": []
   },
   "source": [
    "This and following cells are used for grading."
   ]
  },
  {
   "cell_type": "code",
   "execution_count": 13,
   "id": "6f1ceb16-e955-4083-b765-ac8ce7fc4afb",
   "metadata": {
    "tags": []
   },
   "outputs": [],
   "source": [
    "# Answer question 4.2 with appropriate option numbers\n",
    "sq4_2 = [1,2,3,4,7]"
   ]
  },
  {
   "cell_type": "code",
   "execution_count": 14,
   "id": "d2648e91-a063-4c99-8372-097b91525edd",
   "metadata": {
    "deletable": false,
    "editable": false,
    "nbgrader": {
     "cell_type": "code",
     "checksum": "fce6c3e7e354bc3773af362336ecde11",
     "grade": true,
     "grade_id": "cell-ac0292bc216b3977",
     "locked": true,
     "points": 0,
     "schema_version": 3,
     "solution": false,
     "task": false
    },
    "tags": []
   },
   "outputs": [],
   "source": [
    "assert 1 <= len(sq4_2) <= 5\n",
    "assert max(sq4_2) <= 7"
   ]
  },
  {
   "cell_type": "code",
   "execution_count": null,
   "id": "c8073563-5ecb-4469-b4ad-f236833e6806",
   "metadata": {
    "deletable": false,
    "editable": false,
    "nbgrader": {
     "cell_type": "code",
     "checksum": "e02dd1e74bbf2769002ec21af0088e1a",
     "grade": true,
     "grade_id": "cell-2ad87fd87ff8fc4d",
     "locked": true,
     "points": 4,
     "schema_version": 3,
     "solution": false,
     "task": false
    },
    "tags": []
   },
   "outputs": [],
   "source": []
  },
  {
   "cell_type": "code",
   "execution_count": null,
   "id": "a0d05400-cf65-48cd-ae5b-df87e558e6d7",
   "metadata": {
    "deletable": false,
    "editable": false,
    "nbgrader": {
     "cell_type": "code",
     "checksum": "b3d3f5a6361a9104c49d32b977df1b1f",
     "grade": true,
     "grade_id": "cell-ace1ce896c910591",
     "locked": true,
     "points": 4,
     "schema_version": 3,
     "solution": false,
     "task": false
    },
    "tags": []
   },
   "outputs": [],
   "source": []
  },
  {
   "cell_type": "code",
   "execution_count": null,
   "id": "6aa1b9a2-3e17-418d-941b-768323b362a5",
   "metadata": {
    "deletable": false,
    "editable": false,
    "nbgrader": {
     "cell_type": "code",
     "checksum": "f9ae885128cea38b5fcd2dd826ed1ba4",
     "grade": true,
     "grade_id": "cell-c8b576d9447b1b29",
     "locked": true,
     "points": 4,
     "schema_version": 3,
     "solution": false,
     "task": false
    },
    "tags": []
   },
   "outputs": [],
   "source": []
  },
  {
   "cell_type": "code",
   "execution_count": null,
   "id": "c56b84da-febd-4216-9d4a-9793656252f7",
   "metadata": {
    "deletable": false,
    "editable": false,
    "nbgrader": {
     "cell_type": "code",
     "checksum": "04db3ecc55638ca359f9e4ab798543d1",
     "grade": true,
     "grade_id": "cell-d4bf11ec4662fce0",
     "locked": true,
     "points": 3,
     "schema_version": 3,
     "solution": false,
     "task": false
    },
    "tags": []
   },
   "outputs": [],
   "source": []
  },
  {
   "cell_type": "markdown",
   "id": "98e534eb",
   "metadata": {
    "deletable": false,
    "editable": false,
    "nbgrader": {
     "cell_type": "markdown",
     "checksum": "86af336745b3942ce8d10f8aee9edcd7",
     "grade": false,
     "grade_id": "cell-922eef33455eab38",
     "locked": true,
     "schema_version": 3,
     "solution": false,
     "task": false
    },
    "tags": []
   },
   "source": [
    "# 4. Submitting <a id='4.'></a>\n",
    "Ensure all tasks and questions (in ```ex3.ipynb```) are answered and the relevant plots are recorded in the relevant places. Details about attaching images and figures can be found below. The relevant graphs to be included for this assignment are:\n",
    "\n",
    "\n",
    "- Training performance plots:\n",
    "  - `task1_e.png`: Cartpole, constant value of $\\epsilon$ training performance plots in terms of episode and smoothed episodic reward\n",
    "  - `task1_glie.png`: Cartpole, GLIE training performance plots in terms of episode and smoothed episodic reward\n",
    "  - `task3.1_e.png`: Cartpole, training performance plots of the initial estimates of the Q function at 0 \n",
    "  - `task3.2_e.png`: Cartpole, training performance plots of the initial estimates of the Q function at 50\n",
    "  - `task4_glie.png`: Luner Lander, training performance plots in terms of episode and smoothed episodic reward\n",
    "- Q-table files:\n",
    "  - `task1_q_table_e.pkl`: Cartpole, Q-table for the constant exploration rate.\n",
    "  - `task1_q_table_glie.pkl`: Cartpole, Q-table for GLIE.\n",
    "\n",
    "\n",
    "Ensure the correct model files and plots are saved:\n",
    "- ```results/CartPole-v1/task1_e.png``` From Task 1\n",
    "- ```results/CartPole-v1/task1_glie.png``` From Task 1\n",
    "- ```results/CartPole-v1/task1_q_table_e.pkl``` From Task 1\n",
    "- ```results/CartPole-v1/task1_q_table_glie.pkl``` From Task 1\n",
    "- ```results/CartPole-v1/task3.1__e.png``` From Task 3\n",
    "- ```results/CartPole-v1/task3.2__e.png``` From Task 3\n",
    "- ```results/LunarLander-v2/task4__glie.png``` From Task 4\n"
   ]
  },
  {
   "cell_type": "code",
   "execution_count": null,
   "id": "15c6c5b4",
   "metadata": {},
   "outputs": [],
   "source": [
    "# Make sure that skip training is set to True before submission\n",
    "assert skip_training == True"
   ]
  },
  {
   "cell_type": "markdown",
   "id": "4fdb3823",
   "metadata": {
    "deletable": false,
    "editable": false,
    "nbgrader": {
     "cell_type": "markdown",
     "checksum": "d69da8110b35b10bd4ef5ab4155d96b4",
     "grade": false,
     "grade_id": "cell-a63faf07dd8a1a80",
     "locked": true,
     "schema_version": 3,
     "solution": false,
     "task": false
    },
    "tags": []
   },
   "source": [
    "## 4.1 Feedback <a id='4.1'></a>\n",
    "\n",
    "In order to help the staff of the course as well as the forthcoming students, it would be great if you could answer to the following questions in your submission:"
   ]
  },
  {
   "cell_type": "markdown",
   "id": "1a19aa8d-6ce6-4688-b6f8-db0ae3caa596",
   "metadata": {
    "deletable": false,
    "editable": false,
    "nbgrader": {
     "cell_type": "markdown",
     "checksum": "c4a0cd82cb3471ab490f99840771f4a8",
     "grade": false,
     "grade_id": "cell-2a358f3dfa686d37",
     "locked": true,
     "schema_version": 3,
     "solution": false,
     "task": false
    },
    "tags": []
   },
   "source": [
    "1) How much time did you spend solving this exercise? (change the ```hrs``` variable below to a floating point number representing the number of hours taken e.g. 5.43)"
   ]
  },
  {
   "cell_type": "code",
   "execution_count": null,
   "id": "5b7c8370-ff84-4dc9-aab8-596782c55d62",
   "metadata": {
    "tags": []
   },
   "outputs": [],
   "source": [
    "hrs = 3.7"
   ]
  },
  {
   "cell_type": "markdown",
   "id": "75d254d1-ad16-4c10-87a6-72afb79d49fe",
   "metadata": {
    "deletable": false,
    "editable": false,
    "nbgrader": {
     "cell_type": "markdown",
     "checksum": "b5db50df30213990cd28c1c809e1a7b6",
     "grade": false,
     "grade_id": "cell-2139188fae1d1565",
     "locked": true,
     "schema_version": 3,
     "solution": false,
     "task": false
    },
    "tags": []
   },
   "source": [
    "2) Difficulty of each task/question from 1-5 (int or float)"
   ]
  },
  {
   "cell_type": "code",
   "execution_count": null,
   "id": "58193777-64de-4d7c-be84-249d34e1c027",
   "metadata": {
    "tags": []
   },
   "outputs": [],
   "source": [
    "T1 = 4   # Student Task 1. Implementing Q-Learning (25 points)\n",
    "T2 = 3   # Student Task 2. Visualizing the Value Function (10 points)\n",
    "Q2_1 = 3 # Student Question 2.1 Analyzing the Value Function Heatmap (15 points)\n",
    "T3 = 1   # Student Task 3. Investigating Initial Values (10 points)\n",
    "Q3_1 = 1 # Student Question 3.1 Analyzing Initial Values (5 points)\n",
    "Q3_2 = 2 # Student Question 3.2 Exploration (15 points)\n",
    "T4 = 1   # Student Task 4. Using Q-Learning on the Lunar Lander Environment (5 points)\n",
    "Q4_1 = 2 # Student Question 4.1 Lunar Lander Performance (15 points)"
   ]
  },
  {
   "cell_type": "markdown",
   "id": "af146c4d-9475-4c0b-8b43-823fc345a584",
   "metadata": {
    "deletable": false,
    "editable": false,
    "nbgrader": {
     "cell_type": "markdown",
     "checksum": "e6a70089a969d60c3c49742635867ae8",
     "grade": false,
     "grade_id": "cell-04a0666c38cd5547",
     "locked": true,
     "schema_version": 3,
     "solution": false,
     "task": false
    },
    "tags": []
   },
   "source": [
    "3) How well did you understand the content of the task/question from 1-5? (int or float)"
   ]
  },
  {
   "cell_type": "code",
   "execution_count": null,
   "id": "0f5a460a-eb5b-45e4-a091-7153416dbd43",
   "metadata": {
    "tags": []
   },
   "outputs": [],
   "source": [
    "T1 = 2   # Student Task 1. Implementing Q-Learning (25 points)\n",
    "T2 = 4   # Student Task 2. Visualizing the Value Function (10 points)\n",
    "Q2_1 = 3 # Student Question 2.1 Analyzing the Value Function Heatmap (15 points)\n",
    "T3 = 5   # Student Task 3. Investigating Initial Values (10 points)\n",
    "Q3_1 = 5 # Student Question 3.1 Analyzing Initial Values (5 points)\n",
    "Q3_2 = 3 # Student Question 3.2 Exploration (15 points)\n",
    "T4 = 5   # Student Task 4. Using Q-Learning on the Lunar Lander Environment (5 points)\n",
    "Q4_1 = 4 # Student Question 4.1 Lunar Lander Performance (15 points)"
   ]
  },
  {
   "cell_type": "markdown",
   "id": "3de4ebe0-4012-42fd-90ae-2c8e386afa4f",
   "metadata": {
    "deletable": false,
    "editable": false,
    "nbgrader": {
     "cell_type": "markdown",
     "checksum": "65c2840d9245a90678fa5ceb9a377031",
     "grade": false,
     "grade_id": "cell-05f2777fbdfab5ce",
     "locked": true,
     "schema_version": 3,
     "solution": false,
     "task": false
    },
    "tags": []
   },
   "source": [
    "4) General feedback. Consider questions like:\n",
    "\n",
    "    - Did the content of the lecture relate well with the assignment?\n",
    "    - To what extent did you find the material to be potentially useful for your research and studies?\n",
    "    \n",
    "And other feedback you think is worth including. Type in the box below"
   ]
  },
  {
   "cell_type": "markdown",
   "id": "d67c9543-3652-4311-ad4d-6b6a087e5587",
   "metadata": {
    "tags": []
   },
   "source": [
    "Will definitely look back at the code structure and indications for future reinforcement learning problems"
   ]
  }
 ],
 "metadata": {
  "kernelspec": {
   "display_name": "Python 3",
   "language": "python",
   "name": "python3"
  },
  "language_info": {
   "codemirror_mode": {
    "name": "ipython",
    "version": 3
   },
   "file_extension": ".py",
   "mimetype": "text/x-python",
   "name": "python",
   "nbconvert_exporter": "python",
   "pygments_lexer": "ipython3",
   "version": "3.10.12"
  }
 },
 "nbformat": 4,
 "nbformat_minor": 5
}
