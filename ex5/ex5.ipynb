{
 "cells": [
  {
   "cell_type": "markdown",
   "id": "e9b29c9b",
   "metadata": {
    "deletable": false,
    "editable": false,
    "nbgrader": {
     "cell_type": "markdown",
     "checksum": "24cdaedcd4b5dfe347328615bb32c2c1",
     "grade": false,
     "grade_id": "cell-afd59c116a3ed810",
     "locked": true,
     "schema_version": 3,
     "solution": false,
     "task": false
    }
   },
   "source": [
    "\n",
    "<div class=\"alert alert-block alert-info\">\n",
    "   <h2 align=\"center\"> <center><b> Reinforcement Learning Assignment 5 - Policy Gradient </b></center></h2>\n",
    "\n",
    "<br>\n",
    "<center><font size=\"3\">This notebook is a part of teaching material for ELEC-E8125</font></center>\n",
    "<center><font size=\"3\">Sep 4, 2024 - Nov 30, 2024</font></center>\n",
    "<center><font size=\"3\">Aalto University</font></center>\n",
    "</div>\n",
    "\n",
    "\n",
    "<a id='TOC'></a>\n",
    "\n",
    "<div class=\"alert alert-block alert-success\">\n",
    " \n",
    "# Table of contents\n",
    "* <a href='#1.'> 1. Introduction </a>\n",
    "* <a href='#1.1'> 1.1 Learning Objectives </a>\n",
    "* <a href='#1.2'> 1.2 Code Structure & Files </a>\n",
    "* <a href='#2.'> 2. Policy gradient with and without baseline</a>\n",
    "* <a href='#2.1'> 2.1 Training Loop</a>\n",
    "* <a href='#2.2'> 2.2 Policy with Fixed Variance </a>\n",
    "* <a href='#2.3'> 2.3 PG Objects</a>\n",
    "* <a href='#3.'> 3. Choosing the value of variance </a>\n",
    "* <a href='#3.1'> 3.1 Policy with Learned Variance </a>\n",
    "* <a href='#4.'> 4. PG and experience replay </a>\n",
    "* <a href='#5.'> 5. Real-world control problems </a>\n",
    "* <a href='#6.'> 6. Discrete action spaces </a>\n",
    "* <a href='#7.'> 7. Submitting </a>\n",
    "* <a href='#7.1'> 7.1 Feedback </a>\n",
    "* <a href='#8.'> References</a>\n",
    "\n",
    "<a href='#T1'><b>Student Task 1.</b> Implementing Reinforce PG algorithm </a>\\\n",
    "<a href='#T1a'><b>Student Task 1a.</b> Basic REINFORCE without baseline (15 points) </a>\\\n",
    "<a href='#T1b'><b>Student Task 1b.</b> REINFORCE with a constant baseline b = 20 (5 points) </a>\\\n",
    "<a href='#T1c'><b>Student Task 1c.</b> REINFORCE with discounted rewards normalized to zero mean and unit variance (5 points) </a>\\\n",
    "<a href='#Q1'><b>Student Question 1.1</b> A good baseline (15 points) </a>\\\n",
    "<a href='#T2'><b>Student Task 2.</b> Making Variance a Learnable Parameter (10 points) </a>\\\n",
    "<a href='#Q2'><b>Student Question 2.1</b> Constant vs Learnable Variance (5 points) </a>\\\n",
    "<a href='#Q3'><b>Student Question 2.2</b> Learnable Variance Initial Performance (5 points) </a> \\\n",
    "<a href='#Q4'><b>Student Question 3.</b> Considering a experience reply buffer (15 points)</a>\\\n",
    "<a href='#Q5'><b>Student Question 4.1</b> Considering an unbounded continuous action space part 1(5 points) </a>\\\n",
    "<a href='#Q6'><b>Student Question 4.2</b> Considering an unbounded continuous action space part 2 (10 points) </a>\\\n",
    "<a href='#Q7'><b>Student Question 5.</b> Considering discrete action spaces (10 points)</a>\n",
    "    \n",
    "**Total Points:** 100\n",
    "\n",
    "**Estimated runtime of all the cells:** 2 hours"
   ]
  },
  {
   "cell_type": "markdown",
   "id": "50c043fb",
   "metadata": {
    "deletable": false,
    "editable": false,
    "nbgrader": {
     "cell_type": "markdown",
     "checksum": "82ec0ae01bfbd06b245720b831476b14",
     "grade": false,
     "grade_id": "cell-ad52c038bf5d1c50",
     "locked": true,
     "schema_version": 3,
     "solution": false,
     "task": false
    }
   },
   "source": [
    "# 1. Introduction <a id='1.'></a>\n",
    "In this exercise, we will implement the REINFORCE policy gradient algorithm for [InvertedPendulum environment](https://gymnasium.farama.org/environments/mujoco/inverted_pendulum/). The InvertedPendulum is similar to the previously used CartPole environment, except it has a continuous action space: the action can now have values in a range of [−3,3]. The action value represents a numerical force applied to the cart, with magnitude representing the amount of force and sign representing the direction.\n",
    "\n",
    "## 1.2 Learning Objectives <a id='1.2'></a>\n",
    "- To understand how policy gradient works\n",
    "- To implement the REINFORCE policy gradient algorithm\n",
    "- To understand the limits and use cases of policy gradient\n",
    "\n",
    "## 1.3 Code Structure and Files <a id='1.3'></a>\n",
    "You don’t have to edit any other file other than ```ex5.ipynb``` to complete this exercise.\n",
    "\n",
    "```\n",
    "├───cfg                  # Config files for environments e.g. define the maximum number of steps in an episode.\n",
    "├───imgs                 # Images used in notebook\n",
    "├───results \n",
    "│   ├───logging          # Contains logged data\n",
    "│   ├───model            # Contains the policies learned\n",
    "│   └───video            # Contains videos for each environment\n",
    "│       └───InvertedPendulum-v4\n",
    "│       │  └───test      # Videos saved during testing\n",
    "│       │  └───train     # Videos saved during training\n",
    "│   ex5.ipynb            # Main assignment file containing tasks <---------\n",
    "│   setup.py             # Contains setup function\n",
    "│   utils.py             # Contains useful functions \n",
    "```\n",
    "---\n",
    "The foundational class, `PG`, stands as the base class for the Policy Gradient. Three additional classes - `PGNoBase(PG)`, `PGBase20(PG)`, and `PGGamma(PG)` - inherit from this base class. Each class corresponds to a different variant of the policy gradient:\n",
    "\n",
    "- `PGNoBase(PG)`: Implements the vanilla Policy Gradient without a baseline.\n",
    "- `PGBase20(PG)`: Utilizes a baseline of 20.\n",
    "- `PGGamma(PG)`: Employs PG gamma with discounted rewards normalized to zero mean and unit variance.\n",
    "\n",
    "# 2. Policy gradient with and without baseline <a id='2.'></a>"
   ]
  },
  {
   "cell_type": "markdown",
   "id": "298df828",
   "metadata": {
    "deletable": false,
    "editable": false,
    "nbgrader": {
     "cell_type": "markdown",
     "checksum": "8e9d507428e153788d3bffa9d165dc4e",
     "grade": false,
     "grade_id": "cell-46a132ec9dcfe4ac",
     "locked": true,
     "schema_version": 3,
     "solution": false,
     "task": false
    }
   },
   "source": [
    "## Warnings:\n",
    "\n",
    "- Don’t copy and paste cells within a notebook. This will mess up the tracking metadata and prevent autograding from working.\n",
    "- Only add new cells using the '+' button in the upper toolbar and do not split cells.\n",
    "- Be cautious about things such as copying the whole notebook to Colab to work on it. This has sometimes resulted in removing all notebook metadata, making autograding impossible."
   ]
  },
  {
   "cell_type": "markdown",
   "id": "7aabd7b5",
   "metadata": {
    "deletable": false,
    "editable": false,
    "nbgrader": {
     "cell_type": "markdown",
     "checksum": "46cf9e8cd6b3dfa2c69dcf9ebd86720f",
     "grade": false,
     "grade_id": "cell-f93aed21b4a0d27f",
     "locked": true,
     "schema_version": 3,
     "solution": false,
     "task": false
    },
    "tags": []
   },
   "source": [
    "<a id='T1'></a>\n",
    "<div class=\" alert alert-warning\">\n",
    "    <h3><b>Student Task 1.</b> Implementing Reinforce PG algorithm (25 points) </h3> \n",
    "\n",
    "Implement the REINFORCE policy gradient algorithm to balance the InvertedPendulum. \n",
    "<br> Use constant standard deviation $\\sigma = 1$ (i.e. $\\log(\\sigma) = 0$) for the output action distribution throughout the training. Implement:\n",
    "\n",
    "&nbsp;&nbsp;&nbsp;&nbsp;&nbsp;&nbsp; (a) basic REINFORCE without baseline (15 points),\n",
    "\n",
    "&nbsp;&nbsp;&nbsp;&nbsp;&nbsp;&nbsp; (b) REINFORCE with a constant baseline b = 20 (5 points),\n",
    "\n",
    "&nbsp;&nbsp;&nbsp;&nbsp;&nbsp;&nbsp; (c) REINFORCE with discounted rewards normalized to zero mean and unit variance (5 points),\n",
    "    \n",
    "**Complete the all the unfinished implementation in following cells (marked with ```TODOs```)**. \n",
    "    \n",
    "1. **Train Loop Function**: Finalize the `train_iteration(agent, env)` function to establish the training loop, similarly to how it was done in Exercise 1.\n",
    "2. **Policy Class with Fixed Variance**: Complete the `PolicyFixedVar(nn.Module)` class to generate a policy with a fixed variance.\n",
    "3. **Get Action Method**: Finish the `get_action(self, observation, evaluation=False)` method within the `PG` class, ensuring it can be inherited effectively.\n",
    "4. **Complete PG Classes**: Implepment the `PGNoBase(PG)`, `PGBase20(PG)`, and `PGGamma(PG)` classes, each tailored with a different baseline.\n",
    "\n",
    "**Hint:** The ```class PolicyFixedVar(nn.Module)```  contains a basic neural network structure. And we include reasonable\n",
    "hyperparameters in the ```cfg``` folder.\n",
    "\n",
    "**Hint:** Your policy should output a probability distribution over actions. A suitable and straightforward choice is to use a normal distribution (`from torch.distributions import Normal`). Compute log probabilities using the `log_prob` function of the distribution. We strongly recommend you to read the official PyTorch documentation to learn how to use the distributions and related functions.\n",
    "    \n",
    "🔝\t<a href='#TOC'><b>Table of Contents</b></a>\n",
    "</div>\n"
   ]
  },
  {
   "cell_type": "code",
   "execution_count": 10,
   "id": "0ca4ce4c",
   "metadata": {
    "tags": []
   },
   "outputs": [],
   "source": [
    "skip_training = False  # Set this flag to True before validation and submission"
   ]
  },
  {
   "cell_type": "code",
   "execution_count": null,
   "id": "9140b77c",
   "metadata": {
    "deletable": false,
    "editable": false,
    "nbgrader": {
     "cell_type": "code",
     "checksum": "414e47f15fa3b52031225c1d85f7c4ad",
     "grade": true,
     "grade_id": "cell-b087b63d5c88b12c",
     "locked": true,
     "points": 0,
     "schema_version": 3,
     "solution": false,
     "task": false
    }
   },
   "outputs": [],
   "source": []
  },
  {
   "cell_type": "code",
   "execution_count": 11,
   "id": "46471b1e-91d6-48bb-bb0d-f3de4be1aa79",
   "metadata": {
    "tags": []
   },
   "outputs": [],
   "source": [
    "# Importing system and path-related modules\n",
    "import sys\n",
    "import os\n",
    "sys.path.insert(0, os.path.abspath(\"..\"))\n",
    "\n",
    "# Importing PyTorch related modules\n",
    "import torch\n",
    "from torch import nn\n",
    "from torch.distributions import Normal\n",
    "import torch.nn.functional as F\n",
    "\n",
    "# Importing other third-party modules\n",
    "import numpy as np\n",
    "import yaml\n",
    "from pathlib import Path\n",
    "from IPython.display import Video  # to display videos\n",
    "\n",
    "# Importing local utility modules\n",
    "import utils as u\n",
    "from setup import setup\n",
    "\n",
    "# Setting the device for storing tensors/calculations\n",
    "device = 'cpu'"
   ]
  },
  {
   "cell_type": "markdown",
   "id": "a55e45ae",
   "metadata": {
    "tags": []
   },
   "source": [
    "## 2.1 Training Loop <a id='2.1'></a>\n",
    "\n",
    "In the subsequent cell, a foundational framework is provided for training a Reinforcement Learning (RL) agent employing the REINFORCE algorithm. It is constructed to efficiently monitor the agent's progress and performance throughout the training phase. Please complete the training loop, marked with `TODO`, to finalize the setup for the agent’s training process."
   ]
  },
  {
   "cell_type": "code",
   "execution_count": 29,
   "id": "428ff872",
   "metadata": {
    "tags": []
   },
   "outputs": [],
   "source": [
    "def to_numpy(tensor):\n",
    "    \"\"\"\n",
    "    Convert a PyTorch tensor to a NumPy array.\n",
    "\n",
    "    :param tensor: A PyTorch tensor.\n",
    "    :return: The converted NumPy array.\n",
    "    \"\"\"\n",
    "    # Squeeze the tensor, move it to CPU and convert to NumPy array\n",
    "    return tensor.squeeze(0).cpu().numpy()\n",
    "\n",
    "\n",
    "def train_iteration(agent, env):\n",
    "    # Policy training function\n",
    "\n",
    "    # Reset the environment and observe the initial state\n",
    "    reward_sum, timesteps, done = 0, 0, False\n",
    "    obs, _ = env.reset(seed=409)\n",
    "\n",
    "    while not done:\n",
    "        # TODO: Task 1: finish the train loop, including \n",
    "        # 1. Call agent.get_action to get action and log prob of the action\n",
    "        # 2. Call env.step with the action (note: you need to convert the action into a numpy array -- use the function to_numpy for this)\n",
    "        #   (Steps 1. and 2. you can also find from the 'test' function below)\n",
    "        # 3. Store the log prob of action and reward by calling agent.record\n",
    "        # 4. Update reward_sum by adding the reward received from env.step, and increase timesteps by one\n",
    "        # 5. Use the observation you receive from env.step to call agent.get_action for the next timestep \n",
    "        #   (Hint: ensure to use the `.copy()` method to avoid unexpected behavior due to aliasing.)\n",
    "\n",
    "        ########### Your code starts here ###########\n",
    "        # Get action from the agent\n",
    "        action, log_prob = agent.get_action(obs)\n",
    "        # Perform the action on the environment, get new state and reward\n",
    "        obs, reward, done, _, _ = env.step(to_numpy(action))\n",
    "        # Store agent's and env's outcome (so that the agent can improve its policy)\n",
    "        agent.record(log_prob, reward)\n",
    "        # Store total episode reward\n",
    "        reward_sum += reward\n",
    "        timesteps += 1\n",
    "        # update observation\n",
    "        obs = obs.copy()\n",
    "        ########## Your codes ends here. ##########\n",
    "        if timesteps >= 1000:\n",
    "            done = True\n",
    "            \n",
    "    # Update the policy after one episode\n",
    "    info = agent.update()\n",
    "\n",
    "    # Return stats of training\n",
    "    info.update({'timesteps': timesteps,\n",
    "                'ep_reward': reward_sum,})\n",
    "    return info\n",
    "\n",
    "\n",
    "def train(agent_class, cfg_path, cfg_args={}):\n",
    "    env, cfg = setup(cfg_path, cfg_args=cfg_args)\n",
    "    performance_data = []\n",
    "    \n",
    "    if cfg.save_logging: \n",
    "        u.make_dir(Path().cwd()/'results'/cfg.env_name/\"logging\")\n",
    "        L = u.Logger() # create a simple logger to record stats\n",
    "        \n",
    "    # Get state and action dimensionality\n",
    "    state_dim = env.observation_space.shape[0]\n",
    "    action_dim = env.action_space.shape[0]\n",
    "\n",
    "    # Initialise the policy gradient agent\n",
    "    agent = agent_class(state_dim, action_dim, float(cfg.lr), float(cfg.gamma))\n",
    "    \n",
    "    for ep in range(cfg.train_episodes):\n",
    "        # collect data and update the policy\n",
    "        train_info = train_iteration(agent, env)\n",
    "        train_info.update({'episodes': ep})\n",
    "\n",
    "        if cfg.save_logging:\n",
    "            L.log(**train_info)\n",
    "        if (not cfg.silent) and (ep % 100 == 0):\n",
    "            print({\"ep\": ep, **train_info})\n",
    "\n",
    "        performance_data.append(train_info)\n",
    "        \n",
    "    u.plot_training_data(performance_data)\n",
    "    if cfg.save_model:\n",
    "        agent.save(cfg.model_path)\n",
    "    \n",
    "    print(\"Training complete!\")\n",
    "    \n",
    "\n",
    "# Function to test a trained policy\n",
    "@torch.no_grad()\n",
    "def test(agent_class, cfg_path, cfg_args={}, num_episodes=5, seeds=None):\n",
    "    env, cfg = setup(cfg_path, cfg_args=cfg_args)\n",
    "    \n",
    "    # Get state and action dimensionality\n",
    "    state_dim = env.observation_space.shape[0]\n",
    "    action_dim = env.action_space.shape[0]\n",
    "\n",
    "    # Initialise the policy gradient agent\n",
    "    agent = agent_class(state_dim, action_dim, float(cfg.lr), float(cfg.gamma))\n",
    "    \n",
    "    print(\"Loading model from\", cfg.model_path, \"...\")\n",
    "    agent.load(cfg.model_path)\n",
    "        \n",
    "    test_rewards = []\n",
    "    for ep in range(num_episodes):\n",
    "\n",
    "        if seeds != None:\n",
    "            test_seed = seeds[ep % len(seeds)]\n",
    "            print(\"Episode seed: \", test_seed)\n",
    "            (obs, _)  = env.reset(seed=test_seed)\n",
    "        else :\n",
    "            (obs, _)  = env.reset()\n",
    "        done=  False\n",
    "        test_reward = 0\n",
    "        timesteps = 0\n",
    "        \n",
    "        while not done:\n",
    "            # Similar to the training loop above -\n",
    "            # get the action, act on the environment, save total reward\n",
    "            # (evaluation=True makes the agent always return what it thinks to be\n",
    "            # the best action - there is no exploration at this point)\n",
    "            action, _ = agent.get_action(obs, evaluation=True)\n",
    "\n",
    "            \n",
    "            obs, reward, done, _, info = env.step(to_numpy(action))\n",
    "            timesteps += 1\n",
    "            test_reward += reward\n",
    "            \n",
    "            if timesteps >= 1000:\n",
    "                done = True\n",
    "        test_rewards.append(test_reward)\n",
    "\n",
    "        print(\"Test ep_reward:\", test_reward)\n",
    "\n",
    "    print(\"Median test reward:\", np.median(test_rewards))"
   ]
  },
  {
   "cell_type": "markdown",
   "id": "ac054ea1",
   "metadata": {},
   "source": [
    "## 2.2 Policy with Fixed Variance <a id='2.2'></a>\n",
    "\n",
    "This code is designed to establish a neural network policy where the variance is constant. The `PolicyFixedVar` class, which is a subclass of `nn.Module`, defines this policy. The policy uses a neural network to map states to actions, outputting a normal distribution with a mean and a standard deviation. \n",
    "\n",
    "#### Task:\n",
    "1. **Implementing actor_logstd:**\n",
    "   - Initialize `self.actor_logstd` as a torch tensor with zeros, ensuring to set the `device` parameter for appropriate storage.\n",
    "\n",
    "2. **Create and Return Distribution:**\n",
    "   - In the `forward` method, create a Normal distribution (`probs`) with the computed `action_mean` and `action_std`. This distribution represents the policy’s output given a state input."
   ]
  },
  {
   "cell_type": "code",
   "execution_count": 17,
   "id": "77a5cc6b",
   "metadata": {
    "tags": []
   },
   "outputs": [],
   "source": [
    "# Initialisation function for neural network layers\n",
    "def layer_init(layer, std=np.sqrt(2), bias_const=0.0):\n",
    "    torch.nn.init.orthogonal_(layer.weight, std)\n",
    "    torch.nn.init.constant_(layer.bias, bias_const)\n",
    "    return layer\n",
    "\n",
    "\n",
    "# This class defines the neural network policy\n",
    "class PolicyFixedVar(nn.Module):\n",
    "    def __init__(self, state_dim, action_dim):\n",
    "        super(PolicyFixedVar, self).__init__()\n",
    "\n",
    "        # Initialise a neural network with two hidden layers (64 neurons per layer)\n",
    "        self.actor_mean = nn.Sequential(\n",
    "            layer_init(nn.Linear(state_dim, 64)),\n",
    "            nn.Tanh(),\n",
    "            layer_init(nn.Linear(64, 64)),\n",
    "            nn.Tanh(),\n",
    "            layer_init(nn.Linear(64, action_dim), std=0.01),\n",
    "        )\n",
    "\n",
    "        # TODO: Task 1: Implement actor_logstd as a torch tensor. \n",
    "        # Hint: when creating the torch tensor, remember to set the parameter device=device \n",
    "        #       so the tensor is stored correctly on CUDA (if applicable) \n",
    "        ########## Your code starts here. ###########\n",
    "        self.actor_logstd = torch.zeros(action_dim, device=device)\n",
    "        ########## Your code ends here. ##########\n",
    "\n",
    "    # Do a forward pass to map state to action\n",
    "    def forward(self, state):\n",
    "        # Get mean of a Normal distribution (the output of the neural network)\n",
    "        action_mean = self.actor_mean(state)\n",
    "\n",
    "        # Make sure action_logstd matches dimension of action_mean\n",
    "        action_logstd = self.actor_logstd.expand_as(action_mean)\n",
    "\n",
    "        # Exponentiate the log std to get actual std\n",
    "        action_std = torch.exp(action_logstd)\n",
    "\n",
    "        # TODO: Task 1: Create a Normal distribution with mean of 'action_mean' and standard deviation of 'action_std', and return the distribution\n",
    "        # Use the torch.distributions class\n",
    "        ########## Your code starts here. ###########\n",
    "        probs = Normal(action_mean, action_std)\n",
    "        ########## Your code ends here. ##########\n",
    "        return probs"
   ]
  },
  {
   "cell_type": "code",
   "execution_count": 18,
   "id": "b677a295",
   "metadata": {
    "deletable": false,
    "editable": false,
    "nbgrader": {
     "cell_type": "code",
     "checksum": "e673d7a1cb02204c75f9b5ea389b7d84",
     "grade": true,
     "grade_id": "cell-8e7d3a4799495ca0",
     "locked": true,
     "points": 0,
     "schema_version": 3,
     "solution": false,
     "task": false
    }
   },
   "outputs": [],
   "source": [
    "# Test Policy\n",
    "def test_return_class():\n",
    "    policy = PolicyFixedVar(4, 1)\n",
    "    x = torch.Tensor((1.,2.,3.,4.)).reshape((1,4))\n",
    "    assert isinstance( policy.forward(x),Normal)\n",
    "\n",
    "test_return_class()"
   ]
  },
  {
   "cell_type": "markdown",
   "id": "4de05f7e",
   "metadata": {},
   "source": [
    "## 2.3 PG Objects <a id='2.3'></a>\n",
    "\n",
    "The `PG` class is defined as the Policy Gradient base class. This class forms the foundation for implementing policy gradient algorithms, providing a structured format and placeholders for essential functions and variables used in these algorithms. The methods within this class will be used to interact with, update, and manage the policy used by the agent to make decisions in the environment.\n",
    "\n",
    "Task: Implementing the `get_action` Method."
   ]
  },
  {
   "cell_type": "code",
   "execution_count": 19,
   "id": "7e300959",
   "metadata": {
    "tags": []
   },
   "outputs": [],
   "source": [
    "# Class for the Policy Gradient algorithm\n",
    "class PG(object):\n",
    "    def __init__(self, state_dim, action_dim, lr, gamma):\n",
    "        # Define the neural network policy with fixed variance \n",
    "        self.policy = PolicyFixedVar(state_dim, action_dim).to(device)\n",
    "\n",
    "        # Create an optimizer\n",
    "        self.optimizer = torch.optim.Adam(self.policy.parameters(), lr=lr)\n",
    "\n",
    "        # Set discount factor value\n",
    "        self.gamma = gamma\n",
    "\n",
    "        # Simple buffers for action probabilities and rewards\n",
    "        self.action_probs = []\n",
    "        self.rewards = []\n",
    "\n",
    "    def update(self):\n",
    "        pass\n",
    "\n",
    "    def record(self, action_prob, reward):\n",
    "        \"\"\" Store agent's and env's outcomes to update the agent.\"\"\"\n",
    "        self.action_probs.append(action_prob)\n",
    "        self.rewards.append(torch.tensor([reward]))\n",
    "\n",
    "    def save(self, filepath):\n",
    "        torch.save(self.policy.state_dict(), filepath)\n",
    "\n",
    "    def load(self, filepath):\n",
    "        self.policy.load_state_dict(torch.load(filepath))\n",
    "    \n",
    "    def get_action(self, observation, evaluation=False):\n",
    "        \"\"\"Return action and logprob of this action.\"\"\"\n",
    "\n",
    "        # Add batch dimension if necessary\n",
    "        if observation.ndim == 1: \n",
    "            observation = observation[None]\n",
    "\n",
    "        # Convert observation to a torch tensor\n",
    "        x = torch.from_numpy(observation).float().to(device)\n",
    "\n",
    "        # TODO: Task 1: Calculate action and its log_prob\n",
    "        ########## Your code starts here. ###########\n",
    "        # Hint: \n",
    "        #   1. when evaluation=True, return mean, otherwise return samples from the distribution created in self.policy.forward() function.\n",
    "        #   2. notice the shape of action and act_logprob.\n",
    "        \n",
    "        # Pass state x through the policy network (T1)\n",
    "        dist = self.policy(x)\n",
    "        # Return mean if evaluation, else sample from the distribution\n",
    "        if evaluation:\n",
    "            action = dist.mean\n",
    "        else:   \n",
    "            action = dist.sample()\n",
    "        # Calculate the log probability of the action (T1)\n",
    "        act_logprob = dist.log_prob(action).sum(axis=-1)\n",
    "        ########## Your code ends here. ##########\n",
    "        \n",
    "        if observation.ndim == 1: \n",
    "            action = action[0]\n",
    "\n",
    "        return action, act_logprob"
   ]
  },
  {
   "cell_type": "markdown",
   "id": "61981975",
   "metadata": {},
   "source": [
    "<a id='T1a'></a>\n",
    "<div class=\" alert alert-warning\">\n",
    "    <h3><b>Student Task 1a.</b> Basic REINFORCE without baseline (15 points) </h3> \n",
    "The training performance plot might look like Figure 1a. \n",
    "    <figure style=\"text-align: center\">\n",
    "    <img src=\"imgs/PGNoBase.svg\" width=\"600px\">\n",
    "    <figcaption style=\"text-align: center\"> Figure 1a: REINFORCE without baseline. </figcaption>\n",
    "    </figure>\n",
    "    \n",
    "🔝\t<a href='#TOC'><b>Table of Contents</b></a>\n",
    "</div>\n"
   ]
  },
  {
   "cell_type": "code",
   "execution_count": 24,
   "id": "e164da7c",
   "metadata": {
    "tags": []
   },
   "outputs": [],
   "source": [
    "class PGNoBase(PG):\n",
    "    def __init__(self, state_dim, action_dim, lr, gamma):\n",
    "        super().__init__(state_dim, action_dim, lr, gamma)\n",
    "\n",
    "    # TODO: Task 1: Implement the policy gradient\n",
    "    # Complete the following 2 functions\n",
    "    # Hints:\n",
    "    #   1. compute discounted rewards (use the discount_rewards function offered in common.helper)\n",
    "    #   2. compute the policy gradient loss\n",
    "    \n",
    "    # Compute discounted rewards \n",
    "    def calculate_discounted_rewards(self, rewards):\n",
    "        ########## Your code starts here. ##########\n",
    "        discounted_rewards = u.discount_rewards(rewards, self.gamma)\n",
    "        ########## Your code ends here. ##########\n",
    "        return discounted_rewards\n",
    "\n",
    "    # Calculate the PG loss\n",
    "    def calculate_loss(self, action_probs, discounted_rewards):\n",
    "        ########## Your code starts here. ##########\n",
    "        loss = -torch.mean(action_probs * discounted_rewards)\n",
    "        ########## Your code ends here. ##########\n",
    "        return loss\n",
    "    \n",
    "    def update(self):\n",
    "        # Prepare dataset used to update policy\n",
    "        action_probs = torch.stack(self.action_probs, dim=0).to(device).squeeze(-1) # shape: [batch_size,]\n",
    "        rewards = torch.stack(self.rewards, dim=0).to(device).squeeze(-1) # shape [batch_size,]\n",
    "        self.action_probs, self.rewards = [], [] # clean buffers\n",
    "        \n",
    "        # Task 1: Implement the policy gradient\n",
    "        \n",
    "        # Compute discounted rewards \n",
    "        discounted_rewards = self.calculate_discounted_rewards(rewards)\n",
    "\n",
    "        # Calculate the PG loss\n",
    "        loss = self.calculate_loss(action_probs, discounted_rewards)\n",
    "       \n",
    "        # Backprop gradients\n",
    "        loss.backward()  \n",
    "\n",
    "        # Do the optimizer step \n",
    "        self.optimizer.step() \n",
    "        self.optimizer.zero_grad() \n",
    "\n",
    "        # if you want to log something in wandb, you can put them inside the {}, otherwise, just leave it empty.\n",
    "        return {'logstd': self.policy.actor_logstd.cpu().detach().numpy()}"
   ]
  },
  {
   "cell_type": "code",
   "execution_count": 30,
   "id": "63656ac2",
   "metadata": {
    "deletable": false,
    "editable": false,
    "nbgrader": {
     "cell_type": "code",
     "checksum": "58227601cec76e5daee3bee9f5cb8f0c",
     "grade": true,
     "grade_id": "cell-170a359e31be5be6",
     "locked": true,
     "points": 0,
     "schema_version": 3,
     "solution": false,
     "task": false
    }
   },
   "outputs": [
    {
     "name": "stdout",
     "output_type": "stream",
     "text": [
      "Numpy/Torch/Random Seed:  43\n"
     ]
    }
   ],
   "source": [
    "%%capture --no-stdout\n",
    "\"TEST CELL\"\n",
    "#Test get_action method\n",
    "def test_get_action_1():\n",
    "    cfg_path=Path().cwd()/'cfg'/'inverted_pendulum.yaml'\n",
    "    env, cfg = setup(cfg_path, cfg_args={\"model_name\":\"PG\",\"seed\": 43})\n",
    "    state_dim = env.observation_space.shape[0]\n",
    "    action_dim = env.action_space.shape[0]\n",
    "    agent = PG(state_dim, action_dim, float(cfg.lr), float(cfg.gamma))\n",
    "    obs = np.array( [0.00565713,  0.00385536, -0.09085017,  0.20961052] )\n",
    "    action = -0.0009746950818225741\n",
    "    assert np.allclose(agent.get_action(obs,True)[0].item(),action,0.001)\n",
    "    \n",
    "    agent2 = PG(state_dim, 3, float(cfg.lr), float(cfg.gamma))\n",
    "    assert tuple(agent2.get_action(obs,True)[1].shape) == (1,)\n",
    "\n",
    "test_get_action_1()"
   ]
  },
  {
   "cell_type": "code",
   "execution_count": 31,
   "id": "d27e7ee9",
   "metadata": {
    "deletable": false,
    "editable": false,
    "nbgrader": {
     "cell_type": "code",
     "checksum": "5e264785d47b98f7c755dac88b8a7a3d",
     "grade": true,
     "grade_id": "cell-01beb3c8be62ffc0",
     "locked": true,
     "points": 10,
     "schema_version": 3,
     "solution": false,
     "task": false
    }
   },
   "outputs": [],
   "source": [
    "%%capture --no-stdout\n",
    "\"TEST CELL\""
   ]
  },
  {
   "cell_type": "code",
   "execution_count": 32,
   "id": "2f72fee2",
   "metadata": {
    "tags": []
   },
   "outputs": [
    {
     "name": "stdout",
     "output_type": "stream",
     "text": [
      "Numpy/Torch/Random Seed:  22\n",
      "{'ep': 0, 'logstd': array([0.], dtype=float32), 'timesteps': 5, 'ep_reward': 5.0, 'episodes': 0}\n",
      "{'ep': 100, 'logstd': array([0.], dtype=float32), 'timesteps': 6, 'ep_reward': 6.0, 'episodes': 100}\n",
      "{'ep': 200, 'logstd': array([0.], dtype=float32), 'timesteps': 5, 'ep_reward': 5.0, 'episodes': 200}\n",
      "{'ep': 300, 'logstd': array([0.], dtype=float32), 'timesteps': 59, 'ep_reward': 59.0, 'episodes': 300}\n",
      "{'ep': 400, 'logstd': array([0.], dtype=float32), 'timesteps': 54, 'ep_reward': 54.0, 'episodes': 400}\n",
      "{'ep': 500, 'logstd': array([0.], dtype=float32), 'timesteps': 59, 'ep_reward': 59.0, 'episodes': 500}\n",
      "{'ep': 600, 'logstd': array([0.], dtype=float32), 'timesteps': 55, 'ep_reward': 55.0, 'episodes': 600}\n",
      "{'ep': 700, 'logstd': array([0.], dtype=float32), 'timesteps': 114, 'ep_reward': 114.0, 'episodes': 700}\n",
      "{'ep': 800, 'logstd': array([0.], dtype=float32), 'timesteps': 175, 'ep_reward': 175.0, 'episodes': 800}\n",
      "{'ep': 900, 'logstd': array([0.], dtype=float32), 'timesteps': 220, 'ep_reward': 220.0, 'episodes': 900}\n"
     ]
    },
    {
     "data": {
      "image/png": "[encoded data removed]",
      "text/plain": [
       "<Figure size 450x350 with 1 Axes>"
      ]
     },
     "metadata": {},
     "output_type": "display_data"
    },
    {
     "name": "stdout",
     "output_type": "stream",
     "text": [
      "Training complete!\n"
     ]
    }
   ],
   "source": [
    "if not skip_training:\n",
    "    train(PGNoBase, cfg_path=Path().cwd() / 'cfg' / 'inverted_pendulum.yaml', cfg_args=dict(model_name=\"PGNoBase\")) # < 7 mins"
   ]
  },
  {
   "cell_type": "code",
   "execution_count": 33,
   "id": "09ab5a2e",
   "metadata": {
    "tags": []
   },
   "outputs": [
    {
     "name": "stdout",
     "output_type": "stream",
     "text": [
      "Numpy/Torch/Random Seed:  22\n",
      "Loading model from /notebooks/rl2025/ex5/results/InvertedPendulum-v4/model/PGNoBase_params.pt ...\n",
      "Test ep_reward: 1000.0\n",
      "Test ep_reward: 1000.0\n",
      "Test ep_reward: 1000.0\n",
      "Test ep_reward: 1000.0\n",
      "Test ep_reward: 1000.0\n",
      "Median test reward: 1000.0\n"
     ]
    }
   ],
   "source": [
    "if not skip_training:\n",
    "    test(PGNoBase, cfg_path=Path().cwd() / 'cfg' / 'inverted_pendulum.yaml', cfg_args=dict(model_name=\"PGNoBase\", save_video=True, testing=True)) "
   ]
  },
  {
   "cell_type": "code",
   "execution_count": null,
   "id": "2714f3db",
   "metadata": {
    "deletable": false,
    "editable": false,
    "nbgrader": {
     "cell_type": "code",
     "checksum": "6c2e40d8dc91bbf04c0c774bcec4807f",
     "grade": true,
     "grade_id": "cell-88ff36aa060ed0d0",
     "locked": true,
     "points": 1,
     "schema_version": 3,
     "solution": false,
     "task": false
    }
   },
   "outputs": [],
   "source": []
  },
  {
   "cell_type": "code",
   "execution_count": 34,
   "id": "e5178279",
   "metadata": {
    "deletable": false,
    "editable": false,
    "nbgrader": {
     "cell_type": "code",
     "checksum": "f1773f5d1773107777dffbcfb71019cf",
     "grade": true,
     "grade_id": "cell-9efc8886a62a7f68",
     "locked": true,
     "points": 2,
     "schema_version": 3,
     "solution": false,
     "task": false
    }
   },
   "outputs": [
    {
     "name": "stdout",
     "output_type": "stream",
     "text": [
      "Numpy/Torch/Random Seed:  43\n"
     ]
    }
   ],
   "source": [
    "%%capture --no-stdout\n",
    "\"TEST CELL\"\n",
    "def test_pgnobase_update_1():\n",
    "    agent_class = PGNoBase\n",
    "    cfg_path=Path().cwd() / 'cfg' / 'inverted_pendulum.yaml'\n",
    "    cfg_args=dict(model_name=\"PGNoBase\", seed=43)\n",
    "    env, cfg = setup(cfg_path, cfg_args=cfg_args)\n",
    "\n",
    "    state_dim = env.observation_space.shape[0]\n",
    "    action_dim = env.action_space.shape[0]\n",
    "\n",
    "    agent = agent_class(state_dim, action_dim, float(cfg.lr), float(cfg.gamma))\n",
    "\n",
    "    test_reward = torch.Tensor([1., 1., 1., 1., 1., 1., 1., 1.])\n",
    "    test_action_prob = torch.Tensor([-2.4205, -2.1635, -1.2791, -1.2655, -0.9205, -0.9366, -4.9679, -2.1623])\n",
    "    test_discounted_reward = torch.Tensor([7.7255, 6.7935, 5.8520, 4.9010, 3.9404, 2.9701, 1.9900, 1.0000])\n",
    "\n",
    "    assert torch.allclose(agent.calculate_discounted_rewards(test_reward), test_discounted_reward, 0.001)\n",
    "    assert torch.allclose(agent.calculate_loss(test_action_prob, test_discounted_reward), torch.tensor(8.1928), 0.001)\n",
    "\n",
    "test_pgnobase_update_1()"
   ]
  },
  {
   "cell_type": "code",
   "execution_count": 35,
   "id": "3a39f4ea",
   "metadata": {
    "deletable": false,
    "editable": false,
    "nbgrader": {
     "cell_type": "code",
     "checksum": "a71971cc15d36173098a756d78fa1f2e",
     "grade": true,
     "grade_id": "cell-327283bf9249663a",
     "locked": true,
     "points": 2,
     "schema_version": 3,
     "solution": false,
     "task": false
    }
   },
   "outputs": [],
   "source": [
    "%%capture --no-stdout\n",
    "\"TEST CELL\""
   ]
  },
  {
   "cell_type": "code",
   "execution_count": 36,
   "id": "8ff999fb",
   "metadata": {},
   "outputs": [
    {
     "data": {
      "text/html": [
       "<video loop autoplay  >\n",
       " <source src=\"data:None;base64,/notebooks/rl2025/ex5/results/InvertedPendulum-v4/video/test/ex5-episode-5.mp4\" type=\"None\">\n",
       " Your browser does not support the video tag.\n",
       " </video>"
      ],
      "text/plain": [
       "<IPython.core.display.Video object>"
      ]
     },
     "metadata": {},
     "output_type": "display_data"
    }
   ],
   "source": [
    "if not skip_training:\n",
    "      video = Video(Path().cwd()/'results'/'InvertedPendulum-v4'/'video'/'test'/'ex5-episode-5.mp4',\n",
    "      embed=True, html_attributes=\"loop autoplay\") # Set html_attributes=\"controls\" for video control\n",
    "      display(video)"
   ]
  },
  {
   "cell_type": "code",
   "execution_count": 37,
   "id": "e39a2410-d8ea-4e1f-b10a-e112816124e7",
   "metadata": {
    "tags": []
   },
   "outputs": [
    {
     "data": {
      "text/html": [
       "<video loop autoplay  >\n",
       " <source src=\"data:video/mp4;base64,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\" type=\"video/mp4\">\n",
       " Your browser does not support the video tag.\n",
       " </video>"
      ],
      "text/plain": [
       "<IPython.core.display.Video object>"
      ]
     },
     "metadata": {},
     "output_type": "display_data"
    }
   ],
   "source": [
    "if not skip_training:\n",
    "      video = Video(Path().cwd()/'results'/'InvertedPendulum-v4'/'video'/'test'/'ex5-episode-0.mp4',\n",
    "      embed=True, html_attributes=\"loop autoplay\") # Set html_attributes=\"controls\" for video control\n",
    "      display(video)"
   ]
  },
  {
   "cell_type": "markdown",
   "id": "ea079dc7",
   "metadata": {},
   "source": [
    "<a id='T1b'></a>\n",
    "<div class=\" alert alert-warning\">\n",
    "    <h3><b>Student Task 1b.</b> REINFORCE with a constant baseline b = 20 (5 points) </h3> \n",
    "    The training performance plot might look like Figure 1b.\n",
    "    <figure style=\"text-align: center\" id=\"figure-1b\">\n",
    "        <img src=\"imgs/PGBase20.svg\" width=\"600px\">\n",
    "        <figcaption style=\"text-align: center\"> Figure 1b: REINFORCE with a constant baseline 20. </figcaption>\n",
    "    </figure>\n",
    "    \n",
    "🔝 <a href='#TOC'><b>Table of Contents</b></a>\n",
    "</div>\n",
    "\n"
   ]
  },
  {
   "cell_type": "code",
   "execution_count": 38,
   "id": "3c57e167",
   "metadata": {
    "tags": []
   },
   "outputs": [],
   "source": [
    "class PGBase20(PG):\n",
    "    def __init__(self, state_dim, action_dim, lr, gamma):\n",
    "        super().__init__(state_dim, action_dim, lr, gamma)\n",
    "\n",
    "    # TODO: Task 1: Implement the policy gradient\n",
    "    # Complete the following 2 functions\n",
    "    # Hints:\n",
    "    #   1. compute discounted rewards (use the discount_rewards function offered in common.helper)\n",
    "    #   2. compute the policy gradient loss with the baseline\n",
    "    \n",
    "    # Compute discounted rewards \n",
    "    def calculate_discounted_rewards(self, rewards):\n",
    "        ########## Your code starts here. ##########\n",
    "        discounted_rewards = u.discount_rewards(rewards, self.gamma)\n",
    "        ########## Your code ends here. ##########\n",
    "        return discounted_rewards\n",
    "\n",
    "    # Calculate the PG loss with the baseline\n",
    "    def calculate_loss(self, action_probs, discounted_rewards):\n",
    "        ########## Your code starts here. ##########\n",
    "        b = 20\n",
    "        adjusted_rewards = discounted_rewards - b\n",
    "\n",
    "        loss = -torch.mean(action_probs * adjusted_rewards)\n",
    "        ########## Your code ends here. ##########\n",
    "        return loss\n",
    "\n",
    "    def update(self):\n",
    "        # Prepare dataset used to update policy\n",
    "        action_probs = torch.stack(self.action_probs, dim=0).to(device).squeeze(-1) # shape: [batch_size,]\n",
    "        rewards = torch.stack(self.rewards, dim=0).to(device).squeeze(-1) # shape [batch_size,]\n",
    "        self.action_probs, self.rewards = [], [] # clean buffers\n",
    "        \n",
    "        # TODO: Task 1: Implement the policy gradient\n",
    "\n",
    "        # Compute discounted rewards \n",
    "        discounted_rewards = self.calculate_discounted_rewards(rewards)\n",
    "        # Calculate the PG loss with the baseline\n",
    "        loss = self.calculate_loss(action_probs, discounted_rewards)\n",
    "        # Backprop gradients\n",
    "        loss.backward()\n",
    "        # Do the optimizer step\n",
    "        self.optimizer.step()\n",
    "        self.optimizer.zero_grad()\n",
    "\n",
    "        # if you want to log something in wandb, you can put them inside the {}, otherwise, just leave it empty.\n",
    "        return {'logstd': self.policy.actor_logstd.cpu().detach().numpy()}"
   ]
  },
  {
   "cell_type": "code",
   "execution_count": 39,
   "id": "8aa4d283",
   "metadata": {
    "tags": []
   },
   "outputs": [
    {
     "name": "stdout",
     "output_type": "stream",
     "text": [
      "Numpy/Torch/Random Seed:  22\n",
      "{'ep': 0, 'logstd': array([0.], dtype=float32), 'timesteps': 5, 'ep_reward': 5.0, 'episodes': 0}\n",
      "{'ep': 100, 'logstd': array([0.], dtype=float32), 'timesteps': 48, 'ep_reward': 48.0, 'episodes': 100}\n",
      "{'ep': 200, 'logstd': array([0.], dtype=float32), 'timesteps': 128, 'ep_reward': 128.0, 'episodes': 200}\n",
      "{'ep': 300, 'logstd': array([0.], dtype=float32), 'timesteps': 1000, 'ep_reward': 1000.0, 'episodes': 300}\n",
      "{'ep': 400, 'logstd': array([0.], dtype=float32), 'timesteps': 252, 'ep_reward': 252.0, 'episodes': 400}\n",
      "{'ep': 500, 'logstd': array([0.], dtype=float32), 'timesteps': 1000, 'ep_reward': 1000.0, 'episodes': 500}\n",
      "{'ep': 600, 'logstd': array([0.], dtype=float32), 'timesteps': 1000, 'ep_reward': 1000.0, 'episodes': 600}\n",
      "{'ep': 700, 'logstd': array([0.], dtype=float32), 'timesteps': 1000, 'ep_reward': 1000.0, 'episodes': 700}\n",
      "{'ep': 800, 'logstd': array([0.], dtype=float32), 'timesteps': 1000, 'ep_reward': 1000.0, 'episodes': 800}\n",
      "{'ep': 900, 'logstd': array([0.], dtype=float32), 'timesteps': 1000, 'ep_reward': 1000.0, 'episodes': 900}\n"
     ]
    },
    {
     "data": {
      "image/png": "[encoded data removed]",
      "text/plain": [
       "<Figure size 450x350 with 1 Axes>"
      ]
     },
     "metadata": {},
     "output_type": "display_data"
    },
    {
     "name": "stdout",
     "output_type": "stream",
     "text": [
      "Training complete!\n"
     ]
    }
   ],
   "source": [
    "if not skip_training:\n",
    "    train(PGBase20, cfg_path=Path().cwd() / 'cfg' / 'inverted_pendulum.yaml', cfg_args=dict(model_name=\"PGBase20\")) # < 7 mins"
   ]
  },
  {
   "cell_type": "code",
   "execution_count": 40,
   "id": "48f26f40-49c9-48f3-8543-cae81be8185f",
   "metadata": {
    "tags": []
   },
   "outputs": [
    {
     "name": "stdout",
     "output_type": "stream",
     "text": [
      "Numpy/Torch/Random Seed:  22\n",
      "Loading model from /notebooks/rl2025/ex5/results/InvertedPendulum-v4/model/PGBase20_params.pt ...\n",
      "Test ep_reward: 1000.0\n",
      "Test ep_reward: 1000.0\n",
      "Test ep_reward: 1000.0\n",
      "Test ep_reward: 1000.0\n",
      "Test ep_reward: 1000.0\n",
      "Median test reward: 1000.0\n"
     ]
    }
   ],
   "source": [
    "if not skip_training:\n",
    "    test(PGBase20, cfg_path=Path().cwd() / 'cfg' / 'inverted_pendulum.yaml', cfg_args=dict(model_name=\"PGBase20\", save_video=True, testing=True)) "
   ]
  },
  {
   "cell_type": "code",
   "execution_count": null,
   "id": "af4ac907",
   "metadata": {
    "deletable": false,
    "editable": false,
    "nbgrader": {
     "cell_type": "code",
     "checksum": "e67902311730193101e4741111bbf0b2",
     "grade": true,
     "grade_id": "cell-62d1b98f11dcd94b",
     "locked": true,
     "points": 1,
     "schema_version": 3,
     "solution": false,
     "task": false
    }
   },
   "outputs": [],
   "source": []
  },
  {
   "cell_type": "code",
   "execution_count": 41,
   "id": "6074d987",
   "metadata": {
    "deletable": false,
    "editable": false,
    "nbgrader": {
     "cell_type": "code",
     "checksum": "11f6f2b5baa3638d6d0deedc0eee29fe",
     "grade": true,
     "grade_id": "cell-3bcb1eace5908e1d",
     "locked": true,
     "points": 2,
     "schema_version": 3,
     "solution": false,
     "task": false
    }
   },
   "outputs": [
    {
     "name": "stdout",
     "output_type": "stream",
     "text": [
      "Numpy/Torch/Random Seed:  43\n"
     ]
    }
   ],
   "source": [
    "%%capture --no-stdout\n",
    "\"TEST CELL\"\n",
    "def test_pgbase20_update_1():\n",
    "    \n",
    "    agent_class = PGBase20\n",
    "    cfg_path=Path().cwd() / 'cfg' / 'inverted_pendulum.yaml'\n",
    "    cfg_args=dict(model_name=\"PGBase20\", seed=43)\n",
    "    env, cfg = setup(cfg_path, cfg_args=cfg_args)\n",
    "\n",
    "    state_dim = env.observation_space.shape[0]\n",
    "    action_dim = env.action_space.shape[0]\n",
    "\n",
    "    agent = agent_class(state_dim, action_dim, float(cfg.lr), float(cfg.gamma))\n",
    "\n",
    "    test_reward = torch.Tensor([1., 1., 1., 1., 1., 1., 1., 1.])\n",
    "    test_action_prob = torch.Tensor([-2.4205, -2.1635, -1.2791, -1.2655, -0.9205, -0.9366, -4.9679, -2.1623])\n",
    "    test_discounted_reward = torch.Tensor([7.7255, 6.7935, 5.8520, 4.9010, 3.9404, 2.9701, 1.9900, 1.0000])\n",
    "\n",
    "    assert torch.allclose(agent.calculate_discounted_rewards(test_reward), test_discounted_reward, 0.001)\n",
    "    assert torch.allclose(agent.calculate_loss(test_action_prob, test_discounted_reward), torch.tensor(-32.0970), 0.001)\n",
    "\n",
    "test_pgbase20_update_1()"
   ]
  },
  {
   "cell_type": "code",
   "execution_count": 42,
   "id": "42de046f",
   "metadata": {
    "deletable": false,
    "editable": false,
    "nbgrader": {
     "cell_type": "code",
     "checksum": "bd3eaf1021b2d35e4bac9eb0a6515439",
     "grade": true,
     "grade_id": "cell-7c3853783c05c900",
     "locked": true,
     "points": 2,
     "schema_version": 3,
     "solution": false,
     "task": false
    }
   },
   "outputs": [],
   "source": [
    "%%capture --no-stdout\n",
    "\"TEST CELL\""
   ]
  },
  {
   "cell_type": "code",
   "execution_count": 43,
   "id": "a434d9ef-523c-482a-a2e8-441ac66e15e5",
   "metadata": {
    "tags": []
   },
   "outputs": [
    {
     "data": {
      "text/html": [
       "<video loop autoplay  >\n",
       " <source src=\"data:video/mp4;base64,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\" type=\"video/mp4\">\n",
       " Your browser does not support the video tag.\n",
       " </video>"
      ],
      "text/plain": [
       "<IPython.core.display.Video object>"
      ]
     },
     "metadata": {},
     "output_type": "display_data"
    }
   ],
   "source": [
    "if not skip_training:\n",
    "      video = Video(Path().cwd() / 'results' / 'InvertedPendulum-v4' / 'video' / 'test' / 'ex5-episode-0.mp4',\n",
    "      embed=True, html_attributes=\"loop autoplay\") # Set html_attributes=\"controls\" for video control\n",
    "      display(video)"
   ]
  },
  {
   "cell_type": "markdown",
   "id": "e31c7d2e",
   "metadata": {
    "tags": []
   },
   "source": [
    "<a id='T1c'></a>\n",
    "<div class=\" alert alert-warning\">\n",
    "    <h3><b>Student Task 1c.</b> REINFORCE with discounted rewards normalized to zero mean and unit variance (5 points) </h3> \n",
    "    The training performance plot might look like Figure 1c. \n",
    "    <figure style=\"text-align: center\" id=\"figure-1c\">\n",
    "        <img src=\"imgs/PGGamma.svg\" width=\"600px\">\n",
    "        <figcaption style=\"text-align: center\"> Figure 1c: REINFORCE with discounted rewards normalized to zero mean and unit variance. </figcaption>\n",
    "    </figure>\n",
    "    \n",
    "🔝 <a href='#TOC'><b>Table of Contents</b></a>\n",
    "</div>\n",
    "\n"
   ]
  },
  {
   "cell_type": "code",
   "execution_count": 44,
   "id": "d76bcc3c",
   "metadata": {
    "tags": []
   },
   "outputs": [],
   "source": [
    "class PGNormalized(PG):\n",
    "    def __init__(self, state_dim, action_dim, lr, gamma):\n",
    "        super().__init__(state_dim, action_dim, lr, gamma)\n",
    "\n",
    "    # TODO: Task 1: Implement the policy gradient\n",
    "    # Complete the following 2 functions\n",
    "    # Hints:\n",
    "    #   1. compute discounted rewards (use the discount_rewards function offered in utils.py)\n",
    "    #   2. normalize discounted rewards and compute the policy gradient loss\n",
    "    \n",
    "    # Compute discounted rewards \n",
    "    def calculate_discounted_rewards(self, rewards):\n",
    "        ########## Your code starts here. ##########\n",
    "        discounted_rewards = u.discount_rewards(rewards, self.gamma)\n",
    "        ########## Your code ends here. ##########\n",
    "        return discounted_rewards\n",
    "\n",
    "    # Calculate the PG loss with the Normalization\n",
    "    def calculate_loss(self, action_probs, discounted_rewards):\n",
    "        ########## Your code starts here. ##########\n",
    "        discounted_rewards = (discounted_rewards - discounted_rewards.mean()) / (discounted_rewards.std() + 1e-8)\n",
    "        loss = -torch.mean(action_probs * discounted_rewards)\n",
    "        ########## Your code ends here. ##########\n",
    "        return loss\n",
    "\n",
    "\n",
    "\n",
    "    def update(self):\n",
    "        # Prepare dataset used to update policy\n",
    "        action_probs = torch.stack(self.action_probs, dim=0).to(device).squeeze(-1) # shape: [batch_size,]\n",
    "        rewards = torch.stack(self.rewards, dim=0).to(device).squeeze(-1) # shape [batch_size,]\n",
    "        self.action_probs, self.rewards = [], [] # clean buffers\n",
    "        \n",
    "        # TODO: Task 1: Implement the policy gradient\n",
    "        \n",
    "        # Compute discounted rewards and normalize them\n",
    "        discounted_rewards = self.calculate_discounted_rewards(rewards)\n",
    "        # Calculate the PG loss\n",
    "        loss = self.calculate_loss(action_probs, discounted_rewards)\n",
    "        # Backprop gradients\n",
    "        loss.backward()\n",
    "        # Do the optimizer step\n",
    "        self.optimizer.step()\n",
    "        self.optimizer.zero_grad()    \n",
    "\n",
    "        # if you want to log something in wandb, you can put them inside the {}, otherwise, just leave it empty.\n",
    "        return {'logstd': self.policy.actor_logstd.cpu().detach().numpy()}"
   ]
  },
  {
   "cell_type": "code",
   "execution_count": 45,
   "id": "8e236519-8afb-4ec7-ba87-3181bf822576",
   "metadata": {
    "tags": []
   },
   "outputs": [
    {
     "name": "stdout",
     "output_type": "stream",
     "text": [
      "Numpy/Torch/Random Seed:  22\n",
      "{'ep': 0, 'logstd': array([0.], dtype=float32), 'timesteps': 5, 'ep_reward': 5.0, 'episodes': 0}\n",
      "{'ep': 100, 'logstd': array([0.], dtype=float32), 'timesteps': 29, 'ep_reward': 29.0, 'episodes': 100}\n",
      "{'ep': 200, 'logstd': array([0.], dtype=float32), 'timesteps': 93, 'ep_reward': 93.0, 'episodes': 200}\n",
      "{'ep': 300, 'logstd': array([0.], dtype=float32), 'timesteps': 164, 'ep_reward': 164.0, 'episodes': 300}\n",
      "{'ep': 400, 'logstd': array([0.], dtype=float32), 'timesteps': 1000, 'ep_reward': 1000.0, 'episodes': 400}\n",
      "{'ep': 500, 'logstd': array([0.], dtype=float32), 'timesteps': 1000, 'ep_reward': 1000.0, 'episodes': 500}\n",
      "{'ep': 600, 'logstd': array([0.], dtype=float32), 'timesteps': 1000, 'ep_reward': 1000.0, 'episodes': 600}\n",
      "{'ep': 700, 'logstd': array([0.], dtype=float32), 'timesteps': 1000, 'ep_reward': 1000.0, 'episodes': 700}\n",
      "{'ep': 800, 'logstd': array([0.], dtype=float32), 'timesteps': 1000, 'ep_reward': 1000.0, 'episodes': 800}\n",
      "{'ep': 900, 'logstd': array([0.], dtype=float32), 'timesteps': 1000, 'ep_reward': 1000.0, 'episodes': 900}\n"
     ]
    },
    {
     "data": {
      "image/png": "[encoded data removed]",
      "text/plain": [
       "<Figure size 450x350 with 1 Axes>"
      ]
     },
     "metadata": {},
     "output_type": "display_data"
    },
    {
     "name": "stdout",
     "output_type": "stream",
     "text": [
      "Training complete!\n"
     ]
    }
   ],
   "source": [
    "if not skip_training:\n",
    "    train(PGNormalized, cfg_path=Path().cwd() / 'cfg' / 'inverted_pendulum.yaml', cfg_args=dict(model_name=\"PGNormalized\")) # < 10 mins"
   ]
  },
  {
   "cell_type": "code",
   "execution_count": 46,
   "id": "9aab775f-bc7e-475f-ac41-7bbf0227bc1a",
   "metadata": {
    "tags": []
   },
   "outputs": [
    {
     "name": "stdout",
     "output_type": "stream",
     "text": [
      "Numpy/Torch/Random Seed:  22\n",
      "Loading model from /notebooks/rl2025/ex5/results/InvertedPendulum-v4/model/PGNormalized_params.pt ...\n",
      "Test ep_reward: 1000.0\n",
      "Test ep_reward: 1000.0\n",
      "Test ep_reward: 1000.0\n",
      "Test ep_reward: 1000.0\n",
      "Test ep_reward: 1000.0\n",
      "Median test reward: 1000.0\n"
     ]
    }
   ],
   "source": [
    "if not skip_training:\n",
    "    test(PGNormalized, cfg_path=Path().cwd() / 'cfg' / 'inverted_pendulum.yaml', cfg_args=dict(model_name=\"PGNormalized\", save_video=True, testing=True))"
   ]
  },
  {
   "cell_type": "code",
   "execution_count": null,
   "id": "fc850792",
   "metadata": {
    "deletable": false,
    "editable": false,
    "nbgrader": {
     "cell_type": "code",
     "checksum": "c2419c79f89c4ca692b669552b27e124",
     "grade": true,
     "grade_id": "cell-03e739e487933e6e",
     "locked": true,
     "points": 1,
     "schema_version": 3,
     "solution": false,
     "task": false
    }
   },
   "outputs": [],
   "source": []
  },
  {
   "cell_type": "code",
   "execution_count": 47,
   "id": "ef8fb1c0",
   "metadata": {
    "deletable": false,
    "editable": false,
    "nbgrader": {
     "cell_type": "code",
     "checksum": "106d897f0caa69b7eb88435c2b1b3043",
     "grade": true,
     "grade_id": "cell-a90ba2f2bac40f9c",
     "locked": true,
     "points": 2,
     "schema_version": 3,
     "solution": false,
     "task": false
    }
   },
   "outputs": [
    {
     "name": "stdout",
     "output_type": "stream",
     "text": [
      "Numpy/Torch/Random Seed:  43\n"
     ]
    }
   ],
   "source": [
    "%%capture --no-stdout\n",
    "\"TEST CELL\"\n",
    "def test_pgnormalized_update_1():\n",
    "    \n",
    "    agent_class = PGNormalized\n",
    "    cfg_path=Path().cwd() / 'cfg' / 'inverted_pendulum.yaml'\n",
    "    cfg_args=dict(model_name=\"PGNormalized\", seed=43)\n",
    "    env, cfg = setup(cfg_path, cfg_args=cfg_args)\n",
    "\n",
    "    state_dim = env.observation_space.shape[0]\n",
    "    action_dim = env.action_space.shape[0]\n",
    "\n",
    "    agent = agent_class(state_dim, action_dim, float(cfg.lr), float(cfg.gamma))\n",
    "\n",
    "    test_reward = torch.Tensor([1., 1., 1., 1., 1., 1., 1., 1.])\n",
    "    test_action_prob = torch.Tensor([-2.4205, -2.1635, -1.2791, -1.2655, -0.9205, -0.9366, -4.9679, -2.1623])\n",
    "    test_discounted_reward = torch.Tensor([7.7255, 6.7935, 5.8520, 4.9010, 3.9404, 2.9701, 1.9900, 1.0000])\n",
    "\n",
    "    assert torch.allclose(agent.calculate_discounted_rewards(test_reward), test_discounted_reward, 0.001)\n",
    "    assert torch.allclose(agent.calculate_loss(test_action_prob, test_discounted_reward), torch.tensor(-0.2822), 0.001)\n",
    "\n",
    "test_pgnormalized_update_1()"
   ]
  },
  {
   "cell_type": "code",
   "execution_count": 48,
   "id": "b36fae08",
   "metadata": {
    "deletable": false,
    "editable": false,
    "nbgrader": {
     "cell_type": "code",
     "checksum": "8d2fb6c9e677aa86435b3c7b06302512",
     "grade": true,
     "grade_id": "cell-a4862f110550460f",
     "locked": true,
     "points": 2,
     "schema_version": 3,
     "solution": false,
     "task": false
    }
   },
   "outputs": [],
   "source": [
    "%%capture --no-stdout\n",
    "\"TEST CELL\""
   ]
  },
  {
   "cell_type": "code",
   "execution_count": 49,
   "id": "9e3bbe30-5d8f-426d-9a76-806e6586a23b",
   "metadata": {
    "tags": []
   },
   "outputs": [
    {
     "data": {
      "text/html": [
       "<video loop autoplay  >\n",
       " <source src=\"data:video/mp4;base64,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\" type=\"video/mp4\">\n",
       " Your browser does not support the video tag.\n",
       " </video>"
      ],
      "text/plain": [
       "<IPython.core.display.Video object>"
      ]
     },
     "metadata": {},
     "output_type": "display_data"
    }
   ],
   "source": [
    "if not skip_training:\n",
    "      video = Video(Path().cwd() / 'results' / 'InvertedPendulum-v4' / 'video' / 'test' / 'ex5-episode-0.mp4',\n",
    "      embed=True, html_attributes=\"loop autoplay\") # Set html_attributes=\"controls\" for video control\n",
    "      display(video)"
   ]
  },
  {
   "cell_type": "markdown",
   "id": "f856d17c",
   "metadata": {
    "deletable": false,
    "editable": false,
    "nbgrader": {
     "cell_type": "markdown",
     "checksum": "5344618e774be27b6e56107827fe9e38",
     "grade": false,
     "grade_id": "cell-970e68431aa3a7cd",
     "locked": true,
     "schema_version": 3,
     "solution": false,
     "task": false
    },
    "tags": []
   },
   "source": [
    "<a id='Q1'></a>\n",
    "<div class=\" alert alert-warning\">\n",
    "    <h3><b>Student Question 1.1</b> A good baseline (15 points) </h3> \n",
    "\n",
    "Which of the following statements correctly describe how to choose a good baseline and why it makes training more stable? **Select 5 options.**\n",
    "            \n",
    "🔝\t<a href='#TOC'><b>Table of Contents</b></a>\n",
    "</div>"
   ]
  },
  {
   "cell_type": "markdown",
   "id": "0c46c994-d93c-4188-adef-ef82dabe437c",
   "metadata": {
    "deletable": false,
    "editable": false,
    "nbgrader": {
     "cell_type": "markdown",
     "checksum": "b1eed5810b36c7aaf8e100f5b08c77b2",
     "grade": false,
     "grade_id": "cell-cfe2a992cab77b22",
     "locked": true,
     "schema_version": 3,
     "solution": false,
     "task": false
    },
    "tags": []
   },
   "source": [
    "Options:\n",
    "\n",
    "1. A good baseline doesn't affect the expectation (doesn't introduce bias) but reduces variance of the estimated gradients. \n",
    "2. The baseline should be dependent on both the state and the action to provide the most accurate estimates.\n",
    "3. The optimal baseline can be theoretically derived, but it is too expensive to calculate in practice. \n",
    "4.  A good baseline should be a constant value to ensure consistency across all states. \n",
    "5.  The lower variance estimates lead to more stable training. \n",
    "6.  A good choice of baseline is an estimate of the state value, or the empirical mean (when doing Monte Carlo roll-outs). \n",
    "7.  The idea with both is that we increase the probability of actions that lead to higher returns than what our current estimate of the expected return is. \n",
    "8.  A proper baseline eliminates the need for exploration in reinforcement learning algorithms. \n",
    "9.  The choice of baseline has no impact on the convergence speed of the algorithm.\n"
   ]
  },
  {
   "cell_type": "code",
   "execution_count": 50,
   "id": "d71bb55e-e23e-48ee-b9d5-da004df72b27",
   "metadata": {},
   "outputs": [],
   "source": [
    "# Answer question 1.1 with appropriate option numbers\n",
    "sq1_1 = [1,3,5,6,7] "
   ]
  },
  {
   "cell_type": "markdown",
   "id": "89b0074d-e8b9-4106-9155-bcc44fafd967",
   "metadata": {},
   "source": [
    "The following cells are used for grading."
   ]
  },
  {
   "cell_type": "code",
   "execution_count": null,
   "id": "7c1438ee-92e4-4123-99ae-bd989bfe1b81",
   "metadata": {
    "deletable": false,
    "editable": false,
    "nbgrader": {
     "cell_type": "code",
     "checksum": "068bab37656d0f1f76a988a2d372cdbe",
     "grade": true,
     "grade_id": "cell-4710481b388d34ce",
     "locked": true,
     "points": 3,
     "schema_version": 3,
     "solution": false,
     "task": false
    },
    "tags": []
   },
   "outputs": [],
   "source": []
  },
  {
   "cell_type": "code",
   "execution_count": null,
   "id": "c385229f-7736-4fb2-92d4-c2c62d7ae1ac",
   "metadata": {
    "deletable": false,
    "editable": false,
    "nbgrader": {
     "cell_type": "code",
     "checksum": "5fcbf26c4ff358b5eaf69cab8b563bc5",
     "grade": true,
     "grade_id": "cell-fdd8262ca17746aa",
     "locked": true,
     "points": 3,
     "schema_version": 3,
     "solution": false,
     "task": false
    },
    "tags": []
   },
   "outputs": [],
   "source": []
  },
  {
   "cell_type": "code",
   "execution_count": null,
   "id": "431586b5-619b-43e8-9045-ad0f3f828b05",
   "metadata": {
    "deletable": false,
    "editable": false,
    "nbgrader": {
     "cell_type": "code",
     "checksum": "5c2bba5cef04af5c1c243114c256376d",
     "grade": true,
     "grade_id": "cell-a0a1d58190a1e0f1",
     "locked": true,
     "points": 3,
     "schema_version": 3,
     "solution": false,
     "task": false
    },
    "tags": []
   },
   "outputs": [],
   "source": []
  },
  {
   "cell_type": "code",
   "execution_count": null,
   "id": "6e1699f5-73ef-4eac-9a5a-17708c1d6ccd",
   "metadata": {
    "deletable": false,
    "editable": false,
    "nbgrader": {
     "cell_type": "code",
     "checksum": "c576e4932e49fe2c4cf243edd4035915",
     "grade": true,
     "grade_id": "cell-3343cc12855e6f15",
     "locked": true,
     "points": 3,
     "schema_version": 3,
     "solution": false,
     "task": false
    },
    "tags": []
   },
   "outputs": [],
   "source": []
  },
  {
   "cell_type": "code",
   "execution_count": null,
   "id": "3d789840-2b3e-4a5b-ba87-f9cc01adb538",
   "metadata": {
    "deletable": false,
    "editable": false,
    "nbgrader": {
     "cell_type": "code",
     "checksum": "1414b678f26986c875a98c0184021ba9",
     "grade": true,
     "grade_id": "cell-86090270df654ed6",
     "locked": true,
     "points": 3,
     "schema_version": 3,
     "solution": false,
     "task": false
    },
    "tags": []
   },
   "outputs": [],
   "source": []
  },
  {
   "cell_type": "markdown",
   "id": "bda4d734",
   "metadata": {},
   "source": [
    "# 3. Choosing the value of variance <a id='3.'></a>"
   ]
  },
  {
   "cell_type": "markdown",
   "id": "c34d6f9d",
   "metadata": {},
   "source": [
    "<a id='T2'></a>\n",
    "<div class=\" alert alert-warning\">\n",
    "    <h3><b>Student Task 2.</b> Making Variance a Learnable Parameter (10 points) </h3> \n",
    "\n",
    "Implement the policy’s variance as a learnable parameter of the network and update it during training. Set the initial value $\\sigma_0^2$ to 1. REINFORCE with normalized discounted returns is used for this task.\n",
    "\n",
    "**Complete the unfinished implementation in ```PolicyLearnedVar(nn.Module)``` class (marked with ```TODOs```)**. \n",
    "    \n",
    "    \n",
    "**Hint:** To make your learned variance automatically updated by the optimizer, declare your variable inside the ```__init__``` function of the model using ```torch.nn.Parameter(some_tensor)```. \n",
    "    \n",
    "🔝\t<a href='#TOC'><b>Table of Contents</b></a>\n",
    "</div>\n"
   ]
  },
  {
   "cell_type": "markdown",
   "id": "bbc8f47f",
   "metadata": {},
   "source": [
    "## 3.1 Policy with Learned Variance <a id='3.1'></a>"
   ]
  },
  {
   "cell_type": "code",
   "execution_count": 51,
   "id": "5f38d70b",
   "metadata": {
    "tags": []
   },
   "outputs": [],
   "source": [
    "# Initialisation function for neural network layers\n",
    "def layer_init(layer, std=np.sqrt(2), bias_const=0.0):\n",
    "    torch.nn.init.orthogonal_(layer.weight, std)\n",
    "    torch.nn.init.constant_(layer.bias, bias_const)\n",
    "    return layer\n",
    "\n",
    "\n",
    "# This class defines the neural network policy with learned variance\n",
    "class PolicyLearnedVar(nn.Module):\n",
    "    def __init__(self, state_dim, action_dim):\n",
    "        super(PolicyLearnedVar, self).__init__()\n",
    "\n",
    "        # Initialise a neural network with two hidden layers (64 neurons per layer)\n",
    "        self.actor_mean = nn.Sequential(\n",
    "            layer_init(nn.Linear(state_dim, 64)),\n",
    "            nn.Tanh(),\n",
    "            layer_init(nn.Linear(64, 64)),\n",
    "            nn.Tanh(),\n",
    "            layer_init(nn.Linear(64, action_dim), std=0.01),\n",
    "        )\n",
    "\n",
    "        # TODO: Task 2: Implement actor_logstd as a learnable parameter\n",
    "        # Use log of std to make sure std doesn't become negative during training\n",
    "        ########## Your code starts here. ###########    \n",
    "        self.actor_logstd = nn.Parameter(torch.zeros(1, action_dim))\n",
    "        ########## Your code ends here. ##########\n",
    "        \n",
    "    # Do a forward pass to map state to action\n",
    "    def forward(self, state):\n",
    "        # Get mean of a Normal distribution (the output of the neural network)\n",
    "        action_mean = self.actor_mean(state)\n",
    "\n",
    "        # Make sure action_logstd matches dimension of action_mean\n",
    "        action_logstd = self.actor_logstd.expand_as(action_mean)\n",
    "\n",
    "        # Exponentiate the log std to get actual std\n",
    "        action_std = torch.exp(action_logstd)\n",
    "\n",
    "        # TODO: Task 1: Create a Normal distribution with mean of 'action_mean' and standard deviation of 'action_std', and return the distribution\n",
    "        ########## Your code starts here. ###########\n",
    "        probs = Normal(action_mean, action_std)\n",
    "        ########## Your code ends here. ##########\n",
    "        return probs"
   ]
  },
  {
   "cell_type": "markdown",
   "id": "cbe99408-3caa-43d6-aa52-652c9e1b88fe",
   "metadata": {},
   "source": [
    "Initialize the `PG` class to construct the neural network policy. Continue to employ the `get_action` function, as outlined in Task 1."
   ]
  },
  {
   "cell_type": "code",
   "execution_count": 52,
   "id": "304d7def-5ad3-461e-a2c6-216157833223",
   "metadata": {
    "tags": []
   },
   "outputs": [],
   "source": [
    "# Class for the Policy Gradient algorithm\n",
    "class PGLearnedVar(PGNormalized):\n",
    "    def __init__(self, state_dim, action_dim, lr, gamma):\n",
    "        super().__init__(state_dim, action_dim, lr, gamma)\n",
    "        \n",
    "        # TODO: Task 2: Define the neural network policy (self.policy) with learned variance.\n",
    "        self.policy = None\n",
    "        ########## Your code starts here. ###########  \n",
    "        self.policy = PolicyLearnedVar(state_dim, action_dim).to(device)\n",
    "        ########## Your code ends here. ##########\n",
    "\n",
    "        # Create an optimizer\n",
    "        self.optimizer = torch.optim.Adam(self.policy.parameters(), lr=lr)"
   ]
  },
  {
   "cell_type": "code",
   "execution_count": 53,
   "id": "6b7c5cac-1e2f-4224-a503-bc1e27871a09",
   "metadata": {
    "tags": []
   },
   "outputs": [
    {
     "name": "stdout",
     "output_type": "stream",
     "text": [
      "Numpy/Torch/Random Seed:  22\n",
      "{'ep': 0, 'logstd': array([[-0.002]], dtype=float32), 'timesteps': 8, 'ep_reward': 8.0, 'episodes': 0}\n",
      "{'ep': 100, 'logstd': array([[-0.05443632]], dtype=float32), 'timesteps': 81, 'ep_reward': 81.0, 'episodes': 100}\n",
      "{'ep': 200, 'logstd': array([[-0.07574365]], dtype=float32), 'timesteps': 195, 'ep_reward': 195.0, 'episodes': 200}\n",
      "{'ep': 300, 'logstd': array([[-0.08455732]], dtype=float32), 'timesteps': 1000, 'ep_reward': 1000.0, 'episodes': 300}\n",
      "{'ep': 400, 'logstd': array([[-0.08298799]], dtype=float32), 'timesteps': 1000, 'ep_reward': 1000.0, 'episodes': 400}\n",
      "{'ep': 500, 'logstd': array([[-0.08030261]], dtype=float32), 'timesteps': 1000, 'ep_reward': 1000.0, 'episodes': 500}\n",
      "{'ep': 600, 'logstd': array([[-0.09319339]], dtype=float32), 'timesteps': 1000, 'ep_reward': 1000.0, 'episodes': 600}\n",
      "{'ep': 700, 'logstd': array([[-0.09744]], dtype=float32), 'timesteps': 513, 'ep_reward': 513.0, 'episodes': 700}\n",
      "{'ep': 800, 'logstd': array([[-0.1043436]], dtype=float32), 'timesteps': 1000, 'ep_reward': 1000.0, 'episodes': 800}\n",
      "{'ep': 900, 'logstd': array([[-0.1125869]], dtype=float32), 'timesteps': 1000, 'ep_reward': 1000.0, 'episodes': 900}\n"
     ]
    },
    {
     "data": {
      "image/png": "[encoded data removed]",
      "text/plain": [
       "<Figure size 450x350 with 1 Axes>"
      ]
     },
     "metadata": {},
     "output_type": "display_data"
    },
    {
     "name": "stdout",
     "output_type": "stream",
     "text": [
      "Training complete!\n"
     ]
    }
   ],
   "source": [
    "if not skip_training:\n",
    "    train(PGLearnedVar, cfg_path=Path().cwd() / 'cfg' / 'inverted_pendulum.yaml', cfg_args=dict(model_name=\"PGLearnedVar\")) # < 10 mins"
   ]
  },
  {
   "cell_type": "code",
   "execution_count": 54,
   "id": "6b3d4bbd-9d79-4e23-a92a-d593a192a2c7",
   "metadata": {
    "tags": []
   },
   "outputs": [
    {
     "name": "stdout",
     "output_type": "stream",
     "text": [
      "Numpy/Torch/Random Seed:  22\n",
      "Loading model from /notebooks/rl2025/ex5/results/InvertedPendulum-v4/model/PGLearnedVar_params.pt ...\n",
      "Test ep_reward: 1000.0\n",
      "Test ep_reward: 1000.0\n",
      "Test ep_reward: 1000.0\n",
      "Test ep_reward: 1000.0\n",
      "Test ep_reward: 1000.0\n",
      "Median test reward: 1000.0\n"
     ]
    }
   ],
   "source": [
    "if not skip_training:\n",
    "    test(PGLearnedVar, cfg_path=Path().cwd() / 'cfg' / 'inverted_pendulum.yaml', cfg_args=dict(model_name=\"PGLearnedVar\", save_video=True, testing=True))"
   ]
  },
  {
   "cell_type": "code",
   "execution_count": null,
   "id": "1afce7ed",
   "metadata": {
    "deletable": false,
    "editable": false,
    "nbgrader": {
     "cell_type": "code",
     "checksum": "488b0594c6a0bc7114212e08886456da",
     "grade": true,
     "grade_id": "cell-b30e0b4e722242a6",
     "locked": true,
     "points": 2,
     "schema_version": 3,
     "solution": false,
     "task": false
    }
   },
   "outputs": [],
   "source": []
  },
  {
   "cell_type": "code",
   "execution_count": null,
   "id": "c765232f",
   "metadata": {
    "deletable": false,
    "editable": false,
    "nbgrader": {
     "cell_type": "code",
     "checksum": "3ab5d3ddd4f03fbc59870f78a083f9bf",
     "grade": true,
     "grade_id": "cell-cfe147d31b546e45",
     "locked": true,
     "points": 8,
     "schema_version": 3,
     "solution": false,
     "task": false
    }
   },
   "outputs": [],
   "source": []
  },
  {
   "cell_type": "code",
   "execution_count": 55,
   "id": "da748d77-46d5-4597-b2f9-d9885ca24e6a",
   "metadata": {
    "tags": []
   },
   "outputs": [
    {
     "data": {
      "text/html": [
       "<video loop autoplay  >\n",
       " <source src=\"data:video/mp4;base64,AAAAIGZ0eXBpc29tAAACAGlzb21pc28yYXZjMW1wNDEAAAAIZnJlZQAAmwxtZGF0AAACrwYF//+r3EXpvebZSLeWLNgg2SPu73gyNjQgLSBjb3JlIDE2NCByMzA5NSBiYWVlNDAwIC0gSC4yNjQvTVBFRy00IEFWQyBjb2RlYyAtIENvcHlsZWZ0IDIwMDMtMjAyMiAtIGh0dHA6Ly93d3cudmlkZW9sYW4ub3JnL3gyNjQuaHRtbCAtIG9wdGlvbnM6IGNhYmFjPTEgcmVmPTMgZGVibG9jaz0xOjA6MCBhbmFseXNlPTB4MzoweDExMyBtZT1oZXggc3VibWU9NyBwc3k9MSBwc3lfcmQ9MS4wMDowLjAwIG1peGVkX3JlZj0xIG1lX3JhbmdlPTE2IGNocm9tYV9tZT0xIHRyZWxsaXM9MSA4eDhkY3Q9MSBjcW09MCBkZWFkem9uZT0yMSwxMSBmYXN0X3Bza2lwPTEgY2hyb21hX3FwX29mZnNldD0tMiB0aHJlYWRzPTE1IGxvb2thaGVhZF90aHJlYWRzPTIgc2xpY2VkX3RocmVhZHM9MCBucj0wIGRlY2ltYXRlPTEgaW50ZXJsYWNlZD0wIGJsdXJheV9jb21wYXQ9MCBjb25zdHJhaW5lZF9pbnRyYT0wIGJmcmFtZXM9MyBiX3B5cmFtaWQ9MiBiX2FkYXB0PTEgYl9iaWFzPTAgZGlyZWN0PTEgd2VpZ2h0Yj0xIG9wZW5fZ29wPTAgd2VpZ2h0cD0yIGtleWludD0yNTAga2V5aW50X21pbj0yNSBzY2VuZWN1dD00MCBpbnRyYV9yZWZyZXNoPTAgcmNfbG9va2FoZWFkPTQwIHJjPWNyZiBtYnRyZWU9MSBjcmY9MjMuMCBxY29tcD0wLjYwIHFwbWluPTAgcXBtYXg9NjkgcXBzdGVwPTQgaXBfcmF0aW89MS40MCBhcT0xOjEuMDAAgAAABKVliIQAL//+9q78yyt0fpUuHVl7s1Hy6Ely/YgwfWgASwAAAwAAxaEv/E8n8nnZgAAGpABPh6XAFT/g5auLP8uTdGfG/sZtJmGK9feLWtsM7mMVst8YT+W8QfY7jHbv2Qrcl+kC4v5+vdz7SkrI43e9SUMLjaQUlGwZlXGGhp90Pi5LTqHxnl1rQMp1Ig6Xd5vniNQ6hlNII3TogQrdNngXp/q7rWLJmFCQjD5LR4oR1VOFSvtXub9K51p+rR2Rsre+ICtq5D/I0D+wPMQCuXVnGsLFYRAmRA5h6Gnq6FzkXhSEVG9WYs5QsL0AVBfh2YrEVx9qqSQ9+4XrnBkZnNjPos+smoJcuWTnMyzX8NnCdocBLXya5zCc1hHa+ftNpVwjCm2uJfIXaztGteK86s/ffP7SxiT2v8QBVh++4U6yjSOAI0hZ2LPoIOWuwVzy8g6AnzntOzizdlZAEVKNa08K8Tf+en85g1yU7TA+ii0j/hxlYeMeb3wGOtsG7j6bovHlvGjAquMDGR6bU9vLTr9hehsujhHP/+g9O4uLe8dezQeK6gNrJhzbYAtvPFUSG3J64X7UlpanVATF5cTizP5KVUC9sBdJ8oVB4vgXi3n4NCQY1EY7+LcgXQGnI/VEPLtKde7O+F9GfUabyXjnMceJTFwHRp5i5UK4BYzmjCfxQTOcoS04dBbV4SVo5NYUF+lzs0AsD83ZPJThEDt+KCrU5lu0urSYowlnMEbGmKIhc2mY5gsopJq3TG8xr7KLjKz9PmYrd2ZBOOpQbP7PDf7Ii7Xi9G50/AcUeFRCREfT2PlYQT5m4IzZYrPUPVJfUF0sw6gzzNDoxJgNRi5p2wwYUuKI53Got45IXZtfXVPVTIqPWWUciLZrEEBozaP7KoMvMjTj/M+S22jQgLAM1x5qXmvsIATCB5AqOG3/qQaqaM84qNsA4srwTyy/4nETi+PHu9bTZC9tzTVQiAuCQQlWJVLuzSD1iHND4e72WfEG+CgwkK1m/KJN87VrR3NRVybnniQqyMJUIBwV7TG/d/s+qL3kLmjTnkwl9ewuVPOZL7LoZTr6o1pVjqGZ5EjpcYH1dqrWhxxq5wLcespBWNr3cwEsAjXOtgtJfPe/kXsXCplHrQ94nrB0vi6G33hT8xpC+vYGQ1iXYOvM8aAkBhhvfbLnNFBW7iCGG2xjoiIjsMgtAxuihDqxc7f7egflUyN4+/52kSKEOI7b8hl5MEUdz8cth797o00xoKBan9wRS4mt6X9NCAulJdzU4f4IDdws5r++QxhjzCXUZFscDTok0WKFyk1sHx9lAxfN5pxjBob44zDS5lYFnto1/+slNP4OhAyRTldmipSXFkVcCiSBlME4QQbIT3N3K97SOflgXUDeFfb5FhV29tYBT6GfiPJl2VfROEfegFnT2jhfyQx4dOpNBFMVNaZ/zJTycjyZG6Nn3bRN0gOFBvFdGi5yy1HuBNV79ffxDfbTiuHPGajr787HSWt/9LdMi6ScdO1pZsBggMMZdJ/SEF9LkWjjqAAAJXiKR3W6APEAAAMAAAMAAAMAAAMAAAMAAAMAAAMAAAMAAIGBAAABJ0GaJGxDv/6plgAfMygTnNmz4Av3ADI3M8H2QqkZyjyegrwB5+yRAkxCyxeK4k5Conz0YSlZTTP15PVaU6lFqF68tQkOUQ/3MJCd8hioczKmeZ9UwX+9Myznv/QpueoUkazS75m1xA0DbioXaDQpJspPTGIJulGGQ4sgariAajK8H5iWSLpOJt/y3l6V+HJXTBFWgbnf4JVx2uBUt8rvYLryLk6PZjdHUc/6vL9IntICNSwBbwS2WoPeGADfKAwwGZXgg3ibZ6xRwtKhJVofqCNl+V/EtnfmoaBgthhgNXT4K8/5kZq51ye7xAvSRL7pvShP9wzwJ/XG0odcGG0Bnz/x1DxtAGQP7az+LiBAuu8cfJkn5fNQbLOPNMO1bsM3u3LuUnauEjQAAABQQZ5CeIX/ACS6ZTo1Us7Bf1BFPXNyVst7mmbi7W+aBBpyWd2EzkoBmaJkMslJbuuAQxOlI7Vu/GavYdsUnYhi3eWppHWsGoJDqFK9uwEMBn0AAABNAZ5hdEK/ADORvdzgAqkQKfwFrknDt3yZMjsAk1Oy3PLoJLCA3mtMLFAG25rQ+3Fe+c6BwQLmRHCELdGCDjsGxHfO8jXt3pKTNsMwDUgAAAA5AZ5jakK/ADOC6L3xD3BvDbXdfdUW8uugkG781QDgHctLPn3+vG16yNY1QBdzE4TAXkPKXnbqABJxAAAAqEGaaEmoQWiZTAhv//6nhAA+AK20e9bmmVXupWw1gBMZtA/lWiytb43meluZT2GaVCNPFyRAksN9tZ7yUSe16zowZ4niFnA/4il8yPsntKP1z4PjHkQFRvwOhuPYZ9TdgPQfDpDx/1i4eMV2SPr0cyH9VoqKFTk7U31jedh2uDUpxHcgWB1NbYkRJ5xotxKehFDyfd5dQ61F5dwXNUu8faWivwStrGn7IQAAAExBnoZFESwv/wAlsYy71MOf/95ddNQdVNSjV8U6oFGYPcvuEsIeYfpVAA/c1ymTwEM0MZ/EFD7+aM64tP/1EcnkFata95W96GfGAAFtAAAAMAGepXRCvwAyNaeh7qfmU3/35LI84QEv4feHZeEoVEyTQ5KCYwqHOIRDsUGbGMAIuQAAADgBnqdqQr8AM4Flqn5erHJdZ3a2y3bE2BLz1ittrv0zgPK8kC40nqRS4ZfU7PIyTTrLljepLHEBFwAAALFBmqxJqEFsmUwIZ//+nhAA8tm09NVLZPKr4NAT82w3E/F+20fd6yCEjuYWo4oqg7E/PCitXLk7OAL7ytNyB5vlvY4YbC31FbBjOkUEb/qLBf/TuEwgEuKciMBIkepxV9Bf4rlVSZinoqY0ZYxcv6OzPpRPwARVYi0SQ9AS4Smx8GklJrNF9yayOh3j2ynYgS04+/BFR0Mrad0UFZ7J30NXVdwkfFAEAmoO5AJZ9mzfZXgAAABNQZ7KRRUsL/8AJbjWgmyboK+IU9wJugMn+uh/2n2yy777cdjF0JCfO9VIhtPWJquOv3sj0ro4cLeGlgvRG9q29EIzN9z+wZwoBdNoAf8AAABAAZ7pdEK/ADN+KicGbK3ZUhy+ruHrEZVe8D3ZReg2argcl5oWJjiTe2GYjBB4amzdY2Y0eJxgENe0n6qzt4DGgAAAAD0BnutqQr8AM3/5Dam5dASYIDY6M4mpOWZRvE3rE79oaWK20jvWZB3IG+YVStgCu9datMncn3mPlmbxAELAAAAAykGa8EmoQWyZTAhf//6MsAD5c0+zsApH09uq3zMFJtthYoopvLHB4+2caIrg9CceR85Z/o3rqsKme8gixqd0t4FhE8TZk9/m6pfn8yAQCg6Xy55nyh/Cn8t9ITHgQsbeEZ5qm03Rf3ApolIjjJic8ZDkxtECHgdun+GQ+sJY96EBMR3/LHw1iQtztkcs2BHKp8a2JzJ/xe5e7/0NKrCiEO09kRcAzwrFNHkPs2aN0uf8I0DqKrcsImU65mnAWDLObX0gx77PJWZTqSEAAABUQZ8ORRUsL/8AVCeApBlOr2ClbZd9BI/UT1blUWKr+yOS7sjtFzClviLuvYl78+7Ah9yqGTtS9BwjoPINNnupdfDnLI6gD8vF6tcaozafnsBeyAFJAAAATAGfLXRCvwA0zrNEb0gJ4tAbbkZE22ofOsJrr35Xq8DMtJlUpQODHfVyekPzxDFwDvy55nYVHyg4YCov4hBHtqBLOAnM2zsw7EpABH0AAABHAZ8vakK/AHFZJV06la+5RpPFo+wEuTRRBp3J6wi10ulOmXznz5Z4dxglf9n3ufz71G7RMPnkYnto9F7DhqCXPEZNlOgAsoAAAAEJQZs0SahBbJlMCHf//qmWACIGvlg7n+yWAvVaZvwXgi+BarWz5d979Uo6CermhsfULi9xGALqeqRRf6j1ie3983Xw6z6jAU6LGXMIBOF41qfgr1IJTSs7YQOlA2gOf77LhMfVQRadX/X0RF4LDIvIGWTXMxB2XDBaDTwTLbLJrtBvIY30iCObuwaUv/4BAhmEFTVM/Bj5ZMbTjswxjLMDWwVCNr/tUn54GDfG4lIJLdxxZnl5yPfCoE49DnrgA2+Nknp7vzD82txqeP9jZ2lcDPxtdYkHR0fNxKRTHxylp00lmM0tgYg+IasfgO61S612ViqXpLhEZsJpqqNR9zIVOexkvwDPy+fv5AAAAFFBn1JFFSwv/wBUMiffg4OFfRs8dzh7YzFosS6s79BhRO8UdIRU7TC0ojdVf9PITL+OmfhLBhitly8CMR+M4s/3bxoIrTruC3bSQfvYbEAACpkAAABIAZ9xdEK/AHE31d1oN8TfEbJYCcfTIV+k9+1b+26Cpa41aHCoxbdW5ZT48Lj/LgWDnwFKQRLPr3cY1EcgXqMYIq4j6I4AAM+AAAAAPQGfc2pCvwBxWSVi0qGDfdBAciHX7g8/Bi6QIv5YN1rYefMiG5GxoUnN1mrom5wR/YFWMlgwezFImLsAAz4AAAESQZt4SahBbJlMCHf//qmWACMsRaeJhAH+uMk6yt5ig/xqeVqArJ66Tlko7wq5lZ6oGqrQ8hoPD0rr66s7y1+JzxrCqWw2j1lXiYw3swn7Pmi+wU7rI1y0eT9RFWUfnSBFWwg/uVInyG+VydVvbA9SZtTOrlOvVVAQT0BfvStbC27T3i1u360jOazpemWjTiroRp4iCVG/5WdtQnFZVL/SIoUUGe2tsr8HHtvIvAKPUa57hLrNWwAEWRf1MY/aPqnkbpG/nzuzFXkYc7wA0i/kAflJpCK82y4moMiqeBKUnaD3lP9ugOV4SaEmL5Xl3c8vYI1QyBl6kKJA9dauTf7m0qxCS7Dryffust+GGoR5bcwuTQAAAExBn5ZFFSwv/wBUMiffjIOFjXwAkPxjpMwCwu0+iaE768bKW4125GRQQD1tpETmm+dVcgimOG/8Z7X/m3g2J1Mw9G83sZeaKOxP0AJWAAAAOwGftXRCvwBxN9Xd6DhFyc/qAL6eSngh3GWwtBiJgmjAOOSKM4Rlk1jj9khJgbBQppbxToDf4pS+AAVtAAAARQGft2pCvwBxWSVjHKzc+22mFv23CPKpugLH+OBWo4Uv6MVvNhYhoAgfN/ue7QxG6Q1N1qxOMnoRYqS8MmaiISFiRQAA/wAAAOdBm7xJqEFsmUwId//+qZYAJAUfI1zb7E1AH8UbVNikUA6RhW0CD4oJeSlLQukR29tsN8gUIio8AKxxsagsbqCoNhT42gKr7OAe6rKNU4Ql0CZhEXEgjRrPgzOP7AkV5x8M2+DrdCxiZ96IJKAt1cq0e9gCOunFjQ7aVKISWHHQl57gmYDHo/TWspN4mtzaoeBuFaKauNfNLN+iUfJy+Vj4T7I4OtP0cZjvVJ8+q2gRNLAYCRF1S2xJevTypkLih/wpCfLL+tpsFr/BROwAsB0y+Cr+HHZ91GwH5qN43rTjFgEYaav+0bAAAABUQZ/aRRUsL/8AVDIn35UES4RlccyZVAfGTeI6gip5QO8KyQ6u51sIIcCN51SeAZVO2jfZfqbTT7yhkQBXr2UK7aGMt1iyHfRwLLxsSARgWWicADehAAAARQGf+XRCvwBxN9Xe7onukKHLqXrl4HG9L3BE1K1zqAG0SFZthaAVrs7JwJLmg47tEget90GKEQUHG+iwLbtHJ9aUwAA44AAAADwBn/tqQr8AcVklY3Z384BhIaqfAlzusv/xDCNRsX1JHCp31U4r58NjGh8meMAyKIBRKnTn8sOIfuUAAm8AAAFAQZvgSahBbJlMCG///qeEAElWaublPEAmn3w5Ho7kfgTr3SvGjwlaKNuP9bWBdXshS/+VWhxM5F1VgHGFa0QA0/ormIyy+6ChRvlwj86qyHKgkzMcvNcEyfaJAkWsIzYKIqxktTr/zS4lx46cyXfk0XLpm5XAoorDcZAJyp/rh7hkrhQitMJKr0xoH9Y9xZptru4/LIeOHTeTSEq6DCl6rRUc7BTlV5rsrKD++3iVrBkRwpcbRrKNthXNS6UPDCc5Slx5R+BYbQXYlr+kFHC82bBSOiJXfqkaokFKjYUFaBu6WpKkcddPWt4Y+UDW/S78thqrqqCWlF4Q+qaYvq0WWggV9HslhHEKxQ0Lj+13GJXFOhVvWZD1ehHkQ6pF4TMHpcK5RBupZYyGjs9efaHrnojBF45/L7bwVTU3F+mCetkAAABXQZ4eRRUsL/8AVDIn36ktTVva0SZZuaieGaH8S61RGItECZ+aww+6wPysIknCAApjBXz/fpFXIjLsXTVgZW8UJUoD7eNgQqB1x928hEKzwoEGxWS8AAl4AAAARwGePXRCvwBxN9Xfbonn9Jz8bOiAWaFRoNRWfEVSk8XXbcsYAUoFDzv8WmXywBwXD2Wj0Usw2F9VhM9vkfejBRTYH9J4AA1YAAAAPwGeP2pCvwBxWSVkTpxaYQLwKD3YgbHHYc2tG9ELn4gMUQlROQsE9yHYMY/dGm8Bkh+6zCFPu4v7QtV7gACJgQAAATtBmiRJqEFsmUwIb//+p4QAS0fMdn/AgQfQCp6iAHyosunRA5nZfb+VvYbTuCI4FANBe/DQhipC/hze2QoglQfWdX3Ped9AdQJ3V1K1hKWXojaM7LXjTvy3+BkaEf6MLq/kFqnqRDo+yqCB5JLTK3OvtHmEq2qTBKAJgpAGC9ATYtttsOlrtegZDR0j6lshtlSn2hL/A3bOhwb0d1eoLvKCzyW4uAgRuc/+EWfoRCuw5jqRekrQPHrIZ3rBLPA5MCk6ixQEr2pTeTgaCJ4wRL8y7sJdO2zXeKyTXyG9bJl+gMGLkFfHjsDbcPbLG6Ltg0OwsUG7FBoL/CW8c26AxZF7NIRiQm6z35nAq16R3rwBE7Bta2A0YLXtlwOVysHb+Krl4x9r5iDYq4zzBzQrDd1NroUAbGWPjH1kXaMAAABYQZ5CRRUsL/8AVDIn36ikqzxDYnc9p7Bs9ONY4geC12UHqIFpMMgXmImow5EE+pqJjNOMPkbhAlj9EOg9Y/IzACvu1nm9Ay9vnZn25kpDABgvUTuy1UABDwAAAEUBnmF0Qr8AcTfV3/gKOWz7VdyDXH80ps2YGgrLHjy2QwW5iH34zDGqLaWa8cDduVgBtkwk3TGB1ZIQsjDwlzJnijkgBMwAAAA8AZ5jakK/AHFZJWRNlI91CFkc+WTMM40JT/1QhjgzGD6PQ6ToZ45h2VVq0atoX2XftwYvROkmCiWwACphAAABRUGaaEmoQWyZTAhf//6MsAEwBtAtfXf+gUJkiLyFRzk94ROvj1B6be0/gBUikLazrsEuOH0/a2yutHSHUTVN9g+5zRVxJEgUAdGPq8FNZpwI6fpQ/+ZVNmh1BZtpg0Rh8+T84IxZxvJX9cKnah77ZsoHu3b7O0xcKJFpU9ROYmbcrxjFpnE0TRHzQJj+8Dm1rcvjpGzGsoLQSjtLEW6DZjbWBxyNvm8E0EvkXWhE+Y4s/HAbwUi60rCIrld/t981qkl7KrJNwYJbMrKICUoucHXqhrs41Zry5rMfS0gWEsygXa5HKXfHLrKkcARbJ9mBD6qidwDd8+SclIt+dFBzMcDjXtAlOlYfB61pR6PPGSbtWm1rHSJKnXm9L14zmKebZR/YWO3BuF6vAlOVMQSY4k6vTmsL/42KEQZo6Tr+Mz3wWNPgeasAAABXQZ6GRRUsL/8AVDIn37QcqA3WuU7+a+xTRNKwJolfTE7pQr2/c0Vt3SmyiV1ojvvLG6n+XBcsKDlIyKQnkHqyQ4z1n3Fjz5pRCADq+irnzoxPDcEgAAFtAAAASQGepXRCvwBxN9XgtVLxec8NIeftksR6TPOVWfG3EaLtQBFQXvZpkz8hahE8RAApLQ2Bo8SKriGSSCZfHAJy+GnsDFdQZhwA5oEAAAA8AZ6nakK/AHFZJWS5QwglVntApNpjeNQts+mMsGkYbVmqLWeaChLYKdi0stjNInZi01tkPCKXdkjQAFlAAAABH0GarEmoQWyZTAhf//6MsAE4BoWl8T5MhJeQ1bKRDoMvp83IwzB3HXcgvSdZJMUorYxrBSL+zZFC9EduGJhkCKrj7iQlzI9JnnuR8I6QdRXWG0BI/hKQmFBfJKX6ZcNcB6W8a4Ts7SW66b/yY8yUXbIqhvwB4Tf60wEoXNdDayWkzp/wprBCy2+2Tqf9SearPISOGUGt37qIkVWPjkTeGQgMTgXIrcGFthn/KBsMNA8OMuVASaQJKK5svH6e+4kLeI8SIvbYOwEpyAf2yX9Gaz6/PnjGUWpsQwijd+MM1PmI9e2/kXZ29zLgxROuBjjil2/R4kobaIztHUJ4aOEabeJjS1QE+VM019lJtVaBLEt+d24RCUfrCJZpg3Kcnwh4AAAAX0GeykUVLC//AFQyJ9/AsaXUJvtKFMUT3wju34wNTFFQ+Rt16ay/TJqAJJGuRGOQXyBTKTAoYn9w8d8Qf/cf+KNX+rwfyq5al3MrcWan4ipIAjjCplutuxe5UgYAAMqBAAAARQGe6XRCvwBxN9XgpHpY95ETuj1eakzAqjCIutguANLLQHf/2cDeS5CizjJjZrSTE2cyEMgizhiU0uR/h1S82IcUWwABswAAAD8BnutqQr8AcVklZSmF5d/3ujGi6dyzyamwAWFjY1fQFcCyQTttKpvnCfL9xpBHrh9MQU1BCwqFZoee+AIAK2AAAAD9QZrwSahBbJlMCF///oywATgFuiRBNEf3G2WvCpslc6+jqsmZQgETv3qG0RysTVD+VHsqVK25S5BYzL6IkaRNr3vdqIgYJ8K2Y1YnsoA5sUT6ufOL69t9/0Ju5F7CJfAC5roTx04ZMp7Jgq0yJfmtCldUKe9n/Gb08C6yOUvrsfRpORg+hsfOU1MIkKxSmTMASEnLdXc5UV6pPmKHjMi/p/Q1IOijn5RpOGRCDPHrxrTlCw/nZUC1LIzqHT446b1wFY8WMzYkC28Z/mtwUfQzVIGJmhtn9GawzOG2swuC4Wk6aMHpln4el9sPQaEEstkVWOttb7xnZjj9XorAgQAAAFZBnw5FFSwv/wBUMiffwJbmK8qBQ0ytQeRWcGzwj1cbxk+zBQ1y2YOLekZS3266PvUjVYD2o1Vvxb0AxEZdHy9yDDyJWZhwqcbd7HNc31Z5fioaAAD0gQAAAD4Bny10Qr8AcTfV4VSiXxhWkR+inAKpKK1hb2h3OqZipHzI4/N3RsPkmWsI9DP8KvYFyaugct31N63bk2ABcQAAADYBny9qQr8AcVklZSJUEmKLpPKh6rwNJJbeiP7bAku1ractM6ieXHlrrHNDc3sK5EhB9QMiAZUAAADJQZs0SahBbJlMCHf//qmWAChF41tTk23sgGJldBBzlqoM6LCJTKNjqWyao5Bqj4HVw7Tdhlu4KVWq7enPxsrCmTmAV1G7QZLnks+JT0aIz8kuhaSjUmHMzvWq04c/Aw1C0WWYd/BRrVO4mMIdvtX1oGY/+WFhQ9Cjr/e29c7dLC+tGNv159M7Ceh+A689NMqytZnWT3c3mX66+1ZRrfQSL82DbkTXkdakS5+kaF9ZE78GEep3MJHydwjAEZG7PvO1LqgbPAzaVk1bAAAATEGfUkUVLC//AFQyJ9/Am2pZKNowMH1wOdfgWngeVcz0RoIyIOZRvEHxzfuZhagzbu2hq6dZxmnrkB7W/nr7nYwVp/QG/yEXRCAACtkAAAA9AZ9xdEK/AHE31eFmCIehODapOq6jTNEtcAIoawxggLnRcp1ZHbZg2kf6OIFkUWyla8d4otDl8y1CmQADugAAAC8Bn3NqQr8AcVklZSnQhI/Ng1ZA0kh27QHpWXS9MVb7N3O6GcJLcedznn+T8AAEfAAAALFBm3hJqEFsmUwId//+qZYAKCpX/DIAL9qfay44F3GlqPr+2bJ9Q8TKs08aSiSZeMB80Tc2PwiNIo03OSETiFlo60Is+//Hdw1BYZ+BlRSQERs13wiGWAOMf9GWMNgVGjHO3LxDiqSY6eqan6tKQlKVPSIbsA/yfR/h1IgDgcVDz9Um//oIkXMxYbJIyfpd/z06IVE2hCCYCtPYBFgs/ffMUfcRkmH11VbNw4ja7dDeBQUAAAA5QZ+WRRUsL/8AVDIn382xwZe16QgwVLimno9Hdm7BwIQ1jcJNpWcB5c5QKkQOMnKWxZICMv3YAAf4AAAAJgGftXRCvwBxN9XhVYIxl8CJ+VGH0EWKcyASY6GhjUxjEQAAAwGpAAAAHQGft2pCvwBxWSVltTsIbsspt40yaqdMEjhCAAJPAAAAg0GbvEmoQWyZTAh3//6plgAoGt7QqXOkETedU4c+Z+GiTjAVKwp9VqhnZuqK592XVtK5TgADb5HlzqBgSPHkN4fY8q2ZcY/LOHILYCBOJokdBpl11kWDv/vLanXbOhRBrKCGMdNH0v1VSU8motYQ9wJdORQNLSa/rlCtXvENauEwABQQAAAAL0Gf2kUVLC//AFQyJ9/OPijGXyieBYxbr8bSc91GDMeEvBuR4LbhlyHbw6AAAD5hAAAAHwGf+XRCvwBxN9XiBtKpScJqh7LRj/73rJEbp+AAA3oAAAAZAZ/7akK/AHFZJWW1b4c8v6faSvQBYAAFlQAAAIFBm+BJqEFsmUwId//+qZYAKBsZcXIugN7auT0tnqDKP6gH7PKbS3nIv5iuGEouC9nrgng7d7dVkQReFGv2pNgTJDqBhtCeNE8NWQdPepckhS1zbIjlPsNObfUGVAERVdfkny9s9lOo5iM54I+LPsyi2ZUO3qs7V26VdGOnpeYAB/kAAAApQZ4eRRUsL/8AVDIn3849MnIfgY0u2C95cpK/uoo/t5ReKyuYhgAAB/gAAAAaAZ49dEK/AHE31eIG0qlLYvVcXs2VrjKAAakAAAAaAZ4/akK/AHFZJWW1b4c8v6faSlYUgQAADekAAACOQZokSahBbJlMCG///qeEAE9pkLdXw7dl+kC7xrrQLqbyI3B7opE00j8gmufMRhUAOIsmaSuaAKkk25QOuvr2TAoFjlXeTbYW8qv/5NKKqbnEDMCFJfD2S+ykBpThFZKeiXAbf5HJss+BwthiFOe1KSMOucnLL/y1FErL9VV+FDJsjE0qizL8wtLcdgAKSAAAACVBnkJFFSwv/wBUMiffzj9IORJ/YPreYC1I8AflwLrtAAADAPmBAAAAGQGeYXRCvwBxN9XiBtKpS2L1XF7NlYAAHzAAAAAaAZ5jakK/AHFZJWW1b1WGNHdTQt1t04AABx0AAACSQZpoSahBbJlMCG///qeEAFGp4LO1yrQdybObQMjxsXYW9M7uKX1GbZz+JrrBJ3PMPhBkpsFMzlik8cCE4ZIA6q3rvVIHIjA4TdlQH9T49/m4ZUFd+qOQMPOGBFEsUfyktvg8Alb+A3zkpIqPKKH6cxfFPViWooBFy9Zz1BYsClEXJQv/Z4pIvfl2Ml+EYdIvo+MAAAArQZ6GRRUsL/8AVDIn3849MnCDxZXupCS8jnczWLU7rOZUJYSkLOFcAAANSQAAABoBnqV0Qr8AcTfV4gbSVZgNpUX1xWCzgAAJOQAAABkBnqdqQr8AcVklYRYFWHAXCnrX7XtYAAZUAAAAwkGarEmoQWyZTAhf//6MsAFA5VjqAQAJeGewIy9HoEzYh6weB1zedSSF28BpreiXWf+fOadGIGYS+1yXOvPDpoi8hC8KKINHGiac/83UOQmi2dD3XPssPx36cDYnfd4ASzh+TGQg0i7cTZexSk3XzVG/GyL7kwAEbJGKDNoZ3DrnMYlr14TKcSeI9jNGQq49ZkIWzwfztY26qvhlmmijs+h3eg6ql6ns/gdSMW/5gxXly9DBU3Z0B6dUFYbvNLMcK/6AAAAALUGeykUVLC//AFQyJ9/NGj18SMYrAJjOCY+749MsEE4xnPNASQImJyIoNQADUwAAAB0Bnul0Qr8AcTfV4hgSSfOCY2lG9onbJobHIAAQcAAAAB8BnutqQr8AcVklYcdSKBwsnDHGPhaCnYlIkS0QACkgAAAAxkGa8EmoQWyZTAhf//6MsAFA9cpczSWp7egBtHjTl03uDRcK54KmfmzW+i6833mK3cpRldzbP+xyK23zBYZgFdkNG33uTHYte59upv+ue/46LND2Uz/xTJuWwAgxd4g1RopXcTGKMstwtOQ0200bCJuww4g9/WG1fqvWpiwSIlBBsN0B71H+AZxL2nzT/LRh9UQI+2l1g2p22wklzQo9+nDCtupRKZa42ScWrMGbFW22D6dbWrFQC5GUJ9bu7Q0hCVTb+jZewQAAADVBnw5FFSwv/wBUMiffzgWhTU0pHHCqjD9gTyG3sBW4DRfWdcfHIVabVY1u31/4+Zl4AAAtoQAAAB0Bny10Qr8AcTfV20jJBH5UT5TFik4WgjyUAAARcQAAACMBny9qQr8AcVklZbVvheRnR5+MLxMjYCgqvJ10ex7h3gALaAAAAOdBmzRJqEFsmUwId//+qZYAKUIdaJA6FKNrNikF3rJV6Ti6j4Gb4whtQRezui8DPIPTsIjnZSlm6AzMjIYPtD4Nm78MeJfp+GxiNxa8P2t7sIEGDTb/kRwr36M/OWomCalFKpEQbWkajc+ALT2fhqL+SWKU6OTYmC4nZt7WXv3vRVmqImaWEXP6EJv1EbVLvpYDKWc35AUAvtjqKTzLIubSdhjOCeMGCj+Pfpq0orKVmOxfR9LSTnes5Cfv2yNGAHT5r+RPOf5ikK5h+qhJnWXxj9rPaFKv6h47Jzdmr1HYKPCM/HM1cYAAAAAzQZ9SRRUsL/8AVDIn36hpsqab3h+ltpQCavrJ9kApm0cHB4yw5c217nU4tNg86PvAABnxAAAAHgGfcXRCvwBxN9XbuAktmbDzl9UFtLfEFkOA4AAekAAAAB4Bn3NqQr8AcVklYWK6cFAFamHDrh101lhQ0AAAz4AAAAC2QZt4SahBbJlMCHf//qmWAClMaJ81AY3uH6KWVmNC04MGvtH6RGe9Obu+l/zc46D+V1L+2yKUS+FZCq0us7ZW8HmXD4OPCEa843OelWxUMKVp0B83l/996BoFJGhWbk07t1cmZM4fqNjsFs+XWuZEWfLJ4fKakuRq9Z2KjK9E3zbraoCX2VNzgddS91l7XsVh35zzpPLOgbrtVCxjzwZXB9OI3uFUmKpTbXf6gVput1nbLEtI3KsAAAAsQZ+WRRUsL/8AVDIn31/pBtX+gUuZ4UaDR+FTBmOcC09QtEsY8c+rjVAADPgAAAAeAZ+1dEK/AHE31du4CSYpsPOaK8TxQCJxQPQIAA2ZAAAAHwGft2pCvwBxWSVhZP5jxjnePdAnB4o13iKGyzAAKCEAAADGQZu8SahBbJlMCHf//qmWAClnbOZAiHFJMoJKoKUgMt+7OX97cHIOY5mdw2vCGn4VnaSzML5GQoG2Ry5YK6brwbw5ID46Qqj8IcqT/8590L1YeLuEIUQBSZhoAXnHiUaCjT6NuFL6zctJVn3hTL2gvbSNKqT05HLOcHgzHAHYXnH5lU3ekSShMValGn9MrnBloWJdgaMGJ/8utnXw1MfZMEoLHAOc8RHbjjuitnYqdM38qnffsN/HurLhaEEgWwUjsI9YQR3gAAAAN0Gf2kUVLC//AFQyJ99jQ+0XeXFVAuifY3QhwLvfN8AHGQ0YqloJCpVvQxARwW31fyf9gAAAD/EAAAAdAZ/5dEK/AHE31dt5LVNrDEfQW9/QldYAAAMAYsAAAAAbAZ/7akK/AHFZJWFiomshdMkYwQ71/44AACghAAAAwkGb4EmoQWyZTAh3//6plgApOx6qAuw/etNpm5u5Xb8btFOl0LVq/1yfevQS10T6q//djJaUtIx6tkOys3tqHmOM4w3wDeyaJTdmmz6fC5LuXO3vwksprWBsTmfVocLwZRfgGW2R0U7YWNxG6jHKi+RBN0Ve6IkVKSkEMarHVZQCmnwTh4/+RHBZLrtY2LhqtYbpFi4eCQdaWjYko837Grdn/R2L1lQo9FVKJmxUtl2fQZeDW3vDrLBsT5GGy2VqTDEhAAAAI0GeHkUVLC//AFQyJ99dlqcC7YpFtHhPYdbveQvlKj5gACygAAAAFAGePXRCvwBxN9XbSMj9NMEyAEHAAAAAGgGeP2pCvwBxWSVhNg67B3ye8h3yEVSAADUhAAAAukGaJEmoQWyZTAh3//6plgApOxSYBVIJqVPY4y4PHfwmuo72K+DT1ZBWOUAJ5N/BB6P4vgapRAWFLR7ByTjFN4iOzQ+lJphrrQfch2dJ9cu0IsDqd3J/G2NuWxRn6kGgZnto8wO7WS3/FjPIRV8TEOEN22lBpwSnj2OFHuZVOCj5wDnONFa3MCmOJVKHTXoo8BCDQb5eWTlOnUj88zwHoMzinbEotPvNwnjoYt8fNtmHWc4+xPO7zGBOwAAAAClBnkJFFSwv/wBUMiffY0PvlIwmLNZif2+2CW26TtwmktM5Umc3NwABHwAAABoBnmF0Qr8AcTfV20sv6+1rnHkXkVYwwIAD/AAAABQBnmNqQr8AcVklYRYFVU05cwAN+QAAALFBmmhJqEFsmUwId//+qZYAKTevW0nJICVYD+kJdCtDrJ0dKjSFd2bMX0qatUAcHOeBXGT4PScVfhvoOaiYR2czHHmM0p5drdTP4wqCjEWOPsTYjfO8j2aNymCJD0+owvp18TURXLO1xCrP3390uXtc1KMwCsgwNBx7GKMmgZTtHnD4mfrv/C9e7wWdTUfYcm1fHrsXMRGh4m0SepX4FnCw2EPWd8C28Fd1aqNcT9xxs8EAAAAfQZ6GRRUsL/8AVDIn311xZTt/L99hI43+0Ab+YAAK2QAAABcBnqV0Qr8AcTfV23lP0L+WbamXiAAC8wAAABYBnqdqQr8AcVklYRYFVfjBtyH8AFbAAAAAgEGarEmoQWyZTAh3//6plgApN6mgFeMgluAFXfCo2mQq0sUfsB3QQPO5EvfK2PJ/uuPVpgWeXLdc8S9+GLnxs5Pyc8NRMkkdcqLWPj7zURHj7kU37AkVcw+lXLcLm0wlot8ce/1zFfirHIqmjNJB+e/0tBu2dqwO4dsUE6SXgAZUAAAAHUGeykUVLC//AFQyJ99dcWU7fy8kjlj3on2ZIAGzAAAAFAGe6XRCvwBxN9XbSMj9NMEyAEHAAAAAFAGe62pCvwBxWSVhFgVVTTlzAA34AAAAoEGa8EmoQWyZTAh3//6plgApNJrcVUBd9d4sqXS5pdAvlyi08AUN7W8IszLPOJuZm3O5FB5joGw/0po9tiDbpPlnBhjc51UnCtm1ELmq7tHYelUiNWHt6TghYqZk7s1RMvMZUCVISVT8muIPcaQ07KXTATXfkZXi6IspW3p7ZwQew9l9HejOu9TxV+kSVIbZ+m0FQI4juefHJMb24ygADekAAAAfQZ8ORRUsL/8AVDIn380e+ZL7TSSN5DB4OFM/gABBwQAAABcBny10Qr8AcTfV4gbR5Dmbih5qgADVgQAAABIBny9qQr8AcVklYRYFVNwACTgAAAB/QZs0SahBbJlMCHf//qmWACgsv+9dyplPdAQvQTmk4eMtjFMAIWo8Qvla1QeQcgp3CWpPw/UyJORikzSpAsexJ9P8duH8NfhTmk36Eq1mcQXGBt0W9ieq0z2QfLOpSpygpJF0CTsompLVUaoy5cgAfrisNCeecgkoJqlqRIAR8AAAABxBn1JFFSwv/wBUMiffXXFlOK9FKW4u78YyAHHBAAAAEgGfcXRCvwBxN9XbSMj8IAAW0AAAABIBn3NqQr8AcVklYRYFVNwACTgAAABcQZt4SahBbJlMCHf//qmWACgbQAVAIRfAj/r/1OKH38NU6vNWCObJAsFBoE+cpQdje7kj2JSOVc/gj1j7NaE0E4bKSXN7cWyxg9tDcWBWNWWNpUSJfF4I6IAA3oEAAAAfQZ+WRRUsL/8AVDIn31/oUXl9o/eSCJg8HCmfwAAg4AAAABQBn7V0Qr8AcTfV20jI/GMwTIBDwQAAABIBn7dqQr8AcVklYRYFVNwACTkAAAAvQZu8SahBbJlMCHf//qmWACln3kI2TPXgTABd501mbzObZdzoEtNqzQUTzWYAg4AAAAAcQZ/aRRUsL/8AVDIn311xZTivRSluLu/GMgBxwQAAABIBn/l0Qr8AcTfV20jI/CAAFtAAAAASAZ/7akK/AHFZJWEWBVTcAAk5AAAAUkGb4EmoQWyZTAh3//6plgApPI3AC+viq6WZx8ASYES67W/kXKWN1l+L1MceNFNO/PFaYSLGDJ02CySfJTbON9fDBcanSiQBG7J+8n6JYnAAMqEAAAAdQZ4eRRUsL/8AVDIn311xZTjpLmtMZ5VNVIAABgQAAAAUAZ49dEK/AHE31dtIyPxAmCZARcAAAAASAZ4/akK/AHFZJWEWBVTcAAk5AAAAUkGaJEmoQWyZTAh3//6plgASgTsYVVgAuIXs17JGtup1Lre8JR/mkZyzevzdORI3tqLwUnHZqPpfRpxXcuwU+k9yCj7qLl107IxBLeqCj7hwBowAAAAdQZ5CRRUsL/8AVDIn32NDJqF9o0W5W9VNVIAABgUAAAAUAZ5hdEK/AHE31du6mplbqUgAHpAAAAASAZ5jakK/AHFZJWEWBVTcAAk5AAAAT0GaaEmoQWyZTAh3//6plgATFqhNppAuxTN2VRcKKG0/dodFGqcqv6slWVxO1by6Jjk4sfxWkir9Gk0pVXeH+ptTmUtKwT4Qy53TVExgKmEAAAAeQZ6GRRUsL/8AVDIn311xZTv2GpLfuBeyYbWqAAb1AAAAFAGepXRCvwBxN9XbSMj9XMEyADphAAAAFAGep2pCvwBxWSVhFgVVXsCxABBwAAAARUGarEmoQWyZTAh3//6plgAIQjUw0CfK4begIUI8tb3L5tf1yHnpDW0E+HyySN2WM4u2YMVKLZDTq5+qWfR2E0HYfsyBZQAAACFBnspFFSwv/wBUMiffYtIRU77Ti02qqwtLnBLvOyAAEnEAAAAUAZ7pdEK/AHE31dtIyP1lXVIAOOAAAAAUAZ7rakK/AHFZJWEWBVVewLEAEHAAAABfQZrwSahBbJlMCHf//qmWACcIXFG21BAu6ewPWMY+WQmmj1gQ4LpPWArrAXl5RaD1rR9f62hYf5bRV4NtZjHn7sC0aw2W/aYvQyV1SzZRjZ+QVQFJXNywOQZj6WgAFbEAAAAfQZ8ORRUsL/8AVDIn311xZTv2x1o0J/b/XYOPMAAGfQAAABQBny10Qr8AcTfV20jI/WVdUgA44QAAABYBny9qQr8AcVklYRYFVV7A5YAlAC2gAAAATUGbNEmoQWyZTAh3//6plgAoJ5XJcFMVAlWAXpx/WdT9+giAZfdDquXEMfzJaCPTFPlon9fgsIK7gu9K3TE0m6SFD3rrWdHT3lFAAJOAAAAAIkGfUkUVLC//AFQyJ99dcWU/2WQ9ujGo0a/gaii+KkAAOOEAAAAWAZ9xdEK/AHE31dtIyP1lXgcJJQAtoAAAABQBn3NqQr8AcVklYRYFVV7AsQAQcAAAAExBm3hJqEFsmUwId//+qZYAANQmvePQ4tpI62yBaRKUAo5u2zra1lVcG7XZ8rFcEY9E0BPo6lu+fTfoH95CTCkDQjZLfYp9U7J3VAcdAAAAIUGflkUVLC//AFQyJ99dcWU/3U/Kh4cR/uh8Qo6ZYAAO6AAAABYBn7V0Qr8AcTfV20jI/qiL3vhUACThAAAAFAGft2pCvwBxWSVhFgVVXsCxABBxAAAAWEGbvEmoQWyZTAh3//6plgApZ99hAMyN/ybUs6v90x8AM3DpCPEsEbE5XABThswt51pTQfja+P99FGsnSz2CeB3Id0qaYs2VIj2Z1NGge0k3Tnrx0WWAFDAAAAAfQZ/aRRUsL/8AVDIn3821DMl9pxaa+Pj/CzVHYAAVsQAAABQBn/l0Qr8AcTfV20jI/WVdUgA44AAAABQBn/tqQr8AcVklYRYFVV7AsQAQcQAAAEtBm+BJqEFsmUwId//+qZYAKWonCUBg/467XYUBSXKMCaVO3UMDacPQBsjtH6kTOBnE+tOI/MCg7tnZOROzNl4cdD+l0TbDy0kAYsEAAAAfQZ4eRRUsL/8AVDIn380e+ZL7TjE18gH9oA38wAAVsAAAABQBnj10Qr8AcTfV20jI/WVdUgA44AAAABQBnj9qQr8AcVklYRYFVV7AsQAQcQAAAChBmiRJqEFsmUwId//+qZYACIGelydzKw/syyzZGPN6Loar/bM4AMeAAAAAHUGeQkUVLC//AFQyJ99dcWU79scioHk3on2ZIAGzAAAAFAGeYXRCvwBxN9XbSMj9ZV1SADjgAAAAFAGeY2pCvwBxWSVhFgVVXsCxABBxAAAAPEGaaEmoQWyZTAh3//6plgAIwh6jgBjgCJjAi63AAHjA7x0TiiAAMD54Ll1bllpgiYc4/xZ4JPQsRaAekQAAAB1BnoZFFSwv/wBUMiffXXFlO/bHIqB5N6J9mSABswAAABQBnqV0Qr8AcTfV20jI/WVdUgA44QAAABQBnqdqQr8AcVklYRYFVV7AsQAQcAAAACNBmqxJqEFsmUwId//+qZYAAGUpUuVPxkUBcJGTwDyiVwAu4AAAAB1BnspFFSwv/wBUMiffXXFlO/bHIqB5N6J9mSABswAAABQBnul0Qr8AcTfV20jI/WVdUgA44AAAABQBnutqQr8AcVklYRYFVV7AsQAQcAAAABpBmvBJqEFsmUwId//+qZYAAAMA2ZUYR3gEfQAAAB1Bnw5FFSwv/wBUMiffXXFlO/bHIqB5N6J9mSABswAAABQBny10Qr8AcTfV20jI/WVdUgA44QAAABQBny9qQr8AcVklYRYFVV7AsQAQcAAAABdBmzRJqEFsmUwId//+qZYAAAMAAAMBgwAAAB1Bn1JFFSwv/wBUMiffXXFlO/bHIqB5N6J9mSABswAAABQBn3F0Qr8AcTfV20jI/WVdUgA44AAAABQBn3NqQr8AcVklYRYFVV7AsQAQcAAAACpBm3hJqEFsmUwId//+qZYAAGBbtwyBekOgJVPmGiwui+FQAnHm2nF4B60AAAAfQZ+WRRUsL/8AVDIn311xZUwCHYC9cKr9WM032AAFTAAAABQBn7V0Qr8AcTfV20jI/WVdUgA44QAAABQBn7dqQr8AcVklYRYFVV7AsQAQcQAAADJBm7xJqEFsmUwId//+qZYAJv/5iiXoDA+TFIdSzkKGLuVlDbLRvbLsepXFF1w+QACggAAAAB9Bn9pFFSwv/wBUMiffXXFlTAIdgL1wqv1YzTfYAAVNAAAAFAGf+XRCvwBxN9XbSMj9ZV1SADjgAAAAFAGf+2pCvwBxWSVhFgVVXsCxABBxAAAAHEGb4EmoQWyZTAh3//6plgAAz1W30gX3tRAACvkAAAAfQZ4eRRUsL/8AVDIn311xZUwCHYC9cKr9WM032AAFTAAAABQBnj10Qr8AcTfV20jI/WVdUgA44AAAABQBnj9qQr8AcVklYRYFVV7AsQAQcQAAAB1BmiRJqEFsmUwId//+qZYAAM/6Kx1EC8+KIAAV8AAAAB9BnkJFFSwv/wBUMiffXXFlTAIdgL1wqv1YzTfYAAVNAAAAFAGeYXRCvwBxN9XbSMj9ZV1SADjgAAAAFAGeY2pCvwBxWSVhFgVVXsCxABBxAAAAG0GaaEmoQWyZTAh3//6plgAAz0f4QL72ogABXwAAAB9BnoZFFSwv/wBUMiffXXFlTAIdgL1wqv1YzTfYAAVNAAAAFAGepXRCvwBxN9XbSMj9ZV1SADjhAAAAFAGep2pCvwBxWSVhFgVVXsCxABBwAAAAHUGarEmoQWyZTAh3//6plgASnGac4AXemUQAAB4wAAAAH0GeykUVLC//AFQyJ99dcWVMAh2AvXCq/VjNN9gABU0AAAAUAZ7pdEK/AHE31dtIyP1lXVIAOOAAAAAUAZ7rakK/AHFZJWEWBVVewLEAEHAAAAAiQZrwSahBbJlMCHf//qmWACcHE1QF5V4rLQ+zoJAAAAMCLwAAAB9Bnw5FFSwv/wBUMiffXXFlTAIdgL1wqv1YzTfYAAVNAAAAFAGfLXRCvwBxN9XbSMj9ZV1SADjhAAAAFAGfL2pCvwBxWSVhFgVVXsCxABBwAAAAJEGbNEmoQWyZTAh3//6plgAnBnpQJ963ijOaQyu3e4E3JOAGrAAAAB9Bn1JFFSwv/wBUMiffXXFlTAIdgL1wqv1YzTfYAAVNAAAAFAGfcXRCvwBxN9XbSMj9ZV1SADjgAAAAFAGfc2pCvwBxWSVhFgVVXsCxABBwAAAAH0GbeEmoQWyZTAh3//6plgAnBnpQKEf3ijY0LFIAO6EAAAAfQZ+WRRUsL/8AVDIn311xZUwCHYC9cKr9WM032AAFTAAAABQBn7V0Qr8AcTfV20jI/WVdUgA44QAAABQBn7dqQr8AcVklYRYFVV7AsQAQcQAAABtBm7xJqEFsmUwId//+qZYAJwZ6UCfet4AAAZUAAAAfQZ/aRRUsL/8AVDIn311xZUwCHYC9cKr9WM032AAFTQAAABQBn/l0Qr8AcTfV20jI/WVdUgA44AAAABQBn/tqQr8AcVklYRYFVV7AsQAQcQAAABtBm+BJqEFsmUwId//+qZYAJwZ6UChH94AAAZUAAAAfQZ4eRRUsL/8AVDIn311xZUwCHYC9cKr9WM032AAFTAAAABQBnj10Qr8AcTfV20jI/WVdUgA44AAAABQBnj9qQr8AcVklYRYFVV7AsQAQcQAAABtBmiRJqEFsmUwId//+qZYAJwZ6UCfet4AAAZUAAAAfQZ5CRRUsL/8AVDIn311xZUwCHYC9cKr9WM032AAFTQAAABQBnmF0Qr8AcTfV20jI/WVdUgA44AAAABQBnmNqQr8AcVklYRYFVV7AsQAQcQAAABtBmmhJqEFsmUwId//+qZYAJwZ6UChH94AAAZUAAAAfQZ6GRRUsL/8AVDIn311xZUwCHYC9cKr9WM032AAFTQAAABQBnqV0Qr8AcTfV20jI/WVdUgA44QAAABQBnqdqQr8AcVklYRYFVV7AsQAQcAAAABtBmqxJqEFsmUwId//+qZYAJwZ6UCfet4AAAZUAAAAfQZ7KRRUsL/8AVDIn311xZUwCHYC9cKr9WM032AAFTQAAABQBnul0Qr8AcTfV20jI/WVdUgA44AAAABQBnutqQr8AcVklYRYFVV7AsQAQcAAAABtBmvBJqEFsmUwId//+qZYAJwZ6UChH94AAAZUAAAAfQZ8ORRUsL/8AVDIn311xZUwCHYC9cKr9WM032AAFTQAAABQBny10Qr8AcTfV20jI/WVdUgA44QAAABQBny9qQr8AcVklYRYFVV7AsQAQcAAAABtBmzRJqEFsmUwId//+qZYAJwZ6UCfet4AAAZUAAAAfQZ9SRRUsL/8AVDIn311xZUwCHYC9cKr9WM032AAFTQAAABQBn3F0Qr8AcTfV20jI/WVdUgA44AAAABQBn3NqQr8AcVklYRYFVV7AsQAQcAAAABtBm3hJqEFsmUwId//+qZYAJwZ6UChH94AAAZUAAAAfQZ+WRRUsL/8AVDIn311xZUwCHYC9cKr9WM032AAFTAAAABQBn7V0Qr8AcTfV20jI/WVdUgA44QAAABQBn7dqQr8AcVklYRYFVV7AsQAQcQAAABZBm7lJqEFsmUwIV//+OEAAAAMAAC2gAAAICWWIggAEf/73iB8yy2+catdyEeetLq0fUO5GcV6kvf4gAAADAAA9hYRO+pfVHWE/AABDAAG9J+Fv4ZvrowLqZTnulHSr1B91thQDaaJRBrtNQTWEt6ejnh7jGkybRMUOzC4MspoEXK3xS8o4xDBSchO6WGO83ZJET2zvblfQuvoHFxT4aatRi+GiyijPKV0gU1OGmbFTvLuziqTpDQMbk3qeaaz1zPC2zPa43VU0IA2siC2z+jVlzY5zv1ryoxyLt5xzmYz81KTaBprD3gQMqTFKI3tkmsH0E7Gc1/bSSdyOHyK4AIDnO9yY5OLAyRQGwvmFG9F/sklr1NRVcJ5t6vQ81wEjN+E6HIhbyngHdK9HG/CG5GPjeEsIAKwwWlr/6P2rOSQN4oDaCvDPCPcqySNRbmbcfHXrtToO5ZgOU4RJcjCepghMqYMZePNo8cFUMOfm5cubSlKBA+qjvmJ/JLvaBaKsdRwe4RNwyKEjW9JU1EU+NLBY4eeDoQLnq5AO1WlCFGcyItQfGEHi44iBjlrr2VpGT8mLr+ppNwcH+Edrv9cnPdHNC/EiKD4X94N/s6dzdx3VqVav1wV8+EsCST0gIzA8zk7SnP+40ikXLxTza8rSIZ1QyflyJRkOn9D9Z1EIqtlvRPjxmpHJhyRvcUXv+kQaTi3bzLs/Fnj7tpSNj4BzgCirjCsLCasaER9xP4PpLrtgBR1M9snvsura9iFXV0ufbyjriMbWQNtmglGFYrmox8gcF0CNtPbmGApFaynTnFdVDMJSLu0kUAFhBETVf7VGzrw+xCIU1zGkISRGdprS6fefk4ULB0UqLyj7Udn2wgSsBSECv6v/3hlgMX3s0tx73ebDqre10JoTKnlGl8ewrE1lxWuWrOx8UqNVpOiihHj05AiEAKyg42oza2GcdnA2+l8xsSP/E8zlOb/uOc/e05z/Cc4sW0q5NzhtoZezDFyJgA0LzRXNJJ9shlnh9pYG9xkiSyZ8CsZPflA6lQjAK8ibhAtHjRuxMyhBFIsZgSz72N1vUEgJZoqu3SQo43FzgTm4aVJa/pTr446gfx6K8H7E2GBD+qXZfJFWRoTJR1p2a6ESRDnlpSS+ILtGIzxdE1SBDaQivKbTXSy2AT0zZ8nLzTSqSEz29+kXtFKbkEFDaR+7E3CoAe0KjX7TzzBnsknSLLdumuDw4FYGBu09K+vFmEoQw2gMVDoknCdzbGSEYNPVcXbDhqH+2ZsU62UjWRV6RSYZe0Yo+Lg62GImCjICY7MwNusqJEx+PEkMDY3MbabD/fMUPy8OFymrBRbiG6syXcrwUIwkzRWZQpAIqbH0BvRSn5fMNaFznyePdvrbFuCQeDAPCwcYF+6Q8iEvvptJAUIXh8RMm3UTjKNYehXhI2TDTNd952cXYjdvJJwenfl3JkNXwPm951fwZnAec/lm5ayT4D5uQzEynlV0S2vMmGMJvxUO2EsAMRhJAa6Sxjm8aJGiS7WL7ESSx2SmHfGdolXDnjmqAHtf/Vmt9XH5KHtHgQ/yQQduv9dvSsJeuFv6G7RxjUJ95C2ZVNa5dPc/z9mO/jzQAy4sPF8vuWjgshcGai/KlORW2dOcrXLPM3LQOB88HOW7pLe7bwPHOn/pHuOhLllVqxyuoeZ/LPWrA48FMli0ciDyis6VlJ/iwHvN6KPzNCd1n/jWVxiIbY3kU8vcwM0oVMv+9rwmJo4VzTCEmtqzXrQwKX31/z/TLjYdXsr219wiFK2VzYd31+aUjSmKUatAe0uPL6G8JoUeZUjhLNO5MPJuEjdWt3pqHhm334iq5KoAcSVBjNf6xvUZRUor0ueDTlXxiha3/jYDRnNf0X1/6qY8orHB5J0Ng9blfPwkkBX5x4tzBwTJTGB+SUS3MHy2kyz07I8vaGXH3lUJFq/Xksbuf9DzMzH4vWH3ef8F5h0e89CeBxCCW11avP/Cg4mEYHF+YMdIc3f4XCTJrlSVYTCoNd8bIzmKjKQJkRaEptcpSivHdU4GWy6Z6f1n/4TeSK2qgjqO3kTO1sddGsKWiTaEUaENljGEWNitvf/1Tnb/QWKOPLHedd6f13KnkX9F2TCzXpwh7tqwRI2dYufQZAO+4H1cc4eJMX0QaJHmP1lTysIK0b2eUf8SvFFKiOaNMvg6i1uuSlWVT/LvEBpKN3+dTR355oI/ykth2bFnlcWJX3m07or2IPC7tJ8AAM0NSmvCD9mLcSGv4XbhIj5N4aJRI9x8YSfaqnLPL9wjjTNtmU5TiLb/PZcFckbaNyFGQzU9vdiyKcMsUPGh+VyK8cNhUtcn3rJ7JGKAQ6ps+taPz6RSk+87860mTgz5sC5aDALqPkVob8IMJ6OKXgRZycHpYuzptPksqQcoqHxf0XHmsCC1iKCSYb1WzhfZ9CJ1syLG8x9FP95fQeI8annDhG4b01fuFichJNMU+VVzqBT1Zu+0y4MDsqqXYIh0hxoNirIKMq4boWvWs0hXiuhP839iuqYYuzfeyt8ePvfiItAvd2vhik0syuz8XTW84dp+LQ+xFBZPQiDLJnk45ZY5XXhyd8khyrPvTdDCgUi95CIfUI1PtuZdvmJL/0UTI3QM8Roc2wMzhtUs5VGtzS1dGBmMe2RczpQfyffGtgfYI3uBmoVbY6ZSvk8s2kEGxBUOdzfw1ycaT79LHo7pk3yTVoFNh5qznwznVlyGKPerxBWQepGgA9c4DjAIgFKvAAADAAADAAADAAADAAW9AAAAHUGaJGxDv/6plgAA1IaMnklNkY93PEvkBJUfAGzAAAAADkGeQniF/wAAAwAAAwHHAAAADgGeYXRCvwAAAwAAAwJvAAAADgGeY2pCvwAAAwAAAwJuAAAAF0GaaEmoQWiZTAh3//6plgAAAwAAAwGDAAAAEEGehkURLC//AAADAAADAccAAAAOAZ6ldEK/AAADAAADAm4AAAAOAZ6nakK/AAADAAADAm8AAAAXQZqsSahBbJlMCHf//qmWAAADAAADAYMAAAAQQZ7KRRUsL/8AAAMAAAMBxwAAAA4Bnul0Qr8AAAMAAAMCbwAAAA4BnutqQr8AAAMAAAMCbwAAABdBmvBJqEFsmUwId//+qZYAAAMAAAMBgwAAABBBnw5FFSwv/wAAAwAAAwHHAAAADgGfLXRCvwAAAwAAAwJuAAAADgGfL2pCvwAAAwAAAwJvAAAAF0GbNEmoQWyZTAh3//6plgAAAwAAAwGDAAAAEEGfUkUVLC//AAADAAADAccAAAAOAZ9xdEK/AAADAAADAm8AAAAOAZ9zakK/AAADAAADAm8AAAAXQZt4SahBbJlMCHf//qmWAAADAAADAYMAAAAQQZ+WRRUsL/8AAAMAAAMBxwAAAA4Bn7V0Qr8AAAMAAAMCbgAAAA4Bn7dqQr8AAAMAAAMCbwAAABdBm7xJqEFsmUwId//+qZYAAAMAAAMBgwAAABBBn9pFFSwv/wAAAwAAAwHHAAAADgGf+XRCvwAAAwAAAwJvAAAADgGf+2pCvwAAAwAAAwJuAAAAF0Gb4EmoQWyZTAh3//6plgAAAwAAAwGDAAAAEEGeHkUVLC//AAADAAADAccAAAAOAZ49dEK/AAADAAADAm4AAAAOAZ4/akK/AAADAAADAm8AAAAXQZokSahBbJlMCHf//qmWAAADAAADAYMAAAAQQZ5CRRUsL/8AAAMAAAMBxwAAAA4BnmF0Qr8AAAMAAAMCbwAAAA4BnmNqQr8AAAMAAAMCbgAAABdBmmhJqEFsmUwId//+qZYAAAMAAAMBgwAAABBBnoZFFSwv/wAAAwAAAwHHAAAADgGepXRCvwAAAwAAAwJuAAAADgGep2pCvwAAAwAAAwJvAAAAF0GarEmoQWyZTAh3//6plgAAAwAAAwGDAAAAEEGeykUVLC//AAADAAADAccAAAAOAZ7pdEK/AAADAAADAm8AAAAOAZ7rakK/AAADAAADAm8AAAAXQZrwSahBbJlMCHf//qmWAAADAAADAYMAAAAQQZ8ORRUsL/8AAAMAAAMBxwAAAA4Bny10Qr8AAAMAAAMCbgAAAA4Bny9qQr8AAAMAAAMCbwAAABdBmzRJqEFsmUwId//+qZYAAAMAAAMBgwAAABBBn1JFFSwv/wAAAwAAAwHHAAAADgGfcXRCvwAAAwAAAwJvAAAADgGfc2pCvwAAAwAAAwJvAAAAF0GbeEmoQWyZTAh3//6plgAAAwAAAwGDAAAAEEGflkUVLC//AAADAAADAccAAAAOAZ+1dEK/AAADAAADAm4AAAAOAZ+3akK/AAADAAADAm8AAAAXQZu8SahBbJlMCHf//qmWAAADAAADAYMAAAAQQZ/aRRUsL/8AAAMAAAMBxwAAAA4Bn/l0Qr8AAAMAAAMCbwAAAA4Bn/tqQr8AAAMAAAMCbgAAABdBm+BJqEFsmUwId//+qZYAAAMAAAMBgwAAABBBnh5FFSwv/wAAAwAAAwHHAAAADgGePXRCvwAAAwAAAwJuAAAADgGeP2pCvwAAAwAAAwJvAAAAF0GaJEmoQWyZTAh3//6plgAAAwAAAwGDAAAAEEGeQkUVLC//AAADAAADAccAAAAOAZ5hdEK/AAADAAADAm8AAAAOAZ5jakK/AAADAAADAm4AAAAXQZpoSahBbJlMCHf//qmWAAADAAADAYMAAAAQQZ6GRRUsL/8AAAMAAAMBxwAAAA4BnqV0Qr8AAAMAAAMCbgAAAA4BnqdqQr8AAAMAAAMCbwAAABdBmqxJqEFsmUwId//+qZYAAAMAAAMBgwAAABBBnspFFSwv/wAAAwAAAwHHAAAADgGe6XRCvwAAAwAAAwJvAAAADgGe62pCvwAAAwAAAwJvAAAAF0Ga8EmoQWyZTAh3//6plgAAAwAAAwGDAAAAEEGfDkUVLC//AAADAAADAccAAAAOAZ8tdEK/AAADAAADAm4AAAAOAZ8vakK/AAADAAADAm8AAAAXQZs0SahBbJlMCHf//qmWAAADAAADAYMAAAAQQZ9SRRUsL/8AAAMAAAMBxwAAAA4Bn3F0Qr8AAAMAAAMCbwAAAA4Bn3NqQr8AAAMAAAMCbwAAABdBm3hJqEFsmUwId//+qZYAAAMAAAMBgwAAABBBn5ZFFSwv/wAAAwAAAwHHAAAADgGftXRCvwAAAwAAAwJuAAAADgGft2pCvwAAAwAAAwJvAAAAF0GbvEmoQWyZTAh3//6plgAAAwAAAwGDAAAAEEGf2kUVLC//AAADAAADAccAAAAOAZ/5dEK/AAADAAADAm8AAAAOAZ/7akK/AAADAAADAm4AAAAXQZvgSahBbJlMCHf//qmWAAADAAADAYMAAAAQQZ4eRRUsL/8AAAMAAAMBxwAAAA4Bnj10Qr8AAAMAAAMCbgAAAA4Bnj9qQr8AAAMAAAMCbwAAABdBmiRJqEFsmUwId//+qZYAAAMAAAMBgwAAABBBnkJFFSwv/wAAAwAAAwHHAAAADgGeYXRCvwAAAwAAAwJvAAAADgGeY2pCvwAAAwAAAwJuAAAAF0GaaEmoQWyZTAh3//6plgAAAwAAAwGDAAAAEEGehkUVLC//AAADAAADAccAAAAOAZ6ldEK/AAADAAADAm4AAAAOAZ6nakK/AAADAAADAm8AAAAXQZqsSahBbJlMCHf//qmWAAADAAADAYMAAAAQQZ7KRRUsL/8AAAMAAAMBxwAAAA4Bnul0Qr8AAAMAAAMCbwAAAA4BnutqQr8AAAMAAAMCbwAAABdBmvBJqEFsmUwId//+qZYAAAMAAAMBgwAAABBBnw5FFSwv/wAAAwAAAwHHAAAADgGfLXRCvwAAAwAAAwJuAAAADgGfL2pCvwAAAwAAAwJvAAAAF0GbNEmoQWyZTAh3//6plgAAAwAAAwGDAAAAEEGfUkUVLC//AAADAAADAccAAAAOAZ9xdEK/AAADAAADAm8AAAAOAZ9zakK/AAADAAADAm8AAAAXQZt4SahBbJlMCHf//qmWAAADAAADAYMAAAAQQZ+WRRUsL/8AAAMAAAMBxwAAAA4Bn7V0Qr8AAAMAAAMCbgAAAA4Bn7dqQr8AAAMAAAMCbwAAABdBm7xJqEFsmUwId//+qZYAAAMAAAMBgwAAABBBn9pFFSwv/wAAAwAAAwHHAAAADgGf+XRCvwAAAwAAAwJvAAAADgGf+2pCvwAAAwAAAwJuAAAAF0Gb4EmoQWyZTAh3//6plgAAAwAAAwGDAAAAEEGeHkUVLC//AAADAAADAccAAAAOAZ49dEK/AAADAAADAm4AAAAOAZ4/akK/AAADAAADAm8AAAAXQZokSahBbJlMCHf//qmWAAADAAADAYMAAAAQQZ5CRRUsL/8AAAMAAAMBxwAAAA4BnmF0Qr8AAAMAAAMCbwAAAA4BnmNqQr8AAAMAAAMCbgAAABdBmmhJqEFsmUwId//+qZYAAAMAAAMBgwAAABBBnoZFFSwv/wAAAwAAAwHHAAAADgGepXRCvwAAAwAAAwJuAAAADgGep2pCvwAAAwAAAwJvAAAAF0GarEmoQWyZTAh3//6plgAAAwAAAwGDAAAAEEGeykUVLC//AAADAAADAccAAAAOAZ7pdEK/AAADAAADAm8AAAAOAZ7rakK/AAADAAADAm8AAAAXQZrwSahBbJlMCHf//qmWAAADAAADAYMAAAAQQZ8ORRUsL/8AAAMAAAMBxwAAAA4Bny10Qr8AAAMAAAMCbgAAAA4Bny9qQr8AAAMAAAMCbwAAABdBmzRJqEFsmUwId//+qZYAAAMAAAMBgwAAABBBn1JFFSwv/wAAAwAAAwHHAAAADgGfcXRCvwAAAwAAAwJvAAAADgGfc2pCvwAAAwAAAwJvAAAAF0GbeEmoQWyZTAh3//6plgAAAwAAAwGDAAAAEEGflkUVLC//AAADAAADAccAAAAOAZ+1dEK/AAADAAADAm4AAAAOAZ+3akK/AAADAAADAm8AAAAXQZu8SahBbJlMCHf//qmWAAADAAADAYMAAAAQQZ/aRRUsL/8AAAMAAAMBxwAAAA4Bn/l0Qr8AAAMAAAMCbwAAAA4Bn/tqQr8AAAMAAAMCbgAAABdBm+BJqEFsmUwId//+qZYAAAMAAAMBgwAAABBBnh5FFSwv/wAAAwAAAwHHAAAADgGePXRCvwAAAwAAAwJuAAAADgGeP2pCvwAAAwAAAwJvAAAAF0GaJEmoQWyZTAh3//6plgAAAwAAAwGDAAAAEEGeQkUVLC//AAADAAADAccAAAAOAZ5hdEK/AAADAAADAm8AAAAOAZ5jakK/AAADAAADAm4AAAAXQZpoSahBbJlMCHf//qmWAAADAAADAYMAAAAQQZ6GRRUsL/8AAAMAAAMBxwAAAA4BnqV0Qr8AAAMAAAMCbgAAAA4BnqdqQr8AAAMAAAMCbwAAABdBmqxJqEFsmUwId//+qZYAAAMAAAMBgwAAABBBnspFFSwv/wAAAwAAAwHHAAAADgGe6XRCvwAAAwAAAwJvAAAADgGe62pCvwAAAwAAAwJvAAAAF0Ga8EmoQWyZTAh3//6plgAAAwAAAwGDAAAAEEGfDkUVLC//AAADAAADAccAAAAOAZ8tdEK/AAADAAADAm4AAAAOAZ8vakK/AAADAAADAm8AAAAXQZs0SahBbJlMCHf//qmWAAADAAADAYMAAAAQQZ9SRRUsL/8AAAMAAAMBxwAAAA4Bn3F0Qr8AAAMAAAMCbwAAAA4Bn3NqQr8AAAMAAAMCbwAAABdBm3hJqEFsmUwId//+qZYAAAMAAAMBgwAAABBBn5ZFFSwv/wAAAwAAAwHHAAAADgGftXRCvwAAAwAAAwJuAAAADgGft2pCvwAAAwAAAwJvAAAAF0GbvEmoQWyZTAh3//6plgAAAwAAAwGDAAAAEEGf2kUVLC//AAADAAADAccAAAAOAZ/5dEK/AAADAAADAm8AAAAOAZ/7akK/AAADAAADAm4AAAAXQZvgSahBbJlMCHf//qmWAAADAAADAYMAAAAQQZ4eRRUsL/8AAAMAAAMBxwAAAA4Bnj10Qr8AAAMAAAMCbgAAAA4Bnj9qQr8AAAMAAAMCbwAAABdBmiRJqEFsmUwId//+qZYAAAMAAAMBgwAAABBBnkJFFSwv/wAAAwAAAwHHAAAADgGeYXRCvwAAAwAAAwJvAAAADgGeY2pCvwAAAwAAAwJuAAAAF0GaaEmoQWyZTAh3//6plgAAAwAAAwGDAAAAEEGehkUVLC//AAADAAADAccAAAAOAZ6ldEK/AAADAAADAm4AAAAOAZ6nakK/AAADAAADAm8AAAAXQZqsSahBbJlMCHf//qmWAAADAAADAYMAAAAQQZ7KRRUsL/8AAAMAAAMBxwAAAA4Bnul0Qr8AAAMAAAMCbwAAAA4BnutqQr8AAAMAAAMCbwAAABdBmvBJqEFsmUwId//+qZYAAAMAAAMBgwAAABBBnw5FFSwv/wAAAwAAAwHHAAAADgGfLXRCvwAAAwAAAwJuAAAADgGfL2pCvwAAAwAAAwJvAAAAF0GbNEmoQWyZTAh3//6plgAAAwAAAwGDAAAAEEGfUkUVLC//AAADAAADAccAAAAOAZ9xdEK/AAADAAADAm8AAAAOAZ9zakK/AAADAAADAm8AAAAXQZt4SahBbJlMCHf//qmWAAADAAADAYMAAAAQQZ+WRRUsL/8AAAMAAAMBxwAAAA4Bn7V0Qr8AAAMAAAMCbgAAAA4Bn7dqQr8AAAMAAAMCbwAAABdBm7xJqEFsmUwId//+qZYAAAMAAAMBgwAAABBBn9pFFSwv/wAAAwAAAwHHAAAADgGf+XRCvwAAAwAAAwJvAAAADgGf+2pCvwAAAwAAAwJuAAAAF0Gb4EmoQWyZTAh3//6plgAAAwAAAwGDAAAAEEGeHkUVLC//AAADAAADAccAAAAOAZ49dEK/AAADAAADAm4AAAAOAZ4/akK/AAADAAADAm8AAAAXQZokSahBbJlMCHf//qmWAAADAAADAYMAAAAQQZ5CRRUsL/8AAAMAAAMBxwAAAA4BnmF0Qr8AAAMAAAMCbwAAAA4BnmNqQr8AAAMAAAMCbgAAABdBmmhJqEFsmUwId//+qZYAAAMAAAMBgwAAABBBnoZFFSwv/wAAAwAAAwHHAAAADgGepXRCvwAAAwAAAwJuAAAADgGep2pCvwAAAwAAAwJvAAAAF0GarEmoQWyZTAh3//6plgAAAwAAAwGDAAAAEEGeykUVLC//AAADAAADAccAAAAOAZ7pdEK/AAADAAADAm8AAAAOAZ7rakK/AAADAAADAm8AAAAXQZrwSahBbJlMCHf//qmWAAADAAADAYMAAAAQQZ8ORRUsL/8AAAMAAAMBxwAAAA4Bny10Qr8AAAMAAAMCbgAAAA4Bny9qQr8AAAMAAAMCbwAAABdBmzRJqEFsmUwId//+qZYAAAMAAAMBgwAAABBBn1JFFSwv/wAAAwAAAwHHAAAADgGfcXRCvwAAAwAAAwJvAAAADgGfc2pCvwAAAwAAAwJvAAAAF0GbeEmoQWyZTAh3//6plgAAAwAAAwGDAAAAEEGflkUVLC//AAADAAADAccAAAAOAZ+1dEK/AAADAAADAm4AAAAOAZ+3akK/AAADAAADAm8AAAAWQZu5SahBbJlMCFf//jhAAAADAAAtoAAAB+1liIQAEf/+94gfMstvnGrXchHnrS6tH1DuRnFepL3+IAAAAwAAPYWETvqX1R1hPwAAQwABvSfhb+Gb66MC6mU57pR0q9QfdbYUA2miUQa7TUE1hLeno54e4xpMm0TFDswuDLKaBFyt8UvKOMQwUnITulhjvN2SRE9s725X0Lr6BxcU+GmrUYvhosoozyldIFNThpmxU7y7s4qk6Q0DG5N6nmms9czwtsz2uN1VNCANrIgts/o1Zc2Oc79a8qMci7ecc5mM/NSk2gaaw94EDKkxSiN7ZJrB9BOxnNf20kncjh8iuACA5zvcmOTiwMkUBsL5hRvRf7JJa9TUVXCeber0PNcBIzfhOhyIW8p4B3SvRxvwhuRj43hLCACsMFpa/+j9qzkkDeKA2grwzwj3KskjUW5m3Hx167U6DuWYDlOESXIwnqYITKmDGXjzaPHBVDDn5uXLm0pSgQPqo75ifyS72gWirHUcHuETcMihI1vSVNRFPjSwWOHng6EC56uQDtVpQhRnMiLUHxhB4uOIgY5a69laRk/Ji6/qaTcHB/hHa7/XJz3RzQvxIig+F/eDf7Onc3cd1alWr9cFfPhLAkk9ICMwPM5O0pz/uNIpFy8U82vK0iGdUMn5ciUZDp/Q/WdRCKh0u/1GM7N1hYPWfnMTShOtE4t28y7PxZ4+7aUjY+Ac4Aoq4wrCwmrGhEj8Zq3E+83dvkcYtyMHPwy2ntTns8nP8rdXOSowXF3Ttn6/5T6O5t5ABQftD4MY6CBlpkUxvdwGKcI6XdpIoALCCImq/2qNnXh9iEQprmNIQkiM7Tul0+8/JwoWDopUXlH2o7PthAlYCkIFf1f/vKjYxbcTJEaRYGXf31n8cTyJqxqLD1cTauORDFZcVrlqzsfFKjVaToooR49ONf7ZZbUXXNaRqC64SoiLSa55MoLidVx+czJu9v7H8133z5nQ9pGVjKug3615qzAM7J4LM+mmXngiWj/TY8MOxoBnVVHcDptqEctKtzAYcIcreDcLV6EionyFeD5ZhtlPvLXgjmMoUcXz1BhyxfI/TxkTZkwX8oFeD9ibDAh/VLsvkisw0cXfp+A2GlPux+JauLMrS7RiMBXl8hNsJ9d5rEr0T//k6ffdjdrYdylcTnUK0H5AIUnkEFDaR+9ccdnEGTM2QYyG7s+pOkWW7dNcHjoI+g0/0fpq9Jl29mgjShFTmScJ3TnqSBeLl7p8nukzII0fWofUbLrmQKy+OuXtGKPi4OthiJgoyAmOzNBJzoPF26JhcPtjcxtpsP9/vD4xeLPQ4y+3m/i0AToBO2b+TCTNFZlCkAipsfQE4ylfNgU2XXZXl7bzzoS+PPlcEFRbZjMXaQ8iEvvptJAUGBkCBzrZWuYRU/x7Ydn1FdlAWGDEcBZUBUVWaldq2SwSv6FZ1/Gcb37z+WblrJPgPm7Pcw9+/Wsc6K9IKMWu0sZueA6K3e9SZyISIxzeNEjRJdrF9iJJY7JTDvjUY9KxT6mC9ArB49fjgs94e4ILjnM9uduv926aaqrilBkHAIkOswkA8cmcnBbd7OiJ2BcVPuLwTZfL7lo4LIYRmovypTkUhnR6NUu36YEcTgfPAzlu6SonHtcLGaX5CH6eNcsqtV6EO1ZMiu7bEsaWxbPxUEFr/FqulzNmhWz2c3ntgra1n/jWVv6IbY+YlavcwMqduzcz9PXWks9hk9hCTW1Zr1oYFL7769/1wneJYRZOMidgtrdVZ5bIf2Uqd1m9/0gQxBlcFpZMVYKwVh8ZJe7PUuBV+qQZeLoWYhJVADF1d7M6g3NHRNYh4pqF5LYhbRdWEpDdIEEL//tp9NL3Mav0KSilZl5fTmqQ80cEL8bQ3KS0LQ7WEdgfLaTLPTsjyo6Vgfi7089fFLLctC2A9N8+oDIb6T1X5YsNWmjkHbdrpxW1aMT/Cg4lSYHF+YMdIc3YoWFzJrlRNYRyoNd8bO1oK1oO9Y9V/sh7naiuvBNT4BcNZcYbb7oj/CbyRW1T0dYT8LMYU/mbm3KQm4tyhpV+CNTj34fJu1Yvr2L89M5WKhXvT+u5MFfBXeVsE4y36Ss8q8+AtKmC/mbn+jiyxl+ehS1V1p4xoouRrpPqV2M6f8StR2MaYYGrg0yImy+0dqCAUOlEWYdBd6tgkGRiMxWSz6h+tJFJyL8Gy9A51G9eHoGv2R1e6XeBef8jsotXGuh3P4+Em9CRvFrK77b3ZG4R89AxQzIWvPMU7mAdTmnFQZzm1Z8z6d5imGxUHZuvjavj2j3SjPGdfVXBcNf+7lK9kdPMHIw0CbXIe8SQhQ1+tORIbMBzN3tl5eb1025gvTW9lOXe2ktGxkO0BZyNoIt30AUn20hRc8KuGzdTmwhOrXMPTNxlmVYjR1FlbKhs7CWG4uAelgQJLbEOewB0/nVeuAteEnNOXOyi9N2KgARQYJs3A0B3WxETZsGaER2jXOS4WPSGZnYPymlt2VceTMLlY0yyXWzeHrD70ocbUtS/jhpbo9Z3/RWkeNBu7J+bN2igi2WmqCflc/ff9tb8pUNKRp/k9/m62hzO3ZqtiL/kHT7nT3rU+xVJrfXwwLEkuukNhQ50vNF32OVh1aprUxqcopFxQclj6zaT4vC2+7Rff8i9F29rSlCbox82aHdDcLSRHUsYQLfdyJ2S8DEZ3Y4AI4GTGVYAAAMAAAMAAAMAAAMAAAMAAAMAAArIAAAAG0GaJGxDv/6plgAAYrlufyXnuck/eAAlaPgDZwAAAA5BnkJ4hf8AAAMAAAMBxwAAAA4BnmF0Qr8AAAMAAAMCbwAAAA4BnmNqQr8AAAMAAAMCbwAAABdBmmhJqEFomUwId//+qZYAAAMAAAMBgwAAABBBnoZFESwv/wAAAwAAAwHHAAAADgGepXRCvwAAAwAAAwJuAAAADgGep2pCvwAAAwAAAwJvAAAAF0GarEmoQWyZTAh3//6plgAAAwAAAwGDAAAAEEGeykUVLC//AAADAAADAccAAAAOAZ7pdEK/AAADAAADAm4AAAAOAZ7rakK/AAADAAADAm8AAAAXQZrwSahBbJlMCHf//qmWAAADAAADAYMAAAAQQZ8ORRUsL/8AAAMAAAMBxwAAAA4Bny10Qr8AAAMAAAMCbgAAAA4Bny9qQr8AAAMAAAMCbwAAABdBmzRJqEFsmUwId//+qZYAAAMAAAMBgwAAABBBn1JFFSwv/wAAAwAAAwHHAAAADgGfcXRCvwAAAwAAAwJvAAAADgGfc2pCvwAAAwAAAwJuAAAAF0GbeEmoQWyZTAh3//6plgAAAwAAAwGDAAAAEEGflkUVLC//AAADAAADAccAAAAOAZ+1dEK/AAADAAADAm4AAAAOAZ+3akK/AAADAAADAm4AAAAXQZu8SahBbJlMCHf//qmWAAADAAADAYMAAAAQQZ/aRRUsL/8AAAMAAAMBxwAAAA4Bn/l0Qr8AAAMAAAMCbwAAAA4Bn/tqQr8AAAMAAAMCbgAAABdBm+BJqEFsmUwId//+qZYAAAMAAAMBgwAAABBBnh5FFSwv/wAAAwAAAwHHAAAADgGePXRCvwAAAwAAAwJuAAAADgGeP2pCvwAAAwAAAwJuAAAAF0GaJEmoQWyZTAh3//6plgAAAwAAAwGDAAAAEEGeQkUVLC//AAADAAADAccAAAAOAZ5hdEK/AAADAAADAm8AAAAOAZ5jakK/AAADAAADAm8AAAAXQZpoSahBbJlMCHf//qmWAAADAAADAYMAAAAQQZ6GRRUsL/8AAAMAAAMBxwAAAA4BnqV0Qr8AAAMAAAMCbgAAAA4BnqdqQr8AAAMAAAMCbwAAABdBmqxJqEFsmUwId//+qZYAAAMAAAMBgwAAABBBnspFFSwv/wAAAwAAAwHHAAAADgGe6XRCvwAAAwAAAwJuAAAADgGe62pCvwAAAwAAAwJvAAAAF0Ga8EmoQWyZTAh3//6plgAAAwAAAwGDAAAAEEGfDkUVLC//AAADAAADAccAAAAOAZ8tdEK/AAADAAADAm4AAAAOAZ8vakK/AAADAAADAm8AAAAXQZs0SahBbJlMCHf//qmWAAADAAADAYMAAAAQQZ9SRRUsL/8AAAMAAAMBxwAAAA4Bn3F0Qr8AAAMAAAMCbwAAAA4Bn3NqQr8AAAMAAAMCbgAAABdBm3hJqEFsmUwId//+qZYAAAMAAAMBgwAAABBBn5ZFFSwv/wAAAwAAAwHHAAAADgGftXRCvwAAAwAAAwJuAAAADgGft2pCvwAAAwAAAwJuAAAAF0GbvEmoQWyZTAh3//6plgAAAwAAAwGDAAAAEEGf2kUVLC//AAADAAADAccAAAAOAZ/5dEK/AAADAAADAm8AAAAOAZ/7akK/AAADAAADAm4AAAAXQZvgSahBbJlMCHf//qmWAAADAAADAYMAAAAQQZ4eRRUsL/8AAAMAAAMBxwAAAA4Bnj10Qr8AAAMAAAMCbgAAAA4Bnj9qQr8AAAMAAAMCbgAAABdBmiRJqEFsmUwId//+qZYAAAMAAAMBgwAAABBBnkJFFSwv/wAAAwAAAwHHAAAADgGeYXRCvwAAAwAAAwJvAAAADgGeY2pCvwAAAwAAAwJvAAAAF0GaaEmoQWyZTAh3//6plgAAAwAAAwGDAAAAEEGehkUVLC//AAADAAADAccAAAAOAZ6ldEK/AAADAAADAm4AAAAOAZ6nakK/AAADAAADAm8AAAAXQZqsSahBbJlMCHf//qmWAAADAAADAYMAAAAQQZ7KRRUsL/8AAAMAAAMBxwAAAA4Bnul0Qr8AAAMAAAMCbgAAAA4BnutqQr8AAAMAAAMCbwAAABdBmvBJqEFsmUwId//+qZYAAAMAAAMBgwAAABBBnw5FFSwv/wAAAwAAAwHHAAAADgGfLXRCvwAAAwAAAwJuAAAADgGfL2pCvwAAAwAAAwJvAAAAF0GbNEmoQWyZTAh3//6plgAAAwAAAwGDAAAAEEGfUkUVLC//AAADAAADAccAAAAOAZ9xdEK/AAADAAADAm8AAAAOAZ9zakK/AAADAAADAm4AAAAXQZt4SahBbJlMCHf//qmWAAADAAADAYMAAAAQQZ+WRRUsL/8AAAMAAAMBxwAAAA4Bn7V0Qr8AAAMAAAMCbgAAAA4Bn7dqQr8AAAMAAAMCbgAAABdBm7xJqEFsmUwId//+qZYAAAMAAAMBgwAAABBBn9pFFSwv/wAAAwAAAwHHAAAADgGf+XRCvwAAAwAAAwJvAAAADgGf+2pCvwAAAwAAAwJuAAAAF0Gb4EmoQWyZTAh3//6plgAAAwAAAwGDAAAAEEGeHkUVLC//AAADAAADAccAAAAOAZ49dEK/AAADAAADAm4AAAAOAZ4/akK/AAADAAADAm4AAAAXQZokSahBbJlMCHf//qmWAAADAAADAYMAAAAQQZ5CRRUsL/8AAAMAAAMBxwAAAA4BnmF0Qr8AAAMAAAMCbwAAAA4BnmNqQr8AAAMAAAMCbwAAABdBmmhJqEFsmUwId//+qZYAAAMAAAMBgwAAABBBnoZFFSwv/wAAAwAAAwHHAAAADgGepXRCvwAAAwAAAwJuAAAADgGep2pCvwAAAwAAAwJvAAAAF0GarEmoQWyZTAh3//6plgAAAwAAAwGDAAAAEEGeykUVLC//AAADAAADAccAAAAOAZ7pdEK/AAADAAADAm4AAAAOAZ7rakK/AAADAAADAm8AAAAXQZrwSahBbJlMCHf//qmWAAADAAADAYMAAAAQQZ8ORRUsL/8AAAMAAAMBxwAAAA4Bny10Qr8AAAMAAAMCbgAAAA4Bny9qQr8AAAMAAAMCbwAAABdBmzRJqEFsmUwId//+qZYAAAMAAAMBgwAAABBBn1JFFSwv/wAAAwAAAwHHAAAADgGfcXRCvwAAAwAAAwJvAAAADgGfc2pCvwAAAwAAAwJuAAAAF0GbeEmoQWyZTAh3//6plgAAAwAAAwGDAAAAEEGflkUVLC//AAADAAADAccAAAAOAZ+1dEK/AAADAAADAm4AAAAOAZ+3akK/AAADAAADAm4AAAAXQZu8SahBbJlMCHf//qmWAAADAAADAYMAAAAQQZ/aRRUsL/8AAAMAAAMBxwAAAA4Bn/l0Qr8AAAMAAAMCbwAAAA4Bn/tqQr8AAAMAAAMCbgAAABdBm+BJqEFsmUwId//+qZYAAAMAAAMBgwAAABBBnh5FFSwv/wAAAwAAAwHHAAAADgGePXRCvwAAAwAAAwJuAAAADgGeP2pCvwAAAwAAAwJuAAAAF0GaJEmoQWyZTAh3//6plgAAAwAAAwGDAAAAEEGeQkUVLC//AAADAAADAccAAAAOAZ5hdEK/AAADAAADAm8AAAAOAZ5jakK/AAADAAADAm8AAAAXQZpoSahBbJlMCHf//qmWAAADAAADAYMAAAAQQZ6GRRUsL/8AAAMAAAMBxwAAAA4BnqV0Qr8AAAMAAAMCbgAAAA4BnqdqQr8AAAMAAAMCbwAAABdBmqxJqEFsmUwId//+qZYAAAMAAAMBgwAAABBBnspFFSwv/wAAAwAAAwHHAAAADgGe6XRCvwAAAwAAAwJuAAAADgGe62pCvwAAAwAAAwJvAAAAF0Ga8EmoQWyZTAh3//6plgAAAwAAAwGDAAAAEEGfDkUVLC//AAADAAADAccAAAAOAZ8tdEK/AAADAAADAm4AAAAOAZ8vakK/AAADAAADAm8AAAAXQZs0SahBbJlMCHf//qmWAAADAAADAYMAAAAQQZ9SRRUsL/8AAAMAAAMBxwAAAA4Bn3F0Qr8AAAMAAAMCbwAAAA4Bn3NqQr8AAAMAAAMCbgAAABdBm3hJqEFsmUwId//+qZYAAAMAAAMBgwAAABBBn5ZFFSwv/wAAAwAAAwHHAAAADgGftXRCvwAAAwAAAwJuAAAADgGft2pCvwAAAwAAAwJuAAAAF0GbvEmoQWyZTAh3//6plgAAAwAAAwGDAAAAEEGf2kUVLC//AAADAAADAccAAAAOAZ/5dEK/AAADAAADAm8AAAAOAZ/7akK/AAADAAADAm4AAAAXQZvgSahBbJlMCHf//qmWAAADAAADAYMAAAAQQZ4eRRUsL/8AAAMAAAMBxwAAAA4Bnj10Qr8AAAMAAAMCbgAAAA4Bnj9qQr8AAAMAAAMCbgAAABdBmiRJqEFsmUwId//+qZYAAAMAAAMBgwAAABBBnkJFFSwv/wAAAwAAAwHHAAAADgGeYXRCvwAAAwAAAwJvAAAADgGeY2pCvwAAAwAAAwJvAAAAF0GaaEmoQWyZTAh3//6plgAAAwAAAwGDAAAAEEGehkUVLC//AAADAAADAccAAAAOAZ6ldEK/AAADAAADAm4AAAAOAZ6nakK/AAADAAADAm8AAAAXQZqsSahBbJlMCHf//qmWAAADAAADAYMAAAAQQZ7KRRUsL/8AAAMAAAMBxwAAAA4Bnul0Qr8AAAMAAAMCbgAAAA4BnutqQr8AAAMAAAMCbwAAABdBmvBJqEFsmUwId//+qZYAAAMAAAMBgwAAABBBnw5FFSwv/wAAAwAAAwHHAAAADgGfLXRCvwAAAwAAAwJuAAAADgGfL2pCvwAAAwAAAwJvAAAAF0GbNEmoQWyZTAh3//6plgAAAwAAAwGDAAAAEEGfUkUVLC//AAADAAADAccAAAAOAZ9xdEK/AAADAAADAm8AAAAOAZ9zakK/AAADAAADAm4AAAAXQZt4SahBbJlMCHf//qmWAAADAAADAYMAAAAQQZ+WRRUsL/8AAAMAAAMBxwAAAA4Bn7V0Qr8AAAMAAAMCbgAAAA4Bn7dqQr8AAAMAAAMCbgAAABdBm7xJqEFsmUwId//+qZYAAAMAAAMBgwAAABBBn9pFFSwv/wAAAwAAAwHHAAAADgGf+XRCvwAAAwAAAwJvAAAADgGf+2pCvwAAAwAAAwJuAAAAF0Gb4EmoQWyZTAh3//6plgAAAwAAAwGDAAAAEEGeHkUVLC//AAADAAADAccAAAAOAZ49dEK/AAADAAADAm4AAAAOAZ4/akK/AAADAAADAm4AAAAXQZokSahBbJlMCHf//qmWAAADAAADAYMAAAAQQZ5CRRUsL/8AAAMAAAMBxwAAAA4BnmF0Qr8AAAMAAAMCbwAAAA4BnmNqQr8AAAMAAAMCbwAAABdBmmhJqEFsmUwId//+qZYAAAMAAAMBgwAAABBBnoZFFSwv/wAAAwAAAwHHAAAADgGepXRCvwAAAwAAAwJuAAAADgGep2pCvwAAAwAAAwJvAAAAF0GarEmoQWyZTAh3//6plgAAAwAAAwGDAAAAEEGeykUVLC//AAADAAADAccAAAAOAZ7pdEK/AAADAAADAm4AAAAOAZ7rakK/AAADAAADAm8AAAAXQZrwSahBbJlMCHf//qmWAAADAAADAYMAAAAQQZ8ORRUsL/8AAAMAAAMBxwAAAA4Bny10Qr8AAAMAAAMCbgAAAA4Bny9qQr8AAAMAAAMCbwAAABdBmzRJqEFsmUwId//+qZYAAAMAAAMBgwAAABBBn1JFFSwv/wAAAwAAAwHHAAAADgGfcXRCvwAAAwAAAwJvAAAADgGfc2pCvwAAAwAAAwJuAAAAF0GbeEmoQWyZTAh3//6plgAAAwAAAwGDAAAAEEGflkUVLC//AAADAAADAccAAAAOAZ+1dEK/AAADAAADAm4AAAAOAZ+3akK/AAADAAADAm4AAAAXQZu8SahBbJlMCHf//qmWAAADAAADAYMAAAAQQZ/aRRUsL/8AAAMAAAMBxwAAAA4Bn/l0Qr8AAAMAAAMCbwAAAA4Bn/tqQr8AAAMAAAMCbgAAABdBm+BJqEFsmUwId//+qZYAAAMAAAMBgwAAABBBnh5FFSwv/wAAAwAAAwHHAAAADgGePXRCvwAAAwAAAwJuAAAADgGeP2pCvwAAAwAAAwJuAAAAF0GaJEmoQWyZTAh3//6plgAAAwAAAwGDAAAAEEGeQkUVLC//AAADAAADAccAAAAOAZ5hdEK/AAADAAADAm8AAAAOAZ5jakK/AAADAAADAm8AAAAXQZpoSahBbJlMCHf//qmWAAADAAADAYMAAAAQQZ6GRRUsL/8AAAMAAAMBxwAAAA4BnqV0Qr8AAAMAAAMCbgAAAA4BnqdqQr8AAAMAAAMCbwAAABdBmqxJqEFsmUwId//+qZYAAAMAAAMBgwAAABBBnspFFSwv/wAAAwAAAwHHAAAADgGe6XRCvwAAAwAAAwJuAAAADgGe62pCvwAAAwAAAwJvAAAAF0Ga8EmoQWyZTAh3//6plgAAAwAAAwGDAAAAEEGfDkUVLC//AAADAAADAccAAAAOAZ8tdEK/AAADAAADAm4AAAAOAZ8vakK/AAADAAADAm8AAAAXQZs0SahBbJlMCHf//qmWAAADAAADAYMAAAAQQZ9SRRUsL/8AAAMAAAMBxwAAAA4Bn3F0Qr8AAAMAAAMCbwAAAA4Bn3NqQr8AAAMAAAMCbgAAABdBm3hJqEFsmUwId//+qZYAAAMAAAMBgwAAABBBn5ZFFSwv/wAAAwAAAwHHAAAADgGftXRCvwAAAwAAAwJuAAAADgGft2pCvwAAAwAAAwJuAAAAFkGbuUmoQWyZTAhX//44QAAAAwAALaEAAAftZYiCAAR//veIHzLLb5xq13IR560urR9Q7kZxXqS9/iAAAAMAAD2FhE76l9UdYT8AAEMAAb0n4W/hm+ujAuplOe6UdKvUH3W2FANpolEGu01BNYS3p6OeHuMaTJtExQ7MLgyymgRcrfFLyjjEMFJyE7pYY7zdkkRPbO9uV9C6+gcXFPhpq1GL4aLKKM8pXSBTU4aZsVO8u7OKpOkNAxuTep5prPXM8LbM9rjdVTQgDayILbP6NWXNjnO/WvKjHIu3nHOZjPzUpNoGmsPeBAypMUoje2SawfQTsZzX9tJJ3I4fIrgAgOc73Jjk4sDJFAbC+YUb0X+ySWvU1FVwnm3q9DzXASM34TociFvKeAd0r0cb8IbkY+N4SwgArDBaWv/o/as5JA3igNoK8M8I9yrJI1FuZtx8deu1Og7lmA5ThElyMJ6mCEypgxl482jxwVQw5+bly5tKUoED6qO+Yn8ku9oFoqx1HB7hE3DIoSNb0lTURT40sFjh54OhAuerkA7VaUIUZzIi1B8YQeLjiIGOWuvZWkZPyYuv6mk3Bwf4R2u/1yc90c0L8SIoPhf3g3+zp3N3HdWpVq/XBXz4SwJJPSAjMDzOTtKc/7jSKRcvFPNrytIhnVDJ+XIlGQ6f0P1nUQiodLv9RjOzdYWD1n5zE0oTrROLdvMuz8WePu2lI2PgHOAKKuMKwsJqxoRI/GatxPvN3b5HGLcjBz8Mtp7U57PJz/K3VzkqMFxd07Z+v+U+jubeQAUH7Q+DGOggZaZFMb3cBinCOl3aSKACwgiJqv9qjZ14fYhEKa5jSEJIjO07pdPvPycKFg6KVF5R9qOz7YQJWApCBX9X/7yo2MW3EyRGkWBl399Z/HE8iasaiw9XE2rjkQxWXFa5as7HxSo1Wk6KKEePTjX+2WW1F1zWkaguuEqIi0mueTKC4nVcfnMybvb+x/Nd98+Z0PaRlYyroN+teaswDOyeCzPppl54Ilo/02PDDsaAZ1VR3A6bahHLSrcwGHCHK3g3C1ehIqJ8hXg+WYbZT7y14I5jKFHF89QYcsXyP08ZE2ZMF/KBXg/YmwwIf1S7L5IrMNHF36fgNhpT7sfiWrizK0u0YjAV5fITbCfXeaxK9E//5On33Y3a2HcpXE51CtB+QCFJ5BBQ2kfvXHHZxBkzNkGMhu7PqTpFlu3TXB46CPoNP9H6avSZdvZoI0oRU5knCd056kgXi5e6fJ7pMyCNH1qH1Gy65kCsvjrl7Rij4uDrYYiYKMgJjszQSc6DxduiYXD7Y3MbabD/f7w+MXiz0OMvt5v4tAE6ATtm/kwkzRWZQpAIqbH0BOMpXzYFNl12V5e2886Evjz5XBBUW2YzF2kPIhL76bSQFBgZAgc62VrmEVP8e2HZ9RXZQFhgxHAWVAVFVmpXatksEr+hWdfxnG9+8/lm5ayT4D5uz3MPfv1rHOivSCjFrtLGbngOit3vUmciEiMc3jRI0SXaxfYiSWOyUw741GPSsU+pgvQKwePX44LPeHuCC45zPbnbr/dummqq4pQZBwCJDrMJAPHJnJwW3ezoidgXFT7i8E2Xy+5aOCyGEZqL8qU5FIZ0ejVLt+mBHE4HzwM5bukqJx7XCxml+Qh+njXLKrVehDtWTIru2xLGlsWz8VBBa/xarpczZoVs9nN57YK2tZ/41lb+iG2PmJWr3MDKnbs3M/T11pLPYZPYQk1tWa9aGBS+++vf9cJ3iWEWTjInYLa3VWeWyH9lKndZvf9IEMQZXBaWTFWCsFYfGSXuz1LgVfqkGXi6FmISVQAxdXezOoNzR0TWIeKaheS2IW0XVhKQ3SBBC//7afTS9zGr9CkopWZeX05qkPNHBC/G0NyktC0O1hHYHy2kyz07I8qOlYH4u9PPXxSy3LQtgPTfPqAyG+k9V+WLDVpo5B23a6cVtWjE/woOJUmBxfmDHSHN2KFhcya5UTWEcqDXfGztaCtaDvWPVf7Ie52orrwTU+AXDWXGG2+6I/wm8kVtU9HWE/CzGFP5m5tykJuLcoaVfgjU49+HybtWL69i/PTOVioV70/ruTBXwV3lbBOMt+krPKvPgLSpgv5m5/o4ssZfnoUtVdaeMaKLka6T6ldjOn/ErUdjGmGBq4NMiJsvtHaggFDpRFmHQXerYJBkYjMVks+ofrSRSci/BsvQOdRvXh6Br9kdXul3gXn/I7KLVxrodz+PhJvQkbxayu+292RuEfPQMUMyFrzzFO5gHU5pxUGc5tWfM+neYphsVB2br42r49o90ozxnX1VwXDX/u5SvZHTzByMNAm1yHvEkIUNfrTkSGzAczd7ZeXm9dNuYL01vZTl3tpLRsZDtAWcjaCLd9AFJ9tIUXPCrhs3U5sITq1zD0zcZZlWI0dRZWyobOwlhuLgHpYECS2xDnsAdP51XrgLXhJzTlzsovTdioAEUGCbNwNAd1sRE2bBmhEdo1zkuFj0hmZ2D8ppbdlXHkzC5WNMsl1s3h6w+9KHG1LUv44aW6PWd/0VpHjQbuyfmzdooItlpqgn5XP33/bW/KVDSkaf5Pf5utoczt2arYi/5B0+50961PsVSa318MCxJLrpDYUOdLzRd9jlYdWqa1ManKKRcUHJY+s2k+Lwtvu0X3/IvRdva0pQm6MfNmh3Q3C0kR1LGEC33cidkvAxGd2OACOBkxlWAAADAAADAAADAAADAAADAAADAAAKyQAAABtBmiRsQ7/+qZYAAGK5bn8l57nJP3gAJWj4A2cAAAAOQZ5CeIX/AAADAAADAccAAAAOAZ5hdEK/AAADAAADAm4AAAAOAZ5jakK/AAADAAADAm8AAAAXQZpoSahBaJlMCHf//qmWAAADAAADAYMAAAAQQZ6GRREsL/8AAAMAAAMBxwAAAA4BnqV0Qr8AAAMAAAMCbwAAAA4BnqdqQr8AAAMAAAMCbgAAABdBmqxJqEFsmUwId//+qZYAAAMAAAMBgwAAABBBnspFFSwv/wAAAwAAAwHHAAAADgGe6XRCvwAAAwAAAwJuAAAADgGe62pCvwAAAwAAAwJvAAAAF0Ga8EmoQWyZTAh3//6plgAAAwAAAwGDAAAAEEGfDkUVLC//AAADAAADAccAAAAOAZ8tdEK/AAADAAADAm8AAAAOAZ8vakK/AAADAAADAm4AAAAXQZs0SahBbJlMCHf//qmWAAADAAADAYMAAAAQQZ9SRRUsL/8AAAMAAAMBxwAAAA4Bn3F0Qr8AAAMAAAMCbgAAAA4Bn3NqQr8AAAMAAAMCbwAAABdBm3hJqEFsmUwId//+qZYAAAMAAAMBgwAAABBBn5ZFFSwv/wAAAwAAAwHHAAAADgGftXRCvwAAAwAAAwJvAAAADgGft2pCvwAAAwAAAwJvAAAAF0GbvEmoQWyZTAh3//6plgAAAwAAAwGDAAAAEEGf2kUVLC//AAADAAADAccAAAAOAZ/5dEK/AAADAAADAm4AAAAOAZ/7akK/AAADAAADAm8AAAAXQZvgSahBbJlMCHf//qmWAAADAAADAYMAAAAQQZ4eRRUsL/8AAAMAAAMBxwAAAA4Bnj10Qr8AAAMAAAMCbwAAAA4Bnj9qQr8AAAMAAAMCbwAAABdBmiRJqEFsmUwId//+qZYAAAMAAAMBgwAAABBBnkJFFSwv/wAAAwAAAwHHAAAADgGeYXRCvwAAAwAAAwJuAAAADgGeY2pCvwAAAwAAAwJvAAAAF0GaaEmoQWyZTAh3//6plgAAAwAAAwGDAAAAEEGehkUVLC//AAADAAADAccAAAAOAZ6ldEK/AAADAAADAm8AAAAOAZ6nakK/AAADAAADAm4AAAAXQZqsSahBbJlMCHf//qmWAAADAAADAYMAAAAQQZ7KRRUsL/8AAAMAAAMBxwAAAA4Bnul0Qr8AAAMAAAMCbgAAAA4BnutqQr8AAAMAAAMCbwAAABdBmvBJqEFsmUwId//+qZYAAAMAAAMBgwAAABBBnw5FFSwv/wAAAwAAAwHHAAAADgGfLXRCvwAAAwAAAwJvAAAADgGfL2pCvwAAAwAAAwJuAAAAF0GbNEmoQWyZTAh3//6plgAAAwAAAwGDAAAAEEGfUkUVLC//AAADAAADAccAAAAOAZ9xdEK/AAADAAADAm4AAAAOAZ9zakK/AAADAAADAm8AAAAXQZt4SahBbJlMCHf//qmWAAADAAADAYMAAAAQQZ+WRRUsL/8AAAMAAAMBxwAAAA4Bn7V0Qr8AAAMAAAMCbwAAAA4Bn7dqQr8AAAMAAAMCbwAAABdBm7xJqEFsmUwId//+qZYAAAMAAAMBgwAAABBBn9pFFSwv/wAAAwAAAwHHAAAADgGf+XRCvwAAAwAAAwJuAAAADgGf+2pCvwAAAwAAAwJvAAAAF0Gb4EmoQWyZTAh3//6plgAAAwAAAwGDAAAAEEGeHkUVLC//AAADAAADAccAAAAOAZ49dEK/AAADAAADAm8AAAAOAZ4/akK/AAADAAADAm8AAAAXQZokSahBbJlMCHf//qmWAAADAAADAYMAAAAQQZ5CRRUsL/8AAAMAAAMBxwAAAA4BnmF0Qr8AAAMAAAMCbgAAAA4BnmNqQr8AAAMAAAMCbwAAABdBmmhJqEFsmUwId//+qZYAAAMAAAMBgwAAABBBnoZFFSwv/wAAAwAAAwHHAAAADgGepXRCvwAAAwAAAwJvAAAADgGep2pCvwAAAwAAAwJuAAAAF0GarEmoQWyZTAh3//6plgAAAwAAAwGDAAAAEEGeykUVLC//AAADAAADAccAAAAOAZ7pdEK/AAADAAADAm4AAAAOAZ7rakK/AAADAAADAm8AAAAXQZrwSahBbJlMCHf//qmWAAADAAADAYMAAAAQQZ8ORRUsL/8AAAMAAAMBxwAAAA4Bny10Qr8AAAMAAAMCbwAAAA4Bny9qQr8AAAMAAAMCbgAAABdBmzRJqEFsmUwId//+qZYAAAMAAAMBgwAAABBBn1JFFSwv/wAAAwAAAwHHAAAADgGfcXRCvwAAAwAAAwJuAAAADgGfc2pCvwAAAwAAAwJvAAAAF0GbeEmoQWyZTAh3//6plgAAAwAAAwGDAAAAEEGflkUVLC//AAADAAADAccAAAAOAZ+1dEK/AAADAAADAm8AAAAOAZ+3akK/AAADAAADAm8AAAAXQZu8SahBbJlMCHf//qmWAAADAAADAYMAAAAQQZ/aRRUsL/8AAAMAAAMBxwAAAA4Bn/l0Qr8AAAMAAAMCbgAAAA4Bn/tqQr8AAAMAAAMCbwAAABdBm+BJqEFsmUwId//+qZYAAAMAAAMBgwAAABBBnh5FFSwv/wAAAwAAAwHHAAAADgGePXRCvwAAAwAAAwJvAAAADgGeP2pCvwAAAwAAAwJvAAAAF0GaJEmoQWyZTAh3//6plgAAAwAAAwGDAAAAEEGeQkUVLC//AAADAAADAccAAAAOAZ5hdEK/AAADAAADAm4AAAAOAZ5jakK/AAADAAADAm8AAAAXQZpoSahBbJlMCHf//qmWAAADAAADAYMAAAAQQZ6GRRUsL/8AAAMAAAMBxwAAAA4BnqV0Qr8AAAMAAAMCbwAAAA4BnqdqQr8AAAMAAAMCbgAAABdBmqxJqEFsmUwId//+qZYAAAMAAAMBgwAAABBBnspFFSwv/wAAAwAAAwHHAAAADgGe6XRCvwAAAwAAAwJuAAAADgGe62pCvwAAAwAAAwJvAAAAF0Ga8EmoQWyZTAh3//6plgAAAwAAAwGDAAAAEEGfDkUVLC//AAADAAADAccAAAAOAZ8tdEK/AAADAAADAm8AAAAOAZ8vakK/AAADAAADAm4AAAAXQZs0SahBbJlMCHf//qmWAAADAAADAYMAAAAQQZ9SRRUsL/8AAAMAAAMBxwAAAA4Bn3F0Qr8AAAMAAAMCbgAAAA4Bn3NqQr8AAAMAAAMCbwAAABdBm3hJqEFsmUwId//+qZYAAAMAAAMBgwAAABBBn5ZFFSwv/wAAAwAAAwHHAAAADgGftXRCvwAAAwAAAwJvAAAADgGft2pCvwAAAwAAAwJvAAAAF0GbvEmoQWyZTAh3//6plgAAAwAAAwGDAAAAEEGf2kUVLC//AAADAAADAccAAAAOAZ/5dEK/AAADAAADAm4AAAAOAZ/7akK/AAADAAADAm8AAAAXQZvgSahBbJlMCHf//qmWAAADAAADAYMAAAAQQZ4eRRUsL/8AAAMAAAMBxwAAAA4Bnj10Qr8AAAMAAAMCbwAAAA4Bnj9qQr8AAAMAAAMCbwAAABdBmiRJqEFsmUwId//+qZYAAAMAAAMBgwAAABBBnkJFFSwv/wAAAwAAAwHHAAAADgGeYXRCvwAAAwAAAwJuAAAADgGeY2pCvwAAAwAAAwJvAAAAF0GaaEmoQWyZTAh3//6plgAAAwAAAwGDAAAAEEGehkUVLC//AAADAAADAccAAAAOAZ6ldEK/AAADAAADAm8AAAAOAZ6nakK/AAADAAADAm4AAAAXQZqsSahBbJlMCHf//qmWAAADAAADAYMAAAAQQZ7KRRUsL/8AAAMAAAMBxwAAAA4Bnul0Qr8AAAMAAAMCbgAAAA4BnutqQr8AAAMAAAMCbwAAABdBmvBJqEFsmUwId//+qZYAAAMAAAMBgwAAABBBnw5FFSwv/wAAAwAAAwHHAAAADgGfLXRCvwAAAwAAAwJvAAAADgGfL2pCvwAAAwAAAwJuAAAAF0GbNEmoQWyZTAh3//6plgAAAwAAAwGDAAAAEEGfUkUVLC//AAADAAADAccAAAAOAZ9xdEK/AAADAAADAm4AAAAOAZ9zakK/AAADAAADAm8AAAAXQZt4SahBbJlMCHf//qmWAAADAAADAYMAAAAQQZ+WRRUsL/8AAAMAAAMBxwAAAA4Bn7V0Qr8AAAMAAAMCbwAAAA4Bn7dqQr8AAAMAAAMCbwAAABdBm7xJqEFsmUwId//+qZYAAAMAAAMBgwAAABBBn9pFFSwv/wAAAwAAAwHHAAAADgGf+XRCvwAAAwAAAwJuAAAADgGf+2pCvwAAAwAAAwJvAAAAF0Gb4EmoQWyZTAh3//6plgAAAwAAAwGDAAAAEEGeHkUVLC//AAADAAADAccAAAAOAZ49dEK/AAADAAADAm8AAAAOAZ4/akK/AAADAAADAm8AAAAXQZokSahBbJlMCHf//qmWAAADAAADAYMAAAAQQZ5CRRUsL/8AAAMAAAMBxwAAAA4BnmF0Qr8AAAMAAAMCbgAAAA4BnmNqQr8AAAMAAAMCbwAAABdBmmhJqEFsmUwId//+qZYAAAMAAAMBgwAAABBBnoZFFSwv/wAAAwAAAwHHAAAADgGepXRCvwAAAwAAAwJvAAAADgGep2pCvwAAAwAAAwJuAAAAF0GarEmoQWyZTAh3//6plgAAAwAAAwGDAAAAEEGeykUVLC//AAADAAADAccAAAAOAZ7pdEK/AAADAAADAm4AAAAOAZ7rakK/AAADAAADAm8AAAAXQZrwSahBbJlMCHf//qmWAAADAAADAYMAAAAQQZ8ORRUsL/8AAAMAAAMBxwAAAA4Bny10Qr8AAAMAAAMCbwAAAA4Bny9qQr8AAAMAAAMCbgAAABdBmzRJqEFsmUwId//+qZYAAAMAAAMBgwAAABBBn1JFFSwv/wAAAwAAAwHHAAAADgGfcXRCvwAAAwAAAwJuAAAADgGfc2pCvwAAAwAAAwJvAAAAF0GbeEmoQWyZTAh3//6plgAAAwAAAwGDAAAAEEGflkUVLC//AAADAAADAccAAAAOAZ+1dEK/AAADAAADAm8AAAAOAZ+3akK/AAADAAADAm8AAAAXQZu8SahBbJlMCHf//qmWAAADAAADAYMAAAAQQZ/aRRUsL/8AAAMAAAMBxwAAAA4Bn/l0Qr8AAAMAAAMCbgAAAA4Bn/tqQr8AAAMAAAMCbwAAABdBm+BJqEFsmUwId//+qZYAAAMAAAMBgwAAABBBnh5FFSwv/wAAAwAAAwHHAAAADgGePXRCvwAAAwAAAwJvAAAADgGeP2pCvwAAAwAAAwJvAAAAF0GaJEmoQWyZTAh3//6plgAAAwAAAwGDAAAAEEGeQkUVLC//AAADAAADAccAAAAOAZ5hdEK/AAADAAADAm4AAAAOAZ5jakK/AAADAAADAm8AAAAXQZpoSahBbJlMCHf//qmWAAADAAADAYMAAAAQQZ6GRRUsL/8AAAMAAAMBxwAAAA4BnqV0Qr8AAAMAAAMCbwAAAA4BnqdqQr8AAAMAAAMCbgAAABdBmqxJqEFsmUwId//+qZYAAAMAAAMBgwAAABBBnspFFSwv/wAAAwAAAwHHAAAADgGe6XRCvwAAAwAAAwJuAAAADgGe62pCvwAAAwAAAwJvAAAAF0Ga8EmoQWyZTAh3//6plgAAAwAAAwGDAAAAEEGfDkUVLC//AAADAAADAccAAAAOAZ8tdEK/AAADAAADAm8AAAAOAZ8vakK/AAADAAADAm4AAAAXQZs0SahBbJlMCHf//qmWAAADAAADAYMAAAAQQZ9SRRUsL/8AAAMAAAMBxwAAAA4Bn3F0Qr8AAAMAAAMCbgAAAA4Bn3NqQr8AAAMAAAMCbwAAABdBm3hJqEFsmUwId//+qZYAAAMAAAMBgwAAABBBn5ZFFSwv/wAAAwAAAwHHAAAADgGftXRCvwAAAwAAAwJvAAAADgGft2pCvwAAAwAAAwJvAAAAF0GbvEmoQWyZTAh3//6plgAAAwAAAwGDAAAAEEGf2kUVLC//AAADAAADAccAAAAOAZ/5dEK/AAADAAADAm4AAAAOAZ/7akK/AAADAAADAm8AAAAXQZvgSahBbJlMCHf//qmWAAADAAADAYMAAAAQQZ4eRRUsL/8AAAMAAAMBxwAAAA4Bnj10Qr8AAAMAAAMCbwAAAA4Bnj9qQr8AAAMAAAMCbwAAABdBmiRJqEFsmUwId//+qZYAAAMAAAMBgwAAABBBnkJFFSwv/wAAAwAAAwHHAAAADgGeYXRCvwAAAwAAAwJuAAAADgGeY2pCvwAAAwAAAwJvAAAAF0GaaEmoQWyZTAh3//6plgAAAwAAAwGDAAAAEEGehkUVLC//AAADAAADAccAAAAOAZ6ldEK/AAADAAADAm8AAAAOAZ6nakK/AAADAAADAm4AAAAXQZqsSahBbJlMCHf//qmWAAADAAADAYMAAAAQQZ7KRRUsL/8AAAMAAAMBxwAAAA4Bnul0Qr8AAAMAAAMCbgAAAA4BnutqQr8AAAMAAAMCbwAAABdBmvBJqEFsmUwIb//+p4QAAAMAAAMDAgAAABBBnw5FFSwv/wAAAwAAAwHHAAAADgGfLXRCvwAAAwAAAwJvAAAADgGfL2pCvwAAAwAAAwJuAAAAF0GbNEmoQWyZTAhv//6nhAAAAwAAAwMCAAAAEEGfUkUVLC//AAADAAADAccAAAAOAZ9xdEK/AAADAAADAm4AAAAOAZ9zakK/AAADAAADAm8AAAAWQZt4SahBbJlMCGf//p4QAAADAAALuAAAABBBn5ZFFSwv/wAAAwAAAwHHAAAADgGftXRCvwAAAwAAAwJvAAAADgGft2pCvwAAAwAAAwJvAAAAFkGbuUmoQWyZTAhX//44QAAAAwAALaEAAAPeZYiEADf//vbw/gU2VgRQlxHN6J0zH78VuLo0N73OAAADAAADAK66RphJ89zcPAAABVAAMQTZAeD38ZSAIYNhOUqZo5pfPo5AkKGdmP9KuwikxNZZaOBQuae3LHKczW3MCDsISaXQ+lY5wCgHR+t+b68sXj1JsQruGa7632kaglGf0FKhP5Up51XadFqb9/1Sb0sLIGK1rvW6KORRfh9gD51jqcmI8y6HdoOYoDQeIWtwBgB2aU30CT7ijZL8ILbC5myGyTSszw3IUK/BINY3BFa8jvGmANyOV1NjeeKvh2atb6cy2ahTHpAdRDcoRNPxraPXdRDUiF52hktJcoTRTH/Sen5aJDqTwmJBOJUnD2HSxriQ6kqVwbAAeIdzXPD372TQb1gH/i44eT+qnVaciFIRN5DzrebqmVamFcsI4caAAAGB6m3qr07vtArFcU+2GqxYBO+9+n/rt/0vp7ScOk27smT8gID1JpBlpGfXDyRUgVe4Ix12p3yOUe0xFZV1aFNJC//BblAHrBVMAUaVmJmcxtQ/7ICQsnSKvXROys3MtajQ/wqNdvkoSSYIwelddpSK6nQfymQIwp02oWURJ+sz8SzAi8/u8QyaF5a0jwIu+sZ3v4ZuZhigdIJU+tfP6qndQfKe1b5HPgo1Hk5ngQzQclPu1Ejxuyoc5lu8ABVWKurOGtGquvu3AcC8LZr5KZM5I0hhY2J/wJYCaYHbTShTaQwHyXI80fgJtiTbLpEgWkMlcEgVQvvPS5JkPZeCzHjFXmeXW5TiPsjdv1E9sTsccpbtpJvRpoAAItTkzvIb/zMyU5hl/1pkdAWLpSa/AFp6dwU8o796zhQ6tMmzp8NnGiWSyx39Znxw6jMSSI6RnhZpl6SEySbexcmf6gZsqIuU7RMu59xIVpZxKQGYF3vdIZIALCvTg3WLDCOZbPe0ygc1tOEOl6KehUsBrEn4kFJnXIMtU4A9iFPJteYzCqrq4DoYQ0AROzTD6jJwdX/MyIxvPyTiOcGmeDrYgW/G8hpexUIbSWaaU3eM4nFm51wIlBfMkXocBiXWpTT98MlvtohanYbuuzz8BMwPPc4X12qhtXz+JoQ52NkeZcu18IWN/CyGz5iH9DGZofh2EwcUPn89d5tZjzie9gEHQlAqlMXp3OiOrpfSBrWYdDj3XDdC8byHn737P694ou4eQrZZ7UA+/qPOxlYDx5Fr4jzIiWwKcNHmOCEfMTqC7/H/kpTOmO6kHPuxzNtc8HIyyrJ2bAAAAwPTKXc+fMM7UnGfAAADAAADAAADAAADAAADAAADAAADAAADAAADAD5gAAAyBm1vb3YAAABsbXZoZAAAAAAAAAAAAAAAAAAAA+gAAJxoAAEAAAEAAAAAAAAAAAAAAAABAAAAAAAAAAAAAAAAAAAAAQAAAAAAAAAAAAAAAAAAQAAAAAAAAAAAAAAAAAAAAAAAAAAAAAAAAAAAAAAAAAIAADEwdHJhawAAAFx0a2hkAAAAAwAAAAAAAAAAAAAAAQAAAAAAAJxoAAAAAAAAAAAAAAAAAAAAAAABAAAAAAAAAAAAAAAAAAAAAQAAAAAAAAAAAAAAAAAAQAAAAAHgAAAB4AAAAAAAJGVkdHMAAAAcZWxzdAAAAAAAAAABAACcaAAABAAAAQAAAAAwqG1kaWEAAAAgbWRoZAAAAAAAAAAAAAAAAAAAMgAAB9IAVcQAAAAAAC1oZGxyAAAAAAAAAAB2aWRlAAAAAAAAAAAAAAAAVmlkZW9IYW5kbGVyAAAAMFNtaW5mAAAAFHZtaGQAAAABAAAAAAAAAAAAAAAkZGluZgAAABxkcmVmAAAAAAAAAAEAAAAMdXJsIAAAAAEAADATc3RibAAAAK9zdHNkAAAAAAAAAAEAAACfYXZjMQAAAAAAAAABAAAAAAAAAAAAAAAAAAAAAAHgAeAASAAAAEgAAAAAAAAAARVMYXZjNjAuMzEuMTAyIGxpYngyNjQAAAAAAAAAAAAAABj//wAAADVhdmNDAWQAHv/hABhnZAAerNlB4PaEAAADAAQAAAMAyDxYtlgBAAZo6+PLIsD9+PgAAAAAFGJ0cnQAAAAAAAAe+AAAHvgAAAAYc3R0cwAAAAAAAAABAAAD6QAAAgAAAAAkc3RzcwAAAAAAAAAFAAAAAQAAAPsAAAH1AAAC7wAAA+kAAB84Y3R0cwAAAAAAAAPlAAAAAQAABAAAAAABAAAKAAAAAAEAAAQAAAAAAQAAAAAAAAABAAACAAAAAAEAAAoAAAAAAQAABAAAAAABAAAAAAAAAAEAAAIAAAAAAQAACgAAAAABAAAEAAAAAAEAAAAAAAAAAQAAAgAAAAABAAAKAAAAAAEAAAQAAAAAAQAAAAAAAAABAAACAAAAAAEAAAoAAAAAAQAABAAAAAABAAAAAAAAAAEAAAIAAAAAAQAACgAAAAABAAAEAAAAAAEAAAAAAAAAAQAAAgAAAAABAAAKAAAAAAEAAAQAAAAAAQAAAAAAAAABAAACAAAAAAEAAAoAAAAAAQAABAAAAAABAAAAAAAAAAEAAAIAAAAAAQAACgAAAAABAAAEAAAAAAEAAAAAAAAAAQAAAgAAAAABAAAKAAAAAAEAAAQAAAAAAQAAAAAAAAABAAACAAAAAAEAAAoAAAAAAQAABAAAAAABAAAAAAAAAAEAAAIAAAAAAQAACgAAAAABAAAEAAAAAAEAAAAAAAAAAQAAAgAAAAABAAAKAAAAAAEAAAQAAAAAAQAAAAAAAAABAAACAAAAAAEAAAoAAAAAAQAABAAAAAABAAAAAAAAAAEAAAIAAAAAAQAACgAAAAABAAAEAAAAAAEAAAAAAAAAAQAAAgAAAAABAAAKAAAAAAEAAAQAAAAAAQAAAAAAAAABAAACAAAAAAEAAAoAAAAAAQAABAAAAAABAAAAAAAAAAEAAAIAAAAAAQAACgAAAAABAAAEAAAAAAEAAAAAAAAAAQAAAgAAAAABAAAKAAAAAAEAAAQAAAAAAQAAAAAAAAABAAACAAAAAAEAAAoAAAAAAQAABAAAAAABAAAAAAAAAAEAAAIAAAAAAQAACgAAAAABAAAEAAAAAAEAAAAAAAAAAQAAAgAAAAABAAAKAAAAAAEAAAQAAAAAAQAAAAAAAAABAAACAAAAAAEAAAoAAAAAAQAABAAAAAABAAAAAAAAAAEAAAIAAAAAAQAACgAAAAABAAAEAAAAAAEAAAAAAAAAAQAAAgAAAAABAAAKAAAAAAEAAAQAAAAAAQAAAAAAAAABAAACAAAAAAEAAAoAAAAAAQAABAAAAAABAAAAAAAAAAEAAAIAAAAAAQAACgAAAAABAAAEAAAAAAEAAAAAAAAAAQAAAgAAAAABAAAKAAAAAAEAAAQAAAAAAQAAAAAAAAABAAACAAAAAAEAAAoAAAAAAQAABAAAAAABAAAAAAAAAAEAAAIAAAAAAQAACgAAAAABAAAEAAAAAAEAAAAAAAAAAQAAAgAAAAABAAAKAAAAAAEAAAQAAAAAAQAAAAAAAAABAAACAAAAAAEAAAoAAAAAAQAABAAAAAABAAAAAAAAAAEAAAIAAAAAAQAACgAAAAABAAAEAAAAAAEAAAAAAAAAAQAAAgAAAAABAAAKAAAAAAEAAAQAAAAAAQAAAAAAAAABAAACAAAAAAEAAAoAAAAAAQAABAAAAAABAAAAAAAAAAEAAAIAAAAAAQAACgAAAAABAAAEAAAAAAEAAAAAAAAAAQAAAgAAAAABAAAKAAAAAAEAAAQAAAAAAQAAAAAAAAABAAACAAAAAAEAAAoAAAAAAQAABAAAAAABAAAAAAAAAAEAAAIAAAAAAQAACgAAAAABAAAEAAAAAAEAAAAAAAAAAQAAAgAAAAABAAAKAAAAAAEAAAQAAAAAAQAAAAAAAAABAAACAAAAAAEAAAoAAAAAAQAABAAAAAABAAAAAAAAAAEAAAIAAAAAAQAACgAAAAABAAAEAAAAAAEAAAAAAAAAAQAAAgAAAAABAAAKAAAAAAEAAAQAAAAAAQAAAAAAAAABAAACAAAAAAEAAAoAAAAAAQAABAAAAAABAAAAAAAAAAEAAAIAAAAAAQAACgAAAAABAAAEAAAAAAEAAAAAAAAAAQAAAgAAAAABAAAKAAAAAAEAAAQAAAAAAQAAAAAAAAABAAACAAAAAAEAAAoAAAAAAQAABAAAAAABAAAAAAAAAAEAAAIAAAAAAQAACgAAAAABAAAEAAAAAAEAAAAAAAAAAQAAAgAAAAABAAAKAAAAAAEAAAQAAAAAAQAAAAAAAAABAAACAAAAAAEAAAoAAAAAAQAABAAAAAABAAAAAAAAAAEAAAIAAAAAAQAACgAAAAABAAAEAAAAAAEAAAAAAAAAAQAAAgAAAAABAAAKAAAAAAEAAAQAAAAAAQAAAAAAAAABAAACAAAAAAEAAAoAAAAAAQAABAAAAAABAAAAAAAAAAEAAAIAAAAAAQAACgAAAAABAAAEAAAAAAEAAAAAAAAAAQAAAgAAAAABAAAKAAAAAAEAAAQAAAAAAQAAAAAAAAABAAACAAAAAAEAAAoAAAAAAQAABAAAAAABAAAAAAAAAAEAAAIAAAAAAQAACgAAAAABAAAEAAAAAAEAAAAAAAAAAQAAAgAAAAABAAAKAAAAAAEAAAQAAAAAAQAAAAAAAAABAAACAAAAAAEAAAoAAAAAAQAABAAAAAABAAAAAAAAAAEAAAIAAAAAAQAACgAAAAABAAAEAAAAAAEAAAAAAAAAAQAAAgAAAAABAAAKAAAAAAEAAAQAAAAAAQAAAAAAAAABAAACAAAAAAEAAAoAAAAAAQAABAAAAAABAAAAAAAAAAEAAAIAAAAAAgAABAAAAAABAAAKAAAAAAEAAAQAAAAAAQAAAAAAAAABAAACAAAAAAEAAAoAAAAAAQAABAAAAAABAAAAAAAAAAEAAAIAAAAAAQAACgAAAAABAAAEAAAAAAEAAAAAAAAAAQAAAgAAAAABAAAKAAAAAAEAAAQAAAAAAQAAAAAAAAABAAACAAAAAAEAAAoAAAAAAQAABAAAAAABAAAAAAAAAAEAAAIAAAAAAQAACgAAAAABAAAEAAAAAAEAAAAAAAAAAQAAAgAAAAABAAAKAAAAAAEAAAQAAAAAAQAAAAAAAAABAAACAAAAAAEAAAoAAAAAAQAABAAAAAABAAAAAAAAAAEAAAIAAAAAAQAACgAAAAABAAAEAAAAAAEAAAAAAAAAAQAAAgAAAAABAAAKAAAAAAEAAAQAAAAAAQAAAAAAAAABAAACAAAAAAEAAAoAAAAAAQAABAAAAAABAAAAAAAAAAEAAAIAAAAAAQAACgAAAAABAAAEAAAAAAEAAAAAAAAAAQAAAgAAAAABAAAKAAAAAAEAAAQAAAAAAQAAAAAAAAABAAACAAAAAAEAAAoAAAAAAQAABAAAAAABAAAAAAAAAAEAAAIAAAAAAQAACgAAAAABAAAEAAAAAAEAAAAAAAAAAQAAAgAAAAABAAAKAAAAAAEAAAQAAAAAAQAAAAAAAAABAAACAAAAAAEAAAoAAAAAAQAABAAAAAABAAAAAAAAAAEAAAIAAAAAAQAACgAAAAABAAAEAAAAAAEAAAAAAAAAAQAAAgAAAAABAAAKAAAAAAEAAAQAAAAAAQAAAAAAAAABAAACAAAAAAEAAAoAAAAAAQAABAAAAAABAAAAAAAAAAEAAAIAAAAAAQAACgAAAAABAAAEAAAAAAEAAAAAAAAAAQAAAgAAAAABAAAKAAAAAAEAAAQAAAAAAQAAAAAAAAABAAACAAAAAAEAAAoAAAAAAQAABAAAAAABAAAAAAAAAAEAAAIAAAAAAQAACgAAAAABAAAEAAAAAAEAAAAAAAAAAQAAAgAAAAABAAAKAAAAAAEAAAQAAAAAAQAAAAAAAAABAAACAAAAAAEAAAoAAAAAAQAABAAAAAABAAAAAAAAAAEAAAIAAAAAAQAACgAAAAABAAAEAAAAAAEAAAAAAAAAAQAAAgAAAAABAAAKAAAAAAEAAAQAAAAAAQAAAAAAAAABAAACAAAAAAEAAAoAAAAAAQAABAAAAAABAAAAAAAAAAEAAAIAAAAAAQAACgAAAAABAAAEAAAAAAEAAAAAAAAAAQAAAgAAAAABAAAKAAAAAAEAAAQAAAAAAQAAAAAAAAABAAACAAAAAAEAAAoAAAAAAQAABAAAAAABAAAAAAAAAAEAAAIAAAAAAQAACgAAAAABAAAEAAAAAAEAAAAAAAAAAQAAAgAAAAABAAAKAAAAAAEAAAQAAAAAAQAAAAAAAAABAAACAAAAAAEAAAoAAAAAAQAABAAAAAABAAAAAAAAAAEAAAIAAAAAAQAACgAAAAABAAAEAAAAAAEAAAAAAAAAAQAAAgAAAAABAAAKAAAAAAEAAAQAAAAAAQAAAAAAAAABAAACAAAAAAEAAAoAAAAAAQAABAAAAAABAAAAAAAAAAEAAAIAAAAAAQAACgAAAAABAAAEAAAAAAEAAAAAAAAAAQAAAgAAAAABAAAKAAAAAAEAAAQAAAAAAQAAAAAAAAABAAACAAAAAAEAAAoAAAAAAQAABAAAAAABAAAAAAAAAAEAAAIAAAAAAQAACgAAAAABAAAEAAAAAAEAAAAAAAAAAQAAAgAAAAABAAAKAAAAAAEAAAQAAAAAAQAAAAAAAAABAAACAAAAAAEAAAoAAAAAAQAABAAAAAABAAAAAAAAAAEAAAIAAAAAAQAACgAAAAABAAAEAAAAAAEAAAAAAAAAAQAAAgAAAAABAAAKAAAAAAEAAAQAAAAAAQAAAAAAAAABAAACAAAAAAEAAAoAAAAAAQAABAAAAAABAAAAAAAAAAEAAAIAAAAAAQAACgAAAAABAAAEAAAAAAEAAAAAAAAAAQAAAgAAAAABAAAKAAAAAAEAAAQAAAAAAQAAAAAAAAABAAACAAAAAAEAAAoAAAAAAQAABAAAAAABAAAAAAAAAAEAAAIAAAAAAQAACgAAAAABAAAEAAAAAAEAAAAAAAAAAQAAAgAAAAABAAAKAAAAAAEAAAQAAAAAAQAAAAAAAAABAAACAAAAAAEAAAoAAAAAAQAABAAAAAABAAAAAAAAAAEAAAIAAAAAAQAACgAAAAABAAAEAAAAAAEAAAAAAAAAAQAAAgAAAAABAAAKAAAAAAEAAAQAAAAAAQAAAAAAAAABAAACAAAAAAEAAAoAAAAAAQAABAAAAAABAAAAAAAAAAEAAAIAAAAAAQAACgAAAAABAAAEAAAAAAEAAAAAAAAAAQAAAgAAAAABAAAKAAAAAAEAAAQAAAAAAQAAAAAAAAABAAACAAAAAAEAAAoAAAAAAQAABAAAAAABAAAAAAAAAAEAAAIAAAAAAQAACgAAAAABAAAEAAAAAAEAAAAAAAAAAQAAAgAAAAABAAAKAAAAAAEAAAQAAAAAAQAAAAAAAAABAAACAAAAAAEAAAoAAAAAAQAABAAAAAABAAAAAAAAAAEAAAIAAAAAAgAABAAAAAABAAAKAAAAAAEAAAQAAAAAAQAAAAAAAAABAAACAAAAAAEAAAoAAAAAAQAABAAAAAABAAAAAAAAAAEAAAIAAAAAAQAACgAAAAABAAAEAAAAAAEAAAAAAAAAAQAAAgAAAAABAAAKAAAAAAEAAAQAAAAAAQAAAAAAAAABAAACAAAAAAEAAAoAAAAAAQAABAAAAAABAAAAAAAAAAEAAAIAAAAAAQAACgAAAAABAAAEAAAAAAEAAAAAAAAAAQAAAgAAAAABAAAKAAAAAAEAAAQAAAAAAQAAAAAAAAABAAACAAAAAAEAAAoAAAAAAQAABAAAAAABAAAAAAAAAAEAAAIAAAAAAQAACgAAAAABAAAEAAAAAAEAAAAAAAAAAQAAAgAAAAABAAAKAAAAAAEAAAQAAAAAAQAAAAAAAAABAAACAAAAAAEAAAoAAAAAAQAABAAAAAABAAAAAAAAAAEAAAIAAAAAAQAACgAAAAABAAAEAAAAAAEAAAAAAAAAAQAAAgAAAAABAAAKAAAAAAEAAAQAAAAAAQAAAAAAAAABAAACAAAAAAEAAAoAAAAAAQAABAAAAAABAAAAAAAAAAEAAAIAAAAAAQAACgAAAAABAAAEAAAAAAEAAAAAAAAAAQAAAgAAAAABAAAKAAAAAAEAAAQAAAAAAQAAAAAAAAABAAACAAAAAAEAAAoAAAAAAQAABAAAAAABAAAAAAAAAAEAAAIAAAAAAQAACgAAAAABAAAEAAAAAAEAAAAAAAAAAQAAAgAAAAABAAAKAAAAAAEAAAQAAAAAAQAAAAAAAAABAAACAAAAAAEAAAoAAAAAAQAABAAAAAABAAAAAAAAAAEAAAIAAAAAAQAACgAAAAABAAAEAAAAAAEAAAAAAAAAAQAAAgAAAAABAAAKAAAAAAEAAAQAAAAAAQAAAAAAAAABAAACAAAAAAEAAAoAAAAAAQAABAAAAAABAAAAAAAAAAEAAAIAAAAAAQAACgAAAAABAAAEAAAAAAEAAAAAAAAAAQAAAgAAAAABAAAKAAAAAAEAAAQAAAAAAQAAAAAAAAABAAACAAAAAAEAAAoAAAAAAQAABAAAAAABAAAAAAAAAAEAAAIAAAAAAQAACgAAAAABAAAEAAAAAAEAAAAAAAAAAQAAAgAAAAABAAAKAAAAAAEAAAQAAAAAAQAAAAAAAAABAAACAAAAAAEAAAoAAAAAAQAABAAAAAABAAAAAAAAAAEAAAIAAAAAAQAACgAAAAABAAAEAAAAAAEAAAAAAAAAAQAAAgAAAAABAAAKAAAAAAEAAAQAAAAAAQAAAAAAAAABAAACAAAAAAEAAAoAAAAAAQAABAAAAAABAAAAAAAAAAEAAAIAAAAAAQAACgAAAAABAAAEAAAAAAEAAAAAAAAAAQAAAgAAAAABAAAKAAAAAAEAAAQAAAAAAQAAAAAAAAABAAACAAAAAAEAAAoAAAAAAQAABAAAAAABAAAAAAAAAAEAAAIAAAAAAQAACgAAAAABAAAEAAAAAAEAAAAAAAAAAQAAAgAAAAABAAAKAAAAAAEAAAQAAAAAAQAAAAAAAAABAAACAAAAAAEAAAoAAAAAAQAABAAAAAABAAAAAAAAAAEAAAIAAAAAAQAACgAAAAABAAAEAAAAAAEAAAAAAAAAAQAAAgAAAAABAAAKAAAAAAEAAAQAAAAAAQAAAAAAAAABAAACAAAAAAEAAAoAAAAAAQAABAAAAAABAAAAAAAAAAEAAAIAAAAAAQAACgAAAAABAAAEAAAAAAEAAAAAAAAAAQAAAgAAAAABAAAKAAAAAAEAAAQAAAAAAQAAAAAAAAABAAACAAAAAAEAAAoAAAAAAQAABAAAAAABAAAAAAAAAAEAAAIAAAAAAQAACgAAAAABAAAEAAAAAAEAAAAAAAAAAQAAAgAAAAABAAAKAAAAAAEAAAQAAAAAAQAAAAAAAAABAAACAAAAAAEAAAoAAAAAAQAABAAAAAABAAAAAAAAAAEAAAIAAAAAAQAACgAAAAABAAAEAAAAAAEAAAAAAAAAAQAAAgAAAAABAAAKAAAAAAEAAAQAAAAAAQAAAAAAAAABAAACAAAAAAEAAAoAAAAAAQAABAAAAAABAAAAAAAAAAEAAAIAAAAAAQAACgAAAAABAAAEAAAAAAEAAAAAAAAAAQAAAgAAAAABAAAKAAAAAAEAAAQAAAAAAQAAAAAAAAABAAACAAAAAAEAAAoAAAAAAQAABAAAAAABAAAAAAAAAAEAAAIAAAAAAQAACgAAAAABAAAEAAAAAAEAAAAAAAAAAQAAAgAAAAABAAAKAAAAAAEAAAQAAAAAAQAAAAAAAAABAAACAAAAAAEAAAoAAAAAAQAABAAAAAABAAAAAAAAAAEAAAIAAAAAAQAACgAAAAABAAAEAAAAAAEAAAAAAAAAAQAAAgAAAAABAAAKAAAAAAEAAAQAAAAAAQAAAAAAAAABAAACAAAAAAEAAAoAAAAAAQAABAAAAAABAAAAAAAAAAEAAAIAAAAAAQAACgAAAAABAAAEAAAAAAEAAAAAAAAAAQAAAgAAAAABAAAKAAAAAAEAAAQAAAAAAQAAAAAAAAABAAACAAAAAAEAAAoAAAAAAQAABAAAAAABAAAAAAAAAAEAAAIAAAAAAgAABAAAAAABAAAKAAAAAAEAAAQAAAAAAQAAAAAAAAABAAACAAAAAAEAAAoAAAAAAQAABAAAAAABAAAAAAAAAAEAAAIAAAAAAQAACgAAAAABAAAEAAAAAAEAAAAAAAAAAQAAAgAAAAABAAAKAAAAAAEAAAQAAAAAAQAAAAAAAAABAAACAAAAAAEAAAoAAAAAAQAABAAAAAABAAAAAAAAAAEAAAIAAAAAAQAACgAAAAABAAAEAAAAAAEAAAAAAAAAAQAAAgAAAAABAAAKAAAAAAEAAAQAAAAAAQAAAAAAAAABAAACAAAAAAEAAAoAAAAAAQAABAAAAAABAAAAAAAAAAEAAAIAAAAAAQAACgAAAAABAAAEAAAAAAEAAAAAAAAAAQAAAgAAAAABAAAKAAAAAAEAAAQAAAAAAQAAAAAAAAABAAACAAAAAAEAAAoAAAAAAQAABAAAAAABAAAAAAAAAAEAAAIAAAAAAQAACgAAAAABAAAEAAAAAAEAAAAAAAAAAQAAAgAAAAABAAAKAAAAAAEAAAQAAAAAAQAAAAAAAAABAAACAAAAAAEAAAoAAAAAAQAABAAAAAABAAAAAAAAAAEAAAIAAAAAAQAACgAAAAABAAAEAAAAAAEAAAAAAAAAAQAAAgAAAAABAAAKAAAAAAEAAAQAAAAAAQAAAAAAAAABAAACAAAAAAEAAAoAAAAAAQAABAAAAAABAAAAAAAAAAEAAAIAAAAAAQAACgAAAAABAAAEAAAAAAEAAAAAAAAAAQAAAgAAAAABAAAKAAAAAAEAAAQAAAAAAQAAAAAAAAABAAACAAAAAAEAAAoAAAAAAQAABAAAAAABAAAAAAAAAAEAAAIAAAAAAQAACgAAAAABAAAEAAAAAAEAAAAAAAAAAQAAAgAAAAABAAAKAAAAAAEAAAQAAAAAAQAAAAAAAAABAAACAAAAAAEAAAoAAAAAAQAABAAAAAABAAAAAAAAAAEAAAIAAAAAAQAACgAAAAABAAAEAAAAAAEAAAAAAAAAAQAAAgAAAAABAAAKAAAAAAEAAAQAAAAAAQAAAAAAAAABAAACAAAAAAEAAAoAAAAAAQAABAAAAAABAAAAAAAAAAEAAAIAAAAAAQAACgAAAAABAAAEAAAAAAEAAAAAAAAAAQAAAgAAAAABAAAKAAAAAAEAAAQAAAAAAQAAAAAAAAABAAACAAAAAAEAAAoAAAAAAQAABAAAAAABAAAAAAAAAAEAAAIAAAAAAQAACgAAAAABAAAEAAAAAAEAAAAAAAAAAQAAAgAAAAABAAAKAAAAAAEAAAQAAAAAAQAAAAAAAAABAAACAAAAAAEAAAoAAAAAAQAABAAAAAABAAAAAAAAAAEAAAIAAAAAAQAACgAAAAABAAAEAAAAAAEAAAAAAAAAAQAAAgAAAAABAAAKAAAAAAEAAAQAAAAAAQAAAAAAAAABAAACAAAAAAEAAAoAAAAAAQAABAAAAAABAAAAAAAAAAEAAAIAAAAAAQAACgAAAAABAAAEAAAAAAEAAAAAAAAAAQAAAgAAAAABAAAKAAAAAAEAAAQAAAAAAQAAAAAAAAABAAACAAAAAAEAAAoAAAAAAQAABAAAAAABAAAAAAAAAAEAAAIAAAAAAQAACgAAAAABAAAEAAAAAAEAAAAAAAAAAQAAAgAAAAABAAAKAAAAAAEAAAQAAAAAAQAAAAAAAAABAAACAAAAAAEAAAoAAAAAAQAABAAAAAABAAAAAAAAAAEAAAIAAAAAAQAACgAAAAABAAAEAAAAAAEAAAAAAAAAAQAAAgAAAAABAAAKAAAAAAEAAAQAAAAAAQAAAAAAAAABAAACAAAAAAEAAAoAAAAAAQAABAAAAAABAAAAAAAAAAEAAAIAAAAAAQAACgAAAAABAAAEAAAAAAEAAAAAAAAAAQAAAgAAAAABAAAKAAAAAAEAAAQAAAAAAQAAAAAAAAABAAACAAAAAAEAAAoAAAAAAQAABAAAAAABAAAAAAAAAAEAAAIAAAAAAQAACgAAAAABAAAEAAAAAAEAAAAAAAAAAQAAAgAAAAABAAAKAAAAAAEAAAQAAAAAAQAAAAAAAAABAAACAAAAAAEAAAoAAAAAAQAABAAAAAABAAAAAAAAAAEAAAIAAAAAAQAACgAAAAABAAAEAAAAAAEAAAAAAAAAAQAAAgAAAAABAAAKAAAAAAEAAAQAAAAAAQAAAAAAAAABAAACAAAAAAEAAAoAAAAAAQAABAAAAAABAAAAAAAAAAEAAAIAAAAAAQAACgAAAAABAAAEAAAAAAEAAAAAAAAAAQAAAgAAAAABAAAKAAAAAAEAAAQAAAAAAQAAAAAAAAABAAACAAAAAAEAAAoAAAAAAQAABAAAAAABAAAAAAAAAAEAAAIAAAAAAQAACgAAAAABAAAEAAAAAAEAAAAAAAAAAQAAAgAAAAABAAAKAAAAAAEAAAQAAAAAAQAAAAAAAAABAAACAAAAAAEAAAoAAAAAAQAABAAAAAABAAAAAAAAAAEAAAIAAAAAAQAACgAAAAABAAAEAAAAAAEAAAAAAAAAAQAAAgAAAAABAAAKAAAAAAEAAAQAAAAAAQAAAAAAAAABAAACAAAAAAEAAAoAAAAAAQAABAAAAAABAAAAAAAAAAEAAAIAAAAAAgAABAAAAAAcc3RzYwAAAAAAAAABAAAAAQAAA+kAAAABAAAPuHN0c3oAAAAAAAAAAAAAA+kAAAdcAAABKwAAAFQAAABRAAAAPQAAAKwAAABQAAAANAAAADwAAAC1AAAAUQAAAEQAAABBAAAAzgAAAFgAAABQAAAASwAAAQ0AAABVAAAATAAAAEEAAAEWAAAAUAAAAD8AAABJAAAA6wAAAFgAAABJAAAAQAAAAUQAAABbAAAASwAAAEMAAAE/AAAAXAAAAEkAAABAAAABSQAAAFsAAABNAAAAQAAAASMAAABjAAAASQAAAEMAAAEBAAAAWgAAAEIAAAA6AAAAzQAAAFAAAABBAAAAMwAAALUAAAA9AAAAKgAAACEAAACHAAAAMwAAACMAAAAdAAAAhQAAAC0AAAAeAAAAHgAAAJIAAAApAAAAHQAAAB4AAACWAAAALwAAAB4AAAAdAAAAxgAAADEAAAAhAAAAIwAAAMoAAAA5AAAAIQAAACcAAADrAAAANwAAACIAAAAiAAAAugAAADAAAAAiAAAAIwAAAMoAAAA7AAAAIQAAAB8AAADGAAAAJwAAABgAAAAeAAAAvgAAAC0AAAAeAAAAGAAAALUAAAAjAAAAGwAAABoAAACEAAAAIQAAABgAAAAYAAAApAAAACMAAAAbAAAAFgAAAIMAAAAgAAAAFgAAABYAAABgAAAAIwAAABgAAAAWAAAAMwAAACAAAAAWAAAAFgAAAFYAAAAhAAAAGAAAABYAAABWAAAAIQAAABgAAAAWAAAAUwAAACIAAAAYAAAAGAAAAEkAAAAlAAAAGAAAABgAAABjAAAAIwAAABgAAAAaAAAAUQAAACYAAAAaAAAAGAAAAFAAAAAlAAAAGgAAABgAAABcAAAAIwAAABgAAAAYAAAATwAAACMAAAAYAAAAGAAAACwAAAAhAAAAGAAAABgAAABAAAAAIQAAABgAAAAYAAAAJwAAACEAAAAYAAAAGAAAAB4AAAAhAAAAGAAAABgAAAAbAAAAIQAAABgAAAAYAAAALgAAACMAAAAYAAAAGAAAADYAAAAjAAAAGAAAABgAAAAgAAAAIwAAABgAAAAYAAAAIQAAACMAAAAYAAAAGAAAAB8AAAAjAAAAGAAAABgAAAAhAAAAIwAAABgAAAAYAAAAJgAAACMAAAAYAAAAGAAAACgAAAAjAAAAGAAAABgAAAAjAAAAIwAAABgAAAAYAAAAHwAAACMAAAAYAAAAGAAAAB8AAAAjAAAAGAAAABgAAAAfAAAAIwAAABgAAAAYAAAAHwAAACMAAAAYAAAAGAAAAB8AAAAjAAAAGAAAABgAAAAfAAAAIwAAABgAAAAYAAAAHwAAACMAAAAYAAAAGAAAAB8AAAAjAAAAGAAAABgAAAAaAAAIDQAAACEAAAASAAAAEgAAABIAAAAbAAAAFAAAABIAAAASAAAAGwAAABQAAAASAAAAEgAAABsAAAAUAAAAEgAAABIAAAAbAAAAFAAAABIAAAASAAAAGwAAABQAAAASAAAAEgAAABsAAAAUAAAAEgAAABIAAAAbAAAAFAAAABIAAAASAAAAGwAAABQAAAASAAAAEgAAABsAAAAUAAAAEgAAABIAAAAbAAAAFAAAABIAAAASAAAAGwAAABQAAAASAAAAEgAAABsAAAAUAAAAEgAAABIAAAAbAAAAFAAAABIAAAASAAAAGwAAABQAAAASAAAAEgAAABsAAAAUAAAAEgAAABIAAAAbAAAAFAAAABIAAAASAAAAGwAAABQAAAASAAAAEgAAABsAAAAUAAAAEgAAABIAAAAbAAAAFAAAABIAAAASAAAAGwAAABQAAAASAAAAEgAAABsAAAAUAAAAEgAAABIAAAAbAAAAFAAAABIAAAASAAAAGwAAABQAAAASAAAAEgAAABsAAAAUAAAAEgAAABIAAAAbAAAAFAAAABIAAAASAAAAGwAAABQAAAASAAAAEgAAABsAAAAUAAAAEgAAABIAAAAbAAAAFAAAABIAAAASAAAAGwAAABQAAAASAAAAEgAAABsAAAAUAAAAEgAAABIAAAAbAAAAFAAAABIAAAASAAAAGwAAABQAAAASAAAAEgAAABsAAAAUAAAAEgAAABIAAAAbAAAAFAAAABIAAAASAAAAGwAAABQAAAASAAAAEgAAABsAAAAUAAAAEgAAABIAAAAbAAAAFAAAABIAAAASAAAAGwAAABQAAAASAAAAEgAAABsAAAAUAAAAEgAAABIAAAAbAAAAFAAAABIAAAASAAAAGwAAABQAAAASAAAAEgAAABsAAAAUAAAAEgAAABIAAAAbAAAAFAAAABIAAAASAAAAGwAAABQAAAASAAAAEgAAABsAAAAUAAAAEgAAABIAAAAbAAAAFAAAABIAAAASAAAAGwAAABQAAAASAAAAEgAAABsAAAAUAAAAEgAAABIAAAAbAAAAFAAAABIAAAASAAAAGwAAABQAAAASAAAAEgAAABsAAAAUAAAAEgAAABIAAAAbAAAAFAAAABIAAAASAAAAGwAAABQAAAASAAAAEgAAABsAAAAUAAAAEgAAABIAAAAbAAAAFAAAABIAAAASAAAAGwAAABQAAAASAAAAEgAAABsAAAAUAAAAEgAAABIAAAAbAAAAFAAAABIAAAASAAAAGwAAABQAAAASAAAAEgAAABsAAAAUAAAAEgAAABIAAAAbAAAAFAAAABIAAAASAAAAGgAAB/EAAAAfAAAAEgAAABIAAAASAAAAGwAAABQAAAASAAAAEgAAABsAAAAUAAAAEgAAABIAAAAbAAAAFAAAABIAAAASAAAAGwAAABQAAAASAAAAEgAAABsAAAAUAAAAEgAAABIAAAAbAAAAFAAAABIAAAASAAAAGwAAABQAAAASAAAAEgAAABsAAAAUAAAAEgAAABIAAAAbAAAAFAAAABIAAAASAAAAGwAAABQAAAASAAAAEgAAABsAAAAUAAAAEgAAABIAAAAbAAAAFAAAABIAAAASAAAAGwAAABQAAAASAAAAEgAAABsAAAAUAAAAEgAAABIAAAAbAAAAFAAAABIAAAASAAAAGwAAABQAAAASAAAAEgAAABsAAAAUAAAAEgAAABIAAAAbAAAAFAAAABIAAAASAAAAGwAAABQAAAASAAAAEgAAABsAAAAUAAAAEgAAABIAAAAbAAAAFAAAABIAAAASAAAAGwAAABQAAAASAAAAEgAAABsAAAAUAAAAEgAAABIAAAAbAAAAFAAAABIAAAASAAAAGwAAABQAAAASAAAAEgAAABsAAAAUAAAAEgAAABIAAAAbAAAAFAAAABIAAAASAAAAGwAAABQAAAASAAAAEgAAABsAAAAUAAAAEgAAABIAAAAbAAAAFAAAABIAAAASAAAAGwAAABQAAAASAAAAEgAAABsAAAAUAAAAEgAAABIAAAAbAAAAFAAAABIAAAASAAAAGwAAABQAAAASAAAAEgAAABsAAAAUAAAAEgAAABIAAAAbAAAAFAAAABIAAAASAAAAGwAAABQAAAASAAAAEgAAABsAAAAUAAAAEgAAABIAAAAbAAAAFAAAABIAAAASAAAAGwAAABQAAAASAAAAEgAAABsAAAAUAAAAEgAAABIAAAAbAAAAFAAAABIAAAASAAAAGwAAABQAAAASAAAAEgAAABsAAAAUAAAAEgAAABIAAAAbAAAAFAAAABIAAAASAAAAGwAAABQAAAASAAAAEgAAABsAAAAUAAAAEgAAABIAAAAbAAAAFAAAABIAAAASAAAAGwAAABQAAAASAAAAEgAAABsAAAAUAAAAEgAAABIAAAAbAAAAFAAAABIAAAASAAAAGwAAABQAAAASAAAAEgAAABsAAAAUAAAAEgAAABIAAAAbAAAAFAAAABIAAAASAAAAGwAAABQAAAASAAAAEgAAABsAAAAUAAAAEgAAABIAAAAbAAAAFAAAABIAAAASAAAAGwAAABQAAAASAAAAEgAAABsAAAAUAAAAEgAAABIAAAAbAAAAFAAAABIAAAASAAAAGwAAABQAAAASAAAAEgAAABoAAAfxAAAAHwAAABIAAAASAAAAEgAAABsAAAAUAAAAEgAAABIAAAAbAAAAFAAAABIAAAASAAAAGwAAABQAAAASAAAAEgAAABsAAAAUAAAAEgAAABIAAAAbAAAAFAAAABIAAAASAAAAGwAAABQAAAASAAAAEgAAABsAAAAUAAAAEgAAABIAAAAbAAAAFAAAABIAAAASAAAAGwAAABQAAAASAAAAEgAAABsAAAAUAAAAEgAAABIAAAAbAAAAFAAAABIAAAASAAAAGwAAABQAAAASAAAAEgAAABsAAAAUAAAAEgAAABIAAAAbAAAAFAAAABIAAAASAAAAGwAAABQAAAASAAAAEgAAABsAAAAUAAAAEgAAABIAAAAbAAAAFAAAABIAAAASAAAAGwAAABQAAAASAAAAEgAAABsAAAAUAAAAEgAAABIAAAAbAAAAFAAAABIAAAASAAAAGwAAABQAAAASAAAAEgAAABsAAAAUAAAAEgAAABIAAAAbAAAAFAAAABIAAAASAAAAGwAAABQAAAASAAAAEgAAABsAAAAUAAAAEgAAABIAAAAbAAAAFAAAABIAAAASAAAAGwAAABQAAAASAAAAEgAAABsAAAAUAAAAEgAAABIAAAAbAAAAFAAAABIAAAASAAAAGwAAABQAAAASAAAAEgAAABsAAAAUAAAAEgAAABIAAAAbAAAAFAAAABIAAAASAAAAGwAAABQAAAASAAAAEgAAABsAAAAUAAAAEgAAABIAAAAbAAAAFAAAABIAAAASAAAAGwAAABQAAAASAAAAEgAAABsAAAAUAAAAEgAAABIAAAAbAAAAFAAAABIAAAASAAAAGwAAABQAAAASAAAAEgAAABsAAAAUAAAAEgAAABIAAAAbAAAAFAAAABIAAAASAAAAGwAAABQAAAASAAAAEgAAABsAAAAUAAAAEgAAABIAAAAbAAAAFAAAABIAAAASAAAAGwAAABQAAAASAAAAEgAAABsAAAAUAAAAEgAAABIAAAAbAAAAFAAAABIAAAASAAAAGwAAABQAAAASAAAAEgAAABsAAAAUAAAAEgAAABIAAAAbAAAAFAAAABIAAAASAAAAGwAAABQAAAASAAAAEgAAABsAAAAUAAAAEgAAABIAAAAbAAAAFAAAABIAAAASAAAAGwAAABQAAAASAAAAEgAAABsAAAAUAAAAEgAAABIAAAAbAAAAFAAAABIAAAASAAAAGwAAABQAAAASAAAAEgAAABsAAAAUAAAAEgAAABIAAAAbAAAAFAAAABIAAAASAAAAGwAAABQAAAASAAAAEgAAABoAAAAUAAAAEgAAABIAAAAaAAAD4gAAABRzdGNvAAAAAAAAAAEAAAAwAAAAYnVkdGEAAABabWV0YQAAAAAAAAAhaGRscgAAAAAAAAAAbWRpcmFwcGwAAAAAAAAAAAAAAAAtaWxzdAAAACWpdG9vAAAAHWRhdGEAAAABAAAAAExhdmY2MC4xNi4xMDA=\" type=\"video/mp4\">\n",
       " Your browser does not support the video tag.\n",
       " </video>"
      ],
      "text/plain": [
       "<IPython.core.display.Video object>"
      ]
     },
     "metadata": {},
     "output_type": "display_data"
    }
   ],
   "source": [
    "if not skip_training:\n",
    "    video = Video(Path().cwd() / 'results' / 'InvertedPendulum-v4' / 'video' / 'test' / 'ex5-episode-0.mp4',\n",
    "    embed=True, html_attributes=\"loop autoplay\") # Set html_attributes=\"controls\" for video control\n",
    "    display(video)"
   ]
  },
  {
   "cell_type": "markdown",
   "id": "6b3294a4",
   "metadata": {
    "deletable": false,
    "editable": false,
    "nbgrader": {
     "cell_type": "markdown",
     "checksum": "fab39c6fa2607a23e24d1db8c8081c5a",
     "grade": false,
     "grade_id": "cell-f5cbd8946325f4b7",
     "locked": true,
     "schema_version": 3,
     "solution": false,
     "task": false
    }
   },
   "source": [
    "<a id='Q2'></a>\n",
    "<div class=\" alert alert-warning\">\n",
    "    <h3><b>Student Question 2.1</b> Constant vs Learnable Variance (5 points) </h3> \n",
    "\n",
    "Which of the following statements accurately describe the strengths and weaknesses of using constant variance vs. learning the variance during training? **Select 5 options.**      \n",
    "🔝\t<a href='#TOC'><b>Table of Contents</b></a>\n",
    "</div>"
   ]
  },
  {
   "cell_type": "markdown",
   "id": "ebc0af92-69e2-4092-8e09-d070351e2fde",
   "metadata": {
    "deletable": false,
    "editable": false,
    "nbgrader": {
     "cell_type": "markdown",
     "checksum": "9f9b59308ffd6714780a24779a21a972",
     "grade": false,
     "grade_id": "cell-5e9bfdef15f9a0fb",
     "locked": true,
     "schema_version": 3,
     "solution": false,
     "task": false
    },
    "tags": []
   },
   "source": [
    "Options:\n",
    "\n",
    "1. Variance is directly tied to exploration, with greater variance leading to more random actions and more exploration. \n",
    "2.  Learned variance always leads to better results than constant variance. \n",
    "3.  Constant variance is a simple solution that guarantees a certain level of exploration throughout training. \n",
    "4.  If constant variance is set too low, it can result in faster convergence to the optimal policy. \n",
    "5.  If the constant variance is set too high, it can handle very challenging environments by seeing through the randomness in selected actions.\n",
    "6.  Learning the variance allows the agent to adapt its exploration needs throughout training. \n",
    "7. Constant variance makes it possible for the agent to explore more at the beginning and less as the policy improves. \n",
    "8. Learning the variance can potentially reduce variance when actions are good and increase it when actions are bad. \n",
    "9. Understanding how learned variance behaves during optimization can be challenging.\n",
    "10. Constant variance is computationally more expensive than learned variance.\n"
   ]
  },
  {
   "cell_type": "code",
   "execution_count": 56,
   "id": "43eb71f9-232a-4ab7-97e3-31972a7cb343",
   "metadata": {},
   "outputs": [],
   "source": [
    "# Answer question 2.1 with appropriate option numbers\n",
    "sq2_1 = [1,3,6,8,9] "
   ]
  },
  {
   "cell_type": "markdown",
   "id": "296320f9-3b14-4edc-b5f2-597a094e171d",
   "metadata": {
    "deletable": false,
    "editable": false,
    "nbgrader": {
     "cell_type": "markdown",
     "checksum": "d13eefd0d63d1ff18a00323cef460153",
     "grade": false,
     "grade_id": "cell-4cf801eac92a3b19",
     "locked": true,
     "schema_version": 3,
     "solution": false,
     "task": false
    },
    "tags": []
   },
   "source": [
    "The following cells are used for grading."
   ]
  },
  {
   "cell_type": "code",
   "execution_count": null,
   "id": "c2333a4c-697c-4875-9885-e63284af3f2c",
   "metadata": {
    "deletable": false,
    "editable": false,
    "nbgrader": {
     "cell_type": "code",
     "checksum": "683b1f0671b478fec843b6e7163a15ca",
     "grade": true,
     "grade_id": "cell-ae37e0b98565323f",
     "locked": true,
     "points": 1,
     "schema_version": 3,
     "solution": false,
     "task": false
    },
    "tags": []
   },
   "outputs": [],
   "source": []
  },
  {
   "cell_type": "code",
   "execution_count": null,
   "id": "2d053c6e-6e65-4aec-ae9d-45ddb4cc3f13",
   "metadata": {
    "deletable": false,
    "editable": false,
    "nbgrader": {
     "cell_type": "code",
     "checksum": "ae84c5dba0956a86e0f1a806c86e0af1",
     "grade": true,
     "grade_id": "cell-a72089ecec4f5632",
     "locked": true,
     "points": 1,
     "schema_version": 3,
     "solution": false,
     "task": false
    },
    "tags": []
   },
   "outputs": [],
   "source": []
  },
  {
   "cell_type": "code",
   "execution_count": null,
   "id": "71edfd5d-e17f-4eda-a717-9e44120af0e1",
   "metadata": {
    "deletable": false,
    "editable": false,
    "nbgrader": {
     "cell_type": "code",
     "checksum": "c189d5b475c6cced735a5314611c4f21",
     "grade": true,
     "grade_id": "cell-9e5f8847acea74a7",
     "locked": true,
     "points": 1,
     "schema_version": 3,
     "solution": false,
     "task": false
    },
    "tags": []
   },
   "outputs": [],
   "source": []
  },
  {
   "cell_type": "code",
   "execution_count": null,
   "id": "e55b5584-6503-4fdb-8114-cc405a144043",
   "metadata": {
    "deletable": false,
    "editable": false,
    "nbgrader": {
     "cell_type": "code",
     "checksum": "115d571744e4b698680e42ef44a6a9f1",
     "grade": true,
     "grade_id": "cell-2be5408389da2f22",
     "locked": true,
     "points": 1,
     "schema_version": 3,
     "solution": false,
     "task": false
    },
    "tags": []
   },
   "outputs": [],
   "source": []
  },
  {
   "cell_type": "code",
   "execution_count": null,
   "id": "be5d5f33-0196-4a05-ab15-c14611e24329",
   "metadata": {
    "deletable": false,
    "editable": false,
    "nbgrader": {
     "cell_type": "code",
     "checksum": "bff3925d27a08b1abb8436e8f9a2087a",
     "grade": true,
     "grade_id": "cell-e990636f285b1fc3",
     "locked": true,
     "points": 1,
     "schema_version": 3,
     "solution": false,
     "task": false
    },
    "tags": []
   },
   "outputs": [],
   "source": []
  },
  {
   "cell_type": "markdown",
   "id": "0f701ff9",
   "metadata": {
    "deletable": false,
    "editable": false,
    "nbgrader": {
     "cell_type": "markdown",
     "checksum": "c782d710199b9b152f240bc37bc10069",
     "grade": false,
     "grade_id": "cell-e68f1d1241b5f955",
     "locked": true,
     "schema_version": 3,
     "solution": false,
     "task": false
    }
   },
   "source": [
    "<a id='Q3'></a>\n",
    "<div class=\" alert alert-warning\">\n",
    "    <h3><b>Student Question 2.2</b> Learnable Variance Initial Performance (5 points) </h3> \n",
    "\n",
    "In the case of learned variance, what are the impacts of initialization on the training performance? **Select 4 options.**\n",
    "\n",
    "🔝\t<a href='#TOC'><b>Table of Contents</b></a>\n",
    "</div>"
   ]
  },
  {
   "cell_type": "markdown",
   "id": "80ffb191-91ed-411a-84db-cdba261fabb1",
   "metadata": {
    "deletable": false,
    "editable": false,
    "nbgrader": {
     "cell_type": "markdown",
     "checksum": "c5d5279967303ed7150ab5b034687350",
     "grade": false,
     "grade_id": "cell-0b76bf2aa4735495",
     "locked": true,
     "schema_version": 3,
     "solution": false,
     "task": false
    },
    "tags": []
   },
   "source": [
    "Options:\n",
    "    \n",
    "1. A larger initial value allows for more exploration at the beginning of training. \n",
    "2. A lower initial value tends to favor exploitation over exploration initially. \n",
    "3. The initial variance value has no impact on the final performance of the trained policy. \n",
    "4. If the initial value is too low or too high, training can be slower and may require more data. \n",
    "5. A high initial variance leads to better final performance regardless of the task. \n",
    "6. The impact of the initial variance diminishes as training progresses and the variance is learned. \n",
    "7. The optimal initial variance can be theoretically calculated for any given task. \n",
    "8. If the variance decreases too rapidly, the optimizer might become trapped in a local minimum.\n",
    "9. Changing the initial variance is equivalent to adjusting the learning rate of the optimizer. \n",
    "10. The initial variance affects only the beginning of training.\n"
   ]
  },
  {
   "cell_type": "code",
   "execution_count": 57,
   "id": "1ffebac0-8432-44a4-bfde-7b985e21fec2",
   "metadata": {},
   "outputs": [],
   "source": [
    "# Answer question 2.2 with appropriate option numbers\n",
    "sq2_2 = [1,2,4,6] "
   ]
  },
  {
   "cell_type": "markdown",
   "id": "4be1c98b-8e1a-45a0-988d-d9b386a24f39",
   "metadata": {
    "deletable": false,
    "editable": false,
    "nbgrader": {
     "cell_type": "markdown",
     "checksum": "d825ca8e2bb7a90eac70fa0a503f7cb4",
     "grade": false,
     "grade_id": "cell-76f57b4b47186121",
     "locked": true,
     "schema_version": 3,
     "solution": false,
     "task": false
    },
    "tags": []
   },
   "source": [
    "The following cells are used for grading."
   ]
  },
  {
   "cell_type": "code",
   "execution_count": null,
   "id": "52fc11d0-fd01-463d-8283-5af574797c1d",
   "metadata": {
    "deletable": false,
    "editable": false,
    "nbgrader": {
     "cell_type": "code",
     "checksum": "f38b6c0f01a00ce34763c3d48b24ca73",
     "grade": true,
     "grade_id": "cell-09b718ecfbe32325",
     "locked": true,
     "points": 1,
     "schema_version": 3,
     "solution": false,
     "task": false
    },
    "tags": []
   },
   "outputs": [],
   "source": []
  },
  {
   "cell_type": "code",
   "execution_count": null,
   "id": "2709dfb7-56be-495d-803e-852110f47093",
   "metadata": {
    "deletable": false,
    "editable": false,
    "nbgrader": {
     "cell_type": "code",
     "checksum": "2a50c0ba4f2bf587aa935a79073d06e1",
     "grade": true,
     "grade_id": "cell-763f34edc660252e",
     "locked": true,
     "points": 1,
     "schema_version": 3,
     "solution": false,
     "task": false
    },
    "tags": []
   },
   "outputs": [],
   "source": []
  },
  {
   "cell_type": "code",
   "execution_count": null,
   "id": "bff6107a-023d-461e-968d-1e17449f64d7",
   "metadata": {
    "deletable": false,
    "editable": false,
    "nbgrader": {
     "cell_type": "code",
     "checksum": "32452fdda00d718cc0baaa7fb394651e",
     "grade": true,
     "grade_id": "cell-98c29f8b68e66232",
     "locked": true,
     "points": 1,
     "schema_version": 3,
     "solution": false,
     "task": false
    },
    "tags": []
   },
   "outputs": [],
   "source": []
  },
  {
   "cell_type": "code",
   "execution_count": null,
   "id": "25bbc19b-e340-42d0-a7ee-ab05a2ad92b8",
   "metadata": {
    "deletable": false,
    "editable": false,
    "nbgrader": {
     "cell_type": "code",
     "checksum": "5785645c12767d416dc6ddfed99efa21",
     "grade": true,
     "grade_id": "cell-9c9e78138da8d51d",
     "locked": true,
     "points": 2,
     "schema_version": 3,
     "solution": false,
     "task": false
    },
    "tags": []
   },
   "outputs": [],
   "source": []
  },
  {
   "cell_type": "markdown",
   "id": "e341103b",
   "metadata": {},
   "source": [
    "# 4. PG and experience replay <a id='4.'></a>"
   ]
  },
  {
   "cell_type": "markdown",
   "id": "6112bc95",
   "metadata": {
    "deletable": false,
    "editable": false,
    "nbgrader": {
     "cell_type": "markdown",
     "checksum": "6a68688c7ef8e04344930af37d7c63f2",
     "grade": false,
     "grade_id": "cell-6cb5eeda51f1d4eb",
     "locked": true,
     "schema_version": 3,
     "solution": false,
     "task": false
    },
    "tags": []
   },
   "source": [
    "<a id='Q4'></a>\n",
    "<div class=\" alert alert-warning\">\n",
    "    <h3><b>Student Question 3.</b> Considering an experience replay buffer (15 points) </h3> \n",
    "\n",
    "Why can't the REINFORCE method implemented in this exercise be directly used with experience replay? Which steps of the algorithm would be problematic, and how could these issues potentially be resolved? **Select 4 options.**\n",
    "\n",
    "🔝\t<a href='#TOC'><b>Table of Contents</b></a>\n",
    "</div>"
   ]
  },
  {
   "cell_type": "markdown",
   "id": "ea0ea7f0-69a6-47f8-a46a-bb010300d0e1",
   "metadata": {
    "deletable": false,
    "editable": false,
    "nbgrader": {
     "cell_type": "markdown",
     "checksum": "698fb1e0819100c4f301814e570244df",
     "grade": false,
     "grade_id": "cell-adb8f569068522a3",
     "locked": true,
     "schema_version": 3,
     "solution": false,
     "task": false
    },
    "tags": []
   },
   "source": [
    "Options:\n",
    "\n",
    "1.  REINFORCE is inherently off-policy and can be directly used with experience replay without modifications. \n",
    "2.  REINFORCE is an on-policy method, making it incompatible with off-policy data from a replay buffer. \n",
    "3. The problematic step is in the policy evaluation process, as the stored rewards may not reflect the current policy's performance.\n",
    "4.  The problem can be mitigated by frequently updating the replay buffer with experiences from more recent policies.\n",
    "5.  The expectation of the gradient must be calculated over the current policy in REINFORCE. \n",
    "6.  REINFORCE requires sequential data, which is disrupted by the random sampling in experience replay. \n",
    "7.  Computing the expectation term is difficult with experiences from policies other than the current one. \n",
    "8.  There is no way to use REINFORCE with experience replay under any circumstances.\n",
    "9.  Importance sampling can be used to estimate the gradients and potentially resolve the issue. \n"
   ]
  },
  {
   "cell_type": "code",
   "execution_count": 58,
   "id": "00d2bf15-930e-4689-898b-d6a529174d21",
   "metadata": {},
   "outputs": [],
   "source": [
    "# Answer question 3 with appropriate option numbers\n",
    "sq3 = [2,5,7,9] "
   ]
  },
  {
   "cell_type": "markdown",
   "id": "5c820539-91be-40c3-9721-f3aecf0d7c71",
   "metadata": {
    "deletable": false,
    "editable": false,
    "nbgrader": {
     "cell_type": "markdown",
     "checksum": "3f9f72a20005df02b60eacdf9cd800a1",
     "grade": false,
     "grade_id": "cell-a7b8cbb0c7ee79bf",
     "locked": true,
     "schema_version": 3,
     "solution": false,
     "task": false
    },
    "tags": []
   },
   "source": [
    "The following cells are used for grading."
   ]
  },
  {
   "cell_type": "code",
   "execution_count": null,
   "id": "a395615e-0977-42fc-97b2-0067d9daf743",
   "metadata": {
    "deletable": false,
    "editable": false,
    "nbgrader": {
     "cell_type": "code",
     "checksum": "4413fbf9a4117123de48bdff40d8edb5",
     "grade": true,
     "grade_id": "cell-888f793f50035df5",
     "locked": true,
     "points": 4,
     "schema_version": 3,
     "solution": false,
     "task": false
    },
    "tags": []
   },
   "outputs": [],
   "source": []
  },
  {
   "cell_type": "code",
   "execution_count": null,
   "id": "62f6467d-1b3e-4990-8d6b-5710d8f43cd4",
   "metadata": {
    "deletable": false,
    "editable": false,
    "nbgrader": {
     "cell_type": "code",
     "checksum": "82a27507e21e239487f9dbc71b70113f",
     "grade": true,
     "grade_id": "cell-c1e5b1ebabd15135",
     "locked": true,
     "points": 4,
     "schema_version": 3,
     "solution": false,
     "task": false
    },
    "tags": []
   },
   "outputs": [],
   "source": []
  },
  {
   "cell_type": "code",
   "execution_count": null,
   "id": "7f2e6daf-15bb-44b9-8613-ad1c420f248a",
   "metadata": {
    "deletable": false,
    "editable": false,
    "nbgrader": {
     "cell_type": "code",
     "checksum": "3151594ac1e83351cd877b808e0b3c67",
     "grade": true,
     "grade_id": "cell-a4e0e03a88560f44",
     "locked": true,
     "points": 4,
     "schema_version": 3,
     "solution": false,
     "task": false
    },
    "tags": []
   },
   "outputs": [],
   "source": []
  },
  {
   "cell_type": "code",
   "execution_count": null,
   "id": "ac8de0c6-3e96-477f-a6f2-f14ba043f29d",
   "metadata": {
    "deletable": false,
    "editable": false,
    "nbgrader": {
     "cell_type": "code",
     "checksum": "fb61e4be1d3786c02d82e25aa17d5550",
     "grade": true,
     "grade_id": "cell-89819ab91b6882b0",
     "locked": true,
     "points": 3,
     "schema_version": 3,
     "solution": false,
     "task": false
    },
    "tags": []
   },
   "outputs": [],
   "source": []
  },
  {
   "cell_type": "markdown",
   "id": "a7b67d36",
   "metadata": {},
   "source": [
    "# 5. Real-world control problems <a id='5.'></a>"
   ]
  },
  {
   "cell_type": "markdown",
   "id": "3731e57a",
   "metadata": {
    "deletable": false,
    "editable": false,
    "nbgrader": {
     "cell_type": "markdown",
     "checksum": "b0ba52a4c04c3e5a61b1b086f6e08642",
     "grade": false,
     "grade_id": "cell-4cf495dce20c4b84",
     "locked": true,
     "schema_version": 3,
     "solution": false,
     "task": false
    }
   },
   "source": [
    "<a id='Q5'></a>\n",
    "<div class=\" alert alert-warning\">\n",
    "    <h3><b>Student Question 4.1</b> Considering an unbounded continuous action space part 1 (5 points) </h3> \n",
    "\n",
    "What could go wrong when a model with an **unbounded** continuous action space and a reward function like the one used here (+1 for survival) were to be used with a physical system? **Select 5 options.**\n",
    "\n",
    "\n",
    "🔝\t<a href='#TOC'><b>Table of Contents</b></a>\n",
    "</div>"
   ]
  },
  {
   "cell_type": "markdown",
   "id": "490748e0-4af6-46c7-8c1f-bd49b17b4988",
   "metadata": {
    "deletable": false,
    "editable": false,
    "nbgrader": {
     "cell_type": "markdown",
     "checksum": "55f365842c25299d768ad29135696fc7",
     "grade": false,
     "grade_id": "cell-bd5793f602cb1128",
     "locked": true,
     "schema_version": 3,
     "solution": false,
     "task": false
    },
    "tags": []
   },
   "source": [
    "Options:\n",
    "    \n",
    "1. The agent would always converge to the most energy-efficient actions to ensure long-term survival. \n",
    "2. The agent might take extreme actions that could damage the physical hardware. \n",
    "3. The simple reward function would lead to slow learning but no physical dangers. \n",
    "4.  The model would naturally avoid extreme actions due to the survival instinct encoded in the reward. \n",
    "5.  The model could apply unrealistically large inputs (e.g., voltages) to system components. \n",
    "6.  The main issue would be the computational cost of handling unlimited actions, not physical dangers.\n",
    "7.  The agent might cause damage to the surroundings of the physical system. \n",
    "8.  The unbounded action space could lead to unsafe operating conditions for the system. \n",
    "9.  The model might learn to exploit the reward function by finding unintended shortcuts to survival. \n",
    "10.  Unbounded continuous action spaces guarantee optimal performance in physical systems. \n"
   ]
  },
  {
   "cell_type": "code",
   "execution_count": 59,
   "id": "097190c7-adc7-4ffa-9acb-600981bdfe4a",
   "metadata": {},
   "outputs": [],
   "source": [
    "# Answer question 4.1 with appropriate option numbers\n",
    "sq4_1 = [2,5,7,8,9] "
   ]
  },
  {
   "cell_type": "markdown",
   "id": "d1502a88-ef13-4b1b-b258-b8f79173b5f2",
   "metadata": {
    "deletable": false,
    "editable": false,
    "nbgrader": {
     "cell_type": "markdown",
     "checksum": "638469d35f910bd89d7923f1d4d54b79",
     "grade": false,
     "grade_id": "cell-b43da332879b800b",
     "locked": true,
     "schema_version": 3,
     "solution": false,
     "task": false
    },
    "tags": []
   },
   "source": [
    "The following cells are used for grading."
   ]
  },
  {
   "cell_type": "code",
   "execution_count": null,
   "id": "db8826d1-9986-46e4-85e5-cf27196e83e3",
   "metadata": {
    "deletable": false,
    "editable": false,
    "nbgrader": {
     "cell_type": "code",
     "checksum": "546aecc1550081b14b1522050105c6bf",
     "grade": true,
     "grade_id": "cell-d5a8ec81fd0d66b1",
     "locked": true,
     "points": 1,
     "schema_version": 3,
     "solution": false,
     "task": false
    },
    "tags": []
   },
   "outputs": [],
   "source": []
  },
  {
   "cell_type": "code",
   "execution_count": null,
   "id": "e479588a-4204-4439-a472-3f42e28a074c",
   "metadata": {
    "deletable": false,
    "editable": false,
    "nbgrader": {
     "cell_type": "code",
     "checksum": "4aa68a722fdde09a0f14b1cc2beca952",
     "grade": true,
     "grade_id": "cell-dd21e01105b76141",
     "locked": true,
     "points": 1,
     "schema_version": 3,
     "solution": false,
     "task": false
    },
    "tags": []
   },
   "outputs": [],
   "source": []
  },
  {
   "cell_type": "code",
   "execution_count": null,
   "id": "d1ddda5c-62d7-4972-8499-b366c33180d9",
   "metadata": {
    "deletable": false,
    "editable": false,
    "nbgrader": {
     "cell_type": "code",
     "checksum": "86c6d11ddefd70ca91ca251f95336b79",
     "grade": true,
     "grade_id": "cell-1fcee280857bec9d",
     "locked": true,
     "points": 1,
     "schema_version": 3,
     "solution": false,
     "task": false
    },
    "tags": []
   },
   "outputs": [],
   "source": []
  },
  {
   "cell_type": "code",
   "execution_count": null,
   "id": "be07e454-ef17-49f7-9bb6-bc8cea0f33b1",
   "metadata": {
    "deletable": false,
    "editable": false,
    "nbgrader": {
     "cell_type": "code",
     "checksum": "4c33a96b244d47f6d295480d7c250f1e",
     "grade": true,
     "grade_id": "cell-8047c00c583ed0b5",
     "locked": true,
     "points": 1,
     "schema_version": 3,
     "solution": false,
     "task": false
    },
    "tags": []
   },
   "outputs": [],
   "source": []
  },
  {
   "cell_type": "code",
   "execution_count": null,
   "id": "11aa6875-27b5-4493-9bbc-947210f76997",
   "metadata": {
    "deletable": false,
    "editable": false,
    "nbgrader": {
     "cell_type": "code",
     "checksum": "3568917e141d50f586181ced3a278c15",
     "grade": true,
     "grade_id": "cell-bd91fc42a27e31c6",
     "locked": true,
     "points": 1,
     "schema_version": 3,
     "solution": false,
     "task": false
    },
    "tags": []
   },
   "outputs": [],
   "source": []
  },
  {
   "cell_type": "markdown",
   "id": "fb45baf8",
   "metadata": {
    "deletable": false,
    "editable": false,
    "nbgrader": {
     "cell_type": "markdown",
     "checksum": "67b760375ed0a6a2b94dfb07ea65d28e",
     "grade": false,
     "grade_id": "cell-7efb2faf02c622ca",
     "locked": true,
     "schema_version": 3,
     "solution": false,
     "task": false
    }
   },
   "source": [
    "<a id='Q6'></a>\n",
    "<div class=\" alert alert-warning\">\n",
    "    <h3><b>Student Question 4.2</b> Considering an unbounded continuous action space part 2 (10 points) </h3> \n",
    "\n",
    "How could the problems appearing in Question 4.1 be mitigated without putting a hard limit on the actions? **Select 3 options.**\n",
    "\n",
    "🔝\t<a href='#TOC'><b>Table of Contents</b></a>\n",
    "</div>"
   ]
  },
  {
   "cell_type": "markdown",
   "id": "0fd8de8b-0921-4e92-99a7-bf716b05d958",
   "metadata": {
    "deletable": false,
    "editable": false,
    "nbgrader": {
     "cell_type": "markdown",
     "checksum": "27fc63402758fa9596a3e25808be10f6",
     "grade": false,
     "grade_id": "cell-aa619f6370139c43",
     "locked": true,
     "schema_version": 3,
     "solution": false,
     "task": false
    },
    "tags": []
   },
   "source": [
    "Options:\n",
    "    \n",
    "1. Only need to add a cost for constraining the state-space of the system\n",
    "2. Implement a reward function with a cost on extreme actions. \n",
    "3. Increase the frequency of agent updates to react more quickly to potential dangers.\n",
    "4.  Penalize actions that lead to unsafe states in the reward function. \n",
    "5.  Train the agent for more episodes to ensure it learns to avoid dangerous actions.\n",
    "6.  Modify the reward function to encourage safer behavior. \n",
    "7.  Increase the exploration rate to ensure the agent finds safe actions more quickly.\n",
    "8. Use a larger neural network to better approximate the optimal policy.\n"
   ]
  },
  {
   "cell_type": "code",
   "execution_count": 60,
   "id": "8c7a8af1-1828-430d-8c93-b066c8c06290",
   "metadata": {},
   "outputs": [],
   "source": [
    "# Answer question 4.2 with appropriate option numbers\n",
    "sq4_2 = [2,4,6] "
   ]
  },
  {
   "cell_type": "markdown",
   "id": "7180cb44-e7f8-46c3-a998-82b8ca735e52",
   "metadata": {
    "deletable": false,
    "editable": false,
    "nbgrader": {
     "cell_type": "markdown",
     "checksum": "a6805e89aea5be8794bf596d54fa3a4b",
     "grade": false,
     "grade_id": "cell-3b450e8fc52b5fde",
     "locked": true,
     "schema_version": 3,
     "solution": false,
     "task": false
    },
    "tags": []
   },
   "source": [
    "The following cells are used for grading."
   ]
  },
  {
   "cell_type": "code",
   "execution_count": null,
   "id": "b91768e7-c369-4f8b-8775-05b643ca6a18",
   "metadata": {
    "deletable": false,
    "editable": false,
    "nbgrader": {
     "cell_type": "code",
     "checksum": "3652e018ac01e53271b7629acbc23b13",
     "grade": true,
     "grade_id": "cell-f9c4479f99666417",
     "locked": true,
     "points": 3,
     "schema_version": 3,
     "solution": false,
     "task": false
    },
    "tags": []
   },
   "outputs": [],
   "source": []
  },
  {
   "cell_type": "code",
   "execution_count": null,
   "id": "00ebbea3-f23d-401e-8aeb-66509850c935",
   "metadata": {
    "deletable": false,
    "editable": false,
    "nbgrader": {
     "cell_type": "code",
     "checksum": "2e999e719e7e4b1c084cb7824d3d757a",
     "grade": true,
     "grade_id": "cell-25d8dcd46c0a0aad",
     "locked": true,
     "points": 3,
     "schema_version": 3,
     "solution": false,
     "task": false
    },
    "tags": []
   },
   "outputs": [],
   "source": []
  },
  {
   "cell_type": "code",
   "execution_count": null,
   "id": "4c207fd7-f8ad-4faf-a3e6-bae40bce0ae0",
   "metadata": {
    "deletable": false,
    "editable": false,
    "nbgrader": {
     "cell_type": "code",
     "checksum": "d8f37ba4a5b559d2961d11bccb39f025",
     "grade": true,
     "grade_id": "cell-ad280a1aceb1fe48",
     "locked": true,
     "points": 4,
     "schema_version": 3,
     "solution": false,
     "task": false
    },
    "tags": []
   },
   "outputs": [],
   "source": []
  },
  {
   "cell_type": "markdown",
   "id": "0eacb159",
   "metadata": {},
   "source": [
    "# 6. Discrete action spaces <a id='6.'></a>"
   ]
  },
  {
   "cell_type": "markdown",
   "id": "078ceb81",
   "metadata": {
    "deletable": false,
    "editable": false,
    "nbgrader": {
     "cell_type": "markdown",
     "checksum": "66dcd9987ec7c4e5ebda97a81438d820",
     "grade": false,
     "grade_id": "cell-ef7074d497b36665",
     "locked": true,
     "schema_version": 3,
     "solution": false,
     "task": false
    },
    "tags": []
   },
   "source": [
    "<a id='Q7'></a>\n",
    "<div class=\" alert alert-warning\">\n",
    "    <h3><b>Student Question 5.</b> Considering discrete action spaces (10 points) </h3> \n",
    "\n",
    "Can policy gradient methods be used with discrete action spaces? If so, how would they be implemented? **Select 5 options.**\n",
    "    \n",
    "🔝\t<a href='#TOC'><b>Table of Contents</b></a>\n",
    "</div>"
   ]
  },
  {
   "cell_type": "markdown",
   "id": "c9d9c3ec-d223-452d-8a47-4f8073e3066a",
   "metadata": {
    "deletable": false,
    "editable": false,
    "nbgrader": {
     "cell_type": "markdown",
     "checksum": "26f3c4738d927b2de66b599a486ba532",
     "grade": false,
     "grade_id": "cell-7f1aac4a2b0a31e4",
     "locked": true,
     "schema_version": 3,
     "solution": false,
     "task": false
    },
    "tags": []
   },
   "source": [
    "Options:\n",
    "    \n",
    "1. Yes, policy gradient methods can be used with discrete action spaces. \n",
    "2. The gradient can still be computed and used to update the policy in discrete action spaces. \n",
    "3. Policy gradient methods are fundamentally incompatible with discrete action spaces. \n",
    "4. In discrete action spaces, the policy network would output probabilities for each action instead of means and variances. \n",
    "5. No changes to the algorithm are needed; it works identically for continuous and discrete spaces. \n",
    "6. A categorical (softmax) distribution is typically used for the policy in discrete action spaces. \n",
    "7. In discrete spaces, the policy gradient is computed using the log-probability of the chosen action. \n",
    "8. Discrete action spaces require a completely different class of algorithms and cannot use policy gradients. \n",
    "9. The main challenge is in defining a continuous approximation of the discrete action space. \n"
   ]
  },
  {
   "cell_type": "code",
   "execution_count": 61,
   "id": "97cd5abb-dd0a-43ea-b413-d2ce26fdab5d",
   "metadata": {},
   "outputs": [],
   "source": [
    "# Answer question 5 with appropriate option numbers\n",
    "sq5 = [1,2,4,6,7] "
   ]
  },
  {
   "cell_type": "markdown",
   "id": "a457fc65-a43e-4bc2-ac20-6f5304cf9dfa",
   "metadata": {
    "deletable": false,
    "editable": false,
    "nbgrader": {
     "cell_type": "markdown",
     "checksum": "dce09cff7bd5d1047689ababaef90649",
     "grade": false,
     "grade_id": "cell-93982c40108e75aa",
     "locked": true,
     "schema_version": 3,
     "solution": false,
     "task": false
    },
    "tags": []
   },
   "source": [
    "The following cells are used for grading."
   ]
  },
  {
   "cell_type": "code",
   "execution_count": null,
   "id": "eae4646c-26ee-456b-a791-ffdaf1dea484",
   "metadata": {
    "deletable": false,
    "editable": false,
    "nbgrader": {
     "cell_type": "code",
     "checksum": "ae1a9141639c916b8df9810c7041bb4b",
     "grade": true,
     "grade_id": "cell-455629eb8ff429fc",
     "locked": true,
     "points": 2,
     "schema_version": 3,
     "solution": false,
     "task": false
    },
    "tags": []
   },
   "outputs": [],
   "source": []
  },
  {
   "cell_type": "code",
   "execution_count": null,
   "id": "c15dc545-4698-489b-a49c-3413cf70a548",
   "metadata": {
    "deletable": false,
    "editable": false,
    "nbgrader": {
     "cell_type": "code",
     "checksum": "b21d5d93a5b584d204404eb34b889116",
     "grade": true,
     "grade_id": "cell-ccd64746d61c21fe",
     "locked": true,
     "points": 2,
     "schema_version": 3,
     "solution": false,
     "task": false
    },
    "tags": []
   },
   "outputs": [],
   "source": []
  },
  {
   "cell_type": "code",
   "execution_count": null,
   "id": "1aa9a214-e0c3-42c8-bba9-28898f3a9758",
   "metadata": {
    "deletable": false,
    "editable": false,
    "nbgrader": {
     "cell_type": "code",
     "checksum": "4b411904077d2218347dba63d31cc773",
     "grade": true,
     "grade_id": "cell-3b1379631af22fbe",
     "locked": true,
     "points": 2,
     "schema_version": 3,
     "solution": false,
     "task": false
    },
    "tags": []
   },
   "outputs": [],
   "source": []
  },
  {
   "cell_type": "code",
   "execution_count": null,
   "id": "00222dd3-06b1-436c-93f4-f6b60147bb2a",
   "metadata": {
    "deletable": false,
    "editable": false,
    "nbgrader": {
     "cell_type": "code",
     "checksum": "86b3c8b0c452ce715cc376a7b4172974",
     "grade": true,
     "grade_id": "cell-a58c487d6d744df5",
     "locked": true,
     "points": 2,
     "schema_version": 3,
     "solution": false,
     "task": false
    },
    "tags": []
   },
   "outputs": [],
   "source": []
  },
  {
   "cell_type": "code",
   "execution_count": null,
   "id": "82c97890-ddd1-4824-bb2b-2e5be84291f4",
   "metadata": {
    "deletable": false,
    "editable": false,
    "nbgrader": {
     "cell_type": "code",
     "checksum": "8ed761b8c0d3a85b2b576a6e3ca8296a",
     "grade": true,
     "grade_id": "cell-6f7c8a46592ca476",
     "locked": true,
     "points": 2,
     "schema_version": 3,
     "solution": false,
     "task": false
    },
    "tags": []
   },
   "outputs": [],
   "source": []
  },
  {
   "cell_type": "markdown",
   "id": "4c50da4d",
   "metadata": {
    "deletable": false,
    "editable": false,
    "nbgrader": {
     "cell_type": "markdown",
     "checksum": "9965fc6e7758f8a420963a52b936f443",
     "grade": false,
     "grade_id": "cell-8d4be4c9092a091c",
     "locked": true,
     "schema_version": 3,
     "solution": false,
     "task": false
    },
    "tags": []
   },
   "source": [
    "# 7. Submitting <a id='7.'></a>\n",
    "\n",
    "Ensure all tasks and questions in `ex5.ipynb` are thoroughly answered and that all the relevant plots are displayed correctly (there is no need to save the plots in the results folder). \n",
    "\n",
    "The training performance plots are as follows:\n",
    "\n",
    "- **Task 1a, REINFORCE without baseline**: Ensure the implementation is correct and the plot is similar to the expected plot shown in the task description. Refer to [Figure 1a](#figure-1a).\n",
    "  \n",
    "- **Task 1b, REINFORCE with constant baseline b = 20**: Properly implement the algorithm with a constant baseline and plot the training performance. Refer to [Figure 1b](#figure-1b).\n",
    "  \n",
    "- **Task 1c, REINFORCE with discounted rewards normalized to zero mean and unit variance**: Implement and plot the performance ensuring the rewards are normalized correctly. Refer to [Figure 1c](#figure-1c).\n",
    "  \n",
    "- **Task 2, REINFORCE with learned variance**: Ensure that the variance is being learned and adjusted during training, and plot the training performance.\n",
    "\n",
    "No model files need to be saved for this assignment.\n",
    "\n",
    "🔝 [Back to Table of Contents](#TOC)\n"
   ]
  },
  {
   "cell_type": "code",
   "execution_count": null,
   "id": "ed2a8428",
   "metadata": {
    "deletable": false,
    "editable": false,
    "nbgrader": {
     "cell_type": "code",
     "checksum": "0f2a35dca22d4e6a91f7259550809999",
     "grade": true,
     "grade_id": "cell-26f0fb23212021f6",
     "locked": true,
     "points": 0,
     "schema_version": 3,
     "solution": false,
     "task": false
    }
   },
   "outputs": [],
   "source": [
    "# Make sure that skip training is set to True before submission\n",
    "assert skip_training == True"
   ]
  },
  {
   "cell_type": "markdown",
   "id": "ad098b5f",
   "metadata": {},
   "source": [
    "## 7.1 Feedback <a id='7.1'></a>\n",
    "\n",
    "In order to help the staff of the course as well as the forthcoming students, it would be great if you could answer to the following questions in your submission:"
   ]
  },
  {
   "cell_type": "markdown",
   "id": "5ed5c6d1-c83a-4d62-9b4f-5ed33f0f6aea",
   "metadata": {},
   "source": [
    "1) How much time did you spend solving this exercise? (change the ```hrs``` variable below to a floating point number representing the number of hours taken e.g. 5.43)\n",
    "\n"
   ]
  },
  {
   "cell_type": "code",
   "execution_count": null,
   "id": "216bc97b-e49b-4c18-8c41-1c45711b90cd",
   "metadata": {},
   "outputs": [],
   "source": [
    "hrs = None"
   ]
  },
  {
   "cell_type": "markdown",
   "id": "0d26d7a7-acc4-48db-84a8-e366ea68a709",
   "metadata": {},
   "source": [
    "2) Difficulty of each task/question from 1-5 (int or float)"
   ]
  },
  {
   "cell_type": "code",
   "execution_count": null,
   "id": "5eeb90fa-9f33-49c1-aca3-55f9a9a00d6a",
   "metadata": {},
   "outputs": [],
   "source": [
    "T1a = 3   # Task 1a. basic REINFORCE without baseline (15 points)\n",
    "T1b = 4   # Task 1b. REINFORCE with a constant baseline b = 20 (5 points)\n",
    "T1c = 3   # Task 1c. REINFORCE with discounted rewards normalized to zero mean and unit variance (5 points)\n",
    "Q1_1 = 4  # Question 1.1 A good baseline (15 points)\n",
    "T2 = 4    # Task 2. Making Variance a Learnable Parameter (10 points)\n",
    "Q2_1 = 3  # Question 2.1 Constant vs Learnable Variance (5 points)\n",
    "Q2_2 = 3  # Question 2.2 Learnable Variance Initial Performance (5 points)\n",
    "Q3 = 4    # Question 3. Considering a experience reply buffer (15 points)\n",
    "Q4_1 = 3  # Question 4.1 Considering an unbounded continuous action space part 1 (5 points)\n",
    "Q4_2 = 4  # Question 4.2 Considering an unbounded continuous action space part 2 (10 points)\n",
    "Q5 = 4    # Question 5. Considering discrete action spaces (10 points)"
   ]
  },
  {
   "cell_type": "markdown",
   "id": "fe9387c6-00de-4414-86eb-801485a59ec7",
   "metadata": {},
   "source": [
    "3) How well did you understand the content of the task/question from 1-5? (int or float)"
   ]
  },
  {
   "cell_type": "code",
   "execution_count": null,
   "id": "d5a53120-fcf2-4dbf-b6ad-87e5aff7dee0",
   "metadata": {},
   "outputs": [],
   "source": [
    "T1a = 2   # Task 1a. basic REINFORCE without baseline (15 points)\n",
    "T1b = 2   # Task 1b. REINFORCE with a constant baseline b = 20 (5 points)\n",
    "T1c = 2   # Task 1c. REINFORCE with discounted rewards normalized to zero mean and unit variance (5 points)\n",
    "Q1_1 = 4  # Question 1.1 A good baseline (15 points)\n",
    "T2 = 2    # Task 2. Making Variance a Learnable Parameter (10 points)\n",
    "Q2_1 = 3  # Question 2.1 Constant vs Learnable Variance (5 points)\n",
    "Q2_2 = 3  # Question 2.2 Learnable Variance Initial Performance (5 points)\n",
    "Q3 = 3    # Question 3. Considering a experience reply buffer (15 points)\n",
    "Q4_1 = 3  # Question 4.1 Considering an unbounded continuous action space part 1 (5 points)\n",
    "Q4_2 = 3  # Question 4.2 Considering an unbounded continuous action space part 2 (10 points)\n",
    "Q5 = 2    # Question 5. Considering discrete action spaces (10 points)"
   ]
  },
  {
   "cell_type": "markdown",
   "id": "7595057e-8666-486a-bd8c-788b4de828a7",
   "metadata": {},
   "source": [
    "4) General feedback. Consider questions like:\n",
    "\n",
    "    - Did the content of the lecture relate well with the assignment?\n",
    "    - To what extent did you find the material to be potentially useful for your research and studies?\n",
    "    \n",
    "And other feedback you think is worth including. Type in the box below"
   ]
  },
  {
   "cell_type": "markdown",
   "id": "33ff95b3-6a70-4270-af0d-877ee3959030",
   "metadata": {},
   "source": [
    "DOUBLE CLICK HERE TO EDIT, CLEAR THIS TEXT AND ANSWER HERE"
   ]
  },
  {
   "cell_type": "markdown",
   "id": "e3f5f8d4",
   "metadata": {
    "tags": []
   },
   "source": [
    "\n",
    "# References <a id='8.'></a>"
   ]
  }
 ],
 "metadata": {
  "kernelspec": {
   "display_name": "Python 3",
   "language": "python",
   "name": "python3"
  },
  "language_info": {
   "codemirror_mode": {
    "name": "ipython",
    "version": 3
   },
   "file_extension": ".py",
   "mimetype": "text/x-python",
   "name": "python",
   "nbconvert_exporter": "python",
   "pygments_lexer": "ipython3",
   "version": "3.10.12"
  }
 },
 "nbformat": 4,
 "nbformat_minor": 5
}
