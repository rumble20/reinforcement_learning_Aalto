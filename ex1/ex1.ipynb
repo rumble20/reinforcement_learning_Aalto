{
 "cells": [
  {
   "cell_type": "markdown",
   "id": "53274fb5",
   "metadata": {
    "deletable": false,
    "editable": false,
    "nbgrader": {
     "cell_type": "markdown",
     "checksum": "9b1433e97d4756e2c9546a6a35a1562c",
     "grade": false,
     "grade_id": "cell-36af2f1e65d7b244",
     "locked": true,
     "schema_version": 3,
     "solution": false,
     "task": false
    }
   },
   "source": [
    "\n",
    "<div class=\"alert alert-block alert-info\">\n",
    "   <h2 align=\"center\"> <center><b> Reinforcement Learning Assignment 1 - The Reinforcement Learning Framework</b></center></h2>\n",
    "\n",
    "<br>\n",
    "<center><font size=\"3\">This notebook is a part of teaching material for ELEC-E8125</font></center>\n",
    "<center><font size=\"3\">Sep 1, 2025 - Dec 1, 2025</font></center>\n",
    "<center><font size=\"3\">Aalto University</font></center>\n",
    "</div>\n",
    "\n",
    "\n",
    "<a id='TOC'></a>\n",
    "\n",
    "<div class=\"alert alert-block alert-success\">\n",
    "    \n",
    "# Table of contents\n",
    "* <a href='#1.'> 1. Introduction </a>\n",
    "* <a href='#1.1'> 1.1 Learning Objectives </a>\n",
    "* <a href='#1.2'> 1.2 Code Structure & Files </a>\n",
    "* <a href='#2.'> 2. Cartpole</a>\n",
    "* <a href='#3.'> 3. Reacher</a>\n",
    "* <a href='#4.'> 4. Submitting </a>\n",
    "* <a href='#4.1'> 4.1 Feedback </a>\n",
    "* <a href='#5.'> References</a>\n",
    "\n",
    "<a href='#T1'><b>Student Task 1.</b> Training a Model for Simple Cartpole Environment (10 points)</a>\\\n",
    "<a href='#Q1'><b>Student Question 1.1</b> Learning (10 points)</a>\\\n",
    "<a href='#T2'><b>Student Task 2.</b> Investigating Training Performance (12 points) </a>\\\n",
    "<a href='#Q2'><b>Student Question 2.1</b> Analysis of Training Performance (15 points) </a>\\\n",
    "<a href='#Q3'><b>Student Question 2.2</b> Stochasticity (10 points) </a>\\\n",
    "<a href='#T3'><b>Student Task 3.</b> Reward Functions (20 points) </a>\\\n",
    "<a href='#T4'><b>Student Task 4.</b> Visualizing Behavior </a>\\\n",
    "<a href='#Q4'><b>Student Question 4.1</b> Achieved Peformance (5 points)</a>\\\n",
    "<a href='#Q5'><b>Student Question 4.2</b> Analysis of Behaviour (9 points)</a>\\\n",
    "<a href='#Q6'><b>Student Question 4.3</b> Checking your knowledge about RL (9 points)</a>\n",
    "    \n",
    "**Total Points:** 100\n",
    "\n",
    "**Estimated runtime of all the cells:** 30 minutes "
   ]
  },
  {
   "cell_type": "markdown",
   "id": "44ab28e9",
   "metadata": {
    "deletable": false,
    "editable": false,
    "nbgrader": {
     "cell_type": "markdown",
     "checksum": "ecb4bed28908246a16850b56315b8e8e",
     "grade": false,
     "grade_id": "cell-afbabf910b8ed9fd",
     "locked": true,
     "schema_version": 3,
     "solution": false,
     "task": false
    },
    "tags": []
   },
   "source": [
    "# 1. Introduction <a id='1.'></a>\n",
    "In this exercise we will take a first look at a reinforcement learning environment, its components and modify the reward function of a simple agent.\n",
    "\n",
    "In this notebook two environments are used: Cartpole and Reacher. The cartpole environment is taken from [OpenAI's Gym library](https://www.gymlibrary.dev/). The reacher environment is custom made (and defined in ```reacher.py```) but utilizes the Gym API.\n",
    "\n",
    "## 1.1 Learning Objectives: <a id='1.1'></a>\n",
    "- To become familiar with assignment structure and the agent-environment relationshp\n",
    "- To understand the effects of stochasticity\n",
    "- To understand and explore the effects of task definition\n",
    "\n",
    "## 1.2 Code Structure & Files <a id='1.2'></a>\n",
    "\n",
    "The ```train.py``` file instantiates the environment and the RL agent that acts in it. The ```agent.py``` file contains the implementation of a simple reinforcement learning agent; for the sake of this exercise, you can assume it to be a black box (you don’t need to understand how it works, although you are encouraged to study it in more detail). You don’t have to edit any other file other than ```ex1.ipynb``` to complete this exercise.\n",
    "```\n",
    "├───cfg                  # Config files for environments e.g. define the maximum number of steps in an episode.\n",
    "├───imgs                 # Images used in notebook\n",
    "├───results \n",
    "│   ├───logging          # Contains logged data\n",
    "│   ├───model            # Contains the policies learned\n",
    "│   └───video            # Contains videos for each environment\n",
    "│       └───CartPole-v0\n",
    "│       │  └───test      # Videos saved during testing\n",
    "│       │  └───train     # Videos saved during training\n",
    "│       └───SpinningReacher-v0\n",
    "│           └───test\n",
    "│           └───train\n",
    "│   ex1.ipynb            # Main assignment file containing tasks <---------\n",
    "│   feedback.ipynb       # Please give feedback in here\n",
    "│   README.ipynb         # This file\n",
    "│   agent.py             # Contains functions that govern the policy\n",
    "│   reacher.py           # Defines the reacher environment\n",
    "│   train.py             # Contains training and testing functions\n",
    "│   utils.py             # Contains useful functions \n",
    "```"
   ]
  },
  {
   "cell_type": "markdown",
   "id": "100c1cfb",
   "metadata": {},
   "source": [
    "Please consult ```README.md``` for more details the assignments."
   ]
  },
  {
   "cell_type": "markdown",
   "id": "28556beb",
   "metadata": {},
   "source": [
    "## Warnings:\n",
    "\n",
    "- Don’t copy and paste cells within a notebook. This will mess up the tracking metadata and prevent autograding from working.\n",
    "- Only add new cells using the '+' button in the upper toolbar and do not split cells.\n",
    "- Be cautious about things such as copying the whole notebook to Colab to work on it. This has sometimes resulted in removing all notebook metadata, making autograding impossible."
   ]
  },
  {
   "cell_type": "code",
   "execution_count": 40,
   "id": "f097ab74",
   "metadata": {
    "tags": []
   },
   "outputs": [],
   "source": [
    "skip_training = True  # Set this flag to True before validation and submission"
   ]
  },
  {
   "cell_type": "code",
   "execution_count": null,
   "id": "cc004e57",
   "metadata": {
    "deletable": false,
    "editable": false,
    "nbgrader": {
     "cell_type": "code",
     "checksum": "ecf78d754d0b1f6eb047222f9e14a0e4",
     "grade": true,
     "grade_id": "cell-8fb587d5abdec975",
     "locked": true,
     "points": 0,
     "schema_version": 3,
     "solution": false,
     "task": false
    },
    "tags": []
   },
   "outputs": [],
   "source": []
  },
  {
   "cell_type": "code",
   "execution_count": 6,
   "id": "c8cb8a88",
   "metadata": {
    "tags": []
   },
   "outputs": [],
   "source": [
    "from pathlib import Path # to find directory\n",
    "work_dir = Path().cwd()/'results'\n",
    "import os\n",
    "\n",
    "import train as t # for training\n",
    "import utils as u # helper functions\n",
    "\n",
    "import numpy as np # The numpy library can be used for math functions\n",
    "import torch # Used to manage policy and learning\n",
    "from IPython.display import Video, display, HTML # to display videos"
   ]
  },
  {
   "cell_type": "markdown",
   "id": "f5e36a57",
   "metadata": {
    "deletable": false,
    "editable": false,
    "nbgrader": {
     "cell_type": "markdown",
     "checksum": "6468fd86adbbe289e7e8853d2b1cdf8b",
     "grade": false,
     "grade_id": "cell-56c1faa5635120ab",
     "locked": true,
     "schema_version": 3,
     "solution": false,
     "task": false
    }
   },
   "source": [
    "# 2. Cartpole <a id='2.'></a>\n",
    "\n",
    "The Cartpole environment consists of a cart and a pole mounted on top of it, as shown in Figure 1. The cart can move either to the left or to the right. The goal is to balance the pole in a vertical position in order to prevent it from falling down. The cart should also stay within limited distance from the center (trying to move outside screen boundaries is considered a failure).\n",
    "\n",
    "<figure>\n",
    "<img src=\"imgs/cartpole.png\" width=\"400px\">\n",
    "<figcaption style=\"text-align: center\"> Figure 1: The Cartpole environment  </figcaption>\n",
    "</figure>\n",
    "\n",
    "The state and the observation are four element vectors:\n",
    "\n",
    "$$\n",
    "o=s=\\left(\\begin{array}{c}\n",
    "x \\\\\n",
    "\\dot{x} \\\\\n",
    "\\theta \\\\\n",
    "\\dot{\\theta}\n",
    "\\end{array}\\right) \\text {, }\n",
    "$$\n",
    "\n",
    "where $x$ is the position of the cart, $\\dot{x}$ is its velocity, $\\theta$ is the angle of the pole w.r.t. the vertical axis, and $\\dot{\\theta}$ is the angular velocity of the pole.\n",
    "\n",
    "In the standard formulation, a reward of 1 is given for every timestep the pole remains balanced. Upon failing (the pole falls) or completing the task, an episode is finished.\n",
    "\n",
    "The training script will record videos of the agent’s learning progress during training, and the recorded videos are saved to ```results/video/CartPole-v0/train```. By default, the training information is saved to ```results/logging/CartPole-v0_{seed}.csv```. When the training is finished, the models are saved to ```results/model/Cartpole-v0_params.pt```. Videos of the agent’s behaviour during testing are saved to ```results/video/CartPole-v0/test```."
   ]
  },
  {
   "cell_type": "markdown",
   "id": "6d5bb7ba",
   "metadata": {
    "deletable": false,
    "editable": false,
    "nbgrader": {
     "cell_type": "markdown",
     "checksum": "a1c02d0e9b975ce9813ef40bd06998d0",
     "grade": false,
     "grade_id": "cell-4902974772926f28",
     "locked": true,
     "schema_version": 3,
     "solution": false,
     "task": false
    },
    "tags": []
   },
   "source": [
    "<a id='T1'></a>\n",
    "<div class=\" alert alert-warning\">\n",
    "    <h3><b>Student Task 1.</b> Training a Model for Simple Cartpole Environment (10 points) </h3> \n",
    "\n",
    "This task requires you to train a model for the cartpole environment with 100 timesteps per episode. Then test the model for 500 timesteps and report average reward. To do this, you can simply run the code in the cells below. \n",
    "\n",
    "To see a full list of options that can be passed through ```cfg_args``` consult the configuation file found in ```cfg/```.\n",
    "\n",
    "- **1st** Run training over 100 steps per episode by using ```t.train``` function. See the cell below. The training will run for 500 episodes automatically.\n",
    "- **2nd:** Export the training plot ```episodesep_reward``` from logged data (.csv format).\n",
    "- **3rd:** Run testing over 500 steps by using ```t.test``` function. See the cell below. See the cell below. Notice ```max_episode_steps``` parameter. \n",
    "- **4th:** **Manually** report the average reward after the cells have completed execution.\n",
    "    \n",
    "🔝\t<a href='#TOC'><b>Table of Contents</b></a>\n",
    "</div>\n"
   ]
  },
  {
   "cell_type": "code",
   "execution_count": 5,
   "id": "e0481176",
   "metadata": {
    "tags": []
   },
   "outputs": [
    {
     "name": "stdout",
     "output_type": "stream",
     "text": [
      "Numpy/Torch/Random Seed:  1\n",
      "Configuration Settings: {'exp_name': 'ex1', 'seed': 1, 'env_name': 'CartPole-v1', 'model_name': 'CartPole-v1', 'max_episode_steps': 100, 'train_episodes': 500, 'batch_size': 64, 'min_update_samples': 2000, 'testing': False, 'model_path': 'default', 'save_video': True, 'save_model': True, 'save_logging': True, 'silent': False, 'use_wandb': True, 'run_suffix': 0}\n",
      "Training device: cpu\n",
      "Observation space dimensions: 4\n",
      "Action space dimensions: 2\n",
      "\n",
      "Episode 0 finished. Total reward: 14.0 (14 timesteps)\n",
      "Episode 5 finished. Total reward: 38.0 (38 timesteps)\n",
      "Episode 10 finished. Total reward: 14.0 (14 timesteps)\n",
      "Episode 15 finished. Total reward: 83.0 (83 timesteps)\n",
      "Episode 20 finished. Total reward: 12.0 (12 timesteps)\n",
      "Episode 25 finished. Total reward: 18.0 (18 timesteps)\n",
      "Episode 30 finished. Total reward: 36.0 (36 timesteps)\n",
      "Episode 35 finished. Total reward: 16.0 (16 timesteps)\n",
      "Episode 40 finished. Total reward: 29.0 (29 timesteps)\n",
      "Episode 45 finished. Total reward: 15.0 (15 timesteps)\n",
      "Episode 50 finished. Total reward: 15.0 (15 timesteps)\n",
      "Episode 55 finished. Total reward: 27.0 (27 timesteps)\n",
      "Episode 60 finished. Total reward: 33.0 (33 timesteps)\n",
      "Episode 65 finished. Total reward: 11.0 (11 timesteps)\n",
      "Episode 70 finished. Total reward: 27.0 (27 timesteps)\n",
      "Episode 75 finished. Total reward: 13.0 (13 timesteps)\n",
      "Episode 80 finished. Total reward: 9.0 (9 timesteps)\n",
      "Episode 85 finished. Total reward: 19.0 (19 timesteps)\n",
      "Updating the policy...\n",
      "Updating finished!\n",
      "Episode 90 finished. Total reward: 58.0 (58 timesteps)\n",
      "Episode 95 finished. Total reward: 13.0 (13 timesteps)\n",
      "Episode 100 finished. Total reward: 17.0 (17 timesteps)\n",
      "Episode 105 finished. Total reward: 17.0 (17 timesteps)\n",
      "Episode 110 finished. Total reward: 27.0 (27 timesteps)\n",
      "Episode 115 finished. Total reward: 9.0 (9 timesteps)\n",
      "Episode 120 finished. Total reward: 17.0 (17 timesteps)\n",
      "Episode 125 finished. Total reward: 13.0 (13 timesteps)\n",
      "Episode 130 finished. Total reward: 26.0 (26 timesteps)\n",
      "Episode 135 finished. Total reward: 9.0 (9 timesteps)\n",
      "Episode 140 finished. Total reward: 89.0 (89 timesteps)\n",
      "Episode 145 finished. Total reward: 14.0 (14 timesteps)\n",
      "Episode 150 finished. Total reward: 30.0 (30 timesteps)\n",
      "Episode 155 finished. Total reward: 27.0 (27 timesteps)\n",
      "Episode 160 finished. Total reward: 23.0 (23 timesteps)\n",
      "Updating the policy...\n",
      "Updating finished!\n",
      "Episode 165 finished. Total reward: 24.0 (24 timesteps)\n",
      "Episode 170 finished. Total reward: 28.0 (28 timesteps)\n",
      "Episode 175 finished. Total reward: 32.0 (32 timesteps)\n",
      "Episode 180 finished. Total reward: 27.0 (27 timesteps)\n",
      "Episode 185 finished. Total reward: 65.0 (65 timesteps)\n",
      "Episode 190 finished. Total reward: 99.0 (99 timesteps)\n",
      "Episode 195 finished. Total reward: 30.0 (30 timesteps)\n",
      "Episode 200 finished. Total reward: 25.0 (25 timesteps)\n",
      "Episode 205 finished. Total reward: 29.0 (29 timesteps)\n",
      "Episode 210 finished. Total reward: 27.0 (27 timesteps)\n",
      "Updating the policy...\n",
      "Updating finished!\n",
      "Episode 215 finished. Total reward: 100.0 (100 timesteps)\n",
      "Episode 220 finished. Total reward: 100.0 (100 timesteps)\n",
      "Episode 225 finished. Total reward: 59.0 (59 timesteps)\n",
      "Episode 230 finished. Total reward: 74.0 (74 timesteps)\n",
      "Episode 235 finished. Total reward: 49.0 (49 timesteps)\n",
      "Episode 240 finished. Total reward: 96.0 (96 timesteps)\n",
      "Episode 245 finished. Total reward: 73.0 (73 timesteps)\n",
      "Updating the policy...\n",
      "Updating finished!\n",
      "Episode 250 finished. Total reward: 100.0 (100 timesteps)\n",
      "Episode 255 finished. Total reward: 100.0 (100 timesteps)\n",
      "Episode 260 finished. Total reward: 52.0 (52 timesteps)\n",
      "Episode 265 finished. Total reward: 100.0 (100 timesteps)\n",
      "Episode 270 finished. Total reward: 18.0 (18 timesteps)\n",
      "Updating the policy...\n",
      "Updating finished!\n",
      "Episode 275 finished. Total reward: 100.0 (100 timesteps)\n",
      "Episode 280 finished. Total reward: 93.0 (93 timesteps)\n",
      "Episode 285 finished. Total reward: 100.0 (100 timesteps)\n",
      "Episode 290 finished. Total reward: 100.0 (100 timesteps)\n",
      "Updating the policy...\n",
      "Updating finished!\n",
      "Episode 295 finished. Total reward: 100.0 (100 timesteps)\n",
      "Episode 300 finished. Total reward: 52.0 (52 timesteps)\n",
      "Episode 305 finished. Total reward: 100.0 (100 timesteps)\n",
      "Episode 310 finished. Total reward: 100.0 (100 timesteps)\n",
      "Updating the policy...\n",
      "Updating finished!\n",
      "Episode 315 finished. Total reward: 100.0 (100 timesteps)\n",
      "Episode 320 finished. Total reward: 100.0 (100 timesteps)\n",
      "Episode 325 finished. Total reward: 100.0 (100 timesteps)\n",
      "Episode 330 finished. Total reward: 100.0 (100 timesteps)\n",
      "Episode 335 finished. Total reward: 40.0 (40 timesteps)\n",
      "Episode 340 finished. Total reward: 42.0 (42 timesteps)\n",
      "Updating the policy...\n",
      "Updating finished!\n",
      "Episode 345 finished. Total reward: 100.0 (100 timesteps)\n",
      "Episode 350 finished. Total reward: 100.0 (100 timesteps)\n",
      "Episode 355 finished. Total reward: 100.0 (100 timesteps)\n",
      "Episode 360 finished. Total reward: 100.0 (100 timesteps)\n",
      "Updating the policy...\n",
      "Updating finished!\n",
      "Episode 365 finished. Total reward: 100.0 (100 timesteps)\n",
      "Episode 370 finished. Total reward: 100.0 (100 timesteps)\n",
      "Episode 375 finished. Total reward: 100.0 (100 timesteps)\n",
      "Episode 380 finished. Total reward: 100.0 (100 timesteps)\n",
      "Updating the policy...\n",
      "Updating finished!\n",
      "Episode 385 finished. Total reward: 100.0 (100 timesteps)\n",
      "Episode 390 finished. Total reward: 100.0 (100 timesteps)\n",
      "Episode 395 finished. Total reward: 100.0 (100 timesteps)\n",
      "Episode 400 finished. Total reward: 35.0 (35 timesteps)\n",
      "Updating the policy...\n",
      "Updating finished!\n",
      "Episode 405 finished. Total reward: 100.0 (100 timesteps)\n",
      "Episode 410 finished. Total reward: 100.0 (100 timesteps)\n",
      "Episode 415 finished. Total reward: 100.0 (100 timesteps)\n",
      "Episode 420 finished. Total reward: 100.0 (100 timesteps)\n",
      "Episode 425 finished. Total reward: 100.0 (100 timesteps)\n",
      "Updating the policy...\n",
      "Updating finished!\n",
      "Episode 430 finished. Total reward: 100.0 (100 timesteps)\n",
      "Episode 435 finished. Total reward: 100.0 (100 timesteps)\n",
      "Episode 440 finished. Total reward: 100.0 (100 timesteps)\n",
      "Episode 445 finished. Total reward: 100.0 (100 timesteps)\n",
      "Updating the policy...\n",
      "Updating finished!\n",
      "Episode 450 finished. Total reward: 100.0 (100 timesteps)\n",
      "Episode 455 finished. Total reward: 98.0 (98 timesteps)\n",
      "Episode 460 finished. Total reward: 98.0 (98 timesteps)\n",
      "Episode 465 finished. Total reward: 98.0 (98 timesteps)\n",
      "Updating the policy...\n",
      "Updating finished!\n",
      "Episode 470 finished. Total reward: 100.0 (100 timesteps)\n",
      "Episode 475 finished. Total reward: 90.0 (90 timesteps)\n",
      "Episode 480 finished. Total reward: 100.0 (100 timesteps)\n",
      "Episode 485 finished. Total reward: 100.0 (100 timesteps)\n",
      "Updating the policy...\n",
      "Updating finished!\n",
      "Episode 490 finished. Total reward: 100.0 (100 timesteps)\n",
      "Episode 495 finished. Total reward: 100.0 (100 timesteps)\n",
      "Episode 500 finished. Total reward: 100.0 (100 timesteps)\n",
      "Model saved to /notebooks/rl2025/ex1/results/model/CartPole-v1_params.pt\n",
      "------Training finished.------\n"
     ]
    }
   ],
   "source": [
    "if not skip_training:\n",
    "    t.train(cfg_path=Path().cwd()/'cfg'/'cartpole_v1.yaml', cfg_args=dict(seed=1, max_episode_steps=100, model_name=\"CartPole-v1\")) # < 5 mins"
   ]
  },
  {
   "cell_type": "code",
   "execution_count": 6,
   "id": "1f8cd415-c26a-44cf-9f76-f80237cdd918",
   "metadata": {
    "tags": []
   },
   "outputs": [
    {
     "data": {
      "image/png": "[encoded data removed]",
      "text/plain": [
       "<Figure size 450x300 with 1 Axes>"
      ]
     },
     "metadata": {},
     "output_type": "display_data"
    }
   ],
   "source": [
    "if not skip_training:\n",
    "    u.plot_reward(Path().cwd()/'results'/'logging'/'CartPole-v1_1.csv', 'CartPole')"
   ]
  },
  {
   "cell_type": "markdown",
   "id": "b0230ba0",
   "metadata": {
    "deletable": false,
    "editable": false,
    "nbgrader": {
     "cell_type": "markdown",
     "checksum": "4b2dc935e91cccb3f0345d4c423e7190",
     "grade": false,
     "grade_id": "cell-64fbeb2b60de708a",
     "locked": true,
     "schema_version": 3,
     "solution": false,
     "task": false
    }
   },
   "source": [
    "The command below will evaluate the trained model in 10 episodes and report the average reward (and episode length) for these 10 episodes. Do not delete the cell below as it is used for grading."
   ]
  },
  {
   "cell_type": "code",
   "execution_count": 7,
   "id": "95418d8d",
   "metadata": {
    "deletable": false,
    "editable": false,
    "nbgrader": {
     "cell_type": "code",
     "checksum": "8b492043c94a6382f5ff92b768d1cc89",
     "grade": true,
     "grade_id": "cell-8b1bd0d092f865b7",
     "locked": true,
     "points": 10,
     "schema_version": 3,
     "solution": false,
     "task": false
    },
    "tags": []
   },
   "outputs": [
    {
     "name": "stdout",
     "output_type": "stream",
     "text": [
      "Numpy/Torch/Random Seed:  688\n",
      "Loading model from /notebooks/rl2025/ex1/results/model/CartPole-v1_params.pt ...\n",
      "Testing...\n",
      "Test ep reward: 117.0 seed: 434\n",
      "Test ep reward: 136.0 seed: 308\n",
      "Test ep reward: 125.0 seed: 922\n",
      "Test ep reward: 121.0 seed: 231\n",
      "Test ep reward: 116.0 seed: 961\n",
      "Test ep reward: 133.0 seed: 363\n",
      "Test ep reward: 124.0 seed: 626\n",
      "Test ep reward: 125.0 seed: 905\n",
      "Test ep reward: 133.0 seed: 497\n",
      "Test ep reward: 129.0 seed: 816\n",
      "Average test reward: 125.9 episode length: 125.9\n"
     ]
    }
   ],
   "source": [
    "%%capture --no-stdout\n",
    "assert t.test(episodes=10, cfg_path=Path().cwd()/'cfg'/'cartpole_v1.yaml', \n",
    "        cfg_args=dict(testing=True, save_video=(not skip_training), save_model=False, seed=None, max_episode_steps=500,model_name=\"CartPole-v1\")) > 100"
   ]
  },
  {
   "cell_type": "markdown",
   "id": "7829f371",
   "metadata": {},
   "source": [
    "Report below the average reward after testing the model"
   ]
  },
  {
   "cell_type": "markdown",
   "id": "18da8596",
   "metadata": {
    "deletable": false,
    "nbgrader": {
     "cell_type": "markdown",
     "checksum": "e556373c147e8173d8451bd1c237691e",
     "grade": true,
     "grade_id": "cell-24f7f8d91599a232",
     "locked": false,
     "points": 0,
     "schema_version": 3,
     "solution": true,
     "task": false
    }
   },
   "source": [
    "The average test reward is 125.9"
   ]
  },
  {
   "cell_type": "markdown",
   "id": "65a689b7",
   "metadata": {
    "deletable": false,
    "editable": false,
    "nbgrader": {
     "cell_type": "markdown",
     "checksum": "9f2c06a70d499a71cbcb437b5400a3c1",
     "grade": false,
     "grade_id": "cell-17b4eb8d711f2770",
     "locked": true,
     "schema_version": 3,
     "solution": false,
     "task": false
    }
   },
   "source": [
    "The agent acting in the environment can be seen using the following command. Change the ```path``` to pick the episode you want to visualize. Bear in mind by default video saving for training is taken every 50 episodes."
   ]
  },
  {
   "cell_type": "code",
   "execution_count": 38,
   "id": "ee7bc0ff",
   "metadata": {
    "tags": []
   },
   "outputs": [
    {
     "name": "stdout",
     "output_type": "stream",
     "text": [
      "test/ ex1-episode-0.mp4\n"
     ]
    },
    {
     "data": {
      "text/html": [
       "<div style=\"width: 200px; height: 100px;; border: 1px solid #FF5733;\"><video loop autoplay  width=\"200\"  height=\"100\">\n",
       " <source src=\"data:video/mp4;base64,AAAAIGZ0eXBpc29tAAACAGlzb21pc28yYXZjMW1wNDEAAAAIZnJlZQAAD4FtZGF0AAACrwYF//+r3EXpvebZSLeWLNgg2SPu73gyNjQgLSBjb3JlIDE2NCByMzA5NSBiYWVlNDAwIC0gSC4yNjQvTVBFRy00IEFWQyBjb2RlYyAtIENvcHlsZWZ0IDIwMDMtMjAyMiAtIGh0dHA6Ly93d3cudmlkZW9sYW4ub3JnL3gyNjQuaHRtbCAtIG9wdGlvbnM6IGNhYmFjPTEgcmVmPTMgZGVibG9jaz0xOjA6MCBhbmFseXNlPTB4MzoweDExMyBtZT1oZXggc3VibWU9NyBwc3k9MSBwc3lfcmQ9MS4wMDowLjAwIG1peGVkX3JlZj0xIG1lX3JhbmdlPTE2IGNocm9tYV9tZT0xIHRyZWxsaXM9MSA4eDhkY3Q9MSBjcW09MCBkZWFkem9uZT0yMSwxMSBmYXN0X3Bza2lwPTEgY2hyb21hX3FwX29mZnNldD0tMiB0aHJlYWRzPTEyIGxvb2thaGVhZF90aHJlYWRzPTIgc2xpY2VkX3RocmVhZHM9MCBucj0wIGRlY2ltYXRlPTEgaW50ZXJsYWNlZD0wIGJsdXJheV9jb21wYXQ9MCBjb25zdHJhaW5lZF9pbnRyYT0wIGJmcmFtZXM9MyBiX3B5cmFtaWQ9MiBiX2FkYXB0PTEgYl9iaWFzPTAgZGlyZWN0PTEgd2VpZ2h0Yj0xIG9wZW5fZ29wPTAgd2VpZ2h0cD0yIGtleWludD0yNTAga2V5aW50X21pbj0yNSBzY2VuZWN1dD00MCBpbnRyYV9yZWZyZXNoPTAgcmNfbG9va2FoZWFkPTQwIHJjPWNyZiBtYnRyZWU9MSBjcmY9MjMuMCBxY29tcD0wLjYwIHFwbWluPTAgcXBtYXg9NjkgcXBzdGVwPTQgaXBfcmF0aW89MS40MCBhcT0xOjEuMDAAgAAAAYVliIQAJ//+9bF8CmrJ84oM6DIu4Zckya62IuJtAMAAJShQAAADABLJlCWzIByZd0AAABMgA4ofQZQeYiYqxUCWDEnUcDNRKYp1y3YEYZSdtMdXH2OAB20QWrGRBQ2AtvO0wk70B4nZ9ldohbr+gnd0QYI/c3JV8lQY/+BdZF9XPac7m2sH5KDjrwAOfwfOGgQvicUTXvLeG78CJlKYxEwo/NGmUith4urVVvLlC9CU4qbCTnisR9mGOBOHI614cC5nNVC8aSioZ4JdG8bqf2Y1eeYE/25jlZUpLBQ4lq6wghgZAV2KL4L8zu5zTOtVU0OATxQdHcPr9ZgYvQz2VEFbiN6guYOQD+J7k4tF+OQqnUcmHenx8irWAsvhklixZH3ASxGecUZHFWXZRH/vxSxE79YIFqdiUbowJOydXvxHH/uPOpg5YoBD3cehLbN/gfLUDGW7YDSD5vTqj//umtNXzegwtpXCpp9Wtavibx8IK2UF5iJKO34igAVYqmAAAAMAAAMCHwAAAGpBmiRsQn/98QAAAwKfQcDwYQPKIAVA0DUnylqLC7tdZV5fNFJK0nTSxy7df1KtzRuTrHEB6BO0tOFMEPq+tvQqB2FtFn+yywjL5/+gzpK+ls9V68t84e2U107xwXmkdDdwOCAq0TwDwI2AAAAAM0GeQniEfwAAFrMrtQYXjeGay4oJ0yA/ABtHjmdjKKZzyTwSqcsGUkXueqpwaipK0fRRwQAAAB0BnmF0R/8AACOr+Ft4Ep1oI5Tczilr3IeEQG6nLwAAACsBnmNqR/8AACO/BCaNAiIG9stX0AfAMXzh32Cd7Z9R7dzo4WbTAjng4OWBAAAAb0GaaEmoQWiZTAhP//3xAAADAp8FGltHdXLkhPNm2wALAo/pvZBB7o55VSYm46BMseWU52pVSLqfLIF1zxBMccTqqqaLIYVrlp0HuiP9Q002kPfLySbJeJCN1yurkFM+Ta7rnKeHFzJH1PtSYsjrgQAAAEZBnoZFESwj/wAAFrUrN3LRgKMb8QmN4pzDkIhYxtKdrVcrLuAe7G1ogDXOpMYEhnlrwFx5Xg4AhD0pCTmaSntkmzfyLujhAAAAOwGepXRH/wAAI8MXYahZzvQRZ5Naw0faZqCpikbFFetVMAEiiMcqrFwR5eI0+KetAGA/6ducyCePy5DBAAAAIAGep2pH/wAADTSfl81BnFZQ5BLCJGrJl2/mclX4rIjoAAAATEGarEmoQWyZTAhP//3xAAADAPgGxYo+hsIEErKRZJHQ8rrpMC3/gU6HHaYigCAKYVSZkZmEy3wnzk0ypneZQ92UyQgUAm9decU1QuAAAAAxQZ7KRRUsI/8AAAhvIebbiuZWTKShIiN/EPMFnKAAW0i5O1ggVwP5h/akm6JUrcUbMQAAABgBnul0R/8AAAMACj+0PYM6OImY21SvsTcAAAAdAZ7rakf/AAANhJUs9xJaZq4VlMfRoixVz5Ce4nwAAACEQZrwSahBbJlMCEf//eEAAAQTc32ZB7LwgMm880yUFbujdiaEBuZxiEDth3afogJ6yJXap/Rg9rdYT+/qrZy9K7YgQ2s08OAXN4gE42ZdNlYoyg9P/hqGLad8V3F7AKdDARdd864AXepyHMt4Xvq2ktMgP8i02WL/BH5tl9X5tpseikYVAAAAREGfDkUVLCP/AAAWvEPNInIz62glS6Vq54QCCXkg4WdlSdYXfuaRcBE66Vjxrrv+9Giuqg4BU8/QEZDbRahg6NmFVJzBAAAANQGfLXRH/wAADST3Iw4TCiIYtuMBIeX85y4zV3hPQID9AOWJSQMM1lKAXhi+I5DkcpUxi0+BAAAAKwGfL2pH/wAAI7HMCW8/tQsVJFm/Z2ipId7zoRMLaZqFxgnJ02+5nXrzxvQAAABzQZs0SahBbJlMCEf//eEAAAQU1VQB+FclaNfWQLccGKNFYAgn7vgBGQXRFhh10/RX+ttqAXAVWWVwLvKvIKaZfS4tLAYcyONLLfpPsJ0JWEOnEvWi1qyBZtAlkqsJngXrhTct5+KKoHQBf19L4vWu/Y6LIAAAAEpBn1JFFSwj/wAAFrxDzb0DgCJguRYsuzelV1FuQkkRv1yUVUwsszQ9BfxfpOUYTI7kegPY5puhwB64bhJSn2KCrEARuFqwTETh3QAAAC8Bn3F0R/8AAA1+ANL4oYQKw3kT5JRBS6kB0sZJWGE0ARGl8irrd3Je7PeDdCUb0AAAABoBn3NqR/8AACO/C64vH+iQl/4175AqiSyBvQAAAFdBm3hJqEFsmUwIV//+OEAAAQz2nFKaBd2fGAPjL3tizPZT+cJbR2aGWNADg3UQKYvuH/wqnhQrBRC6LN8FoCmWnT6AkClMRTdIFxVrHAuit6iWcT/HxS8AAAAuQZ+WRRUsI/8AABazK1TvfDXG9DVLCMIBF4+Ew5000muIvuuLX9AmuH9eSWYTYAAAACQBn7V0R/8AACOr+Ft4EpYpQWZk14GzJVcOBt9efzz+Fnz+1T8AAAAfAZ+3akf/AAAjvwQnEslpmoly8p27TzmyKibZnO9T4QAAAKRBm7pJqEFsmUwUTCP//eEAAAQU1VP9iU4A1dY17v+9ZpgeHMOEGXkH11ZlVxYgK0Nv+bCWBjSZgePGbIK0mEFxYo/1rtEoUfRf0LCjxTP38GTzJn93V+32mHIDONRu5o7BohXL4pv8ivWB6vSqo2XDaDL7PQaEvycAKZ7CRvTzI1azViOP+WKhS4vgLoK56bNYGwlXSkfsk1iletiN9HOWlvajuAAAADoBn9lqR/8AACOxzBPYwmNBgAC2aXV2xqls4ROZ8Yskq+kYfe+Tb4bUTJqCwnZAyZS/G0IXN2UANfZhAAAA2EGb3knhClJlMCE//fEAAAMCn7cOx48j4netNgMQAiBR82xgD4PBXmLLAS/gTNOPuL65jqz7CSsRUO8+j7CewFSZfv4IE8PMECNuNGvh54dWzewBuX9Ubm5nQqpEKmrXf+Hl9AFTzVS0j+/UHlC26cau1bBxGXUGcKu3N6XbIJfP6B+bOLNGGMhCbvTTu4zUstlIPKUgs38XUkpbPsoZkug2Miyqwcnf1G35NU0HLmCrTnpSe8t12Rx8d2P6xvl7HYU2vYWX33uBmKF0Z3m4wxiU3rZjixLx4AAAAE9Bn/xFNEwj/wAAFruKlGRgPcwT3y2G5JTPZ2KkkzPgtL2+RQ7Ic4x6MhvEXW7TqB8zOHJDF4TSlTK9Y2aBCWAJe7JLk1voFm4Dymyv+vunAAAANAGeG3RH/wAAI8MXae+niHkXm2BSEI//q7O8S5APg6Qh7gtRLz0zTReLPwyLSnB+iLa07H0AAAA1AZ4dakf/AAAjrl49he8hwmh+wqED0YYeZQrRjcPDfgfRScjgwIgQJiBG81mggLpyIgZQeCAAAACtQZoCSahBaJlMCEf//eEAAAQUsPscPQBPgBm+bqInTlQ4uugRIoRzy9Svq7Zru319N5N6jTUNTWFQ/pSzn0xF1aNazDxhgA6HV2w9NZK/L7NerLjq905S1DsLTsQBtLwFddiAbWM0orIDUWi/EsU7GmLCox5d2+EpMUZQ8NBYJgzbrL5uJmmjpHWlofVKXd9EMpY3c1ugk05Dn/ahtrHDEQkEKAsmDuD5S2+OmHYAAAB6QZ4gRREsI/8AABbARiZleATXBqpzITNQdJq35mJNfnP+DAoRpmTZemmnqfF6O2neF6GcFCZbTY3SjG51w3z/2KsfoWshDqRBkPCl025lTJ/2hvUJmfq/K0uDKJDuKAJFyIrDg88pddAgeBglt/9ot+/2zkDdbAHg7gkAAABBAZ5fdEf/AAAjrAjswsc0hVvsGVGCCtPK4+TzB7ZbP4mILMHGBUos5veVUOj2kUQXYoM2KXFUAH2BjLhu7XJw8EAAAAA2AZ5Bakf/AAAjvYOBysTSJoIaCoNsRSeQALG+fNnIDs/2mB2zF8dmJiGBVgT60FnuIHIeFIXBAAAAiUGaRUmoQWyZTAj//IQAAA/XwIY6fx+9AE2C7mqic5fNY8yAAsOiYY+/RCasK1qhIxrxTDvca+GXDJnzMBlWb5OwSlABEaoZDTezuwq0M1IqxFEkxgAH0rBYMTgVSJiDZliC82pgPh2Wn+ZX8s+V5werErQrXOQ1uRwFqfvFdYgQWFzeVvl6ul6AAAAATUGeY0UVLCP/AAAWK4reeI2O5mS76cDH3lh+x7yBUHgr30zadDlERXaBMa65CKFX4XuK37knDyvgmMmFH/+GeWAWAmNNd25p4bSPcYVBAAAAKgGehGpH/wAAI7HMEaSY92XfS5ATdJ9R+LAz0nWLWwqPej+jtYim4JLPgQAABOttb292AAAAbG12aGQAAAAAAAAAAAAAAAAAAAPoAAAC+AABAAABAAAAAAAAAAAAAAAAAQAAAAAAAAAAAAAAAAAAAAEAAAAAAAAAAAAAAAAAAEAAAAAAAAAAAAAAAAAAAAAAAAAAAAAAAAAAAAAAAAACAAAEFXRyYWsAAABcdGtoZAAAAAMAAAAAAAAAAAAAAAEAAAAAAAAC+AAAAAAAAAAAAAAAAAAAAAAAAQAAAAAAAAAAAAAAAAAAAAEAAAAAAAAAAAAAAAAAAEAAAAACWAAAAZAAAAAAACRlZHRzAAAAHGVsc3QAAAAAAAAAAQAAAvgAAAIAAAEAAAAAA41tZGlhAAAAIG1kaGQAAAAAAAAAAAAAAAAAADIAAAAmAFXEAAAAAAAtaGRscgAAAAAAAAAAdmlkZQAAAAAAAAAAAAAAAFZpZGVvSGFuZGxlcgAAAAM4bWluZgAAABR2bWhkAAAAAQAAAAAAAAAAAAAAJGRpbmYAAAAcZHJlZgAAAAAAAAABAAAADHVybCAAAAABAAAC+HN0YmwAAACwc3RzZAAAAAAAAAABAAAAoGF2YzEAAAAAAAAAAQAAAAAAAAAAAAAAAAAAAAACWAGQAEgAAABIAAAAAAAAAAEVTGF2YzYwLjMxLjEwMiBsaWJ4MjY0AAAAAAAAAAAAAAAY//8AAAA2YXZjQwFkAB//4QAZZ2QAH6zZQJgz5eEAAAMAAQAAAwBkDxgxlgEABmjr48siwP34+AAAAAAUYnRydAAAAAAAAKLeAACi3gAAABhzdHRzAAAAAAAAAAEAAAAmAAABAAAAABRzdHNzAAAAAAAAAAEAAAABAAABOGN0dHMAAAAAAAAAJQAAAAEAAAIAAAAAAQAABQAAAAABAAACAAAAAAEAAAAAAAAAAQAAAQAAAAABAAAFAAAAAAEAAAIAAAAAAQAAAAAAAAABAAABAAAAAAEAAAUAAAAAAQAAAgAAAAABAAAAAAAAAAEAAAEAAAAAAQAABQAAAAABAAACAAAAAAEAAAAAAAAAAQAAAQAAAAABAAAFAAAAAAEAAAIAAAAAAQAAAAAAAAABAAABAAAAAAEAAAUAAAAAAQAAAgAAAAABAAAAAAAAAAEAAAEAAAAAAQAAAwAAAAABAAABAAAAAAEAAAUAAAAAAQAAAgAAAAABAAAAAAAAAAEAAAEAAAAAAQAABQAAAAABAAACAAAAAAEAAAAAAAAAAQAAAQAAAAABAAAEAAAAAAIAAAEAAAAAHHN0c2MAAAAAAAAAAQAAAAEAAAAmAAAAAQAAAKxzdHN6AAAAAAAAAAAAAAAmAAAEPAAAAG4AAAA3AAAAIQAAAC8AAABzAAAASgAAAD8AAAAkAAAAUAAAADUAAAAcAAAAIQAAAIgAAABIAAAAOQAAAC8AAAB3AAAATgAAADMAAAAeAAAAWwAAADIAAAAoAAAAIwAAAKgAAAA+AAAA3AAAAFMAAAA4AAAAOQAAALEAAAB+AAAARQAAADoAAACNAAAAUQAAAC4AAAAUc3RjbwAAAAAAAAABAAAAMAAAAGJ1ZHRhAAAAWm1ldGEAAAAAAAAAIWhkbHIAAAAAAAAAAG1kaXJhcHBsAAAAAAAAAAAAAAAALWlsc3QAAAAlqXRvbwAAAB1kYXRhAAAAAQAAAABMYXZmNjAuMTYuMTAw\" type=\"video/mp4\">\n",
       " Your browser does not support the video tag.\n",
       " </video></div>"
      ],
      "text/plain": [
       "<IPython.core.display.HTML object>"
      ]
     },
     "metadata": {},
     "output_type": "display_data"
    },
    {
     "name": "stdout",
     "output_type": "stream",
     "text": [
      "test/ ex1-episode-50.mp4\n"
     ]
    },
    {
     "data": {
      "text/html": [
       "<div style=\"width: 200px; height: 100px;; border: 1px solid #FF5733;\"><video loop autoplay  width=\"200\"  height=\"100\">\n",
       " <source src=\"data:video/mp4;base64,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\" type=\"video/mp4\">\n",
       " Your browser does not support the video tag.\n",
       " </video></div>"
      ],
      "text/plain": [
       "<IPython.core.display.HTML object>"
      ]
     },
     "metadata": {},
     "output_type": "display_data"
    },
    {
     "name": "stdout",
     "output_type": "stream",
     "text": [
      "test/ ex1-episode-100.mp4\n"
     ]
    },
    {
     "data": {
      "text/html": [
       "<div style=\"width: 200px; height: 100px;; border: 1px solid #FF5733;\"><video loop autoplay  width=\"200\"  height=\"100\">\n",
       " <source src=\"data:video/mp4;base64,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\" type=\"video/mp4\">\n",
       " Your browser does not support the video tag.\n",
       " </video></div>"
      ],
      "text/plain": [
       "<IPython.core.display.HTML object>"
      ]
     },
     "metadata": {},
     "output_type": "display_data"
    },
    {
     "name": "stdout",
     "output_type": "stream",
     "text": [
      "test/ ex1-episode-150.mp4\n"
     ]
    },
    {
     "data": {
      "text/html": [
       "<div style=\"width: 200px; height: 100px;; border: 1px solid #FF5733;\"><video loop autoplay  width=\"200\"  height=\"100\">\n",
       " <source src=\"data:video/mp4;base64,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\" type=\"video/mp4\">\n",
       " Your browser does not support the video tag.\n",
       " </video></div>"
      ],
      "text/plain": [
       "<IPython.core.display.HTML object>"
      ]
     },
     "metadata": {},
     "output_type": "display_data"
    },
    {
     "name": "stdout",
     "output_type": "stream",
     "text": [
      "test/ ex1-episode-200.mp4\n"
     ]
    },
    {
     "data": {
      "text/html": [
       "<div style=\"width: 200px; height: 100px;; border: 1px solid #FF5733;\"><video loop autoplay  width=\"200\"  height=\"100\">\n",
       " <source src=\"data:video/mp4;base64,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\" type=\"video/mp4\">\n",
       " Your browser does not support the video tag.\n",
       " </video></div>"
      ],
      "text/plain": [
       "<IPython.core.display.HTML object>"
      ]
     },
     "metadata": {},
     "output_type": "display_data"
    },
    {
     "name": "stdout",
     "output_type": "stream",
     "text": [
      "test/ ex1-episode-250.mp4\n"
     ]
    },
    {
     "data": {
      "text/html": [
       "<div style=\"width: 200px; height: 100px;; border: 1px solid #FF5733;\"><video loop autoplay  width=\"200\"  height=\"100\">\n",
       " <source src=\"data:video/mp4;base64,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\" type=\"video/mp4\">\n",
       " Your browser does not support the video tag.\n",
       " </video></div>"
      ],
      "text/plain": [
       "<IPython.core.display.HTML object>"
      ]
     },
     "metadata": {},
     "output_type": "display_data"
    },
    {
     "name": "stdout",
     "output_type": "stream",
     "text": [
      "test/ ex1-episode-300.mp4\n"
     ]
    },
    {
     "data": {
      "text/html": [
       "<div style=\"width: 200px; height: 100px;; border: 1px solid #FF5733;\"><video loop autoplay  width=\"200\"  height=\"100\">\n",
       " <source src=\"data:video/mp4;base64,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\" type=\"video/mp4\">\n",
       " Your browser does not support the video tag.\n",
       " </video></div>"
      ],
      "text/plain": [
       "<IPython.core.display.HTML object>"
      ]
     },
     "metadata": {},
     "output_type": "display_data"
    },
    {
     "name": "stdout",
     "output_type": "stream",
     "text": [
      "test/ ex1-episode-350.mp4\n"
     ]
    },
    {
     "data": {
      "text/html": [
       "<div style=\"width: 200px; height: 100px;; border: 1px solid #FF5733;\"><video loop autoplay  width=\"200\"  height=\"100\">\n",
       " <source src=\"data:video/mp4;base64,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\" type=\"video/mp4\">\n",
       " Your browser does not support the video tag.\n",
       " </video></div>"
      ],
      "text/plain": [
       "<IPython.core.display.HTML object>"
      ]
     },
     "metadata": {},
     "output_type": "display_data"
    },
    {
     "name": "stdout",
     "output_type": "stream",
     "text": [
      "test/ ex1-episode-400.mp4\n"
     ]
    },
    {
     "data": {
      "text/html": [
       "<div style=\"width: 200px; height: 100px;; border: 1px solid #FF5733;\"><video loop autoplay  width=\"200\"  height=\"100\">\n",
       " <source src=\"data:video/mp4;base64,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\" type=\"video/mp4\">\n",
       " Your browser does not support the video tag.\n",
       " </video></div>"
      ],
      "text/plain": [
       "<IPython.core.display.HTML object>"
      ]
     },
     "metadata": {},
     "output_type": "display_data"
    },
    {
     "name": "stdout",
     "output_type": "stream",
     "text": [
      "test/ ex1-episode-450.mp4\n"
     ]
    },
    {
     "data": {
      "text/html": [
       "<div style=\"width: 200px; height: 100px;; border: 1px solid #FF5733;\"><video loop autoplay  width=\"200\"  height=\"100\">\n",
       " <source src=\"data:video/mp4;base64,AAAAIGZ0eXBpc29tAAACAGlzb21pc28yYXZjMW1wNDEAAAAIZnJlZQAAHl5tZGF0AAACrwYF//+r3EXpvebZSLeWLNgg2SPu73gyNjQgLSBjb3JlIDE2NCByMzA5NSBiYWVlNDAwIC0gSC4yNjQvTVBFRy00IEFWQyBjb2RlYyAtIENvcHlsZWZ0IDIwMDMtMjAyMiAtIGh0dHA6Ly93d3cudmlkZW9sYW4ub3JnL3gyNjQuaHRtbCAtIG9wdGlvbnM6IGNhYmFjPTEgcmVmPTMgZGVibG9jaz0xOjA6MCBhbmFseXNlPTB4MzoweDExMyBtZT1oZXggc3VibWU9NyBwc3k9MSBwc3lfcmQ9MS4wMDowLjAwIG1peGVkX3JlZj0xIG1lX3JhbmdlPTE2IGNocm9tYV9tZT0xIHRyZWxsaXM9MSA4eDhkY3Q9MSBjcW09MCBkZWFkem9uZT0yMSwxMSBmYXN0X3Bza2lwPTEgY2hyb21hX3FwX29mZnNldD0tMiB0aHJlYWRzPTEyIGxvb2thaGVhZF90aHJlYWRzPTIgc2xpY2VkX3RocmVhZHM9MCBucj0wIGRlY2ltYXRlPTEgaW50ZXJsYWNlZD0wIGJsdXJheV9jb21wYXQ9MCBjb25zdHJhaW5lZF9pbnRyYT0wIGJmcmFtZXM9MyBiX3B5cmFtaWQ9MiBiX2FkYXB0PTEgYl9iaWFzPTAgZGlyZWN0PTEgd2VpZ2h0Yj0xIG9wZW5fZ29wPTAgd2VpZ2h0cD0yIGtleWludD0yNTAga2V5aW50X21pbj0yNSBzY2VuZWN1dD00MCBpbnRyYV9yZWZyZXNoPTAgcmNfbG9va2FoZWFkPTQwIHJjPWNyZiBtYnRyZWU9MSBjcmY9MjMuMCBxY29tcD0wLjYwIHFwbWluPTAgcXBtYXg9NjkgcXBzdGVwPTQgaXBfcmF0aW89MS40MCBhcT0xOjEuMDAAgAAAAW9liIQAK//+9nN8CmtHM5UuBXb3ZqPl0JLl+xBg+tAADU+QAAADABU6vx16OQENUgAAAwALEAHSElDyDzETFWKgSjknFtYlgAE9SuFCMzvCvdQ+eCaCIYww4kS1KJY5xNzOP1fu34aZpiRdSASxKwCTqPck0HbyfLfHzI4QbQkxCoaUCfSQZy5zPRjJfS4CgSlZXy7zkbI9+AWoDTweGMYR+hrn02eIWuABSxOqQZWzXz6spKVFuUir3lG/mQwjn/lYkSRcdxSjmXSoMxsL53rAR+/fgIB0HOtR6pMtkT8Em7IaasCtgK99HANlG/pso89Apw5iJzRwMvpfpjwyzgIWRCeooNY9aZEM4W/l3jT9y2FCgkF9lWqa5xuQgvSeta0++pSkdaXZLYFzTauNdgnLptHoBpN6G8+VIMNsxq+7l7BZdcHT6UozfLEQ1knnvCR1XrhRJTEiOaqabmfsbstFolZTgPGAAAADAAADADAhAAAAnkGaJGxCf/3xAAADAqO6uBmXqAHwow+TdZWcfH3BqTfxwQHDAX5t2ZfblcvC+TfXcx8e5VcyevLZdAuQNM73t1EUuWj+sYcsKuFPgWtDdpZeqo//WVTFHLMcXND9MxPhM8zutQ+BkhVCRzp+4xkPXLjAakNH+4FIvJ1ymdmW8yNxAPGLEsiWmTdDM1KwsQYihQtUvsD7hjkrzAyqCXPgAAAAIkGeQniEfwAAFrUqx5mYsD09xdGqaQ351v2ms8U8Gxfp6PkAAAAsAZ5hdEf/AAAjqc7FgKGQo3eQ+akO271k2s1pKLQCXflly/DGt5U2RNUdI6oAAAAQAZ5jakf/AAADAAI8Cse9uQAAAGlBmmhJqEFomUwIT//98QAAAwD48bumNr3cwAWHZveBTQ5HaBEeCkAvE6/LFbV6POuBJsmBu123WtXNj7v/GXsHnSA5lfvd3hqNnzgTmxj2deWSwYHS6e07cog5NOhlcDrv6EB2Na06tIsAAAAsQZ6GRREsI/8AAAhvJzXhfiPXD53QsXpZbAHnlUXVzPTbFQ63KPcLz0rJDPkAAAAcAZ6ldEf/AAADAeWKHhmoeKtbqZb8x8m/clf5swAAAB4BnqdqR/8AAAT7NNV+BGrmnagRWXPlAtTuVGMGpbcAAACVQZqsSahBbJlMCE///fEAAAMCnwUdNkZdoAL7haI3MqsHgbdKuOkF10mUmByDN3XZ7i00CYbbAcw/sySaE907BxBuyPgJo6S93lovkKgMmMv4B3vq/oNueRuQiVDDe088zbisOSFyKF58OXNA7bRF3MYWfn4YQVUt5Ewj6v39swY91Z8KpfujV2WpQB+4Lptv8b2iTjgAAAA1QZ7KRRUsI/8AABa1Kzi4WjQMvbLlh3BeXFyJtJABBAXziMrqqNb1lN/m3hEJbhV4MdxW/BkAAAAeAZ7pdEf/AAAjq/hbeBPvpkB4cs+FFtgaAHC+4llAAAAAKwGe62pH/wAADYSQyi08z3mMRHuNLNlNb1molxVUUAFeAUFTQGBxD3sKvbMAAACkQZrwSahBbJlMCE///fEAAAMCnvfei0Ky21gP0n0IVABI5iQXRvqqKk6iJxD7JAciVq58OTjqpNW5OUNzDSqsKZ94K74xV/uiPm2i8v8JokZV0UuEn72FXjkg3gVI+9ReNAAMtCTbDPWtoVOUtFy2O8+n38wntpy2T2puppNHVGChkX8xeFve30KDbe5tEYNFVz+HtyCgVZbqfN4vLnpWlC22eIcAAAA4QZ8ORRUsI/8AABa7lB2c0vb8rC38nLDY1L50Nr2GJ8Ms3f8MVtsDrkyhNlq5QGQr9BRf1xmtbcEAAAAfAZ8tdEf/AAAjq/hbeBKdaCPG6BkgAnl9xG3SXWJ24QAAACABny9qR/8AACO/BCcSyWmauQ8uq8rWxKIQArs7965AQAAAAEFBmzRJqEFsmUwIT//98QAAAwKfBSoMQwKeO+4JzGxm/taAMAy0CjmrkxpYoBeJxcaX/9oVOiGyDAsPXYoWHnUPrwAAAEJBn1JFFSwj/wAAFrUrN944AW7KCLY5EfGmq9KcXYPLxqRkZ4ikmAGzVuoliBH9IqaaxmbOzpChl/TWBFhA8leAdqEAAAAfAZ9xdEf/AAAjwxdirx+SUFKvPRzkQgBkGKNJDwNQeAAAABYBn3NqR/8AAAUdMA4blBri49Ms4qmDAAAAPUGbeEmoQWyZTAhH//3hAAAEG4agLqj3UpyVt+R/X2eohCqBGfGeNVht5ID6cw+4zhMXZU9qSMsPQRMB41cAAAA1QZ+WRRUsI/8AABazLAOkLumYe11vbXxzfb2Pc9FuGG75BIZOJ1xX+G5Is6JFkEKuCXn48GAAAAAtAZ+1dEf/AAAFHhWQd2E5EYMFUoWL94GOilXXtEadAABxUoBNKniC+OS2P2zBAAAAFwGft2pH/wAAI7HMCW+pb7IVSPvO7kSNAAAAekGbvEmoQWyZTAhH//3hAAAEG6JrWhu00jQC1eNl8k6R0/59f2GjTo1lLvDkFJJeANFmn6kReC3xIsLtprUQLhE7KnS7tsitECiX2JB1dXqCuTk6yQRY4TFEWJvwHFoDPMiJFY9zYeMKMnGobKXLfSvutp4SpCkqFa5AAAAAKUGf2kUVLCP/AAAWtSbjmVxpLt0p/obCswvdpQLHFWIQPkZHhRJRoybbAAAAKAGf+XRH/wAAI6wVDgvzSB38y8PF/WSD0w3q6miE3bdcoXv6PwYbFNwAAAAuAZ/7akf/AAAisiyAwa5hAMnTLkJUjkK2+pxA1emdkZYU7UZWVB1Glgz9x0Q2zQAAAFZBm+BJqEFsmUwIR//94QAAAwP2guLib3092UqlWpFtSN2GkfYgQR0Ak/X5J12YqmEFD0bdgRrjElrci9Mi7iV9vSAOT7XdOfxKXehHVYKRD+uum/pSMQAAACxBnh5FFSwj/wAAFiKfTbPo/laRrjNG1qnXfx7y+jdlUgzIEWv66/7oXmkkwAAAABsBnj10R/8AACLAuWcTIxLkNF5V74NNFC2UvwcAAAAqAZ4/akf/AAAirjMFJMTvgFfvMMazFY8hyjklbfRhkfyZb4D9buh7DnbhAAAAdEGaJEmoQWyZTAhH//3hAAADA/ozFKsRx4GxCVbK/WDySIIDyNdMtG0YgybRZ7m2h4R66mQgDkhZZhdjnrQVBqtlgp+bTyijZjWWoziBuGscc6LZ70ItU7yTbiRR3/yvxhW1LB0RqN4mRRaY0SQVM4YphFLgAAAAPEGeQkUVLCP/AAAWK5RUsXK8LGR0e6cRZt7qakzAFSncCY0MNaX4tcLLAw7wANwXzpU3qGPZ8W/1yYQO3QAAACYBnmF0R/8AACKr+FxAszwMEb6Vs4VPnasDtzmA0noijIXGm/6rbgAAACUBnmNqR/8AACK9lgKKAPsnBO8vkvAAkel7Da3ib2owDiy/5jwZAAAAeEGaaEmoQWyZTAhP//3xAAADAoz33k2he8jiEJoHJPem/Ozx5J4Vs4fKvdaJFc3S51fbT54ONIZnv/TpZrI3BgDeVVA6PIY+y0/8eEn7cODc9McQGO0ZqUUuuOZ+dGFQwsmVcC9ZR6rgr37vkhkobMjtAnr0qAWSnwAAAE5BnoZFFSwj/wAAFiMrtQTYne97yZXuXKyoDxFmjiQaLUOBtF81SGiCbmXbMUaHHYtmxsMkZN7KiwPJfrujwAEzUAjGP+jpOCIy9ac0m9EAAAAmAZ6ldEf/AAAiwxdQr895IG/ljqUXtCZd6cJh40QrWucty3z7jekAAAAsAZ6nakf/AAAivwQnbik8As/zL2lhS+V9G3T4MzFf9EFkQTYJYtzYFPou0x8AAAA4QZqsSahBbJlMCE///fEAAAMCjO2h03JPt3hrMIA37mjHT1bdQGO5n1wcxyfzo2/qr0aazr824q0AAAApQZ7KRRUsI/8AABYint43GRGh99WR/+ktbMVm/CZLvgtLtuHyyogfmbEAAAAkAZ7pdEf/AAAiwLjfwYcoK76WLBmrF6NvmQYZRX6YBRtcb/lAAAAAIQGe62pH/wAAIq4tR20NQDEnn8nqX0ck5HXBkpjEeEtvQAAAAHhBmvBJqEFsmUwIR//94QAAAwP7v+pmWG6f871toEAU84OfnQRNBk5Ps3s2YAANZiQ00EcPL//i0zu3O5aUOZdo4Tk0xBOp8QAlU+HdzEeffwCamHLQ8xl3qxNSvy/dbH2ZI3X6OVQ4LzlZ3/Hl2M2j85LlV5SOQ2MAAAApQZ8ORRUsI/8AABYrYegih9HI/wTfKuMkOC0pS4eQAho/MROMJH4BN6EAAAAkAZ8tdEf/AAAiqcyGEEnKhvuaVpWc2zNyipgu6dWvIu0N9p0xAAAAJAGfL2pH/wAAIrHBDcdonIpb8CWN+tB/L8LWXh6PvMiTqAi3oAAAAFFBmzRJqEFsmUwIT//98QAAAwJ67aTW0K4qBVvT4VNQChK+pU4HadoR2YaTHiGnWvhAmgMq6ZJfr09tpgyQ8aFwOruT8MHn+FhIkRAVyuCzfsAAAAAyQZ9SRRUsI/8AABWSnwnMEZbjM91Quj/anRAlaAt5q+VUglykgNO4Ls+p3DpTCRguZIEAAAAoAZ9xdEf/AAAhwLmVqq7o76ZbvHwMTUxmFqQABbHTIH+n5tPhZXIx0wAAACYBn3NqR/8AACGuMeJ5eo7q91x2UoAbBnMyPHfgwXTAsEs++Ce4VAAAAHdBm3hJqEFsmUwIR//94QAAAwPfPqvuAdVTigUrSgb+kkALNNR82hrxtIhWUJ/Wk1gfc3qUWHEr00XD/CQmqwBReItplWAwSbeFpBM90ns9ahsXIH2aa4GgFcmv39t72enQ1lZwp17AeWCLoLEA/wBIZxSliOt2gQAAACVBn5ZFFSwj/wAAFU+WztNF2K9j2zDlpsqwACa9K8nVhcAGsEZIAAAANQGftXRH/wAAIcC438ApHuhVgrEGN8m/g9hCNoZhUYavaMZxqdGSOeMKtWZ7zLDGc7qr/kVJAAAAJAGft2pH/wAAIa4x0Z6vSBg+UzRupERkKYwnKIZ8CR1FxwHXHQAAADtBm7xJqEFsmUwIR//94QAAAwPfQLaW+qED1fEfV2LJG1f0jqFiAZNVX8AQm5EVvsi3lChhPgt5rFFu8AAAAENBn9pFFSwj/wAAFZKdyFivoA7qgAJxxXciCbpJRSvqarmKa44tayn0HgAP8HgocYTf7FfRDbc/4lvXtwhpVVrpwPz5AAAAIwGf+XRH/wAAIb/+jI8pYW7fUbK3v1ZgV5RJNFNn0MmhJO2AAAAAKQGf+2pH/wAAIa4xL9Iy9IDHZ1a8naUuLx0AJZR7LdfEHbIMO8CHWdlHAAAAjkGb/kmoQWyZTBRMJ//98QAAAwJ/yfW+muf39snHe8IwA3WMqLdEhA8HnXsJBZDMpy6VxUr8xM1fGq9AFfp2ZnFwN7PZraUp4gp317jwLl/DSRkhyR2137LnoBIfoErvNIW7dlN1ae1XdRwwbuSnBAbj4cveEXK7USQp0SUZ7YflodEgeYQGUe6lYJeDnvkAAAAvAZ4dakf/AAAhscENxS7eyPvoDSdS6w5DQAkttYNuJ8qVHVyB0baz0Rj0A97UZRgAAABUQZoCSeEKUmUwIR/94QAAAwPJPrNlcgQIKmHYREuMgDrs+Ca61dAW1r9akL90F7PCApHLP/2IuXRlHiu66eVf1i832ssfEPMA3dLAbw70g9Mu927IAAAANUGeIEU0TCP/AAAVAp8JzuzERvYqYO41Fg+WKxrrzok9MpC1H0gyWnPjWMLTU28RKo/gE7yhAAAAJgGeX3RH/wAAIMC5laumnmuQPGu3+6KxFlrzSsq6C+/0cuGp9RWAAAAAKgGeQWpH/wAAIK4x4m4SdgM+smOUy+1JnxrAfPoCDEAJdfo4clpLlx3umQAAAIVBmkZJqEFomUwIT//98QAAAwJpvecddB9agcpAdeJ1VWRwa6eUSorAV2p1c9uzxivRgrm8Rw2/w56qq+eY+1iJQSGlq3CNe78z77aDMVQj8ibO9+z1gS8CiTvJfNpeKbMzzHe+coFDYCS7vACjyh7yuYWLwywS0JbS72MO9fCO9gN13Ux4AAAAMEGeZEURLCP/AAAU5jvjsvZWkDDACRb6edGkmK+nqCD/dytALkOyynkfIOcmA+TygQAAACkBnoN0R/8AACCpz067b7OAALXzxZ1AaOUgxFuiyvGWAGkXP6oePoZVgQAAACABnoVqR/8AACC9lgKKAPsnBO5G9yBeGQNZkx1IgIRUqwAAAJxBmopJqEFsmUwIR//94QAAAwPPv+rQL10ABNNgOfkHD7Gu7Vdtu8zeLyGJ1UfB73m2Madu4i3pYkMb692H/vYFycLCLRjHF0r8wSgcYxFkriRHJn5cWquiCtqzeFn0Nrz/ixhXW11DOySOEUxHHqgjlKxJCmltg9WUbavDHCr1mPB0rv9kv0fm0EuGt76Ulf7Ej/guZKYErdQqUCEAAAAyQZ6oRRUsI/8AABUB/agcKHgMzIgKyoLd3W5Z3+sFbmM/kWBDvJwP8Vdn+h7SkKSguTcAAAAkAZ7HdEf/AAAgqUA+9SbKrQ1NMfft/KdMjttDwwNEPp9mSlvQAAAANQGeyWpH/wAAIMbpylmsdOz8EjlK/SK3h4z33DNQzrIKKzy+9Ki3q+Tc0WWjdzkxP0h5Id0xAAAAbkGazkmoQWyZTAhP//3xAAADAlm9Bx10Lx1S3iPzLbw7PQBcGxTd8INY/fskxBeKEcyTMrZ6BEMd6m7MMR2i/73YjBcUA6fnQjvK3Ftf6gF7c/VecVpApIer/wYK+SZ/VgyEAA08gRaDxDePITOwAAAAQkGe7EUVLCP/AAAUe19wyvVn/rMeFzlDsxLXIavmBBqfO+5yXknZ/tgW4lACzyi5U6l2vW2zd3KjacinhmRDPOyPgAAAACQBnwt0R/8AAB/Iyvfxh9/Z8OemjNByMXVkWTfnrKmX9S+Kfb0AAAAqAZ8Nakf/AAAfxmNsQXm49QqsCG8YcRHFMyG2mbI+EIWDj9T6RqcQQbphAAAAuEGbEkmoQWyZTAhH//3hAAADA7RIc8qV1rmQGuvywaF8phTeEvsd3glhFM9zq+byJVp34KRK3W+qcDvRrwa3QhNJKMqXl9eJLDRU/08QW/DCq+mnyKdZChmo7c+z17ObADMFzxDV0oC9S8uG3R8TviQVynl//7ocw3sXQBGcLIQ65qxQX8JDYumYIB+5NOGhTiDNV6K0SbdUh734uTd0C4KpBfux2zHANW/B4NfvWoYFwkBifzkzObcAAABGQZ8wRRUsI/8AABR7JVQDO59/TFSBd5nq1EZW3fL+yNFoKmvyVq8byEPxaF7mLI7gH0Z6J72/iznMO4noPWZTFIEw6NbSGAAAACwBn090R/8AAB/ILP8vFKbRZAG0u9xHJBpW0dzCR6WYeGspuJ/xCh+nE7le6AAAADkBn1FqR/8AAB+30OptyqTDd7VndxdKZG2lmEVGepCN1YyB87vu9vVN2eW5saH+DpDWRufZmEj3xGcAAABgQZtWSahBbJlMCE///fEAAAMCXdE1l3pCPkG/bg8ad1fiGw0v03yo1U8AW4ORQhjYK5B34Xye+0DnESfeE9NHxLl2gCpsA9kAtMtF+O4cPWrSAC30iCM5FHpLeaJ49TSQAAAAMkGfdEUVLCP/AAAUeycFr+Lk4joIRlL0ZSStNl6077BoKNi7kGtHAbjhjl7NB8MDBHtAAAAAPwGfk3RH/wAAH7ZzTb5iSshx0IzBGhtD0CJzs3gxThd5O4+UnVVN8CJXHiCkSvNSwMi0tDQQACcHaVgkJ3zR7QAAACUBn5VqR/8AAB+8qHJ4drkU/8I2sMOecADEEUMdgiHa2MvCfV6AAAAAckGbmkmoQWyZTAhP//3xAAADAkpbvIXSnj5Zfbuk9ZCat/om+4PMLSyf9CUYFifsDnM4BvfAsowcuqAFbiplehYy/i4v/O4EAmGS3DQeziuR98qAglQdUCqCAO3rlOTs7RAAEb2gPA4CGonA86ALdAV5cQAAADRBn7hFFSwj/wAAE+IvCPq+J87N8htIjGobVOvEJ5QdpBnvmybla/aJXqPc5H4umbo/J+jBAAAAMgGf13RH/wAAHwbpB2ILbnjVVRInI0QXn5jGoHC81QaNmecb1DKwDMNZKsQJtD+YdRLMAAAAKgGf2WpH/wAAHwjtNr0YnT16c1g15/Fr61EQaLGrBuhN9pi3+Ur43YSukQAAAGJBm95JqEFsmUwIR//94QAAAwOjv+tYQ2UbXW49a9ndJJmjMnZlq70gXhhreQAA464FQWOSVOcfVEjORnO0rhdbbHcn6+AogdtiiOESiNCLJVmAAI3cKFbWoJmRM9K6mHV4FAAAAEVBn/xFFSwj/wAAE+IvCBw46UdFJAET4dE2ZAMvnd/r68ZfGI54nKB7+JcxEePor7IykS6URqb1DwPp9kbiXostYHD9K7MAAAAqAZ4bdEf/AAAfGCyipK6W5z67Jz3StK0aKzbSRj8w/9VKAVp4DN+yCpNBAAAAJAGeHWpH/wAAHxZnTMk5byzjr/2gJi8CHwau5/Nwe7QJSr6oxwAAAIhBmgJJqEFsmUwI//yEAAANx/jGL7Ne0cFA6XOmjjpn4foO5aU0IG0mncQce5r0Fnl52ve5p+9iXS0Qu1WfIFSaIfyaet6wwBOB1aALvY9GQZa6jPH/WxBlrp8vj7yv93ah9f2Wfjz4/Z7zVSknhdw+/9rRR3eMLW0H0EVJDP4/o1NY+i/rmSdAAAAAT0GeIEUVLCP/AAATYGY3ZzcRSO0nFADcYoupb9bof84iZEUqlL8CQBe5x2dOTqr9nKXjTGOKt/osVZOcJkNAvb6OQxRYzbCAAAECFXU8IUkAAAAqAZ5fdEf/AAAeVnOFAV5/LlrOjiecz8K4NEJBBbTjuynZAAADAAR4KoEfAAAALAGeQWpH/wAAHmZjZ6kmOCU5JqVDw8z6vP/AQNRnHIOfOhFa7LRo7SoI5uWbAAAATkGaQ0moQWyZTAhH//3hAAADA4dNh8AbgLLxTPwuZFsVJaWllLW7lmall9/mUaFpmyzAuIEz1IGqFOv89HgZHWZk8VNuw7voV5jSxfjbLAAAAF5BmmZJ4QpSZTAj//yEAAANx8phspYZWR1j8ynKlnisBWieHe9ycdCDmQdjXvb4wEXqq8kU+fVH4OxJZnVEQMHvb2tdf1CzIApFoJuQATLlvo+hmNdSX/GWiJUm8WCZAAAAPkGehEU0TCP/AAATXZQ1XccCz70Nr+YlxEIPT8/5VHwxGy7IP4MfHY6C5UB/uZwg0YHKkd8d/DvZl3/RV7/NAAAAHwGepWpH/wAAHlyVGHjit/GtRlfqxyFu68w39nZdaoEAAAf3bW9vdgAAAGxtdmhkAAAAAAAAAAAAAAAAAAAD6AAACAwAAQAAAQAAAAAAAAAAAAAAAAEAAAAAAAAAAAAAAAAAAAABAAAAAAAAAAAAAAAAAABAAAAAAAAAAAAAAAAAAAAAAAAAAAAAAAAAAAAAAAAAAgAAByF0cmFrAAAAXHRraGQAAAADAAAAAAAAAAAAAAABAAAAAAAACAwAAAAAAAAAAAAAAAAAAAAAAAEAAAAAAAAAAAAAAAAAAAABAAAAAAAAAAAAAAAAAABAAAAAAlgAAAGQAAAAAAAkZWR0cwAAABxlbHN0AAAAAAAAAAEAAAgMAAACAAABAAAAAAaZbWRpYQAAACBtZGhkAAAAAAAAAAAAAAAAAAAyAAAAZwBVxAAAAAAALWhkbHIAAAAAAAAAAHZpZGUAAAAAAAAAAAAAAABWaWRlb0hhbmRsZXIAAAAGRG1pbmYAAAAUdm1oZAAAAAEAAAAAAAAAAAAAACRkaW5mAAAAHGRyZWYAAAAAAAAAAQAAAAx1cmwgAAAAAQAABgRzdGJsAAAAsHN0c2QAAAAAAAAAAQAAAKBhdmMxAAAAAAAAAAEAAAAAAAAAAAAAAAAAAAAAAlgBkABIAAAASAAAAAAAAAABFUxhdmM2MC4zMS4xMDIgbGlieDI2NAAAAAAAAAAAAAAAGP//AAAANmF2Y0MBZAAf/+EAGWdkAB+s2UCYM+XhAAADAAEAAAMAZA8YMZYBAAZo6+PLIsD9+PgAAAAAFGJ0cnQAAAAAAAB1zwAAdc8AAAAYc3R0cwAAAAAAAAABAAAAZwAAAQAAAAAUc3RzcwAAAAAAAAABAAAAAQAAA0BjdHRzAAAAAAAAAGYAAAABAAACAAAAAAEAAAUAAAAAAQAAAgAAAAABAAAAAAAAAAEAAAEAAAAAAQAABQAAAAABAAACAAAAAAEAAAAAAAAAAQAAAQAAAAABAAAFAAAAAAEAAAIAAAAAAQAAAAAAAAABAAABAAAAAAEAAAUAAAAAAQAAAgAAAAABAAAAAAAAAAEAAAEAAAAAAQAABQAAAAABAAACAAAAAAEAAAAAAAAAAQAAAQAAAAABAAAFAAAAAAEAAAIAAAAAAQAAAAAAAAABAAABAAAAAAEAAAUAAAAAAQAAAgAAAAABAAAAAAAAAAEAAAEAAAAAAQAABQAAAAABAAACAAAAAAEAAAAAAAAAAQAAAQAAAAABAAAFAAAAAAEAAAIAAAAAAQAAAAAAAAABAAABAAAAAAEAAAUAAAAAAQAAAgAAAAABAAAAAAAAAAEAAAEAAAAAAQAABQAAAAABAAACAAAAAAEAAAAAAAAAAQAAAQAAAAABAAAFAAAAAAEAAAIAAAAAAQAAAAAAAAABAAABAAAAAAEAAAUAAAAAAQAAAgAAAAABAAAAAAAAAAEAAAEAAAAAAQAABQAAAAABAAACAAAAAAEAAAAAAAAAAQAAAQAAAAABAAAFAAAAAAEAAAIAAAAAAQAAAAAAAAABAAABAAAAAAEAAAMAAAAAAQAAAQAAAAABAAAFAAAAAAEAAAIAAAAAAQAAAAAAAAABAAABAAAAAAEAAAUAAAAAAQAAAgAAAAABAAAAAAAAAAEAAAEAAAAAAQAABQAAAAABAAACAAAAAAEAAAAAAAAAAQAAAQAAAAABAAAFAAAAAAEAAAIAAAAAAQAAAAAAAAABAAABAAAAAAEAAAUAAAAAAQAAAgAAAAABAAAAAAAAAAEAAAEAAAAAAQAABQAAAAABAAACAAAAAAEAAAAAAAAAAQAAAQAAAAABAAAFAAAAAAEAAAIAAAAAAQAAAAAAAAABAAABAAAAAAEAAAUAAAAAAQAAAgAAAAABAAAAAAAAAAEAAAEAAAAAAQAABQAAAAABAAACAAAAAAEAAAAAAAAAAQAAAQAAAAABAAACAAAAAAEAAAQAAAAAAgAAAQAAAAAcc3RzYwAAAAAAAAABAAAAAQAAAGcAAAABAAABsHN0c3oAAAAAAAAAAAAAAGcAAAQmAAAAogAAACYAAAAwAAAAFAAAAG0AAAAwAAAAIAAAACIAAACZAAAAOQAAACIAAAAvAAAAqAAAADwAAAAjAAAAJAAAAEUAAABGAAAAIwAAABoAAABBAAAAOQAAADEAAAAbAAAAfgAAAC0AAAAsAAAAMgAAAFoAAAAwAAAAHwAAAC4AAAB4AAAAQAAAACoAAAApAAAAfAAAAFIAAAAqAAAAMAAAADwAAAAtAAAAKAAAACUAAAB8AAAALQAAACgAAAAoAAAAVQAAADYAAAAsAAAAKgAAAHsAAAApAAAAOQAAACgAAAA/AAAARwAAACcAAAAtAAAAkgAAADMAAABYAAAAOQAAACoAAAAuAAAAiQAAADQAAAAtAAAAJAAAAKAAAAA2AAAAKAAAADkAAAByAAAARgAAACgAAAAuAAAAvAAAAEoAAAAwAAAAPQAAAGQAAAA2AAAAQwAAACkAAAB2AAAAOAAAADYAAAAuAAAAZgAAAEkAAAAuAAAAKAAAAIwAAABTAAAALgAAADAAAABSAAAAYgAAAEIAAAAjAAAAFHN0Y28AAAAAAAAAAQAAADAAAABidWR0YQAAAFptZXRhAAAAAAAAACFoZGxyAAAAAAAAAABtZGlyYXBwbAAAAAAAAAAAAAAAAC1pbHN0AAAAJal0b28AAAAdZGF0YQAAAAEAAAAATGF2ZjYwLjE2LjEwMA==\" type=\"video/mp4\">\n",
       " Your browser does not support the video tag.\n",
       " </video></div>"
      ],
      "text/plain": [
       "<IPython.core.display.HTML object>"
      ]
     },
     "metadata": {},
     "output_type": "display_data"
    },
    {
     "name": "stdout",
     "output_type": "stream",
     "text": [
      "test/ ex1-episode-500.mp4\n"
     ]
    },
    {
     "data": {
      "text/html": [
       "<div style=\"width: 200px; height: 100px;; border: 1px solid #FF5733;\"><video loop autoplay  width=\"200\"  height=\"100\">\n",
       " <source src=\"data:video/mp4;base64,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\" type=\"video/mp4\">\n",
       " Your browser does not support the video tag.\n",
       " </video></div>"
      ],
      "text/plain": [
       "<IPython.core.display.HTML object>"
      ]
     },
     "metadata": {},
     "output_type": "display_data"
    }
   ],
   "source": [
    "if not skip_training:\n",
    "    # Train Result\n",
    "    video_dir = work_dir/'video'/'CartPole-v1'/'train'\n",
    "    \n",
    "    # List all MP4 files in the directory\n",
    "    mp4_files = [file for file in os.listdir(video_dir) if file.endswith(\".mp4\")]\n",
    "    frame_colors = ['#FF5733', '#33FF57', '#5733FF', '#FFFF33', '#33FFFF', '#FF33FF']\n",
    "    # Display each MP4 file\n",
    "    for i, mp4_file in enumerate(mp4_files):\n",
    "        video_path = os.path.join(video_dir, mp4_file)\n",
    "        video = Video(video_path, embed=True, html_attributes=\"loop autoplay\", width=200, height=100)\n",
    "        frame_color = frame_colors[i % len(frame_colors)]\n",
    "        video_frame = HTML(f'<div style=\"width: 200px; height: 100px;; border: 1px solid #FF5733;\">{video._repr_html_()}</div>')\n",
    "        print(\"test/\",mp4_file)\n",
    "        display(video_frame)"
   ]
  },
  {
   "cell_type": "code",
   "execution_count": 39,
   "id": "47f0e835-79ad-47c7-9984-bfc705927d7b",
   "metadata": {
    "tags": []
   },
   "outputs": [
    {
     "name": "stdout",
     "output_type": "stream",
     "text": [
      "test/ ex1-episode-0.mp4\n"
     ]
    },
    {
     "data": {
      "text/html": [
       "<div style=\"width: 200px; height: 100px;; border: 1px solid #5733FF;\"><video loop autoplay  width=\"200\"  height=\"100\">\n",
       " <source src=\"data:video/mp4;base64,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\" type=\"video/mp4\">\n",
       " Your browser does not support the video tag.\n",
       " </video></div>"
      ],
      "text/plain": [
       "<IPython.core.display.HTML object>"
      ]
     },
     "metadata": {},
     "output_type": "display_data"
    },
    {
     "name": "stdout",
     "output_type": "stream",
     "text": [
      "test/ ex1-episode-1.mp4\n"
     ]
    },
    {
     "data": {
      "text/html": [
       "<div style=\"width: 200px; height: 100px;; border: 1px solid #5733FF;\"><video loop autoplay  width=\"200\"  height=\"100\">\n",
       " <source src=\"data:video/mp4;base64,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\" type=\"video/mp4\">\n",
       " Your browser does not support the video tag.\n",
       " </video></div>"
      ],
      "text/plain": [
       "<IPython.core.display.HTML object>"
      ]
     },
     "metadata": {},
     "output_type": "display_data"
    },
    {
     "name": "stdout",
     "output_type": "stream",
     "text": [
      "test/ ex1-episode-2.mp4\n"
     ]
    },
    {
     "data": {
      "text/html": [
       "<div style=\"width: 200px; height: 100px;; border: 1px solid #5733FF;\"><video loop autoplay  width=\"200\"  height=\"100\">\n",
       " <source src=\"data:video/mp4;base64,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\" type=\"video/mp4\">\n",
       " Your browser does not support the video tag.\n",
       " </video></div>"
      ],
      "text/plain": [
       "<IPython.core.display.HTML object>"
      ]
     },
     "metadata": {},
     "output_type": "display_data"
    },
    {
     "name": "stdout",
     "output_type": "stream",
     "text": [
      "test/ ex1-episode-3.mp4\n"
     ]
    },
    {
     "data": {
      "text/html": [
       "<div style=\"width: 200px; height: 100px;; border: 1px solid #5733FF;\"><video loop autoplay  width=\"200\"  height=\"100\">\n",
       " <source src=\"data:video/mp4;base64,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\" type=\"video/mp4\">\n",
       " Your browser does not support the video tag.\n",
       " </video></div>"
      ],
      "text/plain": [
       "<IPython.core.display.HTML object>"
      ]
     },
     "metadata": {},
     "output_type": "display_data"
    },
    {
     "name": "stdout",
     "output_type": "stream",
     "text": [
      "test/ ex1-episode-4.mp4\n"
     ]
    },
    {
     "data": {
      "text/html": [
       "<div style=\"width: 200px; height: 100px;; border: 1px solid #5733FF;\"><video loop autoplay  width=\"200\"  height=\"100\">\n",
       " <source src=\"data:video/mp4;base64,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\" type=\"video/mp4\">\n",
       " Your browser does not support the video tag.\n",
       " </video></div>"
      ],
      "text/plain": [
       "<IPython.core.display.HTML object>"
      ]
     },
     "metadata": {},
     "output_type": "display_data"
    },
    {
     "name": "stdout",
     "output_type": "stream",
     "text": [
      "test/ ex1-episode-5.mp4\n"
     ]
    },
    {
     "data": {
      "text/html": [
       "<div style=\"width: 200px; height: 100px;; border: 1px solid #5733FF;\"><video loop autoplay  width=\"200\"  height=\"100\">\n",
       " <source src=\"data:video/mp4;base64,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\" type=\"video/mp4\">\n",
       " Your browser does not support the video tag.\n",
       " </video></div>"
      ],
      "text/plain": [
       "<IPython.core.display.HTML object>"
      ]
     },
     "metadata": {},
     "output_type": "display_data"
    },
    {
     "name": "stdout",
     "output_type": "stream",
     "text": [
      "test/ ex1-episode-6.mp4\n"
     ]
    },
    {
     "data": {
      "text/html": [
       "<div style=\"width: 200px; height: 100px;; border: 1px solid #5733FF;\"><video loop autoplay  width=\"200\"  height=\"100\">\n",
       " <source src=\"data:video/mp4;base64,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\" type=\"video/mp4\">\n",
       " Your browser does not support the video tag.\n",
       " </video></div>"
      ],
      "text/plain": [
       "<IPython.core.display.HTML object>"
      ]
     },
     "metadata": {},
     "output_type": "display_data"
    },
    {
     "name": "stdout",
     "output_type": "stream",
     "text": [
      "test/ ex1-episode-7.mp4\n"
     ]
    },
    {
     "data": {
      "text/html": [
       "<div style=\"width: 200px; height: 100px;; border: 1px solid #5733FF;\"><video loop autoplay  width=\"200\"  height=\"100\">\n",
       " <source src=\"data:video/mp4;base64,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\" type=\"video/mp4\">\n",
       " Your browser does not support the video tag.\n",
       " </video></div>"
      ],
      "text/plain": [
       "<IPython.core.display.HTML object>"
      ]
     },
     "metadata": {},
     "output_type": "display_data"
    },
    {
     "name": "stdout",
     "output_type": "stream",
     "text": [
      "test/ ex1-episode-8.mp4\n"
     ]
    },
    {
     "data": {
      "text/html": [
       "<div style=\"width: 200px; height: 100px;; border: 1px solid #5733FF;\"><video loop autoplay  width=\"200\"  height=\"100\">\n",
       " <source src=\"data:video/mp4;base64,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\" type=\"video/mp4\">\n",
       " Your browser does not support the video tag.\n",
       " </video></div>"
      ],
      "text/plain": [
       "<IPython.core.display.HTML object>"
      ]
     },
     "metadata": {},
     "output_type": "display_data"
    },
    {
     "name": "stdout",
     "output_type": "stream",
     "text": [
      "test/ ex1-episode-9.mp4\n"
     ]
    },
    {
     "data": {
      "text/html": [
       "<div style=\"width: 200px; height: 100px;; border: 1px solid #5733FF;\"><video loop autoplay  width=\"200\"  height=\"100\">\n",
       " <source src=\"data:video/mp4;base64,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\" type=\"video/mp4\">\n",
       " Your browser does not support the video tag.\n",
       " </video></div>"
      ],
      "text/plain": [
       "<IPython.core.display.HTML object>"
      ]
     },
     "metadata": {},
     "output_type": "display_data"
    }
   ],
   "source": [
    "if not skip_training:\n",
    "    # Test Result\n",
    "    \n",
    "    video_dir = work_dir/'video'/'CartPole-v1'/'test'\n",
    "    \n",
    "    # List all MP4 files in the directory\n",
    "    mp4_files = [file for file in os.listdir(video_dir) if file.endswith(\".mp4\")]\n",
    "    frame_colors = ['#FF5733', '#33FF57', '#5733FF', '#FFFF33', '#33FFFF', '#FF33FF']\n",
    "    # Display each MP4 file\n",
    "    for i, mp4_file in enumerate(mp4_files):\n",
    "        video_path = os.path.join(video_dir, mp4_file)\n",
    "        video = Video(video_path, embed=True, html_attributes=\"loop autoplay\", width=200, height=100)\n",
    "        frame_color = frame_colors[i % len(frame_colors)]\n",
    "        video_frame = HTML(f'<div style=\"width: 200px; height: 100px;; border: 1px solid #5733FF;\">{video._repr_html_()}</div>')\n",
    "        print(\"test/\",mp4_file)\n",
    "        display(video_frame)"
   ]
  },
  {
   "cell_type": "markdown",
   "id": "b9298a34",
   "metadata": {
    "deletable": false,
    "editable": false,
    "nbgrader": {
     "cell_type": "markdown",
     "checksum": "29f3456bbec5bacc9d93ec415d74e5d3",
     "grade": false,
     "grade_id": "cell-9b1e05f80922c2bf",
     "locked": true,
     "schema_version": 3,
     "solution": false,
     "task": false
    },
    "tags": []
   },
   "source": [
    "<a id='Q1'></a>\n",
    "<div class=\" alert alert-warning\">\n",
    "    <h3><b>Student Question 1.1</b> Learning (10 points) </h3> \n",
    "\n",
    "Test the trained model from Task 1 five times with different random seeds. Did the same model, trained to balance for 100 timesteps, learn to always balance the pole for 1000 timesteps? Why/why not?\n",
    "    \n",
    "🔝\t<a href='#TOC'><b>Table of Contents</b></a>\n",
    "</div>\n"
   ]
  },
  {
   "cell_type": "code",
   "execution_count": 13,
   "id": "e76718b1",
   "metadata": {
    "tags": []
   },
   "outputs": [],
   "source": [
    "#Evaluate the trained model by setting 5 different random seeds chosen by you\n",
    "#Type 5 different  random seeds  in eval_seeds array\n",
    "eval_seeds =  [ 186, 225, 594, 783, 990]"
   ]
  },
  {
   "cell_type": "code",
   "execution_count": 14,
   "id": "1549ae65",
   "metadata": {
    "deletable": false,
    "editable": false,
    "nbgrader": {
     "cell_type": "code",
     "checksum": "55507b4aacb261bb5e0c39e9fb9933f9",
     "grade": true,
     "grade_id": "cell-a885538088286a64",
     "locked": true,
     "points": 0,
     "schema_version": 3,
     "solution": false,
     "task": false
    },
    "tags": []
   },
   "outputs": [],
   "source": [
    "assert len(set(eval_seeds)) == 5"
   ]
  },
  {
   "cell_type": "code",
   "execution_count": 15,
   "id": "8ea940e9",
   "metadata": {
    "deletable": false,
    "editable": false,
    "nbgrader": {
     "cell_type": "code",
     "checksum": "ebb50086ad7448789468612578cd825d",
     "grade": true,
     "grade_id": "cell-2f9ca7392eabd6d2",
     "locked": true,
     "points": 0,
     "schema_version": 3,
     "solution": false,
     "task": false
    },
    "tags": []
   },
   "outputs": [
    {
     "name": "stdout",
     "output_type": "stream",
     "text": [
      "Numpy/Torch/Random Seed:  186\n",
      "Loading model from /notebooks/rl2025/ex1/results/model/CartPole-v1_params.pt ...\n",
      "Testing...\n",
      "Test ep reward: 137.0 seed: 186\n",
      "Average test reward: 137.0 episode length: 137.0\n",
      "Numpy/Torch/Random Seed:  225\n",
      "Loading model from /notebooks/rl2025/ex1/results/model/CartPole-v1_params.pt ...\n",
      "Testing...\n",
      "Test ep reward: 135.0 seed: 225\n",
      "Average test reward: 135.0 episode length: 135.0\n",
      "Numpy/Torch/Random Seed:  594\n",
      "Loading model from /notebooks/rl2025/ex1/results/model/CartPole-v1_params.pt ...\n",
      "Testing...\n",
      "Test ep reward: 124.0 seed: 594\n",
      "Average test reward: 124.0 episode length: 124.0\n",
      "Numpy/Torch/Random Seed:  783\n",
      "Loading model from /notebooks/rl2025/ex1/results/model/CartPole-v1_params.pt ...\n",
      "Testing...\n",
      "Test ep reward: 118.0 seed: 783\n",
      "Average test reward: 118.0 episode length: 118.0\n",
      "Numpy/Torch/Random Seed:  990\n",
      "Loading model from /notebooks/rl2025/ex1/results/model/CartPole-v1_params.pt ...\n",
      "Testing...\n",
      "Test ep reward: 112.0 seed: 990\n",
      "Average test reward: 112.0 episode length: 112.0\n"
     ]
    }
   ],
   "source": [
    "%%capture --no-stdout\n",
    "def question1_1_evaluate1(eval_seeds):\n",
    "    mean_reward = []\n",
    "\n",
    "    for seed in eval_seeds:\n",
    "        acc_rewards = t.test(episodes=1, cfg_path=Path().cwd()/'cfg'/'cartpole_v1.yaml', \n",
    "            cfg_args=dict(testing=True,save_video=False, save_logging=False, save_model=False, \n",
    "            seed=seed, max_episode_steps=1000, model_name=\"CartPole-v1\"))\n",
    "        mean_reward.append(acc_rewards)\n",
    "\n",
    "    return np.mean(mean_reward)\n",
    "\n",
    "assert question1_1_evaluate1(eval_seeds) > 100"
   ]
  },
  {
   "cell_type": "markdown",
   "id": "5d817076",
   "metadata": {
    "deletable": false,
    "editable": false,
    "nbgrader": {
     "cell_type": "markdown",
     "checksum": "a8a797866432c49e79a07cbe95f60a7d",
     "grade": false,
     "grade_id": "cell-34afac26642e2bc4",
     "locked": true,
     "schema_version": 3,
     "solution": false,
     "task": false
    }
   },
   "source": [
    "### Question:\n",
    "Did the same model consistently balance the pole for 1000 timesteps? There are multiple correct answers. Choose the one you think is most appropriate.\n",
    "\n",
    "**Options:**\n",
    "Choose **only one**:\n",
    "\n",
    "1. No, the agent generally failed around 100-200 timesteps because it encountered unfamiliar states.\n",
    "\n",
    "2. Yes, the agent balanced the pole for 1000 timesteps in every test due to a perfectly learned policy.\n",
    "\n",
    "3. No, although the agent sometimes balanced the pole for 1000 timesteps, it typically failed due to limited generalization to new states.\n",
    "\n",
    "4. No, the agent frequently moved out of bounds or the pole tilted too much, showing poor adaptation.\n",
    "\n",
    "5. Yes, the agent demonstrated perfect control in all tests due to effective training.\n",
    "\n",
    "6. No, the agent's performance varied significantly with different random seeds, indicating inconsistency in learned behavior."
   ]
  },
  {
   "cell_type": "code",
   "execution_count": 16,
   "id": "3b571667",
   "metadata": {
    "tags": []
   },
   "outputs": [],
   "source": [
    "sq1_1 = 4 # Answer question 1.1 with the appropriate answer number"
   ]
  },
  {
   "cell_type": "code",
   "execution_count": 17,
   "id": "53d85d22",
   "metadata": {
    "deletable": false,
    "editable": false,
    "nbgrader": {
     "cell_type": "code",
     "checksum": "11c62ac2a464b078e231c9be051ec0cc",
     "grade": true,
     "grade_id": "cell-c0b2457bfc16e0b6",
     "locked": true,
     "points": 0,
     "schema_version": 3,
     "solution": false,
     "task": false
    },
    "tags": []
   },
   "outputs": [],
   "source": [
    "assert sq1_1 in range(1,8)"
   ]
  },
  {
   "cell_type": "markdown",
   "id": "d0b1a1ca",
   "metadata": {},
   "source": [
    "The following cells are used for grading"
   ]
  },
  {
   "cell_type": "code",
   "execution_count": null,
   "id": "a14c81c7",
   "metadata": {
    "deletable": false,
    "editable": false,
    "nbgrader": {
     "cell_type": "code",
     "checksum": "d5b622a3c44df9ba7ba3b01cfcc246d6",
     "grade": true,
     "grade_id": "cell-c5e675812f807564",
     "locked": true,
     "points": 10,
     "schema_version": 3,
     "solution": false,
     "task": false
    },
    "tags": []
   },
   "outputs": [],
   "source": []
  },
  {
   "cell_type": "markdown",
   "id": "9f3b5ed9",
   "metadata": {
    "deletable": false,
    "editable": false,
    "nbgrader": {
     "cell_type": "markdown",
     "checksum": "404aae2a11c55e21c7625ae8a845b515",
     "grade": false,
     "grade_id": "cell-6fdccf7da0340917",
     "locked": true,
     "schema_version": 3,
     "solution": false,
     "task": false
    }
   },
   "source": [
    "<a id='T2'></a>\n",
    "<div class=\" alert alert-warning\">\n",
    "    <h3><b>Student Task 2.</b> Investigating Training Performance (12 points) </h3> \n",
    "\n",
    "Repeat the experiment in Task 1 five times, each time training the model from scratch with 100 timesteps and testing it for 1000 timesteps. Use a different seed number for each training/testing cycle. You can use the box below to write a small script to do this. Use the result textbox below to report the average test reward for each repeat. \n",
    "    \n",
    "🔝\t<a href='#TOC'><b>Table of Contents</b></a>\n",
    "</div>\n"
   ]
  },
  {
   "cell_type": "markdown",
   "id": "aa8b9768",
   "metadata": {
    "deletable": false,
    "editable": false,
    "nbgrader": {
     "cell_type": "markdown",
     "checksum": "0e6bbcf84dee7d5a7e4e77f40fef39da",
     "grade": false,
     "grade_id": "cell-52c4064985fce5f1",
     "locked": true,
     "schema_version": 3,
     "solution": false,
     "task": false
    }
   },
   "source": [
    "Make sure to change the model_name for each agent to the ones given and and that the respective parameter file is saved in results/model/\n",
    "\n",
    "In order to get the points for this exercise each of the agents must have a test accuracy of higher than 100."
   ]
  },
  {
   "cell_type": "code",
   "execution_count": 23,
   "id": "01cb1f80",
   "metadata": {
    "scrolled": true,
    "tags": []
   },
   "outputs": [
    {
     "name": "stdout",
     "output_type": "stream",
     "text": [
      "Numpy/Torch/Random Seed:  0\n",
      "Configuration Settings: {'exp_name': 'ex1', 'seed': 0, 'env_name': 'CartPole-v1', 'model_name': 'CartPole-v1-model0', 'max_episode_steps': 100, 'train_episodes': 500, 'batch_size': 64, 'min_update_samples': 2000, 'testing': False, 'model_path': 'default', 'save_video': True, 'save_model': True, 'save_logging': True, 'silent': False, 'use_wandb': True, 'run_suffix': 0}\n",
      "Training device: cpu\n",
      "Observation space dimensions: 4\n",
      "Action space dimensions: 2\n",
      "\n",
      "Episode 0 finished. Total reward: 11.0 (11 timesteps)\n",
      "Episode 5 finished. Total reward: 13.0 (13 timesteps)\n",
      "Episode 10 finished. Total reward: 20.0 (20 timesteps)\n",
      "Episode 15 finished. Total reward: 45.0 (45 timesteps)\n",
      "Episode 20 finished. Total reward: 16.0 (16 timesteps)\n",
      "Episode 25 finished. Total reward: 11.0 (11 timesteps)\n",
      "Episode 30 finished. Total reward: 14.0 (14 timesteps)\n",
      "Episode 35 finished. Total reward: 30.0 (30 timesteps)\n",
      "Episode 40 finished. Total reward: 20.0 (20 timesteps)\n",
      "Episode 45 finished. Total reward: 53.0 (53 timesteps)\n",
      "Episode 50 finished. Total reward: 24.0 (24 timesteps)\n",
      "Episode 55 finished. Total reward: 12.0 (12 timesteps)\n",
      "Episode 60 finished. Total reward: 20.0 (20 timesteps)\n",
      "Episode 65 finished. Total reward: 9.0 (9 timesteps)\n",
      "Episode 70 finished. Total reward: 15.0 (15 timesteps)\n",
      "Episode 75 finished. Total reward: 11.0 (11 timesteps)\n",
      "Episode 80 finished. Total reward: 24.0 (24 timesteps)\n",
      "Episode 85 finished. Total reward: 22.0 (22 timesteps)\n",
      "Episode 90 finished. Total reward: 30.0 (30 timesteps)\n",
      "Episode 95 finished. Total reward: 18.0 (18 timesteps)\n",
      "Updating the policy...\n",
      "Updating finished!\n",
      "Episode 100 finished. Total reward: 20.0 (20 timesteps)\n",
      "Episode 105 finished. Total reward: 52.0 (52 timesteps)\n",
      "Episode 110 finished. Total reward: 33.0 (33 timesteps)\n",
      "Episode 115 finished. Total reward: 44.0 (44 timesteps)\n",
      "Episode 120 finished. Total reward: 69.0 (69 timesteps)\n",
      "Episode 125 finished. Total reward: 13.0 (13 timesteps)\n",
      "Episode 130 finished. Total reward: 29.0 (29 timesteps)\n",
      "Episode 135 finished. Total reward: 50.0 (50 timesteps)\n",
      "Episode 140 finished. Total reward: 13.0 (13 timesteps)\n",
      "Episode 145 finished. Total reward: 18.0 (18 timesteps)\n",
      "Episode 150 finished. Total reward: 20.0 (20 timesteps)\n",
      "Episode 155 finished. Total reward: 56.0 (56 timesteps)\n",
      "Updating the policy...\n",
      "Updating finished!\n",
      "Episode 160 finished. Total reward: 26.0 (26 timesteps)\n",
      "Episode 165 finished. Total reward: 30.0 (30 timesteps)\n",
      "Episode 170 finished. Total reward: 27.0 (27 timesteps)\n",
      "Episode 175 finished. Total reward: 70.0 (70 timesteps)\n",
      "Episode 180 finished. Total reward: 14.0 (14 timesteps)\n",
      "Episode 185 finished. Total reward: 21.0 (21 timesteps)\n",
      "Episode 190 finished. Total reward: 15.0 (15 timesteps)\n",
      "Episode 195 finished. Total reward: 24.0 (24 timesteps)\n",
      "Episode 200 finished. Total reward: 38.0 (38 timesteps)\n",
      "Episode 205 finished. Total reward: 23.0 (23 timesteps)\n",
      "Updating the policy...\n",
      "Updating finished!\n",
      "Episode 210 finished. Total reward: 87.0 (87 timesteps)\n",
      "Episode 215 finished. Total reward: 56.0 (56 timesteps)\n",
      "Episode 220 finished. Total reward: 35.0 (35 timesteps)\n",
      "Episode 225 finished. Total reward: 100.0 (100 timesteps)\n",
      "Episode 230 finished. Total reward: 17.0 (17 timesteps)\n",
      "Episode 235 finished. Total reward: 38.0 (38 timesteps)\n",
      "Episode 240 finished. Total reward: 15.0 (15 timesteps)\n",
      "Updating the policy...\n",
      "Updating finished!\n",
      "Episode 245 finished. Total reward: 100.0 (100 timesteps)\n",
      "Episode 250 finished. Total reward: 13.0 (13 timesteps)\n",
      "Episode 255 finished. Total reward: 100.0 (100 timesteps)\n",
      "Episode 260 finished. Total reward: 100.0 (100 timesteps)\n",
      "Episode 265 finished. Total reward: 22.0 (22 timesteps)\n",
      "Updating the policy...\n",
      "Updating finished!\n",
      "Episode 270 finished. Total reward: 100.0 (100 timesteps)\n",
      "Episode 275 finished. Total reward: 98.0 (98 timesteps)\n",
      "Episode 280 finished. Total reward: 100.0 (100 timesteps)\n",
      "Episode 285 finished. Total reward: 100.0 (100 timesteps)\n",
      "Episode 290 finished. Total reward: 100.0 (100 timesteps)\n",
      "Updating the policy...\n",
      "Updating finished!\n",
      "Episode 295 finished. Total reward: 100.0 (100 timesteps)\n",
      "Episode 300 finished. Total reward: 100.0 (100 timesteps)\n",
      "Episode 305 finished. Total reward: 62.0 (62 timesteps)\n",
      "Episode 310 finished. Total reward: 100.0 (100 timesteps)\n",
      "Updating the policy...\n",
      "Updating finished!\n",
      "Episode 315 finished. Total reward: 100.0 (100 timesteps)\n",
      "Episode 320 finished. Total reward: 100.0 (100 timesteps)\n",
      "Episode 325 finished. Total reward: 100.0 (100 timesteps)\n",
      "Episode 330 finished. Total reward: 100.0 (100 timesteps)\n",
      "Updating the policy...\n",
      "Updating finished!\n",
      "Episode 335 finished. Total reward: 100.0 (100 timesteps)\n",
      "Episode 340 finished. Total reward: 100.0 (100 timesteps)\n",
      "Episode 345 finished. Total reward: 100.0 (100 timesteps)\n",
      "Episode 350 finished. Total reward: 42.0 (42 timesteps)\n",
      "Updating the policy...\n",
      "Updating finished!\n",
      "Episode 355 finished. Total reward: 100.0 (100 timesteps)\n",
      "Episode 360 finished. Total reward: 100.0 (100 timesteps)\n",
      "Episode 365 finished. Total reward: 100.0 (100 timesteps)\n",
      "Episode 370 finished. Total reward: 100.0 (100 timesteps)\n",
      "Updating the policy...\n",
      "Updating finished!\n",
      "Episode 375 finished. Total reward: 100.0 (100 timesteps)\n",
      "Episode 380 finished. Total reward: 97.0 (97 timesteps)\n",
      "Episode 385 finished. Total reward: 100.0 (100 timesteps)\n",
      "Episode 390 finished. Total reward: 100.0 (100 timesteps)\n",
      "Updating the policy...\n",
      "Updating finished!\n",
      "Episode 395 finished. Total reward: 99.0 (99 timesteps)\n",
      "Episode 400 finished. Total reward: 100.0 (100 timesteps)\n",
      "Episode 405 finished. Total reward: 100.0 (100 timesteps)\n",
      "Episode 410 finished. Total reward: 100.0 (100 timesteps)\n",
      "Updating the policy...\n",
      "Updating finished!\n",
      "Episode 415 finished. Total reward: 100.0 (100 timesteps)\n",
      "Episode 420 finished. Total reward: 100.0 (100 timesteps)\n",
      "Episode 425 finished. Total reward: 100.0 (100 timesteps)\n",
      "Episode 430 finished. Total reward: 100.0 (100 timesteps)\n",
      "Updating the policy...\n",
      "Updating finished!\n",
      "Episode 435 finished. Total reward: 100.0 (100 timesteps)\n",
      "Episode 440 finished. Total reward: 100.0 (100 timesteps)\n",
      "Episode 445 finished. Total reward: 100.0 (100 timesteps)\n",
      "Episode 450 finished. Total reward: 54.0 (54 timesteps)\n",
      "Episode 455 finished. Total reward: 100.0 (100 timesteps)\n",
      "Updating the policy...\n",
      "Updating finished!\n",
      "Episode 460 finished. Total reward: 100.0 (100 timesteps)\n",
      "Episode 465 finished. Total reward: 100.0 (100 timesteps)\n",
      "Episode 470 finished. Total reward: 100.0 (100 timesteps)\n",
      "Episode 475 finished. Total reward: 100.0 (100 timesteps)\n",
      "Updating the policy...\n",
      "Updating finished!\n",
      "Episode 480 finished. Total reward: 100.0 (100 timesteps)\n",
      "Episode 485 finished. Total reward: 100.0 (100 timesteps)\n",
      "Episode 490 finished. Total reward: 67.0 (67 timesteps)\n",
      "Episode 495 finished. Total reward: 100.0 (100 timesteps)\n",
      "Updating the policy...\n",
      "Updating finished!\n",
      "Episode 500 finished. Total reward: 100.0 (100 timesteps)\n",
      "Model saved to /notebooks/rl2025/ex1/results/model/CartPole-v1-model0_params.pt\n",
      "------Training finished.------\n",
      "Numpy/Torch/Random Seed:  0\n",
      "Loading model from /notebooks/rl2025/ex1/results/model/CartPole-v1-model0_params.pt ...\n",
      "Testing...\n",
      "Test ep reward: 129.0 seed: 0\n",
      "Average test reward: 129.0 episode length: 129.0\n",
      "CartPole-v1-model0 (seed=0) test reward: 129.0\n",
      "Numpy/Torch/Random Seed:  1\n",
      "Configuration Settings: {'exp_name': 'ex1', 'seed': 1, 'env_name': 'CartPole-v1', 'model_name': 'CartPole-v1-model1', 'max_episode_steps': 100, 'train_episodes': 500, 'batch_size': 64, 'min_update_samples': 2000, 'testing': False, 'model_path': 'default', 'save_video': True, 'save_model': True, 'save_logging': True, 'silent': False, 'use_wandb': True, 'run_suffix': 0}\n",
      "Training device: cpu\n",
      "Observation space dimensions: 4\n",
      "Action space dimensions: 2\n",
      "\n",
      "Episode 0 finished. Total reward: 14.0 (14 timesteps)\n",
      "Episode 5 finished. Total reward: 38.0 (38 timesteps)\n",
      "Episode 10 finished. Total reward: 14.0 (14 timesteps)\n",
      "Episode 15 finished. Total reward: 83.0 (83 timesteps)\n",
      "Episode 20 finished. Total reward: 12.0 (12 timesteps)\n",
      "Episode 25 finished. Total reward: 18.0 (18 timesteps)\n",
      "Episode 30 finished. Total reward: 36.0 (36 timesteps)\n",
      "Episode 35 finished. Total reward: 16.0 (16 timesteps)\n",
      "Episode 40 finished. Total reward: 29.0 (29 timesteps)\n",
      "Episode 45 finished. Total reward: 15.0 (15 timesteps)\n",
      "Episode 50 finished. Total reward: 15.0 (15 timesteps)\n",
      "Episode 55 finished. Total reward: 27.0 (27 timesteps)\n",
      "Episode 60 finished. Total reward: 33.0 (33 timesteps)\n",
      "Episode 65 finished. Total reward: 11.0 (11 timesteps)\n",
      "Episode 70 finished. Total reward: 27.0 (27 timesteps)\n",
      "Episode 75 finished. Total reward: 13.0 (13 timesteps)\n",
      "Episode 80 finished. Total reward: 9.0 (9 timesteps)\n",
      "Episode 85 finished. Total reward: 19.0 (19 timesteps)\n",
      "Updating the policy...\n",
      "Updating finished!\n",
      "Episode 90 finished. Total reward: 58.0 (58 timesteps)\n",
      "Episode 95 finished. Total reward: 13.0 (13 timesteps)\n",
      "Episode 100 finished. Total reward: 17.0 (17 timesteps)\n",
      "Episode 105 finished. Total reward: 17.0 (17 timesteps)\n",
      "Episode 110 finished. Total reward: 27.0 (27 timesteps)\n",
      "Episode 115 finished. Total reward: 9.0 (9 timesteps)\n",
      "Episode 120 finished. Total reward: 17.0 (17 timesteps)\n",
      "Episode 125 finished. Total reward: 13.0 (13 timesteps)\n",
      "Episode 130 finished. Total reward: 26.0 (26 timesteps)\n",
      "Episode 135 finished. Total reward: 9.0 (9 timesteps)\n",
      "Episode 140 finished. Total reward: 89.0 (89 timesteps)\n",
      "Episode 145 finished. Total reward: 14.0 (14 timesteps)\n",
      "Episode 150 finished. Total reward: 30.0 (30 timesteps)\n",
      "Episode 155 finished. Total reward: 27.0 (27 timesteps)\n",
      "Episode 160 finished. Total reward: 23.0 (23 timesteps)\n",
      "Updating the policy...\n",
      "Updating finished!\n",
      "Episode 165 finished. Total reward: 24.0 (24 timesteps)\n",
      "Episode 170 finished. Total reward: 28.0 (28 timesteps)\n",
      "Episode 175 finished. Total reward: 32.0 (32 timesteps)\n",
      "Episode 180 finished. Total reward: 27.0 (27 timesteps)\n",
      "Episode 185 finished. Total reward: 65.0 (65 timesteps)\n",
      "Episode 190 finished. Total reward: 99.0 (99 timesteps)\n",
      "Episode 195 finished. Total reward: 30.0 (30 timesteps)\n",
      "Episode 200 finished. Total reward: 25.0 (25 timesteps)\n",
      "Episode 205 finished. Total reward: 29.0 (29 timesteps)\n",
      "Episode 210 finished. Total reward: 27.0 (27 timesteps)\n",
      "Updating the policy...\n",
      "Updating finished!\n",
      "Episode 215 finished. Total reward: 100.0 (100 timesteps)\n",
      "Episode 220 finished. Total reward: 100.0 (100 timesteps)\n",
      "Episode 225 finished. Total reward: 59.0 (59 timesteps)\n",
      "Episode 230 finished. Total reward: 74.0 (74 timesteps)\n",
      "Episode 235 finished. Total reward: 49.0 (49 timesteps)\n",
      "Episode 240 finished. Total reward: 96.0 (96 timesteps)\n",
      "Episode 245 finished. Total reward: 73.0 (73 timesteps)\n",
      "Updating the policy...\n",
      "Updating finished!\n",
      "Episode 250 finished. Total reward: 100.0 (100 timesteps)\n",
      "Episode 255 finished. Total reward: 100.0 (100 timesteps)\n",
      "Episode 260 finished. Total reward: 52.0 (52 timesteps)\n",
      "Episode 265 finished. Total reward: 100.0 (100 timesteps)\n",
      "Episode 270 finished. Total reward: 18.0 (18 timesteps)\n",
      "Updating the policy...\n",
      "Updating finished!\n",
      "Episode 275 finished. Total reward: 100.0 (100 timesteps)\n",
      "Episode 280 finished. Total reward: 93.0 (93 timesteps)\n",
      "Episode 285 finished. Total reward: 100.0 (100 timesteps)\n",
      "Episode 290 finished. Total reward: 100.0 (100 timesteps)\n",
      "Updating the policy...\n",
      "Updating finished!\n",
      "Episode 295 finished. Total reward: 100.0 (100 timesteps)\n",
      "Episode 300 finished. Total reward: 52.0 (52 timesteps)\n",
      "Episode 305 finished. Total reward: 100.0 (100 timesteps)\n",
      "Episode 310 finished. Total reward: 100.0 (100 timesteps)\n",
      "Updating the policy...\n",
      "Updating finished!\n",
      "Episode 315 finished. Total reward: 100.0 (100 timesteps)\n",
      "Episode 320 finished. Total reward: 100.0 (100 timesteps)\n",
      "Episode 325 finished. Total reward: 100.0 (100 timesteps)\n",
      "Episode 330 finished. Total reward: 100.0 (100 timesteps)\n",
      "Episode 335 finished. Total reward: 40.0 (40 timesteps)\n",
      "Episode 340 finished. Total reward: 42.0 (42 timesteps)\n",
      "Updating the policy...\n",
      "Updating finished!\n",
      "Episode 345 finished. Total reward: 100.0 (100 timesteps)\n",
      "Episode 350 finished. Total reward: 100.0 (100 timesteps)\n",
      "Episode 355 finished. Total reward: 100.0 (100 timesteps)\n",
      "Episode 360 finished. Total reward: 100.0 (100 timesteps)\n",
      "Updating the policy...\n",
      "Updating finished!\n",
      "Episode 365 finished. Total reward: 100.0 (100 timesteps)\n",
      "Episode 370 finished. Total reward: 100.0 (100 timesteps)\n",
      "Episode 375 finished. Total reward: 100.0 (100 timesteps)\n",
      "Episode 380 finished. Total reward: 100.0 (100 timesteps)\n",
      "Updating the policy...\n",
      "Updating finished!\n",
      "Episode 385 finished. Total reward: 100.0 (100 timesteps)\n",
      "Episode 390 finished. Total reward: 100.0 (100 timesteps)\n",
      "Episode 395 finished. Total reward: 100.0 (100 timesteps)\n",
      "Episode 400 finished. Total reward: 35.0 (35 timesteps)\n",
      "Updating the policy...\n",
      "Updating finished!\n",
      "Episode 405 finished. Total reward: 100.0 (100 timesteps)\n",
      "Episode 410 finished. Total reward: 100.0 (100 timesteps)\n",
      "Episode 415 finished. Total reward: 100.0 (100 timesteps)\n",
      "Episode 420 finished. Total reward: 100.0 (100 timesteps)\n",
      "Episode 425 finished. Total reward: 100.0 (100 timesteps)\n",
      "Updating the policy...\n",
      "Updating finished!\n",
      "Episode 430 finished. Total reward: 100.0 (100 timesteps)\n",
      "Episode 435 finished. Total reward: 100.0 (100 timesteps)\n",
      "Episode 440 finished. Total reward: 100.0 (100 timesteps)\n",
      "Episode 445 finished. Total reward: 100.0 (100 timesteps)\n",
      "Updating the policy...\n",
      "Updating finished!\n",
      "Episode 450 finished. Total reward: 100.0 (100 timesteps)\n",
      "Episode 455 finished. Total reward: 98.0 (98 timesteps)\n",
      "Episode 460 finished. Total reward: 98.0 (98 timesteps)\n",
      "Episode 465 finished. Total reward: 98.0 (98 timesteps)\n",
      "Updating the policy...\n",
      "Updating finished!\n",
      "Episode 470 finished. Total reward: 100.0 (100 timesteps)\n",
      "Episode 475 finished. Total reward: 90.0 (90 timesteps)\n",
      "Episode 480 finished. Total reward: 100.0 (100 timesteps)\n",
      "Episode 485 finished. Total reward: 100.0 (100 timesteps)\n",
      "Updating the policy...\n",
      "Updating finished!\n",
      "Episode 490 finished. Total reward: 100.0 (100 timesteps)\n",
      "Episode 495 finished. Total reward: 100.0 (100 timesteps)\n",
      "Episode 500 finished. Total reward: 100.0 (100 timesteps)\n",
      "Model saved to /notebooks/rl2025/ex1/results/model/CartPole-v1-model1_params.pt\n",
      "------Training finished.------\n",
      "Numpy/Torch/Random Seed:  1\n",
      "Loading model from /notebooks/rl2025/ex1/results/model/CartPole-v1-model1_params.pt ...\n",
      "Testing...\n",
      "Test ep reward: 122.0 seed: 1\n",
      "Average test reward: 122.0 episode length: 122.0\n",
      "CartPole-v1-model1 (seed=1) test reward: 122.0\n",
      "Numpy/Torch/Random Seed:  2\n",
      "Configuration Settings: {'exp_name': 'ex1', 'seed': 2, 'env_name': 'CartPole-v1', 'model_name': 'CartPole-v1-model2', 'max_episode_steps': 100, 'train_episodes': 500, 'batch_size': 64, 'min_update_samples': 2000, 'testing': False, 'model_path': 'default', 'save_video': True, 'save_model': True, 'save_logging': True, 'silent': False, 'use_wandb': True, 'run_suffix': 0}\n",
      "Training device: cpu\n",
      "Observation space dimensions: 4\n",
      "Action space dimensions: 2\n",
      "\n",
      "Episode 0 finished. Total reward: 13.0 (13 timesteps)\n",
      "Episode 5 finished. Total reward: 16.0 (16 timesteps)\n",
      "Episode 10 finished. Total reward: 18.0 (18 timesteps)\n",
      "Episode 15 finished. Total reward: 17.0 (17 timesteps)\n",
      "Episode 20 finished. Total reward: 28.0 (28 timesteps)\n",
      "Episode 25 finished. Total reward: 40.0 (40 timesteps)\n",
      "Episode 30 finished. Total reward: 22.0 (22 timesteps)\n",
      "Episode 35 finished. Total reward: 13.0 (13 timesteps)\n",
      "Episode 40 finished. Total reward: 16.0 (16 timesteps)\n",
      "Episode 45 finished. Total reward: 18.0 (18 timesteps)\n",
      "Episode 50 finished. Total reward: 35.0 (35 timesteps)\n",
      "Episode 55 finished. Total reward: 12.0 (12 timesteps)\n",
      "Episode 60 finished. Total reward: 10.0 (10 timesteps)\n",
      "Episode 65 finished. Total reward: 27.0 (27 timesteps)\n",
      "Episode 70 finished. Total reward: 23.0 (23 timesteps)\n",
      "Episode 75 finished. Total reward: 10.0 (10 timesteps)\n",
      "Episode 80 finished. Total reward: 34.0 (34 timesteps)\n",
      "Episode 85 finished. Total reward: 19.0 (19 timesteps)\n",
      "Episode 90 finished. Total reward: 14.0 (14 timesteps)\n",
      "Episode 95 finished. Total reward: 13.0 (13 timesteps)\n",
      "Updating the policy...\n",
      "Updating finished!\n",
      "Episode 100 finished. Total reward: 19.0 (19 timesteps)\n",
      "Episode 105 finished. Total reward: 14.0 (14 timesteps)\n",
      "Episode 110 finished. Total reward: 19.0 (19 timesteps)\n",
      "Episode 115 finished. Total reward: 16.0 (16 timesteps)\n",
      "Episode 120 finished. Total reward: 15.0 (15 timesteps)\n",
      "Episode 125 finished. Total reward: 28.0 (28 timesteps)\n",
      "Episode 130 finished. Total reward: 38.0 (38 timesteps)\n",
      "Episode 135 finished. Total reward: 52.0 (52 timesteps)\n",
      "Episode 140 finished. Total reward: 35.0 (35 timesteps)\n",
      "Episode 145 finished. Total reward: 20.0 (20 timesteps)\n",
      "Episode 150 finished. Total reward: 44.0 (44 timesteps)\n",
      "Episode 155 finished. Total reward: 14.0 (14 timesteps)\n",
      "Episode 160 finished. Total reward: 21.0 (21 timesteps)\n",
      "Episode 165 finished. Total reward: 15.0 (15 timesteps)\n",
      "Updating the policy...\n",
      "Updating finished!\n",
      "Episode 170 finished. Total reward: 36.0 (36 timesteps)\n",
      "Episode 175 finished. Total reward: 28.0 (28 timesteps)\n",
      "Episode 180 finished. Total reward: 22.0 (22 timesteps)\n",
      "Episode 185 finished. Total reward: 27.0 (27 timesteps)\n",
      "Episode 190 finished. Total reward: 36.0 (36 timesteps)\n",
      "Episode 195 finished. Total reward: 100.0 (100 timesteps)\n",
      "Episode 200 finished. Total reward: 35.0 (35 timesteps)\n",
      "Episode 205 finished. Total reward: 100.0 (100 timesteps)\n",
      "Episode 210 finished. Total reward: 21.0 (21 timesteps)\n",
      "Updating the policy...\n",
      "Updating finished!\n",
      "Episode 215 finished. Total reward: 55.0 (55 timesteps)\n",
      "Episode 220 finished. Total reward: 26.0 (26 timesteps)\n",
      "Episode 225 finished. Total reward: 100.0 (100 timesteps)\n",
      "Episode 230 finished. Total reward: 100.0 (100 timesteps)\n",
      "Episode 235 finished. Total reward: 61.0 (61 timesteps)\n",
      "Updating the policy...\n",
      "Updating finished!\n",
      "Episode 240 finished. Total reward: 100.0 (100 timesteps)\n",
      "Episode 245 finished. Total reward: 53.0 (53 timesteps)\n",
      "Episode 250 finished. Total reward: 100.0 (100 timesteps)\n",
      "Episode 255 finished. Total reward: 53.0 (53 timesteps)\n",
      "Episode 260 finished. Total reward: 100.0 (100 timesteps)\n",
      "Updating the policy...\n",
      "Updating finished!\n",
      "Episode 265 finished. Total reward: 42.0 (42 timesteps)\n",
      "Episode 270 finished. Total reward: 100.0 (100 timesteps)\n",
      "Episode 275 finished. Total reward: 100.0 (100 timesteps)\n",
      "Episode 280 finished. Total reward: 68.0 (68 timesteps)\n",
      "Episode 285 finished. Total reward: 23.0 (23 timesteps)\n",
      "Updating the policy...\n",
      "Updating finished!\n",
      "Episode 290 finished. Total reward: 36.0 (36 timesteps)\n",
      "Episode 295 finished. Total reward: 100.0 (100 timesteps)\n",
      "Episode 300 finished. Total reward: 100.0 (100 timesteps)\n",
      "Episode 305 finished. Total reward: 84.0 (84 timesteps)\n",
      "Updating the policy...\n",
      "Updating finished!\n",
      "Episode 310 finished. Total reward: 100.0 (100 timesteps)\n",
      "Episode 315 finished. Total reward: 100.0 (100 timesteps)\n",
      "Episode 320 finished. Total reward: 100.0 (100 timesteps)\n",
      "Episode 325 finished. Total reward: 100.0 (100 timesteps)\n",
      "Updating the policy...\n",
      "Updating finished!\n",
      "Episode 330 finished. Total reward: 100.0 (100 timesteps)\n",
      "Episode 335 finished. Total reward: 100.0 (100 timesteps)\n",
      "Episode 340 finished. Total reward: 100.0 (100 timesteps)\n",
      "Episode 345 finished. Total reward: 100.0 (100 timesteps)\n",
      "Updating the policy...\n",
      "Updating finished!\n",
      "Episode 350 finished. Total reward: 100.0 (100 timesteps)\n",
      "Episode 355 finished. Total reward: 100.0 (100 timesteps)\n",
      "Episode 360 finished. Total reward: 100.0 (100 timesteps)\n",
      "Episode 365 finished. Total reward: 100.0 (100 timesteps)\n",
      "Updating the policy...\n",
      "Updating finished!\n",
      "Episode 370 finished. Total reward: 100.0 (100 timesteps)\n",
      "Episode 375 finished. Total reward: 100.0 (100 timesteps)\n",
      "Episode 380 finished. Total reward: 100.0 (100 timesteps)\n",
      "Episode 385 finished. Total reward: 100.0 (100 timesteps)\n",
      "Updating the policy...\n",
      "Updating finished!\n",
      "Episode 390 finished. Total reward: 100.0 (100 timesteps)\n",
      "Episode 395 finished. Total reward: 100.0 (100 timesteps)\n",
      "Episode 400 finished. Total reward: 100.0 (100 timesteps)\n",
      "Episode 405 finished. Total reward: 100.0 (100 timesteps)\n",
      "Updating the policy...\n",
      "Updating finished!\n",
      "Episode 410 finished. Total reward: 100.0 (100 timesteps)\n",
      "Episode 415 finished. Total reward: 100.0 (100 timesteps)\n",
      "Episode 420 finished. Total reward: 69.0 (69 timesteps)\n",
      "Episode 425 finished. Total reward: 100.0 (100 timesteps)\n",
      "Updating the policy...\n",
      "Updating finished!\n",
      "Episode 430 finished. Total reward: 100.0 (100 timesteps)\n",
      "Episode 435 finished. Total reward: 100.0 (100 timesteps)\n",
      "Episode 440 finished. Total reward: 100.0 (100 timesteps)\n",
      "Episode 445 finished. Total reward: 100.0 (100 timesteps)\n",
      "Updating the policy...\n",
      "Updating finished!\n",
      "Episode 450 finished. Total reward: 100.0 (100 timesteps)\n",
      "Episode 455 finished. Total reward: 100.0 (100 timesteps)\n",
      "Episode 460 finished. Total reward: 100.0 (100 timesteps)\n",
      "Episode 465 finished. Total reward: 100.0 (100 timesteps)\n",
      "Updating the policy...\n",
      "Updating finished!\n",
      "Episode 470 finished. Total reward: 100.0 (100 timesteps)\n",
      "Episode 475 finished. Total reward: 100.0 (100 timesteps)\n",
      "Episode 480 finished. Total reward: 100.0 (100 timesteps)\n",
      "Episode 485 finished. Total reward: 100.0 (100 timesteps)\n",
      "Updating the policy...\n",
      "Updating finished!\n",
      "Episode 490 finished. Total reward: 100.0 (100 timesteps)\n",
      "Episode 495 finished. Total reward: 100.0 (100 timesteps)\n",
      "Episode 500 finished. Total reward: 100.0 (100 timesteps)\n",
      "Model saved to /notebooks/rl2025/ex1/results/model/CartPole-v1-model2_params.pt\n",
      "------Training finished.------\n",
      "Numpy/Torch/Random Seed:  2\n",
      "Loading model from /notebooks/rl2025/ex1/results/model/CartPole-v1-model2_params.pt ...\n",
      "Testing...\n",
      "Test ep reward: 1000.0 seed: 2\n",
      "Average test reward: 1000.0 episode length: 1000.0\n",
      "CartPole-v1-model2 (seed=2) test reward: 1000.0\n",
      "Numpy/Torch/Random Seed:  3\n",
      "Configuration Settings: {'exp_name': 'ex1', 'seed': 3, 'env_name': 'CartPole-v1', 'model_name': 'CartPole-v1-model3', 'max_episode_steps': 100, 'train_episodes': 500, 'batch_size': 64, 'min_update_samples': 2000, 'testing': False, 'model_path': 'default', 'save_video': True, 'save_model': True, 'save_logging': True, 'silent': False, 'use_wandb': True, 'run_suffix': 0}\n",
      "Training device: cpu\n",
      "Observation space dimensions: 4\n",
      "Action space dimensions: 2\n",
      "\n",
      "Episode 0 finished. Total reward: 25.0 (25 timesteps)\n",
      "Episode 5 finished. Total reward: 17.0 (17 timesteps)\n",
      "Episode 10 finished. Total reward: 14.0 (14 timesteps)\n",
      "Episode 15 finished. Total reward: 12.0 (12 timesteps)\n",
      "Episode 20 finished. Total reward: 16.0 (16 timesteps)\n",
      "Episode 25 finished. Total reward: 9.0 (9 timesteps)\n",
      "Episode 30 finished. Total reward: 21.0 (21 timesteps)\n",
      "Episode 35 finished. Total reward: 49.0 (49 timesteps)\n",
      "Episode 40 finished. Total reward: 17.0 (17 timesteps)\n",
      "Episode 45 finished. Total reward: 35.0 (35 timesteps)\n",
      "Episode 50 finished. Total reward: 12.0 (12 timesteps)\n",
      "Episode 55 finished. Total reward: 21.0 (21 timesteps)\n",
      "Episode 60 finished. Total reward: 44.0 (44 timesteps)\n",
      "Episode 65 finished. Total reward: 9.0 (9 timesteps)\n",
      "Episode 70 finished. Total reward: 33.0 (33 timesteps)\n",
      "Episode 75 finished. Total reward: 16.0 (16 timesteps)\n",
      "Episode 80 finished. Total reward: 35.0 (35 timesteps)\n",
      "Episode 85 finished. Total reward: 17.0 (17 timesteps)\n",
      "Episode 90 finished. Total reward: 25.0 (25 timesteps)\n",
      "Updating the policy...\n",
      "Updating finished!\n",
      "Episode 95 finished. Total reward: 34.0 (34 timesteps)\n",
      "Episode 100 finished. Total reward: 32.0 (32 timesteps)\n",
      "Episode 105 finished. Total reward: 17.0 (17 timesteps)\n",
      "Episode 110 finished. Total reward: 29.0 (29 timesteps)\n",
      "Episode 115 finished. Total reward: 15.0 (15 timesteps)\n",
      "Episode 120 finished. Total reward: 15.0 (15 timesteps)\n",
      "Episode 125 finished. Total reward: 30.0 (30 timesteps)\n",
      "Episode 130 finished. Total reward: 14.0 (14 timesteps)\n",
      "Episode 135 finished. Total reward: 79.0 (79 timesteps)\n",
      "Episode 140 finished. Total reward: 17.0 (17 timesteps)\n",
      "Episode 145 finished. Total reward: 32.0 (32 timesteps)\n",
      "Episode 150 finished. Total reward: 39.0 (39 timesteps)\n",
      "Episode 155 finished. Total reward: 17.0 (17 timesteps)\n",
      "Updating the policy...\n",
      "Updating finished!\n",
      "Episode 160 finished. Total reward: 67.0 (67 timesteps)\n",
      "Episode 165 finished. Total reward: 34.0 (34 timesteps)\n",
      "Episode 170 finished. Total reward: 27.0 (27 timesteps)\n",
      "Episode 175 finished. Total reward: 16.0 (16 timesteps)\n",
      "Episode 180 finished. Total reward: 24.0 (24 timesteps)\n",
      "Episode 185 finished. Total reward: 21.0 (21 timesteps)\n",
      "Episode 190 finished. Total reward: 55.0 (55 timesteps)\n",
      "Episode 195 finished. Total reward: 24.0 (24 timesteps)\n",
      "Episode 200 finished. Total reward: 21.0 (21 timesteps)\n",
      "Episode 205 finished. Total reward: 65.0 (65 timesteps)\n",
      "Updating the policy...\n",
      "Updating finished!\n",
      "Episode 210 finished. Total reward: 66.0 (66 timesteps)\n",
      "Episode 215 finished. Total reward: 65.0 (65 timesteps)\n",
      "Episode 220 finished. Total reward: 74.0 (74 timesteps)\n",
      "Episode 225 finished. Total reward: 83.0 (83 timesteps)\n",
      "Episode 230 finished. Total reward: 100.0 (100 timesteps)\n",
      "Updating the policy...\n",
      "Updating finished!\n",
      "Episode 235 finished. Total reward: 56.0 (56 timesteps)\n",
      "Episode 240 finished. Total reward: 100.0 (100 timesteps)\n",
      "Episode 245 finished. Total reward: 18.0 (18 timesteps)\n",
      "Episode 250 finished. Total reward: 100.0 (100 timesteps)\n",
      "Episode 255 finished. Total reward: 72.0 (72 timesteps)\n",
      "Updating the policy...\n",
      "Updating finished!\n",
      "Episode 260 finished. Total reward: 100.0 (100 timesteps)\n",
      "Episode 265 finished. Total reward: 100.0 (100 timesteps)\n",
      "Episode 270 finished. Total reward: 100.0 (100 timesteps)\n",
      "Episode 275 finished. Total reward: 100.0 (100 timesteps)\n",
      "Episode 280 finished. Total reward: 100.0 (100 timesteps)\n",
      "Updating the policy...\n",
      "Updating finished!\n",
      "Episode 285 finished. Total reward: 100.0 (100 timesteps)\n",
      "Episode 290 finished. Total reward: 100.0 (100 timesteps)\n",
      "Episode 295 finished. Total reward: 100.0 (100 timesteps)\n",
      "Episode 300 finished. Total reward: 100.0 (100 timesteps)\n",
      "Updating the policy...\n",
      "Updating finished!\n",
      "Episode 305 finished. Total reward: 100.0 (100 timesteps)\n",
      "Episode 310 finished. Total reward: 77.0 (77 timesteps)\n",
      "Episode 315 finished. Total reward: 100.0 (100 timesteps)\n",
      "Episode 320 finished. Total reward: 100.0 (100 timesteps)\n",
      "Updating the policy...\n",
      "Updating finished!\n",
      "Episode 325 finished. Total reward: 100.0 (100 timesteps)\n",
      "Episode 330 finished. Total reward: 100.0 (100 timesteps)\n",
      "Episode 335 finished. Total reward: 100.0 (100 timesteps)\n",
      "Episode 340 finished. Total reward: 100.0 (100 timesteps)\n",
      "Updating the policy...\n",
      "Updating finished!\n",
      "Episode 345 finished. Total reward: 90.0 (90 timesteps)\n",
      "Episode 350 finished. Total reward: 100.0 (100 timesteps)\n",
      "Episode 355 finished. Total reward: 73.0 (73 timesteps)\n",
      "Episode 360 finished. Total reward: 100.0 (100 timesteps)\n",
      "Updating the policy...\n",
      "Updating finished!\n",
      "Episode 365 finished. Total reward: 94.0 (94 timesteps)\n",
      "Episode 370 finished. Total reward: 100.0 (100 timesteps)\n",
      "Episode 375 finished. Total reward: 100.0 (100 timesteps)\n",
      "Episode 380 finished. Total reward: 100.0 (100 timesteps)\n",
      "Updating the policy...\n",
      "Updating finished!\n",
      "Episode 385 finished. Total reward: 100.0 (100 timesteps)\n",
      "Episode 390 finished. Total reward: 100.0 (100 timesteps)\n",
      "Episode 395 finished. Total reward: 100.0 (100 timesteps)\n",
      "Episode 400 finished. Total reward: 100.0 (100 timesteps)\n",
      "Updating the policy...\n",
      "Updating finished!\n",
      "Episode 405 finished. Total reward: 100.0 (100 timesteps)\n",
      "Episode 410 finished. Total reward: 100.0 (100 timesteps)\n",
      "Episode 415 finished. Total reward: 100.0 (100 timesteps)\n",
      "Episode 420 finished. Total reward: 100.0 (100 timesteps)\n",
      "Updating the policy...\n",
      "Updating finished!\n",
      "Episode 425 finished. Total reward: 100.0 (100 timesteps)\n",
      "Episode 430 finished. Total reward: 100.0 (100 timesteps)\n",
      "Episode 435 finished. Total reward: 100.0 (100 timesteps)\n",
      "Episode 440 finished. Total reward: 100.0 (100 timesteps)\n",
      "Updating the policy...\n",
      "Updating finished!\n",
      "Episode 445 finished. Total reward: 100.0 (100 timesteps)\n",
      "Episode 450 finished. Total reward: 100.0 (100 timesteps)\n",
      "Episode 455 finished. Total reward: 100.0 (100 timesteps)\n",
      "Episode 460 finished. Total reward: 100.0 (100 timesteps)\n",
      "Updating the policy...\n",
      "Updating finished!\n",
      "Episode 465 finished. Total reward: 89.0 (89 timesteps)\n",
      "Episode 470 finished. Total reward: 99.0 (99 timesteps)\n",
      "Episode 475 finished. Total reward: 100.0 (100 timesteps)\n",
      "Episode 480 finished. Total reward: 89.0 (89 timesteps)\n",
      "Episode 485 finished. Total reward: 21.0 (21 timesteps)\n",
      "Updating the policy...\n",
      "Updating finished!\n",
      "Episode 490 finished. Total reward: 100.0 (100 timesteps)\n",
      "Episode 495 finished. Total reward: 100.0 (100 timesteps)\n",
      "Episode 500 finished. Total reward: 100.0 (100 timesteps)\n",
      "Model saved to /notebooks/rl2025/ex1/results/model/CartPole-v1-model3_params.pt\n",
      "------Training finished.------\n",
      "Numpy/Torch/Random Seed:  3\n",
      "Loading model from /notebooks/rl2025/ex1/results/model/CartPole-v1-model3_params.pt ...\n",
      "Testing...\n",
      "Test ep reward: 151.0 seed: 3\n",
      "Average test reward: 151.0 episode length: 151.0\n",
      "CartPole-v1-model3 (seed=3) test reward: 151.0\n",
      "Numpy/Torch/Random Seed:  5\n",
      "Configuration Settings: {'exp_name': 'ex1', 'seed': 5, 'env_name': 'CartPole-v1', 'model_name': 'CartPole-v1-model4', 'max_episode_steps': 100, 'train_episodes': 500, 'batch_size': 64, 'min_update_samples': 2000, 'testing': False, 'model_path': 'default', 'save_video': True, 'save_model': True, 'save_logging': True, 'silent': False, 'use_wandb': True, 'run_suffix': 0}\n",
      "Training device: cpu\n",
      "Observation space dimensions: 4\n",
      "Action space dimensions: 2\n",
      "\n",
      "Episode 0 finished. Total reward: 36.0 (36 timesteps)\n",
      "Episode 5 finished. Total reward: 15.0 (15 timesteps)\n",
      "Episode 10 finished. Total reward: 46.0 (46 timesteps)\n",
      "Episode 15 finished. Total reward: 11.0 (11 timesteps)\n",
      "Episode 20 finished. Total reward: 39.0 (39 timesteps)\n",
      "Episode 25 finished. Total reward: 18.0 (18 timesteps)\n",
      "Episode 30 finished. Total reward: 77.0 (77 timesteps)\n",
      "Episode 35 finished. Total reward: 22.0 (22 timesteps)\n",
      "Episode 40 finished. Total reward: 18.0 (18 timesteps)\n",
      "Episode 45 finished. Total reward: 16.0 (16 timesteps)\n",
      "Episode 50 finished. Total reward: 19.0 (19 timesteps)\n",
      "Episode 55 finished. Total reward: 15.0 (15 timesteps)\n",
      "Episode 60 finished. Total reward: 20.0 (20 timesteps)\n",
      "Episode 65 finished. Total reward: 16.0 (16 timesteps)\n",
      "Episode 70 finished. Total reward: 38.0 (38 timesteps)\n",
      "Episode 75 finished. Total reward: 51.0 (51 timesteps)\n",
      "Updating the policy...\n",
      "Updating finished!\n",
      "Episode 80 finished. Total reward: 30.0 (30 timesteps)\n",
      "Episode 85 finished. Total reward: 24.0 (24 timesteps)\n",
      "Episode 90 finished. Total reward: 50.0 (50 timesteps)\n",
      "Episode 95 finished. Total reward: 23.0 (23 timesteps)\n",
      "Episode 100 finished. Total reward: 16.0 (16 timesteps)\n",
      "Episode 105 finished. Total reward: 24.0 (24 timesteps)\n",
      "Episode 110 finished. Total reward: 30.0 (30 timesteps)\n",
      "Episode 115 finished. Total reward: 24.0 (24 timesteps)\n",
      "Episode 120 finished. Total reward: 42.0 (42 timesteps)\n",
      "Episode 125 finished. Total reward: 16.0 (16 timesteps)\n",
      "Episode 130 finished. Total reward: 25.0 (25 timesteps)\n",
      "Episode 135 finished. Total reward: 10.0 (10 timesteps)\n",
      "Episode 140 finished. Total reward: 22.0 (22 timesteps)\n",
      "Episode 145 finished. Total reward: 53.0 (53 timesteps)\n",
      "Updating the policy...\n",
      "Updating finished!\n",
      "Episode 150 finished. Total reward: 76.0 (76 timesteps)\n",
      "Episode 155 finished. Total reward: 38.0 (38 timesteps)\n",
      "Episode 160 finished. Total reward: 39.0 (39 timesteps)\n",
      "Episode 165 finished. Total reward: 28.0 (28 timesteps)\n",
      "Episode 170 finished. Total reward: 77.0 (77 timesteps)\n",
      "Episode 175 finished. Total reward: 30.0 (30 timesteps)\n",
      "Episode 180 finished. Total reward: 74.0 (74 timesteps)\n",
      "Updating the policy...\n",
      "Updating finished!\n",
      "Episode 185 finished. Total reward: 66.0 (66 timesteps)\n",
      "Episode 190 finished. Total reward: 100.0 (100 timesteps)\n",
      "Episode 195 finished. Total reward: 25.0 (25 timesteps)\n",
      "Episode 200 finished. Total reward: 72.0 (72 timesteps)\n",
      "Episode 205 finished. Total reward: 100.0 (100 timesteps)\n",
      "Episode 210 finished. Total reward: 17.0 (17 timesteps)\n",
      "Updating the policy...\n",
      "Updating finished!\n",
      "Episode 215 finished. Total reward: 51.0 (51 timesteps)\n",
      "Episode 220 finished. Total reward: 100.0 (100 timesteps)\n",
      "Episode 225 finished. Total reward: 100.0 (100 timesteps)\n",
      "Episode 230 finished. Total reward: 100.0 (100 timesteps)\n",
      "Episode 235 finished. Total reward: 79.0 (79 timesteps)\n",
      "Updating the policy...\n",
      "Updating finished!\n",
      "Episode 240 finished. Total reward: 100.0 (100 timesteps)\n",
      "Episode 245 finished. Total reward: 100.0 (100 timesteps)\n",
      "Episode 250 finished. Total reward: 100.0 (100 timesteps)\n",
      "Episode 255 finished. Total reward: 100.0 (100 timesteps)\n",
      "Updating the policy...\n",
      "Updating finished!\n",
      "Episode 260 finished. Total reward: 100.0 (100 timesteps)\n",
      "Episode 265 finished. Total reward: 21.0 (21 timesteps)\n",
      "Episode 270 finished. Total reward: 100.0 (100 timesteps)\n",
      "Episode 275 finished. Total reward: 100.0 (100 timesteps)\n",
      "Episode 280 finished. Total reward: 100.0 (100 timesteps)\n",
      "Updating the policy...\n",
      "Updating finished!\n",
      "Episode 285 finished. Total reward: 100.0 (100 timesteps)\n",
      "Episode 290 finished. Total reward: 100.0 (100 timesteps)\n",
      "Episode 295 finished. Total reward: 100.0 (100 timesteps)\n",
      "Episode 300 finished. Total reward: 56.0 (56 timesteps)\n",
      "Updating the policy...\n",
      "Updating finished!\n",
      "Episode 305 finished. Total reward: 100.0 (100 timesteps)\n",
      "Episode 310 finished. Total reward: 100.0 (100 timesteps)\n",
      "Episode 315 finished. Total reward: 100.0 (100 timesteps)\n",
      "Episode 320 finished. Total reward: 100.0 (100 timesteps)\n",
      "Updating the policy...\n",
      "Updating finished!\n",
      "Episode 325 finished. Total reward: 100.0 (100 timesteps)\n",
      "Episode 330 finished. Total reward: 100.0 (100 timesteps)\n",
      "Episode 335 finished. Total reward: 100.0 (100 timesteps)\n",
      "Episode 340 finished. Total reward: 100.0 (100 timesteps)\n",
      "Episode 345 finished. Total reward: 100.0 (100 timesteps)\n",
      "Updating the policy...\n",
      "Updating finished!\n",
      "Episode 350 finished. Total reward: 100.0 (100 timesteps)\n",
      "Episode 355 finished. Total reward: 100.0 (100 timesteps)\n",
      "Episode 360 finished. Total reward: 100.0 (100 timesteps)\n",
      "Episode 365 finished. Total reward: 100.0 (100 timesteps)\n",
      "Updating the policy...\n",
      "Updating finished!\n",
      "Episode 370 finished. Total reward: 100.0 (100 timesteps)\n",
      "Episode 375 finished. Total reward: 100.0 (100 timesteps)\n",
      "Episode 380 finished. Total reward: 100.0 (100 timesteps)\n",
      "Episode 385 finished. Total reward: 100.0 (100 timesteps)\n",
      "Updating the policy...\n",
      "Updating finished!\n",
      "Episode 390 finished. Total reward: 100.0 (100 timesteps)\n",
      "Episode 395 finished. Total reward: 100.0 (100 timesteps)\n",
      "Episode 400 finished. Total reward: 100.0 (100 timesteps)\n",
      "Episode 405 finished. Total reward: 100.0 (100 timesteps)\n",
      "Updating the policy...\n",
      "Updating finished!\n",
      "Episode 410 finished. Total reward: 100.0 (100 timesteps)\n",
      "Episode 415 finished. Total reward: 100.0 (100 timesteps)\n",
      "Episode 420 finished. Total reward: 100.0 (100 timesteps)\n",
      "Episode 425 finished. Total reward: 100.0 (100 timesteps)\n",
      "Updating the policy...\n",
      "Updating finished!\n",
      "Episode 430 finished. Total reward: 100.0 (100 timesteps)\n",
      "Episode 435 finished. Total reward: 100.0 (100 timesteps)\n",
      "Episode 440 finished. Total reward: 100.0 (100 timesteps)\n",
      "Episode 445 finished. Total reward: 100.0 (100 timesteps)\n",
      "Updating the policy...\n",
      "Updating finished!\n",
      "Episode 450 finished. Total reward: 100.0 (100 timesteps)\n",
      "Episode 455 finished. Total reward: 100.0 (100 timesteps)\n",
      "Episode 460 finished. Total reward: 100.0 (100 timesteps)\n",
      "Episode 465 finished. Total reward: 100.0 (100 timesteps)\n",
      "Updating the policy...\n",
      "Updating finished!\n",
      "Episode 470 finished. Total reward: 100.0 (100 timesteps)\n",
      "Episode 475 finished. Total reward: 100.0 (100 timesteps)\n",
      "Episode 480 finished. Total reward: 100.0 (100 timesteps)\n",
      "Episode 485 finished. Total reward: 100.0 (100 timesteps)\n",
      "Updating the policy...\n",
      "Updating finished!\n",
      "Episode 490 finished. Total reward: 100.0 (100 timesteps)\n",
      "Episode 495 finished. Total reward: 100.0 (100 timesteps)\n",
      "Episode 500 finished. Total reward: 100.0 (100 timesteps)\n",
      "Model saved to /notebooks/rl2025/ex1/results/model/CartPole-v1-model4_params.pt\n",
      "------Training finished.------\n",
      "Numpy/Torch/Random Seed:  5\n",
      "Loading model from /notebooks/rl2025/ex1/results/model/CartPole-v1-model4_params.pt ...\n",
      "Testing...\n",
      "Test ep reward: 447.0 seed: 5\n",
      "Average test reward: 447.0 episode length: 447.0\n",
      "CartPole-v1-model4 (seed=5) test reward: 447.0\n",
      "Average test reward each repeat: [129.0, 122.0, 1000.0, 151.0, 447.0]\n"
     ]
    }
   ],
   "source": [
    "# %%capture\n",
    "# uncomment if you want to skip the output\n",
    "\n",
    "if not skip_training:\n",
    "    model_names = [\"CartPole-v1-model0\", \"CartPole-v1-model1\", \"CartPole-v1-model2\", \"CartPole-v1-model3\", \"CartPole-v1-model4\"]\n",
    "    model_seeds = [0, 1, 2, 3, 5]\n",
    "\n",
    "    assert len(set(model_seeds)) == 5\n",
    "    '''\n",
    "    TODO: Repeat the experiment in Task 1 five times\n",
    "    '''\n",
    "    ########## Your code starts here ##########\n",
    "\n",
    "    avg_test_rewards = []\n",
    "    \n",
    "    for name, seed in zip(model_names, model_seeds):  \n",
    "        t.train(cfg_path=Path().cwd()/'cfg'/'cartpole_v1.yaml', cfg_args=dict(seed=seed, max_episode_steps=100, model_name=name))\n",
    "\n",
    "        acc_reward = t.test(\n",
    "            episodes=1,\n",
    "            cfg_path=Path().cwd()/'cfg'/'cartpole_v1.yaml',\n",
    "            cfg_args=dict(testing=True, save_video=False, save_logging=False,\n",
    "                          save_model=False, seed=seed, max_episode_steps=1000,\n",
    "                          model_name=name)\n",
    "        )\n",
    "        \n",
    "        print(f\"{name} (seed={seed}) test reward: {acc_reward}\")\n",
    "        assert acc_reward > 100, f\"Agent {name} did not reach the required performance.\"\n",
    "        \n",
    "        avg_test_rewards.append(acc_reward)\n",
    "    \n",
    "    ########## Your code ends here ##########\n",
    "\n",
    "    print(\"Average test reward each repeat:\", avg_test_rewards)\n"
   ]
  },
  {
   "cell_type": "markdown",
   "id": "0106a2db",
   "metadata": {},
   "source": [
    "Do not delete the cell below as it is used for grading."
   ]
  },
  {
   "cell_type": "code",
   "execution_count": null,
   "id": "3b59f4fd",
   "metadata": {
    "deletable": false,
    "editable": false,
    "nbgrader": {
     "cell_type": "code",
     "checksum": "27f80c6109a365207abe48d1a8553f27",
     "grade": true,
     "grade_id": "cell-410200f55bb863ed",
     "locked": true,
     "points": 12,
     "schema_version": 3,
     "solution": false,
     "task": false
    },
    "tags": []
   },
   "outputs": [],
   "source": [
    "%%capture --no-stdout\n",
    "test_seeds = [700, 800, 900, 1000, 2000]\n",
    "\n",
    "for i in range(5):\n",
    "    for seed in test_seeds:\n",
    "        assert t.test(episodes=1, cfg_path=Path().cwd()/'cfg'/'cartpole_v1.yaml', \n",
    "            cfg_args=dict(testing=True, seed=seed,save_video=False, save_logging=False, \n",
    "            save_model=False, max_episode_steps=1000, model_name=str(\"CartPole-v1-model\"+str(i)))) > 100\n",
    "\n"
   ]
  },
  {
   "cell_type": "markdown",
   "id": "c5efc121-7d09-4645-804c-25015f5dea2a",
   "metadata": {
    "tags": []
   },
   "source": [
    "Average test rewards:\n",
    "CartPole-v1-model0: 129;\n",
    "CartPole-v1-model1: 122;\n",
    "CartPole-v1-model2: 1000 (exceptional outlier performance);\n",
    "CartPole-v1-model3: 151;\n",
    "CartPole-v1-model4: 447;"
   ]
  },
  {
   "cell_type": "markdown",
   "id": "95ff4274",
   "metadata": {
    "deletable": false,
    "editable": false,
    "nbgrader": {
     "cell_type": "markdown",
     "checksum": "4a996d7ff3ccc16e98ef6c64a247a59e",
     "grade": false,
     "grade_id": "cell-7b64e24c45653faa",
     "locked": true,
     "schema_version": 3,
     "solution": false,
     "task": false
    }
   },
   "source": [
    "<a id='Q2'></a>\n",
    "<div class=\" alert alert-warning\">\n",
    "    <h3><b>Student Question 2.1</b> Analysis of Training Performance (15 points) </h3> \n",
    "\n",
    "Are the behavior and performance of the trained models the same every time? Why/why not? Analyze the causes briefly. Hint: the random seed initializes the weights and the environment settings randomly.\n",
    "    \n",
    "🔝\t<a href='#TOC'><b>Table of Contents</b></a>\n",
    "</div>\n"
   ]
  },
  {
   "cell_type": "markdown",
   "id": "eee2bcdb",
   "metadata": {
    "deletable": false,
    "editable": false,
    "nbgrader": {
     "cell_type": "markdown",
     "checksum": "397e056ea791b621a4248328ad689f75",
     "grade": false,
     "grade_id": "cell-7af2d94176449236",
     "locked": true,
     "schema_version": 3,
     "solution": false,
     "task": false
    }
   },
   "source": [
    "Select all the correct answers. You get 3 points for each correct answer. Select at **most** 6 answers, or you will **lose all points**.\n",
    "\n",
    "1. Yes, because the model has been optimized to always reach the highest possible reward regardless of random seeds or initial conditions.\n",
    "\n",
    "2. No, because the training dynamics and the evaluating dynamics are not the same\n",
    "\n",
    "3. No, because the trained model has stochastic behaviour which may perform differently in different environments\n",
    "\n",
    "4. No, the behaviour and performance are not the same, as shown by the different average rewards in previous Task. \n",
    "\n",
    "5. No, because there’s a lot of stochasticity involved in the training process\n",
    "\n",
    "6. No, because agent explores with random actions during training\n",
    "\n",
    "7. No, because policy is initially randomly initialised with random weights, gradient updates of the policy are noisy. \n",
    "\n",
    "8. No, because the environment may be stochastic: agent is randomly initialised in beginning of each episode, (transitions from one state to next one may follow a probability distribution)\n",
    "\n",
    "9. Yes, all machine learning models perform consistently after training due to the deterministic nature of their algorithms."
   ]
  },
  {
   "cell_type": "code",
   "execution_count": 24,
   "id": "24c0e6d4",
   "metadata": {
    "tags": []
   },
   "outputs": [],
   "source": [
    "sq2_1 = [3, 4, 5, 6, 7, 8] # Answer question 2.1 with the appropriate answer numbers"
   ]
  },
  {
   "cell_type": "code",
   "execution_count": 25,
   "id": "a4f08826",
   "metadata": {
    "deletable": false,
    "editable": false,
    "nbgrader": {
     "cell_type": "code",
     "checksum": "8984880c713f3f91b66fe44e266ed251",
     "grade": true,
     "grade_id": "cell-722a5d335b120083",
     "locked": true,
     "points": 0,
     "schema_version": 3,
     "solution": false,
     "task": false
    },
    "tags": []
   },
   "outputs": [],
   "source": [
    "assert 1 <= len(set(sq2_1)) <= 6\n",
    "assert set(sq2_1) < set(range(1, 10))"
   ]
  },
  {
   "cell_type": "markdown",
   "id": "c5011bb0",
   "metadata": {},
   "source": [
    "Do not remove the following blocks as they are used for grading"
   ]
  },
  {
   "cell_type": "code",
   "execution_count": null,
   "id": "6ea13a03",
   "metadata": {
    "deletable": false,
    "editable": false,
    "nbgrader": {
     "cell_type": "code",
     "checksum": "ecec9d4c828f9bed69a14039122d01f8",
     "grade": true,
     "grade_id": "cell-c78029cac9905a77",
     "locked": true,
     "points": 3,
     "schema_version": 3,
     "solution": false,
     "task": false
    }
   },
   "outputs": [],
   "source": []
  },
  {
   "cell_type": "code",
   "execution_count": null,
   "id": "fa2fbbce",
   "metadata": {
    "deletable": false,
    "editable": false,
    "nbgrader": {
     "cell_type": "code",
     "checksum": "ee347f3560f406aeae33d04d56afa907",
     "grade": true,
     "grade_id": "cell-9d6e251e5ab4caaa",
     "locked": true,
     "points": 3,
     "schema_version": 3,
     "solution": false,
     "task": false
    }
   },
   "outputs": [],
   "source": []
  },
  {
   "cell_type": "code",
   "execution_count": null,
   "id": "cfded39b",
   "metadata": {
    "deletable": false,
    "editable": false,
    "nbgrader": {
     "cell_type": "code",
     "checksum": "b68ba72b4beaba16e6a1a23bd6c7af06",
     "grade": true,
     "grade_id": "cell-0cc6e8153c39e73f",
     "locked": true,
     "points": 3,
     "schema_version": 3,
     "solution": false,
     "task": false
    }
   },
   "outputs": [],
   "source": []
  },
  {
   "cell_type": "code",
   "execution_count": null,
   "id": "5871d663",
   "metadata": {
    "deletable": false,
    "editable": false,
    "nbgrader": {
     "cell_type": "code",
     "checksum": "119a95a042c705feb85c5dc20e6f7143",
     "grade": true,
     "grade_id": "cell-0622d1b37ab64c5f",
     "locked": true,
     "points": 3,
     "schema_version": 3,
     "solution": false,
     "task": false
    }
   },
   "outputs": [],
   "source": []
  },
  {
   "cell_type": "code",
   "execution_count": null,
   "id": "d58c5f09",
   "metadata": {
    "deletable": false,
    "editable": false,
    "nbgrader": {
     "cell_type": "code",
     "checksum": "2482be09b178df1a0623964d5ca75e57",
     "grade": true,
     "grade_id": "cell-cf801ba86d95dc4f",
     "locked": true,
     "points": 3,
     "schema_version": 3,
     "solution": false,
     "task": false
    }
   },
   "outputs": [],
   "source": []
  },
  {
   "cell_type": "markdown",
   "id": "8b248abf",
   "metadata": {
    "deletable": false,
    "editable": false,
    "nbgrader": {
     "cell_type": "markdown",
     "checksum": "dc5ef08285c80b3826ba67701c70dede",
     "grade": false,
     "grade_id": "cell-e0d965bc4eca7b76",
     "locked": true,
     "schema_version": 3,
     "solution": false,
     "task": false
    }
   },
   "source": [
    "<a id='Q3'></a>\n",
    "<div class=\" alert alert-warning\">\n",
    "    <h3><b>Student Question 2.2</b> Stochasticity (10 points) </h3> \n",
    "\n",
    "What are the implications of this stochasticity, when it comes to comparing reinforcement learning algorithms to each other?\n",
    "    \n",
    "🔝\t<a href='#TOC'><b>Table of Contents</b></a>\n",
    "</div>\n"
   ]
  },
  {
   "cell_type": "markdown",
   "id": "b7b41e22",
   "metadata": {
    "deletable": false,
    "editable": false,
    "nbgrader": {
     "cell_type": "markdown",
     "checksum": "626187977d5460c138a08a7220fa18a3",
     "grade": false,
     "grade_id": "cell-20eea1ddc122c6c4",
     "locked": true,
     "schema_version": 3,
     "solution": false,
     "task": false
    }
   },
   "source": [
    "Select **only one**:\n",
    "\n",
    "1. It is only necessary to compare the maximum rewards achieved by each algorithm to determine the best one.\n",
    "\n",
    "2. Stochasticity requires that algorithms be trained and evaluated multiple times to obtain a reliable estimate of performance, including measures of variance besides the average reward.\n",
    "\n",
    "3. Algorithms should be trained once under identical conditions to ensure a fair comparison, focusing on the consistency of the training process.\n",
    "\n",
    "4. The best approach is to evaluate algorithms based on their performance in a single, well-designed test to avoid the confounding effects of random variability."
   ]
  },
  {
   "cell_type": "code",
   "execution_count": 26,
   "id": "ddea5e29",
   "metadata": {
    "tags": []
   },
   "outputs": [],
   "source": [
    "sq2_2 = 2 # Answer question 2.2 with the appropriate answer number"
   ]
  },
  {
   "cell_type": "code",
   "execution_count": 27,
   "id": "47fb2651",
   "metadata": {
    "deletable": false,
    "editable": false,
    "nbgrader": {
     "cell_type": "code",
     "checksum": "8e55384a770d91c7f192f6daeea33c89",
     "grade": true,
     "grade_id": "cell-f97b7298905094bd",
     "locked": true,
     "points": 0,
     "schema_version": 3,
     "solution": false,
     "task": false
    },
    "tags": []
   },
   "outputs": [],
   "source": [
    "assert sq2_2 in range(1,5)"
   ]
  },
  {
   "cell_type": "markdown",
   "id": "82d5d136",
   "metadata": {},
   "source": [
    "The following cells are used for grading"
   ]
  },
  {
   "cell_type": "code",
   "execution_count": null,
   "id": "1f38a7a5",
   "metadata": {
    "deletable": false,
    "editable": false,
    "nbgrader": {
     "cell_type": "code",
     "checksum": "3c9b327530544c6d2be97f448098ae51",
     "grade": true,
     "grade_id": "cell-390e4a656c3243a8",
     "locked": true,
     "points": 10,
     "schema_version": 3,
     "solution": false,
     "task": false
    },
    "tags": []
   },
   "outputs": [],
   "source": []
  },
  {
   "cell_type": "markdown",
   "id": "842afa68",
   "metadata": {
    "deletable": false,
    "editable": false,
    "nbgrader": {
     "cell_type": "markdown",
     "checksum": "c77d78adb7ac2e8073a9ea95d4ddece4",
     "grade": false,
     "grade_id": "cell-18b846ee50e61942",
     "locked": true,
     "schema_version": 3,
     "solution": false,
     "task": false
    }
   },
   "source": [
    "# Reacher <a id='3.'></a>\n",
    "\n",
    "Now we will focus on designing a reward function for a different environment, the Reacher environment, where a two-joint manipulator needs to reach a goal (see Figure 2).\n",
    "\n",
    "<figure>\n",
    "<img src=\"imgs/reacher.png\" width=\"200px\">\n",
    "<figcaption style=\"text-align: center\"> Figure 2: The Reacher environment  </figcaption>\n",
    "</figure>\n",
    "\n",
    "The Cartesian ($x$, $y$) position of the end-effector of the manipulator can be determined following the equation:\n",
    "\n",
    "$$\n",
    " x = L_1 \\sin(\\theta_0)+L_2 \\sin(\\theta_0+\\theta_1)\\\\\n",
    " y = -L_1 \\cos(\\theta_0)-L_2 \\cos(\\theta_0+\\theta_1)\n",
    "$$\n",
    "\n",
    "where $L1 = 1$, $L2 = 1$ are the lengths, and $\\theta_0$, $\\theta_1$ the joint angles of the first and second links respectively. The state (and observation) in this environment is the two element vector:\n",
    "\n",
    "$$\n",
    "o=s=\\left(\\begin{array}{c}\n",
    "\\theta_0 \\\\\n",
    "\\theta_1 \\\\\n",
    "\\end{array}\\right) \\text {, }\n",
    "$$\n",
    "\n",
    "The action space now consists of 5 \"options\"; 4 correspond rotating the first/second joint left/right, and the final one performs no motion at all (the configuration doesn’t change). The episode terminates when the agent reaches the target position, marked in red. Now, let us design a custom reward function and use it for training the RL agent."
   ]
  },
  {
   "cell_type": "markdown",
   "id": "e138b75d",
   "metadata": {
    "deletable": false,
    "editable": false,
    "nbgrader": {
     "cell_type": "markdown",
     "checksum": "ff94517d52449f9ad78ed836e8ae5056",
     "grade": false,
     "grade_id": "cell-47ba07fead317fd8",
     "locked": true,
     "schema_version": 3,
     "solution": false,
     "task": false
    }
   },
   "source": [
    "<a id='T3'></a>\n",
    "<div class=\" alert alert-warning\">\n",
    "    <h3><b>Student Task 3.</b> Reward Functions (20 points) </h3> \n",
    "\n",
    "Below two classes are shown that modify the reward function of the reacher function provided in ```reacher.py```. Edit the function ```get_reward``` _below_ (not in ```reacher.py```) in both classes. For each class, write a reward function to incentivise the agent to learn the following behaviors:\n",
    "\n",
    "Class 1) ```SpinningReacherEnv```: Keep the manipulator rotating clockwise continuously (w.r.t. angle θ_0). You can use a lower number of training episodes for this, e.g. train(cfg_args=dict(env_name='SpinningReacher-v0', train_episodes=200), overrides=['env=reacher_v1'])\n",
    "\n",
    "Class 2) ```TargetReacherEnv```: Reach the goal point located in x = [1.0,1.0] (marked in red). Use at least 500 training episodes.\n",
    "    \n",
    "Train one model for each behavior. \n",
    "\n",
    "**Hint:** Use the observation vector to get the quantities required to compute the new reward (such as the position of the manipulator). You can get the Cartesian position of the end-effector with ```self.get_cartesian_pos(state)```.\n",
    "            \n",
    "🔝\t<a href='#TOC'><b>Table of Contents</b></a>\n",
    "</div>\n"
   ]
  },
  {
   "cell_type": "code",
   "execution_count": 4,
   "id": "32bf76fe",
   "metadata": {
    "tags": []
   },
   "outputs": [
    {
     "name": "stderr",
     "output_type": "stream",
     "text": [
      "/opt/software/lib/python3.10/site-packages/gymnasium/envs/registration.py:693: UserWarning: \u001b[33mWARN: Overriding environment SpinningReacher-v0 already in registry.\u001b[0m\n",
      "  logger.warn(f\"Overriding environment {new_spec.id} already in registry.\")\n",
      "/opt/software/lib/python3.10/site-packages/gymnasium/envs/registration.py:693: UserWarning: \u001b[33mWARN: Overriding environment TargetReacher-v0 already in registry.\u001b[0m\n",
      "  logger.warn(f\"Overriding environment {new_spec.id} already in registry.\")\n"
     ]
    }
   ],
   "source": [
    "from reacher import ReacherEnv\n",
    "from typing import Optional\n",
    "from gymnasium.envs.registration import register\n",
    "\n",
    "class SpinningReacherEnv(ReacherEnv):\n",
    "    def __init__(self, render_mode: Optional[str] = None, max_episode_steps=200):\n",
    "        super().__init__(render_mode=render_mode, max_episode_steps=max_episode_steps)\n",
    "        \n",
    "    def get_reward(self, prev_state, action, next_state):\n",
    "        '''\n",
    "        TODO: Task 3: Implement and test the first reward function\n",
    "        '''\n",
    "        ########## Your code starts here ##########\n",
    "        delta_theta = next_state[0]-prev_state[0]\n",
    "        reward = -delta_theta\n",
    "        return reward\n",
    "        ########## Your codes end here ########## \n",
    "        \n",
    "    \n",
    "register(\"SpinningReacher-v0\",\n",
    "        entry_point=\"%s:SpinningReacherEnv\"%__name__,\n",
    "        max_episode_steps=200)\n",
    "\n",
    "class TargetReacherEnv(ReacherEnv):\n",
    "    def __init__(self, render_mode: Optional[str] = None, max_episode_steps=200):\n",
    "        super().__init__(render_mode=render_mode, max_episode_steps=max_episode_steps)\n",
    "        \n",
    "    def get_reward(self, prev_state, action, next_state):\n",
    "        '''\n",
    "        # TODO: Task 3: Implement and test the second reward function\n",
    "        '''\n",
    "        ########## Your code starts here ##########\n",
    "        endeff_pos = self.get_cartesian_pos(next_state)\n",
    "        target_pos = np.array([0,0])\n",
    "        \n",
    "        dist = np.linalg.norm(endeff_pos-target_pos)\n",
    "        reward = -dist\n",
    "        \n",
    "        return reward\n",
    "        ########## Your codes end here ########## \n",
    "        \n",
    "register(\"TargetReacher-v0\",\n",
    "        entry_point=\"%s:TargetReacherEnv\"%__name__,\n",
    "        max_episode_steps=200)"
   ]
  },
  {
   "cell_type": "code",
   "execution_count": 7,
   "id": "765ea45c",
   "metadata": {
    "tags": []
   },
   "outputs": [
    {
     "name": "stdout",
     "output_type": "stream",
     "text": [
      "Numpy/Torch/Random Seed:  1\n",
      "Configuration Settings: {'exp_name': 'ex1', 'seed': 1, 'env_name': 'SpinningReacher-v0', 'model_name': 'SpinningReacher-v0', 'max_episode_steps': 200, 'train_episodes': 200, 'batch_size': 64, 'min_update_samples': 2000, 'testing': False, 'model_path': 'default', 'save_video': True, 'save_model': True, 'save_logging': True, 'silent': False, 'use_wandb': True, 'run_suffix': 0}\n",
      "Training device: cpu\n",
      "Observation space dimensions: 2\n",
      "Action space dimensions: 5\n",
      "\n",
      "Episode 0 finished. Total reward: -0.9999997168779373 (200 timesteps)\n",
      "Episode 5 finished. Total reward: 4.199996635317802 (200 timesteps)\n",
      "Episode 10 finished. Total reward: 0.20000001788139343 (200 timesteps)\n",
      "Updating the policy...\n",
      "Updating finished!\n",
      "Episode 15 finished. Total reward: 0.6000000685453415 (200 timesteps)\n",
      "Episode 20 finished. Total reward: 0.9999996870756149 (200 timesteps)\n",
      "Updating the policy...\n",
      "Updating finished!\n",
      "Episode 25 finished. Total reward: 4.799996063113213 (126 timesteps)\n",
      "Episode 30 finished. Total reward: 6.9999939650297165 (200 timesteps)\n",
      "Updating the policy...\n",
      "Updating finished!\n",
      "Episode 35 finished. Total reward: 10.00003831088543 (200 timesteps)\n",
      "Episode 40 finished. Total reward: 12.200088664889336 (200 timesteps)\n",
      "Episode 45 finished. Total reward: 2.999997779726982 (40 timesteps)\n",
      "Updating the policy...\n",
      "Updating finished!\n",
      "Episode 50 finished. Total reward: 18.60023419559002 (200 timesteps)\n",
      "Episode 55 finished. Total reward: 16.000175639986992 (200 timesteps)\n",
      "Updating the policy...\n",
      "Updating finished!\n",
      "Episode 60 finished. Total reward: 20.800284549593925 (200 timesteps)\n",
      "Episode 65 finished. Total reward: 21.200293704867363 (200 timesteps)\n",
      "Updating the policy...\n",
      "Updating finished!\n",
      "Episode 70 finished. Total reward: 27.400435611605644 (200 timesteps)\n",
      "Episode 75 finished. Total reward: 25.00038067996502 (200 timesteps)\n",
      "Updating the policy...\n",
      "Updating finished!\n",
      "Episode 80 finished. Total reward: 28.400458499789238 (200 timesteps)\n",
      "Episode 85 finished. Total reward: 26.60041730105877 (200 timesteps)\n",
      "Updating the policy...\n",
      "Updating finished!\n",
      "Episode 90 finished. Total reward: 17.200202152132988 (120 timesteps)\n",
      "Episode 95 finished. Total reward: 9.600029155611992 (58 timesteps)\n",
      "Episode 100 finished. Total reward: 29.80049054324627 (200 timesteps)\n",
      "Updating the policy...\n",
      "Updating finished!\n",
      "Episode 105 finished. Total reward: 32.000540897250175 (200 timesteps)\n",
      "Episode 110 finished. Total reward: 30.000495120882988 (184 timesteps)\n",
      "Updating the policy...\n",
      "Updating finished!\n",
      "Episode 115 finished. Total reward: 34.00058667361736 (200 timesteps)\n",
      "Episode 120 finished. Total reward: 29.60048596560955 (185 timesteps)\n",
      "Updating the policy...\n",
      "Updating finished!\n",
      "Episode 125 finished. Total reward: 33.800582095980644 (200 timesteps)\n",
      "Episode 130 finished. Total reward: 34.80060498416424 (200 timesteps)\n",
      "Updating the policy...\n",
      "Updating finished!\n",
      "Episode 135 finished. Total reward: 35.400618717074394 (200 timesteps)\n",
      "Episode 140 finished. Total reward: 36.20063702762127 (200 timesteps)\n",
      "Updating the policy...\n",
      "Updating finished!\n",
      "Episode 145 finished. Total reward: 37.20065991580486 (200 timesteps)\n",
      "Episode 150 finished. Total reward: 37.40066449344158 (200 timesteps)\n",
      "Updating the policy...\n",
      "Updating finished!\n",
      "Episode 155 finished. Total reward: 37.20065991580486 (200 timesteps)\n",
      "Episode 160 finished. Total reward: 39.40071026980877 (200 timesteps)\n",
      "Updating the policy...\n",
      "Updating finished!\n",
      "Episode 165 finished. Total reward: 38.80069653689861 (200 timesteps)\n",
      "Episode 170 finished. Total reward: 38.20068280398846 (200 timesteps)\n",
      "Updating the policy...\n",
      "Updating finished!\n",
      "Episode 175 finished. Total reward: 38.400687381625175 (200 timesteps)\n",
      "Episode 180 finished. Total reward: 38.80069653689861 (200 timesteps)\n",
      "Updating the policy...\n",
      "Updating finished!\n",
      "Episode 185 finished. Total reward: 39.40071026980877 (200 timesteps)\n",
      "Episode 190 finished. Total reward: 38.400687381625175 (200 timesteps)\n",
      "Updating the policy...\n",
      "Updating finished!\n",
      "Episode 195 finished. Total reward: 38.400687381625175 (200 timesteps)\n",
      "Episode 200 finished. Total reward: 39.80071942508221 (200 timesteps)\n",
      "Model saved to /notebooks/rl2025/ex1/results/model/SpinningReacher-v0_params.pt\n",
      "------Training finished.------\n"
     ]
    }
   ],
   "source": [
    "if not skip_training:\n",
    "      t.train(cfg_path=Path().cwd()/'cfg'/'reacher_v1.yaml', \n",
    "      cfg_args=dict(env_name='SpinningReacher-v0',model_name='SpinningReacher-v0', train_episodes=200, seed=1)) # < 5 mins"
   ]
  },
  {
   "cell_type": "code",
   "execution_count": 18,
   "id": "2d4cb332",
   "metadata": {
    "tags": []
   },
   "outputs": [
    {
     "name": "stdout",
     "output_type": "stream",
     "text": [
      "Numpy/Torch/Random Seed:  860\n",
      "Loading model from /notebooks/rl2025/ex1/results/model/SpinningReacher-v0_params.pt ...\n",
      "Testing...\n"
     ]
    },
    {
     "name": "stderr",
     "output_type": "stream",
     "text": [
      "/opt/software/lib/python3.10/site-packages/gymnasium/wrappers/record_video.py:87: UserWarning: \u001b[33mWARN: Overwriting existing videos at /notebooks/rl2025/ex1/results/video/SpinningReacher-v0/test folder (try specifying a different `video_folder` for the `RecordVideo` wrapper if this is not desired)\u001b[0m\n",
      "  logger.warn(\n"
     ]
    },
    {
     "name": "stdout",
     "output_type": "stream",
     "text": [
      "Test ep reward: 40.00072365999222 seed: 860\n",
      "Test ep reward: 40.00072365999222 seed: 860\n",
      "Test ep reward: 40.00072365999222 seed: 860\n",
      "Test ep reward: 40.00072365999222 seed: 860\n",
      "Test ep reward: 40.00072365999222 seed: 860\n",
      "Test ep reward: 40.00072365999222 seed: 860\n",
      "Test ep reward: 40.00072365999222 seed: 860\n",
      "Test ep reward: 40.00072365999222 seed: 860\n",
      "Test ep reward: 40.00072365999222 seed: 860\n",
      "Test ep reward: 40.00072365999222 seed: 860\n",
      "Average test reward: 40.00072365999222 episode length: 200.0\n"
     ]
    }
   ],
   "source": [
    "if not skip_training:\n",
    "       t.test(episodes=10, cfg_path=Path().cwd()/'cfg'/'reacher_v1.yaml', \n",
    "       cfg_args=dict(env_name='SpinningReacher-v0',model_name='SpinningReacher-v0', testing=True,seed=860))"
   ]
  },
  {
   "cell_type": "markdown",
   "id": "383507bc",
   "metadata": {
    "deletable": false,
    "editable": false,
    "nbgrader": {
     "cell_type": "markdown",
     "checksum": "ae28a94ff0891a34fcdffc954b90cda2",
     "grade": false,
     "grade_id": "cell-06f756f42a921878",
     "locked": true,
     "schema_version": 3,
     "solution": false,
     "task": false
    }
   },
   "source": [
    "The agent acting in the environment can be seen using the following command. Change the ```path``` to pick the episode you want to visualize. Bear in mind by default video saving for training is taken every 50 episodes."
   ]
  },
  {
   "cell_type": "code",
   "execution_count": 21,
   "id": "555bc002",
   "metadata": {
    "tags": []
   },
   "outputs": [
    {
     "data": {
      "text/html": [
       "<video loop autoplay  >\n",
       " <source src=\"data:video/mp4;base64,AAAAIGZ0eXBpc29tAAACAGlzb21pc28yYXZjMW1wNDEAAAAIZnJlZQABN5ptZGF0AAACrwYF//+r3EXpvebZSLeWLNgg2SPu73gyNjQgLSBjb3JlIDE2NCByMzA5NSBiYWVlNDAwIC0gSC4yNjQvTVBFRy00IEFWQyBjb2RlYyAtIENvcHlsZWZ0IDIwMDMtMjAyMiAtIGh0dHA6Ly93d3cudmlkZW9sYW4ub3JnL3gyNjQuaHRtbCAtIG9wdGlvbnM6IGNhYmFjPTEgcmVmPTMgZGVibG9jaz0xOjA6MCBhbmFseXNlPTB4MzoweDExMyBtZT1oZXggc3VibWU9NyBwc3k9MSBwc3lfcmQ9MS4wMDowLjAwIG1peGVkX3JlZj0xIG1lX3JhbmdlPTE2IGNocm9tYV9tZT0xIHRyZWxsaXM9MSA4eDhkY3Q9MSBjcW09MCBkZWFkem9uZT0yMSwxMSBmYXN0X3Bza2lwPTEgY2hyb21hX3FwX29mZnNldD0tMiB0aHJlYWRzPTE2IGxvb2thaGVhZF90aHJlYWRzPTIgc2xpY2VkX3RocmVhZHM9MCBucj0wIGRlY2ltYXRlPTEgaW50ZXJsYWNlZD0wIGJsdXJheV9jb21wYXQ9MCBjb25zdHJhaW5lZF9pbnRyYT0wIGJmcmFtZXM9MyBiX3B5cmFtaWQ9MiBiX2FkYXB0PTEgYl9iaWFzPTAgZGlyZWN0PTEgd2VpZ2h0Yj0xIG9wZW5fZ29wPTAgd2VpZ2h0cD0yIGtleWludD0yNTAga2V5aW50X21pbj0xNSBzY2VuZWN1dD00MCBpbnRyYV9yZWZyZXNoPTAgcmNfbG9va2FoZWFkPTQwIHJjPWNyZiBtYnRyZWU9MSBjcmY9MjMuMCBxY29tcD0wLjYwIHFwbWluPTAgcXBtYXg9NjkgcXBzdGVwPTQgaXBfcmF0aW89MS40MCBhcT0xOjEuMDAAgAAAAi1liIQAO//+906/AptFl2oDklcK9sqkJlm5UmsB8qYAAAMAAAMABMhfhdYZyUpNhAAAHeABxCHEIJkhB9o8r0XAP8DrPID9ZaFerifuJj28RiZXto0yYYBb0Cyu82wU4WMDzOoRbTMMVgN9LH9VCVJCTbtTHt82Q0cCswse0N3K64WVR1iL2TZ7MSxygeim2T0eLqtkO+vpUdkmFjdSV28Ee293ROdTAtZ/7cVcRuEEWVxHloeMSuyMu/+Mb/dcemyoBzuX5Y0b0oCffwrDVNyU+tFTcyM3xwmyP3vp+uWOXva3jGwUIYpuNY/eLiTGpDxadS9kzauIwjw4gOA+Il7QD5UKbfELUBDzwzT1uaNqpaFDX5UspZ/BDQMKwlWPYAIgcAARt4oVn5nqON+hBtsxvfjucA3U1WJ78iSD16nr11gAABa4i3CaariSPn9p1TXoADqd+ENto6nABJJB67SbjLwAfRk+hRp3WtAv2ZxxtfwPVp+CjpXFmqoDU2rWw0ILlybVjTazGpQhXl26iPN5jXW5rgXd1bQulogAMzg1lsUJXQXS8ZaOsmW2fZfrbkmBNKb6xIED0IfuuBmiBHVHVJ36pBHSr7fn+xSpl77Z0oXq/yHK4Cx82KjpXFrlHh/ULU+DdxMckx+oAj4wxJDKjI5ouafZpex3Nyx95qVEG8FmNg+xyEItuFZtMjOAAJlt7fqYlqkexK5xEA2KAAADAAADAAADAAADAAAbEQAAAUFBmiFsQ7/+qZYAABIF2egC1uxP5EE2CewrUEY9dNQ9IvHVIBx17kWeUwAbPjMapwdZs9JyU63hY7hkkp7GSc0d6f8Rd7cTkzem6vGyG+2FyGiDO9+tt6zPhNSbcfNAWMjqGQUEWDt397X2mexLW1++MLXFPpzxTXnnWbRvPBhpun+P5A8yS20fsvfX3Yf8kNEEd1yKjYLyyFDG6d6gIPPkfhA2+Z9K2DRXVBSyZeyot8NqitZuIVfDKtlsiAqMVeolZK6aHMuiAx593RsCZ8BkQCYOZkqm53rmFP8KZU0ECkmpy7WTVdhVtF1BRQNU7fKfOb76Ytb7kzXsYf7S6TkeGQQ4POviFxNCVfJL5lGGJR5o1fdctzataRqhEcfCojajyTEHgwxrZF85Sj16cy0k1PYz7qlKLOKBqCAQaEb+ekAAAAHdQZpDPCGTKYQz//6eEAAABf+E6FwGGtAB74crl8bIyTKDWyYuO3ixyIj6NiotvstUxsVsHsQ6f8mNiDDfNWmp57LZkSX4E1bsQVClPehwrQP1lAt/hXw1y8Z7mjY9QjFtkzJhpH2szqKdU8tmK7upZ82LXK2NLb8K/oCeNpEXoPh93WtWVzfGLEpjmglXmgzZbVA9YOXhv9w0cxgIUzRGUSepo5NVtysNNcCBmahizMAZ04lz+UI9AWw1EVUHmbYyjojgujN2do7klZHlX9mx3To9VVamqtAzfccTD374oxX3iHC4kXpRrH/eb08bISTPFtauQkPPXt36eRlPHJjC2rerdKydsEmodRWDMm7A158cYxr9gAxrWhAE9G+Z5fidXrIB1lL6fzrKn3RBFQGtdVFRqWGUn5d1Loc7c9ILZGCyGDWC37p0L6ndzsq6PFOdOUl+xctYvSQvR5z1WoInHP87YIM2qvzChIx0p5qCOKPYUtTiBhGHMR4MmwetwwRA4uAxNrpP02zdh+sZd4HalM0NX44KwVp2TAOnM7WLQAxZlasOwiq/d+9bHYQKjK0YklnrTlzhER975I/fy28g77Kl7Ocb0IpdvWKTCLpsBPu4yfSjJhlHTBXgpFXPAAABSwGeYmpC/wAAAwDn+ihsI3z0XtuIpd8JWIlVFpXUALori/PTnVGwFUuWvhldSJ/uj5hQdCBsWOaPa/dCL/VPpPj6PHpbtY1HVS+Yckixcgrtn+jOCQ3W4xmh/491O+T8lwxzttABTcXCRvJ50BAZHvTPa0QhfC815Acrj4aAYyuNEwrPJfU5HXlaEw8K3tqUC9pBGZ0cDGe2WnNEoLyYWFfWC0M9fhzPcjZ1iv4GraDXHHH6Xr9OQtIIWjCF+LqwMegJUW8vqqC6SpQBpiAaBlMC2fbKJPMTNFMpP97I18oVRw8uF6igDgPzU0Z6kr79rZJcJsBcsUyVwSs4sNTHrUWpZ19u8MX/fhDzYOQGlXfcVzkhAzA0h+CdzOzr1kenM0LPOhrqb6R0Rp5n41N7H4JmTh6Kb6m7a3LlN3QaG86weeJRAj/0e5rGpoAAAAHqQZpmSeEPJlMCF//+jLAAAAYp2ZBF+pQlvYj4HPE+fRJlHz7Bx2jUfXxRa4ThEy2ILP/1w5LU9yi7EI6XqH3+Y6dfR1/oT5b9oQ7tz6CgTW2VZ64eghP502pY1vMc/uK8Qq3B97At+fm1tRng0ckUNJ8v1hXwGdwOSONo02RUWsbh6jQXwKD7BJLgxddGosVsaDX2uArJvwmPCcnNPg5TrgQM8A0rnkymrRIYxDkLDZrxoqSGCmLmmcOYi1BKsmiG89MZJR/L0ICW8bbR70epYyQhdh4OZGgg+t/5SmuXrZ05lxIDUsA8i2x//5Zc7KgiD/PHwKXlNJCagelm/7W+hb57BhtbXZXLaDuSg/JvfAo7VdxOWLQ///x1x2any2IPgI21OMSCyON3oce2NKRTO6DXTcXFb/QOvsDIkeSpuIg14L+i+Xm1bE85SEMiK4qFesWmnM+PUwo4zOQIkdntPM6LPnqyGRuAbzav2GyY5S05T2c0VlfnoJxRZl/iq+9zIlozn32CMGHIl1Yek/y6WfK2/ZWOuRGdxbMh7PgI5Xdy1KCYQh3ByyiqyJfu4wA85bzUjE/1sILvnRgaWU/VYPS53XIyY5rR/+JJGd9Jb7IteOqWbZNc29fbh3a6b6n+d+3uZ0jzztDRnwAAAetBnoRFETwz/wAAAwCxQD+opUg5adAES6w5qh3zFSE/dM08wmdDSW/bqocRyH4XfQCq7FW5iSJm8eAViD8LsnP+LEiNBY/N+zOOzv3j1nSB3SE5yz3jtQX7KSZaDtTQqFjTcv0Cdb3fKFOco2PziDrT/JTPDv0TgkYrVurOmubkDiJuncFuNBdKRhKiEecE8p6xjZDPvOZrFhq1H6CDoy4Uw3CjXaTq4czR65vJ/G4iU34flvqnTuK18ljBe262FIqFgBJQReWuG4v6RtCjvN1vlaGN2L3afgJDx7wzUFEN8LRAWFGPRMosXeFCIXtFaG6UD+PF4n2OqTtYOucMDkq4TVNaPFIzYmC9qYZPKkKd+s+HvlYLq0f5qSei2zHN1dsW654dHSXqqkT0CGJPWEz773MJ5D0oWGOwENbwQGKCNvG/HirJ2brLGte/YnonnvptDo/PgT3p1XmOlBDzf/AyZdHr8KYeTygNeRYLPVYJQ1sB0CUzL6x/sOgS4ilcEZMdSy2GdtNL3C2IGzqVQtte2rnhE2bmKIqMhmj67lLkk0PbYq5D3T55dNXwzvvXxAa9QuJ6jvYs6JSAI/R2BrFaKXO8sHQ5n6ev2bljXtpGhy7f2qpQuEsOpDlrce/oCm/ZDn+6aST35wEakQAAAV8BnqVqQv8AAAMA7aXuZBLvJwAW8NXm3WP/BwxJX+BShN703/iFCk5lJCgMhOTJfBvrnTvmJEcr/0QbIcYrXEbuIymNJpQ79wlOloqT1KSzzmfHOOTus+rY5YKXqUAVdBLbkfCI3LuYvBJjysgevfwp7uAdfO2KEVQbEByOReihUyAkDQotiqJAE5l5YeLI6i2Xnc7bfAEJRUVYR/oKYwvpCE7F5Vmn7/pK4UIVFXUyVV0TaVlbSoEz+hS6X7M75KBPWK3PpV981F829NJmIc4jFgdKDSG2IT6w80oPM5AnViGt0JpPkFEkEsD7Rh/mcFNs36b90+OfD7sIu2552rapDguA6PaeuUStOMctiRUFumjgVzakvnHDj5kkykLelG1HKaWxAFL1/M7fMbqM50WoLG/dRxKo+obcKHc1ORIVeZuxa7wZfY4mdws1y5jvQs3AtC98WaMaDnt4JqcUW0EAAAEtQZqoSahBaJlMFPDP/p4QAAAG71z8GVoaAAXUfQ0IWOAjU4TKikjysz2vqyILpsS20myal5WesErS6RTTW5QErf9JwFS9fZZsrr9QpZXgpJEPGNrMVRrm7G1dc+ULaWEYRPYZSwkQ2buyu3eJRgUbXPqtBGg3FjJriJApe9HrEhH+riqlFXx7BFL9tpQFzmeyOjP6JYrW/1VAeIntqrLqhEfaW5dDVs/i6fnQ9dtfJjOoxSwFc82BhqUakYBufwxNX0b7ly/dRAIryU7azPaeUaDcEjAA9RwFh0lKkudy0idTOWoiIMw+fv/s5RIXDhW+yWu8qLua7Ez/FMrq+bVv0RsDEXjiDxscEZsLWfORAmAAAAQ7fuCJ3Pyw2/b1sRKEH93wagXsu6GJkGAYsQAAAWQBnsdqQv8AAAMBDc46e70NTbEO3wbDktWAG69GWMYnBLK/wu+zZZ+shBtRPwKMvNygiAAJ/+XuUySB4J4i1QRl/pMuConQG2tPp2A5FOa8SNV13Pg6ZUlk7AgBA1A1oyzTIsYuSvbNLeLz6ddJ4L/9TRO+nm9ZhEheS3qkNHYy/KoLLutXYVAqn5lEYoPQ4y6A7FQUXOnYKw04WgNvUvVDhlWgXTDx3n0Hr7Y5FLRwPtrbda7WXjr17IVN5GazG88oi8BV/7KMEkUeuFAR4z5tnBWxJ3y25KR6huaZlvzumTIw4gZNjjTtKMf181V1upwDkyZ5ipW7W5XNidqmWMJY+UhMpl1qvous5sSn3vnkdhbtmmEE+FTKH3rcmwIYr4m6QMi82DzRTARm7m+ddswa3dLBCPvj9NPWB5F/9jUwBSb4wI1jfDmGduT67/S6Y10JMg3WyrgTwCgxON2Hu7dxfu1Q/wAAAe5BmsxJ4QpSZTAhn/6eEAABndc/A0jQAWH14LR9XQvkZlO3nj21k52/54/b73P9bxcL9C4PcC4R6X+9bzW5pXmT36Qn+37ViQM3GTWWti1D4YMsAe58wrBrZzyXcVprilsNblfXjxVa4ni13Jxe63QFh5aE3ZBOdekuMr2vyPo/q6FJLcmWVuFmwSRhQmZp8NmZcEx/IeoYsYxytbS6E/v9iXC/3AggzRQ9VRaOcdLvmsKE4Mg5IeQ70p8yrTNWBj86N614HFSSpbdEXMKsPxNr/jua/5bWmS7XcD1/9dwYAjulHZhF+Hu/wMjnNpo7tLpRm01whhV0tUDp5GYktnIoR1GnXEOZkvOGJmA1gjZfdad+BCjgwoGjhiNyovlZv3dj4JRERuhSePG+K+gFdGp8sXTy+CLA9uZxdvWgVR/Xnitmvhu9S+yw+J+AUBBdduatvS69tgdzLHYGlDjxG3VgfgEIbjkVS0nwB8Dr0uv7FLlQC3/hB+bFP1h+jaaVDF5MM0uIYd++Yd6UNzLJsmk99bAILEWUHzmfmQ4iGJ5oyFDh0WYIQigjnlxqZ6GSIRu6C0wxSLlWjCdw/Jy+r2H+pUeFLvy2aGQHrITE0IRre5SGt0G4KhecOMKm6mYXDL2IAAApNVps5zVKIABMwAAAAZxBnupFNEwz/wAALpATxx7S7V8KSeaJLAEo2Ey0i/lMUAIOhIPG6gBZPsZLApgazJ6YpniCOmv0J2V/Cj93rnhlvUrhrg2M59GvzEALnqBpGWN01ojc+Yv1haBen1q8UQ8f+GEjP6+fYX83peOaSxk65pNbZjuIRvP6oiy/M/wJpwIRsU3R4GOq3HQja/RGa6bZJo1onS4h/wFbpZpnYEv6GDX8yODEOJ6SyEwPfuCgLvTWDRAm8FOBLCWxFpWflRXXroEVK5sRGMXYp8SbH1XgjuzGoc6qyVQgo8iNkoZPDUoogp2Eu0YMu9uvHt+lxsEurQj0OdH+6HYSORepoeihoMRJy+z6F9y0eTRQO9xyj0Z7oQ3JXjd3Qo1kUNXL36wyv2Qta7lPI7z85L4Vjo8LvesXYhfdHkJyGst0n5E+s4SGqO+I78UGP/djFggcGso3rDD7YYc3SOyfEDr2ZLqaczhzJebqoql2g/AzfK4pRXoz7r3b4U1IiLxy/QHJg0l7nQNDMS41iXGgDg9992Omqo0Pgu4CigdwwALbAAABEQGfCXRC/wAADENmpN+83qgo9td6mTbktq0wATqUDK8DviF0jqLOx2a3UhCoxlOpLFiKxBgm9FZradIWFySFHCJtG4FGf+vPK4sYPykKT1VwlbM+eGCtn+rOKxY6xH3IjPGUjGHcnuOBm+s4gKbymSYR7LMHQxGtkNwPclNSBpsxEbkd6A+U495hpLjsgEMWGm+HVCM8jnMV0VhMhyR+WHuq50i2M7XhzG8cLBIMGTlwB1eHOy5asnKM4dvCzarsDQEZ1RKGvjTYbJoQ+T8b9sPUe/21H8PkaVqQLWacXJGrDaTO9lNbbrGqdydhkh8VU8xMSA266Hpgz4MYA+9ZcCLP8RMD+OLYtQclwBxY4AD7gAAAAVoBnwtqQv8AAD4pfDR3SFWul52oALkKju2y9s/Td8k8pZq7YjDiV/Z8ykS08dZIYOQM+egS+poARAbo+b5u/weVxNk5XO7exHr5m8gtPUbFzjDI1c9av41fGWk2yz/8DVzMlNTiZFrUv6AkC2MF4ntDujnXseVoGusVDdPe+5XBpr/V3/ASvJhzC3UOE5Yz4Ra9d2DwRAdJdKPhBv4k2NPNKtYL5g5HuQhbIHpf0WVAewF6DUD+0ogLu/lgdJhHOnPAv7w4lHoGxbz4hyRRIMSRYYTuY3VC/T3kc/I7uSEJVXILWwaSn/OtmrMUP+ziiReCrK0zE+Y492e8qJt6gtH8wGuPUULpMlbmoe+T3sn+13pVVTuKOw6RL9y7LQroYeqpQSuY+W7ghoNnqr//sHLzzaLfXoJrFIlGVXlsUx8xl0Vqc+howuMjvYY3maMiFS0Nq/KJoJlM7AJeAAABwUGbDkmoQWiZTBTwz/6eEAAHn1z8HlN6AAcb1s0IiNdnTTxZ6xQiTn9scFIgWclXrnTcoL3w3tSfZz4hHZBrTx14Db9PkzjHG3QRVAqT44GFj3nJrSPgX+5cGQwExN8ezd6u9iJvNYXYiNwlb7lk/Vy5Hyfpm1meuQJ56wyP9Ze0EsO/gtgiRJ5sMJ2nLilv6zD2+b8dVW45A1CDcPX/qbPqELq4av0abXb/NOtzCuQJwiHcXxDuMzMDREUp5l5KrvOcqDuCcsHLJzKsPM0aF4v8oi21r6Y0/Q5No88uedwfP+PUBBZpSnmjOazGLeiqnk6SAbrv7UVD6jGP7Y7Rnb1YVJvEer0hZ3/Y8NhVoTOfSiOHCK4TWxp7abTcBg7W7yGjig3ukwobfWWwCr+VBu2vUbmWnuvskYgEqJar4BmS+PnChxRLdkfUIBvHgEiSdLJxKvNC0g1Xz+flKlvc7GAApWlO0HehZMiWcsFgDhUseV7DHlboSE0ufzRxmYJATd4Npai1yP4WL56JuEI01OlX2Dr6Ml/mbZKCVHWGiouQlIh7TV4+G4Q0bRSgV0+IAgwuhVxVlSNcsRUyVY+Y4APvAAABfAGfLWpC/wABLc46pppUrWJVckZQNLAC3CV9RyhTIWd3xDW5aOMTXhAv+6Z/ID00sIAfB40Y0ZFAPkV3I0b7JG7tv/dE8Pf/mxV8OaZK/sQVMXUTjUdk8R3msUGsXvWpJfIYYNWsGyFzROFkF7SERjlPpCl1WN+fqPM/Q0UdsseGLjYbKDvlKaOWSK1M2s+aPAzDMgmvimuZRkQ5LZE6qbiNXUVDRm5udbrUOLXTE7QSjPj8CLwoa6t3flmf1YI4g5jyAymJe3I2c3RenQzR87HfiRCrClQjB0dsJqHu5qNceFZ+IN7AzQiTv2S2+5rwbKC70f3fVGWSpP1joKdPBPrz9Q+6VxZSA7zfEY6VxOBrdoUhEa4npzyM+fCVZKXAMYVQY9uDPwW4PRuTZQREfbSAnsQW+x1UOCTjQenv0CcQSLUeqzsTWNkHsUqEcWUW2bG541C+3RmuA2HNwNHpeg1ByziRjpW8/TH5NQXTD5mpAT/C0LQZQc0YAEPBAAABL0GbMEnhClJlMFLDf/6nhAAB8vZU3mD8MXPnAAlq033B7QXFs/e+sN7J3gVAGLEt8wucOHanKuFaP0J2DwdE6Arfu0+MdOUwrfaZL3OxbPCPJXhxVxrKB3B1O1eSQZL9QFDwcLa4Gug+32oxINsw5E0Nw0kQ1ko4PyraEoP8Lf0krcHve4NveB1nBFcGAUJRvgh0cSyfovqT35sBP7s7VZWc0vmMJTUx9L85ySLA6bU/Yq2XNz4TdrAvXQPWDjkI/wr8BJAq9aNxdtUQZ02J2WK8vznSB3vma1QkzFTy2kjWIaKUrMHt0BE4qLDvIaWQYP3HNPkpqXbN0uqUcXyT7pRqvx7olgnHpNQktfr07BuXqOkC/TmlNhuautULeP5hmU/jh1taAFtyGn4W4AAeEQAAAWcBn09qQv8AAn082XsrrO+lK2QAlkwHv+iDweNtqEMYUmWQkRGHfFDcgH1gqm+cB3FkNqbDRbtFmGI7DIK75tDLFqovqqAFr9+Q9XnSzpYiDOZIoQ5apGr9Ja74q/DXE+N7TGZVoSrHgh56SGJnOGtea+HysnKpLV0AM0P5VaF2oTsuRAWpvArHCdT/BLhEldgh699S+hV3pYFR8tP2l/uibslyY09fkv8DBRq3nHtVMEtJrkRx61FSi8dFV1e4MW/57fME4xdf490IIEN1Am8two719I49meO7++LdV0ymweKvYeIEhrE3bGI5md/h/iA8Ocs19o4YfjQyCJDgvb7yoyOV9al6YZqPf+KEp2jvvKzniuozucerEAixciMxJ5I9eLb9fONG1+OB/lMvjvL4rRzUw1tyGhr2UKLjUMAK/azvfpPTgcGZcfn2ZEL8AbX8uF1z8fWhXdaUZNBbE6fiKwgPy4CqgAAAAVhBm1FJ4Q6JlMCGf/6eEAAHR9jUd5xpayFi2ABOOVjTBmlodKQtwCO6kY1V9A2r/To6tfjEpeXzj/wPfuApbGb1Ch/M0XWI7xpHik8cCHZWGmb9hn9KUWYUxA2GeyAeafg/tUT4ORr6829bYP8LSGwCMlRH33uB5TXyjaqkrcbiXgWEnl3h9bwsnUlE/sIpKi7izV+Pe5EClgx7GNDBNBO21U+xKjfatrLNErSoIyB6sw7FWCFdDo7glfnAzuFN8POB1cYdh1+AaX5HykeAWti6a6cTVChAtKIRVwrSEPS2pv8uBJ2FvpD2L+rV3gLMJ9+N7UlI9JQfj6KGEfRBKfsz2S6k86poF+xKEEPHryygLr78xIRoyWkiVvOTni3c1KFAzWrKCy56L+ZO/DPQ2heyxxxo99gxysiJscDB9xTAA3NjAc9kFb0t8+H5GJknDCI7Cd0YjEAJGAAAAm1Bm3RJ4Q8mUwIZ//6eEAAG5t5vjWJXYaPIzPtvkls5+EbqaqsfIRsj4+5CMugBNXrud4veOmEDppt6m+T1KCnK/8aCa4R/hviyWb3dOk7GhhYsvPKCyxjORtVC5+uwowEYZ0f0WYQKrX3nNpWdzCJwJ4VBmBfqLMqkOshvx1+xumozkhL6JvxKrGd6BJMLlFlyyGCcBIH78M3V+tZI0Ou82xRlN7HHrFafou7TvN23S6zPWfRAWPKfl+57n/QjMqsppSz4M7fe8rsQtyHqnJYgmTK2g/Mre0rUwDhpAUA9kBV8ZVKCuSkJ3ZeF9VX0reovy2FB724XS8kKExDZcug3lM3/EID2VVreYciRnEgeq33jrX9ZVhRwez93jgwNRpm3LymYmcL1eQ18HAbcYkMmK8RdvNvctO6070fNuV3LWuoS7b+kUB7TyCJoYPx6AOjlzeAuiWs9FuzheEMEFTrrusnA4tPnXWQyRIvuXPHCMxJsF1Jg6RsppWX0pqpPes8yItJK31FW1CPxah15ek7SToHZYiZttSO9EMEAHOU+40N/sfdt8pgoHz/4aLuvSd7N2GEtnsZBAvu9P2bOK/f5Hl7NHwHoGMiQTlV+c5Mabikkose75DEb0fOSEBwezekcl2QXpYv3NyIQG94fVoCOHFu4SZiSQdwtnqSYhKXL7P2/++10xHuqOBMc2CPehnhJpCPAyZuZoXw0uuRX8kObIEHS09Q4JCzzmXcYvpwe6N1iEhMscnoE1u7laztH/4QCG7oXSihXN0uBBjOX5muY0VD/Ala4PZrC9WFXmgcIsi+69RQLFWedwnJABF0AAAGXQZ+SRRE8M/8AAdBGmkexhCVSxhJQASxYm96YRGwwTlqwtgzgNSwpt9qzjqnHuQtnHe9lqI/m0RD4V3Y6Iw/Csp++OnWfbMDE/nLj0fbbkFfyE7y4tzsLjPgsuBh/mlNCJZExYUvLJyFG4k67ukduWnS3OWAMjmK2f9xQt+cWvEAKTZiDCC5J8XHgnCkIkF7g4GRPHYENq5MFbYZ/5CBQ2c4EV1/wz1//u83K3iZNq1+eeaje8f+1xlo9zxvOYNWP49hrahr21UE//XgXj44X4qE9Kk0N5zZnIE2jl1rdjWjS1VwY44ff4fc62XyoYZo0joSYYU4WI0cFdv1cR2wJIn4BHsU6/K3wVl8XM056YS/FT7UC8ZwyPdDGxBGu/duijt9SdSyKXr1jviNP1N7dKDmK+09s25+I/Xndx7vjds6pZT9xPAq7JlIh0SEYjlUNrWgBhA7htjS2GExCfhOUxy7qQ0AmfLU0leBVsTd4efkfFVGA5MkCo8XLmXYzq+nexqBpPPNzowszriEV7sNd7hThUP6uQ+YAAAF4AZ+zakL/AAJ9PNGe058kMeve70xzIGzkQTxYALqAtU5uUbD9yPwP3WlpcvsSBbHQ8aCjbHr2kpConx7KnRTgdJfuUuza+g3spPJvAhuRPpQF1kaQLiQQOlhPsZpoJmTq3HJ8sGQfHO8GB8/skFt/yTFXWcdMhXrj4LhWbQXNdCbMbxhc2v4v63rznXhFdt0H/odWNjgSSFiwPcTl0Qtd0AO6UeGKAF4plw+ofhc0zT5jCGZ09h9BneyXxpxbi/FntHu/IWm0gw5ocuSIqRLbMiyvKKbuPH/L0XXSTUGuT557auhCFNH36Dfj0Q3lS/81uFSw5kDz3nh5hX42z4sEjCJ9AB7dYwhp2z6I7RSs9tFOzrIi6apPWcZIhqs1BwATWC9yecXoQrc9fUbzHrNyL4i9bOC1TolrFIjS4d9/oxRR+gYuxpfiMC1oPyZDvCMi/rClbEEhRWzKkdyQYKss88gnwCqSTNJWfHhttc6tdFJWq28AyQ0TMAAAAa9Bm7dJqEFomUwIX//+jLAAAs3uaHwsPMGV6oWgqEtcyA77aeUUEPbcMvVPKlyHcn4TMhP0ZbJcaPFnDtX4yHYP5v3x9lI4YFxKyVNr+nB8H+4vHzle/AfuHqHY/a5RvKMMDVSbMtf63MEOAMR6GRdGMTTqrcsMIRSkLhzTwDCX984t5heLMeeGMmgFaMJG8vD0wg5Rb0dBA2nqo2uzN/jy1uj8qma/BOddr4caGnKhyMAChIlsr9lb/bVbSyq1mBJs45LjA3j5537IsUzwy0AUgFpA9wpEKrA1PdOYbORi+YkNJS9iAv5C94MqGpWdMjLRVWlK6Cy2OSIELdcRENYAzS+M3qHIWf55MjznQCTUA868VjPTT6BcbWTXyZC4meW9RJJ8mpR19qDb8P8KtQz637BDmbrENYHEfyWQ30BKKVYEmb7XkUs79XP/SGypmmKGfFaDgpJtdGoDYH9QXv+EjRoUbJs0FdLOKpFQtQA3HgCCrSyPQFXkQLgHely6toT1aLFrvlRzDQ3wicMmVnpM4x9vtgcZ3JpDLRIjpdzJNNvtz3nV2V2Bo5fppAB6wQAAAbpBn9VFESwz/wAB0GCbrDaojnj7s+05lum1itfM5dxYJ8QAbUbi/6N7ITxgLSzBrzeSg1FdIb9vzN7M2iWBANrOREM/h9fnB9CpE9nNRh2V+r4gpqhWJ5CRPGfpUdU82ukgWuKHnVwMxeYI74CQGb2wMwz8qP0UcaQ4iK6BqyrRhIZ7Dva7KWmPYBL1hHO8QsRGu7WNR4Se7EVw3HdstDyAk/ZusO1pW8DsiUHFbSNyFjlSnH3RuChAyCZF8tD/hqrUvrpDsVgQShjexZtLOwm3bKJbcV6sm5/5ZOgskAHP+GQ8weVYOU4QpbyfGn9NHpOXvnHfwbrUVX5ez9BFg8QD3+auEI8+6B3LeN6lFYq9geujfe6pOLJA6G1ihqqusThlMa/8zMz+PGmliI3597H3xbdu3hlZDP6UAs7ceImH5OjAtmAiI0th1X2Eb0mtckM0R0xvVpCJ3O3i7c67UwBp2aO/moIsYBZtwkhkZ+V1lQyrY98+TR7MiJnW/qq7kRyIyPo4lI6hwu60qJCw8tsdbiBvpWRSyU8KoKSjCN2mQdPvcHGbsy0/3UTQ8PaSHg4vDWc0La/gACvgAAABXAGf9mpC/wACfTy7mtbrtgy0TJyob6ED+/4AtgBxi3jKO8PbaLYjhPRSKjG0Oy/OnntJJkvgDmQsQU4xjr3IeP6xA+ZgY6BQ0MlknaL4Zr2wkv+LHl4dwCO53GIHQGA1KBjRW7LEHlhZUbQT2Cfvp13sjWctPo17FS8stmXh9L3kBBA8cAGeIcG6tfv9fnbSziZm40HGN6Gt8mnn3nyWElLchPg9nUWFmukctvVVWZVThzlhvx0JsFRojo466KCKT2GFHG2X+VFbuOVdXLStgp0bsQb4ueDIl/CXbrPmSnnqJRFsnv6P5Af8l16tAuz/wqu6IYSqgLu4ShE5Tv/of1Q4Ji5ud2NrFmOfQ/iG524m6KiqU/1J143VFE4dCy+VhVK617gCcj5Jgci6rA9wSEaqttQd6LU09pEByUrxJm39FwQ6s5YBwkyZzuKxpuwYimP0UbPJmPQf7ugVsQAAASdBm/hJqEFsmUwIZ//+nhAAABnfY7nS2P/YPWAg1QYh4XmpYAqdNEkzTy1tgRV+8hN9hRZf4CjVUQ23KpXGfQWcH34gyux95odzOzicfo+w/0nMLjou+Xg+Mt/soV/3+raarhov08yMZpDWriIWUJxlbTkCZg6hBZxEsvyc5RWBTzOMfoUlyUQNVuOMRJPeO24RZygrT1ofa8uTK+ABC7ZreQKzKhl/4rOXrhHLze3iGyHAIX3WxBTunfLuK50Bb/EAqPfvuOWJ8boi+9Pv/1ttfzfXf3s+GrHWyJlSXVgBa/n4kJ+GHHGzZVYr3+ZOhpBKA9Pk+2yxverRDa4amPl5QUYWNswDgEE1vaORFJl3uvm4wkgSOx/oNaltGSuqAYffbPJgcAEbAAABtUGaG0nhClJlMCHf/qmWAAADAMCPCK99aAFsIIjoO8TskLAy0fPaTa47Pg4+GifhgQCufh6y645DccPCny7becTXJtPXt1tueXCEwLy81u8v730oGEoAvVDAdVl2vdxfRKfg+aTg3sq7mAc/eOQjRjYZIcctl2hoO0s3g/jeaUl7RVJcV91WlzHRjyX7uXHP6VYOUieBVlgTirUsxzEmGqzPp6W94cs1voTKR+MigU2C3Ul62irvEcs2P0MGg9xsDdTmDWf6v4A/280BmJikfGqJxn6E3IdWtVVQl8iLHCksPtRodCs9Vn/SeWRw/fz6K4vRPp1tK6ndC1LAhbaOH9wbpup3UlXkkStsNxv7D21gVmBY6CRMvC4dVSeAXBwip6sZJnqZ4wTPFh99XSHL6ahRtf68aeKw8cB1DRnyVtlACeYRAOB9tVjKx/vy/jn45MO8XJdyUBc07wQdPDgKdQJhP1GXfmYj2hfXER4MPdBsakI08ngSwlRjA+DqXToo6OvuO2KW/zWxpVvB0kbOj/4uR/rqt+KP178momXtSe2KTwwnQALxTrWXyWC7NWZXR9w14BqwAAABakGeOUU0TDP/AAHQRpeFdIbbAbsEyLcwACIEIQ9/9gEFbGHa8HgY8aiBwCUG59s5oMYcJ/AMZOeFwHNvW6dWjY9XjB+j1cKPf9qChBepgMRgKQz8xtA6kEMWYDIpWN6ouyJvUELvI4tWuAn5VsX60FaDNXJQrhOy2RE2YM5mqdHEFGcHTKCGXPFcQbqxMLeRl8a6uj5jy54IPX2xvLKPsQranjVQDzhGxiKVw8bpe53VWWG7z7yWQySfZ/rHwBT08EAR2m8ooNrRUuqx7sX2aFog/rRrhEKSg/8hWhrAD+/tNqAE08woxg4OKskYJI85I5xVsTIo0PnMLsUgfLr/70iHGkISCH91B91cLyy3QuLzbyvFnjp+QiBqDMrhqBp7RJTWKgAY5GwdD/vTGqCKLVYZG3Du4uQzQVFkp9UGyUuFeyg98ByKI5ZnRY769saujwMJvkGGwk9Q9XNegHQ9BDtOakPZUn8LWh3RAAABVQGeWmpC/wACfTy51EGiPFegAiDIUw+XdvwiAwH6LCnCoVp75hktIyNH1uiDr2LfS2pZty/XuAi8tmWTf3+nIW8rpOAVb/cqys+XNM/7TwwzUDcbHY8cwvPyMIsAaBLxJWWgOeEAt6SZHTZA4YRHuXDGuaWzy0km5xstMS/3mij5nuJ3warSfO0HXlQSIqD6ccZSQoTXckKFn+FDSJlIZNuYF/mKRhfoxRj7rHrNY6NsS5+YMzcJEDwSyhADsQkWzbezrG8VXJYspaPDXb/aJ/cd1Zff0fHL+E69a4cnMpduqZbBmLG2Ymv+bqnCWy75fTd81lVFsSCSEEZ1nM2m277AnhS/S1Xjwaj21dCGMGR5VqleaJosQuthJgwX+qkiwBByGljkqWlMm3kzevRsldFu5RCZkQyx4f08B4QSrsyURDrfxXcIatNn7tQUMZbGSGu2wEpoAAABsUGaXUmoQWiZTBTw7/6plgAAAwDAi+vrQAld4oS1IN0L4kPrngdjgXpI+uGZlN0JEhsbidw9uxODPccOzXGzfe2QV1m0vwf2alCROoc5WvbXMMYhkkAUTO2GXBkNGoMWyNZoGDO9qpM97xH0e+mOKJtkNnH4MFhFtUGz86QMjdTNEXsUwk22n/2QuxhWBdf2SfzsuAJU3JS4t7xgRWrP22hn49OQVibRYakY38iOno0KVyq7l0LCKOp8GoR6df/Nq94n2yCV75TJ7y9CRgQz55s4R6X8pVKY+XZjFy6C6tGJXUfeh+PvbDobGG+cT2/fwf4pODEIonSYhsHv49X6686RVox9UcjqWJBlfLyoFYSapZUszSqRFVBdRjAjFnnAZzYpiThaILsAK/ZH4e7k6W6aoU9ghhqOpl+YJm3SbHbAU7poBhuCjvqvuFooUuwID0aRsnUHJrZ6kfJYCKzfdnJaRPp49zESfnHFgZ6XfsHQLvc5y4ab65GLTOH7t8LEj4ElX5u5p52K62liy3Eiz5+KbNcyR14LwDREUk2t9oOneLxUeBiTFVpW0SLavPLGoqsAAAFtAZ58akL/AAJ9kXuITLU6jdeVBzoAEQWeAHmqfBqXYli7E/oegryxhY3450qU/eEByBy0jkgN1SrqOykWdYpRQenP979drL0yC6u8iHD5ze8a0nGWyFot95hwWhvRidiWM6VtEEGsTx1sI7vmlQcVwTZPUQ2ksPzXBAUFbSEzDncHCvDEm2rUvgNQ8xXOr5EOytLOFPQY+N7UT7vaJBNGmapX8+SSMPaimzFnXm5vyyn1KEdRwWdUedNng0yTkiMRZJoolg8m8SFHc9o3Yqbbgj2vgUhcuKHmUOxS5oskS6CAK3B4beo3Itpy4ydk6xNvzAy6XikpvW3NjXexcPHB74iopFoa5eg/MkX5GWC+3VgSgVAkk2hmaAvbVl27bRSlAB74m00uk0mOhzQszaBahN3ma74Mpw4i6a/Qd5MTnzfA4pBt6V+p16sUEsfLWVQs8XTe1c+ZIva6SOdWiY978oBSEumxUDWMuUIAtoEAAAGcQZp+SeEKUmUwId/+qZYAAAMAwEt1sALZC9U08NbIDQmZMq6Q+iptWUyP3PILM9bxpCvsqE4xsDdA0i1UrelDEmNeMSwTbPF+devs6dxWQt6SGFcfTyG/dph6xAPXwWjasw9q+sWqI3pwypQj+D7ytt2n/IgnK4c616gtxAAd+pyM9KmRaubpxg28mrQSp+XX0iphfA1r7Xy9x1322Ddda7UDs9yLEP14jMH3aOZNzohgz9osiB1rysr/ISJfO9w6FeWTStORHyriOIlHm722/Q32MyqHh3LykhnBGiplQvimH9nFAjJV6GWUzUmNTyi4lMQ6wm6YlXs2S7uCkPgMi2R7pCOcNaDeRpVJycL2nazq3rR13O1a8hNKF27OAqfls8HZhuWK2aj8iwMbdOw+uozlF+UCXVMCForFh6Una9sxvYM0+NMQosE5I9gWn8nDjM08NehOUkgCX9+h6mLtLDESBj0ujxY7bHTGXfZprpqJqjobXltlHU/fSOXwoaQsQIm/pDBEcYBTzUk8lD7Ufb/fpzacjhFMUtEHRgAAAQ9BmoBJ4Q6JlMFNEwz//p4QAAAFzdbo3LGK4AWuI58kWN1fmOXXb7yk+P/huRCdhzF7bKL63fYYmzBjxTjc/3PTWN9Qx2FP7kKCppXTItF27IP+bC24lM0ZZsu6PPd2OD3kPTrJ5NwgDR54neDpAk6+tW+tabfBTybtk22l4Hla5jBZe6hwUzCdud4F65cxapAWK/6sjcdd9EBnvVovrwnpL7hyoNLjSOJTvD+8AYZC2tPfF4cIeB8tV1LLuAB+pjFIc/cVgQJ2RVUyLVgGYfhlKQ27/2oXPya5CiI2LzAnN9mjV1Wnz2TI8cAx/D+//WFuaSAn4BfmwYyeriobX5uLWFwPf3FV7SDbk+9v7raAAAABLQGev2pC/wAAGwK/V2mwUsbQoAIWAJnXjPVkuTbbFcU1tjUDvipJ/tHdQqoONSJjE0GMjVcWJWyTrrJ14QpNWsZ/DggJPA+Ve3SIBXXwnjqZ1dsd4MsWPr4HfAsd8x1i9ZsWUSqOvt+95QmI1Qepo/Hn9RSJG/KnJE+9bq3tylyTm+EYI5kBMSoKMheiCy7Oy9AH6jQcQl5Sp1it4/kJhHN9iYG5Z2Ni5v3YK0lkHofQw3Htg/VFgFVs9BvEaTr68zNoWGWX8t7/Ed9D7VeWX9Z7zX8LjEvKeNME/cvgDICM0FTbuga+EbfhWuF6mEujUzotSx0kQvPuZZyd/sw0bz2yA2GvHp1L3ZMG7bVKwj4eBm9IBIvuUx/4095adjIf1S2KOjTngN7xx5dY1IEAAAHqQZqiSeEPJlMFPDP//p4QAAAF0T1p488QAfzriuKGM9Y89JlezvRfel4/Y3F2yXLIF87t3usj03AdK8Sua4EUFD9J9DfgC7TwSm1XRmR0AgLAqgchucxx4A6gSsSOsFSWTtj8uA9OthZFD8rXaaEtPiwkBvsyvdvEzc/IAIFzTFMnuXiWoexsM791rzy0qfakntvmmcJUp4DXIgu6+yOmX6u8BHsSJYoTlal/tIS9IEyTv0XmyQNfLoBwBnis8nK2HSc0AymaKuLnazn87HWNTU/MNq3Nu1FQGvHbteKUJTQhy6Xq+kcset8dCRs9GisJg/sBrNSTM4D86Int6nrmUYwXhkbEz55ukyvDRWLWk89o1bjNevXmJhwK4ATdCQxr2NeRoygc6As3cnEx6M8a7umwrY0LMuAW6dgUdP7EpfHN60g1j9gDh8rySnTdNuR/cXKlZKOvgIORStcpBBbbHMcsfsRmyG8CpY3VvENUU5+65SLGQNETgF4BniWKY6iX6hWkbHF9eijzlWBBkrALh5lidcXXaxxuiQ8AC7IZy2M0YgnUNqyDUs9O5Zsw6ZzgyWJY1iblOlX8B7fMZDPvELRKIPlIziYaxoZ7uC9dWx8tKMp3YNTllhMr1fjb9yoygXv8/1XLBBxqSAAAAWUBnsFqQv8AABsCv1dpsGYKEpnR9YA1IQAbN++heWDwvUJVl10+aQuMVHPKQbFliOu6ioh4xi3+YzVPXYSmXhP7C2FF0cxx5Cv/hWcrviz1ORNDQWQTWZc61cqRxw6zP2rLsJgeLxDrAmMmT8zqcvaI55IK9oAQfNUif3RwTqxeD7t5401t+0IMKwRrsfo7TvLPZvxkz5T/zf2BOdUyw9fvXtGEdjqbnJmZazaT3DZtKy2weRYHJDx05MkzMaHhTUjtkDM76VgAGuLc2f+gfhDRNg1/qKUt6qxpE4fHdQniEcgVFcMv9KG9QPV0PkdAGG7ZGAoEF+AYQY7TkFS3hpkkAWgfohfqnPcYr3+AcBqCj2Brrnu1CUHJgsgC+JQYohTvY3ewoMf3g9anPeWgHY9sxFJTbEssuAwDHf0pg7t1hwvmi/M36Cmh9JeupqYAZzJdtlnPIhCtBmaresEqXZGoudfMV5EAAAI2QZrESeEPJlMFPC///oywAAAGC1p8JQ8/QA4NKMesbGG7Fjp/BeztlCg6pKiJtAI6HQTtDp1lbL8Kif78LuMUhxOvMWT9qBs3NXNi98klC0rG4zquRbsygX/vjnp1Ei4rjfwkMwT9+sFTyc1i3tKXJG56EszW57J2sYGFy7areiXKpPa3FXZ+RHdUYKGL3lOMszasYSr9TnnISByUQ6c4kJd12j+J2MNT4t9IBKM16Rk3VmajET1oovKHspJK48f0reramwyWdz6HQCAyotSjFtNdyBljO7G6wODzRGjiTw5hkWEnC6/9Fsfq+iDC4LSSa/sNDd0bLhTqcQPExsw8DublgYtC338AuI7qkp9eYnRLgHG68sW79z02PPqPryE8gQmlnvyWtZArDgzbPAiccIpDL4LUzF9ieM/eYs8Bq8ae0+Eb9PKBb0KuiBIWff/uoLi3GwvrdAqTSi2Q1Hsk1v3TfvercxDiAQ7QTnylr2srJehHkwQ2295BO97K7Aq4O7cNOOgsl9toOnR/XWjxGkUZPfdnr0YgTH2V+3IGYgCRKR59aGlSmpwvAiVct3RHxm5Fay9kVoIiH58qwtjs746tr6UDhXxqd+WLg1boQmVlhFHnItEfpACQHgA07XCsaBxrP/LJX9eZixn+QLQqZVpTxS7mxwcDgj0UqnMJmAc33xZI1CcgOqXuvQI+fLEDUQlgrnKkto+3zVhJ6eaSbqCSsj4R0KraUpg4+6rEfqw1DJg1PIAAAAF3AZ7jakL/AAAbAr9XabAW1U/dawAsHdtlu9s57g59XgFQRSnku5rNKTVZ9R6les/Wijil9f6y2JHdGNXb41qwteUfjDO555PiXG1J/W8OaPQB5l0u5IZMzFejiTWxyySqC+Q37O4/PR8SJetw7Ru0wkUxMf0U6e3bOuR4FRriIBC9QPRUD8eEiVmE5o5aFWQcvizIjao20c8+JCWncSM9zk6RBcAbJcHzc/EXoPKxAoaBtFrngcpq9jZxFhhjBXTLNgp6H4IHyamOp1evkQYe1MpXKIRjArRmD8j/G7erc+ye+dqCbRMhfKffH1bOVOBwkf1pUeUS+ncoU6whMIpPtnsB+rHE9gNd2Hu8Chy4RBrdD4wFy3PszeU1XO9yYyYpsfh8A4Mgoyt3z5XBTVZh+dSG9g6aSDmEarQWV8nHOqwjnTPRVom+quEHKhSVFinGztKucH3aPKMILtTrY3EShs2j5dJ+Q5fI4V0L19Lcxnjy5uqTGDFhAAABpkGa5UnhDyZTAhn//p4QAAAF9FdDJ77G/QAJ2hdVtmA9qMHjd4GiDovUKcHnt3xZBf8D8y+/pdI8QgoxhnR76V9MX9QJfBqeECKdeLvFJwodclkjcZHG+6LPgsm3PE2qUlotdEGJaH6BW/gUq9GrKuIiSZEsUaaXZ1kIVF+WO5W8sEv4isoAP59ixaKnsLj0l4TdvqjWY/cOPJSlZNuVs1ZWYXxIdRxrpt6YjoFG9EpKgTeoddYFh2mlgaXvAPPOcFoNtrcOnhZ2KUCAfGP+z62BMKQCr3URCGV+v7tujtGTW7z0EnaNmU2uNIk27bCJxyk3fe2mW8kva1vRiIQHc3+zj0TIKo4kR0JKhXWfAqK5WgVlZtp+rXzN41gGP263MVFd4pUNRQaqE7vmuFTFfhRdY4gzZbgd1TwETTOHuqnFG3VA+JQrFJ2Dqt2Uc+6j4x3gQ7evUGMfmPfK1/pbR+Zl/sYnFY4jGGOCs1hH9vCIAEQfHG7VQw/ishdMKRHmxCWaEVnpkF6DzrTvtBYldOskS4VIGXyaB8NlPT9Tv5RrqVzwHfpBAAABGUGbCEnhDyZTAhn//p4QAAAPgHl6BFzrK+/HApzPrBzN48eaYLTORLBQm3IQdJYAMHFnemhW8ri6Pksw6+yZ8JZ/JCcw0FnT+wPXk45zzTjwLRcbweXx3QMiTUtFU5AwO7oSMbdhtHTogKpHAtBGGSGnjIge8tfmWS4jtop7iFQRXsjcbmTUaU+g+VVruTt/5vKfq/oflrN8fVmFjLyZaCv5sRv+dHZdbAdncUPhBFrMO/rv6uL0vbNnQ3tRPpMXB6cgp97zRddiqrk+Yxpl8rjWflMSoOj039X+xMMak0gaKvvj4xTcY7/r6pTk2QJJdw6hyTw24D9aCGCSF4G2xMKrzXFRPTiWu4dLNTpVC7ERklhjgZJvQMWBAAABdUGfJkURPC//AAAbAr9XakolVolX5cCNJvRcyMwB8gJQAF1HfX2284U0HMbLLZXGLsbp6qrnM4g7qg//AJEr6q+MaeRYBpideOY/+vDJi4zdwRMQJcmWVGf4IQBFlzFtummr9lGMPGQ+YBC0k3hjo/Xoq8u5wwt6YiXS+1sS2v+hLUVIbgoIU8tdNqbNPltDPtc9nPHImVWyoKO9mTtD+sw/Qm1HVpQUxleSpQw2Qe5JTptaLpvTgHPhBGQK1FAHoRXLDYTHwLY3sLg+8uPSjM+lF73cBpHXdWWK50ie6xJ7uaYbgwizuOirZqgxiWtRhT4S+FNCAY6qd07u66qcxZEQcbc818DSJtnPN+6NBKuAT5LPGcrP06JzUQRBG6Md8UuTWH77AtvOFxrwaG6pjC6L16py1U6Sv25VdKtwN4wMzm2JfO3mUtuIz0dClDLmD7BbhflHrU8P19RnrbS25G4hCfpBtckpxh6/JLPq+YeVCetAm4EAAAEWAZ9HakL/AAADAmucdPd7XHtjsyiVREUoARgYyx5x6Y3HPCfj4qfvvMj9FcE4QfoS4NW9/zGxFWygeSiAKJBdOLWZ4p5PAM9ygE2FmpQrJgEKPL3sztP+Qf6fBXQCaH/Mnp0mVJDnUaVz/rP5lY5fkYZHlkF95JZxqqkcSTM1lzE2QJcjmFDiGlQ6Ovl0j+eG4Tk6hgjIptFVBkg0LqIWiy8mPjPpSCd4iT2Abqv9V7IGCOk0F5n+5hbGKSLZN82Bo9DO+9gPFbp3yMPsA9pHZzE2m8n4eKhqQSpS5okskR8bdgNqJfaanJei1fUm9A8NhzAey3VJlbnMpio0bgsfs8khZdJ39kFX/WU3FPi3jINXhkCRBHwAAAHKQZtMSahBaJlMCG///qeEAABndewX7D82RfABxBomDGcbAN2NEInbZLqmIIc315cV9fvZuuJprk4rlBbHWPk5A14AOeBxaSq/YO1+HcW/i0mEBs/FFPUCxQTYKDo9EU8KbVjpvbqgv3+hJ7TxMLWMJvnO3y69LmdpMHMXeI1WROTWk3sqSAIzy+liSijfj/wRd1NT4+0g7LRISbSANDFqcbcT5I1FkDdM308B79+ZvPIIlOxfiGbryPwXbURKzi4lxYKXfEsdWt3qzSY0ZTMYqbV9U3FbEO4kBv4vgJi9/G8f3JI5pjehi3WwIkbe1nvJq//yUFXneTif6d6pnArm/RFMv8+IIUXeGlnhUbdWA58RZELWJ7Iobkgbl3PLGiFBo35XrknK2/mjy5Q7Lh0yQY6eTAqEQs7BFX65ikxu5JfyXvCNRovD+3Rk2fMKETVUfHxUkTB3Koqx873ZEi/4fVlihUghpko2PlBgNV2Xe937PCqJw+bIUc2J9kXlQgAAFFlvtNPCOG8g//h73wfFYx/vXfUPpw1UxKNHHlWmC2hcG0noWF70KgiicSYPchgKKO6H5UMR6hEF79F9SkYFKjTKWJplQd8ABqQAAAG5QZ9qRREsM/8AAC1v/Eu2ilh8l+U3F2/D0PC0AFh9eC0eE6Dwy68mzTvL7t3f3yQiLUc1N3MD+lyonTXAZd+b4ZT64yCZp/ZbcTn9h8Br4RzJJIPw5x5UYR6ZEoSdpi8TO2Oi8bmFaXJbfVURJg9A4x7c4SJJcu16wMIo+aQP+KA2+oLTU5QUmniIYd3t7Mz3dhqFvIbQbE51MSQXWdU/m7gezCJ2FLz5nlcGgRIb2UKx0i/1Bo7bRcsI4PHErlt7bHlfVCnw/jFaa9I/TYh1OEoqs510tyNlKk1UFrqMaZF7x4Z5WPL7/ccbpOatl920XaTz/pXoxLS7vmu7sNnmxqKq4wJ68FppudhQYrKslYkAKFNkFBlMfRjEW+foJARK7fzaV4q/mtcyLzuS7zcucGVV4tp2KdFl+ufv7U2aRehUaFLpFL6mOytfulP6ttEt/89jUGcWXRk400UaZlk1JJ01FkbxQMtwawNRPyLKtB1U4B4gMrOjn30jnuCe1k5Gtdn+0zigr0nwUkB8BSmYwCdwWMbrsJ9hqSCzBY+cVKHIM9qiC46i5VEpiYT2Ut1DgJk4ssySUAZVAAABQwGfiXRC/wAADJNglrb8wFRHsxE1gBa4qMeqG/hELKxZxsDNuBK/ahKlmKXiRFRUgyWL3f78a93qM4Q05UFHFTm7L3Z8ApbLLHrJSc9fvGdXEJMVdiXzEQiyJlHeqv9goW8f6O56AR6+AQaJxqi135zA2IMmTMqnI8zLXNucU9IHdBH8PYdkP6DQ7d7bp48L31GgI6lZwqFf718jD30FCVeNdCK0VPG3NjG2EoEvdD2PI7L3dX8+WYWApSgTVzghHrrWQaQCnEhXA2ayPuKvtc5679l7DtOjcgFtC+f4LvEvXADf70G82nMTGJcBR9eFzXZLF8VzSqVgbg0IsumL45s/vu97nKqeMtJHIskQ0BumhYif5qr8pOlsMRXCzTw2KtZT8EEwmvYC6jFbFS6xNM5KU26UN+DYs65az61CoBQZXwbUAAABZQGfi2pC/wAAPMl8NHg9gpj6QTB4ATV6dFtuw2VCBg8pli8Ls54gFSc9c9fItEBgq26+X7trplB0gGGxrd8gnbYbngreoP7qmIrxKNzOFSXTHxWLG9JdstNDMFicSztdlvgQLzfjBP9FHpp/YxkPq3WaSg1QNcZhbZyDOOuRyEK4cFEuyiys1mh5zKbbZLUE4x7JlDwEuKArNBMGkPWbYI79vk6btAJC19wOuejweP9E/FSB+wAxMjSz4PirKmlQMrCbulg+zewnrkxGQkq48o9DrkukqbG5uFKq6CI7U0VU1rDOTMkWWRf2+kHyy4t7zjbXmBhcOmXFUPEJJE/oekEmFkwlqOGdLTB8acYRt7QUBC+cxpZwFFSHD9Cmd7BDsfUnKQBKpzs0uzZcjOlRdXT4R6qp9rVqLzd3FxZ571g904stR1ZNoL8/iaAGX60q8cRGsTFKRtaHFX0bIwBqNWOaMAA6YAAAAUlBm5BJqEFsmUwIZ//+nhAABxtc9+vAnOtAAnHmFlL3JmoXxT99zrkhdz+ITtfiv0gJ3d51KQxEK+6gcCYukY5D0ex50hrUcMVgFc10bzJRWQIed18Scr02H6rCj4Ojl1n9DHxCw8PzH9F6kqGo5gY9ANJdd2e0arb+tMreHFH95xcSmCMtpo1iTrvDq0tE3tn51cqRT+kSrKn67BrKqSHWV3BIGB37dgGigYV8MExZkDcVZIXfH/LfJy8qvB38pgcrxo07Ue20btT8YO/8YDnQwBa2QK/zOBKEibi2aH23Jndu9/kRCJBeNKNM96Fy5YduQAzS9cakD/JAvDsmpKMSkRhcqPCYTylJHUhVl11tsyNL+WGOSKjK1F56kPAFcfAj3m8VQSh01CzhN2Z9yO094zibyi86NMYlBWsbq63mHcekx2C09oAm4QAAAfdBn65FFSw3/wABee7dzLNQHgC/z8H9XXGbyRei03skzW9n3/r4cARrHqR9K8CUtGDqVgDXk/KXRAq4999PUkmHLw8/gqMoKnI+JD4NAbUV4y4Fi6VXbrKluochqSjhj966rBLxevrAiKeaoE+oBzz3MrQqanai6JMl5HvTgJ/PbsEhkKi3cF4NOrs/EnhXabuMZlHa6WnHyTPqwLmG4ThM4C2X1NWyij+x8T2YSGGloGM4Dt1x6uTYlbZ17o6cRfzS0qkF5E43YbTPg3ExDoCfIhV+rj3UAh+seJjmyft1TdxLuL2X2tjn/VJlLm5YjW1yYweObssuh9k5rCKSuYL8v/21e5q7AW7IXM4N2Fi2dwDO6QEOvNrEsWTDDbGpKk2gegGafMEL4gVofMVSk369K4994jSTk0CbnBRI0wpB8vs7rBYABBLWndigmnl8e/E8VcqF9UN36bmCawtDMblHlWXGpSETz4fC0mIO2/T65jJTTUF40SMWJeKHrtLCQGX0UdRUt3w/qAIHDOAN4JU15uDwvjuMm1Y7jEuVXrr4uMt6f5rcaIw9UhGe0ck+EPKb7TufUTSP6S0j6y5E4deJRNDMiJfOJ4zC5Ie0aAp8PZ+qvkrEugV1XBXUWPQIeGvuyfwhlMA5q9XdHUy6WjLhS0ztcAAqYQAAAXMBn810Qv8AAnyRPtwpNdppzcq8dUgBLVeNV4nsuTBrUVc7c0FPLT9CNh9kg0fxUHs9Y8GPB7EaS+D4tGJBynbrtsmJ84kuvO6F8kZaFen2YByalzElFD9J4Mo7VsPOaS0blm8eiw/D2EhXSUCZ3UCcC34t+QwfRf7rejFjkF/BpMQ608mVFuC0IXecgjccl0sJMpam5K4roGGvILNT14oZLo+13Zn62+usTI+zaCyyz70ixtNJO/ElWGlVM0mFQLIlADWTPHtGHlUGMDtT25gV4ueEurmIASOME/QZNRrDjRa33snSHnhnion1on1v4fhVvhNTzvpnA/z+Ry/O3tW7rydXU/KRmlrpTklY6lvCsRF38J+jQFXKkMlMAv7jSvuoU0XYKnk5LBwCbYgrgT+DFgL6593ttm7jMJ9AgCAMZJaL2EeSwawYaXoa3gwo2X75K5qSN4L9KgZz/+3XOdD5gi3ILz7XVn8DcQ0XesWlzACZgQAAAT0Bn89qQv8AAn082XprvshsVRRKY7p4AP5jHpYqeIJ4LUbPbMzkeAmfz+U5B3FItzsKI9vFt2COH/JZt/E51wnJ/BTUi9kkV6QQGuT6XhNjQZxDdiCOUUpHp0iM//8pbMsqHEZQTwdrM+XoVj7VT/MCxMQcEl6n+sOLaK6vTFBFg7M0hvg4LTwqqe93TuZml4jF+rSLrMbJgQPIrT2nZANZ6jVdewEK8jKIQAFHQlavLoQy56JCKDd4//hlj9jZL4Cuervy4ufKEdqwbK+Un2CAFRfvHwQ9FzGA0yBOk6KoSOlKgsPLhNAq66qelTO00PoY/syPXCtDhUszpCkRrFCjHCkETFA62QfV9i40Mn7nxYqO/x2NOyh4+yarR+RvsyHON40zi2aQcp2aOIclWJ0DVT+OsC4MNTbDzQBgwAAAAilBm9JJqEFsmUwUTDf//qeEAAHR9w5HHeiHwWejIBQD/04FQzKMyWmMfvpLHL3Sz0vO0QIA4K9lybole4KTzLKjzjrid2H29OYXnwVJ7UcUuGVTVWtSuNXtKEzz7/7htKW5XuiSLzcudnUFYfh3b5xy5tcMbySqAD+EbaYgrUE52FWecG9Z6NnEwflPYkcoDd9WNNzk/dzm/qt7XRm/26EfsygYRcR8fpS6KK97Qg5toCeTFahQQRm7mKMcKoPqpv0VT4Y7TpMpajWRVqmIcri3Qrbk+JzF4JO1s75hmZggFWmaUapXqFrD1qPnIRAA2cahep59HBEJRF0HORVr78Mky2fcFiSI3YsM4942Gj2cJ2P70Nvo4V3wF0Qw2Cq+Kg157veCVhsIQ4gbt6bLHi2wR2emV0tteWtLb2lmD84zno1fzuJ9uuNRt/GrH82bTzDrS21clpSX9Gv3V93Fok5DuW4oArFdT91eQZC/fjpzXukbLJmwghEpBQ4coHkGC+DFbyY4nWzbP4ewGM1/U/u0Ej0CZryUBRwk9ciXQxbT+E0wlm77Djkj72YsSf0ZeWUSuLa2tNLVRbSluQJ1BM1QUB9FwT0Q6ijBSlRjqpP+fTdIGFR7VziDTnCq85VMNoN+u3qDnoP3pgjd4frwRsiliJsCe2IQPzT5VT3fWS41pmePPh6kpbhCjTkblMcm1/Swn92KHr2oI36zteWOP6fSU8hgsZReAAV8AAABWQGf8WpC/wACfZE+9204XPe95qwAmmi0DKfBRL9F5IBrnlcoFWnEnlcxefJIXLt9XWvubNDTewRpvUrDcpaXC+uLawqxBsaA/vsAxS16C1CPnyLQAm1tltMUK0li3zXmIFNcncxEGMlTqG1sXEEc2YvFaIUfnIrRMFWGTO0zkxXKW9tPIpaOAjfb0jYqGqQsimXMDa39+Ef6Y0b0QJEiUmq1YuMrC0S2ozf/jItQCmInUkJ8/OJqH5hC6vjQteW3lsaJaWPzBztIKg/rhyFvmyAr3T5fRz5EwBbKZY82uB39X10n9gn5hHTPnkc1Z7xfwlsV+p1uZCTxSCvJqyyWfk37MpH4z4oB4ppE/bgkyKRaCQStKazq3Uusj014V2Metw9pgaYtzjD8BtROnuv1yY8FhRnlim1XqEae1A0cor35Sh3tgFUdsbWV1Ewf3lUU/r6bd5SoRqAVMQAAAblBm/ZJ4QpSZTAhf/6MsAAGq4Tp62uDQRU7RjjUZh552MQhnDeMErVoAB0jvsIy4LGJkgTv0vqX80DE1Vyy7sq7l92tUz7bHz5da5YsHPTmHTqPowBV2Hxf86qTsjpsBk/MG2Mf4YSpfb/PnxyHpamFpOYq7/xuKqP339BC4JgvNGpJPAiSpR8bH8L6Rv/YI+XvgZDsL/zUommfZkM1BrS81ke/x37n91szMh/tEPitrVy4SQEtoFjakCNnO68b/k0gK6RnvFN0awL5EReuPx9z1BW+fIisO6Y/tv7nn5pp8bq3NzEJojezGcrGACpE8JDgAqL0UVyqyoh79faBZBZ1qtZuCImkxu3+aV9vWowjg4yCf/RW/Hwm5apC/6Ojhs+vvme9PEdKPBejtf8NKipv0oj2zKqg27j+vhoqrHo8cDAD7rpCQu6HzKaJmX7ERyNV3lOPeJfIuj3jW/3kNwNosmdU/iGsSRyGfYLN9m53FyWEUjBlsYbzQTm/ugoCutZZ8IVumg2PzbJXRntEJPfnOMGudmzdzn7JmRo269UCMUuOjJ3IoIHDS/iERbPuO409g+qRMt6AJeAAAAJbQZ4URTRMN/8AAX5CJBS4zXFo/eIajigo7/B0JLvABcn2Zg6g/VigRLym5f0DuT1AczWfDcfswXt/hwD6ALI6hEjv0LYnIcBoHEo7adKeJynzbhXVbWB5ecGM9tsFClPX3+MtfXYfyJqcGT+/kZ6i1yGwxJVw/RYBi6kvcqrypQDMSbnpm9nOqsCx8iOfrh/TMY/ggkdXdaMkMU1EXTPHxyiCqrI9mM+iBKYF5OFmpgJ9dbREAUEjz8CNC6KO8AQRcFQhPJBvHnFe9iDvUWJhSmXuKmWAz1OFWqL0X8iSXW2eWVjh+/eFWxZuQKD5SZSk5y85DdsLAcrEwABR1OJyitddks6fHIZE/DBcstbT44DsmkK4Nvoq6K7ABB6S6Vlv9HAPm0I99zyGF9gkqYy0CDZ0L//eIfo6ATppN2STiJfrNvo01NDKKfeUwEKy4uD47qSibweJbxMDwbpsRwtMM+Af8t3s+7iTgaovhUNd6wCMncSU8v8+sWuHClZyg0QuRT12+GAmFvfv23DFi3fC2h+XeGWdUJZbriR56qPLoLcUef83H1+Lp3VPWCf01IXM99x/QCuN2ddqX3tj7kUC4z88sl82Jxm5lygXFzshzJy9bi3+Z2Sct0Jtxs7MnWnMSlSjWro6bRDs0S+HlCe2Ybvg2MQ2pzOc/qXHQXw6GhBJVWfxARh2w9PzBXwRmcUL3HK0d7+yoS7c8FvBOwjZzSGZVjtRR8PGNhBPhymFxoy1huCd5fC1ClH4mnwqzI7npwNh123Hf/29GexiikuAKUFaF5RlivIoADugAAABqQGeM3RC/wACfI/k2KwQaB21+r3v1I/jI7YpTGt/aAImPVhnja07hKnbdUmMOXBmTLCfzc48v0p7p4iut3FEuWp4Yoe4eqv0UXt6bEhyxCpADQkP6PPyPiKd0kqIdzijljlDt7fPYl7U0eP7NDUw6JQqT6qTbHUxIdOtrmOLRNJwekDPI4ZX9igOnGlF6H2Fd+ycPfqF7wl1w6xUxtkVgQQ5sz8rFqv4ztoh72H4fXKDcLLJnvEOiqpuMx3BDZyfyEg2OnGuLN0Rl1Z2XhXmi8+G6lQQbzVm3y+BBhvAzucLM48CEwMrYGppBQvoQ69mkcvR1GuoRPz86lFwY9GC6QtoxbG3GsYoUriXpRBzIqZoOVAu9un4rAEfTtn9bPj+gkHh4ElRuZqkkmHsdATiJPgKRP9TuSBVdqGPj6TL5bR4WYVN+VOUGFo0uZNx2168EEmsdeb2Fyzn69CN61iOMubmmFA82LFnbooPegTeFVvMYnj6ELLXgHZxJzR8z6YtyphI/+Yt9/QOoWEE5fuUVxYs+K1XFukflP3VlpQAudCD0eLJtP9UDAE3AAABVAGeNWpC/wACfTzERNKIWWKuZWl44IH3PxUTVJJOqGAFuwj2+fuTVAV4gwfTqjEe+aHiu6opOi23MwcC0JmxkpPMJ7Sq53zk9dhR10Rn8+o1fchu03vGQAiTJp+QP3yfuHpgNn5OagtQLobteCEjXepKxtbDXMT9cFbDnQOkXL/7TrM1I8LHdzbjUlbdc/vM14rj/KDN6PIfSWAlI2qtEAygSBD4EXx+mvouS9AT8Z2wBlT/AzJ3gIrUv7FRkwCJGlHAYNRRzACZz0vW+YZTDD9aPy6uC2ZC7i5pGVv9vNVgJeLyp9t3Qz1831y+dW4X25b3clZpYpWU8fd3ZdPtgmqwvWn7HOsv6BYt4Mhfo+zTZ6NSMhLeyN3vOsUuTTEq7qWsVgIMvAYQG1742T8zkdrky7046w8LkJIGJSnTdXY71nxl2Fp5jfzwjElcpNANBh3YAVMAAAE2QZo3SahBaJlMCHf//qmWAAADA3mORO0DdYoofYCwn5yQfP0orf+d8HABtVn6WtobrVPXYLWj/cOsDli1czDUXGLrjCtL46k5zVIEPTdOYy9hNPrwtdyGpMxi5YsVMDCDcv+EsDeqFpmEtAnR9FJZMiPvn+S+CdDH2CDue4txjP0OaRwGCIav3NHNbwSNVlPlaFm9JNzkPoJmf5HUb+QsCbHnrfPXYferrQOCa7bYGMqZDHBlS7wpU1cPTHCWHye/CTprhszCnZCTwVpa8A5VmFxNTVieeUyf5CaY2Fb43gYCleax8XPfEPjjpbhb3wDOeOvdzxKJ8EEmYVJ1ETacBVN8o/pfw8DIpQXaSFzxvjdksJzpETmQNb+NSOUdy0jnUcu8Z/WQu4YAykw9zWe8L+0tpOgBVQAAAQxBmlhJ4QpSZTAh3/6plgAAAwGM9tAvf5b7dvP9KXCRQhbAAcESMYHmp/eojLx1uTvGom8ao2AcdS4kfBUNZytEc0yqSc5dCpuqkXl3JOsKcnOLhe+gwsa4Y4BK23IAkAPUb8tVFTJt3aH1e6PfrPnZ8iD7Lv3obXmYJVL0PSvn4FGevCou8iAAJsa/PpmBdTeLVz4bYRbE2x38Gu+4tOkPkgug/Y4KEw7GCYhniyfrDa/GzGpNRsgGVj4xxNuQwgO9srWyWNx2lh2q79JTCzizcqhdMWU/XVZIX2mZKgGOXOW9GnczOpeWv+bDE1OU66WzdSEVUvD4WlskrPywYohPw92s33irPk6IiATdAAABUEGaeUnhDomUwId//qmWAAADAMAmyJebzQAcb332vnW8KmsYOOFhfvVHret+cWiZjZ76hjLLa0ytAh+w12TqEnMkin9CfZPBXszuk3M0YFaaLgT2uel/QX9K+rvtNDMtH+9hsTDq7rk1xPOnxAG5poAxsF5HNpl+J4/TDuOUtPRyAwC7J3rrFNSa06j2++5IhC+/A3cQJChEVrFe7hNz5FZkwXpMpwSJR7/l9I1VbQVmmyDEr2SZMhWYoVIWVhCKdL3jl6BZUYgt6Nl/v7WGG9cM6Be/MCd/YfcqR0OHp6xkG/kVEeEhPfOL8+DwrBD4n/Jx9dbWiTs79HVt0s5aUHAK4mCbELyhn2Rte7HK/if66TGzKhPzeCzuOfAEBHzaKcxbKXegGy+aTFuoJA6lfT9QCEnl1j5gH5Q0tvzX2vaskutDWETqHpFvwlec46A9YAAAAYRBmppJ4Q8mUwIf//6plgAAYz3SoQ9zpGfWzLtZUeXbABdKGbisHGkfGMmaczrSog9yJjXxMbLatv5ZYIQBAbkw4QaPTDkRgeCqwMYeUOHCGMpLuST8qXVQzDaj/dqtafuJ+sGxqT7xN3ZvhLT/phfzOLWxE9BjOJba8NQ1VDcv1jgFeKAqztRrA/MBw2LlGvjulfVk7leJmvke7ILWmiuT5NxNXxybvStbZ6KKSXxekH/v/6h61bt/x9/mUUysgGr0pz3GK+bFiYL7QLg7Wdqg6I2qj1dgnxDmrB3iuSTMJvRhSZtbdqSXvdYInXcxqW8cdyJWySUYw9QbHAxfivXRgMudbWMCikAMffKmTRcytEttjgkvEWpk9fEp/WaAGwF0KSuVKgmj13bK1/Sz9xiHuEEfiE3+JBn3VUlSbA3uj3AqqT6yvexXywCDRsJ1YMhq6j8DCN5CNmBVLPuIsb95Xj5QINkxxpSfPElhJFhoejAfH8bnGjWdi8XMsWVDtXuCrAoJAAAB1UGavUnhDyZTAh3//qmWAAADAMBNUMAF1TkDyTfHpZL490fls732uB1c/fdt0s5RtCRIamMDFouRht0hPn5uWR+Gl06BqnzFJMAxlzrc+USaoTWZpz/90gAT1RofKIHxnEmPwfD5kovFuOoK0/2PJoGR8aIVc1g1QHRoAbNiPyCZzQfQe3VYpo87hOjRR0gOOYvW8+y4L8gJI1yLpuPPR0i5Wi7DUdu+cDCPnLzdvn9CFx0K7M25fkIN53mUqddsLG3J+qxAW48njo88Z8noNzszFuU6YcIWZWHvJBLSw/G/Iw8zOtglae8ozCBZ3vnV29G/uKK8DOAGmKycGb8zNpMtTgLUNicBH4fiNEaERL7c1LZZIJzPIkMbL0AR+nboE2ST5mzTrWKBpZ5CP+KTsfKeqi665yUfPeGqa76g4GEEZNRUH041FnoPy3lb7AdZBTWYgE/KHoJtLfzrzxaVaLsToG1Ya6A4a6wnFPDBrVMnTNotPYFloIbYrQ4yFrSqFrpwHA02Ul+ApbNZOi5BVG5fTI2/znqWfC4fLJplEAqys29VtXkNOP3Y8EpDiGcRtUtsAHEZ4cZj5+F5r/zQ04l2G5NSLAANifnYXwJTzs4beoMojjgAAAG0QZ7bRRE8M/8AAAMBfmG/qo3U0AIU8CtNdjT5W6EO4fFRs1xxc9KcODEyv94C1ZUy1npfylc4M+DZ7KB0Gghd0oz9xZ3Fox/W3LmB0CBNftRx+DixkOBhjnFpuxd+UEvfeKlpkm+X5UHwPqcmfACz8aOWXS434DxpTHEY7F0POAoHavjjY1oUb95yISR1Vr69OZdZ7f+hfnjG/GPEJccVKTZIgkiX0tp+wHHQ2MJlBYO6vpk/LYIJL/yrefZCl0Vmp6Dgdlte3QTB0ov+Wf41DkQFuif07TZA4vTRDqzqgXbK+j5T/RAFG1m8iT8xdwzKz7EeWhxC9NjgEJAFTHEuGdqioiL4pD+wGr/wPFNdpHaxqE7RLS9aVDO28ro2GgGGDOxU31GIXGo5SfHcer5xa3rti4JO2bpGItUAOzCmCUMdkOfsimy9maB0kxufI9U92zKAP0dYtWgXgdNY/MYUrrz9oPmleHluPCL+lbKGfwe8AkIuPE8M0mxKKJu7Z6cbL2KkHcpztqZ3i3YKiW5AxoLj+Fb2We50ZNBz6bEsdI/hOt05xwGbn2pZEdGceJgrLcC4gQAAAXIBnvxqQv8AAAMB/BxqjWgANqO0PB3HHJtGRgpynoQPwKaEIE0+lmKsYo1zmDHQy4zGQUeWekaDOdUbVAU1hU4Ml8bCOiEg0QP1+lsdbc+ANd5PmRtqhLTCNzq0UDpp01zxovCvkf2HNNurvUsk3dKxdDXp4f8QKGER/gX79cM28sM7PBtc5dFmEHal8LKdQJPCmxT7aM17k5YE6n7QVOJX1wGOUfs/RjkZChBP0+pu3jVfWEsyrtUUgV4hhaJd48d5UFE+5ALmEiDsk68SgweIDOMtaMxFh6xpLaTMUfHh8HLgc+QpZ0o4FS0xMox7QfnloEUfatbPHGhiiliVgwxB8ijtm1eaSjynSHNumgcglo8gq1glfAUeOrsLnIQiqpIhhDXLLIep4T9h5ce6+/5eAgfHMLMf1+OirdmbzlJUeu9t0LTqYMndty9LprjGOdm31p8JLPY4J6muU8i9veJiqHv6DLUpOA2kRrHu7/QobAelAAABMkGa/0moQWiZTBTw3/6nhAAAAwF9jw6ABcmtLnmxQ5I6UoY0gKTssxzyJAYQjQZ1MIj0FTe/Ttx/tlTSBWW08VnciL3TKJobIhmJvk+61IIK1v6QzCzkqiA0vLnM6+549Ft1Y5fg4/uEcjuUfmyLPwEQQOVrgnrDEfv8sIsVMbJCw5LcXijsAAlKyyh8OXIKAbw6CFxK3jWI2xo9pVtMv0UP529HLqsT92kiOeaOgQtRQi+o/eZa2m1ZlHO4V21tRfhCdLSaPv8n2pPmcTZ2l2DYqW94uadBuNvLFAqwh8QaBZaiWDzxravB+SL1viA+MBd8wdyskIUyDr8QjO4r51JS3UzCO22mv0GeCLztOw+60amsTL1DuD0wFJRUK+zN3kbXZeodo6os11lXpAUKvCQJ2AAAAVMBnx5qQv8AAAMB/BxqjWgANZQsKgWw/ayy03bnNSVUoaBCM5Nv+CSouVjfBIVjSV6lUyLCKpmciiIFYqxhIp+1a/s2xsJKES8JeSDrFNr3aw9kgJwyQFan+rGuPL/G1vtKtXNWGgvJnlE7QOcaauds4eoQSDKSyWaBFLMhia0M2xTCiB6FCaqAjg0J7l2TdkLhYtXZ06YKJNHL0R1HJFyxcQg5UwxTYXRrSFeh5EJkPa2cZmIDJVVZie4TcaV3MgaFpvUzGhmnX8HtFIDSAzfM5p7slmLYSNEt+JHYacbtORvQVRYVmXROZoBiSGnu4CCWbqatQ7o2dhAXUkx0Y7Zlwfo0+AdcT04v2B3RIoT6/S7ieF+X1HYr16/9jfxmJ0yCb56eo7pmePEJY0u+1HD1eAm/xUQOMXErzZzrxh9qa9Sr6ssn1fY2AvPL7Hqam8tOqoAAAAFlQZsASeEKUmUwIZ/+nhAAAAXN1ujcsIkAFdnf0l/9ROQ3LA6RNKfALmGQz3eC75XKcpZdrwUy29/4XY6KOMe5XbwHFSFj3T+AxHQ4NxgTKNbOjtVDxD6/i89fQ/4aTT0q7BrpOlzIW5hdJif7dbXoCYg/cpEbLZ+RuFQQh4iA7EMCHVRxqmNYX37y7MON6FNZ1+N3NFQ7xsmhDbQycFRRyqqhZR0vk2dHmJoo2m1/ZY2qLFJhV0ZdoReZGGUqY+SQF77y4p5U+ZzyM87rb3un6CLd7jwqaHiHilDojydT5iXnJpPCmDg/0tbZ+nAUPntHqb7UL7PZcvEtzn44F/u4CxohnYIadohv4Cha922K5xK+1X+eTjvxAS+9sLY9pgHPNxHBW0rk8I0Yf499T6X9JK9u6ldw3ryJpQGCV5yRFx1CbF5uacAMJm4MPAda1wcHNNz29iL2ZMGE9UvYZULSBUH7druBAAACJkGbIknhDomUwU0TC//+jLAAAAYLWnwNP0AOkeuEyekK9iEK6bAqIzQXyDlQF2O4yqaC1RZjRWsAyM9SijJBcDtQ1rXr5V3SqQod0IQrUujNMI4oUFzjQRd7sAAvU/ZUuZx1IIBMjL2KOOBIF/cA5cquD+ez7VVAgDaJsR9zbNy1HngFPki0yOOq5ct4G6QNBWqD/uCcUMpYTyTKk6b7B8ke/3qqHSCIa0deKmo6oJapfTXsip21YY5suBI0ICEHq2FB7xpo68CEOadzW2VY0oEkOwUcOwAXFXX5I5At3gBv+o/1kAzwcuwt5q90fZAa/w59tUqUEOoMRjy5yRKWCP/jpqY3IA7UxqLPmBtcf7cwhPdSqiANmn20jOnvGzFH7/9hRYnn7jkyARnpfUZjvswhEb4+A0WqpuH9hhmCEHdJ07BFU4rdRuE97ttuGHefhs3I5G2bwpwmJeWH4iLgAAg8mVlwaRUWAII/Oniu1CdgGmxLeBuLJsn/cI2BCjff8/itUonlgnRMxmlM5OT2HyiXhOg0by24RF7z+x9MxUFWEXf7rEGiypNEnV+7XOCkvMLRYYlX9//2TFr8+ldcgwo6IqNeV5M2h8xEeeSMvf96UA/DQ4sgWqhhBVS5Ldn9xN874cQQnuDDb+QW3+grhdFu7Q6YAEwKiuKAcJI6LXZSVxHxR2gKJoEg0LC6casrGbuz0dw3FP6pvDvyC78jIUb2hqK2yoAAAAGAAZ9BakL/AAADAfwccF/AZcDyYRqXledgAh4RJgOJKH0ci8vR2XXp8hfcxws3N7l6MIosT25NqlKmEfCCFnDyn2Bo9Am0mNuH2cN2ln2Gy0r8M+9lN8SijaFa3p5xFWblDjMvzDww7YfWX1UfZOFruy5k9ATqN9IMJV3ZLPwRQ1BVdIsJ1HiSLsSdScoHiPEligdF2CoBkxAAjv6iT3N+HoHlULi+p2OE7Qau1yS6RtMvhgXze79WnxA5VHG5nEqXmtsRNTUzs/8tOR6GcoyG6BNjUjIkOQZv1b9+b3zlmxE6yH6Z28xl1VrGJc9LLrp9kZtchGK6BzQmsFUtq4cxeDN/4HuaSNHrQCckkPrTPMvnTGaoaA6V8qq0JvTG9vviDYdWD2+/StV1HlXQFBvbF8k5/AdxKDuF/HVmVmOgtjt/670d2/GN8m2bktSSpz3gUSwgN+cEmluoJWRqf0scQPOp4R1Ysy25cWBzeBHwYRq86poEYEJsmG62RnmOhH+BAAAB3EGbQ0nhDyZTAhn//p4QAAAF/Tx1E1lKQA3Xriv3p6CuAUt/eoYCp6EFY92RNX//fn+BB4aelzidSZYB/AGxwqtHPFqXJNtkDZKbeQ5pK93kF7lR/b8O534UjV7YdnsnuAucAhuXfi0150F+T+njFTHp7QEXsvCK9x3Y9o7dl/UnS3wCBv+9bA+xrfhtyD8QxdopGce5VAaD6uWK24cRoRDr/PklxYjLXGKAlPcP0O5NWI0WWJ4JNwJdUPELxKpNNMUIQvxTKLr7PMuMZPFU6GuMj64R3ATQs6QLOHFrpJq4UeDpj5K19PfjUs5cm0x4N5oGxes5jTrI4UAyC5rlcFe6wlX0gRUetd0drShHJrhJ283wvATjx1YQe/VlgePDmCv8Z3uF3FwlxMiDYY/4oQ021JmWHlxPMVzlmIAMqzARsaEGquKvOI1to66ONcrH8B+vKOuo4EUSN2dasl5Qin77wgddpEFod+KIR/77TH6aNJnIIs9dn8R6KHBSrvC+PDhDXpKfX0UhqMO7HnLgkrbK06BfZ6Dx0HdnT8lUKke9cobB+IzHw3qD+Tc/4l2uSRhis88bvJSRRlObyyVNLfW6UhQWqJCIJnHv/iqXQ+MvYNvzSnNE5dkXnTRSAAACCUGbZUnhDyZTBRE8M//+nhAAAAYd16AAsPqjRC+eRO/Ouvkq973usOgNiSlmn2qXfQ093rvSHsmVo1T1hd07pt8yaWa3dEezWxSFy/0g/jtQsQzlozOD0Vt/4IML9hhCxnDmkvXddxSzM7pcPmkalopC0Rht66omb66R7dwJk65+16Swnq3JpDT8hFJfpHNMW84T84rpR11laMRAZpPziOgWLFB9ZQnueixBY8SSJweWewJNoMMYiOeVHhJsgIgF8QctVLnJELp81kv0bU9kqpUar23RwxGMJc8HGS7jGuFXgkd/rySBUxpbcbzUccWn2c1w1uRRN3PTtfKXygPwTG6JFvoPD388ds5SfIQMOBmZAOT0RqtN3F8nG/3mWbUN8VG9I7xnXXqYSlSDTMZcd8LcgX55euUzAJ6FKC3bS2LE9vk97wjxwSY+SdKL7Fg+xnjZj0t4pSzE/LXenCDfsaPS0a+ZPa6vRR7M3O+U/Ev1m3snRQ7pF78200epc1rZymxo0seHomBJk3ht6vp31tmPLQfTuglmEjYruU5xJIaVVlQ6ddDEG03eXQ99115IRkk95ZF7bgC0VnnFPfep3H93+vbvMSao3Hf4x0ttMgpdM7zF4f+A8ei3fWnZuvdeqnROObfvLAToxxDPEDfYfxJh5kzXKorlw3qHSUQUSFqihp0RgwH3gfDrAAABgwGfhGpC/wAAAwH8W9Nt6NxxdRkoAE7X3RU4yJDaQazAElgFXZ0GL99oT5KI8dJLf/p75N52lnMDfBaq3Z0ropEnPPAcOqg7DyYrURd3in+EwX7i7xESUczF3tRPDFW/5rylYxtEfopWCMeualmPd+ZHTCWkBwWM1f6Mtp2tr5KlFr+18pVTOD6gcG07PG7Hj/JLCYM2/PeT/i0DCjJp3LsnH+7lWjb+L7QfMHtxAqJpHsSYjXVRUMGquIZf1Ao4rREtcwfJWuArvJ0wId9N/pDanZmBpQhrmkLdjBOKE1YmG9FZBSyMG1PsU/1/I+CHpbcwFk7C6UF8Uho99TtAkrKucEGP7TaWK5OwPh11WhEHD5iY6n63TCUiApRNFNJGnpktWolMC/6zFXHkYeXYvO1AEdNMvEGuckQJFvfpXI9ABO27cDqGvv2gjjTORLL6bvqiuzfPudFyZrR6lC304SVW7RRjw+FGkAk9k+ItWcmKTp/EEhEkHPsA/sFWHeC7uAxB3QAAAUVBm4dJ4Q8mUwU8L//+jLAAAA1XreDvVX3Iz7WugBcYlm1Tf+KBJOwFTxTv9PD0uu+RaRZ3R2/as8LfRaAFk1lfK8mSDhkJi1t5NdIATotv21rcyPuYwbTGwbMXy6Xw4wHerU2IVpCEcFnWTchfCw2xrcrWNvBASm5DJJRNICXZiR2Cp3PaPSj4B5yBqodWN8vnFwT3Yc0umn3GUo85zJtwS4WMjLebFEwwZ+hmp4ebccdca5fpoSOfDN/vYbVYlEs9uOspCSWzJF96Xm5mOnFlLFQLORBZK7FL17Xj7Dzm7STCmGszzyKgAyqD+DoaJBqjUatZ9H0S9Hfw2l9EVCQuYZjaa/+NEiRWPPAcajH2pS8XLPXZKyNEkZUL+QbugkLgmY6sYiXeLrDnTeIRebDPiZ61b8Z+0lTuwQx7y9yIr1biktOFAAABOwGfpmpC/wAAAwH7+Q7fjIiIG+Gbg5tNm/Zn3njvvAC27RvEng0WlOn2fln1cTzd6aytxJ/mRojFddu/bOKcREjwKuWLNckDy/0lp1GSBC8JiYSDmWeybVVDeo4n9TNaz6/GUPASfntyd5knKfpMtxh8U/xQA95/WPlQmBvyMdQtGDggJVcti8I+k2he5ganERwmagIpVxil4zcI20ANzCLarw5dObtv2Hvl1nheKM5UcJfftZjUCIeX/Lrop7E/WrgpEfLUY5iix1jBSnzpQZflfgjTI3q7IfRhV3F06juLkWCVHInjJ4p+gVZ4EZoHFfygdUSapCfTtJl6lMka5ARieQiejqvit60EGHIpXT+qKpaqAQthuehv4EvFdhY3DSZZ/Qox4z4ZBPcg7WAwIdsFPWzE+dr98aDlgQAAAbNBm6tJ4Q8mUwIZ//6eEAABk9c5K77Aq2QAIg9UcisN7wkjBNRVuARQ/fOidSwoJDUmCsLHlqO49/ovkm2aPuXDqIzCUAY8Z3rgqehMCt+IhIwUPtwBJNpivWVBtv+uG9BdSgPjG85p2kgLUPQNxy3JqfQrQwqAbRJOK/CFZVvtYWNdkrOxWewhOj0L7vyUFeFsN18ecsbOnn+th9bSD0lctufxPhxjnBoGa/j7w+HXG1pa6UR3R80g1eWWPm/WVHzZNcr66t+uCPZPt+LbC43/6T64i+nMLryl0QxE8zCQmMZKxsYurzkwpZTquJKDXJdRvQW1LzIXWlTKhA2ke1qfPcMVtYgEEWarraDgux/y3v4yntZSyCG9ORjelg4j2VkgLzs7x5Qh+26hqq6k4vNy6SVvyuZaUIfdqxrKyWZEFVfT/pm8inPxv82IGkuRBODRf2ZJv8E07EbhKGeoGr/TTnHWz5/XUXLlx5ZbsEr9vIxkSDM0MskEk6LSdr+9jn4HCQTepNW+mWA1JT7JHURYP7u4Z6G32Vl31/X6IHFDmc0/U7T21s7gAAAN2HhXT6qAA2YAAAGcQZ/JRRE8M/8AAC1wE8os5+xaVQYZbQSrfr+owpYAHFMT3tyGFnlcm99qiK4tS2245jkvfLd72AT4qKXNQx6dR3JKnv008D8BJS6n6SmBCDv5pD1lt4ZSM267uRLxu9h585hGYuMxTqUQRZ1Pb8sGUlHk4ZmzwsN0AkubNB/NoQZ+ayECqBV8rZVwVPx1WQHO7qBXHCs1MIzMnX8Rt+RHELBQ05F/KpNu30248ePO7eVMEja2EQy6WdQgWe36huTWKkrASqwo62r0HzUWpv8r8e187F3vyiJD5HPaUXJy5v5p4fvNhPKpPXK3VpYZcPe5e/PCHl0xjHobqY6waJQPJ8J7o+KLqTO7IdwOx2hool0nMYq7aqOfX5kQ7/9H5B6fctKoTs2fcMaanbiHMeSTnyYQ5UVjoSPyRvq8eObtDmO+2DYawCPVftC6o4ZgR3R6SWJeWiek8gufuu/+MYtjKH8On6Bri+q9kE7GcjPRU45dTJDAY99GICcUwkOA6NKN1gsBA5/jsxKNNsML6Bv67n29yUH2Ewfp4wACDgAAAScBn+h0Qv8AAAyTYKMX6Sw1iGq4RXd6ml3k+H/vSF0CAD8V9ZEoz0C/0qZE+k6EM2FwQ0fZZVwvve4lpd7YOx4CYGfSODXfBWIR3m6nn9rQ9BAD0kNBs73W7EHyVD2kMfs/F7EWZeAMlfTdToZmntvCrnUdNMStRzk91NC4Ueb44FHcKOFhkhAMVR8oP+0LxkD606YPlDnwb/MF92Lzy5fcy7Yo3RHSH5d/bbuFkSuSkvef5gp398UPeLRsIBQ0g1Dg/fBsXo1SnnqcvYe0rocsd32/vhcuTdYMfwo3nrTIIFa9LJkYPZroZs8K22M8FBeKQIi4i4tTiRmvk4AJeECN7LHuwbr9Yvc8kUiYIxDnym0Cr5flxfrmT6ZsyXacNmJ5IxIAAFbBAAABbAGf6mpC/wAAPMl8PnCxB9dZEWQAeMhQQ15RLV+cbhMXz1AHqJmNION0L/MmgVG6u5/5/TFoh3GCDpmB4kcAhfrENflPrIeSGQgUwMK+PvGqKmwboZCxG5mcHhz0gOmf+qNyhaxQIGfm4/CRNw8VThzWts1JjS9byqXJQrIiaD76IAylLbAQvaQYlyGs0iCd9Uy4rzWbJsst87TtEJCOOPw7zHUUeKEh0Qqr/RALZ2epQktSqlVhf7QvVyxJ/HDr6OeZlS8VFyR0e/UMvXN29vMTCk5eDvJqLrHL7WkE7YVI32ciR3KmIoFSZOisH4vvicdq+GHPy+PKz7LW4hMLUDJCtfNWO1taFRYbQxsRcxxOVMnvCF1ib2x6Jv5Ir/04tIi8Mh10xo5EtnZ3h+BeUijpsQwyRxAz/tGdYfPIDR3k6OSWBVS465TN9XqXMMiKRI8NZHx8z6SmtDeepu71AqdZ7eJtXMbmEM9AAScAAAHPQZvtSahBaJlMFPDP/p4QAAefXPwZPmCAC2evBZ2A1xTn49VJpGOmRZf2d8s9ZbjF0NXohAh9a9QULQkrZYuQ1OF91+ynJDzygN44JX3A9jgJoPy14ZhZwZSJ/KhJ8IcQPov//YI/xFDaRQVZY0nnWVHkrP/FhoHccIWO7mpDmrUVXO7K2SfzjdCXRoZwHQ1f/cTBW3eIRl9Qy6ND3L6/hdGXFIC1MR5MW4+fQCGHJAlduGl5palM10eFrzmMLDL6UqyksgLRAutb65BXwznONMxh++8oM1oNmxQy8sBlWm7kFbJzgok6KBFDp/xYj/JSZtB43booel3Yk804sExy902wRj3anFKsED/ftAjEUSOoiNby5Lt3WLBjfXEUxfvVm8aHDTwoWDYFVFAcBiaeFHl/UuttdQG5GGeBvHA29RiRDxXxdNKWMDwbiyvRjIOtZwfuzq3cMz0KeyLbKfivZYLFwiGAWikaxtU/Pwup558+3rOMf6HJoMH9ScVLFm9aAv5Z2zkILhvS88cD/2E6pPEgZkrisQJJvLwu0osc1IfcV4CEDxCwGmfuM/wDa0swRighQCx48nso7W5Yz5YFXK8K0hAaPv8S6lxUvoADagAAAWoBngxqQv8AAS3NUJvSde5LDETQAnBqQT1joKKZQUNpN62gBTRd15IHB7l1oH9Kp1++pvvHmJmqM6TMQA7qhoRZZIvJRNAbAr/IRBqFF//ORvieEnSsxPUntiT9J7Q52EmzjALKQ9HuHTrz/SpIIWvNlfg71aZxgDgc2n3wN39GORrKUJNTBTbcCB9n63FrRf64jYDeVwhFzEJSl6MZ66jtHN2w0o7a8weTVmgfkye9tB54tC0a+iM2OWJGoWejPdhehF/Lzh9vfQp1dvTYwZtZwPadbaWffX+HpsaV5noME6SqmK3n19hhAQkVC4gzO+uPVqDOcTmbpc/uydD/6YR2Om3o0YJMAtGvCyP2KBwriZvWDBY1mUwvwO6f+XDP5NFsbkMRf4bOf/1mFzI9J3v3ypt+VhVgQVKcZmj38UQg/QSeRV5nO8lKnwbY+4vGh28ADqj1Jo086SHQjcl1Z6dyXCI5h3IAoAANSQAAARVBmg9J4QpSZTBSw3/+p4QAAfL2U/Bg7+4Y9spKVzAAF7H/+nr2ddYxVWVv4Walumif9Z1Iubzolxso8cNj4QhPCr1f8nXhr6WPD0imMz3HnA3C5rbCSVdVF6O42UaPa8noGM9pNBznhUi1N5JEAlYBrtWbwC7AUoezFrwMXp+py2S3G2aTTZgPoDoHFkg9PaQBVhn8bXy5OT/tdRTHl5xGZwmOKr0Lz3bMDzZ/Rltaq85D9Hq39K4Zu2aiyo2fkaoC0LhHZUr0Hx4zDwZCKeQDm2jPjKY2HbyFjl8ZZZAjr9MnXaTZCbnMnVDBEwj4iWmg4aDe8SGX6EMnJQLUNYj1MQ/S9xOsOGEedsnQ4Pfc+bUAwAk5AAABOQGeLmpC/wACdUnZ7Ib6bn6kJoAWPKNZtOYLvrFZpx+OTYqqLEzDHMe4hn72GEmJ4UHcIGKBA6JPC7s5HN2HZhcHQDM53qQQbu8wzu4QGfACbvVm+eqtpc7VzwpEKKiGqy/X81YdhZkacw3T56XptoJny8WIDNjEzjtIJAax+DFQ+vA63kmMiw9iUgKj32+33W9L9HcnacCtgwwimrO148BNFbKW0pAIfXCUj/qvbYWZoTLR0/43DbNNAd+wsH/0KEI3HY8IaU2e4/MBaIRBr23Db4qVyFwihj7esct5N7wQAA88TSr0NfbcCbY5DXgLmlj606tMdR6pYFTkhDFEW5dcEixVzR4cu+1tBxb0MmwP4n0lu3gkguKFuC9cyeiViOd/kf981J7buvuJ7g8/aE3+QwiAHMKYAXcAAAJGQZozSeEOiZTAhn/+nhAABxED2S937IZqf8rLOR8FmDcARWNqyn+O/U21b9pErZG4OHMS51Ib85BmJakno9c+5drbBA3hq84DD4D4X+Z8KSihH25b1b8/vZ2qrkcJmFEoiAsjDs2fCtgEYlzhQ9ofiRmmgJdC4Fw+AnDkgLQF25xdFqnZUDXgKAehEGLhVweej73eoUagKb0je5tXxP65pn+1q1iG6O+mP2fe6d4SYmtS374SVZ2KZygnPpgZM08M/iR8ki5YUgwJSRIe6GMZxx4uc0k5WMrxns/wOqy7fpWolgniLOdHeYCd5PRcVqc6h6wfU0T92EXg4vJpNRMEA8bmdGuDphCYT2hX1zuqriupKs5Ipp1NP0cfOWE5uqJFfK/B9lWb7/loaGOuQS0tNL2CKiWEFzX7+w7lXy8m6EOlHjYIiDsOTqPd9tMCWSku+Js5M7Yxe27NQI1fTC1IIVe+BeqR1Lfw7m86AIAPgmEoTkpuU1cQvioNNU5R82yVZCdz/a4jd7R9vd5VeDygIs8z/RgCMjjADVSOserMb2D/FfudcQCdu09TAhDDhbnf+59t1oRxCHv3KMj4yiXdi2Z/I39T8bIrymmOO/kJXfdMPa4V34qMk6nvZL3JAsZhnxncxPWj+a+g5NoZY2h1ITqHzyoD48XZSP8nEwaMJMaRhAoHtLo4UD4tqH7LrZoGhIY6FIgLTzi38z+GgD1erK11y9ZeJt94xzKSz+uAr0k61VLK7vAtABbFIbBacViTXDo6QAUkAAACB0GeUUUVPDf/AAF57uP/vaTzAETXJTuaZE3Z6Fx0WRrslUKakD/zWvcv2f7F1q9lTU/HOj2GO0d5HnZGPRbkYbDTnNt5fcu2AGa4YYQZqmDHiINJGolCKENL2wW72FQiIEn/aq06Q31rMgw3iJ7F102xfEUzvUn01222FQt7OXx4tMVP284jAAnEylH62E/n45Zy/SKSq/xtt6qeku1em3D0iUQ9iu+ndhHEQoDYjL8wEmTjS0Oj1uJqudhUUQRLcMArArYmFQnb2Wm7A/OUYOB3adh4zt49M7bb6/6bGwrAfhdPvZx6mut9T8LK8c+jijcwm9cQZB0kuAsEMSoqsDqqeIAxWeTbUCuo0TzB7JSUuN4XPvdlaMiiuuqz88dj7ILDcFWZi/4s3wbmMQVXkqFizR3HGS4DnXLR1C5wo0d5gT0JlpJYTmLm1u4R+TVXuFRx7HYIffuX1l1rD/AaCgsmd2R0rE74HIEG9kOhQRaqZOsG9jbVRlVfvv5C2AdTG5MOR8Yvc0UVBVdi4YgKa84rI9XCXPwPVjLU3JGJWsW6z1JBf6nb2emgE1IZhBpMa7HtHF9g2zJd1zYJmRDfzSN8+A3j4AIUTXxF67AM6XEBNX24+22iAjGfAkkyik68tnzI9XHNgW8yuRFlYGg4JaXiRD+vO5X2bqdngMXIxL7RzAQU/gAnYAAAAWABnnB0Qv8AAnyRCnb5LF4PvhYAJ1h5xnDAgQsMA8wMMpnCdOn5gOLm51+O9t2kDJOMcNdpicthikUKKxPaygQdGS93Ud9p5h4H560sypFDTN0O6aeUeDSnKvsGfyl8hhwPmibliQlfuvqRk+7iM4P3HTBQlo/YRA/9BFabFzjSh0OZp5Ru1ntnqSevAylT2xjqEZ0jtxcZUM45SoG/CjaCGs7K15uGpTdIoMI4CuipF52Fx7fyfaPX4zw92g2ouiFtZC2WWRTVWXC7LeN1yaLcxfHwurVaeh2p+Dmlutd/egd+9HYZw+OnafA+XdmO5FscAEL1WH7cvkTQrKdP74OIvgRsKUo8wYjCOJIkGNGL4zZGhZqHeR/wSEqIr53/01CoA1Mt6EWpiVKw6sHsw5yZgRydRjZZzS0+Jn9t8AuKgqdLA1zQ9cLJ/SYzzqJANfe2VPVFtWF3UDrd32GrABGxAAABnwGecmpC/wACfTzRntOfMCUcucUpp3FfjkQAfCKDY1hlhjzpdc88s/ebmRocGEg8168FYD/5BfiNquXGcJ9L1U+l2mkjLNd7PrGAvB4nM5fPibxXKfjcB6ZzWdrm3FKqkBVSymHu8kp/qLFVJeCSF2Rd7wobE6aUzvv1Il7TuRw+pQ0AyGKl0/bs/iqDGUfkYrHRACLy873Qt/HTQN7vzHeIrzYZPqxnK3VgHiQisfOHxH31WEojuPXgkp/W054/nm9QYwFh7exi8lFI+HGTotBoaTPuLch/uKIqMbefXclTy0fPw6RgULKjN8NpAZbJwd6nXxelC96P0AOjOU3IgTDX3c1pMxwzum9rk41GLQXb5TH4p6kwQL4DBeSP3JGCz+JEyb9ibs+0rsW07QCqQ7lLy1cBlsPXDzvpHemj5qp/geZj2cbOVwSdoTWnS/5PMV5BTX4SffQ6dV4h7FTVARqgRvqNYk7y/KQkOHtPQVBkcCzXDqumAFH5lAT2alrf4m7/soVatd8yhUXH0raT5npoM8v6LDn+zFS2P4QAA3oAAAGLQZp2SahBaJlMCG///qeEAABSPeEt38XYHdpzvsgY6qbHsygMIc+kd/+C+26ghlMa617k0gVGrjLEfQd0P7jNEUFIw1wvdTLSQcdqBulrs9eizuCqI0Y+JU/lZzEiBq695c12juRneGcJ63DuAHqHykDZn7VmvIF/+bv5DOCUlcgbMPrmCHFkZOVbFiId1H7Km7izHgBAIX3NLL/ZnL04HkB0gZDhW+vtOM2TZGaofzZDelFBzxhe3kuFPRGNtKwq1Q9ud3AcSgpP+qSiZyniTQbQZB3Euy2yST41pfZexEKQ6MA5ut04/ocy+7M2SJm4+UAI3DXWST4eXz4juJh2qAErPppORiLD/m0WbeRV8NAr0F8RYAECASqkm3IRZmAPjW14syExRLuRNnp3Z3gSNtV2wZon8SeyXh+o2O4DJ6/eAhiAXCfAxiQnRhXcp1PSr2JZGJJpwqDM+EXldV+PXTToh2Cs8qN8PCi5kG2RrQz76EZFfdniRIKiGSbr0MsmkTE9JO6XDoJQBQwAAAGfQZ6URREsM/8AAdBgnZjtHSr336N/z6Qt6pl2OSyaAEyyUOlz6hcrdcNchKXRxx1EqAC+3WmXagtFC2lhCZl3/4voVODXaDhu6gnRhFitQCE7cgcl/j2P6yHIZIuLrkLUnDiIjG6f9XEqVJSH/MNkfqajecn2QEPgIz+09lJ63qpwtGzp4giTk2AfoNmHJ43Q+M1OgoZ6IcyQJGRTm6amQB8OIiPdwZBRDCCQbJDKWiTHSb/MjlpQHLeyhComkPxoUlj8nQDAXTdlQqwkBDB912yCfBIPYBs9tOp7TbgDOyl+6wCPaoXNV5mS2Y5YOVcRBDzqkSqcT0udkbQCY1TE/PQ04pFhzz1cWpfRlLQlh5t5PEB/aw5pP5FTFCzpfG9DBwpvRRbvfszZ895r5TRKFOSsx9ZnIq8MJw9MIJzbxOeA9nnv6hECa9In6tht5GyKAWPzWGfKwJ/YMnbl5jJWi0+TAVFVktNf/v9g/KK/hx+gXa+jTADcVHDmlrJ8PPBKah4spTwEKNQOsCNPRglpMGbr8jO+/eOgEIE7eAB9wQAAAVMBnrVqQv8AAn08u5rW6a2SESs70hY65Stxx8Ji0AJ1NQfzOJnJ0oQ0xpCGaFIwAlvmyTdfKfIxVDmGHUHT58ayGZFXx6lX549IQ2c78DumksYknCsTr8r2s4i+/YUXxVMJy1L88T/NW639nPSLYTOEJTZv/XM1wSZtYKVJ0li6/BNse8a45l0yfOAyDZS1Gz5Adz46OsTpN5cRkS460fgBVEB/hLi89auch7/14hd+QayCB4dLY9Ibvu73sWQLMCy07ydbMoC+ZhUJqZSCuaKF/c3iCTMpIqBtAwczJNmteOF0GElAy+jrbzsdUYZ3K13ThPf4YKOzb3ibqLxjSHm/79QV9oFWTDbIpMV/X5vv/ovcmfx/y1VDsi2MAXN8WnxSt5KTSka5ZFHdU9bGhbNDvUQhNDGA+wvAirMJQS7TVkcR7sndX7GUnXGcXDL0+SgA6YAAAAEUQZq3SahBbJlMCGf//p4QAAAZGlZy+ZdPqtjGslfnf/uF2XbMisBRKwAVzg2YR9KiS50Bo59yGhX//4vkD3+Sv+msmlR4wO2BIbZ/6FOKT5am9+l/UdYUYl7AdmAhOTjXNhh6y1bRRi82lfph5oPbXAgJyYVBOpUGNVt9MNizQMUltlOXEcMQiZv43kBwHUSyoLYjBxgBQX1M+EXSecA654+k5tyUFJx+f8wc/BmBeq376J82s89w15RThSy9AVXJ6fgXLVUsEvqnGGmQug+2RnKutacONuUghp/u7TZD5ylUg10srxdgveixIFefOOsgxxChzLXAxa2SW/kY9ZWLxFaV2JVcHR/hTtb6O1bav+qHABKxAAABfkGa2UnhClJlMFFSw7/+qZYAAAMBqvbQL4LT8S+R7oALWGZMSvl69+aF4iAPyry2hMR7KXvpXKLA7UDHPQZSEpNIU24y76up6RtWmNj0msATrcwsFMgu6w2zbDESfZ5yQVm7oNiq/E8wnziu3Nf6P6oMj1BaooI11OsPgTmCupYh543C41orYCuvfAJ206QHwzUgazqo5Sw7IXcUeyvmR2AsYyB1A8Ol5CeNMGBNqnQAtlF2OI0qLRrupfzWECB8PJgneDnrwORsa7GY/mEaPwsRmaLcZ9OP9hdpbo4Gyf+3F1d0FcXMFZuwDbvF4AjILd8qyfOtEEK6jFqsiommINgG0ExVjmgWcIpB4TAY6h7bQJtB2wHIiR0tmFxGDy1A0KyVtICfKSxjTj2qd6EYu/Cpve0lGnJXP13LWDFv8wF9T701fNHhLMm7TAlc2+yZo83HdDziIMBHWMgvpGHbGiHcP3D8/o4FptYbEXK1yItljbgA9cgue5x78VsAoIEAAAErAZ74akL/AAAXCk7Co7l7t1sRqzs3E1Za7TKyjtz3vqAEKBpa1/PTA+Ys18wZpNuwKOUcxP1pjfT3w7QCw8XSaqziPbBvvYAaUFvp5YvcGy0VdPnacAanIsVH7UWcwYb3zB9mVtCtQsPSS1b9wZJOdz+Onb5FaOGPMXjluvKwZg9e4licoIBCWuzdazFEVn4HLMviWWEKj7He2wRDQMSyWhY9l/CYB1ND5e/23JAYxcaRjbZKfb4ftJgePHcoZWpbJwJgkmFYUGgbTY//90QHC8VVV6WkvJADTlotRDVo+eGOMcs59ryFdjOOv9IpxWdFzqBX6ir+ejaimRfFNdN7TBnETD4QiiN5BWhK47yZAnbG8p09HrrbZEzje0+SOEhDJNYjSP1HKlKgIOAAAAGRQZr7SeEOiZTBRMO//qmWAADk/EGIAyJVnWgBLVzsvdHjQJkJEUIjHAqySphFYIcYg61loNEeaI01DnGh7O8HtQhgR+lY9wk/vk5d7eiCWCcCWzzr6uDUV7ed89WVsaOItaUjmjq+0XdwwQwgD33JHLMWhxwmBqS0YlpIbCeDUMPBlXXNZyAaMxaS/EVARFGjw8feIUNI6LgcLWjOL81q6X8annA4JZ6WxIbYqnpJd3JbEU94fSWs9ytOuOgngfw35C0UbVV8ZmSyUsed5BVYqmCRiSSAiBn0tz6Qkhe7RFDlvczyePOt9UoUIFY0943C3rsKRy5ykOBV1g1MTR4KCNMmx8c3Plhp8bnzsY27uznAjfWFY+Dbels7vEYfcYXXgdVeuh8Gu5MmwzzbkTPRHR7Dn0KHFQELlQyIRlo32b8Gu/36u5o+Mwb3t82OIU23Hp+lFGXc8daENwKKTDZRZ/WkGqO87sJOI2huHB5zxe1cdutL6CTl6sUsVoxWI+KtpJHPXe/hXH82L2te+KDQM+EAAAFlAZ8aakL/AAAXCk7Co7lw5qoZACIL/ku2ZyryksaQTRV+IsFdv8kG7tkPfvLX5i6Z42bZY60KdH5HktyvJ9/MevHHE0sZ7r1qerj2DaoHIYKmoFL50k64cEF+kaRjnA8OsgVrqTyy55gvOIVWwxxLxLIoAicwIqDZJ5pexdwg50z+F+pcqsZ/PoCSMHzc6e7SUxsWeffjpmeO/vG95JJnaojvziQkiPHNoUBaks24Kh8CS5SXNm+D/2Th84c7MiDDusgPPuwIc5JtNUFvDCbgSsP1bbNPSqDMB1UUeE2UAqXYO5qZhCcZRZI7Eh1/3AfL6PgYZtnfvRqQOmJvAV1aUJ+kHS6MYRx47j+c+KltqQ86vN8siaY5x/KVuFWtsBxjGILaHjdvu9ypP5F0zebQttXESuGQfhQ9/vHby4W5jFiihwgc9udDEVXGffxHyiPTwgsEDygQVJ4xVZxb0+yDiSZsuyMCAAABwkGbHUnhDyZTBTw7//6plgAAAwDAS3WwAtkL1Slf7EJQap52BIVUIiuZTuVjZSBj2px7enAnlQtIQFM1vN+snTRjEhhMeAkxCDk4DwisRnnRjGJGFZFrvnXmu3fM/zLpRJ5aFHs13RGFQrv4OdGKx4oGk0tEGJ1qsZgVL6SvfzCbTSHt8bABC4GrGhuTb1mj3VZYYtsTQCBZ/E/dmJvWfoHAnpD7ldzbLc/svNCWhZKUa1AZ/agct9MJYenUqnDrQgV6W5U4Gzmcp06lLVecEPgbSkuuz2dG+csfpphvSg6scEVh6MzYWUpkwlFpf7qr3XHrt4gCrmK/ogYlt127t9PeTEg+epFa7P9Pnz6TMjEE5pVmDsJLDe+Irj1yr5e8reghlAXNoR1JZlyKSmK1C2fApbDdlL0D45Ji17HFog/e5UZ4tB1nUfaPNeQi/6yjquSMeBMnIep5fViDhYJXF0kAP7ELmQr6u1xveA743abkRDmWk/DqHwkRGiwk7aGQZFZyTmzXCAiYoZbLXa8PmvDbtW1ONEsglEo7a4mcV6R1NyaMnP/2INRBVaJiijR/3JiFFfLpF9kzYmKiQwdvPwiB8wAAAXYBnzxqQv8AABcKTsKjuXDdcWOcAEQIVDwJn8V6nApSxzYfAEfpCbVI2LXcEqOdhj+2julh9zIOd8zmZqW7AoJY4G+DUTrB6hcG9e15Yd1FzjYw9zQNYXKhksK88rb2AWXHAeFBmAncR5CwUCgN+lNxcENnL6PcG3tBM86yb9+YG69uzCZPrqF1UYE+nh08dCFdXuO06LDKS2UvVWvi6XPbHG9yK1nc8stmcEyaHRjHURi6zdPBDZ252HjITR9gjPxV2othdNDVfpAPrGMbh45JJjpKzhs7UCsdF2XMy1ZVo2ehIb0EWVJ0i8SW56cDSUr3OkgLMTeAnJi2zAcXKz5OsP8GpQhMJRj01V66cXi+JW/m6VdzKQ1dbLImLhTefMg2oJHd3LJxgYUwfNtXAUOwTrqhyG6LavaqZqYVKMrWqIG4HJYMvD70eSBJVsUU2a7l4U7//7tEz0GNWhMg2+Qxa6K1/nmllhwrklkJu/luLIIgQIAyoQAAAPZBmz9J4Q8mUwU8M//+nhAAAAXN1ujcsYrgBahm6aqG08VfF+FhvuG7/gkL6rMHZGki5RFzrDLcCBVeGyeml430bcW7y0P3he7NCsWZvbiyWOf4HKTf1OFRAl+l4VqF9Nn65Ik6naY9qEHdtujFac5QoFvstLuVPBzPA6XozD1QVcRAE7a/y2HgjpyXjopCFD5O0gE4zOkXRdRQLaztK8YwzhcF61Ki1kAsfIUqpKESEDKnwlWGvSR8XKsDJf6lXybiLvnY4uqR+l5KRevFK7MdAeWhOMOqFZtjvgLg8pOInTkhTEmuFSo/sT7pyEPPkFqA/e9oEzAAAAFJAZ9eakL/AAAXCk7Co7lw32NU+eAEPsg/PqfEhoWPpsMDPgRNG0OUMzSJZ2fUu8G+dSOaYevJYUrZn/5R2GAyBwEP87MM27W17AFVoDjbR7vJaITj5JtaGn7CzkMVWcJk/mr2Sejg636yH2v3NjzRzxaiXduMLg3vHM8KgKQ3v73snk3y0fMrLq+ja9re5vI/eXAom7WiF/bnQVre6JLlhsH7yzIJHNZj7T29Bz4BFjkwEUqsvx1q9QgbsHnjHFYWMMPAG+5NyUzaT7rgb3tUe5V9nvSK1fi14CX73w+1CExXfroRb98I3hOBK8VNHVvsdUyiT4RAj+sqMc8hJWiBfvZmvCFS3c3s1UPI0rSUmrZZwejpIw9uIlELO8KhRCtd3jhbaITw0xSeSRt+fQ1Igp6/LkJwSncro73Sa16P7y/rg8M8k1CAR8AAAAHoQZtBSeEPJlMFPDP//p4QAAAF9aoZ+m7VmIr7V8vMHX6MLyiAtik70MmqOYX2Pu97DG0htgg82Z/Bj6FYe3CW0njIe9I85TwCyLfuUNHzwtmKnB/kDRRcQ3TwxFui6/QdXGsfWmNN/eLMkcVOig1bFCzcpQPkbQm5jCPf1Z140i5+G19ZJBEXE67Qx4iqvMaINDVSVyE06JEjhZUzZ7sbwGvveCDZrh8AQuqyPSPH28U2+JxtNK2XX87oo78iqIdkq5xtXCZjINYh9z+QXV7uCL10jdRyt8Pmc85PScq8GFKKp04EqMMEhZix5gjlNPtKgKAUv2Wji2QYKmxbr0fcsLAZEZznAFThLFkZwmtW3sFQSJudB6bdYNIclBrQNdHHdQ3Qe+xNcu55wwG2KLik3X8zv34Cn6SG56L6gCCmXgugDeUyvTHiWU6B08h50Y4aLTX2MUr1OzDpZBwweArRvG5deH9kplvbjlUI2MqAgDF5ZhcyiB8RPt5iVDCP7TVnPqqG+ztSwUU0EEgRNO6qebSdXM3g0G301ZRX0pCvOocy2RszKCeeAqWizFIrqrTpv1tp5rO/31nFJm6gLSQFtwXZVUgbsW0A+5O8xv+drztJKh6MhRBgHlK0RtYBe39/1SuISj5JRd0AAAFcAZ9gakL/AAAXCk7Co7lxCiB/XVqhS/ZAA2dOrudEgTJymX1SkLP6L1XpjgpDrdl8zyn26EPMkz0/zMXbgf+V5kax3bD/tqQjhZkPeJy562W+/vj1fLbpdXihFamKesW24ZHo5OMC1FgEJ5oGWS5+HyFeqEhVMxRUlleTVZ5CidvTbgWx6tGT8JdGTAgwdcSQmaS/+Z7xrGq8e9DMdjA240mVJmMSKeAwjvr0fqKQWuqfXZXpxyMYhcjYCC4kpx7m6LIcVsVs7nooGvHrLYnQ3eF66sqaBv4lhrNwMGaYHHS6aBRLCUKmP6GMBSB89bmjSMaMZD2bmqIdSl1v0QNJbOoio1duHSJTDyrg5eFauSESAUNn60tN+s3PTPPXta8dolFc5t/ji7ZYb0lJWE0yYoRxVeMMTIIOAepTBNmohWBENhJX+3fg1ohQA+gDNwJHY0zAM/5gY0RxAKggAAACGkGbY0nhDyZTBTwz//6eEAAABfhGewjhaQAtDWT+tmhkfgOvFaJm/s3S6BjQ76mZ4rdrriaVYbeQN2Vq5pOWK9G+FIo1idSm271OoAO3aSdzcJJV5NA7DrhJeA13Y0fBWkDT8w6lBKG+Sc4XpJxruErPpYofxVDl+LV0/rKSicRMfhmRnF/xC2lj5zkvUD/tS4X+XsZS+cd2wHnEQgl9SABxTFHHjJ5u3dkQf0gcbzV+kk8D50/IsUsjvLO/KKSR1Gx3tlntUh3d9+nwj8k7BB4L2HeKvRIXrX4UGSww/7rx2T3hSTq4L2QdwGIatfa7JJmh4caDiyB5Qfvyz1l7W7ujgzUPWihzwCVzgBZqi2wbXkOjTLwZET4K47xjzELXlHFKSG7oa8N7eo3fO36RWYyN2UmlpkFhiwW1j0tH+mGpqvPZkxMPkLnqqZw1wEKM4+MaIm7u2YD1qMOv45xroLPuSU9eM5OyzMaG9na7bk7ml7c3a3dUdmIcvEM4Olb0qJ3A5dQJRpcEFi3x5Z9pXiEGFZWQoiMP+Ge4E1K76clWXRQ4juJrrgGP5WA1Sh9Vd1zO2mOcJqNv65HcyFWkQ3CqTmJdqPb/lXptcGmxKVTrsLcoplmGBklCYF3IfmgQKcv/Tv0ZAtCN9JKNMD8xiw/meW0Cxxbs0ARc0EluWCmU+YVUWa14Zhv3NBxI8TYCqF6iy5+bfutABC0AAAF+AZ+CakL/AAAXCk7Co7lxCMlPuqIAHHLHlMCRp6tij4NEXjb88wHR2r/7U6eqY+Ln9WnV7Besfhsbz0CmWFJxRmQVX3n0Bh5P9Dhxu3pecWbk/E9MyfNmmPlX4PRAA0L5HSYaM6qMdoi3NpogOzNMpiDL2f0125hzjriRx5HirLLH5KfAkBueXMUWJoZA8py6b0OxDqOjvuW9Z8Y2Us0ESiKGfS716rn24iR5PvofnJr5+ISRKP3wKM4h2MxX2X101uGUUEdODVpsQTE5xuICZZtOtRep59c+fZfsfxVmqlxrg/ZaY5CQbcYCzdukBMsZJY8GiAE2VRuZ1CSdV3UKNyxYwN141FSep5SgJcud0rE9epUtis+/JardJ9MgHrsFVA26rxCcGUbnvSYcLwk1ZG2+F0bLXnhnFwMGj4xgvm+kKPRxj2ToVjZFH5GFB0vAqqJca0Ya9pCGwKdBLgYoAUXh7kYceooi9jeTCn9JG75vELZH6kbZJRWrVpAz4AAAATlBm4dJ4Q8mUwIZ//6eEAAAD5a5+DK0NAAJ279zP8CVdxj8qm3I0DkNuNTkJ0UmkhnjTKgg3dwKH3xAOOiyQw3HXqO/mgHvhNSqgbiDyHjQ+gdtjow8OYSKPyAvK5FM9lxM9HUjBiwLh5zllWFDtC6fvksIigbdCQ+A8sZlJH9Y1sh71Mgv+oOnSu/SnXLPQgJgW6xGMAduZyc4qUYh8v7iDgqv9FdgwCGxMxhkQ33iYniNvXc2Z2/Bgg46hZ2F/vQNYFCkDyT+Q07KSBh5G/cxaFm8bWLFYkp/688hgonZVnZ/ylcunkAQCeQ65RK4dczAcH8NhKqrvsTy6AE+9/f6b7XN6Q7BvKx5AcZ3OEZ2SJgHtKG2A3qBQ322eh2gauwPkRpSxJ0lX6usxXY/gdwGQ85NIn99wYN/AAABykGfpUURPDP/AAAQqDjio8wmd64/H+mBXYe41gntFFrrc0vRYyc/ryjCbAF03LyhE77/bLSsGiFMKS1qAHODN2hRrmDyil8Sv/932Afmhsp704Z5MFiLIAPXdp/10O5WJ5bpkVCKaiRRlguAFhZjXYufmEahl0sIvDbh9QY6T1W1UTMTya8BLE28hI7KA88QAn+Ki71LAVRcYNp5L5eVXf1HCekS9UturLFZpsTvNkkwJ/87Jbo0UWz+S1L6pcphIcpo5n0mgbSsVgHKsQ7yM9B1lRWyK+rSlOXLe6Rq8rLb0pJSNUdADaMUtPiGcXJVu68LfnINsKWgiEq1i43hTQ7OShhjdLut3wOmy3Qu/wdbNZ4Tpn4+TOamlc0n1jyH4dVt4t7Gk4+6a9YynQ6mDxEMS3T9Ajs/3fI05xlHx9zVJON7O+xH8A5O21c0N5ctvg5+9kzQTLEhsRcyaauPPPrvixN6bFoTB5FxnLgNZIuqqs+OzUw9iedqiz3VQRvjf2z6FfibzyuKC+nf4TptU+wUSusYN7Xdpxi1eZ3Xo4AXzzuELDbjpZyrn+C5wOeMGGHQEOEOtq2XPXIdtc6+dMJa9VwvRthltoLPAAABagGfxHRC/wAAAwH71ou187MISES9+fgQ4ATTIXTZbeE3saDAhnfb9l5QzM+IHGNh+8JW1kj3w+KUN9mZfL+NnOmrPBBRVW1R395P9xNhfLoRZg+1Tk+xoU2hfBRC9UsqmPmDyBEjPE9geytgPV2jEYX8A7RTd6HjunHNrN/ifC08Bmnhv8YOD1dMu+tQTgli6mUVvf0cZlgZG8/ObkT9sm0lHaVuWxqUs8PQfeB945R7cEPoBhxPka96/78Wjt3QUq/EqqbL/zpQtC4S1OXNw8pEkDrY41W8UPg27G8qRX8D7wqJJvVZXCwMFNLhmLvSvbtkf5EMIRvgQ9FafJckDIaPZVqnDHZQoq0XDwmZjm5LiI/YSQoFddKL/EWXwJEtuFhKo4z/zxcbrXzP6rik+9q8XZAqkN4mO5aGUzIH766E50E0YMAIfVsZWggSguEgwFI+4t2XAGFIemWFC5DGsfNZ31m+dgIvYN6BAAABJQGfxmpC/wAAAwJrnHT3e1mWfKoJTGrwBHaq0UoPr96+H2ZAmQkMi4vnX6MIHqdrfXQN5TE0pTBLzWOQEAtIvPvsxxGSpwI41WI0NUFh1A4teJHi4xXl/G06XNeRetIBz2SFcosVG/itwNEsqkDwbdEUJPgrjqoa54f5cnN6WtoCcHA5DyFvyYCnklGR9XwufMxefs/3D4De4vOTW5GhM7UgQJI4p86UhfKtmdxX5mPUF5JSlHHngHY3nOHf6APy6N9snaXLgYed1Y0SgiCSCjXH5liPuF3DAsPhgKCQQiax5akohxDnr8NUKVWl5U5TEeRQJZ9wj502Tsyq4q9WTbjj4U+9tpeOPg2pfBWrU8DS8g7gA6s1hSJd1/SfKj7sf+XmXAuJAAAB8EGby0moQWiZTAhv//6nhAAA6OvfgaF8AIyuSZhHVNaByGuSdpedogmlf6MJW2PHMwjgiBoK+M8rvnXqneloSFqR5OYkKObyR9pk6fJ4vBT6jmv4rfk/RHfG64rQmGkUcHUp/0NwYNT5snGD7v/ra2pCV9bV7RCW3qB7Z+CskkS49tGHSAoAr/h0xwo+fqLWsvjlSfIxqtD+d+KNIC8gbNvCLcARgwfksvRAr+XDEgC3AavF2dUXyTmlgABE0g4lVYGmrrdrHiXAzlB+glvHoZ5V2lOn1aMwIqbv6gBKJiQA1AK7vfo8v2uAPlZcsVb53aRso4gMXGlexZ7SMdWRMahhMTFdz5goJ+bSWbKwxTHnP76lx2uj6b7Q6Kq6NAe7cdYKrn79giUEdyNJ3owOLaGV4NhnVzP8NUqay05BDlfaFqpJFsx+Y0mVD5L8FkKrVhnPiYBE4egRAHlKXaX+LuVWc4H+jjcAYI27/hvWIn29bZTROR+w7/wO7TL/UILz84xS0Eegt/Ojd/es+030DHn1fZjrVW7C8GywzGm5b4IIvl9v4vNapAGdUI4QebEOmV/wfSMEOr7oFVBxKEL8IxXDR7OGY2su91K7ALCu/nPEWwPTaguy0XBOEVpbkkig6hn3rd/AyQaZsKvkCNIABbQAAAG+QZ/pRREsM/8AAGcNZquFgwFfbY0Ew9M1Pb5A/0RGdW5fhw/x6AYrfnftvjUZpxNjLBr51EYyErNzJ3+hxTa38qJLXvR5OlBcxS3z9elR2xfXWQpyoajlmew/45xP7vE0C2ihS9Dn8Z17hXmTOr2DYzyBo6nvmjzl/xWEUhaeP63oSjtjr0IRta/63GqdeEZ/oL1pmPT4B44kpKHRNO+wE77ahv5VmrZM+rWUnpXFk207TZCMyBebxmMiiiLJ1eCrPX+2Jdf4Zf6895Fn1Lrfj6yXh8uwgBbMPlfa/yZHrwmfIjX80HwuHppxjE/pTL1aYc9yoPY4NSX1ojMQI4omrsHNy+TaxkZG2IL1jcWhtsL4Sd9NKQnYtmHyP9WoAAaYSOKFZORQ9t62RPPf7iPvmrj8XrvcCyY7GnhHmcExRu9pwpoOXMZIYP4WMzT45TdF6pezwhOn0b8yiTNAdquxuBjuuuJBRo00CyD3JWw5OHMLkocT0rVNtGtOmdoD6PHNMWfSGzz5Cp4pDA6WeVnEL7YFfsZAPBEEOyendxQiaXpJV3BmmGEkULmvw1HSLKQgSGAGPCO25ShEDxAAJuAAAAFFAZ4IdEL/AAAbps1Jv00ZSKGp68R7MY5UAE68k5CO4zm81EYJN55wGscpdyfFrpgPTfteKQoRIeF3o+Yvc8b1bkFcniDk3DmVMTqRZ1j/3K9NLuPFyk1Hdk/IeROpG2ElNjVBU9YvGNyWtawYLSG4PKs51Zq7GhlzbT+vd6UvKiargYu8kEIz2WyyvA4OokV2N6bgDbJarInZQfvUU1n39fX6GcqyVpc2YXujbrB73GiTpMy6mQIiXj6l14xhM7efc4NImx4mPJXdPeCoiVpgCOWcwxIB866V0YhqAwAAZBCtjlCZqo8gMS7yBdf6aJt3/m2MNHicXpNrdKbxFbO7ZvARLFCuMxYmtQuZsdLgnl43vGT1664SOT/nxgghoOOctz3MOttutYamzLxRLnQKhHtBrph1lY/hI/4LSKXs0Rez4gALSQAAAYMBngpqQv8AAIrnHVNRSdO1W/eFACLzsPgQ3b4C/paLrjNgwexO5/pCEvlfq+CgbGC13iNOQZEqb33G3i2T/EuaS0Fl4LSIdFXWRQgWL/B733qWj7uzbi3tUbbOuo1dxboacEvYXCoV4VVZ7gbgxdFaF5iukD5pqqrsV8zEJ013Dos60YF72uplu1qxJrfe9kPIsjtj+divVz4Tcw5bvA6uVlvJiifm6ZO1EUfspfa1odg5lIKoO0M4A8YqKfM6AoR+yjWBRMHhbgu9+ObQNubNDtv9n4cOq7KNqG+ebteg1tYIxFJBDqkhyp1+rzD8CECHBSf9g6BsLzSrGGegtEqTdbjjbUA5fp7uAgDUaSkDncXGMPePUf58g7h4ungSqnKu6hbLX7EUE4h5KFGwHcS5Db9oWTBL3rFgQcU2nkr7jVp5PnqhnSXQaZZcGzXQzd2pfL22rMzdiJnim8/20rGJl8YE7x/qz5DnHmBCdXfJyX/zCdhebAWU4qaT6+Rku3gAY8AAAAFhQZoPSahBbJlMCGf//p4QAAcbhO6HADN20WmRqYw2K5meei3xTFBd/TK5cVAYgwPO1V0T8RYDrieZkPqvtEtB13kxbI/kxRTHyaZsK6w2kGRxj+X3Bx2/9mBGinoDJG3uHRdsQVLtr3WLO5WfPJLDGpzY45wWPiQzBD7qkjF7IEEasgdO/w7ejL+Ee2dDPeRWQG4PATChMiT1UncOgbKISS3cAkEjWmQsM570vL6PH4sEj0opVU9CvOcrSEJiH6OCnZz68Jqu2T2+38aLln2B3ZhTQXJH0OAW9XUWqSzu/iA8xWHNhjF14+ngQvWJUTDDGjaL2h9xo4Qxh36R+/Agx1Wcwef7ziF0HvbvPKujg2P12QaXvJaFl7xKPfBMpKdbj+ZDsRqfSTZPXPNSpJDBJPCt/1SYxl9Ku77HVcXeiG1B1Q3Y6c2hrP613+A5wsajQtCeszR5EAC+s+W22g5ABEwAAAHNQZ4tRRUsN/8AAXnu3LmUWQB3F9rABtKAzlbM2fjebxY+oeJCLPQgarswA+Tc3GMwTmg/up3GRXIu/IOqXn/QuOifVFGPRbPZXDcNNuCT8NBJviTIDE4weQuzh/ppTpr4pEkma8gGNXXtXm636VXGwkgEOaLk05yC1cMjcM1lH1y74bs8pxAm3gfWXgIPlmymJEw40EUeJbRb9zExtt9BDS4TlKx9oHYvMHP2gkj2h64Jti7HA5hRyCkuXgacDwQM4hGr1dZqYu2i90YYqEFf3YXIYEJc9ggJZFJsaYjWOOd6qObPMNZadDmpWvtgC//U9rjq/k8E9tGbV+h0X+SREJncgGFU80qOvMkAMXoYHjcUK23nP3DwVtWZmRbbPSXjok5iTDhlE3/tbNcIDN37EHcify6yjp6FOZ/vWRi2ulQlQxD3FsD6X6LW6bJp2ZuKAJj1lV5WVht7gh197dH0jqvcNLoXNessRcyhyX9+EXd7EShFi+wXfnT6IkrzOfG4BIUTSgtktnqjTSnwsRRSvobqFFXCcAo2mCpDAjV1JdQsSJf4+scMdeRuhUO8/uTv0yWdoSrNKNYN2G/7NVPEPpu8BeuzdOpOhZgAA6cAAAGfAZ5MdEL/AAJ8j+TctoZOxWWcKGx+tqvbeABvLTl2waDzqMa+sNhnbiG0Ga95U38g2WKk/YLKx9kEMzyYdnl8qOxrKprgyvV1wWHzWT/hnAToDC7G5xrMZfufkGcBs6IelAIoXCBiAcYFadPJH6vbABC4PVJZ2WCgJhnBe50OLtDeeRtkJwnDIG0pil1ABrv5Sj56YdG+VPBHiIYBKa/4jdVturfHQo4QaQpuUAabQkQBmEp1x/qiphvKo73YTavU1vBvfq5IDZlb1RViLDVbyD+3ZiY9J8OHzQMjW5sDgkWp6EOOGqqZltSwJFf+hPknoXkfAkPozjZYMsOhkHIc5n18fLiDRMsob2CRsckC0BTFWs7uTJor+xXYMgYuRD+PwEH5JpYz+6b/W2pMdG5iANFyNcRqyMAVDXcm2hrVdxulWYVn23hqf6Qb5o9dDaPx2UVZdZeOi6mowiCBMdoYMHGjPLsbeqBF5zNvI4rU3zafBEnyJzUzskMV7oakgOl9aczzaDABBxO8E78fpKLeWpObhFNfQhCkYcFARQALuQAAARQBnk5qQv8AAn081vsulB9/8L2UAJq3wwo2aODw2cY2WIJ7HTmiGgKDQZdb/ByXRN1oFJRL4FqPs5h6hmVc/ouAZTiDhisWcdHKtucU4ibUKD6WoY/Jmfj09Nd/UIx44/A7ad0gRf71Rxe+oYCO61K8tzurJ435MwIp1X0ViP37norlv9sjtWdwBrak4f78sX+IjkoDv7Tbs/a4VT+NBlEwmJvaCA/D1JJ9VeDOV1vutWYkovtnDgLZ0TcDtRBdh34klgH50nWYHHe9U5MV0FIyz7TQd+UdO9izvBdJUBs2Bik/FB/tytVs5HZT62yMH/pONrhe4x32v32Lmo7sEL76GotYzn4oiOnCstyUV9g8N3UAB00AAAJLQZpSSahBbJlMCG///qeEAAHPTxJwoVgWOeUMPwM0yAOlcl3V82C2KegndlQDnnYPMfnTSX0VH4yTDqW+gUse0LXNy7HyJymUu3SprVEtZQDqsi3TngXyWFQ3hYcI/hGa7lA+C4lj4UpAo3vqO2YdopHg5ABUSMzV3wgc/Sj4zm3KV6A7yDeYtjVFJ3MWUal6vT0MCWKrl3Z2DKj74bPqFg5ZKx1WTZsYRclS2nZ+4fSvkWKZLmwR5T8hjn+IH9bwldQ5MHiMrvNoXnM0+uU/srhHQZJ01nUO2W45CZVaO3QnEUARR9xrW68yeJGNyw/4NDThiw7b3CkjzEfO3cstA/bHZeutnLpysQCUVfLnmCTSj0gUA16OIM5sqsW5a7LnulzMySuZJHp8VqL+vw2GhES5EhDwAA281gHFnl9YsnDleZRQj9oEG29hhPgqXPxwwfaNFLh4Ff/daCZMyMSJRJz6LGWAYtlWbfmrYAAPCuJuSEGC7t0ORTCiNm395PKapbARgBlgBx7YqYN23j9MEuoSDzOBn0vkywPkg5/tdPDPSvxdOY0NlbF2F0FNIAaXzLPCQb3GYHAKqpnpnDiWtD645XPb7hA/m092s4Tcn2hAT2ucfRIc+jzlQUV9GHzHFl1uK5OiFBORVHM1cZlL77RYPdYp2ngLLtxF7E46u7TP9NXQsTWbYczOGzcaBVDPCH0GezBDr0BDbA/yaBw1NsKye1ZykzfFmTHx80CKEi2w5NMaGoQWNytlVuFBxCCCuPxPtbFWWOMgAhYAAAFvQZ5wRRUsM/8AAdBgmHy6of2Y7iwACdvJdQ50TtnpPZRRhY7qCxC6AZha67xUP8tPL9iTBHUoPOmsi5/PBg5ZvE7nfk7W5/XRObMgHtKJEvu0R1o+gCBf32q0xTNZggr5Hn0P4ExyWuofUKPKmzvM2x63CgHSIR3Gz7H0FfuKfrLJzhLgp2qHsi4SD/kgj/NUYyZVbaSEQW/VriRoQJe1MAJ0RlWwT5Qnvcdmu6sAWyg3qX1H/KKUet6QUfnGJEUFaHOK+2go6Lbo+i/HHQNy9bx4y298LyAGdDVglISPRy4lq6OKTKRfqwr3M5LdWgOHYhPkM5fEELZEHo5O6iLZ6eRK7Jx4jLZ9R/fPq38rb1IuMvUPgSizlpTfBnhoymhR6e5MW+x63dIYC8Lzvg7jtTPez8XxjhnLGbECINj2fZdfcJpnkxdhHCEojb+Uhp2IPhsFzRbuL9U4/zGPD8zkyU0UcVOTOySbg2nJqRgDugAAAZEBnpFqQv8AAn080Z7TpukAQwExx4Z5zT9e+UwfgAhHHnxCQce8D2KR3jQbZMLQJq+k/85PwVtkDwaPJ34q6bdX5KKANT2GwOcbdhYb19LhGo8Yv9C8JyQqqzTRX0IxSrPS4V15Iw37J+/dqx07PvME+VgDU7PLWBcDMuBarB58BvSGsDfBxbClr6xVqzjbMy2Ty2k3QKxhy6bcCBBhl0j0zFw6W3cC44OH4CMZG14tC8eA8CIjdfScl+fVxglOS/w7SkboS6okLWniLr/TbZEdxI1ABuaVXZcjxaLCljzShTE2zF9s/XWFV6zOc8bOhdCDwkmDar6rkEmUeNfXr2shc82wsUPiArUu4wruTc0gc6GV9kgtm82vXXLLRLCmU4P6NvJyws2Opn57/HOzKKHGsfLEzkAxlaIhPd7DgpagXmGOvoubjMvNNayvlpNRoseJh/Ap6yoesxcR1Gx6FgyGOWrqy8Dl1wuZP/TIHJcERT/pzf7/xTL5vAR3blvn2Rz3X6l37CD+F5/sWguruOQOOQAAATpBmpZJqEFsmUwIb//+p4QAALr7wlvBPW63m7VWpmabizBOwkGYpirqnjZ/ydpidn+OR+AAF1XBMy6SZKv0M+iJ4E20nEvy5s9CBPVxmOUM38YHBjAHT/mKoIoHqmznwVgrxNPZgvMQ4AhkxjMCxQdP81ujrQL9fZKk/9o6i9JEuiWwCi/ZiBpdYCif//8eknoJicDt0SBkAAi3ov3kVs3TfQrIi7+fUyWkqu47+afBBLV7ZXADJ66ZaZb8ZIDQRNqQDfGTkUoIgGpw1rQINRrGEen8h/97+apAgBrzG2IeVMe1RBAvu8Ywm54pFiX9UL4jXlrW7OBL0gDY4+tTN2hKwzvQVh8mbCAII6uY8zV/+UbOxyNOkxDIn4FQ2wPt+13CeLoSnQx/9L+Oa639zDHR/hEHt5fk9ADZgAAAAfhBnrRFFSw3/wABflNZauwZQ053FNHu9kyyYPmIWkcACH60HrrXys4nQVJFoWsK9HInRLXQk+Q8kf/vreZgqAWkYjMCAo4lAkIdaYILvXSKb9/aNPi74YQ1rvGafYoBGO/sEj9lp3WuuKQO5h0fonhnGCUzP2dLG4wleoogrUy+lUjprAG6s9cMBCGGigcCg7YuZjBg3tSr3LBiZxYnu/mO1gFRZHTLSjscGAn5QZkZyYrlqHwSX1kKoVYLLlmoss+ocy+v/IyninBSeUx+6j7zfQBgAM01sW0Y9FH9Xa8JbcqMujM7hz1kNUgNs59BBB75xTmMqaqnOpjHkzFeoywOQvuaFg/TvtUS/oCQFkPRK65Kuli0lrGBgUsqTXIRje2IS8+t8yrRimWh7MStuFS7uIqn6qjaFfHOGXOctVM+7elUu8kbPm4rHsFq7yzcW/WLxUpSKKBgiLy/+7kQbd/6Oj7ttLqX68lLKWnosjyj3OboHoRTsLMLkxwNEjjKSAwwpTCa0pjN0MdsBw4S1Pxg3YOsp7vfXOejCPlp/673f2bKk79FqG18TGN2gaVl6SjjUS+f40xnl+tUTahgSR4eRbPL/T6sHCaH0zOstZZDSBEC8bdZwI6x0w3ck6jInDF5rqcoKy9jm2/7mTPLFKydQp/STEAAmYAAAAGkAZ7TdEL/AAJ8kSWugiUGB1yYJG6/lXfKEiKcAIvl3ht3FrOko+IVCgwmc15TE1E9H8O88AIK29sE4MWOGuDww8HhCy0FlQFcJ4zFsvTwF5PYoBfvV/TfDG9NBjMd2SlRiZl1zvVDjsHsnmYW86WaWagob63NYJom2DbC8DV3umpNFex0sZ9kdnERMmP0d6ymBfOfAc2ZqnXhXp0nghCDDMvDamEVSBudH5BBSN/XrVnw8yAW/gL9ZDuFuZTLUVuBGYOTQ00hpb0RlvzxI6rSW5tXaikOyv6NWNp27Le9mfmKgWSO9l9AAxEVjp+KDoXWwN/cel/t0ObJgbnQYTGlF7mJ/P4kShZspQktHZggIicdCWYHG+2b5UR7Hk9fVugRTPzQBTYGpkFBtW8OD2v0SfhY75z1BbSSNAQ5Ka4zL2xzrSI+lraoFf/3ktLCR5xl1V6RxhCKxZyFtt+ZBNph1RshNrjHuseSNozjDm/aTg2+K/1LN0LlY/WiPskRGsBS3VvuOgkvQ3wS390e8YQURgy2FckP92rlhPIyZkolkb5XQAGzAAABFQGe1WpC/wACfTzDLfG19jmqVadKXiTNHD+t9PzF3iZgBcqfCimdBTBnQiAy+rvqaykrarYdaGnVB3PY88EBTbwN6BNVi31uHE/HU7J3Bq5N3s1ZcAIppPKWTNk4bnDZvrpWFCd+9sbe4I+1L7vOGKr2BBR0Rg6wRxi5eZ8A0FJGdV4DKoUL4TprA8woBtxQbzbyXT+9+W6CrC1fdAE01/OIFMsxzUTLtP1+a1BR+g3nrkJC0Sle9NWYY8qcExJUW/cXeqmfJvy9ZD6DfkcnSPnB3yi5g1K2COWGzL+y0CGZ+ExzPB7f4tXvhmq3nJyt3NkI3edJxKybcI5Pr6MhjuEbVoAxocpf/5/zaQufqTUbycgA6YAAAAE1QZrXSahBbJlMCGf//p4QAAALr7v1gxfwnanWy0QACKU4leHQ2OM/DYEtlSBe2Zid4llyQyl3WWieVFgqDj/qaf3UEXnG0InY5QaxeEz9wtMslDGtYOLjewJ28JDHq9pU6fyFA6Gg7v8DQFrLxuTkp8J9eqhlIMoROAdGTCCy9uw8AlrqTqiyO0DWVNrmC8BU0DBnQJ7+VaZdUYB1ndNsA+LvUgl1yAdEbdxkG08G1FUKm6b48p50FrpozOGF1Pd/UVZ1LzugVh//IMa+AH860pSXQJhrSEDOrOEFpAjcljueRqBg3t42+2sd94/90TXa/q3VijsiLn8T2GcthOifnAEAGh0JZxb4AIsbfVoX3t+bQ+1jxXQDC1KqXBiAbQXwINb1EILjVM1ibgJ8H9TgS9yzicjtAAABkUGa+UnhClJlMFFSw7/+qZYAAAMAwCfqYQafdABbSDrOUyKMrud5fKr3uhXL+2iZ/I579/PIjkVNQeMykFh2Xttx1EJ3Lq+jFEOIpAF+aIxFvzn0IFEhmRlqkhyiTAqVmSvvsv40tuwTln5216hX5NhG7Cd4OBsnVKIbvJd8RGidBhfB1g81lygD01QBOygnw5gRJNtLErU+HDH0/JJMffLqKIaMFMEZYX/f3xFEmNl420Uu39MlMBfB26UCafTLnNF9okYAQaivvRfuM+qopu9E5BEEJ+I462A399dnjcqf2yctztMibkrO0cXecCGg/VXT9y2Wxp95usqmIIutYaqnDBTGterA9FEy1PjtedfL1wwbxVtjuAdm/zBW9ry/hHU1rLSJftsbXrm+wzXukgfejjRBvbdWFxdDNtegI3YtnLhEGrBWytugDzs3KTcQ6QGuW53p5dlATDmle2B6hfa64a1dbUwVcUM8spf+JWlUKgPOnN+u0sXog1Xuxhf2N9uI+IFuLGrsisctpjUNpgJnAAABPwGfGGpC/wAAAwDiEgOzIADaUo1Wj67KZpXmO69xzhzel0G3F7sz12xNEaNKpA+s8V5UdN5w1rkjELlVaykZ6hDXbi8PoYzEk8M3oUM36m433see2L8W3tzX0L8Ju9YGXqWWks0VmLz8CZfGe0ovhTLaRKBPwTTY+B9eyudcaRfcxI67YypL6IUFzsYA+5lW7oQTBVMIaaRq+oOCt3lG3T6S00DWGjcY+IgKEoAUJXAvfTQIu6bJvIuqUUlBhijMbZFi72oJ+ltKPPE1xWZBN01tWTmx4Vd+fnJy3qxEPkeUU27k9UL2WOdNZstN1UYnjzlRO2JZB8WnMUoWZL9LNTFL47c+pgk2P+hft0E/LJ9C3C+YbkLrUO6VVEokaReYPJbAekmonk6WPRf8/F6MsHzN+vCl/3NfDy/mUfaHFNAAAAHpQZsbSeEOiZTBRMO//qmWAAADAMBNZ1oAS1dALyO7mmRUXQFyveY7qC942zl335wcWT2/vhOmoak9sIo24GGZnLyrh7VgVtUI0IUntDKnzhoARuhB2zPyRxPLxZn7pzWjv5KIe7dpy6OX8Wi2iFl1vNfxAi8vjw1gv1dxAZE0jiRFlnYPEHEsqzUj+/Q3lGZN2tvNetsBjUd7twJ3sahJzW32CBXN1LBuAHo21PG8/+j/tVkvN6soJ6oXX0mukV04JsDslXEIesxuWs83qoWFGL41hb7rzW4scJrqlf4pYjqZHh8frQmO+8UdOnBK2ochfn/MOf6TOMnfxOlf3Cijgrjg482lJ0SEwCbu71CozgFTAKaClYBE4R6LYYbaJ2EOG3AVvSak3OLp3AlDHK4I8nzj1fCi6dwHc5NdxgfWrKLJU3bwYjR0OVdFlm2tz/qxVV4SVp5fCc7MZNWbMgQqKdKCgOhIyjlvxif/2xFZqL3Wq54j77bed5mJFLtOoINMdExWC7MChhdWfwkHd4/wYTwykKXCkQHAGuh5kOYOc6BGQ06dDZlMkroW9df8bZveaEGynKg+NmTnaKUnNmoQ8li8ZRyurEkn2oFgE893WCGYtRyex5C8F55neDPCZ9Cly/yTErGkvBvRAAABigGfOmpC/wAAAwDh8MOnkmm3G96duW36RACWZR/+1z5eS1Nl2lGk32apHeWE98QocDye/62JRz5p9IaXTfMlfVKYR/2hb4Yxxpipzv1+tkJnNKowqy26ypqKF1qDKNqr/s3Ttf0/Jt8P1WCCOyt/7ee8QOPGWQRKWFN3ODfUubNsR7fcH7HliDUNfE0dvCu6yt5HFDxhheSLAPdIv0mTxION68vWVVgCaBEEzEy9B6ZwoS9nGiQY9k+HFSwRweVXeD0H/cFnFpcAGKCOy09b5SJEyh5SzGAg8R2BpDPs4KNqG75zTAEwpoo+3viriIweYS5FN488P34R7t+Li2UB7445VeSxn7Hv9eMxn1Ff2fIxFq1cmx0CwpmLah2dvxuPuDvqx3s8ccT9ZSlcVyTw5XW+uQcenn1i5PL2wzD2u7QtTGdcPboU4CHpFdsM87gLI03bQww3yv6gZanPbUddreI0FnWXjey3rBcvnT3GNkLVV/7vXaJTsPHwbnpMUng/uE1ZNwti7opqBeQAAAGSQZs8SeEPJlMCHf/+qZYAAAMAwEt1sALeugKO0Wpf6LUJXAtaNJo2hIkIdhwczeYbHXQkhECBT0inYQQL3N+bnueUMxU/KwbsR6rY9F+UX4MSx4OXjo820XGdi3hHtfXfoL9PYOElVDJOkDfGPQbQID4o2mu3CxJjRbcfGIsicZ3kFx8gdrvWKi/+MgSY9LQa6zBxrk3E4Ft3hsShJmwkrpHniMElxhpBrzU9kNfKRbWdfGoCleXX9X8wpO7DyyMwt8KoQHEfgb+NL+8AM1rdGMboiIsfqNXTioDQKea5Kw6Kb91SPzTUDsRXbSlXaCWsqHI3OmZB/Dnj4OYY3R/NzD7YyPzgeGZ68H/YQi/MKE3TDGeEPBVZbzGa7z6+qRUMZYsoTjriUrSsu5W6+k+2KVdLuiuukhtdjb9Q7m9lVP0KY+a9IJVLsLKuy13pFWn4kRAM9P/ZXpOaDPgGw388YKf1QQ7WBOZn0ivedAwtxIZjfixwC3ddTirTfus51l1FVc2onLNbVDYXYlAsvq8HnG3BAAAA5EGbXknhDyZTBRE8N//+p4QAAAMBfY8OgAXJrS54ak9GPNqo3tImOSDyZF2MXi/NcZdYRgw0Mmr5dLd9XeIYHQbQsrsGrP53IyQoNaIhTuQOhu/zWqL9/pHQtm8639h4Z3pvwQDBjaHdy9xzskZulpHJjQacjW6lKvUS97JskKQQeA0U134vfl60LYFqTu/VUjx+RQQCfw8mVkCFXAHPGInaKPmxv3e3HLLHwjukyalk4xBAPMsVxDR2TGs3aULabs/KUnwmyD9wR5LhhcDOIpnuwiVP2mjb9Jjtt7xRgv78NUyygQAAAVUBn31qQv8AAAMA4zHmACFFuVyu2B5semcun4XvgFP8iCkNxVei3PvDMF8W2AzwbXXb5CSk0k0XD6PIw5QwJg2N2gS0lIVHdWHzymLEmCmgqVu1gq7MmDmg3zNxvXzMhOgf1urLgBY897RfrKxm9T1Rs+TK2A9ben17bDxX1w90VASV3GM/jQryEH60UxvtJzUizp8SwkpdT9At9mvi2MHuwREGk5rr7/X+PQ8TBtcKAewmjBAEvS3MvYEFBUkWywH0Osk5pnORcXgIB6aZ4mj/D5pC2+ulJhLeZ3gNqip9xESNXsZmgpt1+bfmYkrsmPeiEc8WLrjIdyKawP/0l0lfqXUBHGXCjvOcWHb+45HljqfAMFI2tjwDaBP+cSOU40c3NhVA/jWAkKDN9lZuCPz1mp0NHxXxJFAU6/ABYC8/V4PCOBteY6BXmRJSu/EOAcVEq5J5KwAAAVNBm39J4Q8mUwIb//6nhAAAAwF9O90utl/gA8uYG593LVwUyU9hDRhCsebyL4GiRb0uIpnm1vM9PiiZU5eoOtdfQkQr3yJO2FYTuYcv8j4c4b7sa3Ze0+ZIoPe82j5CG5fun5v5ofS2uYUTm8UKfzP4jR+MT7MZJdKXHF1JmtkseBCKbu37caV98LYoKp153TvwqjS6c42xhM47WcCjSA/jSts7X1F/dVwXlPdOjoGyMTHdluHsnw6vQ1ugQtZrPzMJtn/+QXn+bckQ6EIklez+URUmmXT9cjGFnjq2lOJoGhO3Sf7BmM8ZwQP6QMAvgWTXCbKOJr47yv/Q4BkdClQvzBZWG+5enNX3dDlzJ7QmUjw9xV03UfFvQ6Uhtkba/t8CWXX68IpD8oS5jtqJqMPSYY9mWfJiUZV0oBUb6F2BqP8ogcdUA1HD789+PQpPtDLXE7AAAAG9QZuASeEPJlMCGf/+nhAAAAX/hOe6DU/L0AE7OVrHeZ7DgqHgSqujbXexXuSDrArdQvMUhuQ4d0dCE4GZRTdYQ2VEX4ekbLdkVLUYv9XPDWxpZ4g34dIES+kPNUQCoUz9/ZWNihAVezuVhhdiv/OnqfH2gcsB6H9t1e1dHKjnNFAMcgEaaO8d7YN/l5Fj2Z69rD0sMsQafgTMURQOAHJfDtx7KWgkIciNM0wiX0x4EYGFOGvJxJo1Zjs5TNd6CILkSoX2NttX/7iuu7dZpMMbul0YGKtU+on/SNlBnIsxBab8qFmwctmZrN7UEQwZydqFMAqyud2NzLHJkK+exfN9AR6UmvsADc2xpSkSY4AP2tRuNwWQSZ4XAcXFyOnGW24eVgI78x3pmXIIiUlRreKNoYm2my+R9dzT1IirkRhzRhfB9z07e1v/yPDz1kP3iMKOOSR3Umgcv7oHin/XjEhwiWpmruHEs5eiYkGtnKx5AapQHVMlWfB+O+EhlFKbLFAWx6ixZWo0wHb5gRMegap8k7O/jmZcy1OPAnt5dMduTTZtWT3BUUwGvrxgsLCVNvls5+tnqa3TCkSqVOjo+QAAAjZBm6JJ4Q8mUwURPDP//p4QAAZ3hOkn86Muw8zdABxBh7cZhNAtoFayIH7nrpbi20W1PdPM2pw1cmGkRb/ad+FWHPAR1cShZwEAtjmVuHWviWldAOaO3nfEsh+n1U3/ld9OwwaVW5cBIyu1rXjGXmCsieM6dL6fRR0zDOwzp6alivNex9zk9xr8R7hcwmulrw0nNvr3DfzwnbO1UD24sdP3NKWsxSYUQ2P0jpKkveAFGav3LtLIgFxKhhRBFP5DRhsbQkkEYYdpuRp1EQfeq/UAKb2nXadE2S7eoru9Cr51067ShE3b/4doyQfewgCs/g8R6WbA9KNcDRNxn93axazFBeAI5B4RL83LAdT000sGhAiW9XZYO6E3DCl/fllGuWM4iWjZk2jd/sWoPyjqjUzLjonUbqUmvaEhfA9sWZKYJosmM8Cn4hmwZp//objVaRL4MIxE35b0bOZCvvFOQVbJ2cuCTaPsYlEVVZrvrfGpijJwJEfQJC3k61197H75fJ4MJv3ApbS1BT5N9FWFZxwesykHjm3Ko+EmQv+6o0mn8H9pgURBNnrG4fUCmSZ2Gf/G3RbSUyV56oxsI7t3v2pq48j9yWVcTb6CotufVToT8+76YY2nri1Mb7uxQpg6MIv+iVHpaAeZ76WUcAuTche1hYzoo9oQuyBDW1WMqbzQ6p9gP+Lo6gbb7Crwo/TI7GVfcuI3+qC6XWlGnfQ6ArrE0cUro3wiNigfSlNI4dRANKkdAXDugAAAAZYBn8FqQv8AAAMA6B/gIa0Wi9Bm/qnABEDxxfdd2uZaTC6qVlt61bv7Jyndsg0Dohm8wLgPL6BsNAushjvn6Lhjf0YLNibwzxo4DeHtX5v838YZ5Ka225RAMlRPW2IpMHOhghMMPSeorjNya/I3MyXn4FmgAC6Jd/OMVBHPVms2BlvHj/Pag8m66Ph7jfGOAA9V2Btmw1yUwCJiE9mWcE/vLhOb4S+zodEYB3nPvGURa6EBuPWT4NstYnA49By+yNCZiu2RKe4VITaOazEoHovryL5eawNhMN2fVpWRfbqCxP3FsF6O0KQGnnN/rpkApMsNCkDTyqCx8I4fisGzIrB231O2NMZC9kN/aPseiYON9HWyQ1hJJVLfTB4DZIIpnWfK47borRZDCGGxwxhSArotc34UH6gZdpWH9z4wAKP45AM8BG3EB8GKOE6sb46mR08hW6sm98u/3gRDBMfcg7EW6oXxmnmaA6essKppNoaH5sVjM2D7x0amOgVFUGNK9vJ4UUj8OdsqttGNT1C9n1JZP3W9Pgg5AAABKUGbxknhDyZTAhf//oywAAAG+1pdiPvL7cuAE1en3uuyNPQRnFdv0RV1My9k25FofajysW4OWEWTTR3YNgrwdTjrqLOroxJP1K/bONXYQgOm4N4aNv1bO2mfKP5zfob2OBpTmAjw+DMcI4Cfx8qLQFgEDiPQTFShFq/v7NeP1PDidLWP/tn3BIvboti5lwPEVyHD2qxgfqIvSENOaP7+koBA2FcWxLWDmsOVgZrWcb2i9iet/f1crOxtH1xDG1TzWeRnlXiFbpR9NtPixcQidOLk8ISe5ObbWL0Ng2ge3p8pbSvAl1e2NNxI7nEJu/IGBPW44/ebNGZ9C3iWwYf5hgBEZRF4SU0sGJvBN/pQ2EqLIiJJXf9V2alJnFUVcwKn8iEiLENTz4DfgAAAAfNBn+RFETwz/wAAAwGSNZqM7U26uKVHGjLdnvTaufgBFxRqk+7Hr7QEFC6Cxjv8QODO24vvfeXeR+24UbpeLIG7mRhHyBbugldpNebTudcthY5qaexm77mxGnd5jxY9nJFzPEmeGB9/XBXPhz3vvk7/BkDktUzsAb6yzGw8tew15Tg/WHTZKA3wXVMM3NSBOyir09c5p7H6PnYqyNR/33LbA02pt+A6QR5fqWGg/55Qwhy3f01jzi6e0UBp3ab4T1PrhfoGbuO6whqx1dXTKWoFksTgtpWnH6ai9RLJbgVXmYSlvPwfLes+pVrwzOnR5OmG6ZvpvHfhPlFlqbMX0UN7Lfge5xK21O3lstSFfkKlcTxBUtQU1Pmwbkw7/lKcalmQph6KR59y/Ah++cS34u/43TvZe9Ucu9+F22gc3FZ6I1cbuD9AWF2cLa01AmnXQOil3oMgKWtDH7O0UiO+V//UTtatVhzydvUd98XeFs2okaxdKc2+5unlGcvDByAbLFJ374zEC9YjsCjBI1O7vOpSJY89eDdZxQPQcMdbc7CpJmGtq6eKTwOoKa1U4eG0r+2Mb6GVPhvPonxSYlzHvlJ5Dz+lHU2jaR8+9eBzRlbxXwB/iyyNj2WgJkL+FHijT84upo/Dp00UOv8NFo3uBzkFTAFtAAABYgGeA3RC/wAAAwILv3lbRC5pM2enaygBNS2tp4zQUW9+XRceHoSAsN6tvjizHrXOzsNZJie91vJnGj55J81RDfKHS3Auq1RN0zI6NTeHKgV13fi3RAaFsHRCquDT7I9tpYeC66CCO9cQzp6ngqsFzan9NgPHkGHTQ1nJ9cbNSH539buL7CMaBBNbXNLdrNlS90/N9YAbExhC0P/zhLTecbdbwg6HcmMn5m+ySO2ObGjpPr8r0p0TAL8JRM5TwilYMfgnFnnVL2s6J/d5uMdLY6mTvZwPh8W2RVWG5ube7isAi67ZuynJUPD6zykA9DL9Gr/wQoDWjAPWYKibPoMKQfP7gQZWG5fnkN2gdQLjjSI14KcHO47n1u5QzWyQEaXH+CpDA4BD0LVDuyhsFCyqf7zm/od87FRZZW4tNYj1AodEmnNvQQh3jhG9U4SDxE7NegYZHWxBpl09vuD6RBGtvfwO6QAAATQBngVqQv8AAAMCG5yUaJEnfL/4V2pMOvmUARDzW0nLOmHc8BuvxJkMWqY5JOMoXNTMY2atOPdZlPsmud0/PTKPRJGWIY7tSHsCajA0v5qQAjNmZQQ/PNq6C0Ao4UmbHbMbj/mv3KMXQy27I2XcWzbLZ2Mnp5qbUHMoVwWDgNylMbMxR85o5F+N1JfGuwRG9cs+wDNldy+vByFcM8cI2I31uJEz8I8C0bw2MOAaZbjfYMRHWkbgcwRs+N0B+WSDuWHjifeRT293aXYnk52lnZItN746ZPX8/RuYqQmFvdabPhKgBMUwCmcucekJ9VPEOWhMH9UDJFcISW7vuhjAVd8veFLpsKXmLDVg11/hMFQF7xnx6E9AWt+incsJPUxE7woqBVJonnr/MCbvqpDHHCUvjYoM+QAAAclBmgpJqEFomUwIb//+p4QAAGd17oZqNoVh8AAbVZ0TB0GVGoSD78VlGDf8KKHwHukaEUXvL2JxPdExcJOS3akqB1fYG8ooBXQ9E4PBYvzBwVkoxvL+F4ysKlTWUTs+9zr6GI/SA25zv5Ky2c9LPPEuUmvzbcLcWqCjxEVCwwXQ1XZT0gOXZALE1jMO9FbI3M7+vA9rUMsQqBGDW364j7aWlSNvFqHcV4nmiqEiJKdg9zbEKm5/2HVcxeBGcDVH4AVqCnVtSYbCyxL0g23eHim0iHu3dRXBC/Gv5MjrqDQ2qYD9QH3DmeceBpB2aDuPvzejppTcpDap7YAXOU5jh9a4r+WfFgl+iXTAger/8xCoIvov/RJxSW31Hodi5W3Cp/hrQKANbdvU0VZGj8Bai+kKr4XxiZPj0pvrHIuU5BLOeO/WDRGXkEIJBVqKe2TSLGpwS2bH5fEPnmQiy5uxlhcPGK14EHXVT7OXhgNTRVgUIDnWXquv/AX+7FV7s8eK58PjKfCPFrTf5V9WRvy4s+hZ1MtPd6Hzjruj0qmzpUmsjYVLAinCwndQccdc9Nt772OudOeqt5M213umrQ8TYrTk26wATjvVUATdAAABokGeKEURLDf/AAAktegIesEsJ2jW/3MlTKfrM4myXa4AOI0kpsl4EV/6kUq9ikJC2XnrzetQ//zkF9FmNVMDQ94+aCvPpKJPvmFxvklcOhXNlzP31EsR+YjgqggJo7IyW8I+k+IdFbhyxjqFcEmOwDz3dAyYbbzcRPBoBXc+0RZVH8iF+tHxR6yt3eq6gUnMy6zCqLWQkk7vzNn8tVPCUyIdznUZ6PlVlNQIch1mrQc2a6BfZAFlLZKld8qjctPC/JWA+LSpSekLUErtKgBi5MLsAL4eWxcID6PLaouy3388eOqSpQ5E4q06azihRieuPOhwOUyZ+zZHqL5LGj9HXB+AzJicOFJqxQwaB/AgXIJN4TRJyOgwVfVqsIq0Zffx1bqkNn4t0w/A2FMduqL2zkhBiVXqA/h17N2eJiMCtpydoVpukSluy0MrAIrhntVDUntJYrkNlThZWInil3qLizzzVdAkKy/9WW4XEjAAVJewEOrl5wjNhiHpy/GyyYBbHKjeou+e27L9QMFx1KlrWnJ8cWmG21kSU214C0IFHysA4IAAAAE3AZ5HdEL/AAAMk2CiqxE2t2lN+4ALBRcEzZpRalK2bmgb6vSfg4F4JgQgB6gN0mllF3UmhBWbo9cyylr1aQ4Qt1onj1MJX/rcYbnY3ZrVFVrRpIwBlUmsPESWt+oH8KJ8R5eux2etJYeKdsJMyhDCzOhEObLdLdS+SN5F2w9Pd/lWqKyG2IS1iAQGma2E9WXsrpzU0+GIMmDOdcZ/d0jPGOkEVMxv8vJXjkYavDoDQ8j/OPOc3rzg+T8kXIxaXRpV5ZyUjGBC/InKIe5rnrumsjp/ryHUkVXmHtXVAW4Iw2vZaPTkGqcD0oxCm0p6jDzSgFEhb/iOq/2iWqtEt9Ke561UqtxPRUChCw25K/dFEAgW5nkEjctrEkY1wHJ5rpvp26zNn4+jAkZi7gkLg8rvckXjS5JJGBAAAAFcAZ5JakL/AAA8yXw+cZCzVz/wuy6l7LABO3paJ6RMbnykgIUSocCDK6cfs80SRKNddmuhBfEs8FEK+Q301ZgAPd+lSegrj0gcXrv/7kimRE4pipci2hBoj/q2oKvsJ/YACCciO79bxrlEEYnPb/k/UX5nc8eMhzM4NQiq8O/yRNHiR83cn4ARhA0Ki548hCySwUlEfllx8bNuF/DiIFlZvKJjnXJFyX92vucXLkbjzrT5Uyyk5m4JKkGn9cwrnd/2XlIWf9oTOEC4XPu6yoHSaqPOxc9vlGMiuH4O5OG61g8nVHEkBQS/8plBzybD56lWDKa07flSdbhCG1dEZAvaYas0D6LlXxbKaLwvhB1yPPeJ5BeZ2eP6O72ULHEK0ZI7NAHWJ3P/4LA3bHLsEdjEJtv3jEbzC/z94gv+drnFS9PSsQX9Oad6xLjg3MHbrvh8sBCO60Jta+cpIAXFAAABGEGaTkmoQWyZTAhn//6eEAAHG1y2cLuHx7QAIg9cKMcuneVnuXyi1aElqhv30/b76gj2/QDMx2DXSGjpI+1I9KNoCgwFxZD/mmsS2MyEtaveivuiGKtYPs7QFAp9Z/2M9W+kdVJvyw0ZDuHf9OjOTUrYBZyFyWojtk0GL28uX7aNT4p3VG8n83Pt2fqww3lqhoVy2QiNShzVZCa56pcAPupqk417nl5ANAQ8wt+j4SrEEn5wX+tCOrgALyoDFzo9DCdLcimnuVo8zTlAMseRa5qcMzku8ncg4FYVJckXwI3A64vcOdJ4qHsZ92tiHRM0r32vD56TCMPt80xt+Tv7P1a+4RrnIt9xJzHp6x+4Un1dBSoybwgApIAAAAHMQZ5sRRUsM/8AActs9PTiaii0C7CFjwAujT4ZmED1Fd++Xcy8PBW6WmqgnzAeMBMgmlDDEGow4dWUkhayajBhvZqIZdfx7gF9k+uBEnAeqz0Cg69OPFMtk7pUPrCzXYdBglHGQ3715QvGuhn+NZYPz7A+zaL0kMeOQUEJqxL3snBGyE5gayz8kamhOEau0UVPrP9Aaex0DWks6tKHPiT7/6qTfSDzSgR89dPSsZop2E9ejXrstK/snxxHNzxY5ic/37CNopTzckntBrvpTZASYDNn//se1/aOO2r1t8oN9pjkWkBujVc7lr3s3xaCQlSp/vloJjOakZH/Z4uvhi4jKMrw+2/YoynOMMzpa56o2RoEli7H5Y9QMYsIa/+5ASpmRSjM+Mp6B1h9Jn3i41EwfnX5H/lpiqglNHLKC57vdge5D93hYyY4TFucVX+Llj2LBNp2WTBM4Gcn/pwNmOg1uIEgR7aaKZf7nBEZrwx4kZwZ39hWomyl749L6x0rtjiRI/HMwD+bhf/pIdGYenyuUOAWVbaQgpWDPz1VQBIuiJ8V7GqGHkvirTwYGsmwsPey5Cklg/3le5+6Nok1y2HK5lRyes3eaLDbsABHwAAAAX0Bnot0Qv8AAnyRPt0kyCsUnuxYulxesb6ABO3qUJg0nmZd4ZqaN9diMUVmVUoTNKxClv5fzSr7dPkqLFVpUJnVz6RR0uNKGODad9bVGbQqgDOSMM+rBLWm4ndTwh3YVE8MkhlGCQnCC8YqiWRT4UvGX5pmtmg0wHWZiX27BER/sO58xpk2DoojR3r1Wu36QeW/Zmj73IJkI+ctJsRGJ4mfS25Zn8tSFVlV985oReJ8fEddbN/iOTkOJx9yJl+MrfbLBm1vFo7BOlmtXoarl6bMlZLWThsdXMUtTmKRNTATk2SNMM5nJ9VFAzRCEFrNXEeeIx3Xr4Z8vSa1LIOPy4a8mtc5YRjILdFTHtuHeACSCgOKvHOo8GVwX97zyoQ/PbtT5Cgfalz6tOQMmcCeWNj5ZOji/Qcsoeg3aIlx0O0s/tNBAsJMtnw34lOsckoQDVovzidEtspbMn5WR7z/i+Tf3FMYY+fTJ+ULikoqlpjnpyvzVhBJ876L8zwAR8EAAAE3AZ6NakL/AAJ9PNl7b046zxuACucDGAQjlzpHEBNrJCfgghvKPqaDS0aJ1bD7tI4Qwqi5Vj3zLmpPgF02tKC8SxHvxSmilMDpEDMzsxYsD1hGX4+ahqaBIzSnm0vXnhXAP+LhOfjgPLvFBSnikHc16xMfE08ciIliVRKWdyBa+PFXvyzte6yng3HsLM1abVmg7NpTEez6zgS1yA8/MO4/X/pBI+hmpGzBeRgG1G5tybz8GtHiUUCzFfCUEtt+8uL4+IqRbNfY+TPM884GvoNkVtmDSjgkxdOOHJ7BXYmCG4iRacTDrvvkZVsDQKor6ba1oQsFOQ4TGNnuVXpyy7i42EYCsrIsv8Z03w2+zoATi31GI3wEROKQC52Zjp62sWAOBfPP21dD9g9WwzguDBJHkvl4/pIAAjcAAAIkQZqQSahBbJlMFEw3//6nhAABz08ScK3RD5heM0wAJZQGcnyugepNz/Jleb8fxePnfPFAF0LAjo7WZfkbgn32atcy5UFHlKFXZ3ckcT14+pGl1pI4aujpABUFW6o01lBKJsggX4xSeVznqI5IXC+gLbvH//rD/PM49le6nW1/j/GqbOCJPSEuh3sZHkQDYoop1GzDVGohP/PDqflk+VLR8EOIwBbHHqaj6iYmT9vJDMG7hBoQJzn7u6JkmMsCG52roSDx1wYPb6xdiNP0/NTc2853pvaqxC2FrXZKbyVJ+gI6PtQcjaJkewmztKbYS9+ZITiyomqIb2HiPld3vFEyj5j5G/K2cdrA2W8UhqG5GnDiaUVuwt9L8aPX35p4a8FEfsaLQ+nMtuB2LGrRf7N4NUEFkCba8K8RL1mMFtsSCMldHcEwkC5+hhNCBlFw745UUrA4K28JDXRMuuyyy1z6PwFyerUBvBPhWI1FswdelhZf7mCKJ5Tx+Yq66vt0EJJ4CbiWR5jVpGteMw07WhqBUdau3g6ru86jTbRil85ebm2CwmJugxT0gbWDXBEVYAH50yizydrA2SAH0Op9ZQg1TxRTXdPIK6T3cxlPKdLd78hirO0y6jaq0VjekOo8LNacUowR/B5boDHO7AxUqlA5xkF9m8ULRndhugw0s608XMfXzuRQPAem20Cg8aB0Jnd3jnXC/N/KTYEAN0/2mVZar5AA+4EAAAF4AZ6vakL/AAJ9kXax4dCOpyOAFvCaghwiqSYR49yjOlAVFMmvorHAbozUo1gmBYDda3xnE6QoJRMtseaT99YI4f9fr7HgzocZk/l0WSe6kLuoq1gEAWPzK4+u9bpZmHDt/xONjBwqaTxkA0tdJI0OWVULcnRiEYOK8OtAieZB0t/vRqQC2orei6X92yyddHsNHMSHZpGem/DruK4zQAFrfQckaFnseKD0GGL6LTj2KM4ixUcSE0DSF4M54N5pPCBqjOKyz+cd78rytatrZke5M/kbhTTjpy/jQZmxZrKK3gS8LVS8ez3jXKfhc+LsPiaGaMOrJy9bLJ3ywVqZreFbkBG5uyvYCKoYQyxoXwwx6W9St0ELvmACxie3E7n1L3Q3DcVDcbNFa69b8BjwszIZLMhUmaLJ+vMWPRsZhEaJQme+FOza2o9S/kS5pw15bcXENgjQSChMG++yOKdyralfHLkf5w/Hj+UrSpn4OJaf5MLKGO05LvHFDAAAAe1BmrRJ4QpSZTAh3/6plgAA2ntoQS67/rMdshexqIpfjAdgO+J3OfAPGAATt8A1jKmJgv8iOL/2JrTCaRgXdrI4ySEVzu1K1boM+U8HQ+FYDjBN3BXkUhW9t8rkY8iPKp9nAbxM7I2gTIHTDtHlhsdoOTM4OfypSY4K4cSK4mS6oaQAnFh6Jn1vzQ//4NXLN8djb9BjQTlzN7021RQBYxrKDFQd5DBm7s8qfivE0RHIA5UULYQ63q+dawL+9RNVTKHji7+E5TzHBGJYO6A1SgEH++rTiAq/4mdpMGlgHznh6tPOiil/KxNAbs6hPa9hcAVuA16VYlqx5HZIEsCHRoIs+eO8yBpmIYXL45T0BsnF6ZnpI6p6+u3lnwj5PCFKu9paFTxxLYLSWvre5Bv+T1hHqbsGrMe+g3cYgZdEd3yWE3sQaY7MLrhC0cL61SLdNaoKXklFxR1T8aPzwRz7ZCyjcQ+r7IbzMwXyqT+j+8Rv6D/PzvY+ftgbaqkOyot9xebhA+PT+c+wrkEumw2CjQJwsvz9ORp06x81+OzHRf6xaGU0uJ2F0lAw5gV29O807p65ECBFykDle9fPflQF++XEG2u2tAC2CNY6DEb3KM45BAbFW2kLCGED3Mx1srTfU6IZsUFbJb45T6Cv9AfAAAACO0Ge0kU0TDf/AAF+QjH6MvuoE9l+lXbfaRUmKSKoADaT1QwMHBOwDh67UoQBuavoy1RgM/XwqHnd+Rk6y9KSUiFRzL2h0MrfSH0FSKnM629KOrSfr4Z6AS8hPUzjkGCOQikTb6rbYYkRyJ0+9ACoW/FzY1z/GZep+RytfX5Dfvtvd5TWl6bcsh+voRQkjNvPR/TtymvpY0r5HmMK8R1YBW1TU1H/sivL58Hyz2V7EZBIyfcaj5LWD4q+0Amp+rj+WTxiUDBYmn/0tzFMuN6taGMcZsEIiIToF20tjP0xrFd8vMaTAuLKk296CPbEp4Aa6XcF/Gz5w1kUhBRyKn1oZyHKKj1mtEueVDZeB725D1jikRqPHWy4v0CnjtkVasACqBhYSRZLwfP2iZrbSt9S9pg/K6ji9jRKjKFVcVFio9l5WvYYX0gGggDG79BUz3uqLXs4t/FC605UjjfJXEOZY0QIWYoHszEKP/PjCD2gQFcGyWoG/8YfcXPzyr4PXrsgjVAAjKa6yvErDvSBjo9M6+nxjWlap+RttQlBo0GdukPjHdQOtzVxqtiphJzkTFpQwNc82OX4Pc2HcWn9ohdAaOzW4goVH7/wQN+ryuskY26nHV4znBITNFuVJJSDCEUMDNs+xhpua0zx4YyUODe4LDsWksXyJiA+zhzishczbrpGiAKz7QoRdkgY+o1aDU62VcL4j+BKpZMtkNEEboO30VxD9/0/O305rn12Uzdmmu036ObPB7jRj8JcAVMAAAGkAZ7xdEL/AAJ8kTVdHWm+UxnCkdWv3MDnaT+AB951A2sNkghXch38eN8xJVfw9cBPgcZkiYD9TVoBl5DSLVEHeTKWjlS8W19Ka+kwwSua/kC60rP2uuZxYU0aRKmgnJ55WydQqcg6F0qzCiWwTUrwE0xzGJVtDLJ82HAl1SQEqkP8TMO+Ij3+p36s+pQL7FhGfAmJ1Y6L27waslvtnAR5x69tggu3Qez3K1lWTQgEVknrAYIfTi8cW8M1I4zbv+4A9zrugsUnSzz2L+jJNiM/I/dU/6mk4eeQCX9Ci4YK8k9Z1d17o6la3pHadnX7flIa6hYOOAx8FqOm3TBo8th1ILvfYtTV9VpZ+QCY+HqsCq8H+tNYGJZnPmWRvBN+6ugIzt+4O2OAWL/ZOgncE6M0jFdAXPIjNaWQZGXda85iWu+Q1cKixpga/9fV0LWg0EOdMvMVFePBBU54k4GNy9vyijg0UYoLl3NStz1v9ZbmUsKX7SC6NLwGvpS73zc7vINBlxNKHry06OX/+8iaSIm0XcpQlYCGNzGsgGAO4+pveAEwAIuAAAABZwGe82pC/wACfTy+FY8tJNX8EoVZBgBYdDtGfpOWynM/H2w8E6vhuXfG4pDupE38VU8qrFM2kE2+TwhG/f4F06lEJ4MZIEQt3RxaO5nWLSii3RlIOPT/oydSzRB9KkDyNWze7VN9CveobLj9LKX8uaPkXT6yy0uNc0cPuYiyfeEKaeN9jYU8cWsqZ2A6Y4gwPJTT0IpLl6B5C0h81fhth4uJelu22W7oG7vOPRf49fi0aaj2MLRI1ldOhkr0QHj5HHguk2G8d2NeV/Ipn0K8fFVkLeo9E1cWDexrKUz1P1yCP2Y24FbeI6iph7d6mWwaFhYDtjGLPbKWRYDcY1ZiePwTL3zTxy2kt00zf+xmKnc3VquAVjvznHIWTFj8DNZZbDmTe+8w1BH4SC6opQUnWS2y21carpPf0g2ZOl0mpUGGIrnlyBCphjO8l6keeAgFZBut2LKw/E/1IE7c9KrXbhA/7vqIADpgAAABNUGa9UmoQWiZTAh3//6plgAAB3/bQL4Ld5FM9p4Y7ipXDAbRbwABxaxICuZ/7gZkZt8Edhu9ZnAHAY1SGjiZp0XhPW4cZ03tc+gJJ1dkmKn3XWq8Dj/AgHw+66Qlzu0iaUD3GMu75bd261fkAvMDphipgbsR8em1mA3RVxHKjjD0M4JwaRxS0h3JIpnXedff2H0JfQnjlLbR0KjNUZsR2QIO1Pwgqun6xiC2rhwLsknTVq6JglgAPdi8k7amK0W6/Sv4yExjQ6E3FcCfxrkG3KkKRohvkAbbomPOm52Bw1eQc6F8vAwTpcfPfbVNsAsdoYfxrzNCAocKzn+hvNI5seS5qdUH95tR/9S/pZA7o4mwnWe32xp/+7v4ok50LDgoYdHXSNehsPl0NZ2haAJ3lf8fMxAEfQAAAQFBmxZJ4QpSZTAh3/6plgAAAwGg9tA21Eed4cCLWEBeUMqiWmAA4IZRdPDh8xHxYGVtVGcX3Rcua74qf2Xf4kRizjoAautNnG9KRABKiPRokymoMIquo4F2C9ntG28xWPkJEcJTPXOb9pC4gsumYH/cbcoGM784soWfQC4/+W6kb17QqFrNx+hbdDE80k+8votxSI2jUbffHPyxUUrysA5XK8zRmdchd4XSl8szbrdA8Zo5xhjtVkAF9jOGJYg+w6pvXgHDHNcWP2B29OyA+a8NyGlg7Oc3cVWmzqQcpoiQUkMcdipczUOt2MYOH3jsCQLwJ5f8bHg33T6v3e227XQP8AAAAUhBmzdJ4Q6JlMCHf/6plgAAAwDAJsij7PNABxveiFyx+1BoheiklVPeseIinFXKtpjHRt3mihCqAus9ynkWQElaD0/F/caFpF/AL/G5Q7bS/WiddPi7xJYqHPLy2+Kpb+E0FEkj/0UkhHkCNMcDpBD1K/sGqQ4wYi/uS+W1VVYZnfrcKOOCz1o/S4PvK0sk5UPoy8cbEpNt7DnZpVZQdsNSVpSTPPsPp04FFGfd/k/67H2VIx5ttD4eE7lltmIgWO7ruXyyYevD3NXtDq8eed3Jzm6fajiKDamJUCNMRGANnYJCsoPx28zBRa4DqYxGUZKyjv5xOewL4dyF2lu7p8Gf10YBVC+WBi0bK75Nyxl/LRYwQrAutxVCaQ5tN9KY2lZOs1s8c1U3Q8xqC59VC4GnlZRwICurnWho4j5sLuj2SzxKbsIwZ6xBAAABlkGbWEnhDyZTAh3//qmWAAADAMBNZ1oAW0YM8MqExT7TFDGaLmgQkMKcOE9sArGwW3nP+afaf2IleKh/9QwORE3+CyKJzx65hD2BwrKFu3Q9EvNhKdVRJpYMO92iLE/bg9IrMsds1Lpwin8/zFK9nMwKBUsW4oaWqZ3m2S4fi3/vkB0oT8UBuv+xRU8wmyf1iYHAFAZsX/cq7l2nOLr5HC0QCaZFUJbLczw7RYbFq+Hs9qk9UZE6d+EcOtFDKMZKTToVuQb3C1RB2LnzymGBtBm+i+LPiJFky0YEL3W6ax/CAF8atdIXLIROpvS6SCn4nVGlKH0l5V/NxzkMRQExcz0OquepF/85UsAMEnwLQKcwmqlFyHsjYQcSki+hWFn65EHWmMW2ZoLXxQyQoI/QyJXlHkkXqTo0JxmYIDfEIeW+alzUS0LnUMGvDtnXQQRcAYDMIFEhVVvCNp6paHjQNIvFUIap7+v79jf9ulrNvI9m7zOsxIL5f2T1CVUuKaUK4sAopxOjg9e1idmqTXh+tqOkqaY4GfEAAAHFQZt6SeEPJlMFETw7//6plgAAAwDATWdaAEtXOoGu9DTf6tjaPn2isoHbxxF9+iKdUeY47Uc601Ec8FEdnP9iJx9/2tiM12aUsOSLLUNzgiZtObVAIfB/vH03N89PKKej2U1PWG0I3Lu9FWchX6Ip9AOS/7VrFeETzWSkROe3RZ0QgrM8xHexbB1SQItgzH3GiVkFwbKJwqKBcW5NZv0m70Api3VUW1M4aJ/ap7uhdF3NAqlvsnLjX78CKQailTwceBCZbnd9q76FNXsxahZa8XzlqLaiVuZWupzcI6iRqGR/TLlyVB4c/BNM985WxaADOAOTU47WQWaMCgMQw2LJmbkF18SUxNuNRSZnYqc7I6ATW+10XCXCTjX6ZSzerXFRL5ls8O/B5jLZCyCcAc6LhppwrltT5IUaUwMw9JiIig6Za1lkJpeIJxUez470U1h7QagXNZGPwaZjRBHi0i8Cu+vJPAEUnZrDdj4EXI2rRm4sow/UqHrI+SP8MkkGHp6k/CEmFME+wWY8uBOYfykSpWR1f09+p/FaHciC+uCr6Dh1QBpre5AaTDiPUivMYKYs/RJvmZ9Xj2G0OxWH/O/ugFITuiggAAABWQGfmWpC/wAAAwDgdxf0zQAhPZfE93JG+NTrM8zFLyczEh7gtBDk8G0ixMah2CQ7trc10UomM+fMNmuWRF8Z7bGuSBgiYLttA/wip9NieJrA96SWsgHKaHD753cQPCOPcjzIn1XkqtYiHqW3Dl0Npq8DG6L/r8OH9eAYpOumALgilHWheVHGMttdum7M1CVQcdjZXZv1KFfsQH+ormZ/4rKAh8+EzRzlo1/H76smH9P1YgfvRRmaAeIhYTPby0gNvflJ5RJaoCh9vJCgswb5X0Sd9t4M+LoOJVKuvvFsRUAkqVxUCqrE00kuuGi8IBXfNcmc+LoBjvl9fVyufTMfcGZiXNHVY/prOQCugbA3fyrpfI7DnqsRkAriUsgaXONB0MT3/YsEc0R1D5/anjXxPLpU5PTHwxq2GLAUemlLczC6RnB9rh7IuDn8d3u5iTapxrL+c2JFLIS2gQAAAchBm5xJ4Q8mUwU8O//+qZYAAAMAwEt1sALZC9U1Hn98nucYdAXzFPaf9bTs5n99ITkDfXCHqnExpA+0SnNPHYXRrHkra0ae7EdZECdDUlDErT3Ee6bAkgjX5vOGEtRgD6c/ivwYkpjnGFXPAQSSzuqoo/9DjAqGPr4Aqj0ayC5cfWeRceFGW8gUQC5kjCuek87Em8NvpTaPoWCGvBhaUcHol3FV3cG01/y195tO7UMbTKreDiDza0pZHbIF12zwXbbjOd/CnwM+kXtKvGmyv/D+cdq0TIZcHg04pnZSB9rmJzEYjf/e1qtHu+4vwYIcujrLi7kS8JFJMWtBeyQOQzbUZtdmyfTCCDXwDR70+xpfbMwLoy+ufSxoiR9h4D6C+TXptlc28q39Tnr3BspQ6j3webmxIJx5G/jLsf0j8ShuyLr6cbvoorM+5e6m8yiY0BUqgmEJs2Mb7w3AAxNMkwZSGaH+j1XAEaAf4NrhMWzLAIO7xpotIBorb/zVcKDSi2NYbsM7f5ONUx4cKdfR3Xv9WlvQfRhu5OFrlD/DSunD0RGuusZX5WyeqHw1grxxjaPK5JszIzF5Ru5MSdbAx4xeXm/dGYYBPSAAAAF8AZ+7akL/AAADAOGXbKQrOACIO/TktYNEN4oK5CdGaYr8e6X7b0Y4Sk9B9NRKXTxLJfQIF4yGq+4QTQNh4jMLFsdqMOQmDszlpRV/MjhOOuLj2/OTFWPnAzADJSsBFUhhBE+SPHbrcINo+4W0cmB5jAtVaKU4Uy7RlB0TIH+zeCEDP17cW+OJlOKQM8drKZ0Pq3kzDrXdJZVdM95KwvWhemS+mTIGbX8bAhA2zEXgXpMqzJqUoaFZ6qDDqDOW8e+OS78jAeg2loP6nxiiUyN74Ydz3BnojHhG7MLdHufEGU90jJbT423R4P6UTeK/piwHeg37Ytn/fo9BHHUueBY6Z0b+cHtZ4U6uOYjlDE9c6z8baeBlRFPGcdOx99Gn2MmYAK1UEa8xDpBrYwCNtLnkkekf7vnye/BDCb8vC0pAL8sI1AJ3AsNC2jlvFLB+sfHoT+By8THXMBFUHBd0RXWNkU6D2NuPz5RbaSEeemBOySGzO4V5HptDWohVT5kAAAEVQZu9SeEPJlMCHf/+qZYAAAMAwSZ6i7YATV6dK/WjfyKmP4T14T/PAeblgCJRf48PlgKX7qpK8sJFm89gfk7Pmv0SAJ2VD12uAVDf4l2p8juYtPX6WS/qwVah1Au/R55D80XDFhhS+2WZv0BTSdR96VsWbxCunlplI4tXH+cCsVBS/Gbiag2IlJVZ3fGOe+lkHTCW5u0IMELqlHOyp6BUTIeOoCggyqLnfcsF0jUgTNyqjCKK6PrWU/sY20b3Tnl2nFgZyz82Qr4H6Qz7EJjDZbhgUb63IyhVG4wWmDgbrSisDbVAy5WpNKEJaK6nuhbOpH6pZsi7imjvmFhQDqr7jOnsE3GsUdrhf7G+C5UGKQxMme0rYQAAATtBm95J4Q8mUwId//6plgAAAwDAJsRP0xpQAfwg0q0/AVr+7SC7IvJINZ6DXeO+B+2tdet6aVKo0qVBI5RKfBq4ltWmL6TMrqxYQ2d8sj44vWI/2djbT3s5/RYa/2lAqMxlgznxsTgaO7rwJAfl9ui8VBci6agqzbUAWybKElI7V+j5Q1IGBL0sn1GXl6tMLPjkb1PVQ+JvWVHid4rbigvKUSaVhWR9GpRHt0eDVepW7iqcw4QNu94OhLOj5Nba1OMZ6SILTYBciGIsWvlzgE1AB4FRTPVM+SB6tok88tuQ6fR5w5VXeaibST9s66FOrgCvS9u44L5/rUOrFEioYDoNViWcEGjzeju1t5VxeaOoi3Fc0TGe7UpDlAm6zt4cNeW7VQ2pZbyWlFtw+j5H++fImJegnXpaxpcqNuAAAAHZQZvgSeEPJlMFETwz//6eEAAABc3vYaLCLSIAJaPkeUVB8QVBVJQCZx2PqGqoHHnSK16+Otidl08AsoEV8qt4RL+ckGOzWUWgATpUHBgzPYszcPANynkRg8OJ4cJk5A1Ikc8z9KOb4tEKwOknd6xiasLowC491mKzlvfOh9iWFIZAgsqIwasPzaBMDdEO/mwDk0666B9VVtroYx/9aRjQzoEZrrfvcG2RWNlE3Yq5hfSNm3cYhoc4+MZILXbsuYftG/L+YDhjNCAGzvN/dPRlAFou0ymuqYkQEVt/gMEgU7QAkySGD3vizJNlFHFtQRg6hk2VcECmgynroIwY+yzAInnbU5aP6xXCOa7rI6INgk+SRC+7eyaxLD69xZD5f0MRayOXpy53Er18WmpOfigGgo9CWn9LtLAAwUi2STHeH/t9/jSv3iSS95r0JfFgW/mfpr58t51LzoOmOxyGylYyI1xe/JI1OaTED1LIduJl41kYfmgItT5vw3Lw9J8Ck30Fou60lLp6wgBM8dWTmk4A/52BEz4tYa1IwzFPc5CSrUHNSbmKeQOwUuvZclAM9At+rZrLDToqmQe4o/mamA3t69m1BnYnDWoaRMqE/+7nCxGVNeojD+mJOmAAAAFAAZ4fakL/AAADAOhECXXaGrFxYKAPOf8l2AC6aHqo4smH3XQnUemKLyKSJ+hfHnQmVc42trVuRCcUl3U0xQpL3F50vX2nwzP9AxMM1SUwbw/fAxMjpfUUF8PIOHJwtiQpibSf1I/pAIScHgXV/Dh1RyxC18DTww3w5R/GnikjCl5yVVfnO5u4Vvs6IhRvSoO76Gr74mzsRQgoDDUF1A3xSX0wGd4tyYMnl7rkUtb498kTppL5zWBbAGD3I3r942TlX0GLzAYnJBFFTz6O4IZkYShZ2rU2vUjOMmOPhZ5sYCJ8PTT649YN3QXrroGfpP7i4UKmcyZYYeE0fgdFmKnt2TqB2n4M4HiEaQ+T6qUi3euODMpPdSZ6T1iLR5qiMQHozQ6NE92Ei63OJV6F3Ggj05w7QaXmyVNd4xepU5kIu4EAAAIbQZoDSeEPJlMCGf/+nhAAAAYd16AULrwWdgNcU52TYXXGs0VfMYxb7zcDA/ceZ1dZ5q/mZXY6yiSnqvdztRqCOZ5hze8bM0yIJ93XZu7hlrjKNJ7mZFkHyV78AS8swMmFEq/TtpacOFL9EYFx0naf5IWvJDIaLlQvTXCowdSaaquMxlNiTYfiUCUEzXbFk1MevkRIKmXZYBW2hiqLcOcTzItg7f1pjOjEO+ztllfAMlvqExPBuvpZaPh/UpOSRO0gwJLNL0mYyF/l+tswT4FkEyChW/i4eTR6M60y1t3HSkQvpK0LztbGV1FgbAq1OJZxr+TERTS1U12m9DJf2FrSZNqXbtKpIhzbvUS0EsBwUOHqQ3Azy9Zrdzev25yHbVQOtXDlcdY6td/k3fvFClFzuqSYajhkkdfPVHMcUk9/OmaKgRrMQEesoMZTlhIOMr4G3pYXc+6zQOROYl+H3bB5h54PFdwnj1fQlIT7FOXiaV5Aad4Duf9UGMQGC3UUYLYfrR6HuKHibAGlgJ+NBlPVys2lcrKD4RmFltAYgY94Dgq/yi+jE84yJzSL1TrCCGKz/opCWfVLwTedhOy021BAtQVCve8+h9xnQ8gDeffkKzCdEYt1GIbES/zreJcRh5MZvEeGpbiewsdnl+Ok0qc6D82HECLhoS2gTnziZAG3X6O4Ndx4Hc3Y4YSwVQRf1HsahSL/daud+GPVC0gAAAIBQZ4hRRE8M/8AAAMBejf6GcUUVCe7cADjQ5W2Yyzo2jJQMI3LATtFOBeXQ0jZciblH/DjDWIn9asV+v3fkdVvuPA/fTf6XXaVWOLqopWyK4XATwK/Wu2sirLbIcY77rUTgpNGx3SP/psO+tgs1vZcwVVdFGyPSEavB/tb9i12sBzijpQFIyaGYWPYrJXfbHdLTXSDfx3Jyn+yUteYUGnylTdcrGLA5QPhI9POxqWf6bkHBvA2R3A5p/HDvytCAn+vBpLl3aoigd+i5clVro9isMhUjTPixexnS9MW9KIMhmJkWZ61xqJ7vKrTvrc96BpjGc3iLB9MK76TZnIck1snQYtg6nObGMDFJG/6XWkOjgx8GwZ/YFWwvBDKeWrkhN2LVAJr49fvP9iJzwtWLaDWzH2tOnc1bx8YcXuktTRtfY3Kh0rAAJ5yOzOHSgv9ADY1exIDjEEAmLfGAAixzBmwuDjmqbAcPTmyjbpwsPLZABeVPf+0M9QLfDIMjPHJ2o44YB8Prk3kHCWKHLm4UR9LDM7F87dvvtAarDZJq1+/5zzxaO6WYNmkx3xU6YG1XkCXWTF6Gm+zYx+bDGSFD1oE1TUEom3OesURGfeVAWP2VJVQW+MlEWbWtuDRxtNR1ESXH01pU6Si8PRhc/GMhIheZ5HuhjXskRk53Xk9kYw5CAR9AAABbAGeQmpC/wAAAwH8TF4JqrDDXnRgAud0sSPQJPLpwvYd2CJhVa0blLw9rgnHZmGSasdugkO0eVcAXlAXq30mJDpAMhDecHgdLn8fGP8BJnF9/rZb1sm6jvirEDWvPGDvXnZyHVTkxot74EBY/HRX38ugsjDYWcPdu8ZJ66x22AYD6bG3HcVlONjQVsKp8pTHW2UDbiuLtzTvJ0hFuXsQ6+jW1iIrlRYbg6xPw78ZFlVjvjtZ6WQkokuni49YmeLpqKOY89k0aPOOq1ta4zDj8tofHL+uK4c1dA/ZKlXt0a/G4tcISCc72AU66Ix4mQXtp/xrSkDE/Mt7+vT439NQpHl2o5vSh10/rbNPpbIVFMjSczdGENJ2rPMQFjA+D3TCYeP8ydly00kzyGVesUjAqECXNfgtEVdtQM/8x+1G6U8JVOWj9wDiU01da293PANVMfzUVpZi7r4Z3tcTJFRPTaGYnO9jty3HPx+gFtAAAAFyQZpGSahBaJlMCGf//p4QAAAPlrn5+W4QJAAEN4HvyfoiBC+QMUTjqPTt9CpQmWn/nLWQrTzF+8Os/M+BQs3KULFSaD6eaPVBwmRg/Z9NLQ9/QEUfGbzUmVHnrwNP1vqTxg44xCzMEIrZ+rqWGX9byYW5Sary7YAGtCURGRfUpZhC5ufgHXM6jGhRJ3k/GPYs6xC0zzHjH9/9vUZHKJPAeXtYvlwjyuP9Gmap6eYzpnyOUvxwbwWcryZYirx1jakH1bySkiQ3tdOmdh4jJcGQZwPgXJAG4mIckqB63/B7tpx027BTavwMZpyYROg5RM8QDDohyaZIC58MOjuGJSVEmvB3J7QLy7wfRPWDrWp78whbFQlZdX6oEdbyOhWPmdy5ZOEickDUybIHR68cM9/sO2Z1j+f8qdAjm81Fb5QszCPDvhEKTxuGhaMX9LYMuElAabTS4JGRIaEgzLwK451Csaoy7QkxebJYAMg+7ITpI8EB4wAAAZpBnmRFESwv/wAAAwJrnHT3e1mWiPB3p/wwjxDYARgYy2R53qssp+CIYO5HO8KKGuBW6qzDHSBSdzxbD53YThOu3ol1BfDwHZvjnB17aEde7MNyKDm3j8YfCDAVhkcHIu7foIjolfJOretH4NTxfO0ArA6M0qtUts/8TcABm17ZxeaIBwuJ9ZHjPjExeS9GAODa68faH/N1hNUYPrpWdnMZFJuSF4MO1ZRWkaXHTdKMsVT0luQU0vfMp0nqSDCTJCMFA6dplhuFbTO1B3fM6mVjANWQw8XR+ozU3mtLcgh3jTonxdwWPFjm8JDnL24kbGc+XicYYbwpq2FugXbF7IfIV0gDPg2d3aD6KqshQ6LO00rqhRD3FnV9W7U4etMlE7Ig/Ayc2ll2nbr/8L4vWD+SEaGdLoOZ94/V7MHC54FcO+Y8aN2A69AuLj+onJHEFVXF9aNjn0taQduEVadGM2/dxgmnqRggd7xmzT/w5sJlDS5ZGFTX8fgMPWQyS1mHqQ2pbNfl1xrCc0e88YoZCjbPn+BxO66x3nQEXQAAAPwBnoVqQv8AAAMCa5x093tZlpEBXNwdaQUvgAcQz0vvGqD88+Oi87pL17Dv1jNeOw9p5WcKHfwQrdgE7/CK/T3K/Q54uRgu4Xq6w8lHRoPMuCGKfrHeHjkiRSvHTgvI7MyEO70QtYqukScLeNo9WkXDRmwbE5P0Otd/3NlR4g5ofTDp43E4jb9otaI0jUtscWm20GVhosn3XI3JJtCPbUuqv+M/LW4ZTfiTPzh5jLojjt6PS/mtSpE9IXOO+eCNoU0xHcTSrlQnelpkXAVT3KIvu2OBY65YPteRpu64d9uUM0+ecZYAEdtdQbMP928IxeXPB20Z+hYsLdZAFVEAAAIFQZqKSahBbJlMCGf//p4QAAOIH8cARMfcCV6rEmb2B4bxGHR4RWwcFpJ9+tUwH5cGb9r2xO8JQX5NMqdS8FFstt3+4VaUO2asppDbP+G17TiH7dp7Uc+FTO+CP/Rkev6MRWhgblzj6a8jzoUMHno84SVsl2jmkp4wHZVIO3dCr6FoASv6K5ZZeZ2GCMZvi6A9vrQtpXX2Fx1zWGX6OHqEbtwLzrrNNJM71TXkJ03g8SY3LknQtpmDBUoRI5x4Us+P+uhw9T9TgYzh/z46uAOwWF3UhK+s4EZ/iqvrVqKeB0mR4BueV/V4eDtQ4bEJqTpZrwQPxu2crimbolOXMAdT9UebX06Le93tX39LiFfor/7YSfG4DzUuNsFCjoCAzg0VQG/R7OIlbwcPvdHIDUYEhoytTYj2QlOwAa7WsMWxbWu/q6xe/KJ3Ue3FdW5lKeONhqjbmkGkarLcvxWyLgdRNGXQ2QWHBAneAanuy1tJyluA+OBRVCyFmGGNQ5Ub25SYy/cwr1i2kLug1nJYAQOAHFrwUWY0hgYAiw6TLko+9i0MorliwIi7Mge80Bgl1yU1nh3UKFPF7W8oAADAA6iRMlIA0uQuA0i+KsraFik4osYEOe2pmhuHKhNvuf81rYOKIYZnuvCJP+OyFXYh5TU64m3FuK51fLjGtNIYj/O6ltz+9ADFgQAAAa1BnqhFFSwz/wAAZw1moznvV4dusZjWqmAYAbmud1SFFALr4JoZYNBhvWUR97jreNBtiE4yMtEY4Y6vgan7r1okZVjicJ4jXMpJ0eucz6wtGdSZ/BrbOJJZ6qkwhVZJN43havvtDHMoQIj+QoMhL9+XJifh2zKNJKENa3SomlbERGRs1tx/u4QS36jdUGjGQpVkzod8rHFpdmKnc1lgwkrk8NNFNStgJnMMIe5Bps5j92VoojNcl7GN7PC5Z9XYkZTIx1cMpdYJMbMQ0Z4LVZ1/hYdQw4Tq3f4xSpuY6Lh9uV8kYuSJCoj3ZnTIyHjD+5TiFy6FV+QoMw4JyBD3T/8KYq8t/rzjYk38AGlgYBGfS6+nVQTMOXid9c5ijrzvr7xPvftcLUBaH/LtkjtJ0qPypqRbHFJaw34lcHSSBRTqHWQYshD02FDMouI9tBPKRuzxiwU3ipy1zjXWmpIwF8S13fRcoWiOrwyrGhMEj4jb3BXQiVZRSIcdh3JHmfwyTtyJPOq9qwd9rppR6OqeG3HtRCVmc2xA5C22EmPuzWlrCRwui/IKDPGd4w9AEjAAAAFTAZ7HdEL/AAAbpsFdqzzhmLHH+2UppxBokAJx4TZFOlf1/Hm8d+MtHA+dyJK18waW/rWQ9YD1U2hJbEmH31qSkpxf0n/j8MImEIzqHOWmOIoz2M+8YRyWNzJdu3PCtuFvJeB7+IExgjlTV6jf+TsAVD/Cd4A0f2SjsFAt6zjD3MwjalJBTp8giWGyW++PgLqI1Kemfd7uep1qGQSC/6bRmTmsI+A5asQOeYL9y0b/bU149o8jcKQzW2n2f2yn3gUwJpheekfuviKInS49lnZmE9eAxRR6xiVdjARmktXDSJ/f+lPKO5Zb5HyUCRC142+6FjdKNYakfcN/kv1JtJxZ8K+QhoHFCv6Xc1t+aWdYBrPgVpUSpMNHeT6hrcLRbK+Gue0EWeSaN4+aU5diB71/sjF/QUccqGLzXBF0JRZG54rErWZwPBJP3ePhhF0T5SLUACRgAAABdgGeyWpC/wAAiucdPfCMaOnXEq/tIiPzD7De8AG9bFgx2xUDQ/ClSA0FiOXbqca6MqlydCJsQpW5ZjdDZx2viE5C6mEKWcL/Bj7bxMHW5CAyWbii47Ga6BBsd5UD7BtbwZpAQf6J9YWqO7pEv/W3ISPox6LKFmSZkSQrUIn7IVu+sQqasDWE+IjvOL2jQTGtmH7Hbm/8MBpXomA3EGkKOxn5vLHe7FRHQTBmVw5UbWHCwaIVuGcNLSRNT3UxDePYX+4/2j6QzAYnK/i/5SfsTo49TdglTrCGmPXiBsJiqCvWVG0Mm3wu0Xa8h0KVDUq8mauFWZxbBt9mLq4r0UE5IeY7kwZVSw+b3dCosPn7mCgLe6U5Tmj/rwMYj64qyKNEJ1c6BjkeADdZlnl3+Xx1YUCCztapRK2eyAa3ywH3ltQV6VMQ0UQ0DC5bwQDgDV7TOwsjXtNCzmJVYk1PvvhuvJLJqv+0+7epU2iHMrwlM7gR2sR4IG9BAAABOUGazUmoQWyZTAhv//6nhAAB3Ne/DHMswAH9H/wLlm+L99oZqCTgl8cOhBa8wM9xjdBGdyye6KsnqKj+JylS309g7A1tOvn9VndiTuw6gPEwntIpZ3iVBYtWVQPAZ0fxEaObDudi6GvUClinQnIYstroKMPyVimvgYrCpVydxuYEUcu9qHImGPb/WrYtuFipQ36WysS31VFJDtl0fNXI+GOjEFIYRCeLE/+fTq/pFHCJS0a+0injQJQrFPtAx6OXTDiHAgNzVPI9GKxW+lyNOVeBe4JIakBpe4pkQF0YsOQY5aAPeH+6JXahF2h8sRcDukqaHz4UgM6RwrvZYlzzogZ5wfG4ve+yfjwyeXUychU2u73UlOnharfQTskXzmun9fb/5ehP0Xy/trZU5qT+HjEChj3XiOQAFpAAAAHLQZ7rRRUsM/8AActs9O16/BxJQACw+uLxxITCUJlm2/qPqdnLuYn9cFoS7UbA/Lq78oOlMi7ETdA+HTHDSDxbvZzsNNmk2piJIJo9dOaTXhax/+1bDXS5g5NaIU8N+3RmyI+qMpYZsAyr4anR0xJGmW9v7EVobXJvAKP9bpX4pLzb1XSLpANq30kMww8wOrIJmQIY/WsNeh8GjhpMGKX68Hqco7U26YXbhuw+nLXadJAMn3gaWWb1k31YP5OpCCxHEd3X9C1ni5rqlmT+DKrMf+8c2yWXBgj5fTS1+wlQwWkKzeKibeQDMkXpuBlW5PYKRVVMU5Z5niBEgSOm9H2w04+z+93iLlFabu729E5jnLZx4ON4rSomDS+GhCNWYjjJs7/YKmCBLPDHdslh8zURcBIE5ptLNmhP6prKpNs1meuKqx+DDH0RG3PIcq0Zjp0bspSHwbqqbBI9s3ZtxMnZT54EIrNLPU0J2T1PPleaYNStJ9UAPzCm09pbEtXBVkF00K0AU+oEN1NyTwZbFjdcU1BnzxoISWZX+dkjD060er1spboW5CDVNTB8hrH/cwnWMpDMn38bnGRPDdQr/42GPyZLjmp0E4/AAGBAAAABaQGfDGpC/wACfTzZe0rhJmK3wAJ29SXYhTnRrceRzup8cdLp+AWoz1pSt7FjfCqC632fYtiBzdkASb9XPv2aCA54ifA2TzQNRdjaMuht/5M/qG0Neb3hjS700gaJU+caSm/OE34LVfGOkCzgQVmNnv1FB0JGSBB9CItk7R8iJeaCm98R824F9WLdetUFzrHSIK2VT/2dt7/OQ1dHlGoxzB/uiACKZcF3khG1jzNAd3penkF4WF1KRZvvU7+4NCLV2MhWjUy/u9pX3ccJuh4dPnOTKna1VPO+dL3tN+iSzABDQW1JfxjzjSma7ru+9+SIeRbA/kuev9KibP2AM2gI8SVNDCgw/O68m4Yf2jONeDYcbzq1bnwfSEdozrpbeuGPwIam7UOAN90c7t0F3kzMff3Jc97tpxzJHk4sOdxqwJ1nn8T43algXDMkXg/rh2SkPyaX6W8S+iEJWrj74+woQMWCH78fRFcgC8kAAAE+QZsOSahBbJlMCGf//p4QAA/vseFD1Pj3xEtsjAgAQi8lbnXvph1+Dmc1JE+TX1d9xoqaHvsBKNy4Bjm0/e+3MLywTSNpB8JGW+cw8N5RP7mdj3BqrCnAwjq+nVZY+a2jfE/g1i2/inFLw6UpYbo43hYN/XOa41GmK3E3EjgjwEPCcZN6Y9pSE7EAV10UQn8bm7juv6QbWld6hxPnUQ6X73mDBDIeeXFSAeMSt/Vq640N4PykJZ2H9ILsC16Dk7wv4gG7V4icM/M4QI16q/hbdyMVuU4D/zs0EN6ssZKSXFE+OF4pS16M0yaGJrbJLy3+4t5vRuLCQsD9TUAn7IaaSyX1mOgGHvFQvfblGJmTVngElL4Q9J6pyWf5Ow/DisbqAPa4bIrldfsQJYzmxwSp0rdH4pWnO+cwltt/gAXdAAACJkGbMEnhClJlMFFSw3/+p4QAAcRgFarwev43IDNhv1hACIPZ/lte1B6DwL5sRtsBojISli8b/kBqJTwf/J3pvflYPP/oJ/jGQHCUEwtWUHrfXpCp9AJvFo/iVFOJwBUaBytNtrjLaUXThYOXkuDfv7xiWzGfk7YPZ/mUGyweXlcMTOuNZwjD/o6jc9jpL/zL2HftIxVU0wdMieHWqjsxNi7hx22Cpjyfw8y2UAUkDM9RYnfTkCbqDZEwFKE+CWqwTLl/hkyYBAn3G2NBCYXEvTZ3L3kEKMqDAHxZmS92VeAvFWQNsUKqt1VhGNiE5KZv8AUCg3hZswqYgsThS5Uf1sRvlrzPY+aROsUr6lBw5tksb3WLfiQ0AN8HiGGc9IXiefeAgdzkMwi7uemjHLC5avJ93BetBDSZOEAuEY0oOK0Iv45RCPw7wGIUsfCSdOGg0c4YBwTAXXv9BH+KBRB0GaY49YH29yFRCPCOC2nYA/UdAWmcm0qAjUMN96Y18a4wxL78GngoSQMzAlgeTlIuQGctgpDhRkKPZJIP+YBHfId6aN7T7VYhzS+oOprEYS6Mj6e2qPd0+F3KfZbeJ4r5sliDQcA8wr/NuWBaQrhIoiJYWnMIaAIdzeKUC3CdXUZdM98KLh+exjMbXmmXHprbeJD/s/w24Tdqh0JWsLPHmaM2erMRM5JnyA87jUSBT4QVpMIUK95dGBC5lVMLWpp8nR70jK3gB6UAAAF0AZ9PakL/AAENmudzS5zZWTAAr7AGTy8PfNar3BmmpZfdc5sErv89kw2FW0PXWHJFOC4mH8Ah+hEd9ZKu4oNXw3brdTX+GpLoljong5FfO2P0po0HSIZi3f35lxpdYWpem6EUWT98cYCmzh1H5wiNFh1gVmonpNIyRnz2zELGaR6FT9bv6WHQU96TDAdL/FIHB0xqw4X9XCQn7RtzXlgmX9Flx0IzFmbq8bWeqBICwsRjEcMLS+JFHW3t3fO4QSYRd7XMysXpgNK8crMup/MyXbvA8F5F18lfsW+mH/RMRWZ6WLgJSljeg1+7Qg/yt8NUfGs3tAKJYO3QjLr+IWWDhqcd1cCIGYQfyCI+IS/hvLEhaRV5Kq4jpFxE6MiyQcr+nst8J3ynBkKgQFFfIlnYJ5wGu3BxZW5N2RkOLddHpwbsMAIx5ufMpNj+97kiZZ4Qxy7fxxCkH9zZa+715InSn6SlQgv8+5kEAFL/adJqT/674Ad0AAAB9EGbUUnhDomUwIZ//p4QAALr7vWAbldho78yXAvaeWR+MAAiDxHuiVF/L8HfE15jHhq463I1FOycbKzv9+pYK/+qF55VZ74osFO6RBjVAGpscyd7vdcjD6pj3UWG6JH/SJM3mKECuo9kiSGCEU/SvazkZ7arKB1mim+LRWqGZF2CEACNoM9iSpe+i5GJMb/p4fJjaN86efD5mLOKe0yrEWfgP1f80DgX4+rHcG8bOraQeRVvbL/M/huFF0nQkroBny3uHwVTqcOnxZ39Yo+qT6gsfMLeT2WUVdbzVWHDEyukzLqVckN2wF0b8JSApQo4KH0J+mjQW1ySnhLXCEouWPFCLBhpRDcPQA7ury41jIqjIcJ/20dOIGyXIH7TgiLNHnVVHXlCnhxC209EfjLtAdwVH14eas3nPkABWb1lnJGPEX1Bj4HSQYCA5v4QOjctZBjNYmApuuEiXP7kBspxTgbi7Wt5NW+YKMQeP29mXDMYJLUqQ/8tZtO3a+QFsJ16tKQ6uReoeskMSEieX1TUKXdZ249kqaK/WC0J5jCjmuWfjuJCFnB9z9kOszqUTEGVnJhh5imacMP4RH72dxJBSw44tpZq3S8hQVi8Dd377bY9YDd4aOf9B/XuJX2GLMhORYlJuk6UQwNig1czObKtpQ3igBBwAAABp0GbdEnhDyZTAhf//oywAAFC5lyB2RsMBbe1/WrrY0/0cC6JR2x5XhB1BKqAY3qEEUqz0enhYILNF4TZMJ2uaFlaF4v8nelxCzm88AUNL0yuASl9ROcibSk4wKj6bgPwPNCrX1qjDXuJcpn5Cmjjb2TWV8ryZIOGQmLW3k10gBOwlhylKQG1AQ02ohXsLYaTahpLWvTSgjUZ2GGYzlUs7G0nI0CrZ1P3SkqHMKtbfROisSIPjDgR+uhNiePEPH4d/apqaxRfkJofhx5FJA7b4+E8D9PViI/+YGzc/Mx9eEa2sQUljrkBPWKXB0gg1//8cRw0PFtqQhD74AXOyeXGxCEWXgTNaEg4H2NoOl2YmC3dY/a0Cz8xOzPySzI396XG5nDck5czg4wvwyzwYSQ6KCYyB9G4Be1nhHWTKTWUL9YE7d5EGPHGwvvGn9/8ShjTuBMcD2LjM+IJTY9gIBvnQeb43lXDmjlaRARof7mxkrVmxslnsqVT1zQyXDDmeyj8BefD0YkiZy7xq812sxcIfPe1mFjpMl9LIff0U2LtlD3DFN7mjUADZwAAAcNBn5JFETwz/wAAwe6jwprxEXBQt0cbN7ykvHrFjSL068SAA60TMbZSwyzdVTO2x25v9iUlh+N/VnCh5yqADxRd/x/tBGsLPGHZwv0SRCe/4yS+UrvOvv01ysdcrRS3pry3f9echuu6LFtnj/WAKEbvxSLNJj2mxcJ3O9HtgNydHrtGr5owUKqmM8caxwUVTnWS64Jli+B8cFzLQAA1efH+B2tCxMpyXZSt6m9v6y+75ZaKNG8rDTmdXX7TPJWgbG0iA6xV+B9UDSxuL5gqBb4algx2CBo65BI3TNuwrRHwCyIExqtA5jh+xg4c4U53yuV/OQKzKmilNMtKY/bto5ylT/d7VaJqPRuYpkNY4ZCo6Qq9GUBOJSdWo5FyMclRkbF+CcvAjyjm57R1tqONXwZxdBAeRA625vp0AbUKyqnZK3llpMCaWJ+Dc3cmqPHFUqYYCz9e8kDa+QH/PeR7ceQZrTERgyE4Y2PJAES8G0491pl0aLinXsNBhoPP0fZOIStTKKSNcjOOZoGlZqUsvxqE+YOJSe20AdN5O1OnV1cMW+LBT4wpdDhRLUYvR9AfFMCwGRHbsD9EhR7bwgXYqFihoAXcAAABUQGfs2pC/wABBc7Vzf56WTT0uiqo+a+4tS+SyYtgeABdA9qSJpIhsFb9vDUidmDRC2aVPm2MBi7BNDk2WeH0eTu4UOldrYvA9uU6wCN6ZYKO5t0YSXAmBg3wsrwQbbsBK6e8wZzCMautoBdsz56KxVeHHdNpxr9e1ON0ByDksAwuG49xo80SFb/3+Vf8wCB6QzlbKfI/SLQTYOoMXC4Hb4mtzq0aaaaDMctGe8VwA517HYk/8QwjTXynh2oxjvYC7zF/YTJHmLaRc0PJEmAEVKDExYbJYVq4P0Iv8tyJJYls5tKiifwObBizULUwpVgvJG/JJanrL69TMCyEZYNuBT6Q0twWlH0zKRHx8X+CnFAZbODHxrtSQ+3ezy1w1OtRhG+kD6zWQ/GcCWR88cFLFODReJvzEoADwC8M2yjxQMpo8+dqsGy2T9Fwr1uJzG4ACXgAAADSQZu1SahBaJlMCG///qeEAAAGx9lPwWGco4fzCNHuYUK0tpeDRPtAC6T1oMuo7PuKrmZhUGtgTDQa/SUsM59GLxbI80R84ZyG+8oD4wcOodC9BnnU9E5HIIzpYM2NQuGy11r6xrRFr0oEuxeIi8DwO/d/k9HNFMJptvrm3wO86Ay4ZkoQbcK1zHeE5JA6TjyJK2efRGbaFLGhNkP64ltYbPqlIsbgB/riTSQv/2jclr0zV+Zx7hW/LFNOrNSWjVP073oVvu+fHBXffrrYr5SqAKCBAAABPEGb1knhClJlMCGf/p4QAAAYnhOkqHF3NR/XHfDAAWClT/SEFlGY+SY3gmzAn2inGgHbJL+yk9fxYsyFgdAgczbgVDmM8XrjyunOwARZwwbTYrxsExGgtCJCYLJRJrxZK7okiGMpbFro5uhkmqBtWU0s1CuRm3Psw9I6lhJWr9UrjK0gsQqRZsAu0j/mzflBLfJB4kggtl6VLjvHWLXVq98nvdWmSFsBCqPbaAiir3OZ19i+C2VG/YPk66k7e2ImYnVGSgBooQaliFjhqmo0fiNwUrOZzKEFVQF/Zco/IK3QqNK/MHoUuepbngbyyMSaX8amOPyG1Vtswyvpx58OpypGBRIuncCtCNEncXMGNcxv4jHsKlDZPZCXOoxO1XKUhNafbMx/gOrmGagHqjjjXWuAkPA5bevM6kPAEXAAAAGuQZv5SeEOiZTAh3/+qZYAAAMAwE1nWgBLVw6qW18RgNTBHHLHVQ+p9P2yTDF9LPy5vJ7mo51pm5JwWcVvpa46ASewmxshJ59Rf/d0K9VBHHsKKCo1u4rhzy+gMv7Iz1vuMidR2cd9ZWSQSgt5JQLw+KopdZ6Z+gOwxTuenGSVP+UUh/i84aMlknpvx2xMHF8z/Xv3w7zvTaDVlFAHdOhDm8Bgv1/6iposI1Zg3VTORuzpmYkQgfhAx8O46mTupKrxf7Sd9ogY35SAQ43ef7twb8gBYCvNp8JQ85b7i0LBgB32DMYKVoHvIYKgXldiYQvjs24S+g4yYr89j9qMlTlA6X6AVFnBOPFZ3JtJV1hVulYrFEFHC54x/PIBe4Pqwi8LPU+0WrMxjrTRVhFQSkQOd6bvYqa3HQ378bb42K9PS+kXxGrif9dEh7DIPYi+8g7QsIosLHbh/P1WFJn7TgahWwqjou+wtofLSXVvqbYKDcUmXdHufZRVeQKQKgajnUpnBh9qzWlt4NHAHeFbOPSSsHFOg3NeVVb+hdZ3+DfCZw/yQ/pzV0iEiYwIb6BnwQAAAX5BnhdFETwz/wAAxCcIQxWFyyEhtmyCJ7LNmN5aACIPCAwEHKbXKMfRQZXcZWYqju3L+bElHRaAtpKE0geNGcH6UnXHP3EEeWYMf6qjYEIfuXxqTGFH7TVl8MUPzp9G8HDGg29PHAO+yhLn4aOiUavcp8dBttOIHOs7nx6iVYobExWtXFj6rdImr3GvWGM3wA/LGb7mBtMH6eQ7zGQmgYpnhV5tn6e1fgzD/KAOnHbj7K2ZdnqneZ0VMqNxcJ4NpfPc3/zc9ZzfMqE8/LmhK1FfERST6gS21NbAeU/+NKEdHMVefHvqUPTJhkg2lS0ucrsiUGU78h9KD/HstI/DbWhdzmwp/CQdO6XzM+l/iU4hnIyQOy5Mc40oW2RxCqxChRPtU30oc99Jbyu1RJTKIxkKV1aKHHHvYYoGpQDOHBMS5BQwSvORyfxM/KL9QGyKm8kuY6XKzVzwiQSOmLVE9UvaipT/n7CAX6ELltwAabjl1nbtYMzsoZbQcODG8AFNAAABUQGeOGpC/wABBc7Vzf56WTT2kO/FdRWlA46s2AA2j7BZDUoobfPQx/r7fezUKacTyIJ5rIja7mWHkq82c1ns8jgeN4v+fYFOiR4ZteiU0bOG2Df3WeVk0QxPXXLmRY8HuXeqQM57KgKaWUbGJqfo+3Mx+zehaOFXQRrXykRbldY6D5WL1IZMfvBW/N4qWZao/dbM+S3XEZWbQLKpL1EA+neA1JfdQoRBf5dglYtux4kOAKI61kzY8RWDiahXgpT5t5oMA/ub6cx6wrxeAnnblP+CxxWxUP+00nX7Z2atNH+XR4Scqwe+Ck9CTWAxGMZpWMZ8aHn1xvFEtGd4cJJLjtZUDg3j5do0x3CLiiLp8fW51kct8HoXw+4QfRZTjoamhSKqJO2DfXl4HSUgiuss9xLE6fRR5dDJAzJRVxTveKVYVjr7zqLsKA+ENIDG8CRXAQsAAAGIQZo7SahBaJlMFPDv/qmWAAADAMBLdbAC3q4Pfh7xjUTaVz7mNmON9cIdjtDi0L/21sp4LLeyMlXSnYOqA3xlVtTxBrvRbv0ShbcwPtFsqLfAf1NWpMSbQRmhl273lThZe/bU9lWccxULBP3oW9IMWc/L4mSeQL6Zrri9FGFVpkJ47jREgvhrTJoY75fBraTOHXmtnVaHd8DS9ST38kM3Hb0M7FrIupU/rBtwjSiprV968vdZ4fC079A0wtAw61Ujve709PCcDfNncKCesZAkWEOz44SIshpnY+Equ3sdYbvXFcIY6LRIxMnyC24bvg41aU0G2RS5uZvd0ytqbCMcuaNsS4LitTDu2wsuN5cTfSjvOSTjwiihqs+tGn+1mmgqpAW/GAwZAA+QlfapyQWtk82KWFCp8i2TgvyekKy5ZTGvtb0CLUD549zYb9fhafrqYcoXFZGGeaMSsbxqgRlBxiE71M03MO8o7145hJ0vnWrP1el5h2b8cpue0aPn29SgIuzfiHR6FJEAAAF/AZ5aakL/AAEF87g8lWPzJ4QKVSkiQQgmKq4oAIgxxTWnC4qFrXPQi3Uns8cyIELdJ/rlQnYY/+ryqCk8e3qdzryEBySwP9gdFLq6Qovirbt8z74P8qEZCfB8tVwcjDOe1Bul3c1QVP/lQ4gvgMas4vXLzr9tWG+YUZR54nChZTj1OJ/fE+1+1lZTuSywPReoiH3QRek5DbomzKlF+h0KGz7h7rfqJnoWOBbbo+kOraO6Qkf9RofL1Ok27msuqnZqR0MhXoOTBmX1lHV07lfGL29gwmegM0mnMUvDdnoPKboSA71xOYDV39O9apw3lFCIIfFhQxgEgogjRDlzbYZxDQX+TPbM9FfPmvnS+1IFg3EuTy9d0b51Z2nsZkbyNRfmOdhuLLrGCQdCMHcQkq7fRFTm8o8sJjRgLuBT7GolC7IOlVN3LT0HC3DfgZ34cl60/zxjeAxH+IQoISsJWMWWGq2H5+r04NnyaHJMq4KehOObRal/zMFpXzMmHjiwbMAAAAD3QZpdSeEKUmUwUsN//qeEAAADAX01zLdAedAAukyhczEPpGBJ1EGeIvzQzj/h5FZY6BkdOmX3qinHtIms9TtRh1z0uoZFcYD8OjRj+E0ZXDh6fbTIVnH5ALq/j4ChvD0wxVEQRD8CS+s1KIjkofBDD7QD71ibsXuxcKSAAMOqniENUhlo2uHJ7QPhAlTb10x0PKg8l7ESsiFu8jVY3UzPHMaJ4UnwsC5QJeshsjKxdK4R6o6QHIA3I1x8dDbyfBoLlNbRXwmUMV9XyyvU5VcqQ4yc654Wl80OMvcbFzfquWE5F9hP3YvHoCybfE4GwtiszrpXsSJKCQAAAS4BnnxqQv8AAQKGrqkGLVOuFOMhs9AAbFzjT/wgjhIJrjH7UPZfh2WVGit4a9tQ7hu9Aht2qctvqpVBo/pZ+Z+XLCO3A73anOQd4CdU0pCBGp1L5RMJkevwGGZF0GB3lNv5wyeVL9uhd5CoB07a+SvjfpJwiWsnGVONg1mW5Hl3HjCtJEnev1mnlQ6Z5tJM0WBF6ui6oAVO6tiAPbwIZFBvlIX6vyo5XR9wo3YNQ1F1JSepg8hWtcmbh8IkPpxn6kPxX4Fk+OmpkzVmn4Mwg9h7mEw5IVwi3gnTYLoQGTkFGOXGvF7hOchLnI24bBbKfolLHCxiunCo7l2rb3BC+ZYx6wV3qwooEJhQXhD3CbUXCOOPqYNI3WYxcyWcHmDx23NlxxxpdjN9fVEgHQBgwQAAAWJBmn5J4Q6JlMCG//6nhAAAAwF9O90LNxf4APiaqitPt5YW8nP5HsD+qAPiu+lqUkstjI28nHoAdH6RUsc+aQBNsO1D9DZgKw9bKEscADXT78wXPl5gFHPBUWaHwJnvgB7VysKPRXmSzuIAUxB/PWgOXd6GBHl/UJ6xr9F21dw0ahTKSwHPZN6BAYVkTzWX0RTTT/A3oAdQkSmxQ1BpZHZd3LpHwclgTo3m30IztDr76w885UY3hy/AU/HI8J1Hqp+1tXsu2BiJQyhAhtbGeHQ2lLz1qFt1vSmH8RSf0belyuuSbvHiGOZQ/NFM9Xi3rNn/b0YifvGJ4z4Vokv7w6keVIBAS0nkpAAnvEM4wBHAz//CmQSv7AF9Lx9XmRg+myod0PNZnYw0hc9cWfs2JSzm7xf9SBRGCOY52XD/wBd4gLFA7nOmWNqagCjZYa3p14uXGZKpR7cwe23RFiq7nViXLuAAAAHKQZqfSeEPJlMCGf/+nhAABseE6SfzXzWFP6DgAXUfcIw7lIUVjsZOHUr2KIXeN//NdEAYxVcyBaDdooluuCkOsLXGabazHTe68APPm2CyLsSqFQZcA+zy+0UFAnVf1v49kZyH8XtYm+DDm7oUaNbiJjxfKxNaWC1S5vyovOJKkNg9N+YVCb4+eU1xjz+x4tZ7RxaBrIXXVbGBMvdCkntQ7vvXM5O9ZIPhe5O8V0T653kN3ufHfcKWPkaHamyL+BgjYjeETEEHWhrF7Wv6uKvGZLGNLh6opbNA5HNkFwN+wtP9JhQp5HRKiQHNmfNefNFwtqMYGUSMJtmKmXeCVgcfupMqcuK4VE/FrSdDyP31CbtuvsomdLIli3pkjGye8tKD56wwXA5ySnxMAavyVnnxkuANfK8iUpgFDZvhvRQsWqK6x9InTUoRGoDoKND0lmGo47Jrf0mZFJF7Ye11Y5JBXzkcWDvo6QvStDI5bE0u8wes0MMYTP+AMVsQAw0yZkaoI3h1gszKmxFtqqXJvxel0U7M1xaxI76fxkgr0toUpE6FGllDT6Q5zE3m3UwExU0og8b41cLFz4zUlOALt1IncKG97GJ6utV57BgAAAIvQZqhSeEPJlMFETwz//6eEAAABfhGZ8jhaQAtw2pPOFzpzVzHjcBqvUYY8/8idzNMVq+/iRAUnv/mOzmEXGvwOQ8SvRvhKHU4Xh+guA99caSxknYqTy+G80AOP36Qejhpz8VUp/TQLnDFM+DPxv/ekjxOMf2dU1xIhA1Tk6Hq6jiPjpl3KL9dkGhGvyZcdbtmWzV2iP1zXhlBxMj9X3tlob4YSvRPlhRzn+WrqD2WE9Sl6dUWTn6qjNJAIhYwKH2Ka0quOMR5PxQ+P+Nlu5usgnWOSuTWoZI1xQFhAQpKUEtl6Pq0XLM/TEqDwKbuW2BA4HQF0BOaaliM/rBkxhG3zRMCEDQAsi3GIE3m73bSpNyIacFspvbAd/fBaeGK7H4bBtlQvTmBMs1BiA/DXb5V4L0mTz3Yh/CJmH8jFbwUa9VMaRHfHVSss8nPIEhLRoLt28mnxYSj46PX7I4suFKT0a/kFroDAZRoJscSVGVvQnwJVLpLx7dR9AAmvsQB3JGQBFTYkjjNUbqq9oB98TDPctEQa/+bIdOlECfuMxgcdmz9X+EdSg7Y1/FnV8nU9mQkL8gcLRM053BkzauLd5LtW2qpQjTjUY3Ewy8wYISSaQb/o0fLjUJE53L+0XxpExh2bPg405lKTuNNU7XhwSVzJOrtmVKiPOHAlLnB2iewcHPOysvnPY4O7urWi0OYmhIwWSRZ5CPe0PW5de3gnZMgI7ldd8jlW7NMaIEeRnzRqQAAAYcBnsBqQv8AAGr3OvYH3LvaJYxMiACPNK1MTTyKn+VeW7qrhHk+iQqfTSCYW8edwyGOqOP5JcO6Sric12LgaT/JP42Ycb1PhipB0KYcj7mbh6uwYvfW3YhQh1Zf1FT/Rd+TRFtVxqkQgXa784L4OGNbv06OQWnwGUqHAfXkoCwWWxWZ9vzwbiT+cF+ohyA0vK0MDtx5adDRjXP+MdZKymkoNYNE+396yE6ZCceci9JjdQJ7UEx7QmKqGxZLhFKdtGcABMs3YYYEVEAnCbZsrqZA56OOhKLUC7F1ff/QH/domJ0rDxbSopGVSj8tqnD4GCJ9nqhMPWnem9lTvODIggozJmoL7FBtUfbxAXVOt1gQ1mF7I7sdSXg2NJeKJQQ0g3pv404p5rho0u0TUxLwb216zXdTwZmdyYOR9Om4qF8C87wPtSvBx9q7sEG/lHkiGkKVcYI/tZnvAoW8U9vZiEC9JsAdtbob1Mer/ez4k1asHKUmT0HFpYOcYxe6lK47b3IEgKp2TqHHAAABiUGaxEnhDyZTAhf//oywAAAGodmQBm+oZQgSWB8H9eUYe56bANDMF64oTFdPBPrM7WywxgeHfpHtMpXCa4QJkc3XuOcVp/37hDZ9a6y9PUWkBRWEMFKOBhkDly8zMQXruIocDAX6l9T6V/JF1n0dc7/FCnMzjlEgpnTMDqRJggxAT2pAHEiYPpNkYVb7ysUyKCM+JvIXJEpX8YbQHsT1VHldEI4BuQ+/9q7VY/99Novuhdwlc6DLVUTyKpjw4eDKvjoo3FBgxIiCEAc5aZ/Ysj0G7xPC/0X1MERkn87SNROl9zX7QuHILOgaE1tKDMgcJiqagkD/Omp+Ber/87EoaGM+lK+Jeq+BtJP5pb8O9xbVkOAZoqOfjKMnTJJQr1CKqtbkPyZFNZ26zbT/CzgcHzAFVjsJT8JRkEKycR6zWr4sSO5a9V+yR4YD9m5jYdT19G2IvUSn04mRCC+N1T7YD9gVBr5IQUJn8IUh6uLeSLvUaXBV3RIunQmRShxm+3gHdEoYC7iu1jBgQQAAAZRBnuJFETwz/wAATqlPdg7QpuSLlsaoJZZxXYwAnbSUcMge3xMqbha845uPTvyb1jA+Q59Wftw/SQOKDjUw2/91efUF4VmYBMzwE+kr9ir/vqFMt5dOMPqFiS7rCT1NNDGZpDfThQjUe3xUk1vH4HxTBSxsX/MyiG+yY+egqy+OhL6n4oTAj2vLBRBSqWRQz0tnRxu06IDcTBmmkPjACSkjQxigrViwUUbTWkSDCN9HwgkXkSPgdEPF/6TDvr2/IYIvzCXxbml3UIIjcFqrgIAv57toaK/OkoOoLxnI2cqT6vkqD0LBjt43Hcw1citeP516iunjr1zpxfxRT9Auf7LBPo0VlCct9oTVt835QSttfsGzp+FpNVeYzHzciYq+tK/sQrEN9LUbJy2ly562dhpiJ2dkCUXe2D3tVfGqQ96IrbzGP/7moFjKw5Ay8/MCRApJZfxXMTDl/j8nE2s3/h6OejVqryvMtsVO6FFdy+AaNiJYNl6vUhyf4Ep36YIgBz83VNnb4iTKQVKdb/9AN+HGZ4AKCAAAAToBnwNqQv8AAGwU40x5mUyBYpWe6wAXTCMP00itXO/+0/ET4UjIgFGPM/fdzPwF3Elvh5AMaI82FDMc53bjBsB+kAMsVteFQ25Zhvr7oKsK0LwtuchLeFBax/dY9XytrWuygNlvtuULYyzLzZeE0+7gWlS1rsbMRlCuQ5xteBz4kX0Dlejt5gTk5hfmldobFhzBMUv/0zisHAH2axfb15efkmD2OlyeEGzFWfwI8qNmqaEfSxt+vzlcwNfXr+wSvV0KteZ6y5V66abjFVZLTsf1prnpsBlvoWR7MC5/w56OLm5utlQQbLmp9aIabsh2hPL8e8aaNAoX3o7ia482WcXxEdYubcUuYl+KMxR//MtHNQi25TZ/THO/Dg263j/MBFjZNkhWElfzDDbx5DwcE/ajthCPrdF6f58CywAAANpBmwVJqEFomUwIX//+jLAAAAbzS7mIReYATLr+VSKdM7vzfiOiHmk91QkwTliwMoKIopHPaW69m1TfCBn9MpZV+ntjRUo79qf9vIkQWSmMH5AWruvmbFJTT3pG8QH5kBIEQ430B7T6p+ZMaclUAb11V2Pzx3tw+CH3MctivLxYADEjYItbrWdzHtNay23Ys+SyIIpJA6W7FwljL7z/NTJmInGVtHBzjqVpGdClnJIisp0KUNn+ZdpRBklKp7PWnaVMMFUIZ6d7jsRZg+lItB6p9Xcpk765rAD5gQAAAYFBmyZJ4QpSZTAhn/6eEAAAI9x58GLYmAE1euEu33wxC+JPt8ubbz6FQbgEWFjzx6AijU7SgAxaheE6KP+WORGPf+QXo+muRPaDyMCgLmY9d/KAvwndv+4eX7JnChqIL7Y2+IsaVw7BsvbinuKmnmgJHBcoqgod7PpJJ0KB8HguQKV61Fnawdve2Od1Vjkpac0yuSSeEJsPTGAjc/gxP9xM16msGGJUF8tls7pGb5wz+XN4ly9xgQLLE+C5AvAvVSP6DyeupwHaVpXbTc4WqLRqHQPAQUYE+KPIhlP0DYDnLXQ+Y6bqtf1k6FojYzfcgxTkGzrTPo5ViJrBd1/A2X80QRie9zV18qjmM8Vv6fzbd/NJhN6rIhPG/ZeOOe9lglq4u1hKu+FWNQFpVHQwhhtc3q9lFHS0D2c7Fu4TXLATlkOdtGdgMryF5dKkbv+eTayVoxhJNKdho3ZCqFEQ6BeIfh4y6dsMfFUQrYWl0n1rDlQ4w65Kl8QXEtg1sUCdJGQNAAABlEGbR0nhDomUwIX//oywAABS98fD0NJsAHG9ShLeZUKuJnckQ5lfmhtNlvwvm2PP2xi59o8oTHk35uB8x+zxzemk1QnZz5sVeehIv74j/VZb/qrfiboePRGRvl2cQ9SgFEthBBIgtsnx0rkI2Dz9GIlm58Le20UklXGGPvtvqBHrIgaFCOC4mXDiNn9HMUi7Pq/2/4CSZcg6DF98yeC+2ADj61WDt1MZ1oECxUSVsUuuWIGU1pwUajZStHCWeJNxx1gUo9V8Ez6XYfQDG8oG6q6nMYBO4jw4YGBSdqIbCdIDdZLRE49LdAEHlzADtn1ev7O2y4BMPDVNDeACPHG0jaU0451ZAikbUvy/lbq9J+ks34OmCcAFzFVIj2iU9P91KgeVQXghmtRuXE2MFGOkR3/0tii5defjr9JTDQXCUpeoIEwt2uTe5O6HBvQoIi4h8vQM/+48VGENvxOeCQkDnthzKdluAl4xb3qNbjlCSBoP/OxVK5iXmFfDQlmc5M/Yq6DAUsGH4iumtJKQrFjcB8OOkxDhAAABp0GbaEnhDyZTAhf//oywAAC374hJanqhxgBJ56WiRgYCHIhhvcam1QcOS9HkGfWYdjA68/0H0LZApmuF5LiAUSGFNZBiBABziMQ6n0W5lXl6xCUiOXAUHHremUSvU1DBAOi8uSqyeQSjYkCdtfa5oIWECyViPsM/XG4Y1qZtuCJR8pTG6jshNgo1Ib881T7l+tLKfUkLTED0OaBQMLtvzNYe6lypdsCwMb/hssNCViy0cQvbKACzeTPCDZjHejlL66f/B/kDxp5b23zsLg0vewSreYgcdtpZBx8KTPkoi04ydDW8WIg7OdraEpPfg5LhYMBLd4OyU5IHEU/AxVOKZsr5+PwK7T7PktAgIBhorJJXHM2gUvNyU2oa+u+Lxrk4G3YWOUnBK2beZteo1UecIvKa+gi1vvGfJzHdY89c7KL8zq63+1PGWseInUEdGfcCZlNyhEtxG6R7Ny00mG377CPEDYqAcLmJHDtBgs62+HhQIow/TSR0TVAH8S292J2OJlb/2DmopfZBWZwtk3oChkFmLOzD9FQzP/4Ln85Oq8SFvneuCkAE7AAAC7htb292AAAAbG12aGQAAAAAAAAAAAAAAAAAAAPoAAA0WAABAAABAAAAAAAAAAAAAAAAAQAAAAAAAAAAAAAAAAAAAAEAAAAAAAAAAAAAAAAAAEAAAAAAAAAAAAAAAAAAAAAAAAAAAAAAAAAAAAAAAAACAAAK4nRyYWsAAABcdGtoZAAAAAMAAAAAAAAAAAAAAAEAAAAAAAA0WAAAAAAAAAAAAAAAAAAAAAAAAQAAAAAAAAAAAAAAAAAAAAEAAAAAAAAAAAAAAAAAAEAAAAAB9AAAAfQAAAAAACRlZHRzAAAAHGVsc3QAAAAAAAAAAQAANFgAAAgAAAEAAAAAClptZGlhAAAAIG1kaGQAAAAAAAAAAAAAAAAAADwAAAMkAFXEAAAAAAAtaGRscgAAAAAAAAAAdmlkZQAAAAAAAAAAAAAAAFZpZGVvSGFuZGxlcgAAAAoFbWluZgAAABR2bWhkAAAAAQAAAAAAAAAAAAAAJGRpbmYAAAAcZHJlZgAAAAAAAAABAAAADHVybCAAAAABAAAJxXN0YmwAAACxc3RzZAAAAAAAAAABAAAAoWF2YzEAAAAAAAAAAQAAAAAAAAAAAAAAAAAAAAAB9AH0AEgAAABIAAAAAAAAAAEVTGF2YzYwLjMxLjEwMiBsaWJ4MjY0AAAAAAAAAAAAAAAY//8AAAA3YXZjQwFkABb/4QAaZ2QAFqzZQIAQeeeEAAADAAQAAAMAeDxYtlgBAAZo6+PLIsD9+PgAAAAAFGJ0cnQAAAAAAAC6AwAAugMAAAAYc3R0cwAAAAAAAAABAAAAyQAABAAAAAAUc3RzcwAAAAAAAAABAAAAAQAABXhjdHRzAAAAAAAAAK0AAAACAAAIAAAAAAEAAAwAAAAAAQAABAAAAAABAAAQAAAAAAIAAAQAAAAAAQAADAAAAAABAAAEAAAAAAEAABQAAAAAAQAACAAAAAABAAAAAAAAAAEAAAQAAAAAAQAADAAAAAABAAAEAAAAAAEAAAwAAAAAAQAABAAAAAABAAAIAAAAAAEAABAAAAAAAgAABAAAAAABAAAQAAAAAAIAAAQAAAAAAQAACAAAAAABAAAQAAAAAAIAAAQAAAAAAQAADAAAAAABAAAEAAAAAAEAAAgAAAAAAQAADAAAAAABAAAEAAAAAAEAAAwAAAAAAQAABAAAAAABAAAMAAAAAAEAAAQAAAAAAQAACAAAAAABAAAQAAAAAAIAAAQAAAAAAQAAFAAAAAABAAAIAAAAAAEAAAAAAAAAAQAABAAAAAABAAAUAAAAAAEAAAgAAAAAAQAAAAAAAAABAAAEAAAAAAEAAAwAAAAAAQAABAAAAAABAAAUAAAAAAEAAAgAAAAAAQAAAAAAAAABAAAEAAAAAAQAAAgAAAAAAQAAEAAAAAACAAAEAAAAAAEAAAwAAAAAAQAABAAAAAABAAAIAAAAAAEAAAwAAAAAAQAABAAAAAABAAAIAAAAAAEAAAwAAAAAAQAABAAAAAABAAAMAAAAAAEAAAQAAAAAAQAAFAAAAAABAAAIAAAAAAEAAAAAAAAAAQAABAAAAAABAAAMAAAAAAEAAAQAAAAAAQAADAAAAAABAAAEAAAAAAEAABQAAAAAAQAACAAAAAABAAAAAAAAAAEAAAQAAAAAAQAAEAAAAAACAAAEAAAAAAEAAAgAAAAAAQAADAAAAAABAAAEAAAAAAEAAAwAAAAAAQAABAAAAAABAAAMAAAAAAEAAAQAAAAAAQAADAAAAAABAAAEAAAAAAEAAAwAAAAAAQAABAAAAAABAAAMAAAAAAEAAAQAAAAAAQAAFAAAAAABAAAIAAAAAAEAAAAAAAAAAQAABAAAAAABAAAUAAAAAAEAAAgAAAAAAQAAAAAAAAABAAAEAAAAAAEAABQAAAAAAQAACAAAAAABAAAAAAAAAAEAAAQAAAAAAQAAEAAAAAACAAAEAAAAAAEAABQAAAAAAQAACAAAAAABAAAAAAAAAAEAAAQAAAAAAQAACAAAAAABAAAMAAAAAAEAAAQAAAAAAQAADAAAAAABAAAEAAAAAAEAAAgAAAAAAQAADAAAAAABAAAEAAAAAAIAAAgAAAAAAQAADAAAAAABAAAEAAAAAAEAABQAAAAAAQAACAAAAAABAAAAAAAAAAEAAAQAAAAAAQAAFAAAAAABAAAIAAAAAAEAAAAAAAAAAQAABAAAAAABAAAUAAAAAAEAAAgAAAAAAQAAAAAAAAABAAAEAAAAAAEAAAwAAAAAAQAABAAAAAABAAAUAAAAAAEAAAgAAAAAAQAAAAAAAAABAAAEAAAAAAQAAAgAAAAAAQAADAAAAAABAAAEAAAAAAEAAAwAAAAAAQAABAAAAAACAAAIAAAAAAEAAAwAAAAAAQAABAAAAAABAAAQAAAAAAIAAAQAAAAAAQAAEAAAAAACAAAEAAAAAAEAABQAAAAAAQAACAAAAAABAAAAAAAAAAEAAAQAAAAAAQAAEAAAAAACAAAEAAAAAAEAAAgAAAAAAQAADAAAAAABAAAEAAAAAAEAAAgAAAAAAQAAEAAAAAACAAAEAAAAAAIAAAgAAAAAAQAAEAAAAAACAAAEAAAAAAEAAAwAAAAAAQAABAAAAAABAAAMAAAAAAEAAAQAAAAAAgAACAAAAAABAAAMAAAAAAEAAAQAAAAAAQAAEAAAAAACAAAEAAAAAAQAAAgAAAAAHHN0c2MAAAAAAAAAAQAAAAEAAADJAAAAAQAAAzhzdHN6AAAAAAAAAAAAAADJAAAE5AAAAUUAAAHhAAABTwAAAe4AAAHvAAABYwAAATEAAAFoAAAB8gAAAaAAAAEVAAABXgAAAcUAAAGAAAABMwAAAWsAAAFcAAACcQAAAZsAAAF8AAABswAAAb4AAAFgAAABKwAAAbkAAAFuAAABWQAAAbUAAAFxAAABoAAAARMAAAExAAAB7gAAAWkAAAI6AAABewAAAaoAAAEdAAABeQAAARoAAAHOAAABvQAAAUcAAAFpAAABTQAAAfsAAAF3AAABQQAAAi0AAAFdAAABvQAAAl8AAAGtAAABWAAAAToAAAEQAAABVAAAAYgAAAHZAAABuAAAAXYAAAE2AAABVwAAAWkAAAIqAAABhAAAAeAAAAINAAABhwAAAUkAAAE/AAABtwAAAaAAAAErAAABcAAAAdMAAAFuAAABGQAAAT0AAAJKAAACCwAAAWQAAAGjAAABjwAAAaMAAAFXAAABGAAAAYIAAAEvAAABlQAAAWkAAAHGAAABegAAAPoAAAFNAAAB7AAAAWAAAAIeAAABggAAAT0AAAHOAAABbgAAASkAAAH0AAABwgAAAUkAAAGHAAABZQAAAdEAAAGjAAABGAAAAk8AAAFzAAABlQAAAT4AAAH8AAABqAAAARkAAAE5AAABlQAAAUMAAAHtAAABjgAAAZYAAADoAAABWQAAAVcAAAHBAAACOgAAAZoAAAEtAAAB9wAAAWYAAAE4AAABzQAAAaYAAAE7AAABYAAAARwAAAHQAAABgQAAATsAAAIoAAABfAAAAfEAAAI/AAABqAAAAWsAAAE5AAABBQAAAUwAAAGaAAAByQAAAV0AAAHMAAABgAAAARkAAAE/AAAB3QAAAUQAAAIfAAACBQAAAXAAAAF2AAABngAAAQAAAAIJAAABsQAAAVcAAAF6AAABPQAAAc8AAAFtAAABQgAAAioAAAF4AAAB+AAAAasAAAHHAAABVQAAANYAAAFAAAABsgAAAYIAAAFVAAABjAAAAYMAAAD7AAABMgAAAWYAAAHOAAACMwAAAYsAAAGNAAABmAAAAT4AAADeAAABhQAAAZgAAAGrAAAAFHN0Y28AAAAAAAAAAQAAADAAAABidWR0YQAAAFptZXRhAAAAAAAAACFoZGxyAAAAAAAAAABtZGlyYXBwbAAAAAAAAAAAAAAAAC1pbHN0AAAAJal0b28AAAAdZGF0YQAAAAEAAAAATGF2ZjYwLjE2LjEwMA==\" type=\"video/mp4\">\n",
       " Your browser does not support the video tag.\n",
       " </video>"
      ],
      "text/plain": [
       "<IPython.core.display.Video object>"
      ]
     },
     "metadata": {},
     "output_type": "display_data"
    }
   ],
   "source": [
    "if not skip_training:\n",
    "      video = Video(work_dir/'video'/'SpinningReacher-v0'/'test'/f'ex1-episode-6.mp4',\n",
    "      embed=True, html_attributes=\"loop autoplay\") # Set html_attributes=\"controls\" for video control\n",
    "      display(video)"
   ]
  },
  {
   "cell_type": "code",
   "execution_count": 10,
   "id": "663c258a",
   "metadata": {
    "tags": []
   },
   "outputs": [
    {
     "name": "stdout",
     "output_type": "stream",
     "text": [
      "Numpy/Torch/Random Seed:  1\n",
      "Configuration Settings: {'exp_name': 'ex1', 'seed': 1, 'env_name': 'TargetReacher-v0', 'model_name': 'TargetReacher-v0', 'max_episode_steps': 200, 'train_episodes': 500, 'batch_size': 64, 'min_update_samples': 2000, 'testing': False, 'model_path': 'default', 'save_video': True, 'save_model': True, 'save_logging': True, 'silent': False, 'use_wandb': True, 'run_suffix': 0}\n",
      "Training device: cpu\n",
      "Observation space dimensions: 2\n",
      "Action space dimensions: 5\n",
      "\n",
      "Episode 0 finished. Total reward: -389.5545399806034 (200 timesteps)\n",
      "Episode 5 finished. Total reward: -388.9853371213851 (200 timesteps)\n",
      "Episode 10 finished. Total reward: -375.32130871596024 (200 timesteps)\n",
      "Updating the policy...\n",
      "Updating finished!\n",
      "Episode 15 finished. Total reward: -268.54989157577785 (153 timesteps)\n",
      "Episode 20 finished. Total reward: -278.6280369342592 (200 timesteps)\n",
      "Updating the policy...\n",
      "Updating finished!\n",
      "Episode 25 finished. Total reward: -245.8921537518743 (185 timesteps)\n",
      "Episode 30 finished. Total reward: -223.2780253122244 (164 timesteps)\n",
      "Updating the policy...\n",
      "Updating finished!\n",
      "Episode 35 finished. Total reward: -304.9423606278105 (200 timesteps)\n",
      "Episode 40 finished. Total reward: -287.484977889396 (200 timesteps)\n",
      "Updating the policy...\n",
      "Updating finished!\n",
      "Episode 45 finished. Total reward: -153.5017347189143 (78 timesteps)\n",
      "Episode 50 finished. Total reward: -102.14150404636037 (59 timesteps)\n",
      "Episode 55 finished. Total reward: -230.20714533363923 (200 timesteps)\n",
      "Episode 60 finished. Total reward: -77.28240404146793 (98 timesteps)\n",
      "Updating the policy...\n",
      "Updating finished!\n",
      "Episode 65 finished. Total reward: -278.902182273567 (200 timesteps)\n",
      "Episode 70 finished. Total reward: -42.91268455359387 (24 timesteps)\n",
      "Episode 75 finished. Total reward: -78.22918482378667 (62 timesteps)\n",
      "Episode 80 finished. Total reward: -348.34053124066673 (200 timesteps)\n",
      "Updating the policy...\n",
      "Updating finished!\n",
      "Episode 85 finished. Total reward: -189.81762196649152 (175 timesteps)\n",
      "Episode 90 finished. Total reward: -44.68832803279204 (25 timesteps)\n",
      "Episode 95 finished. Total reward: -262.9358274482612 (200 timesteps)\n",
      "Episode 100 finished. Total reward: -219.02266851905372 (153 timesteps)\n",
      "Updating the policy...\n",
      "Updating finished!\n",
      "Episode 105 finished. Total reward: -27.642853865512382 (16 timesteps)\n",
      "Episode 110 finished. Total reward: -183.19335153372745 (133 timesteps)\n",
      "Episode 115 finished. Total reward: -41.94003516095812 (27 timesteps)\n",
      "Episode 120 finished. Total reward: -37.674838839165965 (22 timesteps)\n",
      "Episode 125 finished. Total reward: -289.88730526612926 (200 timesteps)\n",
      "Updating the policy...\n",
      "Updating finished!\n",
      "Episode 130 finished. Total reward: -217.33144549837448 (151 timesteps)\n",
      "Episode 135 finished. Total reward: -43.4405963129024 (24 timesteps)\n",
      "Episode 140 finished. Total reward: -160.25737211578547 (152 timesteps)\n",
      "Episode 145 finished. Total reward: -28.974878478385715 (18 timesteps)\n",
      "Episode 150 finished. Total reward: -110.93732511616666 (94 timesteps)\n",
      "Updating the policy...\n",
      "Updating finished!\n",
      "Episode 155 finished. Total reward: -213.95851059879735 (146 timesteps)\n",
      "Episode 160 finished. Total reward: -309.12495339003885 (200 timesteps)\n",
      "Episode 165 finished. Total reward: -36.97324548019235 (22 timesteps)\n",
      "Episode 170 finished. Total reward: -32.197048928206684 (20 timesteps)\n",
      "Episode 175 finished. Total reward: -35.682689882864736 (21 timesteps)\n",
      "Episode 180 finished. Total reward: -148.12764153946918 (141 timesteps)\n",
      "Episode 185 finished. Total reward: -42.762199695262304 (24 timesteps)\n",
      "Updating the policy...\n",
      "Updating finished!\n",
      "Episode 190 finished. Total reward: -34.36706545672523 (19 timesteps)\n",
      "Episode 195 finished. Total reward: -90.35747009636374 (88 timesteps)\n",
      "Episode 200 finished. Total reward: -27.80478233772993 (17 timesteps)\n",
      "Episode 205 finished. Total reward: -45.90436641555627 (44 timesteps)\n",
      "Episode 210 finished. Total reward: -89.26871871850241 (83 timesteps)\n",
      "Updating the policy...\n",
      "Updating finished!\n",
      "Episode 215 finished. Total reward: -304.90294496974167 (200 timesteps)\n",
      "Episode 220 finished. Total reward: -202.51482722258578 (171 timesteps)\n",
      "Episode 225 finished. Total reward: -218.97486259398306 (197 timesteps)\n",
      "Episode 230 finished. Total reward: -248.0562324243466 (200 timesteps)\n",
      "Episode 235 finished. Total reward: -33.322041622967006 (20 timesteps)\n",
      "Updating the policy...\n",
      "Updating finished!\n",
      "Episode 240 finished. Total reward: -28.787154489692817 (17 timesteps)\n",
      "Episode 245 finished. Total reward: -45.86272178461222 (26 timesteps)\n",
      "Episode 250 finished. Total reward: -30.494217610313253 (17 timesteps)\n",
      "Episode 255 finished. Total reward: -37.19139580352912 (22 timesteps)\n",
      "Episode 260 finished. Total reward: -46.75701312376712 (46 timesteps)\n",
      "Episode 265 finished. Total reward: -33.01692399333918 (19 timesteps)\n",
      "Episode 270 finished. Total reward: -247.9546535224799 (200 timesteps)\n",
      "Episode 275 finished. Total reward: -35.40257355099903 (20 timesteps)\n",
      "Updating the policy...\n",
      "Updating finished!\n",
      "Episode 280 finished. Total reward: -26.15923456921953 (15 timesteps)\n",
      "Episode 285 finished. Total reward: -38.864791792743866 (21 timesteps)\n",
      "Episode 290 finished. Total reward: -29.19112747559858 (16 timesteps)\n",
      "Episode 295 finished. Total reward: -25.726619409313404 (15 timesteps)\n",
      "Episode 300 finished. Total reward: -217.74285744416383 (200 timesteps)\n",
      "Episode 305 finished. Total reward: -92.63066712237018 (84 timesteps)\n",
      "Episode 310 finished. Total reward: -28.41431328017224 (16 timesteps)\n",
      "Updating the policy...\n",
      "Updating finished!\n",
      "Episode 315 finished. Total reward: -26.62020206384806 (15 timesteps)\n",
      "Episode 320 finished. Total reward: -26.17227778769762 (14 timesteps)\n",
      "Episode 325 finished. Total reward: -28.453886639191918 (16 timesteps)\n",
      "Episode 330 finished. Total reward: -25.580377146801542 (14 timesteps)\n",
      "Episode 335 finished. Total reward: -198.01717160020993 (135 timesteps)\n",
      "Episode 340 finished. Total reward: -208.7704725297218 (200 timesteps)\n",
      "Updating the policy...\n",
      "Updating finished!\n",
      "Episode 345 finished. Total reward: -159.82066949264572 (145 timesteps)\n",
      "Episode 350 finished. Total reward: -26.39744640285902 (16 timesteps)\n",
      "Episode 355 finished. Total reward: -85.38701033590995 (81 timesteps)\n",
      "Episode 360 finished. Total reward: -258.0351390211992 (200 timesteps)\n",
      "Episode 365 finished. Total reward: -26.648823030571364 (14 timesteps)\n",
      "Episode 370 finished. Total reward: -28.781204949171787 (15 timesteps)\n",
      "Episode 375 finished. Total reward: -29.826480480475137 (17 timesteps)\n",
      "Updating the policy...\n",
      "Updating finished!\n",
      "Episode 380 finished. Total reward: -112.08655574537205 (84 timesteps)\n",
      "Episode 385 finished. Total reward: -95.7178554050588 (90 timesteps)\n",
      "Episode 390 finished. Total reward: -27.180269906300435 (16 timesteps)\n",
      "Episode 395 finished. Total reward: -25.600745223976862 (16 timesteps)\n",
      "Episode 400 finished. Total reward: -38.8773217930314 (39 timesteps)\n",
      "Episode 405 finished. Total reward: -24.91086995403698 (15 timesteps)\n",
      "Updating the policy...\n",
      "Updating finished!\n",
      "Episode 410 finished. Total reward: -319.3348367918876 (200 timesteps)\n",
      "Episode 415 finished. Total reward: -26.20647565085103 (15 timesteps)\n",
      "Episode 420 finished. Total reward: -30.273898019870558 (17 timesteps)\n",
      "Episode 425 finished. Total reward: -108.57364221118134 (85 timesteps)\n",
      "Episode 430 finished. Total reward: -28.05229246036164 (15 timesteps)\n",
      "Episode 435 finished. Total reward: -25.634080807401798 (15 timesteps)\n",
      "Episode 440 finished. Total reward: -30.761109513337185 (17 timesteps)\n",
      "Episode 445 finished. Total reward: -180.96718421924265 (181 timesteps)\n",
      "Episode 450 finished. Total reward: -27.62902471262488 (15 timesteps)\n",
      "Updating the policy...\n",
      "Updating finished!\n",
      "Episode 455 finished. Total reward: -316.4297744254176 (200 timesteps)\n",
      "Episode 460 finished. Total reward: -253.35314017690905 (168 timesteps)\n",
      "Episode 465 finished. Total reward: -25.49965010388178 (14 timesteps)\n",
      "Episode 470 finished. Total reward: -331.69174813662966 (200 timesteps)\n",
      "Episode 475 finished. Total reward: -28.261623379031057 (18 timesteps)\n",
      "Episode 480 finished. Total reward: -26.8951784833768 (15 timesteps)\n",
      "Episode 485 finished. Total reward: -25.72740039368068 (15 timesteps)\n",
      "Episode 490 finished. Total reward: -28.281375548518533 (15 timesteps)\n",
      "Episode 495 finished. Total reward: -29.22914993780434 (17 timesteps)\n",
      "Episode 500 finished. Total reward: -26.01367095051367 (14 timesteps)\n",
      "Model saved to /notebooks/rl2025/ex1/results/model/TargetReacher-v0_params.pt\n",
      "------Training finished.------\n"
     ]
    }
   ],
   "source": [
    "if not skip_training:\n",
    "      t.train(cfg_path=Path().cwd()/'cfg'/'reacher_v1.yaml', \n",
    "      cfg_args=dict(env_name='TargetReacher-v0',model_name='TargetReacher-v0', train_episodes=500, seed=1)) # < 5 mins"
   ]
  },
  {
   "cell_type": "code",
   "execution_count": 22,
   "id": "4714194c",
   "metadata": {
    "tags": []
   },
   "outputs": [
    {
     "name": "stdout",
     "output_type": "stream",
     "text": [
      "Numpy/Torch/Random Seed:  73\n",
      "Loading model from /notebooks/rl2025/ex1/results/model/TargetReacher-v0_params.pt ...\n",
      "Testing...\n",
      "Test ep reward: -27.442780061237094 seed: 73\n",
      "Test ep reward: -27.442780061237094 seed: 73\n",
      "Test ep reward: -27.442780061237094 seed: 73\n",
      "Test ep reward: -27.442780061237094 seed: 73\n",
      "Test ep reward: -27.442780061237094 seed: 73\n",
      "Test ep reward: -27.442780061237094 seed: 73\n",
      "Test ep reward: -27.442780061237094 seed: 73\n",
      "Test ep reward: -27.442780061237094 seed: 73\n",
      "Test ep reward: -27.442780061237094 seed: 73\n",
      "Test ep reward: -27.442780061237094 seed: 73\n",
      "Average test reward: -27.442780061237094 episode length: 16.0\n"
     ]
    }
   ],
   "source": [
    "if not skip_training:\n",
    "       t.test(episodes=10, cfg_path=Path().cwd()/'cfg'/'reacher_v1.yaml', \n",
    "       cfg_args=dict(env_name='TargetReacher-v0',model_name='TargetReacher-v0', seed=73, testing=True,))"
   ]
  },
  {
   "cell_type": "code",
   "execution_count": 25,
   "id": "67152513",
   "metadata": {
    "tags": []
   },
   "outputs": [
    {
     "data": {
      "text/html": [
       "<video loop autoplay  >\n",
       " <source src=\"data:video/mp4;base64,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\" type=\"video/mp4\">\n",
       " Your browser does not support the video tag.\n",
       " </video>"
      ],
      "text/plain": [
       "<IPython.core.display.Video object>"
      ]
     },
     "metadata": {},
     "output_type": "display_data"
    }
   ],
   "source": [
    "if not skip_training:\n",
    "      video = Video(work_dir/'video'/'TargetReacher-v0'/'test'/f'ex1-episode-9.mp4',\n",
    "      embed=True, html_attributes=\"loop autoplay\") # Set html_attributes=\"controls\" for video control\n",
    "      display(video)"
   ]
  },
  {
   "cell_type": "markdown",
   "id": "947add89",
   "metadata": {
    "deletable": false,
    "editable": false,
    "nbgrader": {
     "cell_type": "markdown",
     "checksum": "24b4e1b132030de471dd3ab7d7d89a7b",
     "grade": false,
     "grade_id": "cell-8fbe6b6920b12c52",
     "locked": true,
     "schema_version": 3,
     "solution": false,
     "task": false
    }
   },
   "source": [
    "Do not delete the following cells as they are used for grading. Make sure to test that both agents work correctly for the selected set of seeds [860, 241, 73, 543, 582, 211, 524, 484, 954, 656]."
   ]
  },
  {
   "cell_type": "code",
   "execution_count": null,
   "id": "141e44fe",
   "metadata": {
    "deletable": false,
    "editable": false,
    "nbgrader": {
     "cell_type": "code",
     "checksum": "8d262615dcd66ffad7534f4c0c2a5424",
     "grade": true,
     "grade_id": "cell-626f99384bd58109",
     "locked": true,
     "points": 10,
     "schema_version": 3,
     "solution": false,
     "task": false
    }
   },
   "outputs": [],
   "source": [
    "%%capture --no-stdout\n",
    "\"TEST CELL\""
   ]
  },
  {
   "cell_type": "code",
   "execution_count": null,
   "id": "0ee03e99",
   "metadata": {
    "deletable": false,
    "editable": false,
    "nbgrader": {
     "cell_type": "code",
     "checksum": "80c6477f2fe781715a9c816f5434d617",
     "grade": true,
     "grade_id": "cell-233242cce6bb1187",
     "locked": true,
     "points": 10,
     "schema_version": 3,
     "solution": false,
     "task": false
    }
   },
   "outputs": [],
   "source": [
    "%%capture --no-stdout\n",
    "\"TEST CELL\""
   ]
  },
  {
   "cell_type": "markdown",
   "id": "c384e863",
   "metadata": {
    "deletable": false,
    "editable": false,
    "nbgrader": {
     "cell_type": "markdown",
     "checksum": "b3bb72081ab68915f7c37a6a93a897ee",
     "grade": false,
     "grade_id": "cell-54aa2850dfdfb7d1",
     "locked": true,
     "schema_version": 3,
     "solution": false,
     "task": false
    },
    "tags": []
   },
   "source": [
    "<a id='T4'></a>\n",
    "<div class=\" alert alert-warning\">\n",
    "    <h3><b>Student Task 4.</b> Visualizing Behavior </h3> \n",
    "\n",
    "Now, let us visualize the reward function for the second behavior (reaching the goal [1,1]). Plot the values of the second reward function from Task 3 and the learned best action as a function of the state (the joint positions). Use the code below as a starting point. After plotting, answer the questions below.\n",
    "            \n",
    "🔝\t<a href='#TOC'><b>Table of Contents</b></a>\n",
    "</div>\n"
   ]
  },
  {
   "cell_type": "code",
   "execution_count": 26,
   "id": "139b3387",
   "metadata": {
    "tags": []
   },
   "outputs": [],
   "source": [
    "import matplotlib.pyplot as plt\n",
    "import seaborn as sns\n",
    "import gymnasium as gym\n",
    "from agent import Agent, Policy"
   ]
  },
  {
   "cell_type": "code",
   "execution_count": 27,
   "id": "0035a7f8",
   "metadata": {
    "tags": []
   },
   "outputs": [
    {
     "name": "stdout",
     "output_type": "stream",
     "text": [
      "Loading policy from /notebooks/rl2025/ex1/results/model/TargetReacher-v0_params.pt\n"
     ]
    }
   ],
   "source": [
    "env_name = \"TargetReacher-v0\" \n",
    "resolution = 101  # Resolution of the policy/reward image\n",
    "\n",
    "# Load policy from default path to plot\n",
    "policy_dir = Path().cwd()/'results'/'model'/f'{env_name}_params.pt'\n",
    "\n",
    "sns.set()\n",
    "\n",
    "# Create a gym environment\n",
    "env = gym.make(env_name)\n",
    "\n",
    "action_space_dim = u.get_space_dim(env.action_space)\n",
    "observation_space_dim = u.get_space_dim(env.observation_space)\n",
    "policy = Policy(observation_space_dim, action_space_dim)\n",
    "\n",
    "if policy_dir:\n",
    "    policy.load_state_dict(torch.load(policy_dir))\n",
    "    print(\"Loading policy from\", policy_dir)\n",
    "else:\n",
    "    print(\"Plotting a random policy\")"
   ]
  },
  {
   "cell_type": "code",
   "execution_count": 29,
   "id": "170a06be",
   "metadata": {
    "tags": []
   },
   "outputs": [],
   "source": [
    "# Create a grid and initialize arrays to store rewards and actions\n",
    "npoints = resolution\n",
    "state_range = np.linspace(-np.pi, np.pi, npoints)\n",
    "rewards = np.zeros((npoints, npoints))\n",
    "actions = np.zeros((npoints, npoints), dtype=np.int32)\n",
    "\n",
    "# Loop through state[0] and state[1]\n",
    "for i,th1 in enumerate(state_range):\n",
    "    for j,th2 in enumerate(state_range):\n",
    "        # Create the state vector from th1, th2\n",
    "        state = np.array([th1, th2])\n",
    "\n",
    "        # Query the policy and find the most probable action\n",
    "        with torch.no_grad():\n",
    "            action_dist, _ = policy(torch.from_numpy(state).float().unsqueeze(0))\n",
    "        action_probs = action_dist.probs.numpy()\n",
    "\n",
    "        '''\n",
    "        # TODO: Task 4: \n",
    "        # 1. What's the best action, according to the policy? \n",
    "        # 2. Compute the reward given state\n",
    "        '''\n",
    "        ########## Your code starts here ##########\n",
    "        # Use the action probabilities in the action_probs vector\n",
    "        # (it's a numpy array)\n",
    "        best_action = np.argmax(action_probs)\n",
    "        actions[i, j] = best_action\n",
    "        \n",
    "        ee_pos = env.get_cartesian_pos(state) #same code as before\n",
    "        target_pos = np.array([1.0, 1.0])\n",
    "        dist = np.linalg.norm(ee_pos - target_pos)\n",
    "        rewards[i, j] = -dist\n",
    "        ########## Your code ends here ##########\n"
   ]
  },
  {
   "cell_type": "code",
   "execution_count": 30,
   "id": "ea36aa9a",
   "metadata": {
    "tags": []
   },
   "outputs": [
    {
     "data": {
      "image/png": "[encoded data removed]",
      "text/plain": [
       "<Figure size 640x480 with 2 Axes>"
      ]
     },
     "metadata": {},
     "output_type": "display_data"
    }
   ],
   "source": [
    "# Create the reward plot\n",
    "num_ticks = 10\n",
    "tick_skip = max(1, npoints // num_ticks)\n",
    "tick_shift = 2*np.pi/npoints/2\n",
    "tick_points = np.arange(npoints)[::tick_skip] + tick_shift\n",
    "tick_labels = state_range.round(2)[::tick_skip]\n",
    "\n",
    "sns.heatmap(rewards)\n",
    "plt.xticks(tick_points, tick_labels, rotation=45)\n",
    "plt.yticks(tick_points, tick_labels, rotation=45)\n",
    "plt.xlabel(\"J2\")\n",
    "plt.ylabel(\"J1\")\n",
    "plt.title(\"Reward\")\n",
    "plt.suptitle(\"Rewards in %s\" % env_name)\n",
    "plt.show()\n"
   ]
  },
  {
   "cell_type": "code",
   "execution_count": 31,
   "id": "99f6c89a",
   "metadata": {
    "tags": []
   },
   "outputs": [
    {
     "data": {
      "image/png": "[encoded data removed]",
      "text/plain": [
       "<Figure size 640x480 with 2 Axes>"
      ]
     },
     "metadata": {},
     "output_type": "display_data"
    }
   ],
   "source": [
    "# # Create the policy plot\n",
    "cmap = sns.color_palette(\"deep\", action_space_dim)\n",
    "sns.heatmap(actions, cmap=cmap, vmin=0, vmax=action_space_dim-1)\n",
    "plt.xticks(tick_points, tick_labels, rotation=45)\n",
    "plt.yticks(tick_points, tick_labels, rotation=45)\n",
    "colorbar = plt.gca().collections[0].colorbar\n",
    "ticks = np.array(range(action_space_dim))*((action_space_dim-1)/action_space_dim)+0.5\n",
    "colorbar.set_ticks(ticks)\n",
    "if env.spec.id == \"Reacher-v1\":\n",
    "    # In Reacher, we can replace 0..4 with more readable labels\n",
    "    labels = [\"J1+\", \"J1-\", \"J2+\", \"J2-\", \"Stop\"]\n",
    "else:\n",
    "    labels = list(map(str, range(action_space_dim)))\n",
    "colorbar.set_ticklabels(labels)\n",
    "plt.xlabel(\"J2\")\n",
    "plt.ylabel(\"J1\")\n",
    "plt.title(\"Best action\")\n",
    "plt.suptitle(\"Best action in %s\" % env_name)\n",
    "plt.show()"
   ]
  },
  {
   "cell_type": "markdown",
   "id": "7c2187e8-19c3-43a3-8854-7c20a9c73f9d",
   "metadata": {
    "deletable": false,
    "editable": false,
    "nbgrader": {
     "cell_type": "markdown",
     "checksum": "8a786bb3b1a68bc06adae81775588814",
     "grade": false,
     "grade_id": "cell-29064556f36a3c80",
     "locked": true,
     "schema_version": 3,
     "solution": false,
     "task": false
    },
    "tags": []
   },
   "source": [
    "Do not remove this cell as it is used for grading"
   ]
  },
  {
   "cell_type": "markdown",
   "id": "c45dc911",
   "metadata": {
    "deletable": false,
    "editable": false,
    "nbgrader": {
     "cell_type": "markdown",
     "checksum": "38774681f9b8ea8d0c120330f044c23a",
     "grade": false,
     "grade_id": "cell-a90e3e94423fcb0c",
     "locked": true,
     "schema_version": 3,
     "solution": false,
     "task": false
    }
   },
   "source": [
    "<a id='Q4'></a>\n",
    "<div class=\" alert alert-warning\">\n",
    "    <h3><b>Student Question 4.1</b> Achieved Performance (5 points) </h3> \n",
    "\n",
    "Where should the reward be higher for the reaching task? \n",
    "            \n",
    "🔝\t<a href='#TOC'><b>Table of Contents</b></a>\n",
    "</div>\n"
   ]
  },
  {
   "cell_type": "markdown",
   "id": "7011e57b",
   "metadata": {
    "deletable": false,
    "editable": false,
    "nbgrader": {
     "cell_type": "markdown",
     "checksum": "b6af53eeeb3490d7b74f6e2ca3a59c9b",
     "grade": false,
     "grade_id": "cell-e19d78f23a6643a3",
     "locked": true,
     "schema_version": 3,
     "solution": false,
     "task": false
    },
    "tags": []
   },
   "source": [
    "Select **only one**.\n",
    "1. Reward should be higher when the end-effector is far from the goal.\n",
    "2. Reward should be higher when the end-effector is near the goal. \n",
    "3. Reward should be equal in joint space.\n",
    "4. Reward should have noise to improve exploration and be higher when close to the goal.\n",
    "5. Reward should be calculated based on the history, if end-effector is approaching the goal, it should be higher"
   ]
  },
  {
   "cell_type": "code",
   "execution_count": 32,
   "id": "21dbcb90-01c8-4825-bc3e-5f28f0bcf965",
   "metadata": {
    "tags": []
   },
   "outputs": [],
   "source": [
    "sq4_1 = 2 # Answer question 4.1 with the appropriate answer number"
   ]
  },
  {
   "cell_type": "code",
   "execution_count": 33,
   "id": "77452fd6-23f2-4045-9437-3107a3a50a0b",
   "metadata": {
    "deletable": false,
    "editable": false,
    "nbgrader": {
     "cell_type": "code",
     "checksum": "67f2ef8d46163f9aae541c7ff63a427b",
     "grade": true,
     "grade_id": "cell-d6a8fcabc4c42c92",
     "locked": true,
     "points": 0,
     "schema_version": 3,
     "solution": false,
     "task": false
    },
    "tags": []
   },
   "outputs": [],
   "source": [
    "assert sq4_1 in range(1, 6)"
   ]
  },
  {
   "cell_type": "code",
   "execution_count": null,
   "id": "783b614d-8f10-42ed-980e-c2def5d66181",
   "metadata": {
    "deletable": false,
    "editable": false,
    "nbgrader": {
     "cell_type": "code",
     "checksum": "08f817d52414224e40facb15ed356d59",
     "grade": true,
     "grade_id": "cell-385126983a8fd92d",
     "locked": true,
     "points": 5,
     "schema_version": 3,
     "solution": false,
     "task": false
    },
    "tags": []
   },
   "outputs": [],
   "source": []
  },
  {
   "cell_type": "markdown",
   "id": "f77cbd95",
   "metadata": {
    "deletable": false,
    "editable": false,
    "nbgrader": {
     "cell_type": "markdown",
     "checksum": "9114aa69847c9c2be97907cfa2af71a4",
     "grade": false,
     "grade_id": "cell-4346eec80fe675af",
     "locked": true,
     "schema_version": 3,
     "solution": false,
     "task": false
    }
   },
   "source": [
    "<a id='Q5'></a>\n",
    "<div class=\" alert alert-warning\">\n",
    "    <h3><b>Student Question 4.2</b> Analysis of Behaviour (9 points) </h3> \n",
    "\n",
    "Did the policy learn to reach the goal from every possible state (manipulator configuration) in an optimal way (i.e. with lowest possible number of steps)? Why/why not?\n",
    "            \n",
    "🔝\t<a href='#TOC'><b>Table of Contents</b></a>\n",
    "</div>"
   ]
  },
  {
   "cell_type": "markdown",
   "id": "f5b2b7fd",
   "metadata": {
    "deletable": false,
    "editable": false,
    "nbgrader": {
     "cell_type": "markdown",
     "checksum": "79a2ad8ef18bc08b07496b71340a0dfb",
     "grade": false,
     "grade_id": "cell-44ab862bff7d27bf",
     "locked": true,
     "schema_version": 3,
     "solution": false,
     "task": false
    }
   },
   "source": [
    "Select all the correct answers. You get 3 points for each correct answer. Select at **most** 4 answers, or you will **lose all points**.\n",
    "\n",
    "1. Yes, the policy efficiently learns to reach the goal from every state due to comprehensive state exploration.\n",
    "\n",
    "2. No, the policy fails to explore all states adequately because the initial and goal states are nearly constant, leading to limited exploration ability.\n",
    "\n",
    "3. Yes, the model is trained to always find the shortest path due to advanced algorithmic efficiency.\n",
    "\n",
    "4. No, because the policy often chooses longer paths for certain initial states , not exploiting shorter alternatives.\n",
    "\n",
    "5. Yes, continuous training ensures the policy adapts to find the best route from any state over time.\n",
    "\n",
    "6. No, optimal paths are not always found because the exploration phase is limited, causing repeated suboptimal actions.\n",
    "\n",
    "7. No, the policy sometimes achieves the goal optimally, but not consistently across all trials and configurations.\n",
    "\n",
    "8. Yes, the training regime guarantees that all possible configurations are optimally addressed by the final model.\n",
    "\n",
    "9. No, the policy cannot reach from all state because the policy has stochastic behavior.\n",
    "\n",
    "10. No, bacause the policy overfits to the online it collects.\n",
    "\n",
    "11. No, bacause the the reward function is not defined in an optimal way for this task."
   ]
  },
  {
   "cell_type": "code",
   "execution_count": 34,
   "id": "1621dc20",
   "metadata": {
    "tags": []
   },
   "outputs": [],
   "source": [
    "sq4_2 = [2, 4, 6, 7] #Answer question 4.2 with the appropriate answer numbers"
   ]
  },
  {
   "cell_type": "code",
   "execution_count": 35,
   "id": "fcc40e62",
   "metadata": {
    "deletable": false,
    "editable": false,
    "nbgrader": {
     "cell_type": "code",
     "checksum": "343ce1ee6a8e4d8c9e31750dca196477",
     "grade": true,
     "grade_id": "cell-44c69f0bc8c72e3f",
     "locked": true,
     "points": 0,
     "schema_version": 3,
     "solution": false,
     "task": false
    },
    "tags": []
   },
   "outputs": [],
   "source": [
    "assert 1 <= len(set(sq4_2)) <= 4\n",
    "assert set(sq4_2) < set(range(1, 12))"
   ]
  },
  {
   "cell_type": "markdown",
   "id": "3eaeb40d",
   "metadata": {
    "deletable": false,
    "editable": false,
    "nbgrader": {
     "cell_type": "markdown",
     "checksum": "b652e7d56b0faeab487f22b14f619240",
     "grade": false,
     "grade_id": "cell-c1270f97d5ec1f3d",
     "locked": true,
     "schema_version": 3,
     "solution": false,
     "task": false
    }
   },
   "source": [
    "Do not remove the following blocks as they are used for grading"
   ]
  },
  {
   "cell_type": "code",
   "execution_count": null,
   "id": "05031d7b",
   "metadata": {
    "deletable": false,
    "editable": false,
    "nbgrader": {
     "cell_type": "code",
     "checksum": "363e721a50466efc4a48b8eb31060bfc",
     "grade": true,
     "grade_id": "cell-5a73a8d6f1e62a4c",
     "locked": true,
     "points": 3,
     "schema_version": 3,
     "solution": false,
     "task": false
    }
   },
   "outputs": [],
   "source": []
  },
  {
   "cell_type": "code",
   "execution_count": null,
   "id": "75c7b426",
   "metadata": {
    "deletable": false,
    "editable": false,
    "nbgrader": {
     "cell_type": "code",
     "checksum": "7ac4e9f13a548e2d539bd454d10ee8b0",
     "grade": true,
     "grade_id": "cell-b18c9cd3dfeb8639",
     "locked": true,
     "points": 3,
     "schema_version": 3,
     "solution": false,
     "task": false
    }
   },
   "outputs": [],
   "source": []
  },
  {
   "cell_type": "code",
   "execution_count": null,
   "id": "db031f32",
   "metadata": {
    "deletable": false,
    "editable": false,
    "nbgrader": {
     "cell_type": "code",
     "checksum": "27bd6747e4d994a69c36e743a49c9e70",
     "grade": true,
     "grade_id": "cell-20401f4d0e76b565",
     "locked": true,
     "points": 3,
     "schema_version": 3,
     "solution": false,
     "task": false
    }
   },
   "outputs": [],
   "source": []
  },
  {
   "cell_type": "markdown",
   "id": "7c934ffd-63fb-4162-9d90-5682a4d24e0b",
   "metadata": {},
   "source": [
    "<a id='Q6'></a>\n",
    "<div class=\" alert alert-warning\">\n",
    "    <h3><b>Student Question 4.3</b> Checking your knowledge about RL (9 points) </h3> \n",
    "            \n",
    "🔝\t<a href='#TOC'><b>Table of Contents</b></a>\n",
    "</div>"
   ]
  },
  {
   "cell_type": "markdown",
   "id": "60d4b6d0-97c7-4627-9742-8f67563bd815",
   "metadata": {},
   "source": [
    "Select all the true statements. You get 3 points for each correct answer. Select at **most** 4 answers, or you will **lose all points**.\n",
    "\n",
    "1. Each trial in reinforcement learning is called an episode. \n",
    "\n",
    "2. Each trial in reinforcement learning should have the same length.\n",
    "\n",
    "3. Reinforcement learning always requires a model of the environment.\n",
    "\n",
    "4. Once the agent learns, it never makes mistakes again.\n",
    "\n",
    "5. Exploitation means choosing the action that seems best based on past experience.\n",
    "\n",
    "6. Optimal policies are always found in reinforcement learining. \n",
    "\n",
    "7. There is always only one optimal policy.\n",
    "\n",
    "8. The exploration–exploitation trade-off is central to reinforcement learning."
   ]
  },
  {
   "cell_type": "code",
   "execution_count": 36,
   "id": "054d3397-37f7-4c08-8291-e285b80ec907",
   "metadata": {
    "tags": []
   },
   "outputs": [],
   "source": [
    "sq4_3 = [1, 3, 4, 8] #Answer question 4.2 with the appropriate answer numbers"
   ]
  },
  {
   "cell_type": "code",
   "execution_count": 37,
   "id": "c8127189-016c-4e5a-b90f-4040047c63cb",
   "metadata": {
    "deletable": false,
    "editable": false,
    "nbgrader": {
     "cell_type": "code",
     "checksum": "827fe7185982bb28d0d7593ccea30093",
     "grade": true,
     "grade_id": "cell-f6aef306d8725802",
     "locked": true,
     "points": 0,
     "schema_version": 3,
     "solution": false,
     "task": false
    },
    "tags": []
   },
   "outputs": [],
   "source": [
    "assert 1 <= len(set(sq4_3)) <= 4\n",
    "assert set(sq4_3) < set(range(1, 9))"
   ]
  },
  {
   "cell_type": "code",
   "execution_count": null,
   "id": "7241aea4-ff50-4d85-a502-0d1df5d78627",
   "metadata": {
    "deletable": false,
    "editable": false,
    "nbgrader": {
     "cell_type": "code",
     "checksum": "7fb4f785894e812af8f5a4f71dbc3a48",
     "grade": true,
     "grade_id": "cell-9b87d4e533b58f65",
     "locked": true,
     "points": 3,
     "schema_version": 3,
     "solution": false,
     "task": false
    },
    "tags": []
   },
   "outputs": [],
   "source": []
  },
  {
   "cell_type": "code",
   "execution_count": null,
   "id": "3054efbc-e7c1-4583-ad3b-5b7c04ce7958",
   "metadata": {
    "deletable": false,
    "editable": false,
    "nbgrader": {
     "cell_type": "code",
     "checksum": "823ca0672ba2112c1554c928516e9318",
     "grade": true,
     "grade_id": "cell-582e8b9d6a11c222",
     "locked": true,
     "points": 3,
     "schema_version": 3,
     "solution": false,
     "task": false
    },
    "tags": []
   },
   "outputs": [],
   "source": []
  },
  {
   "cell_type": "code",
   "execution_count": null,
   "id": "090291db-697d-495e-850e-d184a04c8224",
   "metadata": {
    "deletable": false,
    "editable": false,
    "nbgrader": {
     "cell_type": "code",
     "checksum": "f8e2c7de06cbb3496a3346d3e652dcd8",
     "grade": true,
     "grade_id": "cell-ffc63b0be74b0da6",
     "locked": true,
     "points": 3,
     "schema_version": 3,
     "solution": false,
     "task": false
    },
    "tags": []
   },
   "outputs": [],
   "source": []
  },
  {
   "cell_type": "markdown",
   "id": "4c50da4d",
   "metadata": {},
   "source": [
    "# 5. Submitting <a id='4.'></a>\n",
    "Ensure all tasks and questions (in ```ex1.ipynb```) are answered and the relevant plots are recorded in the relevant places. Details about attaching images and figures can be found below. The relevant graphs to be included for this assignment are:\n",
    "- Task 1, CartPole ```episodesep_reward``` plot from logged csv file\n",
    "- x2 Task 4 reward plots\n",
    "\n",
    "Ensure the correct model files are saved:\n",
    "- results/model/CartPole-v1_params.pt\n",
    "- results/model/CartPole-v1-model{0-4}_params.pt\n",
    "- results/model/SpinningReacher-v0_params.pt\n",
    "- results/model/TargetReacher-v0_params.pt\n"
   ]
  },
  {
   "cell_type": "code",
   "execution_count": 41,
   "id": "27d551ec",
   "metadata": {
    "deletable": false,
    "editable": false,
    "nbgrader": {
     "cell_type": "code",
     "checksum": "ec29d723e13463965e0cd445e8d76d21",
     "grade": true,
     "grade_id": "cell-b0b285ad316b6cdf",
     "locked": true,
     "points": 0,
     "schema_version": 3,
     "solution": false,
     "task": false
    },
    "tags": []
   },
   "outputs": [],
   "source": [
    "# Make sure that skip training is set to True before submission\n",
    "assert skip_training == True"
   ]
  },
  {
   "cell_type": "markdown",
   "id": "d4c3b7e3-49a1-4ca6-8484-e9fd422271be",
   "metadata": {},
   "source": [
    "## 5.1 Feedback <a id='5.1'></a>\n",
    "\n",
    "In order to help the staff of the course as well as the forthcoming students, it would be great if you could answer to the following questions in your submission:"
   ]
  },
  {
   "cell_type": "markdown",
   "id": "29381b17-ce64-4a1c-b16c-e82ea2a0af96",
   "metadata": {},
   "source": [
    "1) How much time did you spend solving this exercise? (change the ```hrs``` variable below to a floating point number representing the number of hours taken e.g. 5.43)\n"
   ]
  },
  {
   "cell_type": "code",
   "execution_count": null,
   "id": "cbc91b59-0048-475d-a679-8e976ba0c7b7",
   "metadata": {},
   "outputs": [],
   "source": [
    "hrs = 4.5"
   ]
  },
  {
   "cell_type": "markdown",
   "id": "4dbefa77-e4a4-48ec-8049-e52b40fff463",
   "metadata": {},
   "source": [
    "2) Difficulty of each task/question from 1-5 (int or float)"
   ]
  },
  {
   "cell_type": "code",
   "execution_count": null,
   "id": "35321f8a-a156-4953-ba84-689b6e53a0b8",
   "metadata": {},
   "outputs": [],
   "source": [
    "T1 = 2 # Student Task 1. Training a simple model for Cartpole environment\n",
    "Q1_1 = 1 # Student Question 1.1 Learning\n",
    "T2 = 4 # Student Task 2. Investigating training performance\n",
    "Q2_1 = 2 # Student Question 2.1 Analyzing the training performance\n",
    "Q2_2 = 1 # Stochasticity\n",
    "T3 = 4 # Student Task 3. Reward function\n",
    "T4 = 3 # Student Task 4. Visualize behavior\n",
    "Q4_1 = 1 # Student Question 4.1 Achieved performance\n",
    "Q4_2 = 2 # Student Question 4.2 Analysis of behavior\n",
    "Q4_3 = 3 # Student Question 4.3 Checking your knowledge about RL"
   ]
  },
  {
   "cell_type": "markdown",
   "id": "ce4983ba-5031-460d-bdb3-e7cd708ed203",
   "metadata": {},
   "source": [
    "3) How well did you understand the content of the task/question from 1-5? (int or float)\n"
   ]
  },
  {
   "cell_type": "code",
   "execution_count": null,
   "id": "6ed5d535-89b1-4852-81ef-541a0e1d6dcd",
   "metadata": {},
   "outputs": [],
   "source": [
    "T1 = 4 # Student Task 1. Training a simple model for Cartpole environment\n",
    "Q1_1 = 5 # Student Question 1.1 Learning\n",
    "T2 = 2 # Student Task 2. Investigating training performance\n",
    "Q2_1 = 4 # Student Question 2.1 Analyzing the training performance\n",
    "Q2_2 = 4 # Stochasticity\n",
    "T3 = 3 # Student Task 3. Reward function\n",
    "T4 = 3 # Student Task 4. Visualize behavior\n",
    "Q4_1 = 5 # Student Question 4.1 Achieved performance\n",
    "Q4_2 = 3 # Student Question 4.2 Analysis of behavior\n",
    "Q4_3 = 3 # Student Question 4.3 Checking your knowledge about RL"
   ]
  },
  {
   "cell_type": "markdown",
   "id": "f7670bd2-6bff-418a-bf25-fabf1a3e5396",
   "metadata": {},
   "source": [
    "4) General feedback. Consider questions like:\n",
    "\n",
    "    - Did the content of the lecture relate well with the assignment?\n",
    "    - To what extent did you find the material to be potentially useful for your research and studies?\n",
    "    \n",
    "And other feedback you think is worth including. Type in the box below"
   ]
  },
  {
   "cell_type": "markdown",
   "id": "463630b4-2c2f-4926-bd4e-f7d280744d5e",
   "metadata": {},
   "source": [
    "It was interesting to dive deep into practical coding example, but might result hard to understand the code at first glance"
   ]
  },
  {
   "cell_type": "markdown",
   "id": "e4330ed5-2f15-4580-bf05-34e9aaf0004c",
   "metadata": {
    "tags": []
   },
   "source": [
    "# References <a id='5.'></a>\n",
    "\n",
    "[1] Sutton, Richard S., and Andrew G. Barto. \"Reinforcement Learning: An Introduction (in progress).\" London, England (2017). http://incompleteideas.net/book/RLbook2018.pdf"
   ]
  },
  {
   "cell_type": "code",
   "execution_count": null,
   "id": "69d837ff-dea1-4e5a-84a1-c1771fe296a1",
   "metadata": {},
   "outputs": [],
   "source": []
  }
 ],
 "metadata": {
  "kernelspec": {
   "display_name": "Python 3",
   "language": "python",
   "name": "python3"
  },
  "language_info": {
   "codemirror_mode": {
    "name": "ipython",
    "version": 3
   },
   "file_extension": ".py",
   "mimetype": "text/x-python",
   "name": "python",
   "nbconvert_exporter": "python",
   "pygments_lexer": "ipython3",
   "version": "3.10.12"
  }
 },
 "nbformat": 4,
 "nbformat_minor": 5
}
